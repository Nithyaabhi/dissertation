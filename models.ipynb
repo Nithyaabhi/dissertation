{
 "cells": [
  {
   "cell_type": "code",
   "execution_count": 2,
   "id": "a3a19d59",
   "metadata": {},
   "outputs": [],
   "source": [
    "import numpy as np\n",
    "import pandas as pd\n",
    "import requests\n",
    "from datetime import datetime, timedelta\n",
    "import matplotlib.pyplot as plt\n",
    "import seaborn as sns\n",
    "import plotly.express as px\n",
    "from sklearn.preprocessing import MinMaxScaler\n",
    "from tensorflow.keras.models import Sequential\n",
    "from tensorflow.keras.layers import LSTM, Dense,InputLayer\n",
    "from sklearn.model_selection import train_test_split\n",
    "from sklearn.metrics import accuracy_score,mean_squared_error, mean_absolute_error, r2_score\n",
    "from tensorflow.keras.optimizers import Adam\n",
    "import statsmodels.api as sm\n",
    "from sklearn.feature_selection import RFE\n",
    "from sklearn.ensemble import RandomForestRegressor\n",
    "from sklearn.ensemble import GradientBoostingRegressor\n",
    "from sklearn.model_selection import GridSearchCV\n",
    "from sklearn.linear_model import LinearRegression\n",
    "from sklearn.neural_network import MLPRegressor\n",
    "from sklearn.preprocessing import StandardScaler\n",
    "import pmdarima as pm\n",
    "from statsmodels.tsa.stattools import adfuller\n",
    "from statsmodels.tsa.api import VAR\n",
    "from statsmodels.tsa.vector_ar.var_model import VARResults"
   ]
  },
  {
   "cell_type": "code",
   "execution_count": 46,
   "id": "ce5c99f2",
   "metadata": {},
   "outputs": [
    {
     "data": {
      "text/html": [
       "<div>\n",
       "<style scoped>\n",
       "    .dataframe tbody tr th:only-of-type {\n",
       "        vertical-align: middle;\n",
       "    }\n",
       "\n",
       "    .dataframe tbody tr th {\n",
       "        vertical-align: top;\n",
       "    }\n",
       "\n",
       "    .dataframe thead th {\n",
       "        text-align: right;\n",
       "    }\n",
       "</style>\n",
       "<table border=\"1\" class=\"dataframe\">\n",
       "  <thead>\n",
       "    <tr style=\"text-align: right;\">\n",
       "      <th></th>\n",
       "      <th>datetime</th>\n",
       "      <th>hour</th>\n",
       "      <th>midnight_flag</th>\n",
       "      <th>part_of_day</th>\n",
       "      <th>humidity</th>\n",
       "      <th>feelslike</th>\n",
       "      <th>temp</th>\n",
       "      <th>sensor_temp</th>\n",
       "      <th>Consumption (kWh)</th>\n",
       "    </tr>\n",
       "  </thead>\n",
       "  <tbody>\n",
       "    <tr>\n",
       "      <th>0</th>\n",
       "      <td>2023-11-02 19:00:00</td>\n",
       "      <td>19</td>\n",
       "      <td>False</td>\n",
       "      <td>2</td>\n",
       "      <td>97.650</td>\n",
       "      <td>5.30</td>\n",
       "      <td>8.50</td>\n",
       "      <td>20.913295</td>\n",
       "      <td>0.92</td>\n",
       "    </tr>\n",
       "    <tr>\n",
       "      <th>1</th>\n",
       "      <td>2023-11-02 19:30:00</td>\n",
       "      <td>19</td>\n",
       "      <td>False</td>\n",
       "      <td>2</td>\n",
       "      <td>96.495</td>\n",
       "      <td>5.10</td>\n",
       "      <td>8.45</td>\n",
       "      <td>20.971098</td>\n",
       "      <td>3.14</td>\n",
       "    </tr>\n",
       "    <tr>\n",
       "      <th>2</th>\n",
       "      <td>2023-11-02 20:00:00</td>\n",
       "      <td>20</td>\n",
       "      <td>False</td>\n",
       "      <td>2</td>\n",
       "      <td>95.340</td>\n",
       "      <td>4.90</td>\n",
       "      <td>8.40</td>\n",
       "      <td>21.028902</td>\n",
       "      <td>0.96</td>\n",
       "    </tr>\n",
       "    <tr>\n",
       "      <th>3</th>\n",
       "      <td>2023-11-02 20:30:00</td>\n",
       "      <td>20</td>\n",
       "      <td>False</td>\n",
       "      <td>2</td>\n",
       "      <td>94.745</td>\n",
       "      <td>4.85</td>\n",
       "      <td>8.35</td>\n",
       "      <td>21.052023</td>\n",
       "      <td>0.92</td>\n",
       "    </tr>\n",
       "    <tr>\n",
       "      <th>4</th>\n",
       "      <td>2023-11-02 21:00:00</td>\n",
       "      <td>21</td>\n",
       "      <td>False</td>\n",
       "      <td>6</td>\n",
       "      <td>94.150</td>\n",
       "      <td>4.80</td>\n",
       "      <td>8.30</td>\n",
       "      <td>21.075145</td>\n",
       "      <td>0.88</td>\n",
       "    </tr>\n",
       "    <tr>\n",
       "      <th>...</th>\n",
       "      <td>...</td>\n",
       "      <td>...</td>\n",
       "      <td>...</td>\n",
       "      <td>...</td>\n",
       "      <td>...</td>\n",
       "      <td>...</td>\n",
       "      <td>...</td>\n",
       "      <td>...</td>\n",
       "      <td>...</td>\n",
       "    </tr>\n",
       "    <tr>\n",
       "      <th>1300</th>\n",
       "      <td>2023-11-29 21:00:00</td>\n",
       "      <td>21</td>\n",
       "      <td>False</td>\n",
       "      <td>6</td>\n",
       "      <td>90.380</td>\n",
       "      <td>-4.60</td>\n",
       "      <td>-1.90</td>\n",
       "      <td>25.606936</td>\n",
       "      <td>0.88</td>\n",
       "    </tr>\n",
       "    <tr>\n",
       "      <th>1301</th>\n",
       "      <td>2023-11-29 21:30:00</td>\n",
       "      <td>21</td>\n",
       "      <td>False</td>\n",
       "      <td>6</td>\n",
       "      <td>89.740</td>\n",
       "      <td>-4.55</td>\n",
       "      <td>-1.85</td>\n",
       "      <td>25.583815</td>\n",
       "      <td>0.84</td>\n",
       "    </tr>\n",
       "    <tr>\n",
       "      <th>1302</th>\n",
       "      <td>2023-11-29 22:00:00</td>\n",
       "      <td>22</td>\n",
       "      <td>False</td>\n",
       "      <td>6</td>\n",
       "      <td>89.100</td>\n",
       "      <td>-4.50</td>\n",
       "      <td>-1.80</td>\n",
       "      <td>25.560694</td>\n",
       "      <td>0.05</td>\n",
       "    </tr>\n",
       "    <tr>\n",
       "      <th>1303</th>\n",
       "      <td>2023-11-29 22:30:00</td>\n",
       "      <td>22</td>\n",
       "      <td>False</td>\n",
       "      <td>6</td>\n",
       "      <td>90.105</td>\n",
       "      <td>-4.85</td>\n",
       "      <td>-1.65</td>\n",
       "      <td>25.606936</td>\n",
       "      <td>0.18</td>\n",
       "    </tr>\n",
       "    <tr>\n",
       "      <th>1304</th>\n",
       "      <td>2023-11-29 23:00:00</td>\n",
       "      <td>23</td>\n",
       "      <td>False</td>\n",
       "      <td>6</td>\n",
       "      <td>91.110</td>\n",
       "      <td>-5.20</td>\n",
       "      <td>-1.50</td>\n",
       "      <td>25.653179</td>\n",
       "      <td>0.30</td>\n",
       "    </tr>\n",
       "  </tbody>\n",
       "</table>\n",
       "<p>1305 rows × 9 columns</p>\n",
       "</div>"
      ],
      "text/plain": [
       "                 datetime  hour  midnight_flag  part_of_day  humidity  \\\n",
       "0     2023-11-02 19:00:00    19          False            2    97.650   \n",
       "1     2023-11-02 19:30:00    19          False            2    96.495   \n",
       "2     2023-11-02 20:00:00    20          False            2    95.340   \n",
       "3     2023-11-02 20:30:00    20          False            2    94.745   \n",
       "4     2023-11-02 21:00:00    21          False            6    94.150   \n",
       "...                   ...   ...            ...          ...       ...   \n",
       "1300  2023-11-29 21:00:00    21          False            6    90.380   \n",
       "1301  2023-11-29 21:30:00    21          False            6    89.740   \n",
       "1302  2023-11-29 22:00:00    22          False            6    89.100   \n",
       "1303  2023-11-29 22:30:00    22          False            6    90.105   \n",
       "1304  2023-11-29 23:00:00    23          False            6    91.110   \n",
       "\n",
       "      feelslike  temp  sensor_temp  Consumption (kWh)  \n",
       "0          5.30  8.50    20.913295               0.92  \n",
       "1          5.10  8.45    20.971098               3.14  \n",
       "2          4.90  8.40    21.028902               0.96  \n",
       "3          4.85  8.35    21.052023               0.92  \n",
       "4          4.80  8.30    21.075145               0.88  \n",
       "...         ...   ...          ...                ...  \n",
       "1300      -4.60 -1.90    25.606936               0.88  \n",
       "1301      -4.55 -1.85    25.583815               0.84  \n",
       "1302      -4.50 -1.80    25.560694               0.05  \n",
       "1303      -4.85 -1.65    25.606936               0.18  \n",
       "1304      -5.20 -1.50    25.653179               0.30  \n",
       "\n",
       "[1305 rows x 9 columns]"
      ]
     },
     "execution_count": 46,
     "metadata": {},
     "output_type": "execute_result"
    }
   ],
   "source": [
    "df= pd.read_csv('energy/energy/bestFeatures.csv')\n",
    "df"
   ]
  },
  {
   "cell_type": "code",
   "execution_count": 47,
   "id": "314ab97b",
   "metadata": {},
   "outputs": [
    {
     "name": "stdout",
     "output_type": "stream",
     "text": [
      "<class 'pandas.core.frame.DataFrame'>\n",
      "RangeIndex: 1305 entries, 0 to 1304\n",
      "Data columns (total 9 columns):\n",
      " #   Column             Non-Null Count  Dtype  \n",
      "---  ------             --------------  -----  \n",
      " 0   datetime           1305 non-null   object \n",
      " 1   hour               1305 non-null   int64  \n",
      " 2   midnight_flag      1305 non-null   bool   \n",
      " 3   part_of_day        1305 non-null   int64  \n",
      " 4   humidity           1305 non-null   float64\n",
      " 5   feelslike          1305 non-null   float64\n",
      " 6   temp               1305 non-null   float64\n",
      " 7   sensor_temp        1305 non-null   float64\n",
      " 8   Consumption (kWh)  1305 non-null   float64\n",
      "dtypes: bool(1), float64(5), int64(2), object(1)\n",
      "memory usage: 83.0+ KB\n"
     ]
    }
   ],
   "source": [
    "df.info()"
   ]
  },
  {
   "cell_type": "code",
   "execution_count": 48,
   "id": "eee9cf97",
   "metadata": {},
   "outputs": [
    {
     "data": {
      "text/plain": [
       "datetime             0\n",
       "hour                 0\n",
       "midnight_flag        0\n",
       "part_of_day          0\n",
       "humidity             0\n",
       "feelslike            0\n",
       "temp                 0\n",
       "sensor_temp          0\n",
       "Consumption (kWh)    0\n",
       "dtype: int64"
      ]
     },
     "execution_count": 48,
     "metadata": {},
     "output_type": "execute_result"
    }
   ],
   "source": [
    "df.isnull().sum()"
   ]
  },
  {
   "cell_type": "code",
   "execution_count": 49,
   "id": "7380d70b",
   "metadata": {},
   "outputs": [
    {
     "name": "stdout",
     "output_type": "stream",
     "text": [
      "            date  month  year      time\n",
      "0     2023-11-02     11  2023  19:00:00\n",
      "1     2023-11-02     11  2023  19:30:00\n",
      "2     2023-11-02     11  2023  20:00:00\n",
      "3     2023-11-02     11  2023  20:30:00\n",
      "4     2023-11-02     11  2023  21:00:00\n",
      "...          ...    ...   ...       ...\n",
      "1300  2023-11-29     11  2023  21:00:00\n",
      "1301  2023-11-29     11  2023  21:30:00\n",
      "1302  2023-11-29     11  2023  22:00:00\n",
      "1303  2023-11-29     11  2023  22:30:00\n",
      "1304  2023-11-29     11  2023  23:00:00\n",
      "\n",
      "[1305 rows x 4 columns]\n"
     ]
    }
   ],
   "source": [
    "import pandas as pd\n",
    "\n",
    "# Assuming your data is in a DataFrame called 'df'\n",
    "# Convert 'datetime' column to datetime format\n",
    "df['datetime'] = pd.to_datetime(df['datetime'])\n",
    "\n",
    "# Split 'datetime' into date, month, year, and time columns\n",
    "df['date'] = df['datetime'].dt.date\n",
    "df['month'] = df['datetime'].dt.month\n",
    "df['year'] = df['datetime'].dt.year\n",
    "df['time'] = df['datetime'].dt.time\n",
    "\n",
    "# Display the updated DataFrame\n",
    "print(df[['date', 'month', 'year', 'time']])\n"
   ]
  },
  {
   "cell_type": "code",
   "execution_count": 50,
   "id": "58f3a91f",
   "metadata": {},
   "outputs": [
    {
     "data": {
      "text/html": [
       "<div>\n",
       "<style scoped>\n",
       "    .dataframe tbody tr th:only-of-type {\n",
       "        vertical-align: middle;\n",
       "    }\n",
       "\n",
       "    .dataframe tbody tr th {\n",
       "        vertical-align: top;\n",
       "    }\n",
       "\n",
       "    .dataframe thead th {\n",
       "        text-align: right;\n",
       "    }\n",
       "</style>\n",
       "<table border=\"1\" class=\"dataframe\">\n",
       "  <thead>\n",
       "    <tr style=\"text-align: right;\">\n",
       "      <th></th>\n",
       "      <th>datetime</th>\n",
       "      <th>hour</th>\n",
       "      <th>midnight_flag</th>\n",
       "      <th>part_of_day</th>\n",
       "      <th>humidity</th>\n",
       "      <th>feelslike</th>\n",
       "      <th>temp</th>\n",
       "      <th>sensor_temp</th>\n",
       "      <th>Consumption (kWh)</th>\n",
       "      <th>date</th>\n",
       "      <th>month</th>\n",
       "      <th>year</th>\n",
       "      <th>time</th>\n",
       "    </tr>\n",
       "  </thead>\n",
       "  <tbody>\n",
       "    <tr>\n",
       "      <th>0</th>\n",
       "      <td>2023-11-02 19:00:00</td>\n",
       "      <td>19</td>\n",
       "      <td>False</td>\n",
       "      <td>2</td>\n",
       "      <td>97.650</td>\n",
       "      <td>5.30</td>\n",
       "      <td>8.50</td>\n",
       "      <td>20.913295</td>\n",
       "      <td>0.92</td>\n",
       "      <td>2023-11-02</td>\n",
       "      <td>11</td>\n",
       "      <td>2023</td>\n",
       "      <td>19:00:00</td>\n",
       "    </tr>\n",
       "    <tr>\n",
       "      <th>1</th>\n",
       "      <td>2023-11-02 19:30:00</td>\n",
       "      <td>19</td>\n",
       "      <td>False</td>\n",
       "      <td>2</td>\n",
       "      <td>96.495</td>\n",
       "      <td>5.10</td>\n",
       "      <td>8.45</td>\n",
       "      <td>20.971098</td>\n",
       "      <td>3.14</td>\n",
       "      <td>2023-11-02</td>\n",
       "      <td>11</td>\n",
       "      <td>2023</td>\n",
       "      <td>19:30:00</td>\n",
       "    </tr>\n",
       "    <tr>\n",
       "      <th>2</th>\n",
       "      <td>2023-11-02 20:00:00</td>\n",
       "      <td>20</td>\n",
       "      <td>False</td>\n",
       "      <td>2</td>\n",
       "      <td>95.340</td>\n",
       "      <td>4.90</td>\n",
       "      <td>8.40</td>\n",
       "      <td>21.028902</td>\n",
       "      <td>0.96</td>\n",
       "      <td>2023-11-02</td>\n",
       "      <td>11</td>\n",
       "      <td>2023</td>\n",
       "      <td>20:00:00</td>\n",
       "    </tr>\n",
       "    <tr>\n",
       "      <th>3</th>\n",
       "      <td>2023-11-02 20:30:00</td>\n",
       "      <td>20</td>\n",
       "      <td>False</td>\n",
       "      <td>2</td>\n",
       "      <td>94.745</td>\n",
       "      <td>4.85</td>\n",
       "      <td>8.35</td>\n",
       "      <td>21.052023</td>\n",
       "      <td>0.92</td>\n",
       "      <td>2023-11-02</td>\n",
       "      <td>11</td>\n",
       "      <td>2023</td>\n",
       "      <td>20:30:00</td>\n",
       "    </tr>\n",
       "    <tr>\n",
       "      <th>4</th>\n",
       "      <td>2023-11-02 21:00:00</td>\n",
       "      <td>21</td>\n",
       "      <td>False</td>\n",
       "      <td>6</td>\n",
       "      <td>94.150</td>\n",
       "      <td>4.80</td>\n",
       "      <td>8.30</td>\n",
       "      <td>21.075145</td>\n",
       "      <td>0.88</td>\n",
       "      <td>2023-11-02</td>\n",
       "      <td>11</td>\n",
       "      <td>2023</td>\n",
       "      <td>21:00:00</td>\n",
       "    </tr>\n",
       "    <tr>\n",
       "      <th>...</th>\n",
       "      <td>...</td>\n",
       "      <td>...</td>\n",
       "      <td>...</td>\n",
       "      <td>...</td>\n",
       "      <td>...</td>\n",
       "      <td>...</td>\n",
       "      <td>...</td>\n",
       "      <td>...</td>\n",
       "      <td>...</td>\n",
       "      <td>...</td>\n",
       "      <td>...</td>\n",
       "      <td>...</td>\n",
       "      <td>...</td>\n",
       "    </tr>\n",
       "    <tr>\n",
       "      <th>1300</th>\n",
       "      <td>2023-11-29 21:00:00</td>\n",
       "      <td>21</td>\n",
       "      <td>False</td>\n",
       "      <td>6</td>\n",
       "      <td>90.380</td>\n",
       "      <td>-4.60</td>\n",
       "      <td>-1.90</td>\n",
       "      <td>25.606936</td>\n",
       "      <td>0.88</td>\n",
       "      <td>2023-11-29</td>\n",
       "      <td>11</td>\n",
       "      <td>2023</td>\n",
       "      <td>21:00:00</td>\n",
       "    </tr>\n",
       "    <tr>\n",
       "      <th>1301</th>\n",
       "      <td>2023-11-29 21:30:00</td>\n",
       "      <td>21</td>\n",
       "      <td>False</td>\n",
       "      <td>6</td>\n",
       "      <td>89.740</td>\n",
       "      <td>-4.55</td>\n",
       "      <td>-1.85</td>\n",
       "      <td>25.583815</td>\n",
       "      <td>0.84</td>\n",
       "      <td>2023-11-29</td>\n",
       "      <td>11</td>\n",
       "      <td>2023</td>\n",
       "      <td>21:30:00</td>\n",
       "    </tr>\n",
       "    <tr>\n",
       "      <th>1302</th>\n",
       "      <td>2023-11-29 22:00:00</td>\n",
       "      <td>22</td>\n",
       "      <td>False</td>\n",
       "      <td>6</td>\n",
       "      <td>89.100</td>\n",
       "      <td>-4.50</td>\n",
       "      <td>-1.80</td>\n",
       "      <td>25.560694</td>\n",
       "      <td>0.05</td>\n",
       "      <td>2023-11-29</td>\n",
       "      <td>11</td>\n",
       "      <td>2023</td>\n",
       "      <td>22:00:00</td>\n",
       "    </tr>\n",
       "    <tr>\n",
       "      <th>1303</th>\n",
       "      <td>2023-11-29 22:30:00</td>\n",
       "      <td>22</td>\n",
       "      <td>False</td>\n",
       "      <td>6</td>\n",
       "      <td>90.105</td>\n",
       "      <td>-4.85</td>\n",
       "      <td>-1.65</td>\n",
       "      <td>25.606936</td>\n",
       "      <td>0.18</td>\n",
       "      <td>2023-11-29</td>\n",
       "      <td>11</td>\n",
       "      <td>2023</td>\n",
       "      <td>22:30:00</td>\n",
       "    </tr>\n",
       "    <tr>\n",
       "      <th>1304</th>\n",
       "      <td>2023-11-29 23:00:00</td>\n",
       "      <td>23</td>\n",
       "      <td>False</td>\n",
       "      <td>6</td>\n",
       "      <td>91.110</td>\n",
       "      <td>-5.20</td>\n",
       "      <td>-1.50</td>\n",
       "      <td>25.653179</td>\n",
       "      <td>0.30</td>\n",
       "      <td>2023-11-29</td>\n",
       "      <td>11</td>\n",
       "      <td>2023</td>\n",
       "      <td>23:00:00</td>\n",
       "    </tr>\n",
       "  </tbody>\n",
       "</table>\n",
       "<p>1305 rows × 13 columns</p>\n",
       "</div>"
      ],
      "text/plain": [
       "                datetime  hour  midnight_flag  part_of_day  humidity  \\\n",
       "0    2023-11-02 19:00:00    19          False            2    97.650   \n",
       "1    2023-11-02 19:30:00    19          False            2    96.495   \n",
       "2    2023-11-02 20:00:00    20          False            2    95.340   \n",
       "3    2023-11-02 20:30:00    20          False            2    94.745   \n",
       "4    2023-11-02 21:00:00    21          False            6    94.150   \n",
       "...                  ...   ...            ...          ...       ...   \n",
       "1300 2023-11-29 21:00:00    21          False            6    90.380   \n",
       "1301 2023-11-29 21:30:00    21          False            6    89.740   \n",
       "1302 2023-11-29 22:00:00    22          False            6    89.100   \n",
       "1303 2023-11-29 22:30:00    22          False            6    90.105   \n",
       "1304 2023-11-29 23:00:00    23          False            6    91.110   \n",
       "\n",
       "      feelslike  temp  sensor_temp  Consumption (kWh)        date  month  \\\n",
       "0          5.30  8.50    20.913295               0.92  2023-11-02     11   \n",
       "1          5.10  8.45    20.971098               3.14  2023-11-02     11   \n",
       "2          4.90  8.40    21.028902               0.96  2023-11-02     11   \n",
       "3          4.85  8.35    21.052023               0.92  2023-11-02     11   \n",
       "4          4.80  8.30    21.075145               0.88  2023-11-02     11   \n",
       "...         ...   ...          ...                ...         ...    ...   \n",
       "1300      -4.60 -1.90    25.606936               0.88  2023-11-29     11   \n",
       "1301      -4.55 -1.85    25.583815               0.84  2023-11-29     11   \n",
       "1302      -4.50 -1.80    25.560694               0.05  2023-11-29     11   \n",
       "1303      -4.85 -1.65    25.606936               0.18  2023-11-29     11   \n",
       "1304      -5.20 -1.50    25.653179               0.30  2023-11-29     11   \n",
       "\n",
       "      year      time  \n",
       "0     2023  19:00:00  \n",
       "1     2023  19:30:00  \n",
       "2     2023  20:00:00  \n",
       "3     2023  20:30:00  \n",
       "4     2023  21:00:00  \n",
       "...    ...       ...  \n",
       "1300  2023  21:00:00  \n",
       "1301  2023  21:30:00  \n",
       "1302  2023  22:00:00  \n",
       "1303  2023  22:30:00  \n",
       "1304  2023  23:00:00  \n",
       "\n",
       "[1305 rows x 13 columns]"
      ]
     },
     "execution_count": 50,
     "metadata": {},
     "output_type": "execute_result"
    }
   ],
   "source": [
    "df"
   ]
  },
  {
   "cell_type": "code",
   "execution_count": 42,
   "id": "40575f46",
   "metadata": {},
   "outputs": [
    {
     "data": {
      "application/vnd.plotly.v1+json": {
       "config": {
        "plotlyServerURL": "https://plot.ly"
       },
       "data": [
        {
         "alignmentgroup": "True",
         "hovertemplate": "Time of Day=%{x}<br>Average Energy Consumption (kWh)=%{y}<extra></extra>",
         "legendgroup": "Daytime",
         "marker": {
          "color": "lightgreen",
          "pattern": {
           "shape": ""
          }
         },
         "name": "Daytime",
         "offsetgroup": "Daytime",
         "orientation": "v",
         "showlegend": true,
         "textposition": "auto",
         "type": "bar",
         "x": [
          "Daytime"
         ],
         "xaxis": "x",
         "y": [
          0.6229287598944591
         ],
         "yaxis": "y"
        },
        {
         "alignmentgroup": "True",
         "hovertemplate": "Time of Day=%{x}<br>Average Energy Consumption (kWh)=%{y}<extra></extra>",
         "legendgroup": "Nighttime",
         "marker": {
          "color": "skyblue",
          "pattern": {
           "shape": ""
          }
         },
         "name": "Nighttime",
         "offsetgroup": "Nighttime",
         "orientation": "v",
         "showlegend": true,
         "textposition": "auto",
         "type": "bar",
         "x": [
          "Nighttime"
         ],
         "xaxis": "x",
         "y": [
          0.4245338208409506
         ],
         "yaxis": "y"
        }
       ],
       "layout": {
        "barmode": "relative",
        "legend": {
         "title": {
          "text": "Time of Day"
         },
         "tracegroupgap": 0
        },
        "template": {
         "data": {
          "bar": [
           {
            "error_x": {
             "color": "#2a3f5f"
            },
            "error_y": {
             "color": "#2a3f5f"
            },
            "marker": {
             "line": {
              "color": "#E5ECF6",
              "width": 0.5
             },
             "pattern": {
              "fillmode": "overlay",
              "size": 10,
              "solidity": 0.2
             }
            },
            "type": "bar"
           }
          ],
          "barpolar": [
           {
            "marker": {
             "line": {
              "color": "#E5ECF6",
              "width": 0.5
             },
             "pattern": {
              "fillmode": "overlay",
              "size": 10,
              "solidity": 0.2
             }
            },
            "type": "barpolar"
           }
          ],
          "carpet": [
           {
            "aaxis": {
             "endlinecolor": "#2a3f5f",
             "gridcolor": "white",
             "linecolor": "white",
             "minorgridcolor": "white",
             "startlinecolor": "#2a3f5f"
            },
            "baxis": {
             "endlinecolor": "#2a3f5f",
             "gridcolor": "white",
             "linecolor": "white",
             "minorgridcolor": "white",
             "startlinecolor": "#2a3f5f"
            },
            "type": "carpet"
           }
          ],
          "choropleth": [
           {
            "colorbar": {
             "outlinewidth": 0,
             "ticks": ""
            },
            "type": "choropleth"
           }
          ],
          "contour": [
           {
            "colorbar": {
             "outlinewidth": 0,
             "ticks": ""
            },
            "colorscale": [
             [
              0,
              "#0d0887"
             ],
             [
              0.1111111111111111,
              "#46039f"
             ],
             [
              0.2222222222222222,
              "#7201a8"
             ],
             [
              0.3333333333333333,
              "#9c179e"
             ],
             [
              0.4444444444444444,
              "#bd3786"
             ],
             [
              0.5555555555555556,
              "#d8576b"
             ],
             [
              0.6666666666666666,
              "#ed7953"
             ],
             [
              0.7777777777777778,
              "#fb9f3a"
             ],
             [
              0.8888888888888888,
              "#fdca26"
             ],
             [
              1,
              "#f0f921"
             ]
            ],
            "type": "contour"
           }
          ],
          "contourcarpet": [
           {
            "colorbar": {
             "outlinewidth": 0,
             "ticks": ""
            },
            "type": "contourcarpet"
           }
          ],
          "heatmap": [
           {
            "colorbar": {
             "outlinewidth": 0,
             "ticks": ""
            },
            "colorscale": [
             [
              0,
              "#0d0887"
             ],
             [
              0.1111111111111111,
              "#46039f"
             ],
             [
              0.2222222222222222,
              "#7201a8"
             ],
             [
              0.3333333333333333,
              "#9c179e"
             ],
             [
              0.4444444444444444,
              "#bd3786"
             ],
             [
              0.5555555555555556,
              "#d8576b"
             ],
             [
              0.6666666666666666,
              "#ed7953"
             ],
             [
              0.7777777777777778,
              "#fb9f3a"
             ],
             [
              0.8888888888888888,
              "#fdca26"
             ],
             [
              1,
              "#f0f921"
             ]
            ],
            "type": "heatmap"
           }
          ],
          "heatmapgl": [
           {
            "colorbar": {
             "outlinewidth": 0,
             "ticks": ""
            },
            "colorscale": [
             [
              0,
              "#0d0887"
             ],
             [
              0.1111111111111111,
              "#46039f"
             ],
             [
              0.2222222222222222,
              "#7201a8"
             ],
             [
              0.3333333333333333,
              "#9c179e"
             ],
             [
              0.4444444444444444,
              "#bd3786"
             ],
             [
              0.5555555555555556,
              "#d8576b"
             ],
             [
              0.6666666666666666,
              "#ed7953"
             ],
             [
              0.7777777777777778,
              "#fb9f3a"
             ],
             [
              0.8888888888888888,
              "#fdca26"
             ],
             [
              1,
              "#f0f921"
             ]
            ],
            "type": "heatmapgl"
           }
          ],
          "histogram": [
           {
            "marker": {
             "pattern": {
              "fillmode": "overlay",
              "size": 10,
              "solidity": 0.2
             }
            },
            "type": "histogram"
           }
          ],
          "histogram2d": [
           {
            "colorbar": {
             "outlinewidth": 0,
             "ticks": ""
            },
            "colorscale": [
             [
              0,
              "#0d0887"
             ],
             [
              0.1111111111111111,
              "#46039f"
             ],
             [
              0.2222222222222222,
              "#7201a8"
             ],
             [
              0.3333333333333333,
              "#9c179e"
             ],
             [
              0.4444444444444444,
              "#bd3786"
             ],
             [
              0.5555555555555556,
              "#d8576b"
             ],
             [
              0.6666666666666666,
              "#ed7953"
             ],
             [
              0.7777777777777778,
              "#fb9f3a"
             ],
             [
              0.8888888888888888,
              "#fdca26"
             ],
             [
              1,
              "#f0f921"
             ]
            ],
            "type": "histogram2d"
           }
          ],
          "histogram2dcontour": [
           {
            "colorbar": {
             "outlinewidth": 0,
             "ticks": ""
            },
            "colorscale": [
             [
              0,
              "#0d0887"
             ],
             [
              0.1111111111111111,
              "#46039f"
             ],
             [
              0.2222222222222222,
              "#7201a8"
             ],
             [
              0.3333333333333333,
              "#9c179e"
             ],
             [
              0.4444444444444444,
              "#bd3786"
             ],
             [
              0.5555555555555556,
              "#d8576b"
             ],
             [
              0.6666666666666666,
              "#ed7953"
             ],
             [
              0.7777777777777778,
              "#fb9f3a"
             ],
             [
              0.8888888888888888,
              "#fdca26"
             ],
             [
              1,
              "#f0f921"
             ]
            ],
            "type": "histogram2dcontour"
           }
          ],
          "mesh3d": [
           {
            "colorbar": {
             "outlinewidth": 0,
             "ticks": ""
            },
            "type": "mesh3d"
           }
          ],
          "parcoords": [
           {
            "line": {
             "colorbar": {
              "outlinewidth": 0,
              "ticks": ""
             }
            },
            "type": "parcoords"
           }
          ],
          "pie": [
           {
            "automargin": true,
            "type": "pie"
           }
          ],
          "scatter": [
           {
            "fillpattern": {
             "fillmode": "overlay",
             "size": 10,
             "solidity": 0.2
            },
            "type": "scatter"
           }
          ],
          "scatter3d": [
           {
            "line": {
             "colorbar": {
              "outlinewidth": 0,
              "ticks": ""
             }
            },
            "marker": {
             "colorbar": {
              "outlinewidth": 0,
              "ticks": ""
             }
            },
            "type": "scatter3d"
           }
          ],
          "scattercarpet": [
           {
            "marker": {
             "colorbar": {
              "outlinewidth": 0,
              "ticks": ""
             }
            },
            "type": "scattercarpet"
           }
          ],
          "scattergeo": [
           {
            "marker": {
             "colorbar": {
              "outlinewidth": 0,
              "ticks": ""
             }
            },
            "type": "scattergeo"
           }
          ],
          "scattergl": [
           {
            "marker": {
             "colorbar": {
              "outlinewidth": 0,
              "ticks": ""
             }
            },
            "type": "scattergl"
           }
          ],
          "scattermapbox": [
           {
            "marker": {
             "colorbar": {
              "outlinewidth": 0,
              "ticks": ""
             }
            },
            "type": "scattermapbox"
           }
          ],
          "scatterpolar": [
           {
            "marker": {
             "colorbar": {
              "outlinewidth": 0,
              "ticks": ""
             }
            },
            "type": "scatterpolar"
           }
          ],
          "scatterpolargl": [
           {
            "marker": {
             "colorbar": {
              "outlinewidth": 0,
              "ticks": ""
             }
            },
            "type": "scatterpolargl"
           }
          ],
          "scatterternary": [
           {
            "marker": {
             "colorbar": {
              "outlinewidth": 0,
              "ticks": ""
             }
            },
            "type": "scatterternary"
           }
          ],
          "surface": [
           {
            "colorbar": {
             "outlinewidth": 0,
             "ticks": ""
            },
            "colorscale": [
             [
              0,
              "#0d0887"
             ],
             [
              0.1111111111111111,
              "#46039f"
             ],
             [
              0.2222222222222222,
              "#7201a8"
             ],
             [
              0.3333333333333333,
              "#9c179e"
             ],
             [
              0.4444444444444444,
              "#bd3786"
             ],
             [
              0.5555555555555556,
              "#d8576b"
             ],
             [
              0.6666666666666666,
              "#ed7953"
             ],
             [
              0.7777777777777778,
              "#fb9f3a"
             ],
             [
              0.8888888888888888,
              "#fdca26"
             ],
             [
              1,
              "#f0f921"
             ]
            ],
            "type": "surface"
           }
          ],
          "table": [
           {
            "cells": {
             "fill": {
              "color": "#EBF0F8"
             },
             "line": {
              "color": "white"
             }
            },
            "header": {
             "fill": {
              "color": "#C8D4E3"
             },
             "line": {
              "color": "white"
             }
            },
            "type": "table"
           }
          ]
         },
         "layout": {
          "annotationdefaults": {
           "arrowcolor": "#2a3f5f",
           "arrowhead": 0,
           "arrowwidth": 1
          },
          "autotypenumbers": "strict",
          "coloraxis": {
           "colorbar": {
            "outlinewidth": 0,
            "ticks": ""
           }
          },
          "colorscale": {
           "diverging": [
            [
             0,
             "#8e0152"
            ],
            [
             0.1,
             "#c51b7d"
            ],
            [
             0.2,
             "#de77ae"
            ],
            [
             0.3,
             "#f1b6da"
            ],
            [
             0.4,
             "#fde0ef"
            ],
            [
             0.5,
             "#f7f7f7"
            ],
            [
             0.6,
             "#e6f5d0"
            ],
            [
             0.7,
             "#b8e186"
            ],
            [
             0.8,
             "#7fbc41"
            ],
            [
             0.9,
             "#4d9221"
            ],
            [
             1,
             "#276419"
            ]
           ],
           "sequential": [
            [
             0,
             "#0d0887"
            ],
            [
             0.1111111111111111,
             "#46039f"
            ],
            [
             0.2222222222222222,
             "#7201a8"
            ],
            [
             0.3333333333333333,
             "#9c179e"
            ],
            [
             0.4444444444444444,
             "#bd3786"
            ],
            [
             0.5555555555555556,
             "#d8576b"
            ],
            [
             0.6666666666666666,
             "#ed7953"
            ],
            [
             0.7777777777777778,
             "#fb9f3a"
            ],
            [
             0.8888888888888888,
             "#fdca26"
            ],
            [
             1,
             "#f0f921"
            ]
           ],
           "sequentialminus": [
            [
             0,
             "#0d0887"
            ],
            [
             0.1111111111111111,
             "#46039f"
            ],
            [
             0.2222222222222222,
             "#7201a8"
            ],
            [
             0.3333333333333333,
             "#9c179e"
            ],
            [
             0.4444444444444444,
             "#bd3786"
            ],
            [
             0.5555555555555556,
             "#d8576b"
            ],
            [
             0.6666666666666666,
             "#ed7953"
            ],
            [
             0.7777777777777778,
             "#fb9f3a"
            ],
            [
             0.8888888888888888,
             "#fdca26"
            ],
            [
             1,
             "#f0f921"
            ]
           ]
          },
          "colorway": [
           "#636efa",
           "#EF553B",
           "#00cc96",
           "#ab63fa",
           "#FFA15A",
           "#19d3f3",
           "#FF6692",
           "#B6E880",
           "#FF97FF",
           "#FECB52"
          ],
          "font": {
           "color": "#2a3f5f"
          },
          "geo": {
           "bgcolor": "white",
           "lakecolor": "white",
           "landcolor": "#E5ECF6",
           "showlakes": true,
           "showland": true,
           "subunitcolor": "white"
          },
          "hoverlabel": {
           "align": "left"
          },
          "hovermode": "closest",
          "mapbox": {
           "style": "light"
          },
          "paper_bgcolor": "white",
          "plot_bgcolor": "#E5ECF6",
          "polar": {
           "angularaxis": {
            "gridcolor": "white",
            "linecolor": "white",
            "ticks": ""
           },
           "bgcolor": "#E5ECF6",
           "radialaxis": {
            "gridcolor": "white",
            "linecolor": "white",
            "ticks": ""
           }
          },
          "scene": {
           "xaxis": {
            "backgroundcolor": "#E5ECF6",
            "gridcolor": "white",
            "gridwidth": 2,
            "linecolor": "white",
            "showbackground": true,
            "ticks": "",
            "zerolinecolor": "white"
           },
           "yaxis": {
            "backgroundcolor": "#E5ECF6",
            "gridcolor": "white",
            "gridwidth": 2,
            "linecolor": "white",
            "showbackground": true,
            "ticks": "",
            "zerolinecolor": "white"
           },
           "zaxis": {
            "backgroundcolor": "#E5ECF6",
            "gridcolor": "white",
            "gridwidth": 2,
            "linecolor": "white",
            "showbackground": true,
            "ticks": "",
            "zerolinecolor": "white"
           }
          },
          "shapedefaults": {
           "line": {
            "color": "#2a3f5f"
           }
          },
          "ternary": {
           "aaxis": {
            "gridcolor": "white",
            "linecolor": "white",
            "ticks": ""
           },
           "baxis": {
            "gridcolor": "white",
            "linecolor": "white",
            "ticks": ""
           },
           "bgcolor": "#E5ECF6",
           "caxis": {
            "gridcolor": "white",
            "linecolor": "white",
            "ticks": ""
           }
          },
          "title": {
           "x": 0.05
          },
          "xaxis": {
           "automargin": true,
           "gridcolor": "white",
           "linecolor": "white",
           "ticks": "",
           "title": {
            "standoff": 15
           },
           "zerolinecolor": "white",
           "zerolinewidth": 2
          },
          "yaxis": {
           "automargin": true,
           "gridcolor": "white",
           "linecolor": "white",
           "ticks": "",
           "title": {
            "standoff": 15
           },
           "zerolinecolor": "white",
           "zerolinewidth": 2
          }
         }
        },
        "title": {
         "text": "Average Energy Consumption During Daytime and Nighttime"
        },
        "xaxis": {
         "anchor": "y",
         "categoryarray": [
          "Daytime",
          "Nighttime"
         ],
         "categoryorder": "array",
         "domain": [
          0,
          1
         ],
         "title": {
          "text": "Time of Day"
         }
        },
        "yaxis": {
         "anchor": "x",
         "domain": [
          0,
          1
         ],
         "title": {
          "text": "Average Energy Consumption (kWh)"
         }
        }
       }
      },
      "text/html": [
       "<div>                            <div id=\"726359c9-c9fa-4b6a-a7d2-3baaea04e259\" class=\"plotly-graph-div\" style=\"height:525px; width:100%;\"></div>            <script type=\"text/javascript\">                require([\"plotly\"], function(Plotly) {                    window.PLOTLYENV=window.PLOTLYENV || {};                                    if (document.getElementById(\"726359c9-c9fa-4b6a-a7d2-3baaea04e259\")) {                    Plotly.newPlot(                        \"726359c9-c9fa-4b6a-a7d2-3baaea04e259\",                        [{\"alignmentgroup\":\"True\",\"hovertemplate\":\"Time of Day=%{x}<br>Average Energy Consumption (kWh)=%{y}<extra></extra>\",\"legendgroup\":\"Daytime\",\"marker\":{\"color\":\"lightgreen\",\"pattern\":{\"shape\":\"\"}},\"name\":\"Daytime\",\"offsetgroup\":\"Daytime\",\"orientation\":\"v\",\"showlegend\":true,\"textposition\":\"auto\",\"x\":[\"Daytime\"],\"xaxis\":\"x\",\"y\":[0.6229287598944591],\"yaxis\":\"y\",\"type\":\"bar\"},{\"alignmentgroup\":\"True\",\"hovertemplate\":\"Time of Day=%{x}<br>Average Energy Consumption (kWh)=%{y}<extra></extra>\",\"legendgroup\":\"Nighttime\",\"marker\":{\"color\":\"skyblue\",\"pattern\":{\"shape\":\"\"}},\"name\":\"Nighttime\",\"offsetgroup\":\"Nighttime\",\"orientation\":\"v\",\"showlegend\":true,\"textposition\":\"auto\",\"x\":[\"Nighttime\"],\"xaxis\":\"x\",\"y\":[0.4245338208409506],\"yaxis\":\"y\",\"type\":\"bar\"}],                        {\"template\":{\"data\":{\"histogram2dcontour\":[{\"type\":\"histogram2dcontour\",\"colorbar\":{\"outlinewidth\":0,\"ticks\":\"\"},\"colorscale\":[[0.0,\"#0d0887\"],[0.1111111111111111,\"#46039f\"],[0.2222222222222222,\"#7201a8\"],[0.3333333333333333,\"#9c179e\"],[0.4444444444444444,\"#bd3786\"],[0.5555555555555556,\"#d8576b\"],[0.6666666666666666,\"#ed7953\"],[0.7777777777777778,\"#fb9f3a\"],[0.8888888888888888,\"#fdca26\"],[1.0,\"#f0f921\"]]}],\"choropleth\":[{\"type\":\"choropleth\",\"colorbar\":{\"outlinewidth\":0,\"ticks\":\"\"}}],\"histogram2d\":[{\"type\":\"histogram2d\",\"colorbar\":{\"outlinewidth\":0,\"ticks\":\"\"},\"colorscale\":[[0.0,\"#0d0887\"],[0.1111111111111111,\"#46039f\"],[0.2222222222222222,\"#7201a8\"],[0.3333333333333333,\"#9c179e\"],[0.4444444444444444,\"#bd3786\"],[0.5555555555555556,\"#d8576b\"],[0.6666666666666666,\"#ed7953\"],[0.7777777777777778,\"#fb9f3a\"],[0.8888888888888888,\"#fdca26\"],[1.0,\"#f0f921\"]]}],\"heatmap\":[{\"type\":\"heatmap\",\"colorbar\":{\"outlinewidth\":0,\"ticks\":\"\"},\"colorscale\":[[0.0,\"#0d0887\"],[0.1111111111111111,\"#46039f\"],[0.2222222222222222,\"#7201a8\"],[0.3333333333333333,\"#9c179e\"],[0.4444444444444444,\"#bd3786\"],[0.5555555555555556,\"#d8576b\"],[0.6666666666666666,\"#ed7953\"],[0.7777777777777778,\"#fb9f3a\"],[0.8888888888888888,\"#fdca26\"],[1.0,\"#f0f921\"]]}],\"heatmapgl\":[{\"type\":\"heatmapgl\",\"colorbar\":{\"outlinewidth\":0,\"ticks\":\"\"},\"colorscale\":[[0.0,\"#0d0887\"],[0.1111111111111111,\"#46039f\"],[0.2222222222222222,\"#7201a8\"],[0.3333333333333333,\"#9c179e\"],[0.4444444444444444,\"#bd3786\"],[0.5555555555555556,\"#d8576b\"],[0.6666666666666666,\"#ed7953\"],[0.7777777777777778,\"#fb9f3a\"],[0.8888888888888888,\"#fdca26\"],[1.0,\"#f0f921\"]]}],\"contourcarpet\":[{\"type\":\"contourcarpet\",\"colorbar\":{\"outlinewidth\":0,\"ticks\":\"\"}}],\"contour\":[{\"type\":\"contour\",\"colorbar\":{\"outlinewidth\":0,\"ticks\":\"\"},\"colorscale\":[[0.0,\"#0d0887\"],[0.1111111111111111,\"#46039f\"],[0.2222222222222222,\"#7201a8\"],[0.3333333333333333,\"#9c179e\"],[0.4444444444444444,\"#bd3786\"],[0.5555555555555556,\"#d8576b\"],[0.6666666666666666,\"#ed7953\"],[0.7777777777777778,\"#fb9f3a\"],[0.8888888888888888,\"#fdca26\"],[1.0,\"#f0f921\"]]}],\"surface\":[{\"type\":\"surface\",\"colorbar\":{\"outlinewidth\":0,\"ticks\":\"\"},\"colorscale\":[[0.0,\"#0d0887\"],[0.1111111111111111,\"#46039f\"],[0.2222222222222222,\"#7201a8\"],[0.3333333333333333,\"#9c179e\"],[0.4444444444444444,\"#bd3786\"],[0.5555555555555556,\"#d8576b\"],[0.6666666666666666,\"#ed7953\"],[0.7777777777777778,\"#fb9f3a\"],[0.8888888888888888,\"#fdca26\"],[1.0,\"#f0f921\"]]}],\"mesh3d\":[{\"type\":\"mesh3d\",\"colorbar\":{\"outlinewidth\":0,\"ticks\":\"\"}}],\"scatter\":[{\"fillpattern\":{\"fillmode\":\"overlay\",\"size\":10,\"solidity\":0.2},\"type\":\"scatter\"}],\"parcoords\":[{\"type\":\"parcoords\",\"line\":{\"colorbar\":{\"outlinewidth\":0,\"ticks\":\"\"}}}],\"scatterpolargl\":[{\"type\":\"scatterpolargl\",\"marker\":{\"colorbar\":{\"outlinewidth\":0,\"ticks\":\"\"}}}],\"bar\":[{\"error_x\":{\"color\":\"#2a3f5f\"},\"error_y\":{\"color\":\"#2a3f5f\"},\"marker\":{\"line\":{\"color\":\"#E5ECF6\",\"width\":0.5},\"pattern\":{\"fillmode\":\"overlay\",\"size\":10,\"solidity\":0.2}},\"type\":\"bar\"}],\"scattergeo\":[{\"type\":\"scattergeo\",\"marker\":{\"colorbar\":{\"outlinewidth\":0,\"ticks\":\"\"}}}],\"scatterpolar\":[{\"type\":\"scatterpolar\",\"marker\":{\"colorbar\":{\"outlinewidth\":0,\"ticks\":\"\"}}}],\"histogram\":[{\"marker\":{\"pattern\":{\"fillmode\":\"overlay\",\"size\":10,\"solidity\":0.2}},\"type\":\"histogram\"}],\"scattergl\":[{\"type\":\"scattergl\",\"marker\":{\"colorbar\":{\"outlinewidth\":0,\"ticks\":\"\"}}}],\"scatter3d\":[{\"type\":\"scatter3d\",\"line\":{\"colorbar\":{\"outlinewidth\":0,\"ticks\":\"\"}},\"marker\":{\"colorbar\":{\"outlinewidth\":0,\"ticks\":\"\"}}}],\"scattermapbox\":[{\"type\":\"scattermapbox\",\"marker\":{\"colorbar\":{\"outlinewidth\":0,\"ticks\":\"\"}}}],\"scatterternary\":[{\"type\":\"scatterternary\",\"marker\":{\"colorbar\":{\"outlinewidth\":0,\"ticks\":\"\"}}}],\"scattercarpet\":[{\"type\":\"scattercarpet\",\"marker\":{\"colorbar\":{\"outlinewidth\":0,\"ticks\":\"\"}}}],\"carpet\":[{\"aaxis\":{\"endlinecolor\":\"#2a3f5f\",\"gridcolor\":\"white\",\"linecolor\":\"white\",\"minorgridcolor\":\"white\",\"startlinecolor\":\"#2a3f5f\"},\"baxis\":{\"endlinecolor\":\"#2a3f5f\",\"gridcolor\":\"white\",\"linecolor\":\"white\",\"minorgridcolor\":\"white\",\"startlinecolor\":\"#2a3f5f\"},\"type\":\"carpet\"}],\"table\":[{\"cells\":{\"fill\":{\"color\":\"#EBF0F8\"},\"line\":{\"color\":\"white\"}},\"header\":{\"fill\":{\"color\":\"#C8D4E3\"},\"line\":{\"color\":\"white\"}},\"type\":\"table\"}],\"barpolar\":[{\"marker\":{\"line\":{\"color\":\"#E5ECF6\",\"width\":0.5},\"pattern\":{\"fillmode\":\"overlay\",\"size\":10,\"solidity\":0.2}},\"type\":\"barpolar\"}],\"pie\":[{\"automargin\":true,\"type\":\"pie\"}]},\"layout\":{\"autotypenumbers\":\"strict\",\"colorway\":[\"#636efa\",\"#EF553B\",\"#00cc96\",\"#ab63fa\",\"#FFA15A\",\"#19d3f3\",\"#FF6692\",\"#B6E880\",\"#FF97FF\",\"#FECB52\"],\"font\":{\"color\":\"#2a3f5f\"},\"hovermode\":\"closest\",\"hoverlabel\":{\"align\":\"left\"},\"paper_bgcolor\":\"white\",\"plot_bgcolor\":\"#E5ECF6\",\"polar\":{\"bgcolor\":\"#E5ECF6\",\"angularaxis\":{\"gridcolor\":\"white\",\"linecolor\":\"white\",\"ticks\":\"\"},\"radialaxis\":{\"gridcolor\":\"white\",\"linecolor\":\"white\",\"ticks\":\"\"}},\"ternary\":{\"bgcolor\":\"#E5ECF6\",\"aaxis\":{\"gridcolor\":\"white\",\"linecolor\":\"white\",\"ticks\":\"\"},\"baxis\":{\"gridcolor\":\"white\",\"linecolor\":\"white\",\"ticks\":\"\"},\"caxis\":{\"gridcolor\":\"white\",\"linecolor\":\"white\",\"ticks\":\"\"}},\"coloraxis\":{\"colorbar\":{\"outlinewidth\":0,\"ticks\":\"\"}},\"colorscale\":{\"sequential\":[[0.0,\"#0d0887\"],[0.1111111111111111,\"#46039f\"],[0.2222222222222222,\"#7201a8\"],[0.3333333333333333,\"#9c179e\"],[0.4444444444444444,\"#bd3786\"],[0.5555555555555556,\"#d8576b\"],[0.6666666666666666,\"#ed7953\"],[0.7777777777777778,\"#fb9f3a\"],[0.8888888888888888,\"#fdca26\"],[1.0,\"#f0f921\"]],\"sequentialminus\":[[0.0,\"#0d0887\"],[0.1111111111111111,\"#46039f\"],[0.2222222222222222,\"#7201a8\"],[0.3333333333333333,\"#9c179e\"],[0.4444444444444444,\"#bd3786\"],[0.5555555555555556,\"#d8576b\"],[0.6666666666666666,\"#ed7953\"],[0.7777777777777778,\"#fb9f3a\"],[0.8888888888888888,\"#fdca26\"],[1.0,\"#f0f921\"]],\"diverging\":[[0,\"#8e0152\"],[0.1,\"#c51b7d\"],[0.2,\"#de77ae\"],[0.3,\"#f1b6da\"],[0.4,\"#fde0ef\"],[0.5,\"#f7f7f7\"],[0.6,\"#e6f5d0\"],[0.7,\"#b8e186\"],[0.8,\"#7fbc41\"],[0.9,\"#4d9221\"],[1,\"#276419\"]]},\"xaxis\":{\"gridcolor\":\"white\",\"linecolor\":\"white\",\"ticks\":\"\",\"title\":{\"standoff\":15},\"zerolinecolor\":\"white\",\"automargin\":true,\"zerolinewidth\":2},\"yaxis\":{\"gridcolor\":\"white\",\"linecolor\":\"white\",\"ticks\":\"\",\"title\":{\"standoff\":15},\"zerolinecolor\":\"white\",\"automargin\":true,\"zerolinewidth\":2},\"scene\":{\"xaxis\":{\"backgroundcolor\":\"#E5ECF6\",\"gridcolor\":\"white\",\"linecolor\":\"white\",\"showbackground\":true,\"ticks\":\"\",\"zerolinecolor\":\"white\",\"gridwidth\":2},\"yaxis\":{\"backgroundcolor\":\"#E5ECF6\",\"gridcolor\":\"white\",\"linecolor\":\"white\",\"showbackground\":true,\"ticks\":\"\",\"zerolinecolor\":\"white\",\"gridwidth\":2},\"zaxis\":{\"backgroundcolor\":\"#E5ECF6\",\"gridcolor\":\"white\",\"linecolor\":\"white\",\"showbackground\":true,\"ticks\":\"\",\"zerolinecolor\":\"white\",\"gridwidth\":2}},\"shapedefaults\":{\"line\":{\"color\":\"#2a3f5f\"}},\"annotationdefaults\":{\"arrowcolor\":\"#2a3f5f\",\"arrowhead\":0,\"arrowwidth\":1},\"geo\":{\"bgcolor\":\"white\",\"landcolor\":\"#E5ECF6\",\"subunitcolor\":\"white\",\"showland\":true,\"showlakes\":true,\"lakecolor\":\"white\"},\"title\":{\"x\":0.05},\"mapbox\":{\"style\":\"light\"}}},\"xaxis\":{\"anchor\":\"y\",\"domain\":[0.0,1.0],\"title\":{\"text\":\"Time of Day\"},\"categoryorder\":\"array\",\"categoryarray\":[\"Daytime\",\"Nighttime\"]},\"yaxis\":{\"anchor\":\"x\",\"domain\":[0.0,1.0],\"title\":{\"text\":\"Average Energy Consumption (kWh)\"}},\"legend\":{\"title\":{\"text\":\"Time of Day\"},\"tracegroupgap\":0},\"title\":{\"text\":\"Average Energy Consumption During Daytime and Nighttime\"},\"barmode\":\"relative\"},                        {\"responsive\": true}                    ).then(function(){\n",
       "                            \n",
       "var gd = document.getElementById('726359c9-c9fa-4b6a-a7d2-3baaea04e259');\n",
       "var x = new MutationObserver(function (mutations, observer) {{\n",
       "        var display = window.getComputedStyle(gd).display;\n",
       "        if (!display || display === 'none') {{\n",
       "            console.log([gd, 'removed!']);\n",
       "            Plotly.purge(gd);\n",
       "            observer.disconnect();\n",
       "        }}\n",
       "}});\n",
       "\n",
       "// Listen for the removal of the full notebook cells\n",
       "var notebookContainer = gd.closest('#notebook-container');\n",
       "if (notebookContainer) {{\n",
       "    x.observe(notebookContainer, {childList: true});\n",
       "}}\n",
       "\n",
       "// Listen for the clearing of the current output cell\n",
       "var outputEl = gd.closest('.output');\n",
       "if (outputEl) {{\n",
       "    x.observe(outputEl, {childList: true});\n",
       "}}\n",
       "\n",
       "                        })                };                });            </script>        </div>"
      ]
     },
     "metadata": {},
     "output_type": "display_data"
    }
   ],
   "source": [
    "import pandas as pd\n",
    "import plotly.express as px\n",
    "\n",
    "# Assuming the data is stored in a DataFrame named 'df'\n",
    "# Convert 'datetime' column to pandas datetime format\n",
    "df['datetime'] = pd.to_datetime(df['datetime'])\n",
    "\n",
    "# Filter data for daytime (6:00 to 20:00) and nighttime (20:00 to 6:00)\n",
    "daytime_data = df[(df['datetime'].dt.hour >= 6) & (df['datetime'].dt.hour < 20)]\n",
    "nighttime_data = df[(df['datetime'].dt.hour >= 20) | (df['datetime'].dt.hour < 6)]\n",
    "\n",
    "# Calculate average energy consumption for daytime and nighttime\n",
    "avg_daytime_consumption = daytime_data['Consumption (kWh)'].mean()\n",
    "avg_nighttime_consumption = nighttime_data['Consumption (kWh)'].mean()\n",
    "\n",
    "# Create a DataFrame for plotting\n",
    "data = {'Time of Day': ['Daytime', 'Nighttime'],\n",
    "        'Average Energy Consumption (kWh)': [avg_daytime_consumption, avg_nighttime_consumption]}\n",
    "\n",
    "# Create a bar plot using Plotly\n",
    "fig = px.bar(data, x='Time of Day', y='Average Energy Consumption (kWh)',\n",
    "             title='Average Energy Consumption During Daytime and Nighttime',\n",
    "             color='Time of Day', color_discrete_map={'Daytime': 'lightgreen', 'Nighttime': 'skyblue'})\n",
    "\n",
    "# Show the plot\n",
    "fig.show()\n"
   ]
  },
  {
   "cell_type": "code",
   "execution_count": 12,
   "id": "28c6ebc7",
   "metadata": {
    "scrolled": false
   },
   "outputs": [
    {
     "data": {
      "application/vnd.plotly.v1+json": {
       "config": {
        "plotlyServerURL": "https://plot.ly"
       },
       "data": [
        {
         "hovertemplate": "date=%{x}<br>Consumption (kWh)=%{y}<extra></extra>",
         "legendgroup": "",
         "line": {
          "color": "#636efa",
          "dash": "solid"
         },
         "marker": {
          "symbol": "circle"
         },
         "mode": "lines",
         "name": "",
         "orientation": "v",
         "showlegend": false,
         "type": "scatter",
         "x": [
          "2023-11-02",
          "2023-11-03",
          "2023-11-04",
          "2023-11-05",
          "2023-11-06",
          "2023-11-07",
          "2023-11-08",
          "2023-11-09",
          "2023-11-10",
          "2023-11-11",
          "2023-11-12",
          "2023-11-13",
          "2023-11-14",
          "2023-11-15",
          "2023-11-16",
          "2023-11-17",
          "2023-11-18",
          "2023-11-19",
          "2023-11-20",
          "2023-11-21",
          "2023-11-22",
          "2023-11-23",
          "2023-11-24",
          "2023-11-25",
          "2023-11-26",
          "2023-11-27",
          "2023-11-28",
          "2023-11-29"
         ],
         "xaxis": "x",
         "y": [
          0.843,
          0.51375,
          0.6233333333333334,
          0.4897916666666667,
          0.5754166666666667,
          0.6822916666666666,
          0.5850000000000001,
          0.5525,
          0.43416666666666665,
          0.7016666666666667,
          0.5397916666666667,
          0.5027083333333333,
          0.5910416666666667,
          0.44979166666666665,
          0.4822916666666666,
          0.4495833333333334,
          0.5945833333333334,
          0.5229166666666667,
          0.5545833333333333,
          0.5939583333333334,
          0.41854166666666665,
          0.5370833333333332,
          0.6541666666666667,
          0.47104166666666664,
          0.5047916666666666,
          0.45458333333333334,
          0.46458333333333335,
          0.5672340425531915
         ],
         "yaxis": "y"
        }
       ],
       "layout": {
        "legend": {
         "tracegroupgap": 0
        },
        "template": {
         "data": {
          "bar": [
           {
            "error_x": {
             "color": "#2a3f5f"
            },
            "error_y": {
             "color": "#2a3f5f"
            },
            "marker": {
             "line": {
              "color": "#E5ECF6",
              "width": 0.5
             },
             "pattern": {
              "fillmode": "overlay",
              "size": 10,
              "solidity": 0.2
             }
            },
            "type": "bar"
           }
          ],
          "barpolar": [
           {
            "marker": {
             "line": {
              "color": "#E5ECF6",
              "width": 0.5
             },
             "pattern": {
              "fillmode": "overlay",
              "size": 10,
              "solidity": 0.2
             }
            },
            "type": "barpolar"
           }
          ],
          "carpet": [
           {
            "aaxis": {
             "endlinecolor": "#2a3f5f",
             "gridcolor": "white",
             "linecolor": "white",
             "minorgridcolor": "white",
             "startlinecolor": "#2a3f5f"
            },
            "baxis": {
             "endlinecolor": "#2a3f5f",
             "gridcolor": "white",
             "linecolor": "white",
             "minorgridcolor": "white",
             "startlinecolor": "#2a3f5f"
            },
            "type": "carpet"
           }
          ],
          "choropleth": [
           {
            "colorbar": {
             "outlinewidth": 0,
             "ticks": ""
            },
            "type": "choropleth"
           }
          ],
          "contour": [
           {
            "colorbar": {
             "outlinewidth": 0,
             "ticks": ""
            },
            "colorscale": [
             [
              0,
              "#0d0887"
             ],
             [
              0.1111111111111111,
              "#46039f"
             ],
             [
              0.2222222222222222,
              "#7201a8"
             ],
             [
              0.3333333333333333,
              "#9c179e"
             ],
             [
              0.4444444444444444,
              "#bd3786"
             ],
             [
              0.5555555555555556,
              "#d8576b"
             ],
             [
              0.6666666666666666,
              "#ed7953"
             ],
             [
              0.7777777777777778,
              "#fb9f3a"
             ],
             [
              0.8888888888888888,
              "#fdca26"
             ],
             [
              1,
              "#f0f921"
             ]
            ],
            "type": "contour"
           }
          ],
          "contourcarpet": [
           {
            "colorbar": {
             "outlinewidth": 0,
             "ticks": ""
            },
            "type": "contourcarpet"
           }
          ],
          "heatmap": [
           {
            "colorbar": {
             "outlinewidth": 0,
             "ticks": ""
            },
            "colorscale": [
             [
              0,
              "#0d0887"
             ],
             [
              0.1111111111111111,
              "#46039f"
             ],
             [
              0.2222222222222222,
              "#7201a8"
             ],
             [
              0.3333333333333333,
              "#9c179e"
             ],
             [
              0.4444444444444444,
              "#bd3786"
             ],
             [
              0.5555555555555556,
              "#d8576b"
             ],
             [
              0.6666666666666666,
              "#ed7953"
             ],
             [
              0.7777777777777778,
              "#fb9f3a"
             ],
             [
              0.8888888888888888,
              "#fdca26"
             ],
             [
              1,
              "#f0f921"
             ]
            ],
            "type": "heatmap"
           }
          ],
          "heatmapgl": [
           {
            "colorbar": {
             "outlinewidth": 0,
             "ticks": ""
            },
            "colorscale": [
             [
              0,
              "#0d0887"
             ],
             [
              0.1111111111111111,
              "#46039f"
             ],
             [
              0.2222222222222222,
              "#7201a8"
             ],
             [
              0.3333333333333333,
              "#9c179e"
             ],
             [
              0.4444444444444444,
              "#bd3786"
             ],
             [
              0.5555555555555556,
              "#d8576b"
             ],
             [
              0.6666666666666666,
              "#ed7953"
             ],
             [
              0.7777777777777778,
              "#fb9f3a"
             ],
             [
              0.8888888888888888,
              "#fdca26"
             ],
             [
              1,
              "#f0f921"
             ]
            ],
            "type": "heatmapgl"
           }
          ],
          "histogram": [
           {
            "marker": {
             "pattern": {
              "fillmode": "overlay",
              "size": 10,
              "solidity": 0.2
             }
            },
            "type": "histogram"
           }
          ],
          "histogram2d": [
           {
            "colorbar": {
             "outlinewidth": 0,
             "ticks": ""
            },
            "colorscale": [
             [
              0,
              "#0d0887"
             ],
             [
              0.1111111111111111,
              "#46039f"
             ],
             [
              0.2222222222222222,
              "#7201a8"
             ],
             [
              0.3333333333333333,
              "#9c179e"
             ],
             [
              0.4444444444444444,
              "#bd3786"
             ],
             [
              0.5555555555555556,
              "#d8576b"
             ],
             [
              0.6666666666666666,
              "#ed7953"
             ],
             [
              0.7777777777777778,
              "#fb9f3a"
             ],
             [
              0.8888888888888888,
              "#fdca26"
             ],
             [
              1,
              "#f0f921"
             ]
            ],
            "type": "histogram2d"
           }
          ],
          "histogram2dcontour": [
           {
            "colorbar": {
             "outlinewidth": 0,
             "ticks": ""
            },
            "colorscale": [
             [
              0,
              "#0d0887"
             ],
             [
              0.1111111111111111,
              "#46039f"
             ],
             [
              0.2222222222222222,
              "#7201a8"
             ],
             [
              0.3333333333333333,
              "#9c179e"
             ],
             [
              0.4444444444444444,
              "#bd3786"
             ],
             [
              0.5555555555555556,
              "#d8576b"
             ],
             [
              0.6666666666666666,
              "#ed7953"
             ],
             [
              0.7777777777777778,
              "#fb9f3a"
             ],
             [
              0.8888888888888888,
              "#fdca26"
             ],
             [
              1,
              "#f0f921"
             ]
            ],
            "type": "histogram2dcontour"
           }
          ],
          "mesh3d": [
           {
            "colorbar": {
             "outlinewidth": 0,
             "ticks": ""
            },
            "type": "mesh3d"
           }
          ],
          "parcoords": [
           {
            "line": {
             "colorbar": {
              "outlinewidth": 0,
              "ticks": ""
             }
            },
            "type": "parcoords"
           }
          ],
          "pie": [
           {
            "automargin": true,
            "type": "pie"
           }
          ],
          "scatter": [
           {
            "fillpattern": {
             "fillmode": "overlay",
             "size": 10,
             "solidity": 0.2
            },
            "type": "scatter"
           }
          ],
          "scatter3d": [
           {
            "line": {
             "colorbar": {
              "outlinewidth": 0,
              "ticks": ""
             }
            },
            "marker": {
             "colorbar": {
              "outlinewidth": 0,
              "ticks": ""
             }
            },
            "type": "scatter3d"
           }
          ],
          "scattercarpet": [
           {
            "marker": {
             "colorbar": {
              "outlinewidth": 0,
              "ticks": ""
             }
            },
            "type": "scattercarpet"
           }
          ],
          "scattergeo": [
           {
            "marker": {
             "colorbar": {
              "outlinewidth": 0,
              "ticks": ""
             }
            },
            "type": "scattergeo"
           }
          ],
          "scattergl": [
           {
            "marker": {
             "colorbar": {
              "outlinewidth": 0,
              "ticks": ""
             }
            },
            "type": "scattergl"
           }
          ],
          "scattermapbox": [
           {
            "marker": {
             "colorbar": {
              "outlinewidth": 0,
              "ticks": ""
             }
            },
            "type": "scattermapbox"
           }
          ],
          "scatterpolar": [
           {
            "marker": {
             "colorbar": {
              "outlinewidth": 0,
              "ticks": ""
             }
            },
            "type": "scatterpolar"
           }
          ],
          "scatterpolargl": [
           {
            "marker": {
             "colorbar": {
              "outlinewidth": 0,
              "ticks": ""
             }
            },
            "type": "scatterpolargl"
           }
          ],
          "scatterternary": [
           {
            "marker": {
             "colorbar": {
              "outlinewidth": 0,
              "ticks": ""
             }
            },
            "type": "scatterternary"
           }
          ],
          "surface": [
           {
            "colorbar": {
             "outlinewidth": 0,
             "ticks": ""
            },
            "colorscale": [
             [
              0,
              "#0d0887"
             ],
             [
              0.1111111111111111,
              "#46039f"
             ],
             [
              0.2222222222222222,
              "#7201a8"
             ],
             [
              0.3333333333333333,
              "#9c179e"
             ],
             [
              0.4444444444444444,
              "#bd3786"
             ],
             [
              0.5555555555555556,
              "#d8576b"
             ],
             [
              0.6666666666666666,
              "#ed7953"
             ],
             [
              0.7777777777777778,
              "#fb9f3a"
             ],
             [
              0.8888888888888888,
              "#fdca26"
             ],
             [
              1,
              "#f0f921"
             ]
            ],
            "type": "surface"
           }
          ],
          "table": [
           {
            "cells": {
             "fill": {
              "color": "#EBF0F8"
             },
             "line": {
              "color": "white"
             }
            },
            "header": {
             "fill": {
              "color": "#C8D4E3"
             },
             "line": {
              "color": "white"
             }
            },
            "type": "table"
           }
          ]
         },
         "layout": {
          "annotationdefaults": {
           "arrowcolor": "#2a3f5f",
           "arrowhead": 0,
           "arrowwidth": 1
          },
          "autotypenumbers": "strict",
          "coloraxis": {
           "colorbar": {
            "outlinewidth": 0,
            "ticks": ""
           }
          },
          "colorscale": {
           "diverging": [
            [
             0,
             "#8e0152"
            ],
            [
             0.1,
             "#c51b7d"
            ],
            [
             0.2,
             "#de77ae"
            ],
            [
             0.3,
             "#f1b6da"
            ],
            [
             0.4,
             "#fde0ef"
            ],
            [
             0.5,
             "#f7f7f7"
            ],
            [
             0.6,
             "#e6f5d0"
            ],
            [
             0.7,
             "#b8e186"
            ],
            [
             0.8,
             "#7fbc41"
            ],
            [
             0.9,
             "#4d9221"
            ],
            [
             1,
             "#276419"
            ]
           ],
           "sequential": [
            [
             0,
             "#0d0887"
            ],
            [
             0.1111111111111111,
             "#46039f"
            ],
            [
             0.2222222222222222,
             "#7201a8"
            ],
            [
             0.3333333333333333,
             "#9c179e"
            ],
            [
             0.4444444444444444,
             "#bd3786"
            ],
            [
             0.5555555555555556,
             "#d8576b"
            ],
            [
             0.6666666666666666,
             "#ed7953"
            ],
            [
             0.7777777777777778,
             "#fb9f3a"
            ],
            [
             0.8888888888888888,
             "#fdca26"
            ],
            [
             1,
             "#f0f921"
            ]
           ],
           "sequentialminus": [
            [
             0,
             "#0d0887"
            ],
            [
             0.1111111111111111,
             "#46039f"
            ],
            [
             0.2222222222222222,
             "#7201a8"
            ],
            [
             0.3333333333333333,
             "#9c179e"
            ],
            [
             0.4444444444444444,
             "#bd3786"
            ],
            [
             0.5555555555555556,
             "#d8576b"
            ],
            [
             0.6666666666666666,
             "#ed7953"
            ],
            [
             0.7777777777777778,
             "#fb9f3a"
            ],
            [
             0.8888888888888888,
             "#fdca26"
            ],
            [
             1,
             "#f0f921"
            ]
           ]
          },
          "colorway": [
           "#636efa",
           "#EF553B",
           "#00cc96",
           "#ab63fa",
           "#FFA15A",
           "#19d3f3",
           "#FF6692",
           "#B6E880",
           "#FF97FF",
           "#FECB52"
          ],
          "font": {
           "color": "#2a3f5f"
          },
          "geo": {
           "bgcolor": "white",
           "lakecolor": "white",
           "landcolor": "#E5ECF6",
           "showlakes": true,
           "showland": true,
           "subunitcolor": "white"
          },
          "hoverlabel": {
           "align": "left"
          },
          "hovermode": "closest",
          "mapbox": {
           "style": "light"
          },
          "paper_bgcolor": "white",
          "plot_bgcolor": "#E5ECF6",
          "polar": {
           "angularaxis": {
            "gridcolor": "white",
            "linecolor": "white",
            "ticks": ""
           },
           "bgcolor": "#E5ECF6",
           "radialaxis": {
            "gridcolor": "white",
            "linecolor": "white",
            "ticks": ""
           }
          },
          "scene": {
           "xaxis": {
            "backgroundcolor": "#E5ECF6",
            "gridcolor": "white",
            "gridwidth": 2,
            "linecolor": "white",
            "showbackground": true,
            "ticks": "",
            "zerolinecolor": "white"
           },
           "yaxis": {
            "backgroundcolor": "#E5ECF6",
            "gridcolor": "white",
            "gridwidth": 2,
            "linecolor": "white",
            "showbackground": true,
            "ticks": "",
            "zerolinecolor": "white"
           },
           "zaxis": {
            "backgroundcolor": "#E5ECF6",
            "gridcolor": "white",
            "gridwidth": 2,
            "linecolor": "white",
            "showbackground": true,
            "ticks": "",
            "zerolinecolor": "white"
           }
          },
          "shapedefaults": {
           "line": {
            "color": "#2a3f5f"
           }
          },
          "ternary": {
           "aaxis": {
            "gridcolor": "white",
            "linecolor": "white",
            "ticks": ""
           },
           "baxis": {
            "gridcolor": "white",
            "linecolor": "white",
            "ticks": ""
           },
           "bgcolor": "#E5ECF6",
           "caxis": {
            "gridcolor": "white",
            "linecolor": "white",
            "ticks": ""
           }
          },
          "title": {
           "x": 0.05
          },
          "xaxis": {
           "automargin": true,
           "gridcolor": "white",
           "linecolor": "white",
           "ticks": "",
           "title": {
            "standoff": 15
           },
           "zerolinecolor": "white",
           "zerolinewidth": 2
          },
          "yaxis": {
           "automargin": true,
           "gridcolor": "white",
           "linecolor": "white",
           "ticks": "",
           "title": {
            "standoff": 15
           },
           "zerolinecolor": "white",
           "zerolinewidth": 2
          }
         }
        },
        "title": {
         "text": "Average Daily Energy Consumption"
        },
        "xaxis": {
         "anchor": "y",
         "domain": [
          0,
          1
         ],
         "tickangle": 45,
         "title": {
          "text": "Date"
         }
        },
        "yaxis": {
         "anchor": "x",
         "domain": [
          0,
          1
         ],
         "title": {
          "text": "Average Consumption (kWh)"
         }
        }
       }
      },
      "text/html": [
       "<div>                            <div id=\"4f7c6773-b8f1-4582-bf43-721a83e41784\" class=\"plotly-graph-div\" style=\"height:525px; width:100%;\"></div>            <script type=\"text/javascript\">                require([\"plotly\"], function(Plotly) {                    window.PLOTLYENV=window.PLOTLYENV || {};                                    if (document.getElementById(\"4f7c6773-b8f1-4582-bf43-721a83e41784\")) {                    Plotly.newPlot(                        \"4f7c6773-b8f1-4582-bf43-721a83e41784\",                        [{\"hovertemplate\":\"date=%{x}<br>Consumption (kWh)=%{y}<extra></extra>\",\"legendgroup\":\"\",\"line\":{\"color\":\"#636efa\",\"dash\":\"solid\"},\"marker\":{\"symbol\":\"circle\"},\"mode\":\"lines\",\"name\":\"\",\"orientation\":\"v\",\"showlegend\":false,\"x\":[\"2023-11-02\",\"2023-11-03\",\"2023-11-04\",\"2023-11-05\",\"2023-11-06\",\"2023-11-07\",\"2023-11-08\",\"2023-11-09\",\"2023-11-10\",\"2023-11-11\",\"2023-11-12\",\"2023-11-13\",\"2023-11-14\",\"2023-11-15\",\"2023-11-16\",\"2023-11-17\",\"2023-11-18\",\"2023-11-19\",\"2023-11-20\",\"2023-11-21\",\"2023-11-22\",\"2023-11-23\",\"2023-11-24\",\"2023-11-25\",\"2023-11-26\",\"2023-11-27\",\"2023-11-28\",\"2023-11-29\"],\"xaxis\":\"x\",\"y\":[0.843,0.51375,0.6233333333333334,0.4897916666666667,0.5754166666666667,0.6822916666666666,0.5850000000000001,0.5525,0.43416666666666665,0.7016666666666667,0.5397916666666667,0.5027083333333333,0.5910416666666667,0.44979166666666665,0.4822916666666666,0.4495833333333334,0.5945833333333334,0.5229166666666667,0.5545833333333333,0.5939583333333334,0.41854166666666665,0.5370833333333332,0.6541666666666667,0.47104166666666664,0.5047916666666666,0.45458333333333334,0.46458333333333335,0.5672340425531915],\"yaxis\":\"y\",\"type\":\"scatter\"}],                        {\"template\":{\"data\":{\"histogram2dcontour\":[{\"type\":\"histogram2dcontour\",\"colorbar\":{\"outlinewidth\":0,\"ticks\":\"\"},\"colorscale\":[[0.0,\"#0d0887\"],[0.1111111111111111,\"#46039f\"],[0.2222222222222222,\"#7201a8\"],[0.3333333333333333,\"#9c179e\"],[0.4444444444444444,\"#bd3786\"],[0.5555555555555556,\"#d8576b\"],[0.6666666666666666,\"#ed7953\"],[0.7777777777777778,\"#fb9f3a\"],[0.8888888888888888,\"#fdca26\"],[1.0,\"#f0f921\"]]}],\"choropleth\":[{\"type\":\"choropleth\",\"colorbar\":{\"outlinewidth\":0,\"ticks\":\"\"}}],\"histogram2d\":[{\"type\":\"histogram2d\",\"colorbar\":{\"outlinewidth\":0,\"ticks\":\"\"},\"colorscale\":[[0.0,\"#0d0887\"],[0.1111111111111111,\"#46039f\"],[0.2222222222222222,\"#7201a8\"],[0.3333333333333333,\"#9c179e\"],[0.4444444444444444,\"#bd3786\"],[0.5555555555555556,\"#d8576b\"],[0.6666666666666666,\"#ed7953\"],[0.7777777777777778,\"#fb9f3a\"],[0.8888888888888888,\"#fdca26\"],[1.0,\"#f0f921\"]]}],\"heatmap\":[{\"type\":\"heatmap\",\"colorbar\":{\"outlinewidth\":0,\"ticks\":\"\"},\"colorscale\":[[0.0,\"#0d0887\"],[0.1111111111111111,\"#46039f\"],[0.2222222222222222,\"#7201a8\"],[0.3333333333333333,\"#9c179e\"],[0.4444444444444444,\"#bd3786\"],[0.5555555555555556,\"#d8576b\"],[0.6666666666666666,\"#ed7953\"],[0.7777777777777778,\"#fb9f3a\"],[0.8888888888888888,\"#fdca26\"],[1.0,\"#f0f921\"]]}],\"heatmapgl\":[{\"type\":\"heatmapgl\",\"colorbar\":{\"outlinewidth\":0,\"ticks\":\"\"},\"colorscale\":[[0.0,\"#0d0887\"],[0.1111111111111111,\"#46039f\"],[0.2222222222222222,\"#7201a8\"],[0.3333333333333333,\"#9c179e\"],[0.4444444444444444,\"#bd3786\"],[0.5555555555555556,\"#d8576b\"],[0.6666666666666666,\"#ed7953\"],[0.7777777777777778,\"#fb9f3a\"],[0.8888888888888888,\"#fdca26\"],[1.0,\"#f0f921\"]]}],\"contourcarpet\":[{\"type\":\"contourcarpet\",\"colorbar\":{\"outlinewidth\":0,\"ticks\":\"\"}}],\"contour\":[{\"type\":\"contour\",\"colorbar\":{\"outlinewidth\":0,\"ticks\":\"\"},\"colorscale\":[[0.0,\"#0d0887\"],[0.1111111111111111,\"#46039f\"],[0.2222222222222222,\"#7201a8\"],[0.3333333333333333,\"#9c179e\"],[0.4444444444444444,\"#bd3786\"],[0.5555555555555556,\"#d8576b\"],[0.6666666666666666,\"#ed7953\"],[0.7777777777777778,\"#fb9f3a\"],[0.8888888888888888,\"#fdca26\"],[1.0,\"#f0f921\"]]}],\"surface\":[{\"type\":\"surface\",\"colorbar\":{\"outlinewidth\":0,\"ticks\":\"\"},\"colorscale\":[[0.0,\"#0d0887\"],[0.1111111111111111,\"#46039f\"],[0.2222222222222222,\"#7201a8\"],[0.3333333333333333,\"#9c179e\"],[0.4444444444444444,\"#bd3786\"],[0.5555555555555556,\"#d8576b\"],[0.6666666666666666,\"#ed7953\"],[0.7777777777777778,\"#fb9f3a\"],[0.8888888888888888,\"#fdca26\"],[1.0,\"#f0f921\"]]}],\"mesh3d\":[{\"type\":\"mesh3d\",\"colorbar\":{\"outlinewidth\":0,\"ticks\":\"\"}}],\"scatter\":[{\"fillpattern\":{\"fillmode\":\"overlay\",\"size\":10,\"solidity\":0.2},\"type\":\"scatter\"}],\"parcoords\":[{\"type\":\"parcoords\",\"line\":{\"colorbar\":{\"outlinewidth\":0,\"ticks\":\"\"}}}],\"scatterpolargl\":[{\"type\":\"scatterpolargl\",\"marker\":{\"colorbar\":{\"outlinewidth\":0,\"ticks\":\"\"}}}],\"bar\":[{\"error_x\":{\"color\":\"#2a3f5f\"},\"error_y\":{\"color\":\"#2a3f5f\"},\"marker\":{\"line\":{\"color\":\"#E5ECF6\",\"width\":0.5},\"pattern\":{\"fillmode\":\"overlay\",\"size\":10,\"solidity\":0.2}},\"type\":\"bar\"}],\"scattergeo\":[{\"type\":\"scattergeo\",\"marker\":{\"colorbar\":{\"outlinewidth\":0,\"ticks\":\"\"}}}],\"scatterpolar\":[{\"type\":\"scatterpolar\",\"marker\":{\"colorbar\":{\"outlinewidth\":0,\"ticks\":\"\"}}}],\"histogram\":[{\"marker\":{\"pattern\":{\"fillmode\":\"overlay\",\"size\":10,\"solidity\":0.2}},\"type\":\"histogram\"}],\"scattergl\":[{\"type\":\"scattergl\",\"marker\":{\"colorbar\":{\"outlinewidth\":0,\"ticks\":\"\"}}}],\"scatter3d\":[{\"type\":\"scatter3d\",\"line\":{\"colorbar\":{\"outlinewidth\":0,\"ticks\":\"\"}},\"marker\":{\"colorbar\":{\"outlinewidth\":0,\"ticks\":\"\"}}}],\"scattermapbox\":[{\"type\":\"scattermapbox\",\"marker\":{\"colorbar\":{\"outlinewidth\":0,\"ticks\":\"\"}}}],\"scatterternary\":[{\"type\":\"scatterternary\",\"marker\":{\"colorbar\":{\"outlinewidth\":0,\"ticks\":\"\"}}}],\"scattercarpet\":[{\"type\":\"scattercarpet\",\"marker\":{\"colorbar\":{\"outlinewidth\":0,\"ticks\":\"\"}}}],\"carpet\":[{\"aaxis\":{\"endlinecolor\":\"#2a3f5f\",\"gridcolor\":\"white\",\"linecolor\":\"white\",\"minorgridcolor\":\"white\",\"startlinecolor\":\"#2a3f5f\"},\"baxis\":{\"endlinecolor\":\"#2a3f5f\",\"gridcolor\":\"white\",\"linecolor\":\"white\",\"minorgridcolor\":\"white\",\"startlinecolor\":\"#2a3f5f\"},\"type\":\"carpet\"}],\"table\":[{\"cells\":{\"fill\":{\"color\":\"#EBF0F8\"},\"line\":{\"color\":\"white\"}},\"header\":{\"fill\":{\"color\":\"#C8D4E3\"},\"line\":{\"color\":\"white\"}},\"type\":\"table\"}],\"barpolar\":[{\"marker\":{\"line\":{\"color\":\"#E5ECF6\",\"width\":0.5},\"pattern\":{\"fillmode\":\"overlay\",\"size\":10,\"solidity\":0.2}},\"type\":\"barpolar\"}],\"pie\":[{\"automargin\":true,\"type\":\"pie\"}]},\"layout\":{\"autotypenumbers\":\"strict\",\"colorway\":[\"#636efa\",\"#EF553B\",\"#00cc96\",\"#ab63fa\",\"#FFA15A\",\"#19d3f3\",\"#FF6692\",\"#B6E880\",\"#FF97FF\",\"#FECB52\"],\"font\":{\"color\":\"#2a3f5f\"},\"hovermode\":\"closest\",\"hoverlabel\":{\"align\":\"left\"},\"paper_bgcolor\":\"white\",\"plot_bgcolor\":\"#E5ECF6\",\"polar\":{\"bgcolor\":\"#E5ECF6\",\"angularaxis\":{\"gridcolor\":\"white\",\"linecolor\":\"white\",\"ticks\":\"\"},\"radialaxis\":{\"gridcolor\":\"white\",\"linecolor\":\"white\",\"ticks\":\"\"}},\"ternary\":{\"bgcolor\":\"#E5ECF6\",\"aaxis\":{\"gridcolor\":\"white\",\"linecolor\":\"white\",\"ticks\":\"\"},\"baxis\":{\"gridcolor\":\"white\",\"linecolor\":\"white\",\"ticks\":\"\"},\"caxis\":{\"gridcolor\":\"white\",\"linecolor\":\"white\",\"ticks\":\"\"}},\"coloraxis\":{\"colorbar\":{\"outlinewidth\":0,\"ticks\":\"\"}},\"colorscale\":{\"sequential\":[[0.0,\"#0d0887\"],[0.1111111111111111,\"#46039f\"],[0.2222222222222222,\"#7201a8\"],[0.3333333333333333,\"#9c179e\"],[0.4444444444444444,\"#bd3786\"],[0.5555555555555556,\"#d8576b\"],[0.6666666666666666,\"#ed7953\"],[0.7777777777777778,\"#fb9f3a\"],[0.8888888888888888,\"#fdca26\"],[1.0,\"#f0f921\"]],\"sequentialminus\":[[0.0,\"#0d0887\"],[0.1111111111111111,\"#46039f\"],[0.2222222222222222,\"#7201a8\"],[0.3333333333333333,\"#9c179e\"],[0.4444444444444444,\"#bd3786\"],[0.5555555555555556,\"#d8576b\"],[0.6666666666666666,\"#ed7953\"],[0.7777777777777778,\"#fb9f3a\"],[0.8888888888888888,\"#fdca26\"],[1.0,\"#f0f921\"]],\"diverging\":[[0,\"#8e0152\"],[0.1,\"#c51b7d\"],[0.2,\"#de77ae\"],[0.3,\"#f1b6da\"],[0.4,\"#fde0ef\"],[0.5,\"#f7f7f7\"],[0.6,\"#e6f5d0\"],[0.7,\"#b8e186\"],[0.8,\"#7fbc41\"],[0.9,\"#4d9221\"],[1,\"#276419\"]]},\"xaxis\":{\"gridcolor\":\"white\",\"linecolor\":\"white\",\"ticks\":\"\",\"title\":{\"standoff\":15},\"zerolinecolor\":\"white\",\"automargin\":true,\"zerolinewidth\":2},\"yaxis\":{\"gridcolor\":\"white\",\"linecolor\":\"white\",\"ticks\":\"\",\"title\":{\"standoff\":15},\"zerolinecolor\":\"white\",\"automargin\":true,\"zerolinewidth\":2},\"scene\":{\"xaxis\":{\"backgroundcolor\":\"#E5ECF6\",\"gridcolor\":\"white\",\"linecolor\":\"white\",\"showbackground\":true,\"ticks\":\"\",\"zerolinecolor\":\"white\",\"gridwidth\":2},\"yaxis\":{\"backgroundcolor\":\"#E5ECF6\",\"gridcolor\":\"white\",\"linecolor\":\"white\",\"showbackground\":true,\"ticks\":\"\",\"zerolinecolor\":\"white\",\"gridwidth\":2},\"zaxis\":{\"backgroundcolor\":\"#E5ECF6\",\"gridcolor\":\"white\",\"linecolor\":\"white\",\"showbackground\":true,\"ticks\":\"\",\"zerolinecolor\":\"white\",\"gridwidth\":2}},\"shapedefaults\":{\"line\":{\"color\":\"#2a3f5f\"}},\"annotationdefaults\":{\"arrowcolor\":\"#2a3f5f\",\"arrowhead\":0,\"arrowwidth\":1},\"geo\":{\"bgcolor\":\"white\",\"landcolor\":\"#E5ECF6\",\"subunitcolor\":\"white\",\"showland\":true,\"showlakes\":true,\"lakecolor\":\"white\"},\"title\":{\"x\":0.05},\"mapbox\":{\"style\":\"light\"}}},\"xaxis\":{\"anchor\":\"y\",\"domain\":[0.0,1.0],\"title\":{\"text\":\"Date\"},\"tickangle\":45},\"yaxis\":{\"anchor\":\"x\",\"domain\":[0.0,1.0],\"title\":{\"text\":\"Average Consumption (kWh)\"}},\"legend\":{\"tracegroupgap\":0},\"title\":{\"text\":\"Average Daily Energy Consumption\"}},                        {\"responsive\": true}                    ).then(function(){\n",
       "                            \n",
       "var gd = document.getElementById('4f7c6773-b8f1-4582-bf43-721a83e41784');\n",
       "var x = new MutationObserver(function (mutations, observer) {{\n",
       "        var display = window.getComputedStyle(gd).display;\n",
       "        if (!display || display === 'none') {{\n",
       "            console.log([gd, 'removed!']);\n",
       "            Plotly.purge(gd);\n",
       "            observer.disconnect();\n",
       "        }}\n",
       "}});\n",
       "\n",
       "// Listen for the removal of the full notebook cells\n",
       "var notebookContainer = gd.closest('#notebook-container');\n",
       "if (notebookContainer) {{\n",
       "    x.observe(notebookContainer, {childList: true});\n",
       "}}\n",
       "\n",
       "// Listen for the clearing of the current output cell\n",
       "var outputEl = gd.closest('.output');\n",
       "if (outputEl) {{\n",
       "    x.observe(outputEl, {childList: true});\n",
       "}}\n",
       "\n",
       "                        })                };                });            </script>        </div>"
      ]
     },
     "metadata": {},
     "output_type": "display_data"
    }
   ],
   "source": [
    "import plotly.express as px\n",
    "import pandas as pd\n",
    "\n",
    "# Assuming your DataFrame is named 'df'\n",
    "\n",
    "# Convert 'datetime' column to datetime format\n",
    "df['datetime'] = pd.to_datetime(df['datetime'])\n",
    "\n",
    "# Group by date and calculate the mean consumption for each day\n",
    "daily_consumption = df.groupby('date')['Consumption (kWh)'].mean().reset_index()\n",
    "\n",
    "# Plotting energy consumption with day using Plotly\n",
    "fig = px.line(daily_consumption, x='date', y='Consumption (kWh)', title='Average Daily Energy Consumption')\n",
    "fig.update_xaxes(title='Date', tickangle=45)\n",
    "fig.update_yaxes(title='Average Consumption (kWh)')\n",
    "fig.show()\n"
   ]
  },
  {
   "cell_type": "code",
   "execution_count": 22,
   "id": "5a6e1c80",
   "metadata": {},
   "outputs": [
    {
     "data": {
      "application/vnd.plotly.v1+json": {
       "config": {
        "plotlyServerURL": "https://plot.ly"
       },
       "data": [
        {
         "hovertemplate": "<extra></extra>",
         "legendgroup": "",
         "line": {
          "color": "#636efa",
          "dash": "solid"
         },
         "marker": {
          "symbol": "circle"
         },
         "mode": "lines",
         "name": "",
         "orientation": "v",
         "showlegend": false,
         "type": "scatter",
         "xaxis": "x",
         "yaxis": "y"
        },
        {
         "line": {
          "color": "orange"
         },
         "mode": "lines",
         "name": "Daytime",
         "type": "scatter",
         "x": [
          "2023-11-03",
          "2023-11-04",
          "2023-11-05",
          "2023-11-06",
          "2023-11-07",
          "2023-11-08",
          "2023-11-09",
          "2023-11-10",
          "2023-11-11",
          "2023-11-12",
          "2023-11-13",
          "2023-11-14",
          "2023-11-15",
          "2023-11-16",
          "2023-11-17",
          "2023-11-18",
          "2023-11-19",
          "2023-11-20",
          "2023-11-21",
          "2023-11-22",
          "2023-11-23",
          "2023-11-24",
          "2023-11-25",
          "2023-11-26",
          "2023-11-27",
          "2023-11-28",
          "2023-11-29"
         ],
         "y": [
          14.36,
          14.57,
          14.78,
          15.040000000000001,
          12.12,
          17.830000000000002,
          12.49,
          13.41,
          21.26,
          14.120000000000001,
          14.200000000000001,
          16.71,
          11.67,
          14.51,
          14.2,
          16.57,
          12.15,
          16.37,
          15.67,
          10.88,
          16.099999999999998,
          21.18,
          15.36,
          13.98,
          12.98,
          14.98,
          19.57
         ]
        },
        {
         "line": {
          "color": "blue"
         },
         "mode": "lines",
         "name": "Nighttime",
         "type": "scatter",
         "x": [
          "2023-11-02",
          "2023-11-03",
          "2023-11-04",
          "2023-11-05",
          "2023-11-06",
          "2023-11-07",
          "2023-11-08",
          "2023-11-09",
          "2023-11-10",
          "2023-11-11",
          "2023-11-12",
          "2023-11-13",
          "2023-11-14",
          "2023-11-15",
          "2023-11-16",
          "2023-11-17",
          "2023-11-18",
          "2023-11-19",
          "2023-11-20",
          "2023-11-21",
          "2023-11-22",
          "2023-11-23",
          "2023-11-24",
          "2023-11-25",
          "2023-11-26",
          "2023-11-27",
          "2023-11-28",
          "2023-11-29"
         ],
         "y": [
          8.43,
          12.63,
          17.68,
          11.06,
          14.91,
          22.96,
          14.93,
          16.36,
          9.76,
          17.29,
          16.31,
          12.26,
          13.99,
          12.25,
          10.97,
          9.71,
          15.63,
          15.28,
          12.58,
          17.91,
          11.54,
          12.01,
          16.76,
          12.719999999999999,
          15.02,
          11.17,
          9.65,
          12.1
         ]
        }
       ],
       "layout": {
        "legend": {
         "tracegroupgap": 0
        },
        "margin": {
         "t": 60
        },
        "template": {
         "data": {
          "bar": [
           {
            "error_x": {
             "color": "#2a3f5f"
            },
            "error_y": {
             "color": "#2a3f5f"
            },
            "marker": {
             "line": {
              "color": "#E5ECF6",
              "width": 0.5
             },
             "pattern": {
              "fillmode": "overlay",
              "size": 10,
              "solidity": 0.2
             }
            },
            "type": "bar"
           }
          ],
          "barpolar": [
           {
            "marker": {
             "line": {
              "color": "#E5ECF6",
              "width": 0.5
             },
             "pattern": {
              "fillmode": "overlay",
              "size": 10,
              "solidity": 0.2
             }
            },
            "type": "barpolar"
           }
          ],
          "carpet": [
           {
            "aaxis": {
             "endlinecolor": "#2a3f5f",
             "gridcolor": "white",
             "linecolor": "white",
             "minorgridcolor": "white",
             "startlinecolor": "#2a3f5f"
            },
            "baxis": {
             "endlinecolor": "#2a3f5f",
             "gridcolor": "white",
             "linecolor": "white",
             "minorgridcolor": "white",
             "startlinecolor": "#2a3f5f"
            },
            "type": "carpet"
           }
          ],
          "choropleth": [
           {
            "colorbar": {
             "outlinewidth": 0,
             "ticks": ""
            },
            "type": "choropleth"
           }
          ],
          "contour": [
           {
            "colorbar": {
             "outlinewidth": 0,
             "ticks": ""
            },
            "colorscale": [
             [
              0,
              "#0d0887"
             ],
             [
              0.1111111111111111,
              "#46039f"
             ],
             [
              0.2222222222222222,
              "#7201a8"
             ],
             [
              0.3333333333333333,
              "#9c179e"
             ],
             [
              0.4444444444444444,
              "#bd3786"
             ],
             [
              0.5555555555555556,
              "#d8576b"
             ],
             [
              0.6666666666666666,
              "#ed7953"
             ],
             [
              0.7777777777777778,
              "#fb9f3a"
             ],
             [
              0.8888888888888888,
              "#fdca26"
             ],
             [
              1,
              "#f0f921"
             ]
            ],
            "type": "contour"
           }
          ],
          "contourcarpet": [
           {
            "colorbar": {
             "outlinewidth": 0,
             "ticks": ""
            },
            "type": "contourcarpet"
           }
          ],
          "heatmap": [
           {
            "colorbar": {
             "outlinewidth": 0,
             "ticks": ""
            },
            "colorscale": [
             [
              0,
              "#0d0887"
             ],
             [
              0.1111111111111111,
              "#46039f"
             ],
             [
              0.2222222222222222,
              "#7201a8"
             ],
             [
              0.3333333333333333,
              "#9c179e"
             ],
             [
              0.4444444444444444,
              "#bd3786"
             ],
             [
              0.5555555555555556,
              "#d8576b"
             ],
             [
              0.6666666666666666,
              "#ed7953"
             ],
             [
              0.7777777777777778,
              "#fb9f3a"
             ],
             [
              0.8888888888888888,
              "#fdca26"
             ],
             [
              1,
              "#f0f921"
             ]
            ],
            "type": "heatmap"
           }
          ],
          "heatmapgl": [
           {
            "colorbar": {
             "outlinewidth": 0,
             "ticks": ""
            },
            "colorscale": [
             [
              0,
              "#0d0887"
             ],
             [
              0.1111111111111111,
              "#46039f"
             ],
             [
              0.2222222222222222,
              "#7201a8"
             ],
             [
              0.3333333333333333,
              "#9c179e"
             ],
             [
              0.4444444444444444,
              "#bd3786"
             ],
             [
              0.5555555555555556,
              "#d8576b"
             ],
             [
              0.6666666666666666,
              "#ed7953"
             ],
             [
              0.7777777777777778,
              "#fb9f3a"
             ],
             [
              0.8888888888888888,
              "#fdca26"
             ],
             [
              1,
              "#f0f921"
             ]
            ],
            "type": "heatmapgl"
           }
          ],
          "histogram": [
           {
            "marker": {
             "pattern": {
              "fillmode": "overlay",
              "size": 10,
              "solidity": 0.2
             }
            },
            "type": "histogram"
           }
          ],
          "histogram2d": [
           {
            "colorbar": {
             "outlinewidth": 0,
             "ticks": ""
            },
            "colorscale": [
             [
              0,
              "#0d0887"
             ],
             [
              0.1111111111111111,
              "#46039f"
             ],
             [
              0.2222222222222222,
              "#7201a8"
             ],
             [
              0.3333333333333333,
              "#9c179e"
             ],
             [
              0.4444444444444444,
              "#bd3786"
             ],
             [
              0.5555555555555556,
              "#d8576b"
             ],
             [
              0.6666666666666666,
              "#ed7953"
             ],
             [
              0.7777777777777778,
              "#fb9f3a"
             ],
             [
              0.8888888888888888,
              "#fdca26"
             ],
             [
              1,
              "#f0f921"
             ]
            ],
            "type": "histogram2d"
           }
          ],
          "histogram2dcontour": [
           {
            "colorbar": {
             "outlinewidth": 0,
             "ticks": ""
            },
            "colorscale": [
             [
              0,
              "#0d0887"
             ],
             [
              0.1111111111111111,
              "#46039f"
             ],
             [
              0.2222222222222222,
              "#7201a8"
             ],
             [
              0.3333333333333333,
              "#9c179e"
             ],
             [
              0.4444444444444444,
              "#bd3786"
             ],
             [
              0.5555555555555556,
              "#d8576b"
             ],
             [
              0.6666666666666666,
              "#ed7953"
             ],
             [
              0.7777777777777778,
              "#fb9f3a"
             ],
             [
              0.8888888888888888,
              "#fdca26"
             ],
             [
              1,
              "#f0f921"
             ]
            ],
            "type": "histogram2dcontour"
           }
          ],
          "mesh3d": [
           {
            "colorbar": {
             "outlinewidth": 0,
             "ticks": ""
            },
            "type": "mesh3d"
           }
          ],
          "parcoords": [
           {
            "line": {
             "colorbar": {
              "outlinewidth": 0,
              "ticks": ""
             }
            },
            "type": "parcoords"
           }
          ],
          "pie": [
           {
            "automargin": true,
            "type": "pie"
           }
          ],
          "scatter": [
           {
            "fillpattern": {
             "fillmode": "overlay",
             "size": 10,
             "solidity": 0.2
            },
            "type": "scatter"
           }
          ],
          "scatter3d": [
           {
            "line": {
             "colorbar": {
              "outlinewidth": 0,
              "ticks": ""
             }
            },
            "marker": {
             "colorbar": {
              "outlinewidth": 0,
              "ticks": ""
             }
            },
            "type": "scatter3d"
           }
          ],
          "scattercarpet": [
           {
            "marker": {
             "colorbar": {
              "outlinewidth": 0,
              "ticks": ""
             }
            },
            "type": "scattercarpet"
           }
          ],
          "scattergeo": [
           {
            "marker": {
             "colorbar": {
              "outlinewidth": 0,
              "ticks": ""
             }
            },
            "type": "scattergeo"
           }
          ],
          "scattergl": [
           {
            "marker": {
             "colorbar": {
              "outlinewidth": 0,
              "ticks": ""
             }
            },
            "type": "scattergl"
           }
          ],
          "scattermapbox": [
           {
            "marker": {
             "colorbar": {
              "outlinewidth": 0,
              "ticks": ""
             }
            },
            "type": "scattermapbox"
           }
          ],
          "scatterpolar": [
           {
            "marker": {
             "colorbar": {
              "outlinewidth": 0,
              "ticks": ""
             }
            },
            "type": "scatterpolar"
           }
          ],
          "scatterpolargl": [
           {
            "marker": {
             "colorbar": {
              "outlinewidth": 0,
              "ticks": ""
             }
            },
            "type": "scatterpolargl"
           }
          ],
          "scatterternary": [
           {
            "marker": {
             "colorbar": {
              "outlinewidth": 0,
              "ticks": ""
             }
            },
            "type": "scatterternary"
           }
          ],
          "surface": [
           {
            "colorbar": {
             "outlinewidth": 0,
             "ticks": ""
            },
            "colorscale": [
             [
              0,
              "#0d0887"
             ],
             [
              0.1111111111111111,
              "#46039f"
             ],
             [
              0.2222222222222222,
              "#7201a8"
             ],
             [
              0.3333333333333333,
              "#9c179e"
             ],
             [
              0.4444444444444444,
              "#bd3786"
             ],
             [
              0.5555555555555556,
              "#d8576b"
             ],
             [
              0.6666666666666666,
              "#ed7953"
             ],
             [
              0.7777777777777778,
              "#fb9f3a"
             ],
             [
              0.8888888888888888,
              "#fdca26"
             ],
             [
              1,
              "#f0f921"
             ]
            ],
            "type": "surface"
           }
          ],
          "table": [
           {
            "cells": {
             "fill": {
              "color": "#EBF0F8"
             },
             "line": {
              "color": "white"
             }
            },
            "header": {
             "fill": {
              "color": "#C8D4E3"
             },
             "line": {
              "color": "white"
             }
            },
            "type": "table"
           }
          ]
         },
         "layout": {
          "annotationdefaults": {
           "arrowcolor": "#2a3f5f",
           "arrowhead": 0,
           "arrowwidth": 1
          },
          "autotypenumbers": "strict",
          "coloraxis": {
           "colorbar": {
            "outlinewidth": 0,
            "ticks": ""
           }
          },
          "colorscale": {
           "diverging": [
            [
             0,
             "#8e0152"
            ],
            [
             0.1,
             "#c51b7d"
            ],
            [
             0.2,
             "#de77ae"
            ],
            [
             0.3,
             "#f1b6da"
            ],
            [
             0.4,
             "#fde0ef"
            ],
            [
             0.5,
             "#f7f7f7"
            ],
            [
             0.6,
             "#e6f5d0"
            ],
            [
             0.7,
             "#b8e186"
            ],
            [
             0.8,
             "#7fbc41"
            ],
            [
             0.9,
             "#4d9221"
            ],
            [
             1,
             "#276419"
            ]
           ],
           "sequential": [
            [
             0,
             "#0d0887"
            ],
            [
             0.1111111111111111,
             "#46039f"
            ],
            [
             0.2222222222222222,
             "#7201a8"
            ],
            [
             0.3333333333333333,
             "#9c179e"
            ],
            [
             0.4444444444444444,
             "#bd3786"
            ],
            [
             0.5555555555555556,
             "#d8576b"
            ],
            [
             0.6666666666666666,
             "#ed7953"
            ],
            [
             0.7777777777777778,
             "#fb9f3a"
            ],
            [
             0.8888888888888888,
             "#fdca26"
            ],
            [
             1,
             "#f0f921"
            ]
           ],
           "sequentialminus": [
            [
             0,
             "#0d0887"
            ],
            [
             0.1111111111111111,
             "#46039f"
            ],
            [
             0.2222222222222222,
             "#7201a8"
            ],
            [
             0.3333333333333333,
             "#9c179e"
            ],
            [
             0.4444444444444444,
             "#bd3786"
            ],
            [
             0.5555555555555556,
             "#d8576b"
            ],
            [
             0.6666666666666666,
             "#ed7953"
            ],
            [
             0.7777777777777778,
             "#fb9f3a"
            ],
            [
             0.8888888888888888,
             "#fdca26"
            ],
            [
             1,
             "#f0f921"
            ]
           ]
          },
          "colorway": [
           "#636efa",
           "#EF553B",
           "#00cc96",
           "#ab63fa",
           "#FFA15A",
           "#19d3f3",
           "#FF6692",
           "#B6E880",
           "#FF97FF",
           "#FECB52"
          ],
          "font": {
           "color": "#2a3f5f"
          },
          "geo": {
           "bgcolor": "white",
           "lakecolor": "white",
           "landcolor": "#E5ECF6",
           "showlakes": true,
           "showland": true,
           "subunitcolor": "white"
          },
          "hoverlabel": {
           "align": "left"
          },
          "hovermode": "closest",
          "mapbox": {
           "style": "light"
          },
          "paper_bgcolor": "white",
          "plot_bgcolor": "#E5ECF6",
          "polar": {
           "angularaxis": {
            "gridcolor": "white",
            "linecolor": "white",
            "ticks": ""
           },
           "bgcolor": "#E5ECF6",
           "radialaxis": {
            "gridcolor": "white",
            "linecolor": "white",
            "ticks": ""
           }
          },
          "scene": {
           "xaxis": {
            "backgroundcolor": "#E5ECF6",
            "gridcolor": "white",
            "gridwidth": 2,
            "linecolor": "white",
            "showbackground": true,
            "ticks": "",
            "zerolinecolor": "white"
           },
           "yaxis": {
            "backgroundcolor": "#E5ECF6",
            "gridcolor": "white",
            "gridwidth": 2,
            "linecolor": "white",
            "showbackground": true,
            "ticks": "",
            "zerolinecolor": "white"
           },
           "zaxis": {
            "backgroundcolor": "#E5ECF6",
            "gridcolor": "white",
            "gridwidth": 2,
            "linecolor": "white",
            "showbackground": true,
            "ticks": "",
            "zerolinecolor": "white"
           }
          },
          "shapedefaults": {
           "line": {
            "color": "#2a3f5f"
           }
          },
          "ternary": {
           "aaxis": {
            "gridcolor": "white",
            "linecolor": "white",
            "ticks": ""
           },
           "baxis": {
            "gridcolor": "white",
            "linecolor": "white",
            "ticks": ""
           },
           "bgcolor": "#E5ECF6",
           "caxis": {
            "gridcolor": "white",
            "linecolor": "white",
            "ticks": ""
           }
          },
          "title": {
           "x": 0.05
          },
          "xaxis": {
           "automargin": true,
           "gridcolor": "white",
           "linecolor": "white",
           "ticks": "",
           "title": {
            "standoff": 15
           },
           "zerolinecolor": "white",
           "zerolinewidth": 2
          },
          "yaxis": {
           "automargin": true,
           "gridcolor": "white",
           "linecolor": "white",
           "ticks": "",
           "title": {
            "standoff": 15
           },
           "zerolinecolor": "white",
           "zerolinewidth": 2
          }
         }
        },
        "title": {
         "text": "Daytime vs Nighttime Energy Consumption"
        },
        "xaxis": {
         "anchor": "y",
         "domain": [
          0,
          1
         ],
         "tickangle": -45,
         "title": {
          "text": "Date"
         }
        },
        "yaxis": {
         "anchor": "x",
         "domain": [
          0,
          1
         ],
         "title": {
          "text": "Energy Consumption (kWh)"
         }
        }
       }
      },
      "text/html": [
       "<div>                            <div id=\"7c4db1b4-a1a3-4507-bad7-cfbfc298b7e5\" class=\"plotly-graph-div\" style=\"height:525px; width:100%;\"></div>            <script type=\"text/javascript\">                require([\"plotly\"], function(Plotly) {                    window.PLOTLYENV=window.PLOTLYENV || {};                                    if (document.getElementById(\"7c4db1b4-a1a3-4507-bad7-cfbfc298b7e5\")) {                    Plotly.newPlot(                        \"7c4db1b4-a1a3-4507-bad7-cfbfc298b7e5\",                        [{\"hovertemplate\":\"<extra></extra>\",\"legendgroup\":\"\",\"line\":{\"color\":\"#636efa\",\"dash\":\"solid\"},\"marker\":{\"symbol\":\"circle\"},\"mode\":\"lines\",\"name\":\"\",\"orientation\":\"v\",\"showlegend\":false,\"xaxis\":\"x\",\"yaxis\":\"y\",\"type\":\"scatter\"},{\"line\":{\"color\":\"orange\"},\"mode\":\"lines\",\"name\":\"Daytime\",\"x\":[\"2023-11-03\",\"2023-11-04\",\"2023-11-05\",\"2023-11-06\",\"2023-11-07\",\"2023-11-08\",\"2023-11-09\",\"2023-11-10\",\"2023-11-11\",\"2023-11-12\",\"2023-11-13\",\"2023-11-14\",\"2023-11-15\",\"2023-11-16\",\"2023-11-17\",\"2023-11-18\",\"2023-11-19\",\"2023-11-20\",\"2023-11-21\",\"2023-11-22\",\"2023-11-23\",\"2023-11-24\",\"2023-11-25\",\"2023-11-26\",\"2023-11-27\",\"2023-11-28\",\"2023-11-29\"],\"y\":[14.36,14.57,14.78,15.040000000000001,12.12,17.830000000000002,12.49,13.41,21.26,14.120000000000001,14.200000000000001,16.71,11.67,14.51,14.2,16.57,12.15,16.37,15.67,10.88,16.099999999999998,21.18,15.36,13.98,12.98,14.98,19.57],\"type\":\"scatter\"},{\"line\":{\"color\":\"blue\"},\"mode\":\"lines\",\"name\":\"Nighttime\",\"x\":[\"2023-11-02\",\"2023-11-03\",\"2023-11-04\",\"2023-11-05\",\"2023-11-06\",\"2023-11-07\",\"2023-11-08\",\"2023-11-09\",\"2023-11-10\",\"2023-11-11\",\"2023-11-12\",\"2023-11-13\",\"2023-11-14\",\"2023-11-15\",\"2023-11-16\",\"2023-11-17\",\"2023-11-18\",\"2023-11-19\",\"2023-11-20\",\"2023-11-21\",\"2023-11-22\",\"2023-11-23\",\"2023-11-24\",\"2023-11-25\",\"2023-11-26\",\"2023-11-27\",\"2023-11-28\",\"2023-11-29\"],\"y\":[8.43,12.63,17.68,11.06,14.91,22.96,14.93,16.36,9.76,17.29,16.31,12.26,13.99,12.25,10.97,9.71,15.63,15.28,12.58,17.91,11.54,12.01,16.76,12.719999999999999,15.02,11.17,9.65,12.1],\"type\":\"scatter\"}],                        {\"template\":{\"data\":{\"histogram2dcontour\":[{\"type\":\"histogram2dcontour\",\"colorbar\":{\"outlinewidth\":0,\"ticks\":\"\"},\"colorscale\":[[0.0,\"#0d0887\"],[0.1111111111111111,\"#46039f\"],[0.2222222222222222,\"#7201a8\"],[0.3333333333333333,\"#9c179e\"],[0.4444444444444444,\"#bd3786\"],[0.5555555555555556,\"#d8576b\"],[0.6666666666666666,\"#ed7953\"],[0.7777777777777778,\"#fb9f3a\"],[0.8888888888888888,\"#fdca26\"],[1.0,\"#f0f921\"]]}],\"choropleth\":[{\"type\":\"choropleth\",\"colorbar\":{\"outlinewidth\":0,\"ticks\":\"\"}}],\"histogram2d\":[{\"type\":\"histogram2d\",\"colorbar\":{\"outlinewidth\":0,\"ticks\":\"\"},\"colorscale\":[[0.0,\"#0d0887\"],[0.1111111111111111,\"#46039f\"],[0.2222222222222222,\"#7201a8\"],[0.3333333333333333,\"#9c179e\"],[0.4444444444444444,\"#bd3786\"],[0.5555555555555556,\"#d8576b\"],[0.6666666666666666,\"#ed7953\"],[0.7777777777777778,\"#fb9f3a\"],[0.8888888888888888,\"#fdca26\"],[1.0,\"#f0f921\"]]}],\"heatmap\":[{\"type\":\"heatmap\",\"colorbar\":{\"outlinewidth\":0,\"ticks\":\"\"},\"colorscale\":[[0.0,\"#0d0887\"],[0.1111111111111111,\"#46039f\"],[0.2222222222222222,\"#7201a8\"],[0.3333333333333333,\"#9c179e\"],[0.4444444444444444,\"#bd3786\"],[0.5555555555555556,\"#d8576b\"],[0.6666666666666666,\"#ed7953\"],[0.7777777777777778,\"#fb9f3a\"],[0.8888888888888888,\"#fdca26\"],[1.0,\"#f0f921\"]]}],\"heatmapgl\":[{\"type\":\"heatmapgl\",\"colorbar\":{\"outlinewidth\":0,\"ticks\":\"\"},\"colorscale\":[[0.0,\"#0d0887\"],[0.1111111111111111,\"#46039f\"],[0.2222222222222222,\"#7201a8\"],[0.3333333333333333,\"#9c179e\"],[0.4444444444444444,\"#bd3786\"],[0.5555555555555556,\"#d8576b\"],[0.6666666666666666,\"#ed7953\"],[0.7777777777777778,\"#fb9f3a\"],[0.8888888888888888,\"#fdca26\"],[1.0,\"#f0f921\"]]}],\"contourcarpet\":[{\"type\":\"contourcarpet\",\"colorbar\":{\"outlinewidth\":0,\"ticks\":\"\"}}],\"contour\":[{\"type\":\"contour\",\"colorbar\":{\"outlinewidth\":0,\"ticks\":\"\"},\"colorscale\":[[0.0,\"#0d0887\"],[0.1111111111111111,\"#46039f\"],[0.2222222222222222,\"#7201a8\"],[0.3333333333333333,\"#9c179e\"],[0.4444444444444444,\"#bd3786\"],[0.5555555555555556,\"#d8576b\"],[0.6666666666666666,\"#ed7953\"],[0.7777777777777778,\"#fb9f3a\"],[0.8888888888888888,\"#fdca26\"],[1.0,\"#f0f921\"]]}],\"surface\":[{\"type\":\"surface\",\"colorbar\":{\"outlinewidth\":0,\"ticks\":\"\"},\"colorscale\":[[0.0,\"#0d0887\"],[0.1111111111111111,\"#46039f\"],[0.2222222222222222,\"#7201a8\"],[0.3333333333333333,\"#9c179e\"],[0.4444444444444444,\"#bd3786\"],[0.5555555555555556,\"#d8576b\"],[0.6666666666666666,\"#ed7953\"],[0.7777777777777778,\"#fb9f3a\"],[0.8888888888888888,\"#fdca26\"],[1.0,\"#f0f921\"]]}],\"mesh3d\":[{\"type\":\"mesh3d\",\"colorbar\":{\"outlinewidth\":0,\"ticks\":\"\"}}],\"scatter\":[{\"fillpattern\":{\"fillmode\":\"overlay\",\"size\":10,\"solidity\":0.2},\"type\":\"scatter\"}],\"parcoords\":[{\"type\":\"parcoords\",\"line\":{\"colorbar\":{\"outlinewidth\":0,\"ticks\":\"\"}}}],\"scatterpolargl\":[{\"type\":\"scatterpolargl\",\"marker\":{\"colorbar\":{\"outlinewidth\":0,\"ticks\":\"\"}}}],\"bar\":[{\"error_x\":{\"color\":\"#2a3f5f\"},\"error_y\":{\"color\":\"#2a3f5f\"},\"marker\":{\"line\":{\"color\":\"#E5ECF6\",\"width\":0.5},\"pattern\":{\"fillmode\":\"overlay\",\"size\":10,\"solidity\":0.2}},\"type\":\"bar\"}],\"scattergeo\":[{\"type\":\"scattergeo\",\"marker\":{\"colorbar\":{\"outlinewidth\":0,\"ticks\":\"\"}}}],\"scatterpolar\":[{\"type\":\"scatterpolar\",\"marker\":{\"colorbar\":{\"outlinewidth\":0,\"ticks\":\"\"}}}],\"histogram\":[{\"marker\":{\"pattern\":{\"fillmode\":\"overlay\",\"size\":10,\"solidity\":0.2}},\"type\":\"histogram\"}],\"scattergl\":[{\"type\":\"scattergl\",\"marker\":{\"colorbar\":{\"outlinewidth\":0,\"ticks\":\"\"}}}],\"scatter3d\":[{\"type\":\"scatter3d\",\"line\":{\"colorbar\":{\"outlinewidth\":0,\"ticks\":\"\"}},\"marker\":{\"colorbar\":{\"outlinewidth\":0,\"ticks\":\"\"}}}],\"scattermapbox\":[{\"type\":\"scattermapbox\",\"marker\":{\"colorbar\":{\"outlinewidth\":0,\"ticks\":\"\"}}}],\"scatterternary\":[{\"type\":\"scatterternary\",\"marker\":{\"colorbar\":{\"outlinewidth\":0,\"ticks\":\"\"}}}],\"scattercarpet\":[{\"type\":\"scattercarpet\",\"marker\":{\"colorbar\":{\"outlinewidth\":0,\"ticks\":\"\"}}}],\"carpet\":[{\"aaxis\":{\"endlinecolor\":\"#2a3f5f\",\"gridcolor\":\"white\",\"linecolor\":\"white\",\"minorgridcolor\":\"white\",\"startlinecolor\":\"#2a3f5f\"},\"baxis\":{\"endlinecolor\":\"#2a3f5f\",\"gridcolor\":\"white\",\"linecolor\":\"white\",\"minorgridcolor\":\"white\",\"startlinecolor\":\"#2a3f5f\"},\"type\":\"carpet\"}],\"table\":[{\"cells\":{\"fill\":{\"color\":\"#EBF0F8\"},\"line\":{\"color\":\"white\"}},\"header\":{\"fill\":{\"color\":\"#C8D4E3\"},\"line\":{\"color\":\"white\"}},\"type\":\"table\"}],\"barpolar\":[{\"marker\":{\"line\":{\"color\":\"#E5ECF6\",\"width\":0.5},\"pattern\":{\"fillmode\":\"overlay\",\"size\":10,\"solidity\":0.2}},\"type\":\"barpolar\"}],\"pie\":[{\"automargin\":true,\"type\":\"pie\"}]},\"layout\":{\"autotypenumbers\":\"strict\",\"colorway\":[\"#636efa\",\"#EF553B\",\"#00cc96\",\"#ab63fa\",\"#FFA15A\",\"#19d3f3\",\"#FF6692\",\"#B6E880\",\"#FF97FF\",\"#FECB52\"],\"font\":{\"color\":\"#2a3f5f\"},\"hovermode\":\"closest\",\"hoverlabel\":{\"align\":\"left\"},\"paper_bgcolor\":\"white\",\"plot_bgcolor\":\"#E5ECF6\",\"polar\":{\"bgcolor\":\"#E5ECF6\",\"angularaxis\":{\"gridcolor\":\"white\",\"linecolor\":\"white\",\"ticks\":\"\"},\"radialaxis\":{\"gridcolor\":\"white\",\"linecolor\":\"white\",\"ticks\":\"\"}},\"ternary\":{\"bgcolor\":\"#E5ECF6\",\"aaxis\":{\"gridcolor\":\"white\",\"linecolor\":\"white\",\"ticks\":\"\"},\"baxis\":{\"gridcolor\":\"white\",\"linecolor\":\"white\",\"ticks\":\"\"},\"caxis\":{\"gridcolor\":\"white\",\"linecolor\":\"white\",\"ticks\":\"\"}},\"coloraxis\":{\"colorbar\":{\"outlinewidth\":0,\"ticks\":\"\"}},\"colorscale\":{\"sequential\":[[0.0,\"#0d0887\"],[0.1111111111111111,\"#46039f\"],[0.2222222222222222,\"#7201a8\"],[0.3333333333333333,\"#9c179e\"],[0.4444444444444444,\"#bd3786\"],[0.5555555555555556,\"#d8576b\"],[0.6666666666666666,\"#ed7953\"],[0.7777777777777778,\"#fb9f3a\"],[0.8888888888888888,\"#fdca26\"],[1.0,\"#f0f921\"]],\"sequentialminus\":[[0.0,\"#0d0887\"],[0.1111111111111111,\"#46039f\"],[0.2222222222222222,\"#7201a8\"],[0.3333333333333333,\"#9c179e\"],[0.4444444444444444,\"#bd3786\"],[0.5555555555555556,\"#d8576b\"],[0.6666666666666666,\"#ed7953\"],[0.7777777777777778,\"#fb9f3a\"],[0.8888888888888888,\"#fdca26\"],[1.0,\"#f0f921\"]],\"diverging\":[[0,\"#8e0152\"],[0.1,\"#c51b7d\"],[0.2,\"#de77ae\"],[0.3,\"#f1b6da\"],[0.4,\"#fde0ef\"],[0.5,\"#f7f7f7\"],[0.6,\"#e6f5d0\"],[0.7,\"#b8e186\"],[0.8,\"#7fbc41\"],[0.9,\"#4d9221\"],[1,\"#276419\"]]},\"xaxis\":{\"gridcolor\":\"white\",\"linecolor\":\"white\",\"ticks\":\"\",\"title\":{\"standoff\":15},\"zerolinecolor\":\"white\",\"automargin\":true,\"zerolinewidth\":2},\"yaxis\":{\"gridcolor\":\"white\",\"linecolor\":\"white\",\"ticks\":\"\",\"title\":{\"standoff\":15},\"zerolinecolor\":\"white\",\"automargin\":true,\"zerolinewidth\":2},\"scene\":{\"xaxis\":{\"backgroundcolor\":\"#E5ECF6\",\"gridcolor\":\"white\",\"linecolor\":\"white\",\"showbackground\":true,\"ticks\":\"\",\"zerolinecolor\":\"white\",\"gridwidth\":2},\"yaxis\":{\"backgroundcolor\":\"#E5ECF6\",\"gridcolor\":\"white\",\"linecolor\":\"white\",\"showbackground\":true,\"ticks\":\"\",\"zerolinecolor\":\"white\",\"gridwidth\":2},\"zaxis\":{\"backgroundcolor\":\"#E5ECF6\",\"gridcolor\":\"white\",\"linecolor\":\"white\",\"showbackground\":true,\"ticks\":\"\",\"zerolinecolor\":\"white\",\"gridwidth\":2}},\"shapedefaults\":{\"line\":{\"color\":\"#2a3f5f\"}},\"annotationdefaults\":{\"arrowcolor\":\"#2a3f5f\",\"arrowhead\":0,\"arrowwidth\":1},\"geo\":{\"bgcolor\":\"white\",\"landcolor\":\"#E5ECF6\",\"subunitcolor\":\"white\",\"showland\":true,\"showlakes\":true,\"lakecolor\":\"white\"},\"title\":{\"x\":0.05},\"mapbox\":{\"style\":\"light\"}}},\"xaxis\":{\"anchor\":\"y\",\"domain\":[0.0,1.0],\"title\":{\"text\":\"Date\"},\"tickangle\":-45},\"yaxis\":{\"anchor\":\"x\",\"domain\":[0.0,1.0],\"title\":{\"text\":\"Energy Consumption (kWh)\"}},\"legend\":{\"tracegroupgap\":0},\"margin\":{\"t\":60},\"title\":{\"text\":\"Daytime vs Nighttime Energy Consumption\"}},                        {\"responsive\": true}                    ).then(function(){\n",
       "                            \n",
       "var gd = document.getElementById('7c4db1b4-a1a3-4507-bad7-cfbfc298b7e5');\n",
       "var x = new MutationObserver(function (mutations, observer) {{\n",
       "        var display = window.getComputedStyle(gd).display;\n",
       "        if (!display || display === 'none') {{\n",
       "            console.log([gd, 'removed!']);\n",
       "            Plotly.purge(gd);\n",
       "            observer.disconnect();\n",
       "        }}\n",
       "}});\n",
       "\n",
       "// Listen for the removal of the full notebook cells\n",
       "var notebookContainer = gd.closest('#notebook-container');\n",
       "if (notebookContainer) {{\n",
       "    x.observe(notebookContainer, {childList: true});\n",
       "}}\n",
       "\n",
       "// Listen for the clearing of the current output cell\n",
       "var outputEl = gd.closest('.output');\n",
       "if (outputEl) {{\n",
       "    x.observe(outputEl, {childList: true});\n",
       "}}\n",
       "\n",
       "                        })                };                });            </script>        </div>"
      ]
     },
     "metadata": {},
     "output_type": "display_data"
    }
   ],
   "source": [
    "import plotly.express as px\n",
    "import pandas as pd\n",
    "\n",
    "# Assuming the dataset is loaded into a DataFrame named 'data'\n",
    "\n",
    "# Filter the data for daytime records (6 AM to 6 PM) and nighttime records (6 PM to 6 AM)\n",
    "daytime_data = df[(df['hour'] >= 6) & (df['hour'] <= 18)]\n",
    "nighttime_data = df[((df['hour'] >= 18) & (df['hour'] <= 23)) | ((df['hour'] >= 0) & (df['hour'] <= 6))]\n",
    "\n",
    "# Group by date and sum the daytime and nighttime energy consumption separately\n",
    "daytime_consumption = daytime_data.groupby('date')['Consumption (kWh)'].sum().reset_index()\n",
    "nighttime_consumption = nighttime_data.groupby('date')['Consumption (kWh)'].sum().reset_index()\n",
    "\n",
    "# Plotting both daytime and nighttime energy consumption using Plotly line chart\n",
    "fig = px.line()\n",
    "\n",
    "# Add daytime energy consumption line\n",
    "fig.add_scatter(x=daytime_consumption['date'], y=daytime_consumption['Consumption (kWh)'],\n",
    "                mode='lines', name='Daytime', line=dict(color='orange'))\n",
    "\n",
    "# Add nighttime energy consumption line\n",
    "fig.add_scatter(x=nighttime_consumption['date'], y=nighttime_consumption['Consumption (kWh)'],\n",
    "                mode='lines', name='Nighttime', line=dict(color='blue'))\n",
    "\n",
    "# Update chart labels and title\n",
    "fig.update_layout(title='Daytime vs Nighttime Energy Consumption',\n",
    "                  xaxis=dict(title='Date'),\n",
    "                  yaxis=dict(title='Energy Consumption (kWh)'),\n",
    "                  xaxis_tickangle=-45)\n",
    "\n",
    "fig.show()\n"
   ]
  },
  {
   "cell_type": "code",
   "execution_count": 44,
   "id": "177423eb",
   "metadata": {},
   "outputs": [
    {
     "data": {
      "application/vnd.plotly.v1+json": {
       "config": {
        "plotlyServerURL": "https://plot.ly"
       },
       "data": [
        {
         "coloraxis": "coloraxis",
         "hovertemplate": "x: %{x}<br>y: %{y}<br>Correlation: %{z}<extra></extra>",
         "name": "0",
         "type": "heatmap",
         "x": [
          "hour",
          "part_of_day",
          "humidity",
          "feelslike",
          "temp",
          "sensor_temp",
          "Consumption (kWh)"
         ],
         "xaxis": "x",
         "y": [
          "hour",
          "part_of_day",
          "humidity",
          "feelslike",
          "temp",
          "sensor_temp",
          "Consumption (kWh)"
         ],
         "yaxis": "y",
         "z": [
          [
           1,
           0.4126916277780641,
           -0.13508358987999372,
           0.11285122421792068,
           0.0888830539054334,
           -0.10325631197648458,
           0.4512634788606758
          ],
          [
           0.4126916277780641,
           1,
           0.1633899652883624,
           -0.1052832034376903,
           -0.09043178700502874,
           0.09979278210071349,
           0.13545482857649202
          ],
          [
           -0.13508358987999372,
           0.1633899652883624,
           1,
           0.008438614175240366,
           0.006075157404767942,
           -0.007457877152508474,
           -0.061445122156172684
          ],
          [
           0.11285122421792068,
           -0.1052832034376903,
           0.008438614175240366,
           1,
           0.9491033820367353,
           -0.9894074146265577,
           0.046933937320876674
          ],
          [
           0.0888830539054334,
           -0.09043178700502874,
           0.006075157404767942,
           0.9491033820367353,
           1,
           -0.9847718742934173,
           0.03057478241836131
          ],
          [
           -0.10325631197648458,
           0.09979278210071349,
           -0.007457877152508474,
           -0.9894074146265577,
           -0.9847718742934173,
           1,
           -0.039997924511552804
          ],
          [
           0.4512634788606758,
           0.13545482857649202,
           -0.061445122156172684,
           0.046933937320876674,
           0.03057478241836131,
           -0.039997924511552804,
           1
          ]
         ]
        }
       ],
       "layout": {
        "coloraxis": {
         "colorbar": {
          "title": {
           "text": "Correlation"
          }
         },
         "colorscale": [
          [
           0,
           "#440154"
          ],
          [
           0.1111111111111111,
           "#482878"
          ],
          [
           0.2222222222222222,
           "#3e4989"
          ],
          [
           0.3333333333333333,
           "#31688e"
          ],
          [
           0.4444444444444444,
           "#26828e"
          ],
          [
           0.5555555555555556,
           "#1f9e89"
          ],
          [
           0.6666666666666666,
           "#35b779"
          ],
          [
           0.7777777777777778,
           "#6ece58"
          ],
          [
           0.8888888888888888,
           "#b5de2b"
          ],
          [
           1,
           "#fde725"
          ]
         ]
        },
        "height": 600,
        "margin": {
         "t": 60
        },
        "template": {
         "data": {
          "bar": [
           {
            "error_x": {
             "color": "#2a3f5f"
            },
            "error_y": {
             "color": "#2a3f5f"
            },
            "marker": {
             "line": {
              "color": "#E5ECF6",
              "width": 0.5
             },
             "pattern": {
              "fillmode": "overlay",
              "size": 10,
              "solidity": 0.2
             }
            },
            "type": "bar"
           }
          ],
          "barpolar": [
           {
            "marker": {
             "line": {
              "color": "#E5ECF6",
              "width": 0.5
             },
             "pattern": {
              "fillmode": "overlay",
              "size": 10,
              "solidity": 0.2
             }
            },
            "type": "barpolar"
           }
          ],
          "carpet": [
           {
            "aaxis": {
             "endlinecolor": "#2a3f5f",
             "gridcolor": "white",
             "linecolor": "white",
             "minorgridcolor": "white",
             "startlinecolor": "#2a3f5f"
            },
            "baxis": {
             "endlinecolor": "#2a3f5f",
             "gridcolor": "white",
             "linecolor": "white",
             "minorgridcolor": "white",
             "startlinecolor": "#2a3f5f"
            },
            "type": "carpet"
           }
          ],
          "choropleth": [
           {
            "colorbar": {
             "outlinewidth": 0,
             "ticks": ""
            },
            "type": "choropleth"
           }
          ],
          "contour": [
           {
            "colorbar": {
             "outlinewidth": 0,
             "ticks": ""
            },
            "colorscale": [
             [
              0,
              "#0d0887"
             ],
             [
              0.1111111111111111,
              "#46039f"
             ],
             [
              0.2222222222222222,
              "#7201a8"
             ],
             [
              0.3333333333333333,
              "#9c179e"
             ],
             [
              0.4444444444444444,
              "#bd3786"
             ],
             [
              0.5555555555555556,
              "#d8576b"
             ],
             [
              0.6666666666666666,
              "#ed7953"
             ],
             [
              0.7777777777777778,
              "#fb9f3a"
             ],
             [
              0.8888888888888888,
              "#fdca26"
             ],
             [
              1,
              "#f0f921"
             ]
            ],
            "type": "contour"
           }
          ],
          "contourcarpet": [
           {
            "colorbar": {
             "outlinewidth": 0,
             "ticks": ""
            },
            "type": "contourcarpet"
           }
          ],
          "heatmap": [
           {
            "colorbar": {
             "outlinewidth": 0,
             "ticks": ""
            },
            "colorscale": [
             [
              0,
              "#0d0887"
             ],
             [
              0.1111111111111111,
              "#46039f"
             ],
             [
              0.2222222222222222,
              "#7201a8"
             ],
             [
              0.3333333333333333,
              "#9c179e"
             ],
             [
              0.4444444444444444,
              "#bd3786"
             ],
             [
              0.5555555555555556,
              "#d8576b"
             ],
             [
              0.6666666666666666,
              "#ed7953"
             ],
             [
              0.7777777777777778,
              "#fb9f3a"
             ],
             [
              0.8888888888888888,
              "#fdca26"
             ],
             [
              1,
              "#f0f921"
             ]
            ],
            "type": "heatmap"
           }
          ],
          "heatmapgl": [
           {
            "colorbar": {
             "outlinewidth": 0,
             "ticks": ""
            },
            "colorscale": [
             [
              0,
              "#0d0887"
             ],
             [
              0.1111111111111111,
              "#46039f"
             ],
             [
              0.2222222222222222,
              "#7201a8"
             ],
             [
              0.3333333333333333,
              "#9c179e"
             ],
             [
              0.4444444444444444,
              "#bd3786"
             ],
             [
              0.5555555555555556,
              "#d8576b"
             ],
             [
              0.6666666666666666,
              "#ed7953"
             ],
             [
              0.7777777777777778,
              "#fb9f3a"
             ],
             [
              0.8888888888888888,
              "#fdca26"
             ],
             [
              1,
              "#f0f921"
             ]
            ],
            "type": "heatmapgl"
           }
          ],
          "histogram": [
           {
            "marker": {
             "pattern": {
              "fillmode": "overlay",
              "size": 10,
              "solidity": 0.2
             }
            },
            "type": "histogram"
           }
          ],
          "histogram2d": [
           {
            "colorbar": {
             "outlinewidth": 0,
             "ticks": ""
            },
            "colorscale": [
             [
              0,
              "#0d0887"
             ],
             [
              0.1111111111111111,
              "#46039f"
             ],
             [
              0.2222222222222222,
              "#7201a8"
             ],
             [
              0.3333333333333333,
              "#9c179e"
             ],
             [
              0.4444444444444444,
              "#bd3786"
             ],
             [
              0.5555555555555556,
              "#d8576b"
             ],
             [
              0.6666666666666666,
              "#ed7953"
             ],
             [
              0.7777777777777778,
              "#fb9f3a"
             ],
             [
              0.8888888888888888,
              "#fdca26"
             ],
             [
              1,
              "#f0f921"
             ]
            ],
            "type": "histogram2d"
           }
          ],
          "histogram2dcontour": [
           {
            "colorbar": {
             "outlinewidth": 0,
             "ticks": ""
            },
            "colorscale": [
             [
              0,
              "#0d0887"
             ],
             [
              0.1111111111111111,
              "#46039f"
             ],
             [
              0.2222222222222222,
              "#7201a8"
             ],
             [
              0.3333333333333333,
              "#9c179e"
             ],
             [
              0.4444444444444444,
              "#bd3786"
             ],
             [
              0.5555555555555556,
              "#d8576b"
             ],
             [
              0.6666666666666666,
              "#ed7953"
             ],
             [
              0.7777777777777778,
              "#fb9f3a"
             ],
             [
              0.8888888888888888,
              "#fdca26"
             ],
             [
              1,
              "#f0f921"
             ]
            ],
            "type": "histogram2dcontour"
           }
          ],
          "mesh3d": [
           {
            "colorbar": {
             "outlinewidth": 0,
             "ticks": ""
            },
            "type": "mesh3d"
           }
          ],
          "parcoords": [
           {
            "line": {
             "colorbar": {
              "outlinewidth": 0,
              "ticks": ""
             }
            },
            "type": "parcoords"
           }
          ],
          "pie": [
           {
            "automargin": true,
            "type": "pie"
           }
          ],
          "scatter": [
           {
            "fillpattern": {
             "fillmode": "overlay",
             "size": 10,
             "solidity": 0.2
            },
            "type": "scatter"
           }
          ],
          "scatter3d": [
           {
            "line": {
             "colorbar": {
              "outlinewidth": 0,
              "ticks": ""
             }
            },
            "marker": {
             "colorbar": {
              "outlinewidth": 0,
              "ticks": ""
             }
            },
            "type": "scatter3d"
           }
          ],
          "scattercarpet": [
           {
            "marker": {
             "colorbar": {
              "outlinewidth": 0,
              "ticks": ""
             }
            },
            "type": "scattercarpet"
           }
          ],
          "scattergeo": [
           {
            "marker": {
             "colorbar": {
              "outlinewidth": 0,
              "ticks": ""
             }
            },
            "type": "scattergeo"
           }
          ],
          "scattergl": [
           {
            "marker": {
             "colorbar": {
              "outlinewidth": 0,
              "ticks": ""
             }
            },
            "type": "scattergl"
           }
          ],
          "scattermapbox": [
           {
            "marker": {
             "colorbar": {
              "outlinewidth": 0,
              "ticks": ""
             }
            },
            "type": "scattermapbox"
           }
          ],
          "scatterpolar": [
           {
            "marker": {
             "colorbar": {
              "outlinewidth": 0,
              "ticks": ""
             }
            },
            "type": "scatterpolar"
           }
          ],
          "scatterpolargl": [
           {
            "marker": {
             "colorbar": {
              "outlinewidth": 0,
              "ticks": ""
             }
            },
            "type": "scatterpolargl"
           }
          ],
          "scatterternary": [
           {
            "marker": {
             "colorbar": {
              "outlinewidth": 0,
              "ticks": ""
             }
            },
            "type": "scatterternary"
           }
          ],
          "surface": [
           {
            "colorbar": {
             "outlinewidth": 0,
             "ticks": ""
            },
            "colorscale": [
             [
              0,
              "#0d0887"
             ],
             [
              0.1111111111111111,
              "#46039f"
             ],
             [
              0.2222222222222222,
              "#7201a8"
             ],
             [
              0.3333333333333333,
              "#9c179e"
             ],
             [
              0.4444444444444444,
              "#bd3786"
             ],
             [
              0.5555555555555556,
              "#d8576b"
             ],
             [
              0.6666666666666666,
              "#ed7953"
             ],
             [
              0.7777777777777778,
              "#fb9f3a"
             ],
             [
              0.8888888888888888,
              "#fdca26"
             ],
             [
              1,
              "#f0f921"
             ]
            ],
            "type": "surface"
           }
          ],
          "table": [
           {
            "cells": {
             "fill": {
              "color": "#EBF0F8"
             },
             "line": {
              "color": "white"
             }
            },
            "header": {
             "fill": {
              "color": "#C8D4E3"
             },
             "line": {
              "color": "white"
             }
            },
            "type": "table"
           }
          ]
         },
         "layout": {
          "annotationdefaults": {
           "arrowcolor": "#2a3f5f",
           "arrowhead": 0,
           "arrowwidth": 1
          },
          "autotypenumbers": "strict",
          "coloraxis": {
           "colorbar": {
            "outlinewidth": 0,
            "ticks": ""
           }
          },
          "colorscale": {
           "diverging": [
            [
             0,
             "#8e0152"
            ],
            [
             0.1,
             "#c51b7d"
            ],
            [
             0.2,
             "#de77ae"
            ],
            [
             0.3,
             "#f1b6da"
            ],
            [
             0.4,
             "#fde0ef"
            ],
            [
             0.5,
             "#f7f7f7"
            ],
            [
             0.6,
             "#e6f5d0"
            ],
            [
             0.7,
             "#b8e186"
            ],
            [
             0.8,
             "#7fbc41"
            ],
            [
             0.9,
             "#4d9221"
            ],
            [
             1,
             "#276419"
            ]
           ],
           "sequential": [
            [
             0,
             "#0d0887"
            ],
            [
             0.1111111111111111,
             "#46039f"
            ],
            [
             0.2222222222222222,
             "#7201a8"
            ],
            [
             0.3333333333333333,
             "#9c179e"
            ],
            [
             0.4444444444444444,
             "#bd3786"
            ],
            [
             0.5555555555555556,
             "#d8576b"
            ],
            [
             0.6666666666666666,
             "#ed7953"
            ],
            [
             0.7777777777777778,
             "#fb9f3a"
            ],
            [
             0.8888888888888888,
             "#fdca26"
            ],
            [
             1,
             "#f0f921"
            ]
           ],
           "sequentialminus": [
            [
             0,
             "#0d0887"
            ],
            [
             0.1111111111111111,
             "#46039f"
            ],
            [
             0.2222222222222222,
             "#7201a8"
            ],
            [
             0.3333333333333333,
             "#9c179e"
            ],
            [
             0.4444444444444444,
             "#bd3786"
            ],
            [
             0.5555555555555556,
             "#d8576b"
            ],
            [
             0.6666666666666666,
             "#ed7953"
            ],
            [
             0.7777777777777778,
             "#fb9f3a"
            ],
            [
             0.8888888888888888,
             "#fdca26"
            ],
            [
             1,
             "#f0f921"
            ]
           ]
          },
          "colorway": [
           "#636efa",
           "#EF553B",
           "#00cc96",
           "#ab63fa",
           "#FFA15A",
           "#19d3f3",
           "#FF6692",
           "#B6E880",
           "#FF97FF",
           "#FECB52"
          ],
          "font": {
           "color": "#2a3f5f"
          },
          "geo": {
           "bgcolor": "white",
           "lakecolor": "white",
           "landcolor": "#E5ECF6",
           "showlakes": true,
           "showland": true,
           "subunitcolor": "white"
          },
          "hoverlabel": {
           "align": "left"
          },
          "hovermode": "closest",
          "mapbox": {
           "style": "light"
          },
          "paper_bgcolor": "white",
          "plot_bgcolor": "#E5ECF6",
          "polar": {
           "angularaxis": {
            "gridcolor": "white",
            "linecolor": "white",
            "ticks": ""
           },
           "bgcolor": "#E5ECF6",
           "radialaxis": {
            "gridcolor": "white",
            "linecolor": "white",
            "ticks": ""
           }
          },
          "scene": {
           "xaxis": {
            "backgroundcolor": "#E5ECF6",
            "gridcolor": "white",
            "gridwidth": 2,
            "linecolor": "white",
            "showbackground": true,
            "ticks": "",
            "zerolinecolor": "white"
           },
           "yaxis": {
            "backgroundcolor": "#E5ECF6",
            "gridcolor": "white",
            "gridwidth": 2,
            "linecolor": "white",
            "showbackground": true,
            "ticks": "",
            "zerolinecolor": "white"
           },
           "zaxis": {
            "backgroundcolor": "#E5ECF6",
            "gridcolor": "white",
            "gridwidth": 2,
            "linecolor": "white",
            "showbackground": true,
            "ticks": "",
            "zerolinecolor": "white"
           }
          },
          "shapedefaults": {
           "line": {
            "color": "#2a3f5f"
           }
          },
          "ternary": {
           "aaxis": {
            "gridcolor": "white",
            "linecolor": "white",
            "ticks": ""
           },
           "baxis": {
            "gridcolor": "white",
            "linecolor": "white",
            "ticks": ""
           },
           "bgcolor": "#E5ECF6",
           "caxis": {
            "gridcolor": "white",
            "linecolor": "white",
            "ticks": ""
           }
          },
          "title": {
           "x": 0.05
          },
          "xaxis": {
           "automargin": true,
           "gridcolor": "white",
           "linecolor": "white",
           "ticks": "",
           "title": {
            "standoff": 15
           },
           "zerolinecolor": "white",
           "zerolinewidth": 2
          },
          "yaxis": {
           "automargin": true,
           "gridcolor": "white",
           "linecolor": "white",
           "ticks": "",
           "title": {
            "standoff": 15
           },
           "zerolinecolor": "white",
           "zerolinewidth": 2
          }
         }
        },
        "title": {
         "text": "Correlation Heatmap"
        },
        "width": 800,
        "xaxis": {
         "anchor": "y",
         "constrain": "domain",
         "domain": [
          0,
          1
         ],
         "scaleanchor": "y"
        },
        "yaxis": {
         "anchor": "x",
         "autorange": "reversed",
         "constrain": "domain",
         "domain": [
          0,
          1
         ]
        }
       }
      },
      "text/html": [
       "<div>                            <div id=\"e023be37-4c5d-494e-ba82-c1dc2483314b\" class=\"plotly-graph-div\" style=\"height:600px; width:800px;\"></div>            <script type=\"text/javascript\">                require([\"plotly\"], function(Plotly) {                    window.PLOTLYENV=window.PLOTLYENV || {};                                    if (document.getElementById(\"e023be37-4c5d-494e-ba82-c1dc2483314b\")) {                    Plotly.newPlot(                        \"e023be37-4c5d-494e-ba82-c1dc2483314b\",                        [{\"coloraxis\":\"coloraxis\",\"name\":\"0\",\"x\":[\"hour\",\"part_of_day\",\"humidity\",\"feelslike\",\"temp\",\"sensor_temp\",\"Consumption (kWh)\"],\"y\":[\"hour\",\"part_of_day\",\"humidity\",\"feelslike\",\"temp\",\"sensor_temp\",\"Consumption (kWh)\"],\"z\":[[1.0,0.4126916277780641,-0.13508358987999372,0.11285122421792068,0.0888830539054334,-0.10325631197648458,0.4512634788606758],[0.4126916277780641,1.0,0.1633899652883624,-0.1052832034376903,-0.09043178700502874,0.09979278210071349,0.13545482857649202],[-0.13508358987999372,0.1633899652883624,1.0,0.008438614175240366,0.006075157404767942,-0.007457877152508474,-0.061445122156172684],[0.11285122421792068,-0.1052832034376903,0.008438614175240366,1.0,0.9491033820367353,-0.9894074146265577,0.046933937320876674],[0.0888830539054334,-0.09043178700502874,0.006075157404767942,0.9491033820367353,1.0,-0.9847718742934173,0.03057478241836131],[-0.10325631197648458,0.09979278210071349,-0.007457877152508474,-0.9894074146265577,-0.9847718742934173,1.0,-0.039997924511552804],[0.4512634788606758,0.13545482857649202,-0.061445122156172684,0.046933937320876674,0.03057478241836131,-0.039997924511552804,1.0]],\"type\":\"heatmap\",\"xaxis\":\"x\",\"yaxis\":\"y\",\"hovertemplate\":\"x: %{x}<br>y: %{y}<br>Correlation: %{z}<extra></extra>\"}],                        {\"template\":{\"data\":{\"histogram2dcontour\":[{\"type\":\"histogram2dcontour\",\"colorbar\":{\"outlinewidth\":0,\"ticks\":\"\"},\"colorscale\":[[0.0,\"#0d0887\"],[0.1111111111111111,\"#46039f\"],[0.2222222222222222,\"#7201a8\"],[0.3333333333333333,\"#9c179e\"],[0.4444444444444444,\"#bd3786\"],[0.5555555555555556,\"#d8576b\"],[0.6666666666666666,\"#ed7953\"],[0.7777777777777778,\"#fb9f3a\"],[0.8888888888888888,\"#fdca26\"],[1.0,\"#f0f921\"]]}],\"choropleth\":[{\"type\":\"choropleth\",\"colorbar\":{\"outlinewidth\":0,\"ticks\":\"\"}}],\"histogram2d\":[{\"type\":\"histogram2d\",\"colorbar\":{\"outlinewidth\":0,\"ticks\":\"\"},\"colorscale\":[[0.0,\"#0d0887\"],[0.1111111111111111,\"#46039f\"],[0.2222222222222222,\"#7201a8\"],[0.3333333333333333,\"#9c179e\"],[0.4444444444444444,\"#bd3786\"],[0.5555555555555556,\"#d8576b\"],[0.6666666666666666,\"#ed7953\"],[0.7777777777777778,\"#fb9f3a\"],[0.8888888888888888,\"#fdca26\"],[1.0,\"#f0f921\"]]}],\"heatmap\":[{\"type\":\"heatmap\",\"colorbar\":{\"outlinewidth\":0,\"ticks\":\"\"},\"colorscale\":[[0.0,\"#0d0887\"],[0.1111111111111111,\"#46039f\"],[0.2222222222222222,\"#7201a8\"],[0.3333333333333333,\"#9c179e\"],[0.4444444444444444,\"#bd3786\"],[0.5555555555555556,\"#d8576b\"],[0.6666666666666666,\"#ed7953\"],[0.7777777777777778,\"#fb9f3a\"],[0.8888888888888888,\"#fdca26\"],[1.0,\"#f0f921\"]]}],\"heatmapgl\":[{\"type\":\"heatmapgl\",\"colorbar\":{\"outlinewidth\":0,\"ticks\":\"\"},\"colorscale\":[[0.0,\"#0d0887\"],[0.1111111111111111,\"#46039f\"],[0.2222222222222222,\"#7201a8\"],[0.3333333333333333,\"#9c179e\"],[0.4444444444444444,\"#bd3786\"],[0.5555555555555556,\"#d8576b\"],[0.6666666666666666,\"#ed7953\"],[0.7777777777777778,\"#fb9f3a\"],[0.8888888888888888,\"#fdca26\"],[1.0,\"#f0f921\"]]}],\"contourcarpet\":[{\"type\":\"contourcarpet\",\"colorbar\":{\"outlinewidth\":0,\"ticks\":\"\"}}],\"contour\":[{\"type\":\"contour\",\"colorbar\":{\"outlinewidth\":0,\"ticks\":\"\"},\"colorscale\":[[0.0,\"#0d0887\"],[0.1111111111111111,\"#46039f\"],[0.2222222222222222,\"#7201a8\"],[0.3333333333333333,\"#9c179e\"],[0.4444444444444444,\"#bd3786\"],[0.5555555555555556,\"#d8576b\"],[0.6666666666666666,\"#ed7953\"],[0.7777777777777778,\"#fb9f3a\"],[0.8888888888888888,\"#fdca26\"],[1.0,\"#f0f921\"]]}],\"surface\":[{\"type\":\"surface\",\"colorbar\":{\"outlinewidth\":0,\"ticks\":\"\"},\"colorscale\":[[0.0,\"#0d0887\"],[0.1111111111111111,\"#46039f\"],[0.2222222222222222,\"#7201a8\"],[0.3333333333333333,\"#9c179e\"],[0.4444444444444444,\"#bd3786\"],[0.5555555555555556,\"#d8576b\"],[0.6666666666666666,\"#ed7953\"],[0.7777777777777778,\"#fb9f3a\"],[0.8888888888888888,\"#fdca26\"],[1.0,\"#f0f921\"]]}],\"mesh3d\":[{\"type\":\"mesh3d\",\"colorbar\":{\"outlinewidth\":0,\"ticks\":\"\"}}],\"scatter\":[{\"fillpattern\":{\"fillmode\":\"overlay\",\"size\":10,\"solidity\":0.2},\"type\":\"scatter\"}],\"parcoords\":[{\"type\":\"parcoords\",\"line\":{\"colorbar\":{\"outlinewidth\":0,\"ticks\":\"\"}}}],\"scatterpolargl\":[{\"type\":\"scatterpolargl\",\"marker\":{\"colorbar\":{\"outlinewidth\":0,\"ticks\":\"\"}}}],\"bar\":[{\"error_x\":{\"color\":\"#2a3f5f\"},\"error_y\":{\"color\":\"#2a3f5f\"},\"marker\":{\"line\":{\"color\":\"#E5ECF6\",\"width\":0.5},\"pattern\":{\"fillmode\":\"overlay\",\"size\":10,\"solidity\":0.2}},\"type\":\"bar\"}],\"scattergeo\":[{\"type\":\"scattergeo\",\"marker\":{\"colorbar\":{\"outlinewidth\":0,\"ticks\":\"\"}}}],\"scatterpolar\":[{\"type\":\"scatterpolar\",\"marker\":{\"colorbar\":{\"outlinewidth\":0,\"ticks\":\"\"}}}],\"histogram\":[{\"marker\":{\"pattern\":{\"fillmode\":\"overlay\",\"size\":10,\"solidity\":0.2}},\"type\":\"histogram\"}],\"scattergl\":[{\"type\":\"scattergl\",\"marker\":{\"colorbar\":{\"outlinewidth\":0,\"ticks\":\"\"}}}],\"scatter3d\":[{\"type\":\"scatter3d\",\"line\":{\"colorbar\":{\"outlinewidth\":0,\"ticks\":\"\"}},\"marker\":{\"colorbar\":{\"outlinewidth\":0,\"ticks\":\"\"}}}],\"scattermapbox\":[{\"type\":\"scattermapbox\",\"marker\":{\"colorbar\":{\"outlinewidth\":0,\"ticks\":\"\"}}}],\"scatterternary\":[{\"type\":\"scatterternary\",\"marker\":{\"colorbar\":{\"outlinewidth\":0,\"ticks\":\"\"}}}],\"scattercarpet\":[{\"type\":\"scattercarpet\",\"marker\":{\"colorbar\":{\"outlinewidth\":0,\"ticks\":\"\"}}}],\"carpet\":[{\"aaxis\":{\"endlinecolor\":\"#2a3f5f\",\"gridcolor\":\"white\",\"linecolor\":\"white\",\"minorgridcolor\":\"white\",\"startlinecolor\":\"#2a3f5f\"},\"baxis\":{\"endlinecolor\":\"#2a3f5f\",\"gridcolor\":\"white\",\"linecolor\":\"white\",\"minorgridcolor\":\"white\",\"startlinecolor\":\"#2a3f5f\"},\"type\":\"carpet\"}],\"table\":[{\"cells\":{\"fill\":{\"color\":\"#EBF0F8\"},\"line\":{\"color\":\"white\"}},\"header\":{\"fill\":{\"color\":\"#C8D4E3\"},\"line\":{\"color\":\"white\"}},\"type\":\"table\"}],\"barpolar\":[{\"marker\":{\"line\":{\"color\":\"#E5ECF6\",\"width\":0.5},\"pattern\":{\"fillmode\":\"overlay\",\"size\":10,\"solidity\":0.2}},\"type\":\"barpolar\"}],\"pie\":[{\"automargin\":true,\"type\":\"pie\"}]},\"layout\":{\"autotypenumbers\":\"strict\",\"colorway\":[\"#636efa\",\"#EF553B\",\"#00cc96\",\"#ab63fa\",\"#FFA15A\",\"#19d3f3\",\"#FF6692\",\"#B6E880\",\"#FF97FF\",\"#FECB52\"],\"font\":{\"color\":\"#2a3f5f\"},\"hovermode\":\"closest\",\"hoverlabel\":{\"align\":\"left\"},\"paper_bgcolor\":\"white\",\"plot_bgcolor\":\"#E5ECF6\",\"polar\":{\"bgcolor\":\"#E5ECF6\",\"angularaxis\":{\"gridcolor\":\"white\",\"linecolor\":\"white\",\"ticks\":\"\"},\"radialaxis\":{\"gridcolor\":\"white\",\"linecolor\":\"white\",\"ticks\":\"\"}},\"ternary\":{\"bgcolor\":\"#E5ECF6\",\"aaxis\":{\"gridcolor\":\"white\",\"linecolor\":\"white\",\"ticks\":\"\"},\"baxis\":{\"gridcolor\":\"white\",\"linecolor\":\"white\",\"ticks\":\"\"},\"caxis\":{\"gridcolor\":\"white\",\"linecolor\":\"white\",\"ticks\":\"\"}},\"coloraxis\":{\"colorbar\":{\"outlinewidth\":0,\"ticks\":\"\"}},\"colorscale\":{\"sequential\":[[0.0,\"#0d0887\"],[0.1111111111111111,\"#46039f\"],[0.2222222222222222,\"#7201a8\"],[0.3333333333333333,\"#9c179e\"],[0.4444444444444444,\"#bd3786\"],[0.5555555555555556,\"#d8576b\"],[0.6666666666666666,\"#ed7953\"],[0.7777777777777778,\"#fb9f3a\"],[0.8888888888888888,\"#fdca26\"],[1.0,\"#f0f921\"]],\"sequentialminus\":[[0.0,\"#0d0887\"],[0.1111111111111111,\"#46039f\"],[0.2222222222222222,\"#7201a8\"],[0.3333333333333333,\"#9c179e\"],[0.4444444444444444,\"#bd3786\"],[0.5555555555555556,\"#d8576b\"],[0.6666666666666666,\"#ed7953\"],[0.7777777777777778,\"#fb9f3a\"],[0.8888888888888888,\"#fdca26\"],[1.0,\"#f0f921\"]],\"diverging\":[[0,\"#8e0152\"],[0.1,\"#c51b7d\"],[0.2,\"#de77ae\"],[0.3,\"#f1b6da\"],[0.4,\"#fde0ef\"],[0.5,\"#f7f7f7\"],[0.6,\"#e6f5d0\"],[0.7,\"#b8e186\"],[0.8,\"#7fbc41\"],[0.9,\"#4d9221\"],[1,\"#276419\"]]},\"xaxis\":{\"gridcolor\":\"white\",\"linecolor\":\"white\",\"ticks\":\"\",\"title\":{\"standoff\":15},\"zerolinecolor\":\"white\",\"automargin\":true,\"zerolinewidth\":2},\"yaxis\":{\"gridcolor\":\"white\",\"linecolor\":\"white\",\"ticks\":\"\",\"title\":{\"standoff\":15},\"zerolinecolor\":\"white\",\"automargin\":true,\"zerolinewidth\":2},\"scene\":{\"xaxis\":{\"backgroundcolor\":\"#E5ECF6\",\"gridcolor\":\"white\",\"linecolor\":\"white\",\"showbackground\":true,\"ticks\":\"\",\"zerolinecolor\":\"white\",\"gridwidth\":2},\"yaxis\":{\"backgroundcolor\":\"#E5ECF6\",\"gridcolor\":\"white\",\"linecolor\":\"white\",\"showbackground\":true,\"ticks\":\"\",\"zerolinecolor\":\"white\",\"gridwidth\":2},\"zaxis\":{\"backgroundcolor\":\"#E5ECF6\",\"gridcolor\":\"white\",\"linecolor\":\"white\",\"showbackground\":true,\"ticks\":\"\",\"zerolinecolor\":\"white\",\"gridwidth\":2}},\"shapedefaults\":{\"line\":{\"color\":\"#2a3f5f\"}},\"annotationdefaults\":{\"arrowcolor\":\"#2a3f5f\",\"arrowhead\":0,\"arrowwidth\":1},\"geo\":{\"bgcolor\":\"white\",\"landcolor\":\"#E5ECF6\",\"subunitcolor\":\"white\",\"showland\":true,\"showlakes\":true,\"lakecolor\":\"white\"},\"title\":{\"x\":0.05},\"mapbox\":{\"style\":\"light\"}}},\"xaxis\":{\"anchor\":\"y\",\"domain\":[0.0,1.0],\"scaleanchor\":\"y\",\"constrain\":\"domain\"},\"yaxis\":{\"anchor\":\"x\",\"domain\":[0.0,1.0],\"autorange\":\"reversed\",\"constrain\":\"domain\"},\"coloraxis\":{\"colorbar\":{\"title\":{\"text\":\"Correlation\"}},\"colorscale\":[[0.0,\"#440154\"],[0.1111111111111111,\"#482878\"],[0.2222222222222222,\"#3e4989\"],[0.3333333333333333,\"#31688e\"],[0.4444444444444444,\"#26828e\"],[0.5555555555555556,\"#1f9e89\"],[0.6666666666666666,\"#35b779\"],[0.7777777777777778,\"#6ece58\"],[0.8888888888888888,\"#b5de2b\"],[1.0,\"#fde725\"]]},\"margin\":{\"t\":60},\"title\":{\"text\":\"Correlation Heatmap\"},\"width\":800,\"height\":600},                        {\"responsive\": true}                    ).then(function(){\n",
       "                            \n",
       "var gd = document.getElementById('e023be37-4c5d-494e-ba82-c1dc2483314b');\n",
       "var x = new MutationObserver(function (mutations, observer) {{\n",
       "        var display = window.getComputedStyle(gd).display;\n",
       "        if (!display || display === 'none') {{\n",
       "            console.log([gd, 'removed!']);\n",
       "            Plotly.purge(gd);\n",
       "            observer.disconnect();\n",
       "        }}\n",
       "}});\n",
       "\n",
       "// Listen for the removal of the full notebook cells\n",
       "var notebookContainer = gd.closest('#notebook-container');\n",
       "if (notebookContainer) {{\n",
       "    x.observe(notebookContainer, {childList: true});\n",
       "}}\n",
       "\n",
       "// Listen for the clearing of the current output cell\n",
       "var outputEl = gd.closest('.output');\n",
       "if (outputEl) {{\n",
       "    x.observe(outputEl, {childList: true});\n",
       "}}\n",
       "\n",
       "                        })                };                });            </script>        </div>"
      ]
     },
     "metadata": {},
     "output_type": "display_data"
    }
   ],
   "source": [
    "import plotly.express as px\n",
    "import pandas as pd\n",
    "# Assuming 'df' is your DataFrame with the relevant columns\n",
    "numeric_columns = df.select_dtypes(include='number')\n",
    "\n",
    "# Calculate correlation matrix\n",
    "correlation_matrix = numeric_columns.corr()\n",
    "\n",
    "# Display the correlation matrix\n",
    "\n",
    "\n",
    "# Assuming 'correlation_matrix' is the calculated correlation matrix\n",
    "# If not, calculate it using your data\n",
    "\n",
    "# Sample correlation matrix (replace this with your actual correlation matrix)\n",
    "# correlation_matrix = your_data_frame.corr()\n",
    "\n",
    "# Create a heatmap using Plotly\n",
    "fig = px.imshow(correlation_matrix,\n",
    "                labels=dict(color=\"Correlation\"),\n",
    "                x=correlation_matrix.columns,\n",
    "                y=correlation_matrix.columns,\n",
    "                color_continuous_scale='Viridis')\n",
    "\n",
    "# Customize the layout\n",
    "fig.update_layout(title=\"Correlation Heatmap\",\n",
    "                  width=800,\n",
    "                  height=600)\n",
    "\n",
    "fig.show()\n"
   ]
  },
  {
   "cell_type": "markdown",
   "id": "82efcca8",
   "metadata": {},
   "source": [
    "# Trying out models"
   ]
  },
  {
   "cell_type": "code",
   "execution_count": 3,
   "id": "416c8011",
   "metadata": {},
   "outputs": [],
   "source": [
    "X = df.drop(columns = ['Consumption (kWh)','datetime'], axis=1)\n",
    "y = df['Consumption (kWh)']\n",
    "\n",
    "X = pd.get_dummies(X, drop_first=True)\n",
    "\n",
    "X_train, X_test, y_train, y_test = train_test_split(X, y, test_size=0.3, random_state=42)\n"
   ]
  },
  {
   "cell_type": "markdown",
   "id": "f2c7cd7d",
   "metadata": {},
   "source": [
    "## Liner Regression"
   ]
  },
  {
   "cell_type": "code",
   "execution_count": 4,
   "id": "77dfefe8",
   "metadata": {},
   "outputs": [
    {
     "data": {
      "text/plain": [
       "(0.4127249372209821, 0.19128697794084026)"
      ]
     },
     "execution_count": 4,
     "metadata": {},
     "output_type": "execute_result"
    }
   ],
   "source": [
    "lin_reg = LinearRegression()\n",
    "lin_reg.fit(X_train, y_train)\n",
    "\n",
    "y_pred = lin_reg.predict(X_test)\n",
    "\n",
    "mse = mean_squared_error(y_test, y_pred)\n",
    "r2 = r2_score(y_test, y_pred)\n",
    "\n",
    "mse, r2\n",
    "\n",
    "\n",
    "(0.4127249372209821, 0.19128697794084026)"
   ]
  },
  {
   "cell_type": "code",
   "execution_count": null,
   "id": "56fcb225",
   "metadata": {},
   "outputs": [],
   "source": []
  },
  {
   "cell_type": "markdown",
   "id": "13bbe6bb",
   "metadata": {},
   "source": [
    "## Random Forest Regressor"
   ]
  },
  {
   "cell_type": "code",
   "execution_count": 5,
   "id": "665451e3",
   "metadata": {},
   "outputs": [
    {
     "data": {
      "text/plain": [
       "(0.429057029872449, 0.1592850928750824)"
      ]
     },
     "execution_count": 5,
     "metadata": {},
     "output_type": "execute_result"
    }
   ],
   "source": [
    "rf_reg = RandomForestRegressor(random_state=42)\n",
    "rf_reg.fit(X_train, y_train)\n",
    "\n",
    "y_pred_rf = rf_reg.predict(X_test)\n",
    "\n",
    "mse_rf = mean_squared_error(y_test, y_pred_rf)\n",
    "r2_rf = r2_score(y_test, y_pred_rf)\n",
    "\n",
    "mse_rf, r2_rf"
   ]
  },
  {
   "cell_type": "code",
   "execution_count": 6,
   "id": "6c12c30c",
   "metadata": {},
   "outputs": [
    {
     "name": "stdout",
     "output_type": "stream",
     "text": [
      "Fitting 3 folds for each of 216 candidates, totalling 648 fits\n"
     ]
    },
    {
     "data": {
      "text/plain": [
       "{'bootstrap': True,\n",
       " 'max_depth': 10,\n",
       " 'min_samples_leaf': 4,\n",
       " 'min_samples_split': 10,\n",
       " 'n_estimators': 300}"
      ]
     },
     "execution_count": 6,
     "metadata": {},
     "output_type": "execute_result"
    }
   ],
   "source": [
    "param_grid = {\n",
    "    'n_estimators': [100, 200, 300],  # Number of trees in the forest\n",
    "    'max_depth': [None, 10, 20, 30],  # Maximum depth of the tree\n",
    "    'min_samples_split': [2, 5, 10],  # Minimum number of samples required to split a node\n",
    "    'min_samples_leaf': [1, 2, 4],    # Minimum number of samples required at each leaf node\n",
    "    'bootstrap': [True, False]        # Method of selecting samples for training each tree\n",
    "}\n",
    "\n",
    "rf = RandomForestRegressor(random_state=42)\n",
    "\n",
    "grid_search = GridSearchCV(estimator=rf, param_grid=param_grid, \n",
    "                           cv=3, n_jobs=-1, verbose=2, scoring='neg_mean_squared_error')\n",
    "\n",
    "grid_search.fit(X_train, y_train)\n",
    "\n",
    "grid_search.best_params_"
   ]
  },
  {
   "cell_type": "code",
   "execution_count": 7,
   "id": "f3f5b9b6",
   "metadata": {},
   "outputs": [
    {
     "data": {
      "text/plain": [
       "(0.3747990079304718, 0.2656008614135721)"
      ]
     },
     "execution_count": 7,
     "metadata": {},
     "output_type": "execute_result"
    }
   ],
   "source": [
    "rf_best = RandomForestRegressor(\n",
    "    bootstrap=True, \n",
    "    max_depth=10, \n",
    "    min_samples_leaf=4, \n",
    "    min_samples_split=10, \n",
    "    n_estimators=300,\n",
    "    random_state=42\n",
    ")\n",
    "\n",
    "rf_best.fit(X_train, y_train)\n",
    "\n",
    "y_pred_rf_best = rf_best.predict(X_test)\n",
    "\n",
    "mse_rf_best = mean_squared_error(y_test, y_pred_rf_best)\n",
    "r2_rf_best = r2_score(y_test, y_pred_rf_best)\n",
    "\n",
    "mse_rf_best, r2_rf_best"
   ]
  },
  {
   "cell_type": "markdown",
   "id": "3b889d20",
   "metadata": {},
   "source": [
    "## Gradient Boosting Regressor"
   ]
  },
  {
   "cell_type": "code",
   "execution_count": 8,
   "id": "e538293e",
   "metadata": {},
   "outputs": [
    {
     "data": {
      "text/plain": [
       "(0.3944275765319698, 0.22713970338591016)"
      ]
     },
     "execution_count": 8,
     "metadata": {},
     "output_type": "execute_result"
    }
   ],
   "source": [
    "gbm_reg = GradientBoostingRegressor(random_state=42)\n",
    "gbm_reg.fit(X_train, y_train)\n",
    "\n",
    "y_pred_gbm = gbm_reg.predict(X_test)\n",
    "\n",
    "mse_gbm = mean_squared_error(y_test, y_pred_gbm)\n",
    "r2_gbm = r2_score(y_test, y_pred_gbm)\n",
    "\n",
    "mse_gbm, r2_gbm\n",
    "(0.3944275765319698, 0.22713970338591016)"
   ]
  },
  {
   "cell_type": "code",
   "execution_count": 9,
   "id": "6776c6c3",
   "metadata": {},
   "outputs": [
    {
     "name": "stdout",
     "output_type": "stream",
     "text": [
      "Fitting 3 folds for each of 729 candidates, totalling 2187 fits\n",
      "[CV] END bootstrap=True, max_depth=None, min_samples_leaf=1, min_samples_split=2, n_estimators=300; total time=   0.4s\n",
      "[CV] END bootstrap=True, max_depth=None, min_samples_leaf=1, min_samples_split=5, n_estimators=300; total time=   0.5s\n",
      "[CV] END bootstrap=True, max_depth=None, min_samples_leaf=2, min_samples_split=2, n_estimators=100; total time=   0.1s\n",
      "[CV] END bootstrap=True, max_depth=None, min_samples_leaf=2, min_samples_split=2, n_estimators=300; total time=   0.4s\n",
      "[CV] END bootstrap=True, max_depth=None, min_samples_leaf=2, min_samples_split=5, n_estimators=300; total time=   0.4s\n",
      "[CV] END bootstrap=True, max_depth=None, min_samples_leaf=4, min_samples_split=2, n_estimators=200; total time=   0.3s\n",
      "[CV] END bootstrap=True, max_depth=None, min_samples_leaf=4, min_samples_split=5, n_estimators=100; total time=   0.2s\n",
      "[CV] END bootstrap=True, max_depth=None, min_samples_leaf=4, min_samples_split=5, n_estimators=300; total time=   0.4s\n",
      "[CV] END bootstrap=True, max_depth=None, min_samples_leaf=4, min_samples_split=10, n_estimators=300; total time=   0.3s\n",
      "[CV] END bootstrap=True, max_depth=10, min_samples_leaf=1, min_samples_split=5, n_estimators=100; total time=   0.1s\n",
      "[CV] END bootstrap=True, max_depth=10, min_samples_leaf=1, min_samples_split=5, n_estimators=200; total time=   0.3s\n",
      "[CV] END bootstrap=True, max_depth=10, min_samples_leaf=1, min_samples_split=10, n_estimators=200; total time=   0.3s\n",
      "[CV] END bootstrap=True, max_depth=10, min_samples_leaf=2, min_samples_split=2, n_estimators=100; total time=   0.1s\n",
      "[CV] END bootstrap=True, max_depth=10, min_samples_leaf=2, min_samples_split=2, n_estimators=300; total time=   0.4s\n",
      "[CV] END bootstrap=True, max_depth=10, min_samples_leaf=2, min_samples_split=10, n_estimators=100; total time=   0.1s\n",
      "[CV] END bootstrap=True, max_depth=10, min_samples_leaf=2, min_samples_split=10, n_estimators=200; total time=   0.3s\n",
      "[CV] END bootstrap=True, max_depth=10, min_samples_leaf=4, min_samples_split=2, n_estimators=100; total time=   0.1s\n",
      "[CV] END bootstrap=True, max_depth=10, min_samples_leaf=4, min_samples_split=2, n_estimators=300; total time=   0.4s\n",
      "[CV] END bootstrap=True, max_depth=10, min_samples_leaf=4, min_samples_split=10, n_estimators=100; total time=   0.1s\n",
      "[CV] END bootstrap=True, max_depth=10, min_samples_leaf=4, min_samples_split=10, n_estimators=200; total time=   0.3s\n",
      "[CV] END bootstrap=True, max_depth=20, min_samples_leaf=1, min_samples_split=2, n_estimators=200; total time=   0.3s\n",
      "[CV] END bootstrap=True, max_depth=20, min_samples_leaf=1, min_samples_split=5, n_estimators=200; total time=   0.3s\n",
      "[CV] END bootstrap=True, max_depth=20, min_samples_leaf=1, min_samples_split=10, n_estimators=100; total time=   0.1s\n",
      "[CV] END bootstrap=True, max_depth=20, min_samples_leaf=1, min_samples_split=10, n_estimators=300; total time=   0.4s\n",
      "[CV] END bootstrap=True, max_depth=20, min_samples_leaf=2, min_samples_split=5, n_estimators=100; total time=   0.2s\n",
      "[CV] END bootstrap=True, max_depth=20, min_samples_leaf=2, min_samples_split=5, n_estimators=200; total time=   0.3s\n",
      "[CV] END bootstrap=True, max_depth=20, min_samples_leaf=2, min_samples_split=10, n_estimators=200; total time=   0.2s\n",
      "[CV] END bootstrap=True, max_depth=20, min_samples_leaf=4, min_samples_split=2, n_estimators=100; total time=   0.1s\n",
      "[CV] END bootstrap=True, max_depth=20, min_samples_leaf=4, min_samples_split=2, n_estimators=200; total time=   0.3s\n",
      "[CV] END bootstrap=True, max_depth=20, min_samples_leaf=4, min_samples_split=5, n_estimators=200; total time=   0.3s\n",
      "[CV] END bootstrap=True, max_depth=20, min_samples_leaf=4, min_samples_split=10, n_estimators=200; total time=   0.3s\n",
      "[CV] END bootstrap=True, max_depth=30, min_samples_leaf=1, min_samples_split=2, n_estimators=100; total time=   0.1s\n",
      "[CV] END bootstrap=True, max_depth=30, min_samples_leaf=1, min_samples_split=2, n_estimators=300; total time=   0.4s\n",
      "[CV] END bootstrap=True, max_depth=30, min_samples_leaf=1, min_samples_split=10, n_estimators=100; total time=   0.1s\n",
      "[CV] END bootstrap=True, max_depth=30, min_samples_leaf=1, min_samples_split=10, n_estimators=200; total time=   0.2s\n",
      "[CV] END bootstrap=True, max_depth=30, min_samples_leaf=2, min_samples_split=2, n_estimators=200; total time=   0.3s\n",
      "[CV] END bootstrap=True, max_depth=30, min_samples_leaf=2, min_samples_split=5, n_estimators=100; total time=   0.2s\n",
      "[CV] END bootstrap=True, max_depth=30, min_samples_leaf=2, min_samples_split=5, n_estimators=300; total time=   0.5s\n",
      "[CV] END bootstrap=True, max_depth=30, min_samples_leaf=4, min_samples_split=2, n_estimators=100; total time=   0.1s\n",
      "[CV] END bootstrap=True, max_depth=30, min_samples_leaf=4, min_samples_split=2, n_estimators=200; total time=   0.2s\n",
      "[CV] END bootstrap=True, max_depth=30, min_samples_leaf=4, min_samples_split=5, n_estimators=200; total time=   0.3s\n",
      "[CV] END bootstrap=True, max_depth=30, min_samples_leaf=4, min_samples_split=10, n_estimators=100; total time=   0.1s\n",
      "[CV] END bootstrap=True, max_depth=30, min_samples_leaf=4, min_samples_split=10, n_estimators=300; total time=   0.4s\n",
      "[CV] END bootstrap=False, max_depth=None, min_samples_leaf=1, min_samples_split=5, n_estimators=100; total time=   0.2s\n",
      "[CV] END bootstrap=False, max_depth=None, min_samples_leaf=1, min_samples_split=5, n_estimators=200; total time=   0.4s\n",
      "[CV] END bootstrap=False, max_depth=None, min_samples_leaf=1, min_samples_split=10, n_estimators=100; total time=   0.2s\n",
      "[CV] END bootstrap=False, max_depth=None, min_samples_leaf=1, min_samples_split=10, n_estimators=200; total time=   0.4s\n",
      "[CV] END bootstrap=False, max_depth=None, min_samples_leaf=2, min_samples_split=2, n_estimators=200; total time=   0.4s\n",
      "[CV] END bootstrap=False, max_depth=None, min_samples_leaf=2, min_samples_split=5, n_estimators=200; total time=   0.5s\n",
      "[CV] END bootstrap=False, max_depth=None, min_samples_leaf=2, min_samples_split=10, n_estimators=300; total time=   0.5s\n",
      "[CV] END bootstrap=False, max_depth=None, min_samples_leaf=4, min_samples_split=2, n_estimators=300; total time=   0.5s\n",
      "[CV] END bootstrap=False, max_depth=None, min_samples_leaf=4, min_samples_split=10, n_estimators=100; total time=   0.1s\n",
      "[CV] END bootstrap=False, max_depth=None, min_samples_leaf=4, min_samples_split=10, n_estimators=200; total time=   0.3s\n",
      "[CV] END bootstrap=False, max_depth=10, min_samples_leaf=1, min_samples_split=2, n_estimators=200; total time=   0.5s\n",
      "[CV] END bootstrap=False, max_depth=10, min_samples_leaf=1, min_samples_split=5, n_estimators=100; total time=   0.3s\n",
      "[CV] END bootstrap=False, max_depth=10, min_samples_leaf=1, min_samples_split=5, n_estimators=300; total time=   0.7s\n",
      "[CV] END bootstrap=False, max_depth=10, min_samples_leaf=2, min_samples_split=2, n_estimators=100; total time=   0.2s\n",
      "[CV] END bootstrap=False, max_depth=10, min_samples_leaf=2, min_samples_split=2, n_estimators=300; total time=   0.6s\n",
      "[CV] END bootstrap=False, max_depth=10, min_samples_leaf=2, min_samples_split=5, n_estimators=300; total time=   0.6s\n",
      "[CV] END bootstrap=False, max_depth=10, min_samples_leaf=4, min_samples_split=2, n_estimators=200; total time=   0.4s\n",
      "[CV] END bootstrap=False, max_depth=10, min_samples_leaf=4, min_samples_split=5, n_estimators=100; total time=   0.2s\n",
      "[CV] END bootstrap=False, max_depth=10, min_samples_leaf=4, min_samples_split=5, n_estimators=300; total time=   0.5s\n",
      "[CV] END bootstrap=False, max_depth=20, min_samples_leaf=1, min_samples_split=2, n_estimators=100; total time=   0.2s\n",
      "[CV] END bootstrap=False, max_depth=20, min_samples_leaf=1, min_samples_split=2, n_estimators=200; total time=   0.4s\n",
      "[CV] END bootstrap=False, max_depth=20, min_samples_leaf=1, min_samples_split=5, n_estimators=200; total time=   0.4s\n",
      "[CV] END bootstrap=False, max_depth=20, min_samples_leaf=1, min_samples_split=10, n_estimators=200; total time=   0.4s\n",
      "[CV] END bootstrap=False, max_depth=20, min_samples_leaf=2, min_samples_split=2, n_estimators=100; total time=   0.2s\n",
      "[CV] END bootstrap=False, max_depth=20, min_samples_leaf=2, min_samples_split=2, n_estimators=300; total time=   0.6s\n",
      "[CV] END bootstrap=False, max_depth=20, min_samples_leaf=2, min_samples_split=10, n_estimators=100; total time=   0.2s\n",
      "[CV] END bootstrap=False, max_depth=20, min_samples_leaf=2, min_samples_split=10, n_estimators=200; total time=   0.3s\n",
      "[CV] END bootstrap=False, max_depth=20, min_samples_leaf=4, min_samples_split=2, n_estimators=100; total time=   0.1s\n",
      "[CV] END bootstrap=False, max_depth=20, min_samples_leaf=4, min_samples_split=2, n_estimators=200; total time=   0.4s\n",
      "[CV] END bootstrap=False, max_depth=20, min_samples_leaf=4, min_samples_split=5, n_estimators=200; total time=   0.4s\n",
      "[CV] END bootstrap=False, max_depth=20, min_samples_leaf=4, min_samples_split=10, n_estimators=200; total time=   0.4s\n",
      "[CV] END bootstrap=False, max_depth=30, min_samples_leaf=1, min_samples_split=2, n_estimators=100; total time=   0.3s\n",
      "[CV] END bootstrap=False, max_depth=30, min_samples_leaf=1, min_samples_split=2, n_estimators=300; total time=   0.7s\n",
      "[CV] END bootstrap=False, max_depth=30, min_samples_leaf=1, min_samples_split=5, n_estimators=300; total time=   1.0s\n",
      "[CV] END bootstrap=False, max_depth=30, min_samples_leaf=2, min_samples_split=2, n_estimators=100; total time=   0.2s\n",
      "[CV] END bootstrap=False, max_depth=30, min_samples_leaf=2, min_samples_split=2, n_estimators=300; total time=   0.6s\n",
      "[CV] END bootstrap=False, max_depth=30, min_samples_leaf=2, min_samples_split=5, n_estimators=300; total time=   1.0s\n",
      "[CV] END bootstrap=False, max_depth=30, min_samples_leaf=4, min_samples_split=2, n_estimators=200; total time=   0.6s\n",
      "[CV] END bootstrap=False, max_depth=30, min_samples_leaf=4, min_samples_split=5, n_estimators=200; total time=   0.5s\n",
      "[CV] END bootstrap=False, max_depth=30, min_samples_leaf=4, min_samples_split=10, n_estimators=100; total time=   0.3s\n",
      "[CV] END bootstrap=False, max_depth=30, min_samples_leaf=4, min_samples_split=10, n_estimators=300; total time=   0.6s\n",
      "[CV] END learning_rate=0.01, max_depth=3, min_samples_leaf=1, min_samples_split=2, n_estimators=100, subsample=0.8; total time=   0.1s\n",
      "[CV] END learning_rate=0.01, max_depth=3, min_samples_leaf=1, min_samples_split=2, n_estimators=200, subsample=0.8; total time=   0.1s\n",
      "[CV] END learning_rate=0.01, max_depth=3, min_samples_leaf=1, min_samples_split=2, n_estimators=200, subsample=1.0; total time=   0.3s\n",
      "[CV] END learning_rate=0.01, max_depth=3, min_samples_leaf=1, min_samples_split=2, n_estimators=200, subsample=1.0; total time=   0.3s\n",
      "[CV] END learning_rate=0.01, max_depth=3, min_samples_leaf=1, min_samples_split=3, n_estimators=200, subsample=0.8; total time=   0.2s\n",
      "[CV] END learning_rate=0.01, max_depth=3, min_samples_leaf=1, min_samples_split=3, n_estimators=200, subsample=0.9; total time=   0.3s\n",
      "[CV] END learning_rate=0.01, max_depth=3, min_samples_leaf=1, min_samples_split=4, n_estimators=100, subsample=0.8; total time=   0.1s\n",
      "[CV] END learning_rate=0.01, max_depth=3, min_samples_leaf=1, min_samples_split=4, n_estimators=100, subsample=0.9; total time=   0.2s\n",
      "[CV] END learning_rate=0.01, max_depth=3, min_samples_leaf=1, min_samples_split=4, n_estimators=200, subsample=0.9; total time=   0.3s\n",
      "[CV] END learning_rate=0.01, max_depth=3, min_samples_leaf=1, min_samples_split=4, n_estimators=200, subsample=0.9; total time=   0.2s\n",
      "[CV] END learning_rate=0.01, max_depth=3, min_samples_leaf=2, min_samples_split=2, n_estimators=100, subsample=0.8; total time=   0.1s\n",
      "[CV] END learning_rate=0.01, max_depth=3, min_samples_leaf=2, min_samples_split=2, n_estimators=100, subsample=0.8; total time=   0.1s\n",
      "[CV] END learning_rate=0.01, max_depth=3, min_samples_leaf=2, min_samples_split=2, n_estimators=200, subsample=0.9; total time=   0.3s\n",
      "[CV] END learning_rate=0.01, max_depth=3, min_samples_leaf=2, min_samples_split=2, n_estimators=200, subsample=0.9; total time=   0.2s\n",
      "[CV] END learning_rate=0.01, max_depth=3, min_samples_leaf=2, min_samples_split=3, n_estimators=100, subsample=0.8; total time=   0.1s\n",
      "[CV] END learning_rate=0.01, max_depth=3, min_samples_leaf=2, min_samples_split=3, n_estimators=100, subsample=0.8; total time=   0.1s\n",
      "[CV] END learning_rate=0.01, max_depth=3, min_samples_leaf=2, min_samples_split=3, n_estimators=100, subsample=1.0; total time=   0.2s\n",
      "[CV] END learning_rate=0.01, max_depth=3, min_samples_leaf=2, min_samples_split=3, n_estimators=200, subsample=0.8; total time=   0.3s\n",
      "[CV] END learning_rate=0.01, max_depth=3, min_samples_leaf=2, min_samples_split=3, n_estimators=300, subsample=0.9; total time=   0.3s\n",
      "[CV] END learning_rate=0.01, max_depth=3, min_samples_leaf=2, min_samples_split=3, n_estimators=300, subsample=0.9; total time=   0.2s\n",
      "[CV] END learning_rate=0.01, max_depth=3, min_samples_leaf=2, min_samples_split=4, n_estimators=300, subsample=0.9; total time=   0.2s\n",
      "[CV] END learning_rate=0.01, max_depth=3, min_samples_leaf=2, min_samples_split=4, n_estimators=300, subsample=0.9; total time=   0.2s\n",
      "[CV] END learning_rate=0.01, max_depth=3, min_samples_leaf=3, min_samples_split=2, n_estimators=300, subsample=0.8; total time=   0.3s\n",
      "[CV] END learning_rate=0.01, max_depth=3, min_samples_leaf=3, min_samples_split=2, n_estimators=300, subsample=0.8; total time=   0.3s\n",
      "[CV] END learning_rate=0.01, max_depth=3, min_samples_leaf=3, min_samples_split=3, n_estimators=200, subsample=0.8; total time=   0.1s\n",
      "[CV] END learning_rate=0.01, max_depth=3, min_samples_leaf=3, min_samples_split=3, n_estimators=200, subsample=0.9; total time=   0.2s\n",
      "[CV] END learning_rate=0.01, max_depth=3, min_samples_leaf=3, min_samples_split=4, n_estimators=100, subsample=0.8; total time=   0.1s\n",
      "[CV] END learning_rate=0.01, max_depth=3, min_samples_leaf=3, min_samples_split=4, n_estimators=100, subsample=0.8; total time=   0.1s\n",
      "[CV] END learning_rate=0.01, max_depth=3, min_samples_leaf=3, min_samples_split=4, n_estimators=200, subsample=0.8; total time=   0.2s\n",
      "[CV] END learning_rate=0.01, max_depth=3, min_samples_leaf=3, min_samples_split=4, n_estimators=200, subsample=0.8; total time=   0.1s\n",
      "[CV] END learning_rate=0.01, max_depth=3, min_samples_leaf=3, min_samples_split=4, n_estimators=300, subsample=1.0; total time=   0.2s\n",
      "[CV] END learning_rate=0.01, max_depth=4, min_samples_leaf=1, min_samples_split=2, n_estimators=100, subsample=0.8; total time=   0.1s\n",
      "[CV] END learning_rate=0.01, max_depth=4, min_samples_leaf=1, min_samples_split=2, n_estimators=200, subsample=1.0; total time=   0.2s\n",
      "[CV] END learning_rate=0.01, max_depth=4, min_samples_leaf=1, min_samples_split=2, n_estimators=200, subsample=1.0; total time=   0.2s\n",
      "[CV] END learning_rate=0.01, max_depth=4, min_samples_leaf=1, min_samples_split=3, n_estimators=100, subsample=0.9; total time=   0.1s\n",
      "[CV] END learning_rate=0.01, max_depth=4, min_samples_leaf=1, min_samples_split=3, n_estimators=100, subsample=0.9; total time=   0.1s\n",
      "[CV] END learning_rate=0.01, max_depth=4, min_samples_leaf=1, min_samples_split=3, n_estimators=200, subsample=0.9; total time=   0.2s\n",
      "[CV] END learning_rate=0.01, max_depth=4, min_samples_leaf=1, min_samples_split=3, n_estimators=200, subsample=1.0; total time=   0.2s\n",
      "[CV] END learning_rate=0.01, max_depth=4, min_samples_leaf=1, min_samples_split=4, n_estimators=100, subsample=0.9; total time=   0.1s\n",
      "[CV] END learning_rate=0.01, max_depth=4, min_samples_leaf=1, min_samples_split=4, n_estimators=100, subsample=1.0; total time=   0.2s\n",
      "[CV] END learning_rate=0.01, max_depth=4, min_samples_leaf=1, min_samples_split=4, n_estimators=200, subsample=1.0; total time=   0.2s\n",
      "[CV] END learning_rate=0.01, max_depth=4, min_samples_leaf=1, min_samples_split=4, n_estimators=300, subsample=0.8; total time=   0.3s\n",
      "[CV] END learning_rate=0.01, max_depth=4, min_samples_leaf=2, min_samples_split=2, n_estimators=100, subsample=1.0; total time=   0.1s\n",
      "[CV] END learning_rate=0.01, max_depth=4, min_samples_leaf=2, min_samples_split=2, n_estimators=100, subsample=1.0; total time=   0.1s\n",
      "[CV] END learning_rate=0.01, max_depth=4, min_samples_leaf=2, min_samples_split=2, n_estimators=200, subsample=0.8; total time=   0.3s\n",
      "[CV] END learning_rate=0.01, max_depth=4, min_samples_leaf=2, min_samples_split=2, n_estimators=200, subsample=0.8; total time=   0.2s\n",
      "[CV] END learning_rate=0.01, max_depth=4, min_samples_leaf=2, min_samples_split=3, n_estimators=100, subsample=0.8; total time=   0.1s\n",
      "[CV] END bootstrap=True, max_depth=None, min_samples_leaf=1, min_samples_split=2, n_estimators=100; total time=   0.2s\n",
      "[CV] END bootstrap=True, max_depth=None, min_samples_leaf=1, min_samples_split=5, n_estimators=100; total time=   0.2s\n",
      "[CV] END bootstrap=True, max_depth=None, min_samples_leaf=1, min_samples_split=5, n_estimators=300; total time=   0.4s\n",
      "[CV] END bootstrap=True, max_depth=None, min_samples_leaf=1, min_samples_split=10, n_estimators=300; total time=   0.4s\n",
      "[CV] END bootstrap=True, max_depth=None, min_samples_leaf=2, min_samples_split=5, n_estimators=100; total time=   0.1s\n",
      "[CV] END bootstrap=True, max_depth=None, min_samples_leaf=2, min_samples_split=5, n_estimators=200; total time=   0.3s\n",
      "[CV] END bootstrap=True, max_depth=None, min_samples_leaf=2, min_samples_split=10, n_estimators=200; total time=   0.3s\n",
      "[CV] END bootstrap=True, max_depth=None, min_samples_leaf=4, min_samples_split=2, n_estimators=100; total time=   0.1s\n",
      "[CV] END bootstrap=True, max_depth=None, min_samples_leaf=4, min_samples_split=2, n_estimators=300; total time=   0.5s\n",
      "[CV] END bootstrap=True, max_depth=None, min_samples_leaf=4, min_samples_split=5, n_estimators=300; total time=   0.4s\n",
      "[CV] END bootstrap=True, max_depth=10, min_samples_leaf=1, min_samples_split=2, n_estimators=200; total time=   0.3s\n",
      "[CV] END bootstrap=True, max_depth=10, min_samples_leaf=1, min_samples_split=5, n_estimators=200; total time=   0.3s\n",
      "[CV] END bootstrap=True, max_depth=10, min_samples_leaf=1, min_samples_split=10, n_estimators=100; total time=   0.1s\n",
      "[CV] END bootstrap=True, max_depth=10, min_samples_leaf=1, min_samples_split=10, n_estimators=300; total time=   0.4s\n",
      "[CV] END bootstrap=True, max_depth=10, min_samples_leaf=2, min_samples_split=2, n_estimators=300; total time=   0.4s\n",
      "[CV] END bootstrap=True, max_depth=10, min_samples_leaf=2, min_samples_split=10, n_estimators=100; total time=   0.2s\n",
      "[CV] END bootstrap=True, max_depth=10, min_samples_leaf=2, min_samples_split=10, n_estimators=300; total time=   0.4s\n",
      "[CV] END bootstrap=True, max_depth=10, min_samples_leaf=4, min_samples_split=5, n_estimators=100; total time=   0.1s\n",
      "[CV] END bootstrap=True, max_depth=10, min_samples_leaf=4, min_samples_split=5, n_estimators=200; total time=   0.3s\n",
      "[CV] END bootstrap=True, max_depth=10, min_samples_leaf=4, min_samples_split=10, n_estimators=100; total time=   0.1s\n",
      "[CV] END bootstrap=True, max_depth=10, min_samples_leaf=4, min_samples_split=10, n_estimators=300; total time=   0.4s\n",
      "[CV] END bootstrap=True, max_depth=20, min_samples_leaf=1, min_samples_split=5, n_estimators=100; total time=   0.2s\n",
      "[CV] END bootstrap=True, max_depth=20, min_samples_leaf=1, min_samples_split=5, n_estimators=300; total time=   0.4s\n",
      "[CV] END bootstrap=True, max_depth=20, min_samples_leaf=1, min_samples_split=10, n_estimators=300; total time=   0.4s\n",
      "[CV] END bootstrap=True, max_depth=20, min_samples_leaf=2, min_samples_split=5, n_estimators=100; total time=   0.2s\n",
      "[CV] END bootstrap=True, max_depth=20, min_samples_leaf=2, min_samples_split=5, n_estimators=300; total time=   0.5s\n",
      "[CV] END bootstrap=True, max_depth=20, min_samples_leaf=2, min_samples_split=10, n_estimators=300; total time=   0.4s\n",
      "[CV] END bootstrap=True, max_depth=20, min_samples_leaf=4, min_samples_split=5, n_estimators=200; total time=   0.3s\n",
      "[CV] END bootstrap=True, max_depth=20, min_samples_leaf=4, min_samples_split=10, n_estimators=100; total time=   0.1s\n",
      "[CV] END bootstrap=True, max_depth=20, min_samples_leaf=4, min_samples_split=10, n_estimators=300; total time=   0.4s\n",
      "[CV] END bootstrap=True, max_depth=30, min_samples_leaf=1, min_samples_split=2, n_estimators=300; total time=   0.4s\n",
      "[CV] END bootstrap=True, max_depth=30, min_samples_leaf=1, min_samples_split=10, n_estimators=100; total time=   0.1s\n",
      "[CV] END bootstrap=True, max_depth=30, min_samples_leaf=1, min_samples_split=10, n_estimators=300; total time=   0.4s\n",
      "[CV] END bootstrap=True, max_depth=30, min_samples_leaf=2, min_samples_split=2, n_estimators=300; total time=   0.5s\n",
      "[CV] END bootstrap=True, max_depth=30, min_samples_leaf=2, min_samples_split=10, n_estimators=100; total time=   0.2s\n",
      "[CV] END bootstrap=True, max_depth=30, min_samples_leaf=2, min_samples_split=10, n_estimators=300; total time=   0.4s\n",
      "[CV] END bootstrap=True, max_depth=30, min_samples_leaf=4, min_samples_split=5, n_estimators=100; total time=   0.1s\n",
      "[CV] END bootstrap=True, max_depth=30, min_samples_leaf=4, min_samples_split=5, n_estimators=200; total time=   0.2s\n",
      "[CV] END bootstrap=True, max_depth=30, min_samples_leaf=4, min_samples_split=10, n_estimators=200; total time=   0.2s\n",
      "[CV] END bootstrap=False, max_depth=None, min_samples_leaf=1, min_samples_split=2, n_estimators=100; total time=   0.2s\n",
      "[CV] END bootstrap=False, max_depth=None, min_samples_leaf=1, min_samples_split=2, n_estimators=300; total time=   0.6s\n",
      "[CV] END bootstrap=False, max_depth=None, min_samples_leaf=1, min_samples_split=5, n_estimators=300; total time=   0.6s\n",
      "[CV] END bootstrap=False, max_depth=None, min_samples_leaf=2, min_samples_split=2, n_estimators=200; total time=   0.4s\n",
      "[CV] END bootstrap=False, max_depth=None, min_samples_leaf=2, min_samples_split=5, n_estimators=200; total time=   0.4s\n",
      "[CV] END bootstrap=False, max_depth=None, min_samples_leaf=2, min_samples_split=10, n_estimators=100; total time=   0.2s\n",
      "[CV] END bootstrap=False, max_depth=None, min_samples_leaf=2, min_samples_split=10, n_estimators=200; total time=   0.3s\n",
      "[CV] END bootstrap=False, max_depth=None, min_samples_leaf=4, min_samples_split=2, n_estimators=200; total time=   0.3s\n",
      "[CV] END bootstrap=False, max_depth=None, min_samples_leaf=4, min_samples_split=5, n_estimators=100; total time=   0.2s\n",
      "[CV] END bootstrap=False, max_depth=None, min_samples_leaf=4, min_samples_split=5, n_estimators=300; total time=   0.5s\n",
      "[CV] END bootstrap=False, max_depth=10, min_samples_leaf=1, min_samples_split=2, n_estimators=100; total time=   0.2s\n",
      "[CV] END bootstrap=False, max_depth=10, min_samples_leaf=1, min_samples_split=2, n_estimators=200; total time=   0.5s\n",
      "[CV] END bootstrap=False, max_depth=10, min_samples_leaf=1, min_samples_split=5, n_estimators=200; total time=   0.5s\n",
      "[CV] END bootstrap=False, max_depth=10, min_samples_leaf=1, min_samples_split=10, n_estimators=200; total time=   0.3s\n",
      "[CV] END bootstrap=False, max_depth=10, min_samples_leaf=2, min_samples_split=2, n_estimators=100; total time=   0.2s\n",
      "[CV] END bootstrap=False, max_depth=10, min_samples_leaf=2, min_samples_split=2, n_estimators=200; total time=   0.4s\n",
      "[CV] END bootstrap=False, max_depth=10, min_samples_leaf=2, min_samples_split=5, n_estimators=200; total time=   0.4s\n",
      "[CV] END bootstrap=False, max_depth=10, min_samples_leaf=2, min_samples_split=10, n_estimators=100; total time=   0.2s\n",
      "[CV] END bootstrap=False, max_depth=10, min_samples_leaf=2, min_samples_split=10, n_estimators=300; total time=   0.6s\n",
      "[CV] END bootstrap=False, max_depth=10, min_samples_leaf=4, min_samples_split=5, n_estimators=100; total time=   0.2s\n",
      "[CV] END bootstrap=False, max_depth=10, min_samples_leaf=4, min_samples_split=5, n_estimators=200; total time=   0.3s\n",
      "[CV] END bootstrap=False, max_depth=10, min_samples_leaf=4, min_samples_split=10, n_estimators=200; total time=   0.4s\n",
      "[CV] END bootstrap=False, max_depth=20, min_samples_leaf=1, min_samples_split=2, n_estimators=100; total time=   0.2s\n",
      "[CV] END bootstrap=False, max_depth=20, min_samples_leaf=1, min_samples_split=2, n_estimators=300; total time=   0.6s\n",
      "[CV] END bootstrap=False, max_depth=20, min_samples_leaf=1, min_samples_split=10, n_estimators=100; total time=   0.2s\n",
      "[CV] END bootstrap=False, max_depth=20, min_samples_leaf=1, min_samples_split=10, n_estimators=200; total time=   0.4s\n",
      "[CV] END bootstrap=False, max_depth=20, min_samples_leaf=2, min_samples_split=2, n_estimators=200; total time=   0.4s\n",
      "[CV] END bootstrap=False, max_depth=20, min_samples_leaf=2, min_samples_split=5, n_estimators=100; total time=   0.2s\n",
      "[CV] END bootstrap=False, max_depth=20, min_samples_leaf=2, min_samples_split=5, n_estimators=300; total time=   0.5s\n",
      "[CV] END bootstrap=False, max_depth=20, min_samples_leaf=4, min_samples_split=2, n_estimators=100; total time=   0.2s\n",
      "[CV] END bootstrap=False, max_depth=20, min_samples_leaf=4, min_samples_split=2, n_estimators=200; total time=   0.4s\n",
      "[CV] END bootstrap=False, max_depth=20, min_samples_leaf=4, min_samples_split=5, n_estimators=200; total time=   0.4s\n",
      "[CV] END bootstrap=False, max_depth=20, min_samples_leaf=4, min_samples_split=10, n_estimators=100; total time=   0.2s\n",
      "[CV] END bootstrap=False, max_depth=20, min_samples_leaf=4, min_samples_split=10, n_estimators=300; total time=   0.7s\n",
      "[CV] END bootstrap=False, max_depth=30, min_samples_leaf=1, min_samples_split=5, n_estimators=100; total time=   0.2s\n",
      "[CV] END bootstrap=False, max_depth=30, min_samples_leaf=1, min_samples_split=5, n_estimators=200; total time=   0.7s\n",
      "[CV] END bootstrap=False, max_depth=30, min_samples_leaf=1, min_samples_split=10, n_estimators=100; total time=   0.3s\n",
      "[CV] END bootstrap=False, max_depth=30, min_samples_leaf=1, min_samples_split=10, n_estimators=300; total time=   0.7s\n",
      "[CV] END bootstrap=False, max_depth=30, min_samples_leaf=2, min_samples_split=5, n_estimators=100; total time=   0.2s\n",
      "[CV] END bootstrap=False, max_depth=30, min_samples_leaf=2, min_samples_split=5, n_estimators=200; total time=   0.4s\n",
      "[CV] END bootstrap=False, max_depth=30, min_samples_leaf=2, min_samples_split=10, n_estimators=200; total time=   0.8s\n",
      "[CV] END bootstrap=False, max_depth=30, min_samples_leaf=4, min_samples_split=2, n_estimators=100; total time=   0.3s\n",
      "[CV] END bootstrap=False, max_depth=30, min_samples_leaf=4, min_samples_split=2, n_estimators=300; total time=   0.8s\n",
      "[CV] END bootstrap=False, max_depth=30, min_samples_leaf=4, min_samples_split=5, n_estimators=300; total time=   0.9s\n",
      "[CV] END learning_rate=0.01, max_depth=3, min_samples_leaf=1, min_samples_split=2, n_estimators=100, subsample=0.9; total time=   0.1s\n",
      "[CV] END learning_rate=0.01, max_depth=3, min_samples_leaf=1, min_samples_split=2, n_estimators=200, subsample=0.9; total time=   0.3s\n",
      "[CV] END learning_rate=0.01, max_depth=3, min_samples_leaf=1, min_samples_split=3, n_estimators=100, subsample=0.8; total time=   0.1s\n",
      "[CV] END learning_rate=0.01, max_depth=3, min_samples_leaf=1, min_samples_split=3, n_estimators=100, subsample=0.8; total time=   0.1s\n",
      "[CV] END learning_rate=0.01, max_depth=3, min_samples_leaf=1, min_samples_split=3, n_estimators=200, subsample=0.8; total time=   0.3s\n",
      "[CV] END learning_rate=0.01, max_depth=3, min_samples_leaf=1, min_samples_split=3, n_estimators=200, subsample=0.8; total time=   0.4s\n",
      "[CV] END learning_rate=0.01, max_depth=3, min_samples_leaf=1, min_samples_split=4, n_estimators=100, subsample=0.8; total time=   0.1s\n",
      "[CV] END learning_rate=0.01, max_depth=3, min_samples_leaf=1, min_samples_split=4, n_estimators=100, subsample=0.8; total time=   0.1s\n",
      "[CV] END learning_rate=0.01, max_depth=3, min_samples_leaf=1, min_samples_split=4, n_estimators=100, subsample=1.0; total time=   0.2s\n",
      "[CV] END learning_rate=0.01, max_depth=3, min_samples_leaf=1, min_samples_split=4, n_estimators=200, subsample=0.8; total time=   0.3s\n",
      "[CV] END learning_rate=0.01, max_depth=3, min_samples_leaf=1, min_samples_split=4, n_estimators=300, subsample=1.0; total time=   0.2s\n",
      "[CV] END learning_rate=0.01, max_depth=3, min_samples_leaf=2, min_samples_split=2, n_estimators=100, subsample=0.8; total time=   0.1s\n",
      "[CV] END learning_rate=0.01, max_depth=3, min_samples_leaf=2, min_samples_split=2, n_estimators=100, subsample=1.0; total time=   0.1s\n",
      "[CV] END learning_rate=0.01, max_depth=3, min_samples_leaf=2, min_samples_split=2, n_estimators=100, subsample=1.0; total time=   0.1s\n",
      "[CV] END learning_rate=0.01, max_depth=3, min_samples_leaf=2, min_samples_split=2, n_estimators=300, subsample=0.9; total time=   0.4s\n",
      "[CV] END learning_rate=0.01, max_depth=3, min_samples_leaf=2, min_samples_split=2, n_estimators=300, subsample=1.0; total time=   0.4s\n",
      "[CV] END learning_rate=0.01, max_depth=3, min_samples_leaf=2, min_samples_split=3, n_estimators=300, subsample=0.8; total time=   0.3s\n",
      "[CV] END learning_rate=0.01, max_depth=3, min_samples_leaf=2, min_samples_split=3, n_estimators=300, subsample=0.8; total time=   0.3s\n",
      "[CV] END learning_rate=0.01, max_depth=3, min_samples_leaf=2, min_samples_split=4, n_estimators=100, subsample=1.0; total time=   0.1s\n",
      "[CV] END learning_rate=0.01, max_depth=3, min_samples_leaf=2, min_samples_split=4, n_estimators=100, subsample=1.0; total time=   0.1s\n",
      "[CV] END learning_rate=0.01, max_depth=3, min_samples_leaf=2, min_samples_split=4, n_estimators=200, subsample=1.0; total time=   0.2s\n",
      "[CV] END learning_rate=0.01, max_depth=3, min_samples_leaf=2, min_samples_split=4, n_estimators=300, subsample=0.8; total time=   0.2s\n",
      "[CV] END learning_rate=0.01, max_depth=3, min_samples_leaf=3, min_samples_split=2, n_estimators=100, subsample=1.0; total time=   0.1s\n",
      "[CV] END learning_rate=0.01, max_depth=3, min_samples_leaf=3, min_samples_split=2, n_estimators=100, subsample=1.0; total time=   0.1s\n",
      "[CV] END learning_rate=0.01, max_depth=3, min_samples_leaf=3, min_samples_split=2, n_estimators=200, subsample=1.0; total time=   0.3s\n",
      "[CV] END learning_rate=0.01, max_depth=3, min_samples_leaf=3, min_samples_split=2, n_estimators=200, subsample=1.0; total time=   0.2s\n",
      "[CV] END learning_rate=0.01, max_depth=3, min_samples_leaf=3, min_samples_split=3, n_estimators=100, subsample=0.9; total time=   0.1s\n",
      "[CV] END learning_rate=0.01, max_depth=3, min_samples_leaf=3, min_samples_split=3, n_estimators=100, subsample=1.0; total time=   0.1s\n",
      "[CV] END learning_rate=0.01, max_depth=3, min_samples_leaf=3, min_samples_split=3, n_estimators=200, subsample=1.0; total time=   0.2s\n",
      "[CV] END learning_rate=0.01, max_depth=3, min_samples_leaf=3, min_samples_split=3, n_estimators=200, subsample=1.0; total time=   0.2s\n",
      "[CV] END learning_rate=0.01, max_depth=3, min_samples_leaf=3, min_samples_split=4, n_estimators=100, subsample=0.9; total time=   0.1s\n",
      "[CV] END learning_rate=0.01, max_depth=3, min_samples_leaf=3, min_samples_split=4, n_estimators=100, subsample=0.9; total time=   0.1s\n",
      "[CV] END learning_rate=0.01, max_depth=3, min_samples_leaf=3, min_samples_split=4, n_estimators=200, subsample=0.9; total time=   0.2s\n",
      "[CV] END learning_rate=0.01, max_depth=3, min_samples_leaf=3, min_samples_split=4, n_estimators=200, subsample=0.9; total time=   0.1s\n",
      "[CV] END learning_rate=0.01, max_depth=4, min_samples_leaf=1, min_samples_split=2, n_estimators=100, subsample=0.9; total time=   0.1s\n",
      "[CV] END learning_rate=0.01, max_depth=4, min_samples_leaf=1, min_samples_split=2, n_estimators=100, subsample=0.9; total time=   0.1s\n",
      "[CV] END learning_rate=0.01, max_depth=4, min_samples_leaf=1, min_samples_split=2, n_estimators=200, subsample=0.8; total time=   0.2s\n",
      "[CV] END learning_rate=0.01, max_depth=4, min_samples_leaf=1, min_samples_split=2, n_estimators=200, subsample=0.8; total time=   0.2s\n",
      "[CV] END learning_rate=0.01, max_depth=4, min_samples_leaf=1, min_samples_split=2, n_estimators=300, subsample=1.0; total time=   0.3s\n",
      "[CV] END learning_rate=0.01, max_depth=4, min_samples_leaf=1, min_samples_split=2, n_estimators=300, subsample=1.0; total time=   0.4s\n",
      "[CV] END learning_rate=0.01, max_depth=4, min_samples_leaf=1, min_samples_split=3, n_estimators=300, subsample=1.0; total time=   0.3s\n",
      "[CV] END learning_rate=0.01, max_depth=4, min_samples_leaf=1, min_samples_split=3, n_estimators=300, subsample=1.0; total time=   0.3s\n",
      "[CV] END learning_rate=0.01, max_depth=4, min_samples_leaf=1, min_samples_split=4, n_estimators=300, subsample=0.9; total time=   0.3s\n",
      "[CV] END learning_rate=0.01, max_depth=4, min_samples_leaf=1, min_samples_split=4, n_estimators=300, subsample=1.0; total time=   0.4s\n",
      "[CV] END learning_rate=0.01, max_depth=4, min_samples_leaf=2, min_samples_split=2, n_estimators=200, subsample=1.0; total time=   0.3s\n",
      "[CV] END learning_rate=0.01, max_depth=4, min_samples_leaf=2, min_samples_split=2, n_estimators=200, subsample=1.0; total time=   0.3s\n",
      "[CV] END learning_rate=0.01, max_depth=4, min_samples_leaf=2, min_samples_split=3, n_estimators=100, subsample=0.9; total time=   0.1s\n",
      "[CV] END learning_rate=0.01, max_depth=4, min_samples_leaf=2, min_samples_split=3, n_estimators=100, subsample=1.0; total time=   0.1s\n",
      "[CV] END bootstrap=True, max_depth=None, min_samples_leaf=1, min_samples_split=2, n_estimators=300; total time=   0.4s\n",
      "[CV] END bootstrap=True, max_depth=None, min_samples_leaf=1, min_samples_split=5, n_estimators=300; total time=   0.4s\n",
      "[CV] END bootstrap=True, max_depth=None, min_samples_leaf=2, min_samples_split=2, n_estimators=100; total time=   0.2s\n",
      "[CV] END bootstrap=True, max_depth=None, min_samples_leaf=2, min_samples_split=2, n_estimators=200; total time=   0.3s\n",
      "[CV] END bootstrap=True, max_depth=None, min_samples_leaf=2, min_samples_split=5, n_estimators=200; total time=   0.3s\n",
      "[CV] END bootstrap=True, max_depth=None, min_samples_leaf=2, min_samples_split=10, n_estimators=100; total time=   0.1s\n",
      "[CV] END bootstrap=True, max_depth=None, min_samples_leaf=2, min_samples_split=10, n_estimators=300; total time=   0.4s\n",
      "[CV] END bootstrap=True, max_depth=None, min_samples_leaf=4, min_samples_split=5, n_estimators=100; total time=   0.1s\n",
      "[CV] END bootstrap=True, max_depth=None, min_samples_leaf=4, min_samples_split=5, n_estimators=200; total time=   0.3s\n",
      "[CV] END bootstrap=True, max_depth=None, min_samples_leaf=4, min_samples_split=10, n_estimators=200; total time=   0.2s\n",
      "[CV] END bootstrap=True, max_depth=10, min_samples_leaf=1, min_samples_split=2, n_estimators=100; total time=   0.1s\n",
      "[CV] END bootstrap=True, max_depth=10, min_samples_leaf=1, min_samples_split=2, n_estimators=300; total time=   0.5s\n",
      "[CV] END bootstrap=True, max_depth=10, min_samples_leaf=1, min_samples_split=5, n_estimators=300; total time=   0.4s\n",
      "[CV] END bootstrap=True, max_depth=10, min_samples_leaf=2, min_samples_split=2, n_estimators=200; total time=   0.3s\n",
      "[CV] END bootstrap=True, max_depth=10, min_samples_leaf=2, min_samples_split=5, n_estimators=100; total time=   0.1s\n",
      "[CV] END bootstrap=True, max_depth=10, min_samples_leaf=2, min_samples_split=5, n_estimators=300; total time=   0.5s\n",
      "[CV] END bootstrap=True, max_depth=10, min_samples_leaf=4, min_samples_split=2, n_estimators=100; total time=   0.1s\n",
      "[CV] END bootstrap=True, max_depth=10, min_samples_leaf=4, min_samples_split=2, n_estimators=300; total time=   0.4s\n",
      "[CV] END bootstrap=True, max_depth=10, min_samples_leaf=4, min_samples_split=5, n_estimators=300; total time=   0.4s\n",
      "[CV] END bootstrap=True, max_depth=20, min_samples_leaf=1, min_samples_split=2, n_estimators=200; total time=   0.3s\n",
      "[CV] END bootstrap=True, max_depth=20, min_samples_leaf=1, min_samples_split=5, n_estimators=100; total time=   0.2s\n",
      "[CV] END bootstrap=True, max_depth=20, min_samples_leaf=1, min_samples_split=5, n_estimators=300; total time=   0.4s\n",
      "[CV] END bootstrap=True, max_depth=20, min_samples_leaf=2, min_samples_split=2, n_estimators=100; total time=   0.2s\n",
      "[CV] END bootstrap=True, max_depth=20, min_samples_leaf=2, min_samples_split=2, n_estimators=200; total time=   0.3s\n",
      "[CV] END bootstrap=True, max_depth=20, min_samples_leaf=2, min_samples_split=5, n_estimators=200; total time=   0.3s\n",
      "[CV] END bootstrap=True, max_depth=20, min_samples_leaf=2, min_samples_split=10, n_estimators=100; total time=   0.2s\n",
      "[CV] END bootstrap=True, max_depth=20, min_samples_leaf=2, min_samples_split=10, n_estimators=300; total time=   0.4s\n",
      "[CV] END bootstrap=True, max_depth=20, min_samples_leaf=4, min_samples_split=5, n_estimators=100; total time=   0.2s\n",
      "[CV] END bootstrap=True, max_depth=20, min_samples_leaf=4, min_samples_split=5, n_estimators=200; total time=   0.3s\n",
      "[CV] END bootstrap=True, max_depth=20, min_samples_leaf=4, min_samples_split=10, n_estimators=200; total time=   0.3s\n",
      "[CV] END bootstrap=True, max_depth=30, min_samples_leaf=1, min_samples_split=2, n_estimators=200; total time=   0.3s\n",
      "[CV] END bootstrap=True, max_depth=30, min_samples_leaf=1, min_samples_split=5, n_estimators=200; total time=   0.3s\n",
      "[CV] END bootstrap=True, max_depth=30, min_samples_leaf=1, min_samples_split=10, n_estimators=100; total time=   0.1s\n",
      "[CV] END bootstrap=True, max_depth=30, min_samples_leaf=1, min_samples_split=10, n_estimators=300; total time=   0.4s\n",
      "[CV] END bootstrap=True, max_depth=30, min_samples_leaf=2, min_samples_split=5, n_estimators=100; total time=   0.2s\n",
      "[CV] END bootstrap=True, max_depth=30, min_samples_leaf=2, min_samples_split=5, n_estimators=200; total time=   0.3s\n",
      "[CV] END bootstrap=True, max_depth=30, min_samples_leaf=2, min_samples_split=10, n_estimators=100; total time=   0.1s\n",
      "[CV] END bootstrap=True, max_depth=30, min_samples_leaf=2, min_samples_split=10, n_estimators=300; total time=   0.4s\n",
      "[CV] END bootstrap=True, max_depth=30, min_samples_leaf=4, min_samples_split=2, n_estimators=300; total time=   0.4s\n",
      "[CV] END bootstrap=True, max_depth=30, min_samples_leaf=4, min_samples_split=10, n_estimators=100; total time=   0.1s\n",
      "[CV] END bootstrap=True, max_depth=30, min_samples_leaf=4, min_samples_split=10, n_estimators=300; total time=   0.4s\n",
      "[CV] END bootstrap=False, max_depth=None, min_samples_leaf=1, min_samples_split=2, n_estimators=300; total time=   0.7s\n",
      "[CV] END bootstrap=False, max_depth=None, min_samples_leaf=1, min_samples_split=10, n_estimators=200; total time=   0.4s\n",
      "[CV] END bootstrap=False, max_depth=None, min_samples_leaf=2, min_samples_split=2, n_estimators=100; total time=   0.2s\n",
      "[CV] END bootstrap=False, max_depth=None, min_samples_leaf=2, min_samples_split=2, n_estimators=300; total time=   0.6s\n",
      "[CV] END bootstrap=False, max_depth=None, min_samples_leaf=2, min_samples_split=5, n_estimators=300; total time=   0.6s\n",
      "[CV] END bootstrap=False, max_depth=None, min_samples_leaf=4, min_samples_split=2, n_estimators=200; total time=   0.4s\n",
      "[CV] END bootstrap=False, max_depth=None, min_samples_leaf=4, min_samples_split=5, n_estimators=200; total time=   0.4s\n",
      "[CV] END bootstrap=False, max_depth=None, min_samples_leaf=4, min_samples_split=10, n_estimators=200; total time=   0.3s\n",
      "[CV] END bootstrap=False, max_depth=10, min_samples_leaf=1, min_samples_split=2, n_estimators=100; total time=   0.2s\n",
      "[CV] END bootstrap=False, max_depth=10, min_samples_leaf=1, min_samples_split=2, n_estimators=300; total time=   0.7s\n",
      "[CV] END bootstrap=False, max_depth=10, min_samples_leaf=1, min_samples_split=5, n_estimators=300; total time=   0.7s\n",
      "[CV] END bootstrap=False, max_depth=10, min_samples_leaf=2, min_samples_split=2, n_estimators=100; total time=   0.2s\n",
      "[CV] END bootstrap=False, max_depth=10, min_samples_leaf=2, min_samples_split=2, n_estimators=300; total time=   0.7s\n",
      "[CV] END bootstrap=False, max_depth=10, min_samples_leaf=2, min_samples_split=10, n_estimators=200; total time=   0.3s\n",
      "[CV] END bootstrap=False, max_depth=10, min_samples_leaf=4, min_samples_split=2, n_estimators=100; total time=   0.2s\n",
      "[CV] END bootstrap=False, max_depth=10, min_samples_leaf=4, min_samples_split=2, n_estimators=300; total time=   0.5s\n",
      "[CV] END bootstrap=False, max_depth=10, min_samples_leaf=4, min_samples_split=5, n_estimators=300; total time=   0.5s\n",
      "[CV] END bootstrap=False, max_depth=10, min_samples_leaf=4, min_samples_split=10, n_estimators=300; total time=   0.5s\n",
      "[CV] END bootstrap=False, max_depth=20, min_samples_leaf=1, min_samples_split=5, n_estimators=100; total time=   0.2s\n",
      "[CV] END bootstrap=False, max_depth=20, min_samples_leaf=1, min_samples_split=5, n_estimators=200; total time=   0.4s\n",
      "[CV] END bootstrap=False, max_depth=20, min_samples_leaf=1, min_samples_split=10, n_estimators=100; total time=   0.2s\n",
      "[CV] END bootstrap=False, max_depth=20, min_samples_leaf=1, min_samples_split=10, n_estimators=300; total time=   0.5s\n",
      "[CV] END bootstrap=False, max_depth=20, min_samples_leaf=2, min_samples_split=5, n_estimators=100; total time=   0.2s\n",
      "[CV] END bootstrap=False, max_depth=20, min_samples_leaf=2, min_samples_split=5, n_estimators=200; total time=   0.4s\n",
      "[CV] END bootstrap=False, max_depth=20, min_samples_leaf=2, min_samples_split=10, n_estimators=200; total time=   0.3s\n",
      "[CV] END bootstrap=False, max_depth=20, min_samples_leaf=4, min_samples_split=2, n_estimators=200; total time=   0.5s\n",
      "[CV] END bootstrap=False, max_depth=20, min_samples_leaf=4, min_samples_split=5, n_estimators=100; total time=   0.1s\n",
      "[CV] END bootstrap=False, max_depth=20, min_samples_leaf=4, min_samples_split=5, n_estimators=300; total time=   0.7s\n",
      "[CV] END bootstrap=False, max_depth=30, min_samples_leaf=1, min_samples_split=2, n_estimators=100; total time=   0.4s\n",
      "[CV] END bootstrap=False, max_depth=30, min_samples_leaf=1, min_samples_split=2, n_estimators=200; total time=   0.4s\n",
      "[CV] END bootstrap=False, max_depth=30, min_samples_leaf=1, min_samples_split=5, n_estimators=300; total time=   1.1s\n",
      "[CV] END bootstrap=False, max_depth=30, min_samples_leaf=2, min_samples_split=2, n_estimators=100; total time=   0.3s\n",
      "[CV] END bootstrap=False, max_depth=30, min_samples_leaf=2, min_samples_split=2, n_estimators=200; total time=   0.4s\n",
      "[CV] END bootstrap=False, max_depth=30, min_samples_leaf=2, min_samples_split=5, n_estimators=200; total time=   0.4s\n",
      "[CV] END bootstrap=False, max_depth=30, min_samples_leaf=2, min_samples_split=10, n_estimators=200; total time=   0.6s\n",
      "[CV] END bootstrap=False, max_depth=30, min_samples_leaf=4, min_samples_split=2, n_estimators=100; total time=   0.3s\n",
      "[CV] END bootstrap=False, max_depth=30, min_samples_leaf=4, min_samples_split=2, n_estimators=200; total time=   0.5s\n",
      "[CV] END bootstrap=False, max_depth=30, min_samples_leaf=4, min_samples_split=5, n_estimators=100; total time=   0.2s\n",
      "[CV] END bootstrap=False, max_depth=30, min_samples_leaf=4, min_samples_split=5, n_estimators=300; total time=   0.7s\n",
      "[CV] END bootstrap=False, max_depth=30, min_samples_leaf=4, min_samples_split=10, n_estimators=300; total time=   0.7s\n",
      "[CV] END learning_rate=0.01, max_depth=3, min_samples_leaf=1, min_samples_split=2, n_estimators=100, subsample=0.9; total time=   0.1s\n",
      "[CV] END learning_rate=0.01, max_depth=3, min_samples_leaf=1, min_samples_split=2, n_estimators=200, subsample=0.9; total time=   0.3s\n",
      "[CV] END learning_rate=0.01, max_depth=3, min_samples_leaf=1, min_samples_split=2, n_estimators=300, subsample=1.0; total time=   0.4s\n",
      "[CV] END learning_rate=0.01, max_depth=3, min_samples_leaf=1, min_samples_split=3, n_estimators=100, subsample=0.8; total time=   0.1s\n",
      "[CV] END learning_rate=0.01, max_depth=3, min_samples_leaf=1, min_samples_split=3, n_estimators=300, subsample=0.8; total time=   0.5s\n",
      "[CV] END learning_rate=0.01, max_depth=3, min_samples_leaf=1, min_samples_split=3, n_estimators=300, subsample=0.8; total time=   0.4s\n",
      "[CV] END learning_rate=0.01, max_depth=3, min_samples_leaf=1, min_samples_split=4, n_estimators=200, subsample=1.0; total time=   0.2s\n",
      "[CV] END learning_rate=0.01, max_depth=3, min_samples_leaf=1, min_samples_split=4, n_estimators=200, subsample=1.0; total time=   0.2s\n",
      "[CV] END learning_rate=0.01, max_depth=3, min_samples_leaf=2, min_samples_split=2, n_estimators=100, subsample=0.9; total time=   0.1s\n",
      "[CV] END learning_rate=0.01, max_depth=3, min_samples_leaf=2, min_samples_split=2, n_estimators=100, subsample=0.9; total time=   0.1s\n",
      "[CV] END learning_rate=0.01, max_depth=3, min_samples_leaf=2, min_samples_split=2, n_estimators=200, subsample=0.8; total time=   0.3s\n",
      "[CV] END learning_rate=0.01, max_depth=3, min_samples_leaf=2, min_samples_split=2, n_estimators=200, subsample=0.9; total time=   0.4s\n",
      "[CV] END learning_rate=0.01, max_depth=3, min_samples_leaf=2, min_samples_split=3, n_estimators=100, subsample=0.9; total time=   0.1s\n",
      "[CV] END learning_rate=0.01, max_depth=3, min_samples_leaf=2, min_samples_split=3, n_estimators=100, subsample=0.9; total time=   0.1s\n",
      "[CV] END learning_rate=0.01, max_depth=3, min_samples_leaf=2, min_samples_split=3, n_estimators=200, subsample=0.9; total time=   0.3s\n",
      "[CV] END learning_rate=0.01, max_depth=3, min_samples_leaf=2, min_samples_split=3, n_estimators=200, subsample=0.9; total time=   0.3s\n",
      "[CV] END learning_rate=0.01, max_depth=3, min_samples_leaf=2, min_samples_split=4, n_estimators=100, subsample=0.8; total time=   0.1s\n",
      "[CV] END learning_rate=0.01, max_depth=3, min_samples_leaf=2, min_samples_split=4, n_estimators=100, subsample=0.8; total time=   0.1s\n",
      "[CV] END learning_rate=0.01, max_depth=3, min_samples_leaf=2, min_samples_split=4, n_estimators=200, subsample=0.8; total time=   0.1s\n",
      "[CV] END learning_rate=0.01, max_depth=3, min_samples_leaf=2, min_samples_split=4, n_estimators=200, subsample=0.8; total time=   0.1s\n",
      "[CV] END learning_rate=0.01, max_depth=3, min_samples_leaf=2, min_samples_split=4, n_estimators=300, subsample=1.0; total time=   0.3s\n",
      "[CV] END learning_rate=0.01, max_depth=3, min_samples_leaf=2, min_samples_split=4, n_estimators=300, subsample=1.0; total time=   0.2s\n",
      "[CV] END learning_rate=0.01, max_depth=3, min_samples_leaf=3, min_samples_split=2, n_estimators=300, subsample=0.8; total time=   0.3s\n",
      "[CV] END learning_rate=0.01, max_depth=3, min_samples_leaf=3, min_samples_split=2, n_estimators=300, subsample=0.9; total time=   0.2s\n",
      "[CV] END learning_rate=0.01, max_depth=3, min_samples_leaf=3, min_samples_split=3, n_estimators=300, subsample=0.8; total time=   0.2s\n",
      "[CV] END learning_rate=0.01, max_depth=3, min_samples_leaf=3, min_samples_split=3, n_estimators=300, subsample=0.8; total time=   0.3s\n",
      "[CV] END learning_rate=0.01, max_depth=3, min_samples_leaf=3, min_samples_split=4, n_estimators=200, subsample=0.9; total time=   0.2s\n",
      "[CV] END learning_rate=0.01, max_depth=3, min_samples_leaf=3, min_samples_split=4, n_estimators=200, subsample=1.0; total time=   0.1s\n",
      "[CV] END learning_rate=0.01, max_depth=4, min_samples_leaf=1, min_samples_split=2, n_estimators=100, subsample=0.8; total time=   0.1s\n",
      "[CV] END learning_rate=0.01, max_depth=4, min_samples_leaf=1, min_samples_split=2, n_estimators=100, subsample=0.8; total time=   0.1s\n",
      "[CV] END learning_rate=0.01, max_depth=4, min_samples_leaf=1, min_samples_split=2, n_estimators=100, subsample=1.0; total time=   0.1s\n",
      "[CV] END learning_rate=0.01, max_depth=4, min_samples_leaf=1, min_samples_split=2, n_estimators=100, subsample=1.0; total time=   0.1s\n",
      "[CV] END learning_rate=0.01, max_depth=4, min_samples_leaf=1, min_samples_split=2, n_estimators=300, subsample=0.8; total time=   0.3s\n",
      "[CV] END learning_rate=0.01, max_depth=4, min_samples_leaf=1, min_samples_split=2, n_estimators=300, subsample=0.8; total time=   0.2s\n",
      "[CV] END learning_rate=0.01, max_depth=4, min_samples_leaf=1, min_samples_split=3, n_estimators=100, subsample=1.0; total time=   0.1s\n",
      "[CV] END learning_rate=0.01, max_depth=4, min_samples_leaf=1, min_samples_split=3, n_estimators=200, subsample=0.8; total time=   0.2s\n",
      "[CV] END learning_rate=0.01, max_depth=4, min_samples_leaf=1, min_samples_split=3, n_estimators=300, subsample=0.9; total time=   0.3s\n",
      "[CV] END learning_rate=0.01, max_depth=4, min_samples_leaf=1, min_samples_split=3, n_estimators=300, subsample=0.9; total time=   0.3s\n",
      "[CV] END learning_rate=0.01, max_depth=4, min_samples_leaf=1, min_samples_split=4, n_estimators=300, subsample=0.8; total time=   0.3s\n",
      "[CV] END learning_rate=0.01, max_depth=4, min_samples_leaf=1, min_samples_split=4, n_estimators=300, subsample=0.8; total time=   0.3s\n",
      "[CV] END learning_rate=0.01, max_depth=4, min_samples_leaf=2, min_samples_split=2, n_estimators=200, subsample=0.9; total time=   0.2s\n",
      "[CV] END learning_rate=0.01, max_depth=4, min_samples_leaf=2, min_samples_split=2, n_estimators=200, subsample=1.0; total time=   0.3s\n",
      "[CV] END learning_rate=0.01, max_depth=4, min_samples_leaf=2, min_samples_split=3, n_estimators=100, subsample=0.9; total time=   0.1s\n",
      "[CV] END learning_rate=0.01, max_depth=4, min_samples_leaf=2, min_samples_split=3, n_estimators=100, subsample=0.9; total time=   0.1s\n",
      "[CV] END learning_rate=0.01, max_depth=4, min_samples_leaf=2, min_samples_split=3, n_estimators=200, subsample=0.8; total time=   0.3s\n",
      "[CV] END learning_rate=0.01, max_depth=4, min_samples_leaf=2, min_samples_split=3, n_estimators=200, subsample=0.9; total time=   0.4s\n",
      "[CV] END learning_rate=0.01, max_depth=4, min_samples_leaf=2, min_samples_split=4, n_estimators=100, subsample=0.8; total time=   0.1s\n",
      "[CV] END learning_rate=0.01, max_depth=4, min_samples_leaf=2, min_samples_split=4, n_estimators=100, subsample=0.8; total time=   0.1s\n",
      "[CV] END learning_rate=0.01, max_depth=4, min_samples_leaf=2, min_samples_split=4, n_estimators=100, subsample=1.0; total time=   0.1s\n",
      "[CV] END learning_rate=0.01, max_depth=4, min_samples_leaf=2, min_samples_split=4, n_estimators=100, subsample=1.0; total time=   0.1s\n",
      "[CV] END bootstrap=True, max_depth=None, min_samples_leaf=1, min_samples_split=2, n_estimators=100; total time=   0.2s\n",
      "[CV] END bootstrap=True, max_depth=None, min_samples_leaf=1, min_samples_split=5, n_estimators=100; total time=   0.1s\n",
      "[CV] END bootstrap=True, max_depth=None, min_samples_leaf=1, min_samples_split=5, n_estimators=200; total time=   0.3s\n",
      "[CV] END bootstrap=True, max_depth=None, min_samples_leaf=1, min_samples_split=10, n_estimators=200; total time=   0.3s\n",
      "[CV] END bootstrap=True, max_depth=None, min_samples_leaf=2, min_samples_split=2, n_estimators=200; total time=   0.3s\n",
      "[CV] END bootstrap=True, max_depth=None, min_samples_leaf=2, min_samples_split=5, n_estimators=200; total time=   0.3s\n",
      "[CV] END bootstrap=True, max_depth=None, min_samples_leaf=2, min_samples_split=10, n_estimators=100; total time=   0.1s\n",
      "[CV] END bootstrap=True, max_depth=None, min_samples_leaf=2, min_samples_split=10, n_estimators=300; total time=   0.5s\n",
      "[CV] END bootstrap=True, max_depth=None, min_samples_leaf=4, min_samples_split=2, n_estimators=300; total time=   0.4s\n",
      "[CV] END bootstrap=True, max_depth=None, min_samples_leaf=4, min_samples_split=10, n_estimators=100; total time=   0.1s\n",
      "[CV] END bootstrap=True, max_depth=None, min_samples_leaf=4, min_samples_split=10, n_estimators=200; total time=   0.2s\n",
      "[CV] END bootstrap=True, max_depth=10, min_samples_leaf=1, min_samples_split=2, n_estimators=100; total time=   0.1s\n",
      "[CV] END bootstrap=True, max_depth=10, min_samples_leaf=1, min_samples_split=2, n_estimators=300; total time=   0.5s\n",
      "[CV] END bootstrap=True, max_depth=10, min_samples_leaf=1, min_samples_split=10, n_estimators=100; total time=   0.1s\n",
      "[CV] END bootstrap=True, max_depth=10, min_samples_leaf=1, min_samples_split=10, n_estimators=200; total time=   0.3s\n",
      "[CV] END bootstrap=True, max_depth=10, min_samples_leaf=2, min_samples_split=2, n_estimators=200; total time=   0.3s\n",
      "[CV] END bootstrap=True, max_depth=10, min_samples_leaf=2, min_samples_split=5, n_estimators=200; total time=   0.4s\n",
      "[CV] END bootstrap=True, max_depth=10, min_samples_leaf=2, min_samples_split=10, n_estimators=200; total time=   0.3s\n",
      "[CV] END bootstrap=True, max_depth=10, min_samples_leaf=4, min_samples_split=2, n_estimators=200; total time=   0.2s\n",
      "[CV] END bootstrap=True, max_depth=10, min_samples_leaf=4, min_samples_split=5, n_estimators=100; total time=   0.1s\n",
      "[CV] END bootstrap=True, max_depth=10, min_samples_leaf=4, min_samples_split=5, n_estimators=200; total time=   0.3s\n",
      "[CV] END bootstrap=True, max_depth=10, min_samples_leaf=4, min_samples_split=10, n_estimators=200; total time=   0.2s\n",
      "[CV] END bootstrap=True, max_depth=20, min_samples_leaf=1, min_samples_split=2, n_estimators=100; total time=   0.2s\n",
      "[CV] END bootstrap=True, max_depth=20, min_samples_leaf=1, min_samples_split=2, n_estimators=300; total time=   0.5s\n",
      "[CV] END bootstrap=True, max_depth=20, min_samples_leaf=1, min_samples_split=10, n_estimators=100; total time=   0.1s\n",
      "[CV] END bootstrap=True, max_depth=20, min_samples_leaf=1, min_samples_split=10, n_estimators=200; total time=   0.3s\n",
      "[CV] END bootstrap=True, max_depth=20, min_samples_leaf=2, min_samples_split=2, n_estimators=200; total time=   0.3s\n",
      "[CV] END bootstrap=True, max_depth=20, min_samples_leaf=2, min_samples_split=5, n_estimators=100; total time=   0.2s\n",
      "[CV] END bootstrap=True, max_depth=20, min_samples_leaf=2, min_samples_split=5, n_estimators=300; total time=   0.5s\n",
      "[CV] END bootstrap=True, max_depth=20, min_samples_leaf=4, min_samples_split=2, n_estimators=200; total time=   0.2s\n",
      "[CV] END bootstrap=True, max_depth=20, min_samples_leaf=4, min_samples_split=2, n_estimators=300; total time=   0.4s\n",
      "[CV] END bootstrap=True, max_depth=20, min_samples_leaf=4, min_samples_split=10, n_estimators=100; total time=   0.1s\n",
      "[CV] END bootstrap=True, max_depth=20, min_samples_leaf=4, min_samples_split=10, n_estimators=300; total time=   0.5s\n",
      "[CV] END bootstrap=True, max_depth=30, min_samples_leaf=1, min_samples_split=5, n_estimators=100; total time=   0.2s\n",
      "[CV] END bootstrap=True, max_depth=30, min_samples_leaf=1, min_samples_split=5, n_estimators=300; total time=   0.5s\n",
      "[CV] END bootstrap=True, max_depth=30, min_samples_leaf=2, min_samples_split=2, n_estimators=100; total time=   0.1s\n",
      "[CV] END bootstrap=True, max_depth=30, min_samples_leaf=2, min_samples_split=2, n_estimators=200; total time=   0.4s\n",
      "[CV] END bootstrap=True, max_depth=30, min_samples_leaf=2, min_samples_split=5, n_estimators=200; total time=   0.3s\n",
      "[CV] END bootstrap=True, max_depth=30, min_samples_leaf=2, min_samples_split=10, n_estimators=200; total time=   0.3s\n",
      "[CV] END bootstrap=True, max_depth=30, min_samples_leaf=4, min_samples_split=2, n_estimators=200; total time=   0.3s\n",
      "[CV] END bootstrap=True, max_depth=30, min_samples_leaf=4, min_samples_split=5, n_estimators=200; total time=   0.3s\n",
      "[CV] END bootstrap=True, max_depth=30, min_samples_leaf=4, min_samples_split=10, n_estimators=200; total time=   0.3s\n",
      "[CV] END bootstrap=False, max_depth=None, min_samples_leaf=1, min_samples_split=2, n_estimators=100; total time=   0.2s\n",
      "[CV] END bootstrap=False, max_depth=None, min_samples_leaf=1, min_samples_split=2, n_estimators=300; total time=   0.7s\n",
      "[CV] END bootstrap=False, max_depth=None, min_samples_leaf=1, min_samples_split=10, n_estimators=100; total time=   0.2s\n",
      "[CV] END bootstrap=False, max_depth=None, min_samples_leaf=1, min_samples_split=10, n_estimators=300; total time=   0.6s\n",
      "[CV] END bootstrap=False, max_depth=None, min_samples_leaf=2, min_samples_split=5, n_estimators=100; total time=   0.2s\n",
      "[CV] END bootstrap=False, max_depth=None, min_samples_leaf=2, min_samples_split=5, n_estimators=200; total time=   0.4s\n",
      "[CV] END bootstrap=False, max_depth=None, min_samples_leaf=2, min_samples_split=10, n_estimators=200; total time=   0.4s\n",
      "[CV] END bootstrap=False, max_depth=None, min_samples_leaf=4, min_samples_split=2, n_estimators=100; total time=   0.2s\n",
      "[CV] END bootstrap=False, max_depth=None, min_samples_leaf=4, min_samples_split=2, n_estimators=300; total time=   0.5s\n",
      "[CV] END bootstrap=False, max_depth=None, min_samples_leaf=4, min_samples_split=5, n_estimators=300; total time=   0.5s\n",
      "[CV] END bootstrap=False, max_depth=10, min_samples_leaf=1, min_samples_split=2, n_estimators=200; total time=   0.5s\n",
      "[CV] END bootstrap=False, max_depth=10, min_samples_leaf=1, min_samples_split=5, n_estimators=200; total time=   0.5s\n",
      "[CV] END bootstrap=False, max_depth=10, min_samples_leaf=1, min_samples_split=10, n_estimators=100; total time=   0.2s\n",
      "[CV] END bootstrap=False, max_depth=10, min_samples_leaf=1, min_samples_split=10, n_estimators=200; total time=   0.4s\n",
      "[CV] END bootstrap=False, max_depth=10, min_samples_leaf=2, min_samples_split=2, n_estimators=200; total time=   0.4s\n",
      "[CV] END bootstrap=False, max_depth=10, min_samples_leaf=2, min_samples_split=5, n_estimators=200; total time=   0.3s\n",
      "[CV] END bootstrap=False, max_depth=10, min_samples_leaf=2, min_samples_split=10, n_estimators=100; total time=   0.2s\n",
      "[CV] END bootstrap=False, max_depth=10, min_samples_leaf=2, min_samples_split=10, n_estimators=200; total time=   0.3s\n",
      "[CV] END bootstrap=False, max_depth=10, min_samples_leaf=4, min_samples_split=2, n_estimators=200; total time=   0.4s\n",
      "[CV] END bootstrap=False, max_depth=10, min_samples_leaf=4, min_samples_split=5, n_estimators=200; total time=   0.4s\n",
      "[CV] END bootstrap=False, max_depth=10, min_samples_leaf=4, min_samples_split=10, n_estimators=100; total time=   0.2s\n",
      "[CV] END bootstrap=False, max_depth=10, min_samples_leaf=4, min_samples_split=10, n_estimators=300; total time=   0.5s\n",
      "[CV] END bootstrap=False, max_depth=20, min_samples_leaf=1, min_samples_split=2, n_estimators=300; total time=   0.7s\n",
      "[CV] END bootstrap=False, max_depth=20, min_samples_leaf=1, min_samples_split=10, n_estimators=200; total time=   0.4s\n",
      "[CV] END bootstrap=False, max_depth=20, min_samples_leaf=2, min_samples_split=2, n_estimators=100; total time=   0.2s\n",
      "[CV] END bootstrap=False, max_depth=20, min_samples_leaf=2, min_samples_split=2, n_estimators=300; total time=   0.6s\n",
      "[CV] END bootstrap=False, max_depth=20, min_samples_leaf=2, min_samples_split=5, n_estimators=300; total time=   0.6s\n",
      "[CV] END bootstrap=False, max_depth=20, min_samples_leaf=4, min_samples_split=2, n_estimators=300; total time=   0.6s\n",
      "[CV] END bootstrap=False, max_depth=20, min_samples_leaf=4, min_samples_split=5, n_estimators=300; total time=   0.6s\n",
      "[CV] END bootstrap=False, max_depth=30, min_samples_leaf=1, min_samples_split=2, n_estimators=200; total time=   0.4s\n",
      "[CV] END bootstrap=False, max_depth=30, min_samples_leaf=1, min_samples_split=5, n_estimators=100; total time=   0.2s\n",
      "[CV] END bootstrap=False, max_depth=30, min_samples_leaf=1, min_samples_split=5, n_estimators=300; total time=   1.0s\n",
      "[CV] END bootstrap=False, max_depth=30, min_samples_leaf=1, min_samples_split=10, n_estimators=300; total time=   0.7s\n",
      "[CV] END bootstrap=False, max_depth=30, min_samples_leaf=2, min_samples_split=5, n_estimators=100; total time=   0.2s\n",
      "[CV] END bootstrap=False, max_depth=30, min_samples_leaf=2, min_samples_split=5, n_estimators=300; total time=   0.7s\n",
      "[CV] END bootstrap=False, max_depth=30, min_samples_leaf=2, min_samples_split=10, n_estimators=300; total time=   1.0s\n",
      "[CV] END bootstrap=False, max_depth=30, min_samples_leaf=4, min_samples_split=5, n_estimators=100; total time=   0.2s\n",
      "[CV] END bootstrap=False, max_depth=30, min_samples_leaf=4, min_samples_split=5, n_estimators=300; total time=   0.7s\n",
      "[CV] END learning_rate=0.01, max_depth=3, min_samples_leaf=1, min_samples_split=2, n_estimators=100, subsample=0.8; total time=   0.1s\n",
      "[CV] END learning_rate=0.01, max_depth=3, min_samples_leaf=1, min_samples_split=2, n_estimators=100, subsample=1.0; total time=   0.1s\n",
      "[CV] END learning_rate=0.01, max_depth=3, min_samples_leaf=1, min_samples_split=2, n_estimators=200, subsample=0.8; total time=   0.1s\n",
      "[CV] END learning_rate=0.01, max_depth=3, min_samples_leaf=1, min_samples_split=2, n_estimators=300, subsample=0.8; total time=   0.2s\n",
      "[CV] END learning_rate=0.01, max_depth=3, min_samples_leaf=1, min_samples_split=2, n_estimators=300, subsample=0.8; total time=   0.2s\n",
      "[CV] END learning_rate=0.01, max_depth=3, min_samples_leaf=1, min_samples_split=3, n_estimators=100, subsample=0.9; total time=   0.1s\n",
      "[CV] END learning_rate=0.01, max_depth=3, min_samples_leaf=1, min_samples_split=3, n_estimators=100, subsample=1.0; total time=   0.1s\n",
      "[CV] END learning_rate=0.01, max_depth=3, min_samples_leaf=1, min_samples_split=3, n_estimators=200, subsample=1.0; total time=   0.1s\n",
      "[CV] END learning_rate=0.01, max_depth=3, min_samples_leaf=1, min_samples_split=3, n_estimators=200, subsample=1.0; total time=   0.4s\n",
      "[CV] END learning_rate=0.01, max_depth=3, min_samples_leaf=1, min_samples_split=4, n_estimators=100, subsample=0.9; total time=   0.1s\n",
      "[CV] END learning_rate=0.01, max_depth=3, min_samples_leaf=1, min_samples_split=4, n_estimators=100, subsample=0.9; total time=   0.2s\n",
      "[CV] END learning_rate=0.01, max_depth=3, min_samples_leaf=1, min_samples_split=4, n_estimators=200, subsample=0.9; total time=   0.2s\n",
      "[CV] END learning_rate=0.01, max_depth=3, min_samples_leaf=1, min_samples_split=4, n_estimators=200, subsample=1.0; total time=   0.3s\n",
      "[CV] END learning_rate=0.01, max_depth=3, min_samples_leaf=2, min_samples_split=2, n_estimators=100, subsample=0.9; total time=   0.1s\n",
      "[CV] END learning_rate=0.01, max_depth=3, min_samples_leaf=2, min_samples_split=2, n_estimators=100, subsample=1.0; total time=   0.1s\n",
      "[CV] END learning_rate=0.01, max_depth=3, min_samples_leaf=2, min_samples_split=2, n_estimators=200, subsample=1.0; total time=   0.3s\n",
      "[CV] END learning_rate=0.01, max_depth=3, min_samples_leaf=2, min_samples_split=2, n_estimators=300, subsample=0.8; total time=   0.3s\n",
      "[CV] END learning_rate=0.01, max_depth=3, min_samples_leaf=2, min_samples_split=3, n_estimators=100, subsample=1.0; total time=   0.2s\n",
      "[CV] END learning_rate=0.01, max_depth=3, min_samples_leaf=2, min_samples_split=3, n_estimators=100, subsample=1.0; total time=   0.2s\n",
      "[CV] END learning_rate=0.01, max_depth=3, min_samples_leaf=2, min_samples_split=3, n_estimators=300, subsample=0.8; total time=   0.4s\n",
      "[CV] END learning_rate=0.01, max_depth=3, min_samples_leaf=2, min_samples_split=3, n_estimators=300, subsample=0.9; total time=   0.2s\n",
      "[CV] END learning_rate=0.01, max_depth=3, min_samples_leaf=2, min_samples_split=4, n_estimators=200, subsample=1.0; total time=   0.2s\n",
      "[CV] END learning_rate=0.01, max_depth=3, min_samples_leaf=2, min_samples_split=4, n_estimators=200, subsample=1.0; total time=   0.1s\n",
      "[CV] END learning_rate=0.01, max_depth=3, min_samples_leaf=3, min_samples_split=2, n_estimators=100, subsample=0.9; total time=   0.1s\n",
      "[CV] END learning_rate=0.01, max_depth=3, min_samples_leaf=3, min_samples_split=2, n_estimators=100, subsample=0.9; total time=   0.1s\n",
      "[CV] END learning_rate=0.01, max_depth=3, min_samples_leaf=3, min_samples_split=2, n_estimators=200, subsample=0.9; total time=   0.2s\n",
      "[CV] END learning_rate=0.01, max_depth=3, min_samples_leaf=3, min_samples_split=2, n_estimators=200, subsample=0.9; total time=   0.3s\n",
      "[CV] END learning_rate=0.01, max_depth=3, min_samples_leaf=3, min_samples_split=3, n_estimators=100, subsample=0.9; total time=   0.1s\n",
      "[CV] END learning_rate=0.01, max_depth=3, min_samples_leaf=3, min_samples_split=3, n_estimators=100, subsample=0.9; total time=   0.1s\n",
      "[CV] END learning_rate=0.01, max_depth=3, min_samples_leaf=3, min_samples_split=3, n_estimators=200, subsample=0.8; total time=   0.2s\n",
      "[CV] END learning_rate=0.01, max_depth=3, min_samples_leaf=3, min_samples_split=3, n_estimators=200, subsample=0.8; total time=   0.1s\n",
      "[CV] END learning_rate=0.01, max_depth=3, min_samples_leaf=3, min_samples_split=3, n_estimators=300, subsample=1.0; total time=   0.2s\n",
      "[CV] END learning_rate=0.01, max_depth=3, min_samples_leaf=3, min_samples_split=3, n_estimators=300, subsample=1.0; total time=   0.3s\n",
      "[CV] END learning_rate=0.01, max_depth=3, min_samples_leaf=3, min_samples_split=4, n_estimators=300, subsample=1.0; total time=   0.3s\n",
      "[CV] END learning_rate=0.01, max_depth=3, min_samples_leaf=3, min_samples_split=4, n_estimators=300, subsample=1.0; total time=   0.2s\n",
      "[CV] END learning_rate=0.01, max_depth=4, min_samples_leaf=1, min_samples_split=2, n_estimators=300, subsample=0.9; total time=   0.3s\n",
      "[CV] END learning_rate=0.01, max_depth=4, min_samples_leaf=1, min_samples_split=2, n_estimators=300, subsample=0.9; total time=   0.3s\n",
      "[CV] END learning_rate=0.01, max_depth=4, min_samples_leaf=1, min_samples_split=3, n_estimators=200, subsample=1.0; total time=   0.2s\n",
      "[CV] END learning_rate=0.01, max_depth=4, min_samples_leaf=1, min_samples_split=3, n_estimators=200, subsample=1.0; total time=   0.2s\n",
      "[CV] END learning_rate=0.01, max_depth=4, min_samples_leaf=1, min_samples_split=4, n_estimators=100, subsample=0.9; total time=   0.1s\n",
      "[CV] END learning_rate=0.01, max_depth=4, min_samples_leaf=1, min_samples_split=4, n_estimators=100, subsample=0.9; total time=   0.1s\n",
      "[CV] END learning_rate=0.01, max_depth=4, min_samples_leaf=1, min_samples_split=4, n_estimators=100, subsample=1.0; total time=   0.2s\n",
      "[CV] END learning_rate=0.01, max_depth=4, min_samples_leaf=1, min_samples_split=4, n_estimators=100, subsample=1.0; total time=   0.1s\n",
      "[CV] END learning_rate=0.01, max_depth=4, min_samples_leaf=1, min_samples_split=4, n_estimators=300, subsample=0.9; total time=   0.4s\n",
      "[CV] END learning_rate=0.01, max_depth=4, min_samples_leaf=1, min_samples_split=4, n_estimators=300, subsample=0.9; total time=   0.4s\n",
      "[CV] END learning_rate=0.01, max_depth=4, min_samples_leaf=2, min_samples_split=2, n_estimators=300, subsample=0.8; total time=   0.5s\n",
      "[CV] END learning_rate=0.01, max_depth=4, min_samples_leaf=2, min_samples_split=2, n_estimators=300, subsample=0.9; total time=   0.3s\n",
      "[CV] END learning_rate=0.01, max_depth=4, min_samples_leaf=2, min_samples_split=3, n_estimators=200, subsample=1.0; total time=   0.4s\n",
      "[CV] END learning_rate=0.01, max_depth=4, min_samples_leaf=2, min_samples_split=3, n_estimators=200, subsample=1.0; total time=   0.3s\n",
      "[CV] END learning_rate=0.01, max_depth=4, min_samples_leaf=2, min_samples_split=4, n_estimators=100, subsample=0.9; total time=   0.1s\n",
      "[CV] END learning_rate=0.01, max_depth=4, min_samples_leaf=2, min_samples_split=4, n_estimators=100, subsample=0.9; total time=   0.2s\n",
      "[CV] END bootstrap=True, max_depth=None, min_samples_leaf=1, min_samples_split=2, n_estimators=200; total time=   0.3s\n",
      "[CV] END bootstrap=True, max_depth=None, min_samples_leaf=1, min_samples_split=5, n_estimators=200; total time=   0.3s\n",
      "[CV] END bootstrap=True, max_depth=None, min_samples_leaf=1, min_samples_split=10, n_estimators=200; total time=   0.3s\n",
      "[CV] END bootstrap=True, max_depth=None, min_samples_leaf=2, min_samples_split=2, n_estimators=200; total time=   0.3s\n",
      "[CV] END bootstrap=True, max_depth=None, min_samples_leaf=2, min_samples_split=5, n_estimators=100; total time=   0.1s\n",
      "[CV] END bootstrap=True, max_depth=None, min_samples_leaf=2, min_samples_split=5, n_estimators=300; total time=   0.4s\n",
      "[CV] END bootstrap=True, max_depth=None, min_samples_leaf=2, min_samples_split=10, n_estimators=300; total time=   0.4s\n",
      "[CV] END bootstrap=True, max_depth=None, min_samples_leaf=4, min_samples_split=5, n_estimators=100; total time=   0.1s\n",
      "[CV] END bootstrap=True, max_depth=None, min_samples_leaf=4, min_samples_split=5, n_estimators=300; total time=   0.4s\n",
      "[CV] END bootstrap=True, max_depth=10, min_samples_leaf=1, min_samples_split=2, n_estimators=100; total time=   0.1s\n",
      "[CV] END bootstrap=True, max_depth=10, min_samples_leaf=1, min_samples_split=2, n_estimators=200; total time=   0.3s\n",
      "[CV] END bootstrap=True, max_depth=10, min_samples_leaf=1, min_samples_split=5, n_estimators=100; total time=   0.1s\n",
      "[CV] END bootstrap=True, max_depth=10, min_samples_leaf=1, min_samples_split=5, n_estimators=300; total time=   0.5s\n",
      "[CV] END bootstrap=True, max_depth=10, min_samples_leaf=2, min_samples_split=2, n_estimators=100; total time=   0.1s\n",
      "[CV] END bootstrap=True, max_depth=10, min_samples_leaf=2, min_samples_split=2, n_estimators=200; total time=   0.3s\n",
      "[CV] END bootstrap=True, max_depth=10, min_samples_leaf=2, min_samples_split=5, n_estimators=200; total time=   0.3s\n",
      "[CV] END bootstrap=True, max_depth=10, min_samples_leaf=2, min_samples_split=10, n_estimators=100; total time=   0.2s\n",
      "[CV] END bootstrap=True, max_depth=10, min_samples_leaf=2, min_samples_split=10, n_estimators=300; total time=   0.4s\n",
      "[CV] END bootstrap=True, max_depth=10, min_samples_leaf=4, min_samples_split=2, n_estimators=300; total time=   0.4s\n",
      "[CV] END bootstrap=True, max_depth=10, min_samples_leaf=4, min_samples_split=10, n_estimators=100; total time=   0.1s\n",
      "[CV] END bootstrap=True, max_depth=10, min_samples_leaf=4, min_samples_split=10, n_estimators=300; total time=   0.4s\n",
      "[CV] END bootstrap=True, max_depth=20, min_samples_leaf=1, min_samples_split=2, n_estimators=300; total time=   0.5s\n",
      "[CV] END bootstrap=True, max_depth=20, min_samples_leaf=1, min_samples_split=10, n_estimators=200; total time=   0.3s\n",
      "[CV] END bootstrap=True, max_depth=20, min_samples_leaf=2, min_samples_split=2, n_estimators=100; total time=   0.1s\n",
      "[CV] END bootstrap=True, max_depth=20, min_samples_leaf=2, min_samples_split=2, n_estimators=300; total time=   0.5s\n",
      "[CV] END bootstrap=True, max_depth=20, min_samples_leaf=2, min_samples_split=10, n_estimators=100; total time=   0.1s\n",
      "[CV] END bootstrap=True, max_depth=20, min_samples_leaf=2, min_samples_split=10, n_estimators=200; total time=   0.3s\n",
      "[CV] END bootstrap=True, max_depth=20, min_samples_leaf=4, min_samples_split=2, n_estimators=100; total time=   0.1s\n",
      "[CV] END bootstrap=True, max_depth=20, min_samples_leaf=4, min_samples_split=2, n_estimators=300; total time=   0.4s\n",
      "[CV] END bootstrap=True, max_depth=20, min_samples_leaf=4, min_samples_split=5, n_estimators=300; total time=   0.4s\n",
      "[CV] END bootstrap=True, max_depth=30, min_samples_leaf=1, min_samples_split=2, n_estimators=100; total time=   0.1s\n",
      "[CV] END bootstrap=True, max_depth=30, min_samples_leaf=1, min_samples_split=2, n_estimators=200; total time=   0.3s\n",
      "[CV] END bootstrap=True, max_depth=30, min_samples_leaf=1, min_samples_split=5, n_estimators=200; total time=   0.3s\n",
      "[CV] END bootstrap=True, max_depth=30, min_samples_leaf=1, min_samples_split=10, n_estimators=200; total time=   0.3s\n",
      "[CV] END bootstrap=True, max_depth=30, min_samples_leaf=2, min_samples_split=2, n_estimators=100; total time=   0.1s\n",
      "[CV] END bootstrap=True, max_depth=30, min_samples_leaf=2, min_samples_split=2, n_estimators=300; total time=   0.4s\n",
      "[CV] END bootstrap=True, max_depth=30, min_samples_leaf=2, min_samples_split=5, n_estimators=300; total time=   0.4s\n",
      "[CV] END bootstrap=True, max_depth=30, min_samples_leaf=4, min_samples_split=2, n_estimators=100; total time=   0.1s\n",
      "[CV] END bootstrap=True, max_depth=30, min_samples_leaf=4, min_samples_split=2, n_estimators=300; total time=   0.4s\n",
      "[CV] END bootstrap=True, max_depth=30, min_samples_leaf=4, min_samples_split=10, n_estimators=100; total time=   0.1s\n",
      "[CV] END bootstrap=True, max_depth=30, min_samples_leaf=4, min_samples_split=10, n_estimators=200; total time=   0.2s\n",
      "[CV] END bootstrap=False, max_depth=None, min_samples_leaf=1, min_samples_split=2, n_estimators=200; total time=   0.4s\n",
      "[CV] END bootstrap=False, max_depth=None, min_samples_leaf=1, min_samples_split=5, n_estimators=100; total time=   0.2s\n",
      "[CV] END bootstrap=False, max_depth=None, min_samples_leaf=1, min_samples_split=5, n_estimators=300; total time=   0.6s\n",
      "[CV] END bootstrap=False, max_depth=None, min_samples_leaf=2, min_samples_split=2, n_estimators=100; total time=   0.2s\n",
      "[CV] END bootstrap=False, max_depth=None, min_samples_leaf=2, min_samples_split=2, n_estimators=200; total time=   0.4s\n",
      "[CV] END bootstrap=False, max_depth=None, min_samples_leaf=2, min_samples_split=5, n_estimators=100; total time=   0.2s\n",
      "[CV] END bootstrap=False, max_depth=None, min_samples_leaf=2, min_samples_split=5, n_estimators=300; total time=   0.5s\n",
      "[CV] END bootstrap=False, max_depth=None, min_samples_leaf=4, min_samples_split=2, n_estimators=100; total time=   0.2s\n",
      "[CV] END bootstrap=False, max_depth=None, min_samples_leaf=4, min_samples_split=2, n_estimators=200; total time=   0.3s\n",
      "[CV] END bootstrap=False, max_depth=None, min_samples_leaf=4, min_samples_split=5, n_estimators=200; total time=   0.3s\n",
      "[CV] END bootstrap=False, max_depth=None, min_samples_leaf=4, min_samples_split=10, n_estimators=100; total time=   0.2s\n",
      "[CV] END bootstrap=False, max_depth=None, min_samples_leaf=4, min_samples_split=10, n_estimators=300; total time=   0.5s\n",
      "[CV] END bootstrap=False, max_depth=10, min_samples_leaf=1, min_samples_split=5, n_estimators=100; total time=   0.4s\n",
      "[CV] END bootstrap=False, max_depth=10, min_samples_leaf=1, min_samples_split=5, n_estimators=200; total time=   0.5s\n",
      "[CV] END bootstrap=False, max_depth=10, min_samples_leaf=1, min_samples_split=10, n_estimators=300; total time=   0.6s\n",
      "[CV] END bootstrap=False, max_depth=10, min_samples_leaf=2, min_samples_split=2, n_estimators=300; total time=   0.6s\n",
      "[CV] END bootstrap=False, max_depth=10, min_samples_leaf=2, min_samples_split=10, n_estimators=100; total time=   0.2s\n",
      "[CV] END bootstrap=False, max_depth=10, min_samples_leaf=2, min_samples_split=10, n_estimators=300; total time=   0.5s\n",
      "[CV] END bootstrap=False, max_depth=10, min_samples_leaf=4, min_samples_split=2, n_estimators=300; total time=   0.6s\n",
      "[CV] END bootstrap=False, max_depth=10, min_samples_leaf=4, min_samples_split=10, n_estimators=200; total time=   0.4s\n",
      "[CV] END bootstrap=False, max_depth=20, min_samples_leaf=1, min_samples_split=2, n_estimators=200; total time=   0.4s\n",
      "[CV] END bootstrap=False, max_depth=20, min_samples_leaf=1, min_samples_split=5, n_estimators=200; total time=   0.4s\n",
      "[CV] END bootstrap=False, max_depth=20, min_samples_leaf=1, min_samples_split=10, n_estimators=100; total time=   0.2s\n",
      "[CV] END bootstrap=False, max_depth=20, min_samples_leaf=1, min_samples_split=10, n_estimators=300; total time=   0.6s\n",
      "[CV] END bootstrap=False, max_depth=20, min_samples_leaf=2, min_samples_split=2, n_estimators=300; total time=   0.5s\n",
      "[CV] END bootstrap=False, max_depth=20, min_samples_leaf=2, min_samples_split=10, n_estimators=100; total time=   0.2s\n",
      "[CV] END bootstrap=False, max_depth=20, min_samples_leaf=2, min_samples_split=10, n_estimators=300; total time=   0.6s\n",
      "[CV] END bootstrap=False, max_depth=20, min_samples_leaf=4, min_samples_split=2, n_estimators=300; total time=   0.6s\n",
      "[CV] END bootstrap=False, max_depth=20, min_samples_leaf=4, min_samples_split=10, n_estimators=200; total time=   0.4s\n",
      "[CV] END bootstrap=False, max_depth=30, min_samples_leaf=1, min_samples_split=2, n_estimators=100; total time=   0.3s\n",
      "[CV] END bootstrap=False, max_depth=30, min_samples_leaf=1, min_samples_split=2, n_estimators=300; total time=   0.9s\n",
      "[CV] END bootstrap=False, max_depth=30, min_samples_leaf=1, min_samples_split=10, n_estimators=100; total time=   0.3s\n",
      "[CV] END bootstrap=False, max_depth=30, min_samples_leaf=1, min_samples_split=10, n_estimators=200; total time=   0.7s\n",
      "[CV] END bootstrap=False, max_depth=30, min_samples_leaf=2, min_samples_split=2, n_estimators=100; total time=   0.2s\n",
      "[CV] END bootstrap=False, max_depth=30, min_samples_leaf=2, min_samples_split=2, n_estimators=300; total time=   0.6s\n",
      "[CV] END bootstrap=False, max_depth=30, min_samples_leaf=2, min_samples_split=10, n_estimators=100; total time=   0.2s\n",
      "[CV] END bootstrap=False, max_depth=30, min_samples_leaf=2, min_samples_split=10, n_estimators=200; total time=   0.9s\n",
      "[CV] END bootstrap=False, max_depth=30, min_samples_leaf=4, min_samples_split=2, n_estimators=300; total time=   1.0s\n",
      "[CV] END bootstrap=False, max_depth=30, min_samples_leaf=4, min_samples_split=10, n_estimators=100; total time=   0.3s\n",
      "[CV] END bootstrap=False, max_depth=30, min_samples_leaf=4, min_samples_split=10, n_estimators=300; total time=   0.7s\n",
      "[CV] END learning_rate=0.01, max_depth=3, min_samples_leaf=1, min_samples_split=2, n_estimators=100, subsample=0.9; total time=   0.2s\n",
      "[CV] END learning_rate=0.01, max_depth=3, min_samples_leaf=1, min_samples_split=2, n_estimators=200, subsample=1.0; total time=   0.3s\n",
      "[CV] END learning_rate=0.01, max_depth=3, min_samples_leaf=1, min_samples_split=3, n_estimators=100, subsample=0.9; total time=   0.1s\n",
      "[CV] END learning_rate=0.01, max_depth=3, min_samples_leaf=1, min_samples_split=3, n_estimators=100, subsample=0.9; total time=   0.1s\n",
      "[CV] END learning_rate=0.01, max_depth=3, min_samples_leaf=1, min_samples_split=3, n_estimators=200, subsample=1.0; total time=   0.3s\n",
      "[CV] END learning_rate=0.01, max_depth=3, min_samples_leaf=1, min_samples_split=3, n_estimators=300, subsample=0.8; total time=   0.5s\n",
      "[CV] END learning_rate=0.01, max_depth=3, min_samples_leaf=1, min_samples_split=4, n_estimators=100, subsample=1.0; total time=   0.1s\n",
      "[CV] END learning_rate=0.01, max_depth=3, min_samples_leaf=1, min_samples_split=4, n_estimators=100, subsample=1.0; total time=   0.2s\n",
      "[CV] END learning_rate=0.01, max_depth=3, min_samples_leaf=1, min_samples_split=4, n_estimators=300, subsample=0.8; total time=   0.3s\n",
      "[CV] END learning_rate=0.01, max_depth=3, min_samples_leaf=1, min_samples_split=4, n_estimators=300, subsample=0.9; total time=   0.2s\n",
      "[CV] END learning_rate=0.01, max_depth=3, min_samples_leaf=2, min_samples_split=2, n_estimators=200, subsample=0.8; total time=   0.2s\n",
      "[CV] END learning_rate=0.01, max_depth=3, min_samples_leaf=2, min_samples_split=2, n_estimators=200, subsample=0.8; total time=   0.2s\n",
      "[CV] END learning_rate=0.01, max_depth=3, min_samples_leaf=2, min_samp[CV] END bootstrap=True, max_depth=None, min_samples_leaf=1, min_samples_split=2, n_estimators=100; total time=   0.1s\n",
      "[CV] END bootstrap=True, max_depth=None, min_samples_leaf=1, min_samples_split=2, n_estimators=300; total time=   0.5s\n",
      "[CV] END bootstrap=True, max_depth=None, min_samples_leaf=1, min_samples_split=10, n_estimators=200; total time=   0.3s\n",
      "[CV] END bootstrap=True, max_depth=None, min_samples_leaf=2, min_samples_split=2, n_estimators=100; total time=   0.1s\n",
      "[CV] END bootstrap=True, max_depth=None, min_samples_leaf=2, min_samples_split=2, n_estimators=300; total time=   0.5s\n",
      "[CV] END bootstrap=True, max_depth=None, min_samples_leaf=2, min_samples_split=10, n_estimators=100; total time=   0.1s\n",
      "[CV] END bootstrap=True, max_depth=None, min_samples_leaf=2, min_samples_split=10, n_estimators=200; total time=   0.3s\n",
      "[CV] END bootstrap=True, max_depth=None, min_samples_leaf=4, min_samples_split=2, n_estimators=100; total time=   0.2s\n",
      "[CV] END bootstrap=True, max_depth=None, min_samples_leaf=4, min_samples_split=2, n_estimators=300; total time=   0.4s\n",
      "[CV] END bootstrap=True, max_depth=None, min_samples_leaf=4, min_samples_split=10, n_estimators=100; total time=   0.1s\n",
      "[CV] END bootstrap=True, max_depth=None, min_samples_leaf=4, min_samples_split=10, n_estimators=300; total time=   0.4s\n",
      "[CV] END bootstrap=True, max_depth=10, min_samples_leaf=1, min_samples_split=2, n_estimators=300; total time=   0.5s\n",
      "[CV] END bootstrap=True, max_depth=10, min_samples_leaf=1, min_samples_split=10, n_estimators=100; total time=   0.2s\n",
      "[CV] END bootstrap=True, max_depth=10, min_samples_leaf=1, min_samples_split=10, n_estimators=300; total time=   0.4s\n",
      "[CV] END bootstrap=True, max_depth=10, min_samples_leaf=2, min_samples_split=5, n_estimators=100; total time=   0.2s\n",
      "[CV] END bootstrap=True, max_depth=10, min_samples_leaf=2, min_samples_split=5, n_estimators=200; total time=   0.3s\n",
      "[CV] END bootstrap=True, max_depth=10, min_samples_leaf=2, min_samples_split=10, n_estimators=200; total time=   0.3s\n",
      "[CV] END bootstrap=True, max_depth=10, min_samples_leaf=4, min_samples_split=2, n_estimators=200; total time=   0.3s\n",
      "[CV] END bootstrap=True, max_depth=10, min_samples_leaf=4, min_samples_split=5, n_estimators=200; total time=   0.3s\n",
      "[CV] END bootstrap=True, max_depth=10, min_samples_leaf=4, min_samples_split=10, n_estimators=200; total time=   0.3s\n",
      "[CV] END bootstrap=True, max_depth=20, min_samples_leaf=1, min_samples_split=2, n_estimators=100; total time=   0.2s\n",
      "[CV] END bootstrap=True, max_depth=20, min_samples_leaf=1, min_samples_split=2, n_estimators=300; total time=   0.4s\n",
      "[CV] END bootstrap=True, max_depth=20, min_samples_leaf=1, min_samples_split=5, n_estimators=300; total time=   0.5s\n",
      "[CV] END bootstrap=True, max_depth=20, min_samples_leaf=2, min_samples_split=2, n_estimators=200; total time=   0.4s\n",
      "[CV] END bootstrap=True, max_depth=20, min_samples_leaf=2, min_samples_split=5, n_estimators=200; total time=   0.3s\n",
      "[CV] END bootstrap=True, max_depth=20, min_samples_leaf=2, min_samples_split=10, n_estimators=200; total time=   0.3s\n",
      "[CV] END bootstrap=True, max_depth=20, min_samples_leaf=4, min_samples_split=2, n_estimators=200; total time=   0.3s\n",
      "[CV] END bootstrap=True, max_depth=20, min_samples_leaf=4, min_samples_split=5, n_estimators=100; total time=   0.1s\n",
      "[CV] END bootstrap=True, max_depth=20, min_samples_leaf=4, min_samples_split=5, n_estimators=300; total time=   0.4s\n",
      "[CV] END bootstrap=True, max_depth=30, min_samples_leaf=1, min_samples_split=2, n_estimators=100; total time=   0.2s\n",
      "[CV] END bootstrap=True, max_depth=30, min_samples_leaf=1, min_samples_split=2, n_estimators=300; total time=   0.4s\n",
      "[CV] END bootstrap=True, max_depth=30, min_samples_leaf=1, min_samples_split=5, n_estimators=300; total time=   0.4s\n",
      "[CV] END bootstrap=True, max_depth=30, min_samples_leaf=2, min_samples_split=2, n_estimators=200; total time=   0.3s\n",
      "[CV] END bootstrap=True, max_depth=30, min_samples_leaf=2, min_samples_split=5, n_estimators=100; total time=   0.1s\n",
      "[CV] END bootstrap=True, max_depth=30, min_samples_leaf=2, min_samples_split=5, n_estimators=300; total time=   0.4s\n",
      "[CV] END bootstrap=True, max_depth=30, min_samples_leaf=2, min_samples_split=10, n_estimators=300; total time=   0.4s\n",
      "[CV] END bootstrap=True, max_depth=30, min_samples_leaf=4, min_samples_split=5, n_estimators=100; total time=   0.1s\n",
      "[CV] END bootstrap=True, max_depth=30, min_samples_leaf=4, min_samples_split=5, n_estimators=300; total time=   0.4s\n",
      "[CV] END bootstrap=False, max_depth=None, min_samples_leaf=1, min_samples_split=2, n_estimators=100; total time=   0.2s\n",
      "[CV] END bootstrap=False, max_depth=None, min_samples_leaf=1, min_samples_split=2, n_estimators=200; total time=   0.4s\n",
      "[CV] END bootstrap=False, max_depth=None, min_samples_leaf=1, min_samples_split=5, n_estimators=300; total time=   0.6s\n",
      "[CV] END bootstrap=False, max_depth=None, min_samples_leaf=1, min_samples_split=10, n_estimators=300; total time=   0.6s\n",
      "[CV] END bootstrap=False, max_depth=None, min_samples_leaf=2, min_samples_split=5, n_estimators=100; total time=   0.2s\n",
      "[CV] END bootstrap=False, max_depth=None, min_samples_leaf=2, min_samples_split=5, n_estimators=300; total time=   0.5s\n",
      "[CV] END bootstrap=False, max_depth=None, min_samples_leaf=2, min_samples_split=10, n_estimators=300; total time=   0.5s\n",
      "[CV] END bootstrap=False, max_depth=None, min_samples_leaf=4, min_samples_split=5, n_estimators=100; total time=   0.2s\n",
      "[CV] END bootstrap=False, max_depth=None, min_samples_leaf=4, min_samples_split=5, n_estimators=300; total time=   0.6s\n",
      "[CV] END bootstrap=False, max_depth=None, min_samples_leaf=4, min_samples_split=10, n_estimators=300; total time=   0.7s\n",
      "[CV] END bootstrap=False, max_depth=10, min_samples_leaf=1, min_samples_split=5, n_estimators=100; total time=   0.3s\n",
      "[CV] END bootstrap=False, max_depth=10, min_samples_leaf=1, min_samples_split=5, n_estimators=300; total time=   0.6s\n",
      "[CV] END bootstrap=False, max_depth=10, min_samples_leaf=1, min_samples_split=10, n_estimators=300; total time=   0.5s\n",
      "[CV] END bootstrap=False, max_depth=10, min_samples_leaf=2, min_samples_split=5, n_estimators=100; total time=   0.2s\n",
      "[CV] END bootstrap=False, max_depth=10, min_samples_leaf=2, min_samples_split=5, n_estimators=200; total time=   0.3s\n",
      "[CV] END bootstrap=False, max_depth=10, min_samples_leaf=2, min_samples_split=10, n_estimators=200; total time=   0.3s\n",
      "[CV] END bootstrap=False, max_depth=10, min_samples_leaf=4, min_samples_split=2, n_estimators=100; total time=   0.1s\n",
      "[CV] END bootstrap=False, max_depth=10, min_samples_leaf=4, min_samples_split=2, n_estimators=300; total time=   0.6s\n",
      "[CV] END bootstrap=False, max_depth=10, min_samples_leaf=4, min_samples_split=10, n_estimators=100; total time=   0.2s\n",
      "[CV] END bootstrap=False, max_depth=10, min_samples_leaf=4, min_samples_split=10, n_estimators=200; total time=   0.3s\n",
      "[CV] END bootstrap=False, max_depth=20, min_samples_leaf=1, min_samples_split=2, n_estimators=200; total time=   0.4s\n",
      "[CV] END bootstrap=False, max_depth=20, min_samples_leaf=1, min_samples_split=5, n_estimators=100; total time=   0.2s\n",
      "[CV] END bootstrap=False, max_depth=20, min_samples_leaf=1, min_samples_split=5, n_estimators=300; total time=   0.6s\n",
      "[CV] END bootstrap=False, max_depth=20, min_samples_leaf=2, min_samples_split=2, n_estimators=100; total time=   0.2s\n",
      "[CV] END bootstrap=False, max_depth=20, min_samples_leaf=2, min_samples_split=2, n_estimators=200; total time=   0.4s\n",
      "[CV] END bootstrap=False, max_depth=20, min_samples_leaf=2, min_samples_split=5, n_estimators=200; total time=   0.4s\n",
      "[CV] END bootstrap=False, max_depth=20, min_samples_leaf=2, min_samples_split=10, n_estimators=200; total time=   0.3s\n",
      "[CV] END bootstrap=False, max_depth=20, min_samples_leaf=4, min_samples_split=2, n_estimators=100; total time=   0.2s\n",
      "[CV] END bootstrap=False, max_depth=20, min_samples_leaf=4, min_samples_split=2, n_estimators=300; total time=   0.6s\n",
      "[CV] END bootstrap=False, max_depth=20, min_samples_leaf=4, min_samples_split=10, n_estimators=100; total time=   0.2s\n",
      "[CV] END bootstrap=False, max_depth=20, min_samples_leaf=4, min_samples_split=10, n_estimators=200; total time=   0.5s\n",
      "[CV] END bootstrap=False, max_depth=30, min_samples_leaf=1, min_samples_split=2, n_estimators=200; total time=   0.5s\n",
      "[CV] END bootstrap=False, max_depth=30, min_samples_leaf=1, min_samples_split=5, n_estimators=200; total time=   0.7s\n",
      "[CV] END bootstrap=False, max_depth=30, min_samples_leaf=1, min_samples_split=10, n_estimators=100; total time=   0.3s\n",
      "[CV] END bootstrap=False, max_depth=30, min_samples_leaf=1, min_samples_split=10, n_estimators=300; total time=   0.8s\n",
      "[CV] END bootstrap=False, max_depth=30, min_samples_leaf=2, min_samples_split=2, n_estimators=300; total time=   0.6s\n",
      "[CV] END bootstrap=False, max_depth=30, min_samples_leaf=2, min_samples_split=10, n_estimators=100; total time=   0.2s\n",
      "[CV] END bootstrap=False, max_depth=30, min_samples_leaf=2, min_samples_split=10, n_estimators=300; total time=   1.2s\n",
      "[CV] END bootstrap=False, max_depth=30, min_samples_leaf=4, min_samples_split=5, n_estimators=100; total time=   0.3s\n",
      "[CV] END bootstrap=False, max_depth=30, min_samples_leaf=4, min_samples_split=5, n_estimators=200; total time=   0.6s\n",
      "[CV] END bootstrap=False, max_depth=30, min_samples_leaf=4, min_samples_split=10, n_estimators=200; total time=   0.6s\n",
      "[CV] END learning_rate=0.01, max_depth=3, min_samples_leaf=1, min_samples_split=2, n_estimators=100, subsample=0.8; total time=   0.1s\n",
      "[CV] END learning_rate=0.01, max_depth=3, min_samples_leaf=1, min_samples_split=2, n_estimators=100, subsample=1.0; total time=   0.1s\n",
      "[CV] END learning_rate=0.01, max_depth=3, min_samples_leaf=1, min_samples_split=2, n_estimators=200, subsample=0.9; total time=   0.2s\n",
      "[CV] END learning_rate=0.01, max_depth=3, min_samples_leaf=1, min_samples_split=2, n_estimators=300, subsample=0.9; total time=   0.2s\n",
      "[CV] END learning_rate=0.01, max_depth=3, min_samples_leaf=1, min_samples_split=2, n_estimators=300, subsample=0.9; total time=   0.2s\n",
      "[CV] END learning_rate=0.01, max_depth=3, min_samples_leaf=1, min_samples_split=3, n_estimators=100, subsample=1.0; total time=   0.1s\n",
      "[CV] END learning_rate=0.01, max_depth=3, min_samples_leaf=1, min_samples_split=3, n_estimators=100, subsample=1.0; total time=   0.1s\n",
      "[CV] END learning_rate=0.01, max_depth=3, min_samples_leaf=1, min_samples_split=3, n_estimators=200, subsample=0.9; total time=   0.2s\n",
      "[CV] END learning_rate=0.01, max_depth=3, min_samples_leaf=1, min_samples_split=3, n_estimators=200, subsample=0.9; total time=   0.1s\n",
      "[CV] END learning_rate=0.01, max_depth=3, min_samples_leaf=1, min_samples_split=3, n_estimators=300, subsample=0.9; total time=   0.2s\n",
      "[CV] END learning_rate=0.01, max_depth=3, min_samples_leaf=1, min_samples_split=3, n_estimators=300, subsample=0.9; total time=   0.2s\n",
      "[CV] END learning_rate=0.01, max_depth=3, min_samples_leaf=1, min_samples_split=4, n_estimators=200, subsample=0.8; total time=   0.2s\n",
      "[CV] END learning_rate=0.01, max_depth=3, min_samples_leaf=1, min_samples_split=4, n_estimators=200, subsample=0.8; total time=   0.1s\n",
      "[CV] END learning_rate=0.01, max_depth=3, min_samples_leaf=1, min_samples_split=4, n_estimators=300, subsample=1.0; total time=   0.3s\n",
      "[CV] END learning_rate=0.01, max_depth=3, min_samples_leaf=1, min_samples_split=4, n_estimators=300, subsample=1.0; total time=   0.3s\n",
      "[CV] END learning_rate=0.01, max_depth=3, min_samples_leaf=2, min_samples_split=2, n_estimators=300, subsample=0.9; total time=   0.4s\n",
      "[CV] END learning_rate=0.01, max_depth=3, min_samples_leaf=2, min_samples_split=2, n_estimators=300, subsample=0.9; total time=   0.5s\n",
      "[CV] END learning_rate=0.01, max_depth=3, min_samples_leaf=2, min_samples_split=3, n_estimators=200, subsample=1.0; total time=   0.3s\n",
      "[CV] END learning_rate=0.01, max_depth=3, min_samples_leaf=2, min_samples_split=3, n_estimators=200, subsample=1.0; total time=   0.3s\n",
      "[CV] END learning_rate=0.01, max_depth=3, min_samples_leaf=2, min_samples_split=4, n_estimators=100, subsample=0.9; total time=   0.1s\n",
      "[CV] END learning_rate=0.01, max_depth=3, min_samples_leaf=2, min_samples_split=4, n_estimators=100, subsample=1.0; total time=   0.1s\n",
      "[CV] END learning_rate=0.01, max_depth=3, min_samples_leaf=2, min_samples_split=4, n_estimators=200, subsample=0.9; total time=   0.2s\n",
      "[CV] END learning_rate=0.01, max_depth=3, min_samples_leaf=2, min_samples_split=4, n_estimators=200, subsample=0.9; total time=   0.1s\n",
      "[CV] END learning_rate=0.01, max_depth=3, min_samples_leaf=3, min_samples_split=2, n_estimators=100, subsample=0.8; total time=   0.1s\n",
      "[CV] END learning_rate=0.01, max_depth=3, min_samples_leaf=3, min_samples_split=2, n_estimators=100, subsample=0.9; total time=   0.1s\n",
      "[CV] END learning_rate=0.01, max_depth=3, min_samples_leaf=3, min_samples_split=2, n_estimators=200, subsample=0.8; total time=   0.2s\n",
      "[CV] END learning_rate=0.01, max_depth=3, min_samples_leaf=3, min_samples_split=2, n_estimators=200, subsample=0.8; total time=   0.2s\n",
      "[CV] END learning_rate=0.01, max_depth=3, min_samples_leaf=3, min_samples_split=2, n_estimators=300, subsample=1.0; total time=   0.4s\n",
      "[CV] END learning_rate=0.01, max_depth=3, min_samples_leaf=3, min_samples_split=3, n_estimators=100, subsample=0.8; total time=   0.1s\n",
      "[CV] END learning_rate=0.01, max_depth=3, min_samples_leaf=3, min_samples_split=3, n_estimators=200, subsample=0.9; total time=   0.2s\n",
      "[CV] END learning_rate=0.01, max_depth=3, min_samples_leaf=3, min_samples_split=3, n_estimators=200, subsample=0.9; total time=   0.2s\n",
      "[CV] END learning_rate=0.01, max_depth=3, min_samples_leaf=3, min_samples_split=4, n_estimators=100, subsample=0.8; total time=   0.1s\n",
      "[CV] END learning_rate=0.01, max_depth=3, min_samples_leaf=3, min_samples_split=4, n_estimators=100, subsample=0.9; total time=   0.1s\n",
      "[CV] END learning_rate=0.01, max_depth=3, min_samples_leaf=3, min_samples_split=4, n_estimators=100, subsample=1.0; total time=   0.1s\n",
      "[CV] END learning_rate=0.01, max_depth=3, min_samples_leaf=3, min_samples_split=4, n_estimators=200, subsample=0.8; total time=   0.2s\n",
      "[CV] END learning_rate=0.01, max_depth=3, min_samples_leaf=3, min_samples_split=4, n_estimators=300, subsample=0.9; total time=   0.2s\n",
      "[CV] END learning_rate=0.01, max_depth=3, min_samples_leaf=3, min_samples_split=4, n_estimators=300, subsample=0.9; total time=   0.3s\n",
      "[CV] END learning_rate=0.01, max_depth=4, min_samples_leaf=1, min_samples_split=2, n_estimators=300, subsample=0.9; total time=   0.3s\n",
      "[CV] END learning_rate=0.01, max_depth=4, min_samples_leaf=1, min_samples_split=2, n_estimators=300, subsample=1.0; total time=   0.3s\n",
      "[CV] END learning_rate=0.01, max_depth=4, min_samples_leaf=1, min_samples_split=3, n_estimators=300, subsample=0.8; total time=   0.3s\n",
      "[CV] END learning_rate=0.01, max_depth=4, min_samples_leaf=1, min_samples_split=3, n_estimators=300, subsample=0.9; total time=   0.3s\n",
      "[CV] END learning_rate=0.01, max_depth=4, min_samples_leaf=1, min_samples_split=4, n_estimators=200, subsample=0.8; total time=   0.2s\n",
      "[CV] END learning_rate=0.01, max_depth=4, min_samples_leaf=1, min_samples_split=4, n_estimators=200, subsample=0.8; total time=   0.2s\n",
      "[CV] END learning_rate=0.01, max_depth=4, min_samples_leaf=1, min_samples_split=4, n_estimators=300, subsample=1.0; total time=   0.4s\n",
      "[CV] END learning_rate=0.01, max_depth=4, min_samples_leaf=1, min_samples_split=4, n_estimators=300, subsample=1.0; total time=   0.4s\n",
      "[CV] END learning_rate=0.01, max_depth=4, min_samples_leaf=2, min_samples_split=2, n_estimators=300, subsample=0.9; total time=   0.5s\n",
      "[CV] END learning_rate=0.01, max_depth=4, min_samples_leaf=2, min_samples_split=2, n_estimators=300, subsample=0.9; total time=   0.4s\n",
      "[CV] END learning_rate=0.01, max_depth=4, min_samples_leaf=2, min_samples_split=3, n_estimators=300, subsample=0.9; total time=   0.4s\n",
      "[CV] END learning_rate=0.01, max_depth=4, min_samples_leaf=2, min_samples_split=3, n_estimators=300, subsample=1.0; total time=   0.3s\n",
      "[CV] END learning_rate=0.01, max_depth=4, min_samples_leaf=2, min_samples_split=4, n_estimators=200, subsample=0.9; total time=   0.3s\n",
      "[CV] END learning_rate=0.01, max_depth=4, min_samples_leaf=2, min_samples_split=4, n_estimators=200, subsample=0.9; total time=   0.2s\n",
      "[CV] END bootstrap=True, max_depth=None, min_samples_leaf=1, min_samples_split=2, n_estimators=200; total time=   0.3s\n",
      "[CV] END bootstrap=True, max_depth=None, min_samples_leaf=1, min_samples_split=5, n_estimators=100; total time=   0.1s\n",
      "[CV] END bootstrap=True, max_depth=None, min_samples_leaf=1, min_samples_split=10, n_estimators=100; total time=   0.1s\n",
      "[CV] END bootstrap=True, max_depth=None, min_samples_leaf=1, min_samples_split=10, n_estimators=100; total time=   0.2s\n",
      "[CV] END bootstrap=True, max_depth=None, min_samples_leaf=1, min_samples_split=10, n_estimators=300; total time=   0.5s\n",
      "[CV] END bootstrap=True, max_depth=None, min_samples_leaf=2, min_samples_split=5, n_estimators=100; total time=   0.1s\n",
      "[CV] END bootstrap=True, max_depth=None, min_sles_split=2, n_estimators=300, subsample=1.0; total time=   0.5s\n",
      "[CV] END learning_rate=0.01, max_depth=3, min_samples_leaf=2, min_samples_split=2, n_estimators=300, subsample=1.0; total time=   0.5s\n",
      "[CV] END learning_rate=0.01, max_depth=3, min_samples_leaf=2, min_samples_split=3, n_estimators=300, subsample=1.0; total time=   0.2s\n",
      "[CV] END learning_rate=0.01, max_depth=3, min_samples_leaf=2, min_samples_split=4, n_estimators=100, subsample=0.8; total time=   0.1s\n",
      "[CV] END learning_rate=0.01, max_depth=3, min_samples_leaf=2, min_samples_split=4, n_estimators=300, subsample=0.8; total time=   0.2s\n",
      "[CV] END learning_rate=0.01, max_depth=3, min_samples_leaf=2, min_samples_split=4, n_estimators=300, subsample=0.8; total time=   0.2s\n",
      "[CV] END learning_rate=0.01, max_depth=3, min_samples_leaf=3, min_samples_split=2, n_estimators=200, subsample=0.9; total time=   0.2s\n",
      "[CV] END learning_rate=0.01, max_depth=3, min_samples_leaf=3, min_samples_split=2, n_estimators=200, subsample=1.0; total tim[CV] END bootstrap=True, max_depth=None, min_samples_leaf=1, min_samples_split=2, n_estimators=200; total time=   0.3s\n",
      "[CV] END bootstrap=True, max_depth=None, min_samples_leaf=1, min_samples_split=5, n_estimators=200; total time=   0.3s\n",
      "[CV] END bootstrap=True, max_depth=None, min_samples_leaf=1, min_samples_split=10, n_estimators=100; total time=   0.1s\n",
      "[CV] END bootstrap=True, max_depth=None, min_samples_leaf=1, min_samples_split=10, n_estimators=300; total time=   0.4s\n",
      "[CV] END bootstrap=True, max_depth=None, min_samples_leaf=2, min_samples_split=2, n_estimators=300; total time=   0.5s\n",
      "[CV] END bootstrap=True, max_depth=None, min_samples_leaf=2, min_samples_split=10, n_estimators=200; total time=   0.3s\n",
      "[CV] END bootstrap=True, max_depth=None, min_samples_leaf=4, min_samples_split=2, n_estimators=200; total time=   0.3s\n",
      "[CV] END bootstrap=True, max_depth=None, min_samples_leaf=4, min_samples_split=5, n_estimators=200; total time=   0.3s\n",
      "[CV] END bootstrap=True, max_depth=None, min_[CV] END learning_rate=0.01, max_depth=4, min_samples_leaf=2, min_samples_split=3, n_estimators=100, subsample=0.8; total time=   0.1s\n",
      "[CV] END learning_rate=0.01, max_depth=4, min_samples_leaf=2, min_samples_split=3, n_estimators=200, subsample=0.8; total time=   0.2s\n",
      "[CV] END learning_rate=0.01, max_depth=4, min_samples_leaf=2, min_samples_split=3, n_estimators=200, subsample=0.8; total time=   0.3s\n",
      "[CV] END learning_rate=0.01, max_depth=4, min_samples_leaf=2, min_samples_split=3, n_estimators=300, subsample=1.0; total time=   0.4s\n",
      "[CV] END learning_rate=0.01, max_depth=4, min_samples_leaf=2, min_samples_split=3, n_estimators=300, subsample=1.0; total time=   0.4s\n",
      "[CV] END learning_rate=0.01, max_depth=4, min_samples_leaf=2, min_samples_split=4, n_estimators=300, subsample=0.9; total time=   0.3s\n",
      "[CV] END learning_rate=0.01, max_depth=4, min_samples_leaf=2, min_samples_split=4, n_estimators=300, subsample=0.9; total time=   0.3s\n",
      "[CV] END learning_rate=0.01, max_depth=4, min_samples_l[CV] END learning_rate=0.01, max_depth=4, min_samples_leaf=2, min_samples_split=3, n_estimators=200, subsample=0.9; total time=   0.5s\n",
      "[CV] END learning_rate=0.01, max_depth=4, min_samples_leaf=2, min_samples_split=3, n_estimators=200, subsample=0.9; total time=   0.3s\n",
      "[CV] END learning_rate=0.01, max_depth=4, min_samples_leaf=2, min_samples_split=4, n_estimators=100, subsample=0.8; total time=   0.1s\n",
      "[CV] END learning_rate=0.01, max_depth=4, min_samples_leaf=2, min_samples_split=4, n_estimators=100, subsample=0.9; total time=   0.1s\n",
      "[CV] END learning_rate=0.01, max_depth=4, min_samples_leaf=2, min_samples_split=4, n_estimators=200, subsample=0.8; total time=   0.3s\n",
      "[CV] END learning_rate=0.01, max_depth=4, min_samples_leaf=2, min_samples_split=4, n_estimators=200, subsample=0.8; total time=   0.2s\n",
      "[CV] END learning_rate=0.01, max_depth=4, min_samples_leaf=2, min_samples_split=4, n_estimators=300, subsample=1.0; total time=   0.4s\n",
      "[CV] END learning_rate=0.01, max_depth=4, min_samples_leaf=3, min_samples_split=2, n_estimators=100, subsample=0.8; total time=   0.1s\n",
      "[CV] END learning_rate=0.01, max_depth=4, min_samples_leaf=3, min_samples_split=2, n_estimators=300, subsample=0.8; total time=   0.4s\n",
      "[CV] END learning_rate=0.01, max_depth=4, min_samples_leaf=3, min_samples_split=2, n_estimators=300, subsample=0.8; total time=   0.3s\n",
      "[CV] END learning_rate=0.01, max_depth=4, min_samples_leaf=3, min_samples_split=3, n_estimators=100, subsample=1.0; total time=   0.1s\n",
      "[CV] END learning_rate=0.01, max_depth=4, min_samples_leaf=3, min_samples_split=3, n_estimators=100, subsample=1.0; total time=   0.2s\n",
      "[CV] END learning_rate=0.01, max_depth=4, min_samples_leaf=3, min_samples_split=3, n_estimators=300, subsample=0.8; total time=   0.3s\n",
      "[CV] END learning_rate=0.01, max_depth=4, min_samples_leaf=3, min_samples_split=3, n_estimators=300, subsample=0.8; total time=   0.3s\n",
      "[CV] END learning_rate=0.01, max_depth=4, min_samples_leaf=3, min_samples_split=4, n_estimators=300, subsample=0.8; total time=   0.3s\n",
      "[CV] END learning_rate=0.01, max_depth=4, min_samples_leaf=3, min_samples_split=4, n_estimators=300, subsample=0.8; total time=   0.4s\n",
      "[CV] END learning_rate=0.01, max_depth=5, min_samples_leaf=1, min_samples_split=2, n_estimators=200, subsample=0.9; total time=   0.3s\n",
      "[CV] END learning_rate=0.01, max_depth=5, min_samples_leaf=1, min_samples_split=2, n_estimators=200, subsample=0.9; total time=   0.4s\n",
      "[CV] END learning_rate=0.01, max_depth=5, min_samples_leaf=1, min_samples_split=3, n_estimators=100, subsample=0.8; total time=   0.1s\n",
      "[CV] END learning_rate=0.01, max_depth=5, min_samples_leaf=1, min_samples_split=3, n_estimators=100, subsample=0.8; total time=   0.1s\n",
      "[CV] END learning_rate=0.01, max_depth=5, min_samples_leaf=1, min_samples_split=3, n_estimators=100, subsample=1.0; total time=   0.2s\n",
      "[CV] END learning_rate=0.01, max_depth=5, min_samples_leaf=1, min_samples_split=3, n_estimators=100, subsample=1.0; total time=   0.2s\n",
      "[CV] END learning_rate=0.01, max_depth=5, min_samples_leaf=1, min_samples_split=3, n_estimators=300, subsample=0.8; total time=   0.3s\n",
      "[CV] END learning_rate=0.01, max_depth=5, min_samples_leaf=1, min_samples_split=3, n_estimators=300, subsample=0.8; total time=   0.4s\n",
      "[CV] END learning_rate=0.01, max_depth=5, min_samples_leaf=1, min_samples_split=4, n_estimators=200, subsample=0.9; total time=   0.3s\n",
      "[CV] END learning_rate=0.01, max_depth=5, min_samples_leaf=1, min_samples_split=4, n_estimators=200, subsample=1.0; total time=   0.3s\n",
      "[CV] END learning_rate=0.01, max_depth=5, min_samples_leaf=2, min_samples_split=2, n_estimators=100, subsample=0.9; total time=   0.1s\n",
      "[CV] END learning_rate=0.01, max_depth=5, min_samples_leaf=2, min_samples_split=2, n_estimators=100, subsample=1.0; total time=   0.1s\n",
      "[CV] END learning_rate=0.01, max_depth=5, min_samples_leaf=2, min_samples_split=2, n_estimators=200, subsample=0.9; total time=   0.3s\n",
      "[CV] END learning_rate=0.01, max_depth=5, min_samples_leaf=2, min_samples_split=2, n_estimators=200, subsample=0.9; total time=   0.3s\n",
      "[CV] END learning_rate=0.01, max_depth=5, min_samples_leaf=2, min_samples_split=3, n_estimators=100, subsample=0.9; total time=   0.1s\n",
      "[CV] END learning_rate=0.01, max_depth=5, min_samples_leaf=2, min_samples_split=3, n_estimators=100, subsample=0.9; total time=   0.1s\n",
      "[CV] END learning_rate=0.01, max_depth=5, min_samples_leaf=2, min_samples_split=3, n_estimators=200, subsample=0.9; total time=   0.2s\n",
      "[CV] END learning_rate=0.01, max_depth=5, min_samples_leaf=2, min_samples_split=3, n_estimators=200, subsample=0.9; total time=   0.2s\n",
      "[CV] END learning_rate=0.01, max_depth=5, min_samples_leaf=2, min_samples_split=3, n_estimators=300, subsample=1.0; total time=   0.4s\n",
      "[CV] END learning_rate=0.01, max_depth=5, min_samples_leaf=2, min_samples_split=4, n_estimators=100, subsample=0.8; total time=   0.1s\n",
      "[CV] END learning_rate=0.01, max_depth=5, min_samples_leaf=2, min_samples_split=4, n_estimators=200, subsample=1.0; total time=   0.3s\n",
      "[CV] END learning_rate=0.01, max_depth=5, min_samples_leaf=2, min_samples_split=4, n_estimators=300, subsample=0.8; total time=   0.4s\n",
      "[CV] END learning_rate=0.01, max_depth=5, min_samples_leaf=3, min_samples_split=2, n_estimators=100, subsample=0.9; total time=   0.2s\n",
      "[CV] END learning_rate=0.01, max_depth=5, min_samples_leaf=3, min_samples_split=2, n_estimators=100, subsample=0.9; total time=   0.2s\n",
      "[CV] END learning_rate=0.01, max_depth=5, min_samples_leaf=3, min_samples_split=2, n_estimators=200, subsample=1.0; total time=   0.3s\n",
      "[CV] END learning_rate=0.01, max_depth=5, min_samples_leaf=3, min_samples_split=2, n_estimators=200, subsample=1.0; total time=   0.5s\n",
      "[CV] END learning_rate=0.01, max_depth=5, min_samples_leaf=3, min_samples_split=3, n_estimators=100, subsample=0.9; total time=   0.2s\n",
      "[CV] END learning_rate=0.01, max_depth=5, min_samples_leaf=3, min_samples_split=3, n_estimators=100, subsample=0.9; total time=   0.2s\n",
      "[CV] END learning_rate=0.01, max_depth=5, min_samples_leaf=3, min_samples_split=3, n_estimators=200, subsample=1.0; total time=   0.4s\n",
      "[CV] END learning_rate=0.01, max_depth=5, min_samples_leaf=3, min_samples_split=3, n_estimators=200, subsample=1.0; total time=   0.3s\n",
      "[CV] END learning_rate=0.01, max_depth=5, min_samples_leaf=3, min_samples_split=4, n_estimators=100, subsample=1.0; total time=   0.1s\n",
      "[CV] END learning_rate=0.01, max_depth=5, min_samples_leaf=3, min_samples_split=4, n_estimators=100, subsample=1.0; total time=   0.2s\n",
      "[CV] END learning_rate=0.01, max_depth=5, min_samples_leaf=3, min_samples_split=4, n_estimators=300, subsample=0.8; total time=   0.4s\n",
      "[CV] END learning_rate=0.01, max_depth=5, min_samples_leaf=3, min_samples_split=4, n_estimators=300, subsample=0.8; total time=   0.3s\n",
      "[CV] END learning_rate=0.1, max_depth=3, min_samples_leaf=1, min_samples_split=2, n_estimators=200, subsample=0.8; total time=   0.2s\n",
      "[CV] END learning_rate=0.1, max_depth=3, min_samples_leaf=1, min_samples_split=2, n_estimators=200, subsample=0.9; total time=   0.2s\n",
      "[CV] END learning_rate=0.1, max_depth=3, min_samples_leaf=1, min_samples_split=2, n_estimators=300, subsample=1.0; total time=   0.4s\n",
      "[CV] END learning_rate=0.1, max_depth=3, min_samples_leaf=1, min_samples_split=2, n_estimators=300, subsample=1.0; total time=   0.4s\n",
      "[CV] END learning_rate=0.1, max_depth=3, min_samples_leaf=1, min_samples_split=3, n_estimators=300, subsample=1.0; total time=   0.3s\n",
      "[CV] END learning_rate=0.1, max_depth=3, min_samples_leaf=1, min_samples_split=3, n_estimators=300, subsample=1.0; total time=   0.4s\n",
      "[CV] END learning_rate=0.1, max_depth=3, min_samples_leaf=1, min_samples_split=4, n_estimators=300, subsample=0.9; total time=   0.3s\n",
      "[CV] END learning_rate=0.1, max_depth=3, min_samples_leaf=1, min_samples_split=4, n_estimators=300, subsample=1.0; total time=   0.2s\n",
      "[CV] END learning_rate=0.1, max_depth=3, min_samples_leaf=2, min_samples_split=2, n_estimators=200, subsample=1.0; total time=   0.2s\n",
      "[CV] END learning_rate=0.1, max_depth=3, min[CV] END learning_rate=0.01, max_depth=4, min_samples_leaf=2, min_samples_split=4, n_estimators=200, subsample=1.0; total time=   0.3s\n",
      "[CV] END learning_rate=0.01, max_depth=4, min_samples_leaf=2, min_samples_split=4, n_estimators=200, subsample=1.0; total time=   0.2s\n",
      "[CV] END learning_rate=0.01, max_depth=4, min_samples_leaf=3, min_samples_split=2, n_estimators=100, subsample=0.9; total time=   0.1s\n",
      "[CV] END learning_rate=0.01, max_depth=4, min_samples_leaf=3, min_samples_split=2, n_estimators=100, subsample=1.0; total time=   0.2s\n",
      "[CV] END learning_rate=0.01, max_depth=4, min_samples_leaf=3, min_samples_split=2, n_estimators=200, subsample=0.9; total time=   0.3s\n",
      "[CV] END learning_rate=0.01, max_depth=4, min_samples_leaf=3, min_samples_split=2, n_estimators=200, subsample=0.9; total time=   0.4s\n",
      "[CV] END learning_rate=0.01, max_depth=4, min_samples_leaf=3, min_samples_split=3, n_estimators=100, subsample=0.9; total time=   0.1s\n",
      "[CV] END learning_rate=0.01, max_depth=4, min_samples_leaf=3, min_samples_split=3, n_estimators=100, subsample=0.9; total time=   0.1s\n",
      "[CV] END learning_rate=0.01, max_depth=4, min_samples_leaf=3, min_samples_split=3, n_estimators=200, subsample=0.9; total time=   0.2s\n",
      "[CV] END learning_rate=0.01, max_depth=4, min_samples_leaf=3, min_samples_split=3, n_estimators=200, subsample=0.9; total time=   0.2s\n",
      "[CV] END learning_rate=0.01, max_depth=4, min_samples_leaf=3, min_samples_split=4, n_estimators=100, subsample=0.9; total time=   0.1s\n",
      "[CV] END learning_rate=0.01, max_depth=4, min_samples_leaf=3, min_samples_split=4, n_estimators=100, subsample=0.9; total time=   0.1s\n",
      "[CV] END learning_rate=0.01, max_depth=4, min_samples_leaf=3, min_samples_split=4, n_estimators=200, subsample=0.8; total time=   0.3s\n",
      "[CV] END learning_rate=0.01, max_depth=4, min_samples_leaf=3, min_samples_split=4, n_estimators=200, subsample=0.9; total time=   0.2s\n",
      "[CV] END learning_rate=0.01, max_depth=5, min_samples_leaf=1, min_samples_split=2, n_estimators=100, subsample=0.8; total time=   0.2s\n",
      "[CV] END learning_rate=0.01, max_depth=5, min_samples_leaf=1, min_samples_split=2, n_estimators=100, subsample=0.8; total time=   0.1s\n",
      "[CV] END learning_rate=0.01, max_depth=5, min_samples_leaf=1, min_samples_split=2, n_estimators=200, subsample=0.8; total time=   0.2s\n",
      "[CV] END learning_rate=0.01, max_depth=5, min_samples_leaf=1, min_samples_split=2, n_estimators=200, subsample=0.8; total time=   0.3s\n",
      "[CV] END learning_rate=0.01, max_depth=5, min_samples_leaf=1, min_samples_split=2, n_estimators=300, subsample=1.0; total time=   0.4s\n",
      "[CV] END learning_rate=0.01, max_depth=5, min_samples_leaf=1, min_samples_split=3, n_estimators=100, subsample=0.8; total time=   0.1s\n",
      "[CV] END learning_rate=0.01, max_depth=5, min_samples_leaf=1, min_samples_split=3, n_estimators=200, subsample=1.0; total time=   0.3s\n",
      "[CV] END learning_rate=0.01, max_depth=5, min_samples_leaf=1, min_samples_split=3, n_estimators=200, subsample=1.0; total time=   0.2s\n",
      "[CV] END learning_rate=0.01, max_depth=5, min_samples_leaf=1, min_samples_split=4, n_estimators=100, subsample=0.8; total time=   0.1s\n",
      "[CV] END learning_rate=0.01, max_depth=5, min_samples_leaf=1, min_samples_split=4, n_estimators=100, subsample=0.9; total time=   0.1s\n",
      "[CV] END learning_rate=0.01, max_depth=5, min_samples_leaf=1, min_samples_split=4, n_estimators=100, subsample=1.0; total time=   0.1s\n",
      "[CV] END learning_rate=0.01, max_depth=5, min_samples_leaf=1, min_samples_split=4, n_estimators=200, subsample=0.8; total time=   0.2s\n",
      "[CV] END learning_rate=0.01, max_depth=5, min_samples_leaf=1, min_samples_split=4, n_estimators=300, subsample=0.9; total time=   0.4s\n",
      "[CV] END learning_rate=0.01, max_depth=5, min_samples_leaf=1, min_samples_split=4, n_estimators=300, subsample=0.9; total time=   0.4s\n",
      "[CV] END learning_rate=0.01, max_depth=5, min_samples_leaf=2, min_samples_split=2, n_estimators=300, subsample=0.9; total time=   0.3s\n",
      "[CV] END learning_rate=0.01, max_depth=5, min_samples_leaf=2, min_samples_split=2, n_estimators=300, subsample=0.9; total time=   0.3s\n",
      "[CV] END learning_rate=0.01, max_depth=5, min_samples_leaf=2, min_samples_split=3, n_estimators=300, subsample=0.8; total time=   0.4s\n",
      "[CV] END learning_rate=0.01, max_depth=5, min_samples_leaf=2, min_samples_split=3, n_estimators=300, subsample=0.8; total time=   0.4s\n",
      "[CV] END learning_rate=0.01, max_depth=5, min_samples_leaf=2, min_samples_split=4, n_estimators=200, subsample=0.9; total time=   0.2s\n",
      "[CV] END learning_rate=0.01, max_depth=5, min_samples_leaf=2, min_samples_split=4, n_estimators=200, subsample=0.9; total time=   0.3s\n",
      "[CV] END learning_rate=0.01, max_depth=5, min_samples_leaf=3, min_samples_split=2, n_estimators=100, subsample=0.8; total time=   0.2s\n",
      "[CV] END learning_rate=0.01, max_depth=5, min_samples_leaf=3, min_samples_split=2, n_estimators=100, subsample=0.9; total time=   0.2s\n",
      "[CV] END learning_rate=0.01, max_depth=5, min_samples_leaf=3, min_samples_split=2, n_estimators=200, subsample=0.8; total time=   0.3s\n",
      "[CV] END learning_rate=0.01, max_depth=5, min_samples_leaf=3, min_samples_split=2, n_estimators=200, subsample=0.8; total time=   0.3s\n",
      "[CV] END learning_rate=0.01, max_depth=5, min_samples_leaf=3, min_samples_split=2, n_estimators=300, subsample=1.0; total time=   0.5s\n",
      "[CV] END learning_rate=0.01, max_depth=5, min_samples_leaf=3, min_samples_split=3, n_estimators=100, subsample=0.8; total time=   0.1s\n",
      "[CV] END learning_rate=0.01, max_depth=5, min_samples_leaf=3, min_samples_split=3, n_estimators=200, subsample=0.9; total time=   0.4s\n",
      "[CV] END learning_rate=0.01, max_depth=5, min_samples_leaf=3, min_samples_split=3, n_estimators=200, subsample=0.9; total time=   0.2s\n",
      "[CV] END learning_rate=0.01, max_depth=5, min_samples_leaf=3, min_samples_split=4, n_estimators=100, subsample=0.8; total time=   0.2s\n",
      "[CV] END learning_rate=0.01, max_depth=5, min_samples_leaf=3, min_samples_split=4, n_estimators=100, subsample=0.9; total time=   0.1s\n",
      "[CV] END learning_rate=0.01, max_depth=5, min_samples_leaf=3, min_samples_split=4, n_estimators=100, subsample=1.0; total time=   0.1s\n",
      "[CV] END learning_rate=0.01, max_depth=5, min_samples_leaf=3, min_samples_split=4, n_estimators=200, subsample=0.8; total time=   0.3s\n",
      "[CV] END learning_rate=0.01, max_depth=5, min_samples_leaf=3, min_samples_split=4, n_estimators=300, subsample=0.9; total time=   0.5s\n",
      "[CV] END learning_rate=0.01, max_depth=5, min_samples_leaf=3, min_samples_split=4, n_estimators=300, subsample=0.9; total time=   0.3s\n",
      "[CV] END learning_rate=0.1, max_depth=3, min_samples_leaf=1, min_samples_split=2, n_estimators=300, subsample=0.8; total time=   0.3s\n",
      "[CV] END learning_rate=0.1, max_depth=3, min_samples_leaf=1, min_samples_split=2, n_estimators=300, subsample=0.8; total time=   0.4s\n",
      "[CV] END learning_rate=0.1, max_depth=3, min_samples_leaf=1, min_samples_split=3, n_estimators=300, subsample=0.8; total time=   0.4s\n",
      "[CV] END learning_rate=0.1, max_depth=3, min_samples_leaf=1, min_samples_split=3, n_estimators=300, subsample=0.8; total time=   0.4s\n",
      "[CV] END learning_rate=0.1, max_depth=3, min_samples_leaf=1, min_samples_split=4, n_estimators=200, subsample=1.0; total time=   0.2s\n",
      "[CV] END learning_rate=0.1, max_depth=3, min_samples_leaf=1, min_samples_split=4, n_estimators=300, subsample=0.8; total time=   0.2s\n",
      "[CV] END learning_rate=0.1, max_depth=3, min_samples_leaf=2, min_samples_split=2, n_estimators=100, subsample=1.0; total time=   0.1s\n",
      "[CV] END learning_rate=0.1, max_depth=3, min_samples_leaf=2, min_samples_split=2, n_estimators=100, subsample=1.0; total time=   0.1s\n",
      "[CV] END learning_rate=0.1, max_depth=3, min_samples_leaf=2, min_samples_split=2, n_estimators=200, subsample=0.9; total time=   0.2s\n",
      "[CV] END learning_rate=0.1, max_depth=3, min_samples_leaf=2, min_samples_split=2, n_estimators=200, subsample=1.0; total time=   0.2s\n",
      "[CV] END learning_rate=0.1, max_depth=3, min_samples_leaf=2, min_samples_split=3, n_estimators=100, subsample=0.9; total time=   0.1s\n",
      "[CV] END learning_rate=0.1, max_depth=3, min_ssamples_leaf=4, min_samples_split=10, n_estimators=300; total time=   0.5s\n",
      "[CV] END bootstrap=True, max_depth=10, min_samples_leaf=1, min_samples_split=5, n_estimators=100; total time=   0.1s\n",
      "[CV] END bootstrap=True, max_depth=10, min_samples_leaf=1, min_samples_split=5, n_estimators=300; total time=   0.4s\n",
      "[CV] END bootstrap=True, max_depth=10, min_samples_leaf=1, min_samples_split=10, n_estimators=300; total time=   0.4s\n",
      "[CV] END bootstrap=True, max_depth=10, min_samples_leaf=2, min_samples_split=5, n_estimators=100; total time=   0.2s\n",
      "[CV] END bootstrap=True, max_depth=10, min_samples_leaf=2, min_samples_split=5, n_estimators=300; total time=   0.5s\n",
      "[CV] END bootstrap=True, max_depth=10, min_samples_leaf=2, min_samples_split=10, n_estimators=300; total time=   0.4s\n",
      "[CV] END bootstrap=True, max_depth=10, min_samples_leaf=4, min_samples_split=5, n_estimators=100; total time=   0.1s\n",
      "[CV] END bootstrap=True, max_depth=10, min_samples_leaf=4, min_samples_split=5, n_estimators=300; total time=   0.4s\n",
      "[CV] END bootstrap=True, max_depth=20, min_samples_leaf=1, min_samples_split=2, n_estimators=100; total time=   0.1s\n",
      "[CV] END bootstrap=True, max_depth=20, min_samples_leaf=1, min_samples_split=2, n_estimators=200; total time=   0.3s\n",
      "[CV] END bootstrap=True, max_depth=20, min_samples_leaf=1, min_samples_split=5, n_estimators=200; total time=   0.3s\n",
      "[CV] END bootstrap=True, max_depth=20, min_samples_leaf=1, min_samples_split=10, n_estimators=100; total time=   0.1s\n",
      "[CV] END bootstrap=True, max_depth=20, min_samples_leaf=1, min_samples_split=10, n_estimators=300; total time=   0.4s\n",
      "[CV] END bootstrap=True, max_depth=20, min_samples_leaf=2, min_samples_split=2, n_estimators=300; total time=   0.5s\n",
      "[CV] END bootstrap=True, max_depth=20, min_samples_leaf=2, min_samples_split=10, n_estimators=100; total time=   0.1s\n",
      "[CV] END bootstrap=True, max_depth=20, min_samples_leaf=2, min_samples_split=10, n_estimators=300; total time=   0.5s\n",
      "[CV] END bootstrap=True, max_depth=20, min_samples_leaf=4, min_samples_split=5, n_estimators=100; total time=   0.2s\n",
      "[CV] END bootstrap=True, max_depth=20, min_samples_leaf=4, min_samples_split=5, n_estimators=300; total time=   0.4s\n",
      "[CV] END bootstrap=True, max_depth=20, min_samples_leaf=4, min_samples_split=10, n_estimators=300; total time=   0.4s\n",
      "[CV] END bootstrap=True, max_depth=30, min_samples_leaf=1, min_samples_split=5, n_estimators=100; total time=   0.1s\n",
      "[CV] END bootstrap=True, max_depth=30, min_samples_leaf=1, min_samples_split=5, n_estimators=200; total time=   0.3s\n",
      "[CV] END bootstrap=True, max_depth=30, min_samples_leaf=1, min_samples_split=10, n_estimators=200; total time=   0.2s\n",
      "[CV] END bootstrap=True, max_depth=30, min_samples_leaf=2, min_samples_split=2, n_estimators=100; total time=   0.1s\n",
      "[CV] END bootstrap=True, max_depth=30, min_samples_leaf=2, min_samples_split=2, n_estimators=300; total time=   0.5s\n",
      "[CV] END bootstrap=True, max_depth=30, min_samples_leaf=2, min_samples_split=10, n_estimators=100; total time=   0.1s\n",
      "[CV] END bootstrap=True, max_depth=30, min_samples_leaf=2, min_samples_split=10, n_estimators=200; total time=   0.3s\n",
      "[CV] END bootstrap=True, max_depth=30, min_samples_leaf=4, min_samples_split=2, n_estimators=200; total time=   0.3s\n",
      "[CV] END bootstrap=True, max_depth=30, min_samples_leaf=4, min_samples_split=5, n_estimators=100; total time=   0.1s\n",
      "[CV] END bootstrap=True, max_depth=30, min_samples_leaf=4, min_samples_split=5, n_estimators=300; total time=   0.4s\n",
      "[CV] END bootstrap=True, max_depth=30, min_samples_leaf=4, min_samples_split=10, n_estimators=300; total time=   0.4s\n",
      "[CV] END bootstrap=False, max_depth=None, min_samples_leaf=1, min_samples_split=5, n_estimators=100; total time=   0.2s\n",
      "[CV] END bootstrap=False, max_depth=None, min_samples_leaf=1, min_samples_split=5, n_estimators=200; total time=   0.4s\n",
      "[CV] END bootstrap=False, max_depth=None, min_samples_leaf=1, min_samples_split=10, n_estimators=100; total time=   0.2s\n",
      "[CV] END bootstrap=False, max_depth=None, min_samples_leaf=1, min_samples_split=10, n_estimators=300; total time=   0.5s\n",
      "[CV] END bootstrap=False, max_depth=None, min_samples_leaf=2, min_samples_split=2, n_estimators=300; total time=   0.6s\n",
      "[CV] END bootstrap=False, max_depth=None, min_samples_leaf=2, min_samples_split=10, n_estimators=100; total time=   0.2s\n",
      "[CV] END bootstrap=False, max_depth=None, min_samples_leaf=2, min_samples_split=10, n_estimators=300; total time=   0.5s\n",
      "[CV] END bootstrap=False, max_depth=None, min_samples_leaf=4, min_samples_split=5, n_estimators=100; total time=   0.2s\n",
      "[CV] END bootstrap=False, max_depth=None, min_samples_leaf=4, min_samples_split=5, n_estimators=200; total time=   0.3s\n",
      "[CV] END bootstrap=False, max_depth=None, min_samples_leaf=4, min_samples_split=10, n_estimators=200; total time=   0.3s\n",
      "[CV] END bootstrap=False, max_depth=10, min_samples_leaf=1, min_samples_split=2, n_estimators=100; total time=   0.2s\n",
      "[CV] END bootstrap=False, max_depth=10, min_samples_leaf=1, min_samples_split=2, n_estimators=300; total time=   0.8s\n",
      "[CV] END bootstrap=False, max_depth=10, min_samples_leaf=1, min_samples_split=10, n_estimators=100; total time=   0.2s\n",
      "[CV] END bootstrap=False, max_depth=10, min_samples_leaf=1, min_samples_split=10, n_estimators=200; total time=   0.4s\n",
      "[CV] END bootstrap=False, max_depth=10, min_samples_leaf=2, min_samples_split=2, n_estimators=200; total time=   0.4s\n",
      "[CV] END bootstrap=False, max_depth=10, min_samples_leaf=2, min_samples_split=5, n_estimators=100; total time=   0.1s\n",
      "[CV] END bootstrap=False, max_depth=10, min_samples_leaf=2, min_samples_split=5, n_estimators=300; total time=   0.6s\n",
      "[CV] END bootstrap=False, max_depth=10, min_samples_leaf=4, min_samples_split=2, n_estimators=100; total time=   0.2s\n",
      "[CV] END bootstrap=False, max_depth=10, min_samples_leaf=4, min_samples_split=2, n_estimators=200; total time=   0.4s\n",
      "[CV] END bootstrap=False, max_depth=10, min_samples_leaf=4, min_samples_split=5, n_estimators=200; total time=   0.4s\n",
      "[CV] END bootstrap=False, max_depth=10, min_samples_leaf=4, min_samples_split=10, n_estimators=100; total time=   0.2s\n",
      "[CV] END bootstrap=False, max_depth=10, min_samples_leaf=4, min_samples_split=10, n_estimators=300; total time=   0.6s\n",
      "[CV] END bootstrap=False, max_depth=20, min_samples_leaf=1, min_samples_split=5, n_estimators=100; total time=   0.2s\n",
      "[CV] END bootstrap=False, max_depth=20, min_samples_leaf=1, min_samples_split=5, n_estimators=300; total time=   0.6s\n",
      "[CV] END bootstrap=False, max_depth=20, min_samples_leaf=1, min_samples_split=10, n_estimators=300; total time=   0.6s\n",
      "[CV] END bootstrap=False, max_depth=20, min_samples_leaf=2, min_samples_split=5, n_estimators=100; total time=   0.2s\n",
      "[CV] END bootstrap=False, max_depth=20, min_samples_leaf=2, min_samples_split=5, n_estimators=300; total time=   0.6s\n",
      "[CV] END bootstrap=False, max_depth=20, min_samples_leaf=2, min_samples_split=10, n_estimators=300; total time=   0.6s\n",
      "[CV] END bootstrap=False, max_depth=20, min_samples_leaf=4, min_samples_split=5, n_estimators=100; total time=   0.2s\n",
      "[CV] END bootstrap=False, max_depth=20, min_samples_leaf=4, min_samples_split=5, n_estimators=300; total time=   0.5s\n",
      "[CV] END bootstrap=False, max_depth=20, min_samples_leaf=4, min_samples_split=10, n_estimators=300; total time=   0.6s\n",
      "[CV] END bootstrap=False, max_depth=30, min_samples_leaf=1, min_samples_split=2, n_estimators=300; total time=   1.1s\n",
      "[CV] END bootstrap=False, max_depth=30, min_samples_leaf=1, min_samples_split=10, n_estimators=200; total time=   0.7s\n",
      "[CV] END bootstrap=False, max_depth=30, min_samples_leaf=2, min_samples_split=2, n_estimators=200; total time=   0.4s\n",
      "[CV] END bootstrap=False, max_depth=30, min_samples_leaf=2, min_samples_split=5, n_estimators=200; total time=   0.3s\n",
      "[CV] END bootstrap=False, max_depth=30, min_samples_leaf=2, min_samples_split=10, n_estimators=100; total time=   0.2s\n",
      "[CV] END bootstrap=False, max_depth=30, min_samples_leaf=2, min_samples_split=10, n_estimators=300; total time=   1.0s\n",
      "[CV] END bootstrap=False, max_depth=30, min_samples_leaf=4, min_samples_split=2, n_estimators=300; total time=   0.7s\n",
      "[CV] END bootstrap=False, max_depth=30, min_samples_leaf=4, min_samples_split=10, n_estimators=100; total time=   0.3s\n",
      "[CV] END bootstrap=False, max_depth=30, min_samples_leaf=4, min_samples_split=10, n_estimators=200; total time=   0.5s\n",
      "[CV] END learning_rate=0.01, max_depth=3, min_samples_leaf=1, min_samples_split=2, n_estimators=200, subsample=0.8; total time=   0.2s\n",
      "[CV] END learning_rate=0.01, max_depth=3, min_samples_leaf=1, min_samples_split=2, n_estimators=300, subsample=1.0; total time=   0.4s\n",
      "[CV] END learning_rate=0.01, max_depth=3, min_samples_leaf=1, min_samples_split=2, n_estimators=300, subsample=1.0; total time=   0.4s\n",
      "[CV] END learning_rate=0.01, max_depth=3, min_samples_leaf=1, min_samples_split=3, n_estimators=300, subsample=1.0; total time=   0.3s\n",
      "[CV] END learning_rate=0.01, max_depth=3, min_samples_leaf=1, min_samples_split=3, n_estimators=300, subsample=1.0; total time=   0.5s\n",
      "[CV] END learning_rate=0.01, max_depth=3, min_samples_leaf=1, min_samples_split=4, n_estimators=300, subsample=0.9; total time=   0.3s\n",
      "[CV] END learning_rate=0.01, max_depth=3, min_samples_leaf=1, min_samples_split=4, n_estimators=300, subsample=0.9; total time=   0.2s\n",
      "[CV] END learning_rate=0.01, max_depth=3, min_samples_leaf=2, min_samples_split=2, n_estimators=300, subsample=0.8; total time=   0.4s\n",
      "[CV] END learning_rate=0.01, max_depth=3, min_samples_leaf=2, min_samples_split=2, n_estimators=300, subsample=0.8; total time=   0.4s\n",
      "[CV] END learning_rate=0.01, max_depth=3, min_samples_leaf=2, min_samples_split=3, n_estimators=200, subsample=0.9; total time=   0.3s\n",
      "[CV] END learning_rate=0.01, max_depth=3, min_samples_leaf=2, min_samples_split=3, n_estimators=200, subsample=1.0; total time=   0.3s\n",
      "[CV] END learning_rate=0.01, max_depth=3, min_samples_leaf=2, min_samples_split=4, n_estimators=100, subsample=0.9; total time=   0.1s\n",
      "[CV] END learning_rate=0.01e=   0.3s\n",
      "[CV] END learning_rate=0.01, max_depth=3, min_samples_leaf=3, min_samples_split=3, n_estimators=100, subsample=0.8; total time=   0.1s\n",
      "[CV] END learning_rate=0.01, max_depth=3, min_samples_leaf=3, min_samples_split=3, n_estimators=100, subsample=0.8; total time=   0.1s\n",
      "[CV] END learning_rate=0.01, max_depth=3, min_samples_leaf=3, min_samples_split=3, n_estimators=100, subsample=1.0; total time=   0.1s\n",
      "[CV] END learning_rate=0.01, max_depth=3, min_samples_leaf=3, min_samples_split=3, n_estimators=100, subsample=1.0; total time=   0.1s\n",
      "[CV] END learning_rate=0.01, max_depth=3, min_samples_leaf=3, min_samples_split=3, n_estimators=300, subsample=0.9; total time=   0.3s\n",
      "[CV] END learning_rate=0.01, max_depth=3, min_samples_leaf=3, min_samples_split=3, n_estimators=300, subsample=0.9; total time=   0.3s\n",
      "[CV] END learning_rate=0.01, max_depth=3, min_samples_leaf=3, min_samples_split=4, n_estimators=300, subsample=0.8; total time=   0.2s\n",
      "[CV] END learning_rate=0.01, max_depth=3, min_samples_leaf=3, min_samples_split=4, n_estimators=300, subsample=0.8; total time=   0.2s\n",
      "[CV] END learning_rate=0.01, max_depth=4, min_samples_leaf=1, min_samples_split=2, n_estimators=200, subsample=0.8; total time=   0.2s\n",
      "[CV] END learning_rate=0.01, max_depth=4, min_samples_leaf=1, min_samples_split=2, n_estimators=200, subsample=0.9; total time=   0.2s\n",
      "[CV] END learning_rate=0.01, max_depth=4, min_samples_leaf=1, min_samples_split=3, n_estimators=100, subsample=0.8; total time=   0.1s\n",
      "[CV] END learning_rate=0.01, max_depth=4, min_samples_leaf=1, min_samples_split=3, n_estimators=100, subsample=0.8; total time=   0.1s\n",
      "[CV] END learning_rate=0.01, max_depth=4, min_samples_leaf=1, min_samples_split=3, n_estimators=100, subsample=1.0; total time=   0.1s\n",
      "[CV] END learning_rate=0.01, max_depth=4, min_samples_leaf=1, min_samples_split=3, n_estimators=100, subsample=1.0; total time=   0.1s\n",
      "[CV] END learning_rate=0.01, max_depth=4, min_samples_leaf=1, min_samples_split=3, n_estimators=300, subsample=0.8; total time=   0.3s\n",
      "[CV] END learning_rate=0.01, max_depth=4, min_samples_leaf=1, min_samples_split=3, n_estimators=300, subsample=0.8; total time=   0.3s\n",
      "[CV] END learning_rate=0.01, max_depth=4, min_samples_leaf=1, min_samples_split=4, n_estimators=200, subsample=0.9; total time=   0.2s\n",
      "[CV] END learning_rate=0.01, max_depth=4, min_samples_leaf=1, min_samples_split=4, n_estimators=200, subsample=0.9; total time=   0.3s\n",
      "[CV] END learning_rate=0.01, max_depth=4, min_samples_leaf=2, min_samples_split=2, n_estimators=100, subsample=0.8; total time=   0.1s\n",
      "[CV] END learning_rate=0.01, max_depth=4, min_samples_leaf=2, min_samples_split=2, n_estimators=100, subsample=0.8; total time=   0.1s\n",
      "[CV] END learning_rate=0.01, max_depth=4, min_samples_leaf=2, min_samples_split=2, n_estimators=100, subsample=1.0; total time=   0.1s\n",
      "[CV] END learning_rate=0.01, max_depth=4, min_samples_leaf=2, min_samples_split=2, n_estimators=200, subsample=0.8; total time=   0.3s\n",
      "[CV] END learning_rate=0.01, max_depth=4, min_samples_leaf=2, min_samples_split=2, n_estimators=300, subsample=1.0; total time=   0.4s\n",
      "[CV] END learning_rate=0.01, max_depth=4, min_samples_leaf=2, min_samples_split=2, n_estimators=300, subsample=1.0; total time=   0.3s\n",
      "[CV] END learning_rate=0.01, max_depth=4, min_samples_leaf=2, min_samples_split=3, n_estimators=300, subsample=0.8; total time=   0.6s\n",
      "[CV] END learning_rate=0.01, max_depth=4, min_samples_leaf=2, min_samples_split=3, n_estimators=300, subsample=0.8; total time=   0.4s\n",
      "[CV] END learning_rate=0.01, max_depth=4, min_samples_leaf=2, min_samples_split=4, n_estimators=300, subsample=0.8; total time=   0.3s\n",
      "[CV] END learning_rate=0.01, max_depth=4, min_samples_leaf=2, min_samples_split=4, n_estimators=300, subsample=0.8; total time=   0.4s\n",
      "[CV] END learning_rate=0.01, max_depth=4, min_samples_leaf=3, min_samples_split=2, n_estimators=200, subsample=1.0; total time=   0.3s\n",
      "[CV] END learning_rate=0.01, max_depth=4, min_samples_leaf=3, min_samples_split=2, n_estimators=300, subsample=0.8; total time=   0.5s\n",
      "[CV] END learning_rate=0.01, max_depth=4, min_samples_leaf=2, min_samples_split=4, n_estimators=300, subsample=0.8; total time=   0.3s\n",
      "[CV] END learning_rate=0.01, max_depth=4, min_samples_leaf=2, min_samples_split=4, n_estimators=300, subsample=0.9; total time=   0.5s\n",
      "[CV] END learning_rate=0.01, max_depth=4, min_samples_leaf=3, min_samples_split=2, n_estimators=200, subsample=1.0; total time=   0.2s\n",
      "[CV] END learning_rate=0.01, max_depth=4, min_samples_leaf=3, min_samples_split=2, n_estimators=200, subsample=1.0; total time=   0.3s\n",
      "[CV] END learning_rate=0.01, max_depth=4, min_samples_leaf=3, min_samples_split=3, n_estimators=100, subsample=0.8; total time=   0.2s\n",
      "[CV] END learning_rate=0.01, max_depth=4, min_samples_leaf=3, min_samples_split=3, n_estimators=100, subsample=0.9; total time=   0.2s\n",
      "[CV] END learning_rate=0.01, max_depth=4, min_samples_leaf=3, min_samples_split=3, n_estimators=200, subsample=0.9; total time=   0.3s\n",
      "[CV] END learning_rate=0.01, max_depth=4, min_samples_leaf=3, min_samples_split=3, n_estimators=200, subsample=1.0; total time=   0.2s\n",
      "[CV] END learning_rate=0.01, max_depth=4, min_samples_leaf=3, min_samples_split=4, n_estimators=100, subsample=0.8; total time=   0.1s\n",
      "[CV] END learning_rate=0.01, max_depth=4, min_samples_leaf=3, min_samples_split=4, n_estimators=100, subsample=0.8; total time=   0.1s\n",
      "[CV] END learning_rate=0.01, max_depth=4, min_samples_leaf=3, min_samples_split=4, n_estimators=100, subsample=1.0; total time=   0.1s\n",
      "[CV] END learning_rate=0.01, max_depth=4, min_samples_leaf=3, min_samples_split=4, n_estimators=100, subsample=1.0; total time=   0.1s\n",
      "[CV] END learning_rate=0.01, max_depth=4, min_samples_leaf=3, min_samples_split=4, n_estimators=300, subsample=0.9; total time=   0.4s\n",
      "[CV] END learning_rate=0.01, max_depth=4, min_samples_leaf=3, min_samples_split=4, n_estimators=300, subsample=1.0; total time=   0.4s\n",
      "[CV] END learning_rate=0.01, max_depth=5, min_samples_leaf=1, min_samples_split=2, n_estimators=300, subsample=0.8; total time=   0.5s\n",
      "[CV] END learning_rate=0.01, max_depth=5, min_samples_leaf=1, min_samples_split=2, n_estimators=300, subsample=0.9; total time=   0.5s\n",
      "[CV] END learning_rate=0.01, max_depth=5, min_samples_leaf=1, min_samples_split=3, n_estimators=200, subsample=1.0; total time=   0.3s\n",
      "[CV] END learning_rate=0.01, max_depth=5, min_samples_leaf=1, min_samples_split=3, n_estimators=300, subsample=0.8; total time=   0.4s\n",
      "[CV] END learning_rate=0.01, max_depth=5, min_samples_leaf=1, min_samples_split=4, n_estimators=200, subsample=0.9; total time=   0.3s\n",
      "[CV] END learning_rate=0.01, max_depth=5, min_samples_leaf=1, min_samples_split=4, n_estimators=200, subsample=0.9; total time=   0.2s\n",
      "[CV] END learning_rate=0.01, max_depth=5, min_samples_leaf=2, min_samples_split=2, n_estimators=100, subsample=0.8; total time=   0.1s\n",
      "[CV] END learning_rate=0.01, max_depth=5, min_samples_leaf=2, min_samples_split=2, n_estimators=100, subsample=0.8; total time=   0.1s\n",
      "[CV] END learning_rate=0.01, max_depth=5, min_samples_leaf=2, min_samples_split=2, n_estimators=100, subsample=1.0; total time=   0.2s\n",
      "[CV] END learning_rate=0.01, max_depth=5, min_samples_leaf=2, min_samples_split=2, n_estimators=100, subsample=1.0; total time=   0.1s\n",
      "[CV] END learning_rate=0.01, max_depth=5, min_samples_leaf=2, min_samples_split=2, n_estimators=300, subsample=0.8; total time=   0.3s\n",
      "[CV] END learning_rate=0.01, max_depth=5, min_samples_leaf=2, min_samples_split=2, n_estimators=300, subsample=0.8; total time=   0.3s\n",
      "[CV] END learning_rate=0.01, max_depth=5, min_samples_leaf=2, min_samples_split=3, n_estimators=200, subsample=0.9; total time=   0.2s\n",
      "[CV] END learning_rate=0.01, max_depth=5, min_samples_leaf=2, min_samples_split=3, n_estimators=200, subsample=1.0; total time=   0.3s\n",
      "[CV] END learning_rate=0.01, max_depth=5, min_samples_leaf=2, min_samples_split=4, n_estimators=100, subsample=0.9; total time=   0.1s\n",
      "[CV] END learning_rate=0.amples_leaf=2, min_samples_split=3, n_estimators=100, subsample=1.0; total time=   0.1s\n",
      "[CV] END learning_rate=0.1, max_depth=3, min_samples_leaf=2, min_samples_split=3, n_estimators=200, subsample=1.0; total time=   0.1s\n",
      "[CV] END learning_rate=0.1, max_depth=3, min_samples_leaf=2, min_samples_split=3, n_estimators=200, subsample=1.0; total time=   0.2s\n",
      "[CV] END learning_rate=0.1, max_depth=3, min_samples_leaf=2, min_samples_split=4, n_estimators=100, subsample=0.9; total time=   0.1s\n",
      "[CV] END learning_rate=0.1, max_depth=3, min_samples_leaf=2, min_samples_split=4, n_estimators=100, subsample=0.9; total time=   0.1s\n",
      "[CV] END learning_rate=0.1, max_depth=3, min_samples_leaf=2, min_samples_split=4, n_estimators=200, subsample=0.9; total time=   0.2s\n",
      "[CV] END learning_rate=0.1, max_depth=3, min_samples_leaf=2, min_samples_split=4, n_estimators=200, subsample=0.9; total time=   0.2s\n",
      "[CV] END learning_rate=0.1, max_depth=3, min_samples_leaf=3, min_samples_split=2, n_estimators=100, subsampl_samples_leaf=2, min_samples_split=2, n_estimators=200, subsample=1.0; total time=   0.2s\n",
      "[CV] END learning_rate=0.1, max_depth=3, min_samples_leaf=2, min_samples_split=3, n_estimators=100, subsample=0.9; total time=   0.1s\n",
      "[CV] END learning_rate=0.1, max_depth=3, min_samples_leaf=2, min_samples_split=3, n_estimators=100, subsample=0.9; total time=   0.1s\n",
      "[CV] END learning_rate=0.1, max_depth=3, min_samples_leaf=2, min_samples_split=3, n_estimators=200, subsample=0.9; total time=   0.2s\n",
      "[CV] END learning_rate=0.1, max_depth=3, min_samples_leaf=2, min_samples_split=3, n_estimators=200, subsample=0.9; total time=   0.1s\n",
      "[CV] END learning_rate=0.1, max_depth=3, min_samples_leaf=2, min_samples_split=4, n_estimators=100, subsample=0.8; total time=   0.1s\n",
      "[CV] END learning_rate=0.1, max_depth=3, min_samples_leaf=2, min_samples_split=4, n_estimators=100, subsample=0.9; total time=   0.1s\n",
      "[CV] END learning_rate=0.1, max_depth=3, min_samples_leaf=2, min_samples_split=4, n_estimators=200, subsameaf=3, min_samples_split=2, n_estimators=200, subsample=0.8; total time=   0.2s\n",
      "[CV] END learning_rate=0.01, max_depth=4, min_samples_leaf=3, min_samples_split=2, n_estimators=200, subsample=0.9; total time=   0.3s\n",
      "[CV] END learning_rate=0.01, max_depth=4, min_samples_leaf=3, min_samples_split=3, n_estimators=100, subsample=0.8; total time=   0.1s\n",
      "[CV] END learning_rate=0.01, max_depth=4, min_samples_leaf=3, min_samples_split=3, n_estimators=100, subsample=0.8; total time=   0.2s\n",
      "[CV] END learning_rate=0.01, max_depth=4, min_samples_leaf=3, min_samples_split=3, n_estimators=100, subsample=1.0; total time=   0.2s\n",
      "[CV] END learning_rate=0.01, max_depth=4, min_samples_leaf=3, min_samples_split=3, n_estimators=200, subsample=0.8; total time=   0.2s\n",
      "[CV] END learning_rate=0.01, max_depth=4, min_samples_leaf=3, min_samples_split=3, n_estimators=300, subsample=0.9; total time=   0.3s\n",
      "[CV] END learning_rate=0.01, max_depth=4, min_samples_leaf=3, min_samples_split=3, n_estimators=300, subsample=0.9; total time=   0.2s\n",
      "[CV] END learning_rate=0.01, max_depth=4, min_samples_leaf=3, min_samples_split=4, n_estimators=200, subsample=1.0; total time=   0.2s\n",
      "[CV] END learning_rate=0.01, max_depth=4, min_samples_leaf=3, min_samples_split=4, n_estimators=200, subsample=1.0; total time=   0.3s\n",
      "[CV] END learning_rate=0.01, max_depth=5, min_samples_leaf=1, min_samples_split=2, n_estimators=100, subsample=0.9; total time=   0.1s\n",
      "[CV] END learning_rate=0.01, max_depth=5, min_samples_leaf=1, min_samples_split=2, n_estimators=100, subsample=0.9; total time=   0.2s\n",
      "[CV] END learning_rate=0.01, max_depth=5, min_samples_leaf=1, min_samples_split=2, n_estimators=200, subsample=0.9; total time=   0.3s\n",
      "[CV] END learning_rate=0.01, max_depth=5, min_samples_leaf=1, min_samples_split=2, n_estimators=200, subsample=1.0; total time=   0.4s\n",
      "[CV] END learning_rate=0.01, max_depth=5, min_samples_leaf=1, min_samples_split=3, n_estimators=100, subsample=0.9; total time=   0.1s\n",
      "[CV] END learning_rate=0.01, max_depth=5, min_samples_leaf=1, min_samples_split=3, n_estimators=100, subsample=0.9; total time=   0.2s\n",
      "[CV] END learning_rate=0.01, max_depth=5, min_samples_leaf=1, min_samples_split=3, n_estimators=200, subsample=0.9; total time=   0.4s\n",
      "[CV] END learning_rate=0.01, max_depth=5, min_samples_leaf=1, min_samples_split=3, n_estimators=200, subsample=0.9; total time=   0.3s\n",
      "[CV] END learning_rate=0.01, max_depth=5, min_samples_leaf=1, min_samples_split=4, n_estimators=100, subsample=0.9; total time=   0.1s\n",
      "[CV] END learning_rate=0.01, max_depth=5, min_samples_leaf=1, min_samples_split=4, n_estimators=100, subsample=0.9; total time=   0.2s\n",
      "[CV] END learning_rate=0.01, max_depth=5, min_samples_leaf=1, min_samples_split=4, n_estimators=200, subsample=0.8; total time=   0.2s\n",
      "[CV] END learning_rate=0.01, max_depth=5, min_samples_leaf=1, min_samples_split=4, n_estimators=200, subsample=0.8; total time=   0.2s\n",
      "[CV] END learning_rate=0.01, max_depth=5, min_samples_leaf=1, min_samples_split=4, n_estimators=300, subsample=1.0; total time=   0.4s\n",
      "[CV] END learning_rate=0.01, max_depth=5, min_samples_leaf=2, min_samples_split=2, n_estimators=100, subsample=0.8; total time=   0.1s\n",
      "[CV] END learning_rate=0.01, max_depth=5, min_samples_leaf=2, min_samples_split=2, n_estimators=200, subsample=1.0; total time=   0.3s\n",
      "[CV] END learning_rate=0.01, max_depth=5, min_samples_leaf=2, min_samples_split=2, n_estimators=200, subsample=1.0; total time=   0.2s\n",
      "[CV] END learning_rate=0.01, max_depth=5, min_samples_leaf=2, min_samples_split=3, n_estimators=100, subsample=0.8; total time=   0.1s\n",
      "[CV] END learning_rate=0.01, max_depth=5, min_samples_leaf=2, min_samples_split=3, n_estimators=100, subsample=0.9; total time=   0.1s\n",
      "[CV] END learning_rate=0.01, max_depth=5, min_samples_leaf=2, min_samples_split=3, n_estimators=200, subsample=0.8; total time=   0.2s\n",
      "[CV] END learning_rate=0.01, max_depth=5, min_samples_leaf=2, min_samples_split=3, n_estimators=200, subsample=0.8; total time=   0.3s\n",
      "[CV] END learning_rate=0.01, max_depth=5, min_samples_leaf=2, min_samples_split=4, n_estimators=100, subsample=0.8; total time=   0.1s\n",
      "[CV] END learning_rate=0.01, max_depth=5, min_samples_leaf=2, min_samples_split=4, n_estimators=100, subsample=0.8; total time=   0.2s\n",
      "[CV] END learning_rate=0.01, max_depth=5, min_samples_leaf=2, min_samples_split=4, n_estimators=100, subsample=1.0; total time=   0.1s\n",
      "[CV] END learning_rate=0.01, max_depth=5, min_samples_leaf=2, min_samples_split=4, n_estimators=100, subsample=1.0; total time=   0.1s\n",
      "[CV] END learning_rate=0.01, max_depth=5, min_samples_leaf=2, min_samples_split=4, n_estimators=300, subsample=0.9; total time=   0.5s\n",
      "[CV] END learning_rate=0.01, max_depth=5, min_samples_leaf=2, min_samples_split=4, n_estimators=300, subsample=0.9; total time=   0.5s\n",
      "[CV] END learning_rate=0.01, max_depth=5, min_samples_leaf=3, min_samples_split=2, n_estimators=300, subsample=0.8; total time=   0.5s\n",
      "[CV] END learning_rate=0.01, max_depth=5, min_samples_leaf=3, min_samples_split=2, n_estimators=300, subsample=0.8; total time=   0.4s\n",
      "[CV] END learning_rate=0.01, max_depth=5, min_samples_leaf=3, min_samples_split=3, n_estimators=200, subsample=0.8; total time=   0.4s\n",
      "[CV] END learning_rate=0.01, max_depth=5, min_samples_leaf=3, min_samples_split=3, n_estimators=200, subsample=0.9; total time=   0.3s\n",
      "[CV] END learning_rate=0.01, max_depth=5, min_samples_leaf=3, min_samples_split=4, n_estimators=100, subsample=0.8; total time=   0.2s\n",
      "[CV] END learning_rate=0.01, max_depth=5, min_samples_leaf=3, min_samples_split=4, n_estimators=100, subsample=0.8; total time=   0.2s\n",
      "[CV] END learning_rate=0.01, max_depth=5, min_samples_leaf=3, min_samples_split=4, n_estimators=100, subsample=0.9; total time=   0.1s\n",
      "[CV] END learning_rate=0.01, max_depth=5, min_samples_leaf=3, min_samples_split=4, n_estimators=100, subsample=0.9; total time=   0.1s\n",
      "[CV] END learning_rate=0.01, max_depth=5, min_samples_leaf=3, min_samples_split=4, n_estimators=200, subsample=0.9; total time=   0.3s\n",
      "[CV] END learning_rate=0.01, max_depth=5, min_samples_leaf=3, min_samples_split=4, n_estimators=200, subsample=0.9; total time=   0.3s\n",
      "[CV] END learning_rate=0.1, max_depth=3, min_samples_leaf=1, min_samples_split=2, n_estimators=100, subsample=0.9; total time=   0.1s\n",
      "[CV] END learning_rate=0.1, max_depth=3, min_samples_leaf=1, min_samples_split=2, n_estimators=100, subsample=1.0; total time=   0.1s\n",
      "[CV] END learning_rate=0.1, max_depth=3, min_samples_leaf=1, min_samples_split=2, n_estimators=200, subsample=0.9; total time=   0.2s\n",
      "[CV] END learning_rate=0.1, max_depth=3, min_samples_leaf=1, min_samples_split=2, n_estimators=200, subsample=0.9; total time=   0.2s\n",
      "[CV] END learning_rate=0.1, max_depth=3, min_samples_leaf=1, min_samples_split=3, n_estimators=100, subsample=0.8; total time=   0.1s\n",
      "[CV] END learning_rate=0.1, max_depth=3, min_samples_leaf=1, min_samples_split=3, n_estimators=100, subsample=0.9; total time=   0.1s\n",
      "[CV] END learning_rate=0.1, max_depth=3, min_samples_leaf=1, min_samples_split=3, n_estimators=100, subsample=1.0; total time=   0.1s\n",
      "[CV] END learning_rate=0.1, max_depth=3, min_samples_leaf=1, min_samples_split=3, n_estimators=200, subsample=0.8; total time=   0.2s\n",
      "[CV] END learning_rate=0.1, max_depth=3, min_samples_leaf=1, min_samples_split=3, n_estimators=300, subsample=0.8; total time=   0.3s\n",
      "[CV] END learning_rate=0.1, max_depth=3, min_samples_leaf=1, min_samples_split=3, n_estimators=300, subsample=0.9; total time=   0.4s\n",
      "[CV] END learning_rate=0.1, max_depth=3, min_samples_leaf=1, min_samples_split=4, n_estimators=200, subsample=0.8; total time=   0.1s\n",
      "[CV] END learning_rate=0.1, max_depth=3, min_samples_leaf=1, min_samples_split=4, n_estimators=200, subsample=0.8; total time=   0.3s\n",
      "[CV] END learning_rate=0.1, max_depth=3, min_samples_leaf=1, min_samples_split=4, n_estimators=300, subsample=1.0; total time=   0.2s\n",
      "[CV] END learning_rate=0.1, max_depth=3, min_samples_leaf=1, min_samples_split=4, n_estimators=300, subsample=1.0; total time=   0.3s\n",
      "[CV] END learning_rate=0.1, max_depth=3, min_samples_leaf=2, min_samples_split=2, n_estimators=300, subsample=1.0; total time=   0.2s\n",
      "[CV] END learning_rate=0.1, max_depth=3, min_samples_leaf=2, min_samples_split=2, n_estimators=300, subsample=1.0; total time=   0.2s\n",
      "[CV] END learning_rate=0.1, max_depth=3, min_samples_leaf=2, min_samples_split=3, n_estimators=300, subsample=0.9; total time=   0.3s\n",
      "[CV] END learning_rate=0.1, max_depth=3, min_samples_leaf=2, min_samples_split=3, n_estimators=300, subsample=1.0; total time=   0.3s\n",
      "[CV] END learning_rate=0.1, max_depth=3, min_samples_leaf=2, min_samples_split=4, n_estimators=300, subsample=0.8; total time=   0.3s\n",
      "[CV] END learning_rate=0.1, max_depth=3, min_samples_leaf=2, min_samples_split=4, n_estimators=300, subsample=0.8; total time=   0.5s\n",
      "[CV] END learning_rate=0.1, max_depth=3, min_samples_leaf=3, min_samples_split=2, n_estimators=200, subsample=1.0; total time=   0.3s\n",
      "[CV] END learning_rate=0.1, maxple=0.8; total time=   0.1s\n",
      "[CV] END learning_rate=0.1, max_depth=3, min_samples_leaf=2, min_samples_split=4, n_estimators=200, subsample=0.8; total time=   0.2s\n",
      "[CV] END learning_rate=0.1, max_depth=3, min_samples_leaf=2, min_samples_split=4, n_estimators=300, subsample=1.0; total time=   0.4s\n",
      "[CV] END learning_rate=0.1, max_depth=3, min_samples_leaf=3, min_samples_split=2, n_estimators=100, subsample=0.8; total time=   0.1s\n",
      "[CV] END learning_rate=0.1, max_depth=3, min_samples_leaf=3, min_samples_split=2, n_estimators=200, subsample=0.8; total time=   0.3s\n",
      "[CV] END learning_rate=0.1, max_depth=3, min_samples_leaf=3, min_samples_split=2, n_estimators=200, subsample=0.8; total time=   0.1s\n",
      "[CV] END learning_rate=0.1, max_depth=3, min_samples_leaf=3, min_samples_split=3, n_estimators=100, subsample=0.8; total time=   0.1s\n",
      "[CV] END learning_rate=0.1, max_depth=3, min_samples_leaf=3, min_samples_split=3, n_estimators=100, subsample=0.9; total time=   0.1s\n",
      "[CV] END learning_rate=0.1, max_depth=3, min_samples_leaf=3, min_samples_split=3, n_estimators=100, subsample=1.0; total time=   0.1s\n",
      "[CV] END learning_rate=0.1, max_depth=3, min_samples_leaf=3, min_samples_split=3, n_estimators=100, subsample=1.0; total time=   0.1s\n",
      "[CV] END learning_rate=0.1, max_depth=3, min_samples_leaf=3, min_samples_split=3, n_estimators=200, subsample=1.0; total time=   0.1s\n",
      "[CV] END learning_rate=0.1, max_depth=3, min_samples_leaf=3, min_samples_split=3, n_estimators=200, subsample=1.0; total time=   0.2s\n",
      "[CV] END learning_rate=0.1, max_depth=3, min_samples_leaf=3, min_samples_split=3, n_estimators=300, subsample=1.0; total time=   0.3s\n",
      "[CV] END learning_rate=0.1, max_depth=3, min_samples_leaf=3, min_samples_split=3, n_estimators=300, subsample=1.0; total time=   0.2s\n",
      "[CV] END learning_rate=0.1, max_depth=3, min_samples_leaf=3, min_samples_split=4, n_estimators=100, subsample=0.9; total time=   0.1s\n",
      "[CV] END learning_rate=0.1, max_depth=3, min_samples_leaf=3, min_samples_split=4, n_estimators=100, subsample=1.0; total time=   0.1s\n",
      "[CV] END learning_rate=0.1, max_depth=3, min_samples_leaf=3, min_samples_split=4, n_estimators=200, subsample=0.9; total time=   0.1s\n",
      "[CV] END learning_rate=0.1, max_depth=3, min_samples_leaf=3, min_samples_split=4, n_estimators=200, subsample=0.9; total time=   0.1s\n",
      "[CV] END learning_rate=0.1, max_depth=3, min_samples_leaf=3, min_samples_split=4, n_estimators=300, subsample=0.9; total time=   0.2s\n",
      "[CV] END learning_rate=0.1, max_depth=3, min_samples_leaf=3, min_samples_split=4, n_estimators=300, subsample=0.9; total time=   0.2s\n",
      "[CV] END learning_rate=0.1, max_depth=4, min_samples_leaf=1, min_samples_split=2, n_estimators=100, subsample=0.8; total time=   0.1s\n",
      "[CV] END learning_rate=0.1, max_depth=4, min_samples_leaf=1, min_samples_split=2, n_estimators=100, subsample=0.9; total time=   0.1s\n",
      "[CV] END learning_rate=0.1, max_depth=4, min_samples_leaf=1, min_samples_split=2, n_estimators=100, subsample=1.0; total time=   0.1s\n",
      "[CV] END learning_rate=0.1, max_depth=4, min_samples_leaf=1, min_samples_split=2, n_estimators=200, subsample=0.8; total time=   0.2s\n",
      "[CV] END learning_rate=0.1, max_depth=4, min_samples_leaf=1, min_samples_split=2, n_estimators=200, subsample=1.0; total time=   0.2s\n",
      "[CV] END learning_rate=0.1, max_depth=4, min_samples_leaf=1, min_samples_split=2, n_estimators=200, subsample=1.0; total time=   0.2s\n",
      "[CV] END learning_rate=0.1, max_depth=4, min_samples_leaf=1, min_samples_split=2, n_estimators=300, subsample=1.0; total time=   0.3s\n",
      "[CV] END learning_rate=0.1, max_depth=4, min_samples_leaf=1, min_samples_split=2, n_estimators=300, subsample=1.0; total time=   0.3s\n",
      "[CV] END learning_rate=0.1, max_depth=4, min_samples_leaf=1, min_samples_split=3, n_estimators=200, subsample=0.8; total time=   0.2s\n",
      "[CV] END learning_rate=0.1, max_depth=4, min_samples_leaf=1, min_samples_split=3, n_estimators=200, subsample=0.8; total time=   0.2s\n",
      "[CV] END learning_rate=0.1, max_depth=4, min_samples_leaf=1, min_samples_split=3, n_estimators=300, subsample=0.8; total time=   0.2s\n",
      "[CV] END learning_rate=0.1, max_depth=4, min_samples_leaf=1, min_samples_split=3, n_estimators=300, subsample=0.8; total time=   0.3s\n",
      "[CV] END learning_rate=0.1, max_depth=4, min_samples_leaf=1, min_samples_split=4, n_estimators=100, subsample=0.8; total time=   0.1s\n",
      "[CV] END learning_rate=0.1, max_depth=4, min_samples_leaf=1, min_samples_split=4, n_estimators=100, subsample=0.8; total time=   0.1s\n",
      "[CV] END learning_rate=0.1, max_depth=4, min_samples_leaf=1, min_samples_split=4, n_estimators=100, subsample=1.0; total time=   0.1s\n",
      "[CV] END learning_rate=0.1, max_depth=4, min_samples_leaf=1, min_samples_split=4, n_estimators=100, subsample=1.0; total time=   0.1s\n",
      "[CV] END learning_rate=0.1, max_depth=4, min_samples_leaf=1, min_samples_split=4, n_estimators=200, subsample=0.9; total time=   0.2s\n",
      "[CV] END learning_rate=0.1, max_depth=4, min_samples_leaf=1, min_samples_split=4, n_estimators=200, subsample=0.9; total time=   0.2s\n",
      "[CV] END learning_rate=0.1, max_depth=4, min_samples_leaf=1, min_samples_split=4, n_estimators=300, subsample=0.8; total time=   0.2s\n",
      "[CV] END learning_rate=0.1, max_depth=4, min_samples_leaf=1, min_samples_split=4, n_estimators=300, subsample=0.9; total time=   0.3s\n",
      "[CV] END learning_rate=0.1, max_depth=4, min_samples_leaf=2, min_samples_split=2, n_estimators=100, subsample=0.8; total time=   0.1s\n",
      "[CV] END learning_rate=0.1, max_depth=4, min_samples_leaf=2, min_samples_split=2, n_estimators=100, subsample=0.8; total time=   0.1s\n",
      "[CV] END learning_rate=0.1, max_depth=4, min_samples_leaf=2, min_samples_split=2, n_estimators=100, subsample=1.0; total time=   0.1s\n",
      "[CV] END learning_rate=0.1, max_depth=4, min_samples_leaf=2, min_samples_split=2, n_estimators=100, subsample=1.0; total time=   0.1s\n",
      "[CV] END learning_rate=0.1, max_depth=4, min_samples_leaf=2, min_samples_split=2, n_estimators=200, subsample=1.0; total time=   0.2s\n",
      "[CV] END learning_rate=0.1, max_depth=4, min_samples_leaf=2, min_samples_split=2, n_estimators=200, subsample=1.0; total time=   0.2s\n",
      "[CV] END learning_rate=0.1, max_depth=4, min_samples_leaf=2, min_samples_split=2, n_estimators=300, subsample=0.9; total time=   0.3s\n",
      "[CV] END learning_rate=0.1, max_depth=4, min_samples_leaf=2, min_samples_split=2, n_estimators=300, subsample=1.0; total time=   0.2s\n",
      "[CV] END learning_rate=0.1, max_depth=4, min_samples_leaf=2, min_samples_split=3, n_estimators=100, subsample=0.9; total time=   0.1s\n",
      "[CV] END learning_rate=0.1, max_depth=4, min_samples_leaf=2, min_samples_split=3, n_estimators=100, subsample=0.9; total time=   0.1s\n",
      "[CV] END learning_rate=0.1, max_depth=4, min_samples_leaf=2, min_samples_split=3, n_estimators=200, subsample=0.8; total time=   0.1s\n",
      "[CV] END learning_rate=0.1, max_depth=4, min_samples_leaf=2, min_samples_split=3, n_estimators=200, subsample=0.8; total time=   0.2s\n",
      "[CV] END learning_rate=0.1, max_depth=4, min_samples_leaf=2, min_samples_split=3, n_estimators=300, subsample=0.8; total time=   0.3s\n",
      "[CV] END learning_rate=0.1, max_depth=4, min_samples_leaf=2, min_samples_split=3, n_estimators=300, subsample=0.8; total time=   0.2s\n",
      "[CV] END learning_rate=0.1, max_depth=4, min_samples_leaf=2, min_samples_split=3, n_estimators=300, subsample=1.0; total time=   0.3s\n",
      ", max_depth=3, min_samples_leaf=2, min_samples_split=4, n_estimators=100, subsample=0.9; total time=   0.1s\n",
      "[CV] END learning_rate=0.01, max_depth=3, min_samples_leaf=2, min_samples_split=4, n_estimators=200, subsample=0.8; total time=   0.1s\n",
      "[CV] END learning_rate=0.01, max_depth=3, min_samples_leaf=2, min_samples_split=4, n_estimators=200, subsample=0.9; total time=   0.2s\n",
      "[CV] END learning_rate=0.01, max_depth=3, min_samples_leaf=3, min_samples_split=2, n_estimators=100, subsample=0.8; total time=   0.1s\n",
      "[CV] END learning_rate=0.01, max_depth=3, min_samples_leaf=3, min_samples_split=2, n_estimators=100, subsample=0.8; total time=   0.1s\n",
      "[CV] END learning_rate=0.01, max_depth=3, min_samples_leaf=3, min_samples_split=2, n_estimators=100, subsample=1.0; total time=   0.1s\n",
      "[CV] END learning_rate=0.01, max_depth=3, min_samples_leaf=3, min_samples_split=2, n_estimators=200, subsample=0.8; total time=   0.2s\n",
      "[CV] END learning_rate=0.01, max_depth=3, min_samples_leaf=3, min_samples_split=2, n_estimators=300, subsample=1.0; total time=   0.3s\n",
      "[CV] END learning_rate=0.01, max_depth=3, min_samples_leaf=3, min_samples_split=2, n_estimators=300, subsample=1.0; total time=   0.3s\n",
      "[CV] END learning_rate=0.01, max_depth=3, min_samples_leaf=3, min_samples_split=3, n_estimators=300, subsample=0.9; total time=   0.2s\n",
      "[CV] END learning_rate=0.01, max_depth=3, min_samples_leaf=3, min_samples_split=3, n_estimators=300, subsample=1.0; total time=   0.3s\n",
      "[CV] END learning_rate=0.01, max_depth=3, min_samples_leaf=3, min_samples_split=4, n_estimators=200, subsample=1.0; total time=   0.1s\n",
      "[CV] END learning_rate=0.01, max_depth=3, min_samples_leaf=3, min_samples_split=4, n_estimators=200, subsample=1.0; total time=   0.2s\n",
      "[CV] END_depth=3, min_samples_leaf=3, min_samples_split=2, n_estimators=300, subsample=0.8; total time=   0.3s\n",
      "[CV] END learning_rate=0.1, max_depth=3, min_samples_leaf=3, min_samples_split=3, n_estimators=200, subsample=0.9; total time=   0.2s\n",
      "[CV] END learning_rate=0.1, max_depth=3, min_samples_leaf=3, min_samples_split=3, n_estimators=200, subsample=0.9; total time=   0.2s\n",
      "[CV] END learning_rate=0.1, max_depth=3, min_samples_leaf=3, min_samples_split=3, n_estimators=300, subsample=0.9; total time=   0.3s\n",
      "[CV] END learning_rate=0.1, max_depth=3, min_samples_leaf=3, min_samples_split=3, n_estimators=300, subsample=0.9; total time=   0.2s\n",
      "[CV] END learning_rate=0.1, max_depth=3, min_samples_leaf=3, min_samples_split=4, n_estimators=100, subsample=1.0; total time=   0.1s\n",
      "[CV] END learning_rate=0.1, max_depth=3, min_samples_leaf=3, min_samples_split=4, n_estimators=100, subsample=1.0; total time=   0.1s\n",
      "[CV] END learning_rate=0.1, max_depth=3, min_samples_leaf=3, min_samples_split=4, n_estimators=200, subsample=1.0; total time=   0.2s\n",
      "[CV] END learning_rate=0.1, max_depth=3, min_samples_leaf=3, min_samples_split=4, n_estimators=200, subsample=1.0; total time=   0.1s\n",
      "[CV] END learning_rate=0.1, max_depth=3, min_samples_leaf=3, min_samples_split=4, n_estimators=300, subsample=0.9; total time=   0.2s\n",
      "[CV] END learning_rate=0.1, max_depth=3, min_samples_leaf=3, min_samples_split=4, n_estimators=300, subsample=1.0; total time=   0.2s\n",
      "[CV] END learning_rate=0.1, max_depth=4, min_samples_leaf=1, min_samples_split=2, n_estimators=100, subsample=1.0; total time=   0.1s\n",
      "[CV] END learning_rate=0.1, max_depth=4, min_samples_leaf=1, min_samples_split=2, n_estimators=100, subsample=1.0; total time=   0.1s\n",
      "[CV] END learning_rate=0.1, max_depth=4, min_samples_leaf=1, min_samples_split=2, n_estimators=200, subsample=0.9; total time=   0.2s\n",
      "[CV] END learning_rate=0.1, max_depth=4, min_samples_leaf=1, min_samples_split=2, n_estimators=200, subsample=0.9; total time=   0.2s\n",
      "[CV] END learning_rate=0.1, max_depth=4, min_samples_leaf=1, min_samples_split=2, n_estimators=300, subsample=0.8; total time=   0.2s\n",
      "[CV] END learning_rate=0.1, max_depth=4, min_samples_leaf=1, min_samples_split=2, n_estimators=300, subsample=0.9; total time=   0.2s\n",
      "[CV] END learning_rate=0.1, max_depth=4, min_samples_leaf=1, min_samples_split=3, n_estimators=100, subsample=0.8; total time=   0.1s\n",
      "[CV] END learning_rate=0.1, max_depth=4, min_samples_leaf=1, min_samples_split=3, n_estimators=100, subsample=0.8; total time=   0.1s\n",
      "[CV] END learning_rate=0.1, max_depth=4, min_samples_leaf=1, min_samples_split=3, n_estimators=100, subsample=0.9; total time=   0.1s\n",
      "[CV] END learning_rate=0.1, max_depth=4, min_samples_leaf=1, min_samples_split=3, n_estimators=100, subsample=1.0; total time=   0.1s\n",
      "[CV] END learning_rate=0.1, max_depth=4, min_samples_leaf=1, min_samples_split=3, n_estimators=200, subsample=0.9; total time=   0.2s\n",
      "[CV] END learning_rate=0.1, max_depth=4, min_samples_leaf=1, min_samples_split=3, n_estimators=200, subsample=0.9; total time=   0.2s\n",
      "[CV] END learning_rate=0.1, max_depth=4, min_samples_leaf=1, min_samples_split=3, n_estimators=200, subsample=1.0; total time=   0.2s\n",
      "[CV] END learning_rate=0.1, max_depth=4, min_samples_leaf=1, min_samples_split=3, n_estimators=300, subsample=0.8; total time=   0.2s\n",
      "[CV] END learning_rate=0.1, max_depth=4, min_samples_leaf=1, min_samples_split=3, n_estimators=300, subsample=1.0; total time=   0.3s\n",
      "[CV] END learning_rate=0.1, max_depth=4, min_samples_leaf=1, min_samples_split=3, n_estimators=300, subsample=1.0; total time=   0.3s\n",
      "[CV] END learning_rate=0.1, max_depth=4, min_samples_leaf=1, min_samples_split=4, n_estimators=200, subsample=0.9; total time=   0.2s\n",
      "[CV] END learning_rate=0.1, max_depth=4, min_samples_leaf=1, min_samples_split=4, n_estimators=200, subsample=1.0; total time=   0.2s\n",
      "[CV] END learning_rate=0.1, max_depth=4, min_samples_leaf=1, min_samples_split=4, n_estimators=300, subsample=0.9; total time=   0.3s\n",
      "[CV] END learning_rate=0.1, max_depth=4, min_samples_leaf=1, min_samples_split=4, n_estimators=300, subsample=0.9; total time=   0.3s\n",
      "[CV] END learning_rate=0.1, max_depth=4, min_samples_leaf=2, min_samples_split=2, n_estimators=100, subsample=0.9; total time=   0.1s\n",
      "[CV] END learning_rate=0.1, max_depth=4, min_samples_leaf=2, min_samples_split=2, n_estimators=100, subsample=0.9; total time=   0.1s\n",
      "[CV] END learning_rate=0.1, max_depth=4, min_samples_leaf=2, min_samples_split=2, n_estimators=200, subsample=0.8; total time=   0.2s\n",
      "[CV] END learning_rate=0.1, max_depth=4, min_samples_leaf=2, min_samples_split=2, n_estimators=200, subsample=0.8; total time=   0.1s\n",
      "[CV] END learning_rate=0.1, max_depth=4, min_samples_leaf=2, min_samples_split=2, n_estimators=200, subsample=1.0; total time=   0.2s\n",
      "[CV] END learning_rate=0.1, max_depth=4, min_samples_leaf=2, min_samples_split=2, n_estimators=300, subsample=0.8; total time=   0.3s\n",
      "[CV] END learning_rate=0.1, max_depth=4, min_samples_leaf=2, min_samples_split=2, n_estimators=300, subsample=1.0; total time=   0.3s\n",
      "[CV] END learning_rate=0.1, max_depth=4, min_samples_leaf=2, min_samples_split=2, n_estimators=300, subsample=1.0; total time=   0.3s\n",
      "[CV] END learning_rate=0.1, max_depth=4, min_samples_leaf=2, min_samples_split=3, n_estimators=200, subsample=0.9; total time=   0.2s\n",
      "[CV] END learning_rate=0.1, max_depth=4, min_samples_leaf=2, min_samples_split=3, n_estimators=200, subsample=1.0; total time=   0.2s\n",
      "[CV] END learning_rate=0.1, max_depth=4, min_samples_leaf=2, min_samples_split=3, n_estimators=300, subsample=0.9; total time=   0.3s\n",
      "[CV] END learning_rate=0.1, max_depth=4, min_samples_leaf=2, min_samples_split=3, n_estimators=300, subsample=0.9; total time=   0.3s\n",
      "[CV] END learning_rate=0.1, max_depth=4, min_samples_leaf=2, min_samples_split=4, n_estimators=100, subsample=0.9; total time=   0.1s\n",
      "[CV] END learning_rate=0.1, max_depth=4, min_samples_leaf=2, min_samples_split=4, n_estimators=100, subsample=0.9; total time=   0.1s\n",
      "[CV] END learning_rate=0.1, max_depth=4, min_samples_leaf=2, min_samples_split=4, n_estimators=200, subsample=0.8; total time=   0.2s\n",
      "[CV] END learning_rate=0.1, max_depth=4, min_samples_leaf=2, min_samples_split=4, n_estimators=200, subsample=0.8; total time=   0.2s\n",
      "amples_leaf=2, min_samples_split=5, n_estimators=300; total time=   0.5s\n",
      "[CV] END bootstrap=True, max_depth=None, min_samples_leaf=4, min_samples_split=2, n_estimators=100; total time=   0.2s\n",
      "[CV] END bootstrap=True, max_depth=None, min_samples_leaf=4, min_samples_split=2, n_estimators=200; total time=   0.3s\n",
      "[CV] END bootstrap=True, max_depth=None, min_samples_leaf=4, min_samples_split=5, n_estimators=200; total time=   0.2s\n",
      "[CV] END bootstrap=True, max_depth=None, min_samples_leaf=4, min_samples_split=10, n_estimators=100; total time=   0.1s\n",
      "[CV] END bootstrap=True, max_depth=None, min_samples_leaf=4, min_samples_split=10, n_estimators=200; total time=   0.2s\n",
      "[CV] END bootstrap=True, max_depth=10, min_samples_leaf=1, min_samples_split=2, n_estimators=200; total time=   0.3s\n",
      "[CV] END bootstrap=True, max_depth=10, min_samples_leaf=1, min_samples_split=5, n_estimators=200; total time=   0.3s\n",
      "[CV] END bootstrap=True, max_depth=10, min_samples_leaf=1, min_samples_split=10, n_estimators=200; total time=   0.3s\n",
      "[CV] END bootstrap=True, max_depth=10, min_samples_leaf=2, min_samples_split=2, n_estimators=100; total time=   0.2s\n",
      "[CV] END bootstrap=True, max_depth=10, min_samples_leaf=2, min_samples_split=2, n_estimators=300; total time=   0.4s\n",
      "[CV] END bootstrap=True, max_depth=10, min_samples_leaf=2, min_samples_split=5, n_estimators=300; total time=   0.4s\n",
      "[CV] END bootstrap=True, max_depth=10, min_samples_leaf=4, min_samples_split=2, n_estimators=100; total time=   0.1s\n",
      "[CV] END bootstrap=True, max_depth=10, min_samples_leaf=4, min_samples_split=2, n_estimators=200; total time=   0.3s\n",
      "[CV] END bootstrap=True, max_depth=10, min_samples_leaf=4, min_samples_split=5, n_estimators=300; total time=   0.4s\n",
      "[CV] END bootstrap=True, max_depth=10, min_samples_leaf=4, min_samples_split=10, n_estimators=300; total time=   0.4s\n",
      "[CV] END bootstrap=True, max_depth=20, min_samples_leaf=1, min_samples_split=5, n_estimators=100; total time=   0.1s\n",
      "[CV] END bootstrap=True, max_depth=20, min_samples_leaf=1, min_samples_split=5, n_estimators=200; total time=   0.3s\n",
      "[CV] END bootstrap=True, max_depth=20, min_samples_leaf=1, min_samples_split=10, n_estimators=200; total time=   0.2s\n",
      "[CV] END bootstrap=True, max_depth=20, min_samples_leaf=2, min_samples_split=2, n_estimators=100; total time=   0.2s\n",
      "[CV] END bootstrap=True, max_depth=20, min_samples_leaf=2, min_samples_split=2, n_estimators=300; total time=   0.5s\n",
      "[CV] END bootstrap=True, max_depth=20, min_samples_leaf=2, min_samples_split=5, n_estimators=300; total time=   0.4s\n",
      "[CV] END bootstrap=True, max_depth=20, min_samples_leaf=4, min_samples_split=2, n_estimators=100; total time=   0.1s\n",
      "[CV] END bootstrap=True, max_depth=20, min_samples_leaf=4, min_samples_split=2, n_estimators=300; total time=   0.4s\n",
      "[CV] END bootstrap=True, max_depth=20, min_samples_leaf=4, min_samples_split=10, n_estimators=100; total time=   0.2s\n",
      "[CV] END bootstrap=True, max_depth=20, min_samples_leaf=4, min_samples_split=10, n_estimators=200; total time=   0.2s\n",
      "[CV] END bootstrap=True, max_depth=30, min_samples_leaf=1, min_samples_split=2, n_estimators=200; total time=   0.3s\n",
      "[CV] END bootstrap=True, max_depth=30, min_samples_leaf=1, min_samples_split=5, n_estimators=100; total time=   0.1s\n",
      "[CV] END bootstrap=True, max_depth=30, min_samples_leaf=1, min_samples_split=5, n_estimators=300; total time=   0.4s\n",
      "[CV] END bootstrap=True, max_depth=30, min_samples_leaf=1, min_samples_split=10, n_estimators=300; total time=   0.4s\n",
      "[CV] END bootstrap=True, max_depth=30, min_samples_leaf=2, min_samples_split=5, n_estimators=200; total time=   0.4s\n",
      "[CV] END bootstrap=True, max_depth=30, min_samples_leaf=2, min_samples_split=10, n_estimators=200; total time=   0.3s\n",
      "[CV] END bootstrap=True, max_depth=30, min_samples_leaf=4, min_samples_split=2, n_estimators=100; total time=   0.1s\n",
      "[CV] END bootstrap=True, max_depth=30, min_samples_leaf=4, min_samples_split=2, n_estimators=300; total time=   0.4s\n",
      "[CV] END bootstrap=True, max_depth=30, min_samples_leaf=4, min_samples_split=5, n_estimators=300; total time=   0.4s\n",
      "[CV] END bootstrap=False, max_depth=None, min_samples_leaf=1, min_samples_split=2, n_estimators=200; total time=   0.4s\n",
      "[CV] END bootstrap=False, max_depth=None, min_samples_leaf=1, min_samples_split=5, n_estimators=200; total time=   0.4s\n",
      "[CV] END bootstrap=False, max_depth=None, min_samples_leaf=1, min_samples_split=10, n_estimators=200; total time=   0.4s\n",
      "[CV] END bootstrap=False, max_depth=None, min_samples_leaf=2, min_samples_split=2, n_estimators=100; total time=   0.2s\n",
      "[CV] END bootstrap=False, max_depth=None, min_samples_leaf=2, min_samples_split=2, n_estimators=300; total time=   0.6s\n",
      "[CV] END bootstrap=False, max_depth=None, min_samples_leaf=2, min_samples_split=10, n_estimators=100; total time=   0.2s\n",
      "[CV] END bootstrap=False, max_depth=None, min_samples_leaf=2, min_samples_split=10, n_estimators=200; total time=   0.3s\n",
      "[CV] END bootstrap=False, max_depth=None, min_samples_leaf=4, min_samples_split=2, n_estimators=100; total time=   0.2s\n",
      "[CV] END bootstrap=False, max_depth=None, min_samples_leaf=4, min_samples_split=2, n_estimators=300; total time=   0.5s\n",
      "[CV] END bootstrap=False, max_depth=None, min_samples_leaf=4, min_samples_split=10, n_estimators=100; total time=   0.2s\n",
      "[CV] END bootstrap=False, max_depth=None, min_samples_leaf=4, min_samples_split=10, n_estimators=300; total time=   0.5s\n",
      "[CV] END bootstrap=False, max_depth=10, min_samples_leaf=1, min_samples_split=2, n_estimators=300; total time=   0.9s\n",
      "[CV] END bootstrap=False, max_depth=10, min_samples_leaf=1, min_samples_split=10, n_estimators=100; total time=   0.2s\n",
      "[CV] END bootstrap=False, max_depth=10, min_samples_leaf=1, min_samples_split=10, n_estimators=300; total time=   0.6s\n",
      "[CV] END bootstrap=False, max_depth=10, min_samples_leaf=2, min_samples_split=5, n_estimators=100; total time=   0.2s\n",
      "[CV] END bootstrap=False, max_depth=10, min_samples_leaf=2, min_samples_split=5, n_estimators=300; total time=   0.5s\n",
      "[CV] END bootstrap=False, max_depth=10, min_samples_leaf=2, min_samples_split=10, n_estimators=300; total time=   0.6s\n",
      "[CV] END bootstrap=False, max_depth=10, min_samples_leaf=4, min_samples_split=5, n_estimators=100; total time=   0.2s\n",
      "[CV] END bootstrap=False, max_depth=10, min_samples_leaf=4, min_samples_split=5, n_estimators=300; total time=   0.6s\n",
      "[CV] END bootstrap=False, max_depth=20, min_samples_leaf=1, min_samples_split=2, n_estimators=100; total time=   0.2s\n",
      "[CV] END bootstrap=False, max_depth=20, min_samples_leaf=1, min_samples_split=2, n_estimators=300; total time=   0.6s\n",
      "[CV] END bootstrap=False, max_depth=20, min_samples_leaf=1, min_samples_split=5, n_estimators=300; total time=   0.7s\n",
      "[CV] END bootstrap=False, max_depth=20, min_samples_leaf=2, min_samples_split=2, n_estimators=200; total time=   0.4s\n",
      "[CV] END bootstrap=False, max_depth=20, min_samples_leaf=2, min_samples_split=5, n_estimators=200; total time=   0.4s\n",
      "[CV] END bootstrap=False, max_depth=20, min_samples_leaf=2, min_samples_split=10, n_estimators=100; total time=   0.2s\n",
      "[CV] END bootstrap=False, max_depth=20, min_samples_leaf=2, min_samples_split=10, n_estimators=300; total time=   0.6s\n",
      "[CV] END bootstrap=False, max_depth=20, min_samples_leaf=4, min_samples_split=5, n_estimators=100; total time=   0.2s\n",
      "[CV] END bootstrap=False, max_depth=20, min_samples_leaf=4, min_samples_split=5, n_estimators=200; total time=   0.4s\n",
      "[CV] END bootstrap=False, max_depth=20, min_samples_leaf=4, min_samples_split=10, n_estimators=100; total time=   0.2s\n",
      "[CV] END bootstrap=False, max_depth=20, min_samples_leaf=4, min_samples_split=10, n_estimators=300; total time=   0.7s\n",
      "[CV] END bootstrap=False, max_depth=30, min_samples_leaf=1, min_samples_split=5, n_estimators=100; total time=   0.2s\n",
      "[CV] END bootstrap=False, max_depth=30, min_samples_leaf=1, min_samples_split=5, n_estimators=200; total time=   0.7s\n",
      "[CV] END bootstrap=False, max_depth=30, min_samples_leaf=1, min_samples_split=10, n_estimators=200; total time=   0.8s\n",
      "[CV] END bootstrap=False, max_depth=30, min_samples_leaf=2, min_samples_split=2, n_estimators=200; total time=   0.4s\n",
      "[CV] END bootstrap=False, max_depth=30, min_samples_leaf=2, min_samples_split=5, n_estimators=100; total time=   0.2s\n",
      "[CV] END bootstrap=False, max_depth=30, min_samples_leaf=2, min_samples_split=5, n_estimators=300; total time=   0.7s\n",
      "[CV] END bootstrap=False, max_depth=30, min_samples_leaf=4, min_samples_split=2, n_estimators=100; total time=   0.4s\n",
      "[CV] END bootstrap=False, max_depth=30, min_samples_leaf=4, min_samples_split=2, n_estimators=200; total time=   0.6s\n",
      "[CV] END bootstrap=False, max_depth=30, min_samples_leaf=4, min_samples_split=5, n_estimators=200; total time=   0.5s\n",
      "[CV] END bootstrap=False, max_depth=30, min_samples_leaf=4, min_samples_split=10, n_estimators=200; total time=   0.6s\n",
      "[CV] END learning_rate=0.01, max_depth=3, min_samples_leaf=1, min_samples_split=2, n_estimators=100, subsample=1.0; total time=   0.2s\n",
      "[CV] END learning_rate=0.01, max_depth=3, min_samples_leaf=1, min_samples_split=2, n_estimators=300, subsample=0.8; total time=   0.4s\n",
      "[CV] END learning_rate=0.01, max_depth=3, min_samples_leaf=1, min_samples_split=2, n_estimators=300, subsample=0.9; total time=   0.5s\n",
      "[CV] END learning_rate=0.01, max_depth=3, min_samples_leaf=1, min_samples_split=3, n_estimators=300, subsample=0.9; total time=   0.4s\n",
      "[CV] END learning_rate=0.01, max_depth=3, min_samples_leaf=1, min_samples_split=3, n_estimators=300, subsample=1.0; total time=   0.3s\n",
      "[CV] END learning_rate=0.01, max_depth=3, min_samples_leaf=1, min_samples_split=4, n_estimators=300, subsample=0.8; total time=   0.3s\n",
      "[CV] END learning_rate=0.01, max_depth=3, min_samples_leaf=1, min_samples_split=4, n_estimators=300, subsample=0.8; total time=   0.2s\n",
      "[CV] END learning_rate=0.01, max_depth=3, min_samples_leaf=2, min_samples_split=2, n_estimators=200, subsample=1.0; total time=   0.3s\n",
      "[CV] END learning_rate=0.01, max_depth=3, min_samples_leaf=2, min_samples_split=2, n_estimators=200, subsample=1.0; total time=   0.3s\n",
      "[CV] END learning_rate=0.01, max_depth=3, min_samples_leaf=2, min_samples_split=3, n_estimators=100, subsample=0.8; total time=   0.1s\n",
      "[CV] END learning_rate=0.01, max_depth=3, min_samples_leaf=2, min_samples_split=3, n_estimators=100, subsample=0.9; total time=   0.1s\n",
      "[CV] END learning_rate=0.01, max_depth=3, min_samples_leaf=2, min_samples_split=3, n_estimators=200, subsample=0.8; total time=   0.3s\n",
      "[CV] END learning_rate=0.01, max_depth=3, min_samples_leaf=2, min_samples_split=3, n_estimators=200, subsample=0.8; total time=   0.3s\n",
      "[CV] END learning_rate=0.01, max_depth=3, min_samples_leaf=2, min_samples_split=3, n_estimators=300, subsample=1.0; total time=   0.2s\n",
      "[CV] END learning_rate=0.01, max_depth=3, min_samples_leaf=2, min_samples_split=3, n_estimators=300, subsample=1.0; total time=   0.2s\n",
      "[CV] END learning_rate=0.01, max_depth=3, min_samples_leaf=2, min_samples_split=4, n_estimators=300, subsample=0.9; total time=   0.2s\n",
      "[CV] END learning_rate=0.01, max_depth=3, min_samples_leaf=2, min_samples_split=4, n_estimators=300, subsample=1.0; total time=   0.3s\n",
      "[CV] END learning_rate=0.01, max_depth=3, min_samples_leaf=3, min_samples_split=2, n_estimators=300, subsample=0.9; total time=   0.2s\n",
      "[CV] END learning_rate=0.01, max_depth=3, min_samples_leaf=3, min_samples_split=2, n_estimators=300, subsample=0.9; total time=   0.3s\n",
      "[CV] END learning_rate=0.01, max_depth=3, min_samples_leaf=3, min_samples_split=3, n_estimators=200, subsample=1.0; total time=   0.2s\n",
      "[CV] END learning_rate=0.01, max_depth=3, min_samples_leaf=3, min_samples_split=3, n_estimators=300, subsample=0.8; total time=   0.2s\n",
      "[CV] END learning_rate=0.01, max_depth=3, min_samples_leaf=3, min_samples_split=4, n_estimators=100, subsample=1.0; total time=   0.2s\n",
      "[CV] END learning_rate=0.01, max_depth=3, min_samples_leaf=3, min_samples_split=4, n_estimators=100, subsample=1.0; total time=   0.1s\n",
      "[CV] END learning_rate=0.01, max_depth=3, min_samples_leaf=3, min_samples_split=4, n_estimators=300, subsample=0.8; total time=   0.2s\n",
      "[CV] END learning_rate=0.01, max_depth=3, min_samples_leaf=3, min_samples_split=4, n_estimators=300, subsample=0.9; total time=   0.3s\n",
      "[CV] END learning_rate=0.01, max_depth=4, min_samples_leaf=1, min_samples_split=2, n_estimators=200, subsample=0.9; total time=   0.2s\n",
      "[CV] END learning_rate=0.01, max_depth=4, min_samples_leaf=1, min_samples_split=2, n_estimators=200, subsample=0.9; total time=   0.2s\n",
      "[CV] END learning_rate=0.01, max_depth=4, min_samples_leaf=1, min_samples_split=3, n_estimators=100, subsample=0.8; total time=   0.1s\n",
      "[CV] END learning_rate=0.01, max_depth=4, min_samples_leaf=1, min_samples_split=3, n_estimators=100, subsample=0.9; total time=   0.1s\n",
      "[CV] END learning_rate=0.01, max_depth=4, min_samples_leaf=1, min_samples_split=3, n_estimators=200, subsample=0.8; total time=   0.2s\n",
      "[CV] END learning_rate=0.01, max_depth=4, min_samples_leaf=1, min_samples_split=3, n_estimators=200, subsample=0.8; total time=   0.2s\n",
      "[CV] END learning_rate=0.01, max_depth=4, min_samples_leaf=1, min_samples_split=3, n_estimators=300, subsample=1.0; total time=   0.3s\n",
      "[CV] END learning_rate=0.01, max_depth=4, min_samples_leaf=1, min_samples_split=4, n_estimators=100, subsample=0.8; total time=   0.1s\n",
      "[CV] END learning_rate=0.01, max_depth=4, min_samples_leaf=1, min_samples_split=4, n_estimators=200, subsample=1.0; total time=   0.2s\n",
      "[CV] END learning_rate=0.01, max_depth=4, min_samples_leaf=1, min_samples_split=4, n_estimators=200, subsample=1.0; total time=   0.3s\n",
      "[CV] END learning_rate=0.01, max_depth=4, min_samples_leaf=2, min_samples_split=2, n_estimators=100, subsample=0.9; total time=   0.1s\n",
      "[CV] END learning_rate=0.01, max_depth=4, min_samples_leaf=2, min_samples_split=2, n_estimators=100, subsample=0.9; total time=   0.2s\n",
      "[CV] END learning_rate=0.01, max_depth=4, min_samples_leaf=2, min_samples_split=2, n_estimators=300, subsample=0.8; total time=   0.4s\n",
      "[CV] END learning_rate=0.01, max_depth=4, min_samples_leaf=2, min_samples_split=2, n_estimators=300, subsample=0.8; total time=   0.3s\n",
      "[CV] END learning_rate=0.01, max_depth=4, min_samples_leaf=2, min_samples_split=3, n_estimators=100, subsample=1.0; total time=   0.1s\n",
      "[CV] END learning_rate=0.01, max_depth=4, min_samples_leaf=2, min_samples_split=3, n_estimators=100, subsample=1.0; total time=   0.2s\n",
      "[CV] END learning_rate=0.01, max_depth=4, min_samples_leaf=2, min_samples_split=3, n_estimators=300, subsample=0.9; total time=   0.4s\n",
      "[CV] END learning_rate=0.01, max_depth=4, min_samples_leaf=2, min_samples_split=3, n_estimators=300, subsample=0.9; total time=   0.4s\n",
      "[CV] END learning_rate=0.01, max_depth=4, min_samples_leaf=2, min_samples_split=4, n_estimators=200, subsample=0.9; total time=   0.2s\n",
      "[CV] END learning_rate=0.01, max_depth=4, min_samples_leaf=2, min_samples_split=4, n_estimators=200, subsample=1.0; total time=   0.2s\n",
      "[CV] END learning_rate=0.01, max_depth=4, min_samples_leaf=3, min_samples_split=2, n_estimators=100, subsample=0.8; total time=   0.2s\n",
      "[CV] END learning_rate=0.01, max_depth=4, min_samples_leaf=3, min_samples_split=2, n_estimators=100, subsample=0.8; total time=   0.1s\n",
      "[CV] END learning_rate=0.01, max_depth=4, min_samples_leaf=3, min_samples_split=2, n_estimators=200, subsample=0.8; total time=   0.2s\n",
      "[CV] END learning_rate=0.01, max_depth=4, min_samples_leaf=3, min_samples_split=2, n_estimators=200, subsample=0.8; total time=   0.2s\n",
      "[CV] END learning_rate=0.01, max_depth=4, min_samples_leaf=3, min_samples_split=2, n_estimators=300, subsample=1.0; total time=   0.4s\n",
      "e=0.9; total time=   0.1s\n",
      "[CV] END learning_rate=0.1, max_depth=3, min_samples_leaf=3, min_samples_split=2, n_estimators=100, subsample=0.9; total time=   0.1s\n",
      "[CV] END learning_rate=0.1, max_depth=3, min_samples_leaf=3, min_samples_split=2, n_estimators=100, subsample=1.0; total time=   0.1s\n",
      "[CV] END learning_rate=0.1, max_depth=3, min_samples_leaf=3, min_samples_split=2, n_estimators=100, subsample=1.0; total time=   0.1s\n",
      "[CV] END learning_rate=0.1, max_depth=3, min_samples_leaf=3, min_samples_split=2, n_estimators=300, subsample=0.9; total time=   0.2s\n",
      "[CV] END learning_rate=0.1, max_depth=3, min_samples_leaf=3, min_samples_split=2, n_estimators=300, subsample=0.9; total time=   0.3s\n",
      "[CV] END learning_rate=0.1, max_depth=3, min_samples_leaf=3, min_samples_split=3, n_estimators=200, subsample=0.9; total time=   0.2s\n",
      "[CV] END learning_rate=0.1, max_depth=3, min_samples_leaf=3, min_samples_split=3, n_estimators=200, subsample=1.0; total time=   0.2s\n",
      "[CV] END learning_rate=0.1, max_depth=3, min_samples_leaf=3, min_samples_split=3, n_estimators=300, subsample=1.0; total time=   0.2s\n",
      "[CV] END learning_rate=0.1, max_depth=3, min_samples_leaf=3, min_samples_split=4, n_estimators=100, subsample=0.8; total time=   0.1s\n",
      "[CV] END learning_rate=0.1, max_depth=3, min_samples_leaf=3, min_samples_split=4, n_estimators=100, subsample=0.9; total time=   0.1s\n",
      "[CV] END learning_rate=0.1, max_depth=3, min_samples_leaf=3, min_samples_split=4, n_estimators=100, subsample=0.9; total time=   0.1s\n",
      "[CV] END learning_rate=0.1, max_depth=3, min_samples_leaf=3, min_samples_split=4, n_estimators=200, subsample=0.8; total time=   0.1s\n",
      "[CV] END learning_rate=0.1, max_depth=3, min_samples_leaf=3, min_samples_split=4, n_estimators=200, subsample=0.8; total time=   0.1s\n",
      "[CV] END learning_rate=0.1, max_depth=3, min_samples_leaf=3, min_samples_split=4, n_estimators=300, subsample=0.8; total time=   0.2s\n",
      "[CV] END learning_rate=0.1, max_depth=3, min_samples_leaf=3, min_samples_split=4, n_estimators=300, subsample=0.8; total time=   0.2s\n",
      "[CV] END learning_rate=0.1, max_depth=4, min_samples_leaf=1, min_samples_split=2, n_estimators=100, subsample=0.8; total time=   0.1s\n",
      "[CV] END learning_rate=0.1, max_depth=4, min_samples_leaf=1, min_samples_split=2, n_estimators=100, subsample=0.8; total time=   0.1s\n",
      "[CV] END learning_rate=0.1, max_depth=4, min_samples_leaf=1, min_samples_split=2, n_estimators=100, subsample=0.9; total time=   0.1s\n",
      "[CV] END learning_rate=0.1, max_depth=4, min_samples_leaf=1, min_samples_split=2, n_estimators=100, subsample=0.9; total time=   0.1s\n",
      "[CV] END learning_rate=0.1, max_depth=4, min_samples_leaf=1, min_samples_split=2, n_estimators=200, subsample=0.8; total time=   0.2s\n",
      "[CV] END learning_rate=0.1, max_depth=4, min_samples_leaf=1, min_samples_split=2, n_estimators=200, subsample=0.8; total time=   0.2s\n",
      "[CV] END learning_rate=0.1, max_depth=4, min_samples_leaf=1, min_samples_split=2, n_estimators=300, subsample=0.8; total time=   0.2s\n",
      "[CV] END learning_rate=0.1, max_depth=4, min_samples_leaf=1, min_samples_split=2, n_estimators=300, subsample=0.8; total time=   0.2s\n",
      "[CV] END learning_rate=0.1, max_depth=4, min_samp[CV] END learning_rate=0.1, max_depth=4, min_samples_leaf=2, min_samples_split=4, n_estimators=200, subsample=1.0; total time=   0.2s\n",
      "[CV] END learning_rate=0.1, max_depth=4, min_samples_leaf=2, min_samples_split=4, n_estimators=300, subsample=0.8; total time=   0.3s\n",
      "[CV] END learning_rate=0.1, max_depth=4, min_samples_leaf=2, min_samples_split=4, n_estimators=300, subsample=1.0; total time=   0.3s\n",
      "[CV] END learning_rate=0.1, max_depth=4, min_samples_leaf=2, min_samples_split=4, n_estimators=300, subsample=1.0; total time=   0.2s\n",
      "[CV] END learning_rate=0.1, max_depth=4, min_samples_leaf=3, min_samples_split=2, n_estimators=200, subsample=0.9; total time=   0.1s\n",
      "[CV] END learning_rate=0.1, max_depth=4, min_samples_leaf=3, min_samples_split=2, n_estimators=200, subsample=0.9; total time=   0.2s\n",
      "[CV] END learning_rate=0.1, max_depth=4, min_samples_leaf=3, min_samples_split=2, n_estimators=300, subsample=0.8; total time=   0.2s\n",
      "[CV] END learning_rate=0.1, max_depth=4, min_samples_leaf=3, min_samples_split=2, n_estimators=300, subsample=0.8; total time=   0.2s\n",
      "[CV] END learning_rate=0.1, max_depth=4, min_samples_leaf=3, min_samples_split=3, n_estimators=100, subsample=0.8; total time=   0.1s\n",
      "[CV] END learning_rate=0.1, max_depth=4, min_samples_leaf=3, min_samples_split=3, n_estimators=100, subsample=0.8; total time=   0.1s\n",
      "[CV] END learning_rate=0.1, max_depth=4, min_samples_leaf=3, min_samples_split=3, n_estimators=100, subsample=0.9; total time=   0.1s\n",
      "[CV] END learning_rate=0.1, max_depth=4, min_samples_leaf=3, min_samples_split=3, n_estimators=100, subsample=1.0; total time=   0.1s\n",
      "[CV] END learning_rate=0.1, max_depth=4, min_samples_leaf=3, min_samples_split=3, n_estimators=200, subsample=0.9; total time=   0.2s\n",
      "[CV] END learning_rate=0.1, max_depth=4, min_samples_leaf=3, min_samples_split=3, n_estimators=200, subsample=0.9; total time=   0.2s\n",
      "[CV] END learning_rate=0.1, max_depth=4, min_samples_leaf=3, min_samples_split=3, n_estimators=300, subsample=0.9; total time=   0.4s\n",
      "[CV] END learning_rate=0.1, max_depth=4, min_samples_leaf=3, min_samples_split=3, n_estimators=300, subsample=0.9; total time=   0.2s\n",
      "[CV] END learning_rate=0.1, max_depth=4, min_samples_leaf=3, min_samples_split=4, n_estimators=100, subsample=0.8; total time=   0.1s\n",
      "[CV] END learning_rate=0.1, max_depth=4, min_samples_leaf=3, min_samples_split=4, n_estimators=100, subsample=0.9; total time=   0.1s\n",
      "[CV] END learning_rate=0.1, max_depth=4, min_samples_leaf=3, min_samples_split=4, n_estimators=100, subsample=1.0; total time=   0.1s\n",
      "[CV] END learning_rate=0.1, max_depth=4, min_samples_leaf=3, min_samples_split=4, n_estimators=200, subsample=0.8; total time=   0.2s\n",
      "[CV] END learning_rate=0.1, max_depth=4, min_samples_leaf=3, min_samples_split=4, n_estimators=200, subsample=1.0; total time=   0.2s\n",
      "[CV] END learning_rate=0.1, max_depth=4, min_samples_leaf=3, min_samples_split=4, n_estimators=200, subsample=1.0; total time=   0.2s\n",
      "[CV] END learning_rate=0.1, max_depth=4, min_samples_leaf=3, min_samples_split=4, n_estimators=300, subsample=1.0; total time=   0.2s\n",
      "[CV] END learning_rate=0.1, max_depth=4, min_samples_leaf=3, min_samples_split=4, n_estimators=300, subsample=1.0; total time=   0.3s\n",
      "[CV] END learning_rate=0.1, max_depth=5, min_samples_leaf=1, min_samples_split=2, n_estimators=100, subsample=0.9; total time=   0.1s\n",
      "[CV] END learning_rate=0.1, max_depth=5, min_samples_leaf=1, min_samples_split=2, n_estimators=100, subsample=0.9; total time=   0.1s\n",
      "[CV] END learning_rate=0.1, max_depth=5, min_samples_leaf=1, min_samples_split=2, n_estimators=200, subsample=0.8; total time=   0.2s\n",
      "[CV] END learning_rate=0.1, max_depth=5, min_samples_leaf=1, min_samples_split=2, n_estimators=200, subsample=0.9; total time=   0.3s\n",
      "[CV] END learning_rate=0.1, max_depth=5, min_samples_leaf=1, min_samples_split=2, n_estimators=300, subsample=0.8; total time=   0.3s\n",
      "[CV] END learning_rate=0.1, max_depth=5, min_samples_leaf=1, min_samples_split=2, n_estimators=300, subsample=0.8; total time=   0.3s\n",
      "[CV] END learning_rate=0.1, max_depth=5, min_samples_leaf=1, min_samples_split=3, n_estimators=100, subsample=0.8; total time=   0.1s\n",
      "[CV] END learning_rate=0.1, max_depth=5, min_samples_leaf=1, min_samples_split=3, n_estimators=100, subsample=0.8; total time=   0.1s\n",
      "[CV] END learning_rate=0.1, max_depth=5, min_samples_leaf=1, min_samples_split=3, n_estimators=100, subsample=0.8; total time=   0.1s\n",
      "[CV] END learning_rate=0.1, max_depth=5, min_samples_leaf=1, min_samples_split=3, n_estimators=100, subsample=0.9; total time=   0.1s\n",
      "[CV] END learning_rate=0.1, max_depth=5, min_samples_leaf=1, min_samples_split=3, n_estimators=100, subsample=1.0; total time=   0.1s\n",
      "[CV] END learning_rate=0.1, max_depth=5, min_samples_leaf=1, min_samples_split=3, n_estimators=200, subsample=0.8; total time=   0.2s\n",
      "[CV] END learning_rate=0.1, max_depth=5, min_samples_leaf=1, min_samples_split=3, n_estimators=200, subsample=1.0; total time=   0.2s\n",
      "[CV] END learning_rate=0.1, max_depth=5, min_samples_leaf=1, min_samples_split=3, n_estimators=200, subsample=1.0; total time=   0.2s\n",
      "[CV] END learning_rate=0.1, max_depth=5, min_samples_leaf=1, min_samples_split=3, n_estimators=300, subsample=1.0; total time=   0.3s\n",
      "[CV] END learning_rate=0.1, max_depth=5, min_samples_leaf=1, min_samples_split=3, n_estimators=300, subsample=1.0; total time=   0.4s\n",
      "[CV] END learning_rate=0.1, max_depth=5, min_samples_leaf=1, min_samples_split=4, n_estimators=100, subsample=0.9; total time=   0.1s\n",
      "[CV] END learning_rate=0.1, max_depth=5, min_samples_leaf=1, min_samples_split=4, n_estimators=100, subsample=1.0; total time=   0.1s\n",
      "[CV] END learning_rate=0.1, max_depth=5, min_samples_leaf=1, min_samples_split=4, n_estimators=200, subsample=0.9; total time=   0.2s\n",
      "[CV] END learning_rate=0.1, max_depth=5, min_samples_leaf=1, min_samples_split=4, n_estimators=200, subsample=0.9; total time=   0.2s\n",
      "[CV] END learning_rate=0.1, max_depth=5, min_samples_leaf=1, min_samples_split=4, n_estimators=300, subsample=0.9; total time=   0.3s\n",
      "[CV] END learning_rate=0.1, max_depth=5, min_samples_leaf=1, min_samples_split=4, n_estimators=300, subsample=0.9; total time=   0.3s\n",
      "[CV] END learning_rate=0.1, max_depth=5, min_samples_leaf=2, min_samples_split=2, n_estimators=100, subsample=0.9; total time=   0.1s\n",
      "[CV] END learning_rate=0.1, max_depth=5, min_samples_leaf=2, min_samples_split=2, n_estimators=100, subsample=0.9; total time=   0.1s\n",
      "[CV] END learning_rate=0.1, max_depth=5, min_samples_leaf=2, min_samples_split=2, n_estimators=200, subsample=0.8; total time=   0.2s\n",
      "[CV] END learning_rate=0.1, max_depth=5, min_samples_leaf=2, min_samples_split=2, n_estimators=200, subsample=0.8; total time=   0.2s\n",
      "[CV] END learning_rate=0.1, max_depth=5, min_samples_leaf=2, min_samples_split=2, n_estimators=300, subsample=0.8; total time=   0.3s\n",
      "[CV] END learning_rate=0.1, max_depth=5, min_samples_leaf=2, min_samples_split=2, n_estimators=300, subsample=0.8; total time=   0.3s\n",
      "[CV] END learning_rate=0.1, max_depth=5, min_samples_leaf=2, min_samples_split=2, n_estimators=300, subsample=1.0; total time=   0.3s\n",
      "[CV] END learning_rate=0.1, max_depth=5, min_samples_leaf=2, min_samples_split=3, n_estimators=100, subsample=0.8; total time=   0.1s\n",
      "[CV] END learning_rate=0.1, max_depth=5, min_samples_leaf=2, min_samples_split=3, n_estimators=200, subsample=0.8; total time=   0.2s\n",
      "[CV] END learning_rate=0.1, max_depth=5, min_samples_leaf=2, min_samples_split=3, n_estimators=200, subsample=0.8; total time=   0.2s\n",
      "[CV] END learning_rate=0.1, max_depth=5, min_samples_leaf=2, min_samples_split=3, n_estimators=200, subsample=1.0; total time=   0.2s\n",
      "[CV] END learning_rate=0.1, max_depth=5, min_samples_leaf=2, min_samples_split=3, n_estimators=300, subsample=0.8; total time=   0.3s\n",
      "[CV] END learning_rate=0.1, max_depth=5, min_samples_leaf=2, min_samples_split=3, n_estimators=300, subsample=1.0; total time=   0.4s\n",
      "[CV] END learning_rate=0.1, max_depth=5, min_samples_leaf=2, min_samples_split=3, n_estimators=300, subsample=1.0; total time=   0.3s\n",
      "[CV] END learning_rate=0.1, max_depth=5, min_samples_leaf=2, min_samples_split=4, n_estimators=200, subsample=0.9; total time=   0.2s\n",
      "[CV] END learning_rate=0.1, max_depth=5, min_samples_leaf=2, min_samples_split=4, n_estimators=200, subsample=0.9; total time=   0.2s\n",
      "[CV] END learning_rate=0.1, max_depth=5, min_samples_leaf=3, min_samples_split=3, n_estimators=100, subsample=0.9; total time=   0.1s\n",
      "[CV] END learning_rate=0.1, max_depth=5, min_samples_leaf=3, min_samples_split=3, n_estimators=200, subsample=0.8; total time=   0.2s\n",
      "[CV] END learning_rate=0.1, max_depth=5, min_samples_leaf=3, min_samples_split=3, n_estimators=200, subsample=0.9; total time=   0.2s\n",
      "[CV] END learning_rate=0.1, max_depth=5, min_samples_leaf=3, min_samples_split=3, n_estimators=200, subsample=1.0; total time=   0.2s\n",
      "[CV] END learning_rate=0.1, max_depth=5, min_samples_leaf=3, min_samples_split=3, n_estimators=300, subsample=0.9; total time=   0.3s\n",
      "[CV] END learning_rate=0.1, max_depth=5, min_samples_leaf=3, min_samples_split=3, n_estimators=300, subsample=1.0; total time=   0.3s\n",
      "[CV] END learning_rate=0.1, max_depth=5, min_samples_leaf=3, min_samples_split=4, n_estimators=100, subsample=0.9; total time=   0.1s\n",
      "[CV] END learning_rate=0.1, max_depth=5, min_samples_leaf=3, min_samples_split=4, n_estimators=100, subsample=1.0; total time=   0.1s\n",
      "[CV] END learning_rate=0.1, max_depth=5, min_samples_leaf=3, min_samples_split=4, n_estimators=200, subsample=0.8; total time=   0.2s\n",
      "[CV] END learning_rate=0.1, max_depth=5, min_samples_leaf=3, min_samples_split=4, n_estimators=200, subsample=1.0; total time=   0.2s\n",
      "[CV] END learning_rate=0.1, max_depth=5, min_samples_leaf=3, min_samples_split=4, n_estimators=300, subsample=0.8; total time=   0.3s\n",
      "[CV] END learning_rate=0.1, max_depth=5, min_samples_leaf=3, min_samples_split=4, n_estimators=300, subsample=0.9; total time=   0.3s\n",
      "[CV] END learning_rate=0.2, max_depth=3, min_samples_leaf=1, min_samples_split=2, n_estimators=100, subsample=0.8; total time=   0.1s\n",
      "[CV] END learning_rate=0.2, max_depth=3, min_samples_leaf=1, min_samples_split=2, n_estimators=100, subsample=0.8; total time=   0.1s\n",
      "[CV] END learning_rate=0.2, max_depth=3, min_samples_leaf=1, min_samples_split=2, n_estimators=100, subsample=0.9; total time=   0.1s\n",
      "[CV] END learning_rate=0.2, max_depth=3, min_samples_leaf=1, min_samples_split=2, n_estimators=100, subsample=1.0; total time=   0.1s\n",
      "[CV] END learning_rate=0.2, max_depth=3, min_samples_leaf=1, min_samples_split=2, n_estimators=200, subsample=0.9; total time=   0.1s\n",
      "[CV] END learning_rate=0.2, max_depth=3, min_samples_leaf=1, min_samples_split=2, n_estimators=200, subsample=1.0; total time=   0.2s\n",
      "[CV] END learning_rate=0.2, max_depth=3, min_samples_leaf=1, min_samples_split=2, n_estimators=300, subsample=0.8; total time=   0.2s\n",
      "[CV] END learning_rate=0.2, max_depth=3, min_samples_leaf=1, min_samples_split=2, n_estimators=300, subsample=1.0; total time=   0.2s\n",
      "[CV] END learning_rate=0.2, max_depth=3, min_samples_leaf=1, min_samples_split=3, n_estimators=100, subsample=0.8; total time=   0.1s\n",
      "[CV] END learning_rate=0.2, max_depth=3, min_samples_leaf=1, min_samples_split=3, n_estimators=100, subsample=0.9; total time=   0.1s\n",
      "[CV] END learning_rate=0.2, max_depth=3, min_samples_leaf=1, min_samples_split=3, n_estimators=100, subsample=1.0; total time=   0.1s\n",
      "[CV] END learning_rate=0.2, max_depth=3, min_samples_leaf=1, min_samples_split=3, n_estimators=200, subsample=0.8; total time=   0.1s\n",
      "[CV] END learning_rate=0.2, max_depth=3, min_samples_leaf=1, min_samples_split=3, n_estimators=200, subsample=0.9; total time=   0.1s\n",
      "[CV] END learning_rate=0.2, max_depth=3, min_samples_leaf=1, min_samples_split=3, n_estimators=300, subsample=0.8; total time=   0.2s\n",
      "[CV] END learning_rate=0.2, max_depth=3, min_samples_leaf=1, min_samples_split=3, n_estimators=300, subsample=0.9; total time=   0.2s\n",
      "[CV] END learning_rate=0.2, max_depth=3, min_samples_leaf=1, min_samples_split=3, n_estimators=300, subsample=1.0; total time=   0.2s\n",
      "[CV] END learning_rate=0.2, max_depth=3, min_samples_leaf=1, min_samples_split=4, n_estimators=100, subsample=1.0; total time=   0.1s\n",
      "[CV] END learning_rate=0.2, max_depth=3, min_samples_leaf=1, min_samples_split=4, n_estimators=200, subsample=0.8; total time=   0.1s\n",
      "[CV] END learning_rate=0.2, max_depth=3, min_samples_leaf=1, min_samples_split=4, n_estimators=200, subsample=0.9; total time=   0.1s\n",
      "[CV] END learning_rate=0.2, max_depth=3, min_samples_leaf=1, min_samples_split=4, n_estimators=200, subsample=1.0; total time=   0.2s\n",
      "[CV] END learning_rate=0.2, max_depth=3, min_samples_leaf=1, min_samples_split=4, n_estimators=300, subsample=0.9; total time=   0.2s\n",
      "[CV] END learning_rate=0.2, max_depth=3, min_samples_leaf=1, min_samples_split=4, n_estimators=300, subsample=1.0; total time=   0.2s\n",
      "[CV] END learning_rate=0.2, max_depth=3, min_samples_leaf=2, min_samples_split=2, n_estimators=100, subsample=0.9; total time=   0.1s\n",
      "[CV] END learning_rate=0.2, max_depth=3, min_samples_leaf=2, min_samples_split=2, n_estimators=100, subsample=1.0; total time=   0.1s\n",
      "[CV] END learning_rate=0.2, max_depth=3, min_samples_leaf=2, min_samples_split=2, n_estimators=200, subsample=0.9; total time=   0.1s\n",
      "[CV] END learning_rate=0.2, max_depth=3, min_samples_leaf=2, min_samples_split=2, n_estimators=200, subsample=1.0; total time=   0.2s\n",
      "[CV] END learning_rate=0.2, max_depth=3, min_samples_leaf=2, min_samples_split=2, n_estimators=300, subsample=0.8; total time=   0.2s\n",
      "[CV] END learning_rate=0.2, max_depth=3, min_samples_leaf=2, min_samples_split=2, n_estimators=300, subsample=1.0; total time=   0.2s\n",
      "[CV] END learning_rate=0.2, max_depth=3, min_samples_leaf=2, min_samples_split=3, n_estimators=100, subsample=0.8; total time=   0.1s\n",
      "[CV] END learning_rate=0.2, max_depth=3, min_samples_leaf=2, min_samples_split=3, n_estimators=100, subsample=0.8; total time=   0.1s\n",
      "[CV] END learning_rate=0.2, max_depth=3, min_samples_leaf=2, min_samples_split=3, n_estimators=100, subsample=0.9; total time=   0.1s\n",
      "[CV] END learning_rate=0.2, max_depth=3, min_samples_leaf=2, min_samples_split=3, n_estimators=200, subsample=0.8; total time=   0.1s\n",
      "[CV] END learning_rate=0.2, max_depth=3, min_samples_leaf=2, min_samples_split=3, n_estimators=200, subsample=1.0; total time=   0.1s\n",
      "[CV] END learning_rate=0.2, max_depth=3, min_samples_leaf=2, min_samples_split=3, n_estimators=300, subsample=0.8; total time=   0.2s\n",
      "[CV] END learning_rate=0.2, max_depth=3, min_samples_leaf=2, min_samples_split=3, n_estimators=300, subsample=0.9; total time=   0.2s\n",
      "[CV] END learning_rate=0.2, max_depth=3, min_samples_leaf=2, min_samples_split=4, n_estimators=100, subsample=0.8; total time=   0.1s\n",
      "[CV] END learning_rate=0.2, max_depth=3, min_samples_leaf=2, min_samples_split=4, n_estimators=100, subsample=0.8; total time=   0.1s\n",
      "[CV] END learning_rate=0.2, max_depth=3, min_samples_leaf=2, min_samples_split=4, n_estimators=100, subsample=1.0; total time=   0.1s\n",
      "[CV] END learning_rate=0.2, max_depth=3, min_samples_leaf=2, min_samples_split=4, n_estimators=200, subsample=0.8; total time=   0.2s\n",
      "[CV] END learning_rate=0.2, max_depth=3, min_samples_leaf=2, min_samples_split=4, n_estimators=200, subsample=0.9; total time=   0.1s\n",
      "[CV] END learning_rate=0.2, max_depth=3, min_samples_leaf=2, min_samples_split=4, n_estimators=300, subsample=0.8; total time=   0.2s\n",
      "[CV] END learning_rate=0.2, max_depth=3, min_samples_leaf=2, min_samples_split=4, n_estimators=300, subsample=0.9; total time=   0.2s\n",
      "[CV] END learning_rate=0.2, max_depth=3, min_samples_leaf=2, min_samples_split=4, n_estimators=300, subsample=1.0; total time=   0.2s\n",
      "[CV] END learning_rate=0.2, max_depth=3, min_samples_leaf=3, min_samples_split=2, n_estimators=100, subsample=1.0; total time=   0.1s\n",
      "[CV] END learning_rate=0.2, max_depth=3, min_samples_leaf=3, min_samples_split=2, n_estimators=200, subsample=0.8; total time=   0.2s\n",
      "[CV] END learning_rate=0.2, max_depth=3, min_samples_l01, max_depth=5, min_samples_leaf=2, min_samples_split=4, n_estimators=100, subsample=0.9; total time=   0.1s\n",
      "[CV] END learning_rate=0.01, max_depth=5, min_samples_leaf=2, min_samples_split=4, n_estimators=200, subsample=0.8; total time=   0.2s\n",
      "[CV] END learning_rate=0.01, max_depth=5, min_samples_leaf=2, min_samples_split=4, n_estimators=200, subsample=0.8; total time=   0.3s\n",
      "[CV] END learning_rate=0.01, max_depth=5, min_samples_leaf=2, min_samples_split=4, n_estimators=300, subsample=1.0; total time=   0.5s\n",
      "[CV] END learning_rate=0.01, max_depth=5, min_samples_leaf=2, min_samples_split=4, n_estimators=300, subsample=1.0; total time=   0.5s\n",
      "[CV] END learning_rate=0.01, max_depth=5, min_samples_leaf=3, min_samples_split=2, n_estimators=300, subsample=0.9; total time=   0.5s\n",
      "[CV] END learning_rate=0.01, max_depth=5, min_samples_leaf=3, min_samples_split=2, n_estimators=300, subsample=0.9; total time=   0.5s\n",
      "[CV] END learning_rate=0.01, max_depth=5, min_samples_leaf=3, min_samples_split=3, n_estimators=300, subsample=0.9; total time=   0.5s\n",
      "[CV] END learning_rate=0.01, max_depth=5, min_samples_leaf=3, min_samples_split=3, n_estimators=300, subsample=1.0; total time=   0.6s\n",
      "[CV] END learning_rate=0.01, max_depth=5, min_samples_leaf=3, min_samples_split=4, n_estimators=300, subsample=0.8; total time=   0.4s\n",
      "[CV] END learning_rate=0.01, max_depth=5, min_samples_leaf=3, min_samples_split=4, n_estimators=300, subsample=0.9; total time=   0.4s\n",
      "[CV] END learning_rate=0.1, max_depth=3, min_samples_leaf=1, min_samples_split=2, n_estimators=300, subsample=0.9; total time=   0.3s\n",
      "[CV] END learning_rate=0.1, max_depth=3, min_samples_leaf=1, min_samples_split=2, n_estimators=300, subsample=0.9; total time=   0.2s\n",
      "[CV] END learning_rate=0.1, max_depth=3, min_samples_leaf=1, min_samples_split=3, n_estimators=200, subsample=0.9; total time=   0.2s\n",
      "[CV] END learning_rate=0.1, max_depth=3, min_samples_leaf=1, min_samples_split=3, n_estimators=200, subsample=1.0; total time=   0.3s\n",
      "[CV] END learning_rate=0.1, max_depth=3, min_samples_leaf=1, min_samples_split=4, n_estimators=100, subsample=0.9; total time=   0.1s\n",
      "[CV] END learning_rate=0.1, max_depth=3, min_samples_leaf=1, min_samples_split=4, n_estimators=100, subsample=0.9; total time=   0.2s\n",
      "[CV] END learning_rate=0.1, max_depth=3, min_samples_leaf=1, min_samples_split=4, n_estimators=200, subsample=0.8; total time=   0.2s\n",
      "[CV] END learning_rate=0.1, max_depth=3, min_samples_leaf=1, min_samples_split=4, n_estimators=200, subsample=0.9; total time=   0.2s\n",
      "[CV] END learning_rate=0.1, max_depth=3, min_samples_leaf=2, min_samples_split=2, n_estimators=100, subsample=0.8; total time=   0.1s\n",
      "[CV] END learning_rate=0.1, max_depth=3, min_samples_leaf=2, min_samples_split=2, n_estimators=100, subsample=0.9; total time=   0.1s\n",
      "[CV] END learning_rate=0.1, max_depth=3, min_samples_leaf=2, min_samples_split=2, n_estimators=200, subsample=0.8; total time=   0.3s\n",
      "[CV] END learning_rate=0.1, max_depth=3, min_samples_leaf=2, min_samples_split=2, n_estimators=200, subsample=0.8; total time=   0.2s\n",
      "[CV] END learning_rate=0.1, max_depth=3, min_samples_leaf=2, min_samples_split=3, n_estimators=100, subsample=0.8; total time=   0.1s\n",
      "[CV] END learning_rate=0.1, max_depth=3, min_samples_leaf=2, min_samples_split=3, n_estimators=100, subsample=0.8; total time=   0.1s\n",
      "[CV] END learning_rate=0.1, max_depth=3, min_samples_leaf=2, min_samples_split=3, n_estimators=100, subsample=1.0; total time=   0.1s\n",
      "[CV] END learning_rate=0.1, max_depth=3, min_samples_leaf=2, min_samples_split=3, n_estimators=100, subsample=1.0; total time=   0.1s\n",
      "[CV] END learning_rate=0.1, max_depth=3, min_samples_leaf=2, min_samples_split=3, n_estimators=300, subsample=0.8; total time=   0.3s\n",
      "[CV] END learning_rate=0.1, max_depth=3, min_samples_leaf=2, min_samples_split=3, n_estimators=300, subsample=0.8; total time=   0.4s\n",
      "[CV] END learning_rate=0.1, max_depth=3, min_samples_leaf=2, min_samples_split=4, n_estimators=300, subsample=0.8; total time=   learning_rate=0.01, max_depth=4, min_samples_leaf=1, min_samples_split=2, n_estimators=100, subsample=0.9; total time=   0.2s\n",
      "[CV] END learning_rate=0.01, max_depth=4, min_samples_leaf=1, min_samples_split=2, n_estimators=100, subsample=1.0; total time=   0.1s\n",
      "[CV] END learning_rate=0.01, max_depth=4, min_samples_leaf=1, min_samples_split=2, n_estimators=200, subsample=1.0; total time=   0.2s\n",
      "[CV] END learning_rate=0.01, max_depth=4, min_samples_leaf=1, min_samples_split=2, n_estimators=300, subsample=0.8; total time=   0.4s\n",
      "[CV] END learning_rate=0.01, max_depth=4, min_samples_leaf=1, min_samples_split=3, n_estimators=200, subsample=0.9; total time=   0.3s\n",
      "[CV] END learning_rate=0.01, max_depth=4, min_samples_leaf=1, min_samples_split=3, n_estimators=200, subsample=0.9; total time=   0.2s\n",
      "[CV] END learning_rate=0.01, max_depth=4, min_samples_leaf=1, min_samples_split=4, n_estimators=100, subsample=0.8; total time=   0.1s\n",
      "[CV] END learning_rate=0.01, max_depth=4, min_samples_leaf=1, min_samples_split=4, n_estimators=100, subsample=0.8; total time=   0.1s\n",
      "[CV] END learning_rate=0.01, max_depth=4, min_samples_leaf=1, min_samples_split=4, n_estimators=200, subsample=0.8; total time=   0.2s\n",
      "[CV] END learning_rate=0.01, max_depth=4, min_samples_leaf=1, min_samples_split=4, n_estimators=200, subsample=0.9; total time=   0.3s\n",
      "[CV] END learning_rate=0.01, max_depth=4, min_samples_leaf=2, min_samples_split=2, n_estimators=100, subsample=0.8; total time=   0.2s\n",
      "[CV] END learning_rate=0.01, max_depth=4, min_samples_leaf=2, min_samples_split=2, n_estimators=100, subsample=0.9; total time=   0.1s\n",
      "[CV] END learning_rate=0.01, max_depth=4, min_samples_leaf=2, min_samples_split=2, n_estimators=200, subsample=0.9; total time=   0.3s\n",
      "[CV] END learning_rate=0.01, max_depth=4, min_samples_leaf=2, min_samples_split=2, n_estimators=200, subsample=0.9; total time=   0.2s\n",
      "[CV] END learning_rate=0.01, max_depth=4, min_samples_leaf=2, min_samples_split=2, n_estimators=300, subsample=1.0; total time=   0.4s\n",
      "[CV] END learning_rate=0.01, max_depth=4, min_samples_leaf=2, min_samples_split=3, n_estimators=100, subsample=0.8; total time=   0.1s\n",
      "[CV] END learning_rate=0.01, max_depth=4, min_samples_leaf=2, min_samples_split=3, n_estimators=200, subsample=1.0; total time=   0.4s\n",
      "[CV] END learning_rate=0.01, max_depth=4, min_samples_leaf=2, min_samples_split=3, n_estimators=300, subsample=0.8; total time=   0.3s\n",
      "[CV] END learning_rate=0.01, max_depth=4, min_samples_leaf=2, min_samples_split=4, n_estimators=100, subsample=1.0; total time=   0.2s\n",
      "[CV] END learning_rate=0.01, max_depth=4, min_samples_leaf=2, min_samples_split=4, n_estimators=200, subsample=0.8; total time=   0.2s\n",
      "[CV] END learning_rate=0.01, max_depth=4, min_samples_leaf=2, min_samples_split=4, n_estimators=300, subsample=1.0; total time=   0.4s\n",
      "[CV] END learning_rate=0.01, max_depth=4, min_samples_leaf=2, min_samples_split=4, n_estimators=300, subsample=1.0; total time=   0.3s\n",
      "[CV] END learning_rate=0.01, max_depth=4, min_samples_leaf=3, min_samples_split=2, n_estimators=300, subsample=0.9; total time=   0.4s\n",
      "[CV] END learning_rate=0.01, max_depth=4, min_samples_leaf=3, min_samples_split=2, n_estimators=300, subsample=1.0; total time=   0.4s\n",
      "[CV] END learning_rate=0.01, max_depth=4, min_samples_leaf=3, min_samples_split=3, n_estimators=200, subsample=1.0; total time=   0.2s\n",
      "[CV] END learning_rate=0.01, max_depth=4, min_samples_leaf=3, min_samples_split=3, n_estimators=200, subsample=1.0; total time=   0.2s\n",
      "[CV] END learning_rate=0.1, max_depth=4, min_samples_leaf=2, min_samples_split=4, n_estimators=100, subsample=0.8; total time=   0.1s\n",
      "[CV] END learning_rate=0.1, max_depth=4, min_samples_leaf=2, min_samples_split=4, n_estimators=100, subsample=1.0; total time=   0.1s\n",
      "[CV] END learning_rate=0.1, max_depth=4, min_samples_leaf=2, min_samples_split=4, n_estimators=100, subsample=1.0; total time=   0.1s\n",
      "[CV] END learning_rate=0.1, max_depth=4, min_samples_leaf=2, min_samples_split=4, n_estimators=200, subsample=0.9; total time=   0.2s\n",
      "[CV] END learning_rate=0.1, max_depth=4, min_samples_leaf=2, min_samples_split=4, n_estimators=200, subsample=0.9; total time=   0.2s\n",
      "[CV] END learning_rate=0.1, max_depth=4, min_samples_leaf=2, min_samples_split=4, n_estimators=300, subsample=0.9; total time=   0.3s\n",
      "[CV] END learning_rate=0.1, max_depth=4, min_samples_leaf=2, min_samples_split=4, n_estimators=300, subsample=0.9; total time=   0.3s\n",
      "[CV] END learning_rate=0.1, max_depth=4, min_samples_leaf=3, min_samples_split=2, n_estimators=100, subsample=0.9; total time=   0.1s\n",
      "[CV] END learning_rate=0.1, max_depth=4, min_samples_leaf=3, min_samples_split=2, n_estimators=100, subsample=0.9; total time=   0.1s\n",
      "[CV] END learning_rate=0.1, max_depth=4, min_samples_leaf=3, min_samples_split=2, n_estimators=200, subsample=0.8; total time=   0.2s\n",
      "[CV] END learning_rate=0.1, max_depth=4, min_samples_leaf=3, min_samples_split=2, n_estimators=200, subsample=0.8; total time=   0.2s\n",
      "[CV] END learning_rate=0.1, max_depth=4, min_samples_leaf=3, min_samples_split=2, n_estimators=300, subsample=0.8; total time=   0.2s\n",
      "[CV] END learning_rate=0.1, max_depth=4, min_samples_leaf=3, min_samples_split=2, n_estimators=300, subsample=0.9; total time=   0.2s\n",
      "[CV] END learning_rate=0.1, max_depth=4, min_samples_leaf=3, min_samples_split=2, n_estimators=300, subsample=1.0; total time=   0.3s\n",
      "[CV] END learning_rate=0.1, max_depth=4, min_samples_leaf=3, min_samples_split=3, n_es"
     ]
    },
    {
     "data": {
      "text/plain": [
       "{'learning_rate': 0.01,\n",
       " 'max_depth': 3,\n",
       " 'min_samples_leaf': 3,\n",
       " 'min_samples_split': 2,\n",
       " 'n_estimators': 200,\n",
       " 'subsample': 0.8}"
      ]
     },
     "execution_count": 9,
     "metadata": {},
     "output_type": "execute_result"
    }
   ],
   "source": [
    "gbm_param_grid = {\n",
    "    'n_estimators': [100, 200, 300],      # Number of boosting stages\n",
    "    'learning_rate': [0.01, 0.1, 0.2],    # Learning rate shrinks the contribution of each tree\n",
    "    'max_depth': [3, 4, 5],               # Maximum depth of the individual regression estimators\n",
    "    'min_samples_split': [2, 3, 4],       # Minimum number of samples required to split a node\n",
    "    'min_samples_leaf': [1, 2, 3],        # Minimum number of samples required at a leaf node\n",
    "    'subsample': [0.8, 0.9, 1.0]          # Fraction of samples to be used for fitting individual base learners\n",
    "}\n",
    "\n",
    "gbm = GradientBoostingRegressor(random_state=42)\n",
    "\n",
    "gbm_grid_search = GridSearchCV(estimator=gbm, param_grid=gbm_param_grid, \n",
    "                               cv=3, n_jobs=-1, verbose=2, scoring='neg_mean_squared_error')\n",
    "\n",
    "gbm_grid_search.fit(X_train, y_train)\n",
    "\n",
    "gbm_grid_search.best_params_\n",
    "\n",
    "\n",
    "gbm_best = GradientBoostingRegressor(\n",
    "    learning_rate=0.01, \n",
    "    max_depth=3, \n",
    "    min_samples_leaf=3, \n",
    "    min_samples_split=2, \n",
    "    n_estimators=200,\n",
    "    subsample=0.8,\n",
    "    random_state=42\n",
    ")\n",
    "\n",
    "gbm_best.fit(X_train, y_train)\n",
    "\n",
    "y_pred_gbm_best = gbm_best.predict(X_test)\n",
    "\n",
    "mse_gbm_best = mean_squared_error(y_test, y_pred_gbm_best)\n",
    "r2_gbm_best = r2_score(y_test, y_pred_gbm_best)\n",
    "\n",
    "mse_gbm_best, r2_gbm_best"
   ]
  },
  {
   "cell_type": "code",
   "execution_count": 10,
   "id": "fcc33f8c",
   "metadata": {},
   "outputs": [
    {
     "name": "stdout",
     "output_type": "stream",
     "text": [
      "timators=100, subsample=0.8; total time=   0.1s\n",
      "[CV] END learning_rate=0.1, max_depth=4, min_samples_leaf=3, min_samples_split=3, n_estimators=200, subsample=0.8; total time=   0.2s\n",
      "[CV] END learning_rate=0.1, max_depth=4, min_samples_leaf=3, min_samples_split=3, n_estimators=200, subsample=0.9; total time=   0.2s\n",
      "[CV] END learning_rate=0.1, max_depth=4, min_samples_leaf=3, min_samples_split=3, n_estimators=300, subsample=0.8; total time=   0.3s\n",
      "[CV] END learning_rate=0.1, max_depth=4, min_samples_leaf=3, min_samples_split=3, n_estimators=300, subsample=0.8; total time=   0.3s\n",
      "[CV] END learning_rate=0.1, max_depth=4, min_samples_leaf=3, min_samples_split=4, n_estimators=100, subsample=0.8; total time=   0.1s\n",
      "[CV] END learning_rate=0.1, max_depth=4, min_samples_leaf=3, min_samples_split=4, n_estimators=100, subsample=0.8; total time=   0.1s\n",
      "[CV] END learning_rate=0.1, max_depth=4, min_samples_leaf=3, min_samples_split=4, n_estimators=100, subsample=1.0; total time=   0.1s\n",
      "[CV] END learning_rate=0.1, max_depth=4, min_samples_leaf=3, min_samples_split=4, n_estimators=100, subsample=1.0; total time=   0.1s\n",
      "[CV] END learning_rate=0.1, max_depth=4, min_samples_leaf=3, min_samples_split=4, n_estimators=200, subsample=0.9; total time=   0.2s\n",
      "[CV] END learning_rate=0.1, max_depth=4, min_samples_leaf=3, min_samples_split=4, n_estimators=200, subsample=0.9; total time=   0.2s\n",
      "[CV] END learning_rate=0.1, max_depth=4, min_samples_leaf=3, min_samples_split=4, n_estimators=300, subsample=0.8; total time=   0.3s\n",
      "[CV] END learning_rate=0.1, max_depth=4, min_samples_leaf=3, min_samples_split=4, n_estimators=300, subsample=0.9; total time=   0.3s\n",
      "[CV] END learning_rate=0.1, max_depth=5, min_samples_leaf=1, min_samples_split=2, n_estimators=100, subsample=0.8; total time=   0.1s\n",
      "[CV] END learning_rate=0.1, max_depth=5, min_samples_leaf=1, min_samples_split=2, n_estimators=100, subsample=0.8; total time=   0.1s\n",
      "[CV] END learning_rate=0.1, max_depth=5, min_samples_leaf=1, min_samples_split=2, n_estimators=200, subsample=0.8; total time=   0.2s\n",
      "[CV] END learning_rate=0.1, max_depth=5, min_samples_leaf=1, min_samples_split=2, n_estimators=200, subsample=0.8; total time=   0.2s\n",
      "[CV] END learning_rate=0.1, max_depth=5, min_samples_leaf=1, min_samples_split=2, n_estimators=200, subsample=1.0; total time=   0.2s\n",
      "[CV] END learning_rate=0.1, max_depth=5, min_samples_leaf=1, min_samples_split=2, n_estimators=300, subsample=0.8; total time=   0.3s\n",
      "[CV] END learning_rate=0.1, max_depth=5, min_samples_leaf=1, min_samples_split=2, n_estimators=300, subsample=1.0; total time=   0.3s\n",
      "[CV] END learning_rate=0.1, max_depth=5, min_samples_leaf=1, min_samples_split=2, n_estimators=300, subsample=1.0; total time=   0.3s\n",
      "[CV] END learning_rate=0.1, max_depth=5, min_samples_leaf=1, min_samples_split=3, n_estimators=200, subsample=0.9; total time=   0.2s\n",
      "[CV] END learning_rate=0.1, max_depth=5, min_samples_leaf=1, min_samples_split=3, n_estimators=200, subsample=0.9; total time=   0.2s\n",
      "[CV] END learning_rate=0.1, max_depth=5, min_samples_leaf=1, min_samples_split=3, n_estimators=300, subsample=0.8; total time=   0.3s\n",
      "[CV] END learning_rate=0.1, max_depth=5, min_samples_leaf=1, min_samples_split=3, n_estimators=300, subsample=0.9; total time=   0.4s\n",
      "[CV] END learning_rate=0.1, max_depth=5, min_samples_leaf=1, min_samples_split=4, n_estimators=100, subsample=0.8; total time=   0.1s\n",
      "[CV] END learning_rate=0.1, max_depth=5, min_samples_leaf=1, min_samples_split=4, n_estimators=100, subsample=0.8; total time=   0.1s\n",
      "[CV] END learning_rate=0.1, max_depth=5, min_samples_leaf=1, min_samples_split=4, n_estimators=100, subsample=1.0; total time=   0.1s\n",
      "[CV] END learning_rate=0.1, max_depth=5, min_samples_leaf=1, min_samples_split=4, n_estimators=100, subsample=1.0; total time=   0.1s\n",
      "[CV] END learning_rate=0.1, max_depth=5, min_samples_leaf=1, min_samples_split=4, n_estimators=200, subsample=1.0; total time=   0.2s\n",
      "[CV] END learning_rate=0.1, max_depth=5, min_samples_leaf=1, min_samples_split=4, n_estimators=200, subsample=1.0; total time=   0.2s\n",
      "[CV] END learning_rate=0.1, max_depth=5, min_samples_leaf=1, min_samples_split=4, n_estimators=300, subsample=0.9; total time=   0.3s\n",
      "[CV] END learning_rate=0.1, max_depth=5, min_samples_leaf=1, min_samples_split=4, n_estimators=300, subsample=1.0; total time=   0.3s\n",
      "[CV] END learning_rate=0.1, max_depth=5, min_samples_leaf=2, min_samples_split=2, n_estimators=100, subsample=1.0; total time=   0.1s\n",
      "[CV] END learning_rate=0.1, max_depth=5, min_samples_leaf=2, min_samples_split=2, n_estimators=100, subsample=1.0; total time=   0.1s\n",
      "[CV] END learning_rate=0.1, max_depth=5, min_samples_leaf=2, min_samples_split=2, n_estimators=200, subsample=0.9; total time=   0.2s\n",
      "[CV] END learning_rate=0.1, max_depth=5, min_samples_leaf=2, min_samples_split=2, n_estimators=200, subsample=0.9; total time=   0.2s\n",
      "[CV] END learning_rate=0.1, max_depth=5, min_samples_leaf=2, min_samples_split=2, n_estimators=300, subsample=0.8; total time=   0.3s\n",
      "[CV] END learning_rate=0.1, max_depth=5, min_samples_leaf=2, min_samples_split=2, n_estimators=300, subsample=0.9; total time=   0.4s\n",
      "[CV] END learning_rate=0.1, max_depth=5, min_samples_leaf=2, min_samples_split=3, n_estimators=100, subsample=0.8; total time=   0.1s\n",
      "[CV] END learning_rate=0.1, max_depth=5, min_samples_leaf=2, min_samples_split=3, n_estimators=100, subsample=0.8; total time=   0.1s\n",
      "[CV] END learning_rate=0.1, max_depth=5, min_samples_leaf=2, min_samples_split=3, n_estimators=100, subsample=0.9; total time=   0.1s\n",
      "[CV] END learning_rate=0.1, max_depth=5, min_samples_leaf=2, min_samples_split=3, n_estimators=100, subsample=1.0; total time=   0.1s\n",
      "[CV] END learning_rate=0.1, max_depth=5, min_samples_leaf=2, min_samples_split=3, n_estimators=200, subsample=0.9; total time=   0.2s\n",
      "[CV] END learning_rate=0.1, max_depth=5, min_samples_leaf=2, min_samples_split=3, n_estimators=200, subsample=0.9; total time=   0.2s\n",
      "[CV] END learning_rate=0.1, max_depth=5, min_samples_leaf=2, min_samples_split=3, n_estimators=300, subsample=0.9; total time=   0.3s\n",
      "[CV] END learning_rate=0.1, max_depth=5, min_samples_leaf=2, min_samples_split=3, n_estimators=300, subsample=0.9; total time=   0.3s\n",
      "[CV] END learning_rate=0.1, max_depth=5, min_samples_leaf=2, min_samples_split=4, n_estimators=100, subsample=0.8; total time=   0.1s\n",
      "[CV] END learning_rate=0.1, max_depth=5, min_samples_leaf=2, min_samples_split=4, n_estimators=100, subsample=0.9; total time=   0.1s\n",
      "[CV] END learning_rate=0.1, max_depth=5, min_samples_leaf=3, min_samples_split=3, n_estimators=100, subsample=0.8; total time=   0.1s\n",
      "[CV] END learning_rate=0.1, max_depth=5, min_samples_leaf=3, min_samples_split=3, n_estimators=100, subsample=0.8; total time=   0.1s\n",
      "[CV] END learning_rate=0.1, max_depth=5, min_samples_leaf=3, min_samples_split=3, n_estimators=100, subsample=0.8; total time=   0.1s\n",
      "[CV] END learning_rate=0.1, max_depth=5, min_samples_leaf=3, min_samples_split=3, n_estimators=100, subsample=0.9; total time=   0.1s\n",
      "[CV] END learning_rate=0.1, max_depth=5, min_samples_leaf=3, min_samples_split=3, n_estimators=100, subsample=1.0; total time=   0.1s\n",
      "[CV] END learning_rate=0.1, max_depth=5, min_samples_leaf=3, min_samples_split=3, n_estimators=200, subsample=0.8; total time=   0.2s\n",
      "[CV] END learning_rate=0.1, max_depth=5, min_samples_leaf=3, min_samples_split=3, n_estimators=200, subsample=0.9; total time=   0.2s\n",
      "[CV] END learning_rate=0.1, max_depth=5, min_samples_leaf=3, min_samples_split=3, n_estimators=300, subsample=0.8; total time=   0.2s\n",
      "[CV] END learning_rate=0.1, max_depth=5, min_samples_leaf=3, min_samples_split=3, n_estimators=300, subsample=0.9; total time=   0.3s\n",
      "[CV] END learning_rate=0.1, max_depth=5, min_samples_leaf=3, min_samples_split=3, n_estimators=300, subsample=1.0; total time=   0.3s\n",
      "[CV] END learning_rate=0.1, max_depth=5, min_samples_leaf=3, min_samples_split=4, n_estimators=100, subsample=0.9; total time=   0.1s\n",
      "[CV] END learning_rate=0.1, max_depth=5, min_samples_leaf=3, min_samples_split=4, n_estimators=200, subsample=0.8; total time=   0.2s\n",
      "[CV] END learning_rate=0.1, max_depth=5, min_samples_leaf=3, min_samples_split=4, n_estimators=200, subsample=0.9; total time=   0.2s\n",
      "[CV] END learning_rate=0.1, max_depth=5, min_samples_leaf=3, min_samples_split=4, n_estimators=200, subsample=1.0; total time=   0.2s\n",
      "[CV] END learning_rate=0.1, max_depth=5, min_samples_leaf=3, min_samples_split=4, n_estimators=300, subsample=0.9; total time=   0.3s\n",
      "[CV] END learning_rate=0.1, max_depth=5, min_s 0.3s\n",
      "[CV] END learning_rate=0.1, max_depth=3, min_samples_leaf=2, min_samples_split=4, n_estimators=300, subsample=0.9; total time=   0.5s\n",
      "[CV] END learning_rate=0.1, max_depth=3, min_samples_leaf=3, min_samples_split=2, n_estimators=300, subsample=0.8; total time=   0.3s\n",
      "[CV] END learning_rate=0.1, max_depth=3, min_samples_leaf=3, min_samples_split=2, n_estimators=300, subsample=0.8; total time=   0.2s\n",
      "[CV] END learning_rate=0.1, max_depth=3, min_samples_lea"
     ]
    },
    {
     "data": {
      "text/plain": [
       "(0.3731099642295275, 0.26891045458954543)"
      ]
     },
     "execution_count": 10,
     "metadata": {},
     "output_type": "execute_result"
    }
   ],
   "source": [
    "gbm_best = GradientBoostingRegressor(\n",
    "    learning_rate=0.01, \n",
    "    max_depth=3, \n",
    "    min_samples_leaf=3, \n",
    "    min_samples_split=2, \n",
    "    n_estimators=200,\n",
    "    subsample=0.8,\n",
    "    random_state=42\n",
    ")\n",
    "\n",
    "gbm_best.fit(X_train, y_train)\n",
    "\n",
    "y_pred_gbm_best = gbm_best.predict(X_test)\n",
    "\n",
    "mse_gbm_best = mean_squared_error(y_test, y_pred_gbm_best)\n",
    "r2_gbm_best = r2_score(y_test, y_pred_gbm_best)\n",
    "\n",
    "mse_gbm_best, r2_gbm_best\n",
    "\n",
    "(0.3731099642295275, 0.26891045458954543)"
   ]
  },
  {
   "cell_type": "markdown",
   "id": "2e734201",
   "metadata": {},
   "source": [
    "## MLP Regressor\n"
   ]
  },
  {
   "cell_type": "code",
   "execution_count": 11,
   "id": "6b746833",
   "metadata": {},
   "outputs": [
    {
     "name": "stdout",
     "output_type": "stream",
     "text": [
      "f=3, min_samples_split=3, n_estimators=200, subsample=0.8; total time=   0.1s\n",
      "[CV] END learning_rate=0.1, max_depth=3, min_samples_leaf=3, min_samples_split=3, n_estimators=200, subsample=0.8; total time=   0.1s\n",
      "[CV] END learning_rate=0.1, max_depth=3, min_samples_leaf=3, min_samples_split=3, n_estimators=300, subsample=0.8; total time=   0.3s\n",
      "[CV] END learning_rate=0.1, max_depth=3, min_samples_leaf=3, min_samples_split=3, n_estimators=300, subsample=0.9; total time=   0.2s\n",
      "[CV] END learning_rate=0.1, max_depth=3, min_samples_leaf=3, min_samples_split=4, n_estimators=100, subsample=0.8; total time=   0.1s\n",
      "[CV] END learning_rate=0.1, max_depth=3, min_samples_leaf=3, min_samples_split=4, n_estimators=100, subsample=0.8; total time=   0.1s\n",
      "[CV] END learning_rate=0.1, max_depth=3, min_samples_leaf=3, min_samples_split=4, n_estimators=200, subsample=0.8; total time=   0.1s\n",
      "[CV] END learning_rate=0.1, max_depth=3, min_samples_leaf=3, min_samples_split=4, n_estimators=200, subsample=0.9; tot"
     ]
    },
    {
     "data": {
      "text/plain": [
       "(0.38224142487767043, 0.2510178329653281)"
      ]
     },
     "execution_count": 11,
     "metadata": {},
     "output_type": "execute_result"
    }
   ],
   "source": [
    "scaler = StandardScaler()\n",
    "X_train_scaled = scaler.fit_transform(X_train)\n",
    "X_test_scaled = scaler.transform(X_test)\n",
    "\n",
    "mlp_reg = MLPRegressor(random_state=42, max_iter=1000)\n",
    "mlp_reg.fit(X_train_scaled, y_train)\n",
    "\n",
    "y_pred_mlp = mlp_reg.predict(X_test_scaled)\n",
    "\n",
    "mse_mlp = mean_squared_error(y_test, y_pred_mlp)\n",
    "r2_mlp = r2_score(y_test, y_pred_mlp)\n",
    "\n",
    "mse_mlp, r2_mlp"
   ]
  },
  {
   "cell_type": "code",
   "execution_count": 12,
   "id": "108f1ada",
   "metadata": {
    "scrolled": true
   },
   "outputs": [
    {
     "name": "stdout",
     "output_type": "stream",
     "text": [
      "Fitting 3 folds for each of 240 candidates, totalling 720 fits\n",
      "al time=   0.1s\n",
      "[CV] END learning_rate=0.1, max_depth=3, min_samples_leaf=3, min_samples_split=4, n_estimators=200, subsample=1.0; total time=   0.1s\n",
      "[CV] END learning_rate=0.1, max_depth=3, min_samples_leaf=3, min_samples_split=4, n_estimators=300, subsample=0.8; total time=   0.2s\n",
      "[CV] END learning_rate=0.1, max_depth=3, min_samples_leaf=3, min_samples_split=4, n_estimators=300, subsample=1.0; total time=   0.2s\n",
      "[CV] END learning_rate=0.1, max_depth=3, min_samples_leaf=3, min_samples_split=4, n_estimators=300, subsample=1.0; totles_leaf=1, min_samples_split=2, n_estimators=300, subsample=1.0; total time=   0.3s\n",
      "[CV] END learning_rate=0.1, max_depth=4, min_samples_leaf=1, min_samples_split=3, n_estimators=100, subsample=0.8; total time=   0.1s\n",
      "[CV] END learning_rate=0.1, max_depth=4, min_samples_leaf=1, min_samples_split=3, n_estimators=200, subsample=0.8; total time=   0.2s\n",
      "[CV] END learning_rate=0.1, max_depth=4, min_samples_leaf=1, min_samples_split=3, n_estimators=200, subsample=0.9; total time=   0.2s\n",
      "[CV] END learning_rate=0.1, max_depth=4, min_samples_leaf=1, min_samples_split=3, n_estimators=300, subsample=0.9; total time=   0.3s\n",
      "[CV] END learning_rate=0.1, max_depth=4, min_samples_leaf=1, min_samples_split=3, n_estimators=300, subsample=0.9; total time=   0.3s\n",
      "[CV] END learning_rate=0.1, max_depth=4, min_samples_leaf=1, min_samples_split=4, n_estimators=100, subsample=0.9; total time=   0.1s\n",
      "[CV] END learning_rate=0.1, max_depth=4, min_samples_leaf=1, min_samples_split=4, n_estimators=100, subsample=0[CV] END learning_rate=0.01, max_depth=4, min_samples_leaf=3, min_samples_split=2, n_estimators=100, subsample=0.9; total time=   0.1s\n",
      "[CV] END learning_rate=0.01, max_depth=4, min_samples_leaf=3, min_samples_split=2, n_estimators=100, subsample=0.9; total time=   0.1s\n",
      "[CV] END learning_rate=0.01, max_depth=4, min_samples_leaf=3, min_samples_split=2, n_estimators=100, subsample=1.0; total time=   0.2s\n",
      "[CV] END learning_rate=0.01, max_depth=4, min_samples_leaf=3, min_samples_split=2, n_estimators=100, subsample=1.0; total time=   0.1s\n",
      "[CV] END learning_rate=0.01, max_depth=4, min_samples_leaf=3, min_samples_split=2, n_estimators=300, subsample=0.9; total time=   0.5s\n",
      "[CV] END learning_rate=0.01, max_depth=4, min_samples_leaf=3, min_samples_split=2, n_estimators=300, subsample=0.9; total time=   0.4s\n",
      "[CV] END learning_rate=0.01, max_depth=4, min_samples_leaf=3, min_samples_split=3, n_estimators=300, subsample=0.8; total time=   0.3s\n",
      "[CV] END learning_rate=0.01, max_depth=4, min_samples_leaf=3, min_samples_split=3, n_estimators=300, subsample=0.9; total time=   0.3s\n",
      "[CV] END learning_rate=0.01, max_depth=4, min_samples_leaf=3, min_samples_split=4, n_estimators=200, subsample=1.0; total time=   0.2s\n",
      "[CV] END learning_rate=0.01, max_depth=4, min_samples_leaf=3, min_samples_split=4, n_estimators=300, subsample=0.8; total time=   0.4s\n",
      "[CV] END learning_rate=0.01, max_depth=5, min_samples_leaf=1, min_samples_split=2, n_estimators=100, subsample=1.0; total time=   0.2s\n",
      "[CV] END learning_rate=0.01, max_depth=5, min_samples_leaf=1, min_samples_split=2, n_estimators=100, subsample=1.0; total time=   0.2s\n",
      "[CV] END learning_rate=0.01, max_depth=5, min_samples_leaf=1, min_samples_split=2, n_estimators=300, subsample=0.8; total time=   0.5s\n",
      "[CV] END learning_rate=0.01, max_depth=5, min_samples_leaf=1, min_samples_split=2, n_estimators=300, subsample=0.8; total time=   0.3s\n",
      "[CV] END learning_rate=0.01, max_depth=5, min_samples_leaf=1, min_samples_split=3, n_estimators=200, subsample=0.8; total time=   0.4s\n",
      "[CV] END learning_rate=0.01, max_depth=5, min_samples_leaf=1, min_samples_split=3, n_estimators=200, subsample=0.8; total time=   0.2s\n",
      "[CV] END learning_rate=0.01, max_depth=5, min_samples_leaf=1, min_samples_split=4, n_estimators=100, subsample=0.8; total time=   0.1s\n",
      "[CV] END learning_rate=0.01, max_depth=5, min_samples_leaf=1, min_samples_split=4, n_estimators=100, subsample=0.8; total time=   0.1s\n",
      "[CV] END learning_rate=0.01, max_depth=5, min_samples_leaf=1, min_samples_split=4, n_estimators=100, subsample=1.0; total time=   0.2s\n",
      "[CV] END learning_rate=0.01, max_depth=5, min_samples_leaf=1, min_samples_split=4, n_estimators=100, subsample=1.0; total time=   0.1s\n",
      "[CV] END learning_rate=0.01, max_depth=5, min_samples_leaf=1, min_samples_split=4, n_estimators=200, subsample=1.0; total time=   0.2s\n",
      "[CV] END learning_rate=0.01, max_depth=5, min_samples_leaf=1, min_samples_split=4, n_estimators=200, subsample=1.0; total time=   0.2s\n",
      "[CV] END learning_rate=0.01, max_depth=5, min_samples_leaf=2, min_samples_split=2, n_estimators=100, subsample=0.9; total time=   0.1s\n",
      "[CV] END learning_rate=0.01, max_depth=5, min_samples_leaf=2, min_samples_split=2, n_estimators=100, subsample=0.9; total time=   0.1s\n",
      "[CV] END learning_rate=0.01, max_depth=5, min_samples_leaf=2, min_samples_split=2, n_estimators=200, subsample=0.8; total time=   0.3s\n",
      "[CV] END learning_rate=0.01, max_depth=5, min_samples_leaf=2, min_samples_split=2, n_estimators=200, subsample=0.8; total time=   0.2s\n",
      "[CV] END learning_rate=0.01, max_depth=5, min_samples_leaf=2, min_samples_split=2, n_estimators=300, subsample=1.0; total time=   0.4s\n",
      "[CV] END learning_rate=0.01, max_depth=5, min_samples_leaf=2, min_samples_split=2, n_estimators=300, subsample=1.0; total time=   0.4s\n",
      "[CV] END learning_rate=0.01, max_depth=5, min_samples_leaf=2, min_samples_split=3, n_estimators=300, subsample=1.0; total time=   0.4s\n",
      "[CV] END learning_rate=0.01, max_depth=5, min_samples_leaf=2, min_samples_split=3, n_estimators=300, subsample=1.0; total time=   0.5s\n",
      "[CV] END learning_rate=0.01, max_depth=5, min_samples_leaf=2, min_samples_split=4, n_estimators=300, subsample=0.9; total time=   0.6s\n",
      "[CV] END learning_rate=0.01, max_depth=5, min_samples_leaf=2, min_samples_split=4, n_estimators=300, subsample=1.0; total time=   0.5s\n",
      "[CV] END learning_rate=0.01, max_depth=5, min_samples_leaf=3, min_samples_split=2, n_estimators=300, subsample=1.0; total time=   0.4s\n",
      "[CV] END learning_rate=0.01, max_depth=5, min_samples_leaf=3, min_samples_split=2, n_estimators=300, subsample=1.0; total time=   0.6s\n",
      "[CV] END learning_rate=0.01, max_depth=5, min_samples_leaf=3, min_samples_split=3, n_estimators=300, subsample=0.8; total time=   0.4s\n",
      "[CV] END learning_rate=0.01, max_depth=5, min_samples_leaf=3, min_samples_split=3, n_estimators=300, subsample=0.8; total time=   0.5s\n",
      "[CV] END learning_rate=0.01, max_depth=5, min_samples_leaf=3, min_samples_split=4, n_estimators=200, subsample=0.9; total time=   0.3s\n",
      "[CV] amples_leaf=3, min_samples_split=4, n_estimators=300, subsample=1.0; total time=   0.3s\n",
      "[CV] END learning_rate=0.2, max_depth=3, min_samples_leaf=1, min_samples_split=2, n_estimators=100, subsample=0.9; total time=   0.1s\n",
      "[CV] END learning_rate=0.2, max_depth=3, min_samples_leaf=1, min_samples_split=2, n_estimators=100, subsample=1.0; total time=   0.1s\n",
      "[CV] END learning_rate=0.2, max_depth=3, min_samples_leaf=1, min_samples_split=2, n_estimators=200, subsample=0.8; total time=   0.1s\n",
      "[CV] END learning_rate=0.2, max_depth=3, min_samples_leaf=1, min_samples_split=2, n_estimators=200, subsample=0.9; total time=   0.1s\n",
      "[CV] END learning_rate=0.2, max_depth=3, min_samples_leaf=1, min_samples_split=2, n_estimators=300, subsample=0.8; total time=   0.2s\n",
      "[CV] END learning_rate=0.2, max_depth=3, min_samples_leaf=1, min_samples_split=2, n_estimators=300, subsample=0.9; total time=   0.2s\n",
      "[CV] END learning_rate=0.2, max_depth=3, min_samples_leaf=1, min_samples_split=3, n_estimators=100, subsample=0.8; total time=   0.1s\n",
      "[CV] END learning_rate=0.2, max_depth=3, min_samples_leaf=1, min_samples_split=3, n_estimators=100, subsample=0.8; total time=   0.1s\n",
      "[CV] END learning_rate=0.2, max_depth=3, min_samples_leaf=1, min_samples_split=3, n_estimators=100, subsample=0.9; total time=   0.1s\n",
      "[CV] END learning_rate=0.2, max_depth=3, min_samples_leaf=1, min_samples_split=3, n_estimators=200, subsample=0.8; total time=   0.1s\n",
      "[CV] END learning_rate=0.2, max_depth=3, min_samples_leaf=1, min_samples_split=3, n_estimators=200, subsample=0.9; total time=   0.1s\n",
      "[CV] END learning_rate=0.2, max_depth=3, min_samples_leaf=1, min_samples_split=3, n_estimators=200, subsample=1.0; total time=   0.1s\n",
      "[CV] END learning_rate=0.2, max_depth=3, min_samples_leaf=1, min_samples_split=3, n_estimators=300, subsample=0.9; total time=   0.2s\n",
      "[CV] END learning_rate=0.2, max_depth=3, min_samples_leaf=1, min_samples_split=3, n_estimators=300, subsample=1.0; total time=   0.2s\n",
      "[CV] END learning_rate=0.2, max_depth=3, min_samples_leaf=1, min_samples_split=4, n_estimators=100, subsample=0.9; total time=   0.1s\n",
      "[CV] END learning_rate=0.2, max_depth=3, min_samples_leaf=1, min_samples_split=4, n_estimators=100, subsample=1.0; total time=   0.1s\n",
      "[CV] END learning_rate=0.2, max_depth=3, min_samples_leaf=1, min_samples_split=4, n_estimators=200, subsample=0.8; total time=   0.1s\n",
      "[CV] END learning_rate=0.2, max_depth=3, min_samples_leaf=1, min_samples_split=4, n_estimators=200, subsample=1.0; total time=   0.1s\n",
      "[CV] END learning_rate=0.2, max_depth=3, min_samples_leaf=1, min_samples_split=4, n_estimators=300, subsample=0.8; total time=   0.2s\n",
      "[CV] END learning_rate=0.2, max_depth=3, min_samples_leaf=1, min_samples_split=4, n_estimators=300, subsample=0.9; total time=   0.2s\n",
      "[CV] END learning_rate=0.2, max_depth=3, min_samples_leaf=2, min_samples_split=2, n_estimators=100, subsample=0.8; total time=   0.1s\n",
      "[CV] END learning_rate=0.2, max_depth=3, min_samples_leaf=2, min_samples_split=2, n_estimators=100, subsample=0.8; total time=   0.1s\n",
      "[CV] END learning_rate=0.2, max_depth=3, min_samples_leaf=2, min_samples_split=2, n_estimators=100, subsample=1.0; total time=   0.1s\n",
      "[CV] END learning_rate=0.2, max_depth=3, min_samples_leaf=2, min_samples_split=2, n_estimators=200, subsample=0.8; total time=   0.1s\n",
      "[CV] END learning_rate=0.2, max_depth=3, min_samples_leaf=2, min_samples_split=2, n_estimators=200, subsample=1.0; total time=   0.2s\n",
      "[CV] END learning_rate=0.2, max_depth=3, min_samples_leaf=2, min_samples_split=2, n_estimators=300, subsample=0.8; total time=   0.2s\n",
      "[CV] END learning_rate=0.2, max_depth=3, min_samples_leaf=2, min_samples_split=2, n_estimators=300, subsample=0.9; total time=   0.2s\n",
      "[CV] END learning_rate=0.2, max_depth=3, min_samples_leaf=2, min_samples_split=3, n_estimators=100, subsample=0.8; total time=   0.1s\n",
      "[CV] END learning_rate=0.2, max_depth=3, min_samples_leaf=2, min_samples_split=3, n_estimators=100, subsample=0.9; total time=   0.1s\n",
      "[CV] END learning_rate=0.2, max_depth=3, min_samples_leaf=2, min_samples_split=3, n_estimators=100, subsample=0.9; total time=   0.1s\n",
      "[CV] END learning_rate=0.2, max_depth=3, min_samples_leaf=2, min_samples_split=3, n_estimators=200, subsample=0.8; total time=   0.1s\n",
      "[CV] END learning_rate=0.2, max_depth=3, min_samples_leaf=2, min_samples_split=3, n_estimators=200, subsample=0.9; total time=   0.1s\n",
      "[CV] END learning_rate=0.2, max_depth=3, min_samples_leaf=2, min_samples_split=3, n_estimators=200, subsample=1.0; total time=   0.1s\n",
      "[CV] END learning_rate=0.2, max_depth=3, min_samples_leaf=2, min_samples_split=3, n_estimators=300, subsample=0.9; total time=   0.2s\n",
      "[CV] END learning_rate=0.2, max_depth=3, min_samples_leaf=2, min_samples_split=3, n_estimators=300, subsample=1.0; total time=   0.2s\n",
      "[CV] END learning_rate=0.2, max_depth=3, min_samples_leaf=2, min_samples_split=4, n_estimators=100, subsample=0.9; total time=   0.1s\n",
      "[CV] END learning_rate=0.2, max_depth=3, min_samples_leaf=2, min_samples_split=4, n_estimators=100, subsample=0.9; total time=   0.1s\n",
      "[CV] END learning_rate=0.2, max_depth=3, min_samples_leaf=2, min_samples_split=4, n_estimators=200, subsample=0.8; total time=   0.1s\n",
      "[CV] END learning_rate=0.2, max_depth=3, min_samples_leaf=2, min_samples_split=4, n_estimators=200, subsample=1.0; total time=   0.1s\n",
      "[CV] END learning_rate=0.2, max_depth=3, min_samples_leaf=2, min_samples_split=4, n_estimators=300, subsample=0.8; total time=   0.3s\n",
      "[CV] END learning_rate=0.2, max_depth=3, min_samples_leaf=2, min_samples_split=4, n_estimators=300, subsample=1.0; total time=   0.2s\n",
      "[CV] END learning_rate=0.2, max_depth=3, min_samples_leaf=3, min_samples_split=2, n_estimators=100, subsample=0.8; total time=   0.1s\n",
      "[CV] END learning_rate=0.2, max_depth=3, min_samples_leaf=3, min_samples_split=2, n_estimators=100, subsample=0.9; total time=   0.1s\n",
      "[CV] END learning_rate=0.01, max_depth=4, min_samples_leaf=3, min_samples_split=3, n_estimators=200, subsample=0.8; total time=   0.2s\n",
      "[CV] END learning_rate=0.01, max_depth=4, min_samples_leaf=3, min_samples_split=3, n_estimators=200, subsample=0.8; total time=   0.2s\n",
      "[CV] END learning_rate=0.01, max_depth=4, min_samples_leaf=3, min_samples_split=3, n_estimators=300, subsample=1.0; total time=   0.3s\n",
      "[CV] END learning_rate=0.01, max_depth=4, min_samples_leaf=3, min_samples_split=4, n_estimators=100, subsample=0.8; total time=   0.1s\n",
      "[CV] END learning_rate=0.01, max_depth=4, min_samples_leaf=3, min_samples_split=4, n_estimators=200, subsample=0.9; total time=   0.2s\n",
      "[CV] END learning_rate=0.01, max_depth=4, min_samples_leaf=3, min_samples_split=4, n_estimators=200, subsample=0.9; total time=   0.3s\n",
      "[CV] END learning_rate=0.01, max_depth=5, min_samples_leaf=1, min_samples_split=2, n_estimators=100, subsample=0.8; total time=   0.2s\n",
      "[CV] END learning_rate=0.01, max_depth=5, min_samples_leaf=1, min_samples_split=2, n_estimators=100, subsample=0.9; total time=   0.1s\n",
      "[CV] END learning_rate=0.01, max_depth=5, min_samples_leaf=1, min_samples_split=2, n_estimators=100, subsample=1.0; total time=   0.1s\n",
      "[CV] END learning_rate=0.01, max_depth=5, min_samples_leaf=1, min_samples_split=2, n_estimators=200, subsample=0.8; total time=   0.3s\n",
      "[CV] END learning_rate=0.01, max_depth=5, min_samples_leaf=1, min_samples_split=2, n_estimators=300, subsample=1.0; total time=   0.5s\n",
      "[CV] END learning_rate=0.01, max_depth=5, min_samples_leaf=1, min_samples_split=2, n_estimators=300, subsample=1.0; total time=   0.5s\n",
      "[CV] END learning_rate=0.01, max_depth=5, min_samples_leaf=1, min_samples_split=3, n_estimators=300, subsample=0.9; total time=   0.3s\n",
      "[CV] END learning_rate=0.01, max_depth=5, min_samples_leaf=1, min_samples_split=3, n_estimators=300, subsample=0.9; total time=   0.4s\n",
      "[CV] END learning_rate=0.01, max_depth=5, min_samples_leaf=1, min_samples_split=4, n_estimators=300, subsample=0.8; total time=   0.3s\n",
      "[CV] END learning_rate=0.01, max_depth=5, min_samples_leaf=1, min_samples_split=4, n_estimators=300, subsample=0.9; total time=   0.4s\n",
      "[CV] END learning_rate=0.01, max_depth=5, min_samples_leaf=2, min_samples_split=2, n_estimators=200, subsample=1.0; total time=   0.3s\n",
      "[CV] END learning_rate=0.01, max_depth=5, min_samples_leaf=2, min_samples_split=2, n_estimators=300, subsample=0.8; total time=   0.3s\n",
      "[CV] END learning_rate=0.01, max_depth=5, min_samples_leaf=2, min_samples_split=3, n_estimators=100, subsample=1.0; total time=   0.1s\n",
      "[CV] END learning_rate=0.01, max_depth=5, min_samples_leaf=2, min_samples_split=3, n_estimators=100, subsample=1.0; total time=   0.1s\n",
      "[CV] END learning_rate=0.01, max_depth=5, min_samples_leaf=2, min_samples_split=3, n_estimators=200, subsample=1.0; total time=   0.2s\n",
      "[CV] END learning_rate=0.01, max_depth=5, min_samples_leaf=2, min_samples_split=3, n_estimators=200, subsample=1.0; total time=   0.3s\n",
      "[CV] END learning_rate=0.01, max_depth=5, min_samples_leaf=2, min_samples_split=4, n_estimators=100, subsample=0.9; total time=   0.1s\n",
      "[CV] END learning_rate=0.01, max_depth=5, min_samples_leaf=2, min_samples_split=4, n_estimators=100, subsample=1.0; total time=   0.1s\n",
      "[CV] END learning_rate=0.01, max_depth=5, min_samples_leaf=2, min_samples_split=4, n_estimators=200, subsample=0.8; total time=   0.2s\n",
      "[CV] END learning_rate=0.01, max_depth=5, min_samples_leaf=2, min_samples_split=4, n_estimators=200, subsample=0.9; total time=   0.3s\n",
      "[CV] END learning_rate=0.01, max_depth=5, min_samples_leaf=3, min_samples_split=2, n_estimators=100, subsample=0.8; total time=   0.2s\n",
      "[CV] END learning_rate=0.01, max_depth=5, min_samples_leaf=3, min_samples_split=2, n_estimators=100, subsample=0.8; total time=   0.2s\n",
      "[CV] END learning_rate=0.01, max_depth=5, min_samples_leaf=3, min_samples_split=2, n_estimators=100, subsample=1.0; total time=   0.1s\n",
      "[CV] END learning_rate=0.01, max_depth=5, min_samples_leaf=3, min_samples_split=2, n_estimators=200, subsample=0.8; total time=   0.2s\n",
      "[CV] END learning_rate=0.01, max_depth=5, min_samples_leaf=3, min_samples_split=2, n_estimators=300, subsample=0.8; total time=   0.4s\n",
      "[CV] END learning_rate=0.01, max_depth=5, min_samples_leaf=3, min_samples_split=2, n_estimators=300, subsample=0.9; total time=   0.3s\n",
      "[CV] END learning_rate=0.01, max_depth=5, min_samples_leaf=3, min_samples_split=3, n_estimators=200, subsample=0.8; total time=   0.4s\n",
      "[CV] END learning_rate=0.01, max_depth=5, min_samples_leaf=3, min_samples_split=3, n_estimators=200, subsample=0.8; total time=   0.3s\n",
      "[CV] END learning_rate=0.01, max_depth=5, min_samples_leaf=3, min_samples_split=3, n_estimators=300, subsample=1.0; total time=   0.5s\n",
      "[CV] END learning_rate=0.01, max_depth=5, min_samples_leaf=3, min_samples_split=3, n_estimators=300, subsample=1.0; total time=   0.6s\n",
      "[CV] END learning_rate=0.01, max_depth=5, min_samples_leaf=3, min_samples_split=4, n_estimators=300, subsample=1.0; total time=   0.4s\n",
      "[CV] END learning_rate=0.01, max_depth=5, min_samples_leaf=3, min_samples_split=4, n_estimators=300, subsample=1.0; total time=   0.5s\n",
      "[CV] END learning_rate=0.1, max_depth=3, min_samples_leaf=1, min_samples_split=3, n_estimators=100, subsample=0.8; total time=   0.1s\n",
      "[CV] END learning_rate=0.1, max_depth=3, min_samples_leaf=1, min_samples_split=3, n_estimators=100, subsample=0.8; total time=   0.1s\n",
      "[CV] END learning_rate=0.1, max_depth=3, min_samples_leaf=1, min_samples_split=3, n_estimators=200, subsample=0.8; total time=   0.2s\n",
      "[CV] END learning_rate=0.1, max_depth=3, min_samples_leaf=1, min_samples_split=3, n_estimators=200, subsample=0.8; total time=   0.2s\n",
      "[CV] END learning_rate=0.1, max_depth=3, min_samples_leaf=1, min_samples_split=3, n_estimators=300, subsample=0.9; total time=   0.3s\n",
      "[CV] END learning_rate=0.1, max_depth=3, min_samples_leaf=1, min_samples_split=3, n_estimators=300, subsample=0.9; total time=   0.3s\n",
      "[CV] END learning_rate=0.1, max_depth=3, min_samples_leaf=1, min_samples_split=4, n_estimators=200, subsample=0.9; total time=   0.2s\n",
      "[CV] END learning_rate=0.1, max_depth=3, min_samples_leaf=1, min_samples_split=4, n_estimators=200, subsample=0.9; total time=   0.2s\n",
      "[CV] END learning_rate=0.1, max_depth=3, min_samples_leaf=2, min_samples_split=2, n_estimators=100, subsample=0.8; total time=   0.1s\n",
      "[CV] END learning_rate=0.1, max_depth=3, min_samples_leaf=2, min_samples_split=2, n_estimators=100, subsample=0.8; total time=   0.1s\n",
      "[CV] END learning_rate=0.1, max_depth=3, min_samples_leaf=2, min_samples_split=2, n_estimators=100, subsample=1.0; total time=   0.2s\n",
      "[CV] END learning_rate=0.1, max_depth=3, min_samples_leaf=2, min_samples_split=2, n_estimators=200, subsample=0.8; total time=   0.2s\n",
      "[CV] END learning_rate=0.1, max_depth=3, min_samples_leaf=2, min_samples_split=2, n_estimators=300, subsample=0.9; total time=   0.2s\n",
      "[CV] END learning_rate=0.1, max_depth=3, min_samples_leaf=2, min_samples_split=2, n_estimators=300, subsample=0.9; total time=   0.2s\n",
      "[CV] END learning_rate=0.1, max_depth=3, min_samples_leaf=2, min_samples_split=3, n_estimators=300, subsample=0.9; total time=   0.3s\n",
      "[CV] END learning_rate=0.1, max_depth=3, min_samples_leaf=2, min_samples_split=3, n_estimators=300, subsample=0.9; total time=   0.3s\n",
      "[CV] END learning_rate=0.1, max_depth=3, min_samples_leaf=2, min_samples_split=4, n_estimators=200, subsample=1.0; total time=   0.2s\n",
      "[CV] END learning_rate=0.1, max_depth=3, min_samples_leaf=2, min_samples_split=4, n_estimators=200, subsample=1.0; total time=   0.2s\n",
      "[CV] END learning_rate=0.1, max_depth=3, min_samples_leaf=3, min_samples_split=2, n_estimators=100, subsample=0.9; total time=   0.2s\n",
      "[CV] END learning_rate=0.1, max_depth=3, min_samples_leaf=3, min_samples_split=2, n_estimators=100, subsample=1.0; total time=   0.1s\n",
      "[CV] END learning_rate=0.1, max_depth=3, min_samples_leaf=3, min_samples_split=2, n_estimators=200, subsample=0.8; total time=   0.2s\n",
      "[CV] END learning_rate=0.1, max_depth=3, min_samples_leaf=3, min_samples_split=2, n_estimators=200, subsample=0.9; total time=   0.2s\n",
      "[CV] END learning_rate=0.1, max_depth=3, min_samples_leaf=3, min_samples_split=3, n_estimators=100, subsample=0.8; total time=   0.1s\n",
      "[CV] END learning_rate=0.1, max_depth=3, min_samples_leaf=3, min_samples_split=3, n_estimators=100, subsample=0.8; total time=   0.1s\n",
      "[CV] END learning_rate=0.1, max_depth=5, min_samples_leaf=3, min_samples_split=2, n_estimators=300, subsample=1.0; total time=   0.3s\n",
      "[CV] END learning_rate=0.1, max_depth=5, min_samples_leaf=3, min_samples_split=2, n_estimators=300, subsample=1.0; total time=   0.3s\n",
      "[CV] END learning_rate=0.1, max_depth=5, min_samples_leaf=3, min_samples_split=3, n_estimators=100, subsample=1.0; total time=   0.1s\n",
      "[CV] END learning_rate=0.1, max_depth=5, min_samples_leaf=3, min_samples_split=3, n_estimators=200, subsample=0.8; total time=   0.2s\n",
      "[CV] END learning_rate=0.1, max_depth=5, min_samples_leaf=3, min_samples_split=3, n_estimators=200, subsample=1.0; total time=   0.2s\n",
      "[CV] END learning_rate=0.1, max_depth=5, min_samples_leaf=3, min_samples_split=3, n_estimators=300, subsample=0.8; total time=   0.2s\n",
      "[CV] END learning_rate=0.1, max_depth=5, min_samples_leaf=3, min_samples_split=3, n_estimators=300, subsample=0.9; total time=   0.4s\n",
      "[CV] END learning_rate=0.1, max_depth=5, min_samples_leaf=3, min_samples_split=4, n_estimators=100, subsample=0.8; total time=   0.1s\n",
      "[CV] END learning_rate=0.1, max_depth=5, min_samples_leaf=3, min_samples_split=4, n_estimators=100, subsample=0.9; total time=   0.1s\n",
      "[CV] END learning_rate=0.1, max_depth=5, min_samples_leaf=3, min_samples_split=4, n_estimators=100, subsample=1.0; total time=   0.1s\n",
      "[CV] END learning_rate=0.1, max_depth=5, min_samples_leaf=3, min_samples_split=4, n_estimators=200, subsample=0.9; total time=   0.2s\n",
      "[CV] END learning_rate=0.1, max_depth=5, min_samples_leaf=3, min_samples_split=4, n_estimators=200, subsample=1.0; total time=   0.2s\n",
      "[CV] END learning_rate=0.1, max_depth=5, min_samples_leaf=3, min_samples_split=4, n_estimators=300, subsample=0.8; total time=   0.3s\n",
      "[CV] END learning_rate=0.1, max_depth=5, min_samples_leaf=3, min_samples_split=4, n_estimators=300, subsample=1.0; total time=   0.3s\n",
      "[CV] END learning_rate=0.2, max_depth=3, min_samples_leaf=1, min_samples_split=2, n_estimators=100, subsample=0.8; total time=   0.1s\n",
      "[CV] END learning_rate=0.2, max_depth=3, min_samples_leaf=1, min_samples_split=2, n_estimators=100, subsample=0.9; total time=   0.1s\n",
      "[CV] END learning_rate=0.2, max_depth=3, min_samples_leaf=1, min_samples_split=2, n_estimators=100, subsample=1.0; total time=   0.1s\n",
      "[CV] END learning_rate=0.2, max_depth=3, min_samples_leaf=1, min_samples_split=2, n_estimators=200, subsample=0.8; total time=   0.1s\n",
      "[CV] END learning_rate=0.2, max_depth=3, min_samples_leaf=1, min_samples_split=2, n_estimators=200, subsample=1.0; total time=   0.1s\n",
      "[CV] END learning_rate=0.2, max_depth=3, min_samples_leaf=1, min_samples_split=2, n_estimators=200, subsample=1.0; total time=   0.1s\n",
      "[CV] END learning_rate=0.2, max_depth=3, min_samples_leaf=1, min_samples_split=2, n_estimators=300, subsample=0.9; total time=   0.2s\n",
      "[CV] END learning_rate=0.2, max_depth=3, min_samples_leaf=1, min_samples_split=2, n_estimators=300, subsample=1.0; total time=   0.2s\n",
      "[CV] END learning_rate=0.2, max_depth=3, min_samples_leaf=1, min_samples_split=3, n_estimators=100, subsample=0.9; total time=   0.1s\n",
      "[CV] END learning_rate=0.2, max_depth=3, min_samples_leaf=1, min_samples_split=3, n_estimators=100, subsample=1.0; total time=   0.1s\n",
      "[CV] END learning_rate=0.2, max_depth=3, min_samples_leaf=1, min_samples_split=3, n_estimators=200, subsample=0.9; total time=   0.1s\n",
      "[CV] END learning_rate=0.2, max_depth=3, min_samples_leaf=1, min_samples_split=3, n_estimators=200, subsample=1.0; total time=   0.1s\n",
      "[CV] END learning_rate=0.2, max_depth=3, min_samples_leaf=1, min_samples_split=3, n_estimators=300, subsample=0.8; total time=   0.2s\n",
      "[CV] END learning_rate=0.2, max_depth=3, min_samples_leaf=1, min_samples_split=3, n_estimators=300, subsample=0.9; total time=   0.2s\n",
      "[CV] END learning_rate=0.2, max_depth=3, min_samples_leaf=1, min_samples_split=4, n_estimators=100, subsample=0.8; total time=   0.1s\n",
      "[CV] END learning_rate=0.2, max_depth=3, min_samples_leaf=1, min_samples_split=4, n_estimators=100, subsample=0.8; total time=   0.1s\n",
      "[CV] END learning_rate=0.2, max_depth=3, min_samples_leaf=1, min_samples_split=4, n_estimators=100, subsample=0.9; total time=   0.1s\n",
      "[CV] END learning_rate=0.2, max_depth=3, min_samples_leaf=1, min_samples_split=4, n_estimators=200, subsample=0.8; total time=   0.1s\n",
      "[CV] END learning_rate=0.2, max_depth=3, min_samples_leaf=1, min_samples_split=4, n_estimators=200, subsample=0.9; total time=   0.1s\n",
      "[CV] END learning_rate=0.2, max_depth=3, min_samples_leaf=1, min_samples_split=4, n_estimators=300, subsample=0.8; total time=   0.2s\n",
      "[CV] END learning_rate=0.2, max_depth=3, min_samples_leaf=1, min_samples_split=4, n_estimators=300, subsample=0.9; total time=   0.2s\n",
      "[CV] END learning_rate=0.2, max_depth=3, min_samples_leaf=1, min_samples_split=4, n_estimators=300, subsample=1.0; total time=   0.2s\n",
      "[CV] END learning_rate=0.2, max_depth=3, min_samples_leaf=2, min_samples_split=2, n_estimators=100, subsample=0.9; total time=   0.1s\n",
      "[CV] END learning_rate=0.2, max_depth=3, min_samples_leaf=2, min_samples_split=2, n_estimators=200, subsample=0.8; total time=   0.1s\n",
      "[CV] END learning_rate=0.2, max_depth=3, min_samples_leaf=2, min_samples_split=2, n_estimators=200, subsample=0.9; total time=   0.2s\n",
      "[CV] END learning_rate=0.2, max_depth=3, min_samples_leaf=2, min_samples_split=2, n_estimators=300, subsample=0.8; total time=   0.2s\n",
      "[CV] END learning_rate=0.2, max_depth=3, min_samples_leaf=2, min_samples_split=2, n_estimators=300, subsample=0.9; total time=   0.2s\n",
      "[CV] END learning_rate=0.2, max_depth=3, min_samples_leaf=2, min_samples_split=2, n_estimators=300, subsample=1.0; total time=   0.2s\n",
      "[CV] END learning_rate=0.2, max_depth=3, min_samples_leaf=2, min_samples_split=3, n_estimators=100, subsample=1.0; total time=   0.1s\n",
      "[CV] END learning_rate=0.2, max_depth=3, min_samples_leaf=2, min_samples_split=3, n_estimators=200, subsample=0.8; total time=   0.1s\n",
      "[CV] END learning_rate=0.2, max_depth=3, min_samples_leaf=2, min_samples_split=3, n_estimators=200, subsample=0.9; total time=   0.1s\n",
      "[CV] END learning_rate=0.2, max_depth=3, min_samples_leaf=2, min_samples_split=3, n_estimators=300, subsample=0.8; total time=   0.2s\n",
      "[CV] END learning_rate=0.2, max_depth=3, min_samples_leaf=2, min_samples_split=3, n_estimators=300, subsample=0.9; total time=   0.2s\n",
      "[CV] END learning_rate=0.2, max_depth=3, min_samples_leaf=2, min_samples_split=3, n_estimators=300, subsample=1.0; total time=   0.2s\n",
      "[CV] END learning_rate=0.2, max_depth=3, min_samples_leaf=2, min_samples_split=4, n_estimators=100, subsample=1.0; total time=   0.1s\n",
      "[CV] END learning_rate=0.2, max_depth=3, min_samples_leaf=2, min_samples_split=4, n_estimators=200, subsample=0.8; total time=   0.1s\n",
      "[CV] END learning_rate=0.2, max_depth=3, min_samples_leaf=2, min_samples_split=4, n_estimators=200, subsample=0.9; total time=   0.1s\n",
      "[CV] END learning_rate=0.2, max_depth=3, min_samples_leaf=2, min_samples_split=4, n_estimators=200, subsample=1.0; total time=   0.1s\n",
      "[CV] END learning_rate=0.2, max_depth=3, min_samples_leaf=2, min_samples_split=4, n_estimators=300, subsample=0.9; total time=   0.2s\n",
      "[CV] END learning_rate=0.2, max_depth=3, min_samples_leaf=2, min_samples_split=4, n_estimators=300, subsample=1.0; total time=   0.2s\n",
      "[CV] END learning_rate=0.2, max_depth=3, min_samples_leaf=3, min_samples_split=2, n_estimators=100, subsample=0.8; total time=   0.1s\n",
      "[CV] END learning_rate=0.2, max_depth=3, min_samples_leaf=3, min_samples_split=2, n_estimators=100, subsample=0.9; total time=   0.1s\n",
      "[CV] END learning_rate=0.2, max_depth=3, min_samples_leaf=3, min_samples_split=2, n_estimators=200, subsample=0.8; total time=   0.1s\n",
      "[CV] END learning_rate=0.2, max_depth=3, min_samples_leaf=3, min_samples_split=2, n_estimators=200, subsample=0.9; total time=   0.2s\n",
      "[CV] END learning_rate=0.2, max_depth=3, min_samples_leaf=3, min_samples_split=2, n_estimators=200, subsample=1.0; total time=   0.2s\n",
      "END learning_rate=0.01, max_depth=5, min_samples_leaf=3, min_samples_split=4, n_estimators=200, subsample=1.0; total time=   0.2s\n",
      "[CV] END learning_rate=0.1, max_depth=3, min_samples_leaf=1, min_samples_split=2, n_estimators=100, subsample=0.9; total time=   0.1s\n",
      "[CV] END learning_rate=0.1, max_depth=3, min_samples_leaf=1, min_samples_split=2, n_estimators=100, subsample=0.9; total time=   0.1s\n",
      "[CV] END learning_rate=0.1, max_depth=3, min_samples_leaf=1, min_samples_split=2, n_estimators=200, subsample=0.8; total time=   0.1s\n",
      "[CV] END learning_rate=0.1, max_depth=3, min_samples_leaf=1, min_samples_split=2, n_estimators=200, subsample=0.8; total time=   0.2s\n",
      "[CV] END learning_rate=0.1, max_depth=3, min_samples_leaf=1, min_samples_split=2, n_estimators=300, subsample=0.9; total time=   0.4s\n",
      "[CV] END learning_rate=0.1, max_depth=3, min_samples_leaf=1, min_samples_split=2, n_estimators=300, subsample=1.0; total time=   0.4s\n",
      "[CV] END learning_rate=0.1, max_depth=3, min_samples_leaf=1, min_samples_split=3, n_estimators=300, subsample=1.0; total time=   0.4s\n",
      "[CV] END learning_rate=0.1, max_depth=3, min_samples_leaf=1, min_samples_split=4, n_estimators=100, subsample=0.8; total time=   0.2s\n",
      "[CV] END learning_rate=0.1, max_depth=3, min_samples_leaf=1, min_samples_split=4, n_estimators=200, subsample=1.0; total time=   0.3s\n",
      "[CV] END learning_rate=0.1, max_depth=3, min_samples_leaf=1, min_samples_split=4, n_estimators=200, subsample=1.0; total time=   0.2s\n",
      "[CV] END learning_rate=0.1, max_depth=3, min_samples_leaf=2, min_samples_split=2, n_estimators=100, subsample=0.9; total time=   0.1s\n",
      "[CV] END learning_rate=0.1, max_depth=3, min_samples_leaf=2, min_samples_split=2, n_estimators=100, subsample=0.9; total time=   0.1s\n",
      "[CV] END learning_rate=0.1, max_depth=3, min_samples_leaf=2, min_samples_split=2, n_estimators=300, subsample=0.8; total time=   0.3s\n",
      "[CV] END learning_rate=0.1, max_depth=3, min_samples_leaf=2, min_samples_split=2, n_estimators=300, subsample=0.8; total time=   0.2s\n",
      "[CV] END learning_rate=0.1, max_depth=3, min_samples_leaf=2, min_samples_split=3, n_estimators=200, subsample=0.8; total time=   0.1s\n",
      "[CV] END learning_rate=0.1, max_depth=3, min_samples_leaf=2, min_samples_split=3, n_estimators=200, subsample=0.8; total time=   0.1s\n",
      "[CV] END learning_rate=0.1, max_depth=3, min_samples_leaf=2, min_samples_split=3, n_estimators=300, subsample=1.0; total time=   0.3s\n",
      "[CV] END learning_rate=0.1, max_depth=3, min_samples_leaf=2, min_samples_split=3, n_estimators=300, subsample=1.0; total time=   0.3s\n",
      "[CV] END learning_rate=0.1, max_depth=3, min_samples_leaf=2, min_samples_split=4, n_estimators=300, subsample=0.9; total time=   0.3s\n",
      "[CV] END learning_rate=0.1, max_depth=3, min_samples_leaf=2, min_samples_split=4, n_estimators=300, subsample=0.9; total time=   0.3s\n",
      "[CV] END learning_rate=0.1, max_depth=3, min_samples_leaf=3, min_samples_split=2, n_estimators=200, subsample=0.9; total time=   0.2s\n",
      "[CV] END learning_rate=0.1, max_depth=3, min_samples_leaf=3, min_samples_split=2, n_estimators=200, subsample=0.9; total time=   0.2s\n",
      "[CV] END learning_rate=0.1, max_depth=3, min_samples_leaf=3, min_samples_split=2, n_estimators=300, subsample=1.0; total time=   0.2s\n",
      "[CV] END learning_rate=0.1, max_depth=3, min_samples_leaf=3, min_samples_split=2, n_estimators=300, subsample=1.0; total time=   0.2s\n",
      "[CV] END learning_rate=0.1, max_depth=5, min_samples_leaf=3, min_samples_split=2, n_estimators=100, subsample=0.9; total time=   0.1s\n",
      "[CV] END learning_rate=0.1, max_depth=5, min_samples_leaf=3, min_samples_split=2, n_estimators=100, subsample=0.9; total time=   0.1s\n",
      "[CV] END learning_rate=0.1, max_depth=5, min_samples_leaf=3, min_samples_split=2, n_estimators=100, subsample=0.9; total time=   0.1s\n",
      "[CV] END learning_rate=0.1, max_depth=5, min_samples_leaf=3, min_samples_split=2, n_estimators=100, subsample=1.0; total time=   0.1s\n",
      "[CV] END learning_rate=0.1, max_depth=5, min_samples_leaf=3, min_samples_split=2, n_estimators=100, subsample=1.0; total time=   0.1s\n",
      "[CV] END learning_rate=0.1, max_depth=5, min_samples_leaf=3, min_samples_split=2, n_estimators=100, subsample=1.0; total time=   0.1s\n",
      "[CV] END learning_rate=0.1, max_depth=5, min_samples_leaf=3, min_samples_split=2, n_estimators=200, subsample=0.8; total time=   0.2s\n",
      "[CV] END learning_rate=0.1, max_depth=5, min_samples_leaf=3, min_samples_split=2, n_estimators=200, subsample=0.8; total time=   0.2s\n",
      "[CV] END learning_rate=0.1, max_depth=5, min_samples_leaf=3, min_samples_split=2, n_estimators=200, subsample=0.8; total time=   0.2s\n",
      "[CV] END learning_rate=0.1, max_depth=5, min_samples_leaf=3, min_samples_split=2, n_estimators=200, subsample=0.9; total time=   0.2s\n",
      "[CV] END learning_rate=0.1, max_depth=5, min_samples_leaf=3, min_samples_split=2, n_estimators=200, subsample=0.9; total time=   0.2s\n",
      "[CV] END learning_rate=0.1, max_depth=5, min_samples_leaf=3, min_samples_split=2, n_estimators=200, subsample=0.9; total time=   0.2s\n",
      "[CV] END learning_rate=0.1, max_depth=5, min_samples_leaf=3, min_samples_split=2, n_estimators=200, subsample=1.0; total time=   0.2s\n",
      "[CV] END learning_rate=0.1, max_depth=5, min_samples_leaf=3, min_samples_split=2, n_estimators=200, subsample=1.0; total time=   0.2s\n",
      "[CV] END learning_rate=0.1, max_depth=5, min_samples_leaf=3, min_samples_split=2, n_estimators=200, subsample=1.0; total time=   0.2s\n",
      "[CV] END learning_rate=0.1, max_depth=5, min_samples_leaf=3, min_samples_split=2, n_estimators=300, subsample=0.8; total time=   0.2s\n",
      "[CV] END learning_rate=0.1, max_depth=5, min_samples_leaf=3, min_samples_split=2, n_estimators=300, subsample=0.8; total time=   0.2s\n",
      "[CV] END learning_rate=0.1, max_depth=5, min_samples_leaf=3, min_samples_split=2, n_estimators=300, subsample=0.8; total time=   0.2s\n",
      "[CV] END learning_rate=0.1, max_depth=5, min_samples_leaf=3, min_samples_split=2, n_estimators=300, subsample=0.9; total time=   0.3s\n",
      "[CV] END learning_rate=0.1, max_depth=5, min_samples_leaf=3, min_samples_split=2, n_estimators=300, subsample=0.9; total time=   0.3s\n",
      "[CV] END learning_rate=0.1, max_depth=5, min_samples_leaf=3, min_samples_split=2, n_estimators=300, subsample=0.9; total time=   0.3s\n",
      "[CV] END learning_rate=0.1, max_depth=5, min_samples_leaf=3, min_samples_split=2, n_estimators=300, subsample=1.0; total time=   0.3s\n",
      "[CV] END learning_rate=0.1, max_depth=5, min_samples_leaf=3, min_samples_split=3, n_estimators=100, subsample=0.9; total time=   0.1s\n",
      "[CV] END learning_rate=0.1, max_depth=5, min_samples_leaf=3, min_samples_split=3, n_estimators=100, subsample=1.0; total time=   0.1s\n",
      "[CV] END learning_rate=0.1, max_depth=5, min_samples_leaf=3, min_samples_split=3, n_estimators=200, subsample=0.9; total time=   0.2s\n",
      "[CV] END learning_rate=0.1, max_depth=5, min_samples_leaf=3, min_samples_split=3, n_estimators=200, subsample=1.0; total time=   0.2s\n",
      "[CV] END learning_rate=0.1, max_depth=5, min_samples_leaf=3, min_samples_split=3, n_estimators=300, subsample=0.8; total time=   0.2s\n",
      "[CV] END learning_rate=0.1, max_depth=5, min_samples_leaf=3, min_samples_split=3, n_estimators=300, subsample=1.0; total time=   0.3s\n",
      "[CV] END learning_rate=0.1, max_depth=5, min_samples_leaf=3, min_samples_split=4, n_estimators=100, subsample=0.8; total time=   0.1s\n",
      "[CV] END learning_rate=0.1, max_depth=5, min_samples_leaf=3, min_samples_split=4, n_estimators=100, subsample=0.8; total time=   0.1s\n",
      "[CV] END learning_rate=0.1, max_depth=5, min_samples_leaf=3, min_samples_split=4, n_estimators=100, subsample=1.0; total time=   0.1s\n",
      "[CV] END learning_rate=0.1, max_depth=5, min_samples_leaf=3, min_samples_split=4, n_estimators=200, subsample=0.8; total time=   0.2s\n",
      "[CV] END learning_rate=0.1, max_depth=5, min_samples_leaf=3, min_samples_split=4, n_estimators=200, subsample=0.9; total time=   0.2s\n",
      "[CV] END learning_rate=0.1, max_depth=5, min_samples_leaf=3, min_samples_split=4, n_estimators=300, subsample=0.8; total time=   0.3s\n",
      "[CV] END learning_rate=0.1, max_depth=5, min_samples_leaf=3, min_samples_split=4, n_estimators=300, subsample=0.9; total time=   0.3s\n",
      "[CV] END learning_rate=0.1, max_depth=5, min_samples_leaf=3, min_samples_split=4, n_estimators=300, subsample=1.0; total time=   0.3s\n",
      "[CV] END learning_rate=0.2, max_depth=3, min_samples_leaf=1, min_samples_split=2, n_estimators=200, subsample=0.8; total time=   0.1s\n",
      "[CV] END learning_rate=0.2, max_depth=3, min_samples_leaf=1, min_samples_split=2, n_estimators=200, subsample=0.9; total time=   0.1s\n",
      "[CV] END learning_rate=0.2, max_depth=3, min_samples_leaf=1, min_samples_split=2, n_estimators=300, subsample=0.8; total time=   0.2s\n",
      "[CV] END learning_rate=0.2, max_depth=3, min_samples_leaf=1, min_samples_split=2, n_estimators=300, subsample=0.9; total time=   0.2s\n",
      "[CV] END learning_rate=0.2, max_depth=3, min_samples_leaf=1, min_samples_split=2, n_estimators=300, subsample=1.0; total time=   0.2s\n",
      "[CV] END learning_rate=0.2, max_depth=3, min_samples_leaf=1, min_samples_split=3, n_estimators=100, subsample=1.0; total time=   0.1s\n",
      "[CV] END learning_rate=0.2, max_depth=3, min_samples_leaf=1, min_samples_split=3, n_estimators=200, subsample=0.8; total time=   0.1s\n",
      "[CV] END learning_rate=0.2, max_depth=3, min_samples_leaf=1, min_samples_split=3, n_estimators=200, subsample=1.0; total time=   0.1s\n",
      "[CV] END learning_rate=0.2, max_depth=3, min_samples_leaf=1, min_samples_split=3, n_estimators=300, subsample=0.8; total time=   0.2s\n",
      "[CV] END learning_rate=0.2, max_depth=3, min_samples_leaf=1, min_samples_split=3, n_estimators=300, subsample=1.0; total time=   0.2s\n",
      "[CV] END learning_rate=0.2, max_depth=3, min_samples_leaf=1, min_samples_split=4, n_estimators=100, subsample=0.8; total time=   0.1s\n",
      "[CV] END learning_rate=0.2, max_depth=3, min_samples_leaf=1, min_samples_split=4, n_estimators=100, subsample=0.9; total time=   0.1s\n",
      "[CV] END learning_rate=0.2, max_depth=3, min_samples_leaf=1, min_samples_split=4, n_estimators=100, subsample=1.0; total time=   0.1s\n",
      "[CV] END learning_rate=0.2, max_depth=3, min_samples_leaf=1, min_samples_split=4, n_estimators=200, subsample=0.9; total time=   0.1s\n",
      "[CV] END learning_rate=0.2, max_depth=3, min_samples_leaf=1, min_samples_split=4, n_estimators=200, subsample=1.0; total time=   0.1s\n",
      "[CV] END learning_rate=0.2, max_depth=3, min_samples_leaf=1, min_samples_split=4, n_estimators=300, subsample=0.8; total time=   0.2s\n",
      "[CV] END learning_rate=0.2, max_depth=3, min_samples_leaf=1, min_samples_split=4, n_estimators=300, subsample=1.0; total time=   0.3s\n",
      "[CV] END learning_rate=0.2, max_depth=3, min_samples_leaf=2, min_samples_split=2, n_estimators=100, subsample=0.8; total time=   0.1s\n",
      "[CV] END learning_rate=0.2, max_depth=3, min_samples_leaf=2, min_samples_split=2, n_estimators=100, subsample=0.9; total time=   0.1s\n",
      "[CV] END learning_rate=0.2, max_depth=3, min_samples_leaf=2, min_samples_split=2, n_estimators=100, subsample=1.0; total time=   0.1s\n",
      "[CV] END learning_rate=0.2, max_depth=3, min_samples_leaf=2, min_samples_split=2, n_estimators=200, subsample=0.8; total time=   0.1s\n",
      "[CV] END learning_rate=0.2, max_depth=3, min_samples_leaf=2, min_samples_split=2, n_estimators=200, subsample=0.9; total time=   0.1s\n",
      "[CV] END learning_rate=0.2, max_depth=3, min_samples_leaf=2, min_samples_split=2, n_estimators=200, subsample=1.0; total time=   0.1s\n",
      "eaf=3, min_samples_split=2, n_estimators=200, subsample=0.9; total time=   0.1s\n",
      "[CV] END learning_rate=0.2, max_depth=3, min_samples_leaf=3, min_samples_split=2, n_estimators=300, subsample=0.8; total time=   0.2s\n",
      "[CV] END learning_rate=0.2, max_depth=3, min_samples_leaf=3, min_samples_split=2, n_estimators=300, subsample=0.9; total time=   0.3s\n",
      ".9; total time=   0.1s\n",
      "[CV] END learning_rate=0.1, max_depth=4, min_samples_leaf=1, min_samples_split=4, n_estimators=200, subsample=0.8; total time=   0.2s\n",
      "[CV] END learning_rate=0.1, max_depth=4, min_samples_leaf=1, min_samples_split=4, n_estimators=200, subsample=0.8; total time=   0.2s\n",
      "[CV] END learning_rate=0.1, max_depth=4, min_samples_leaf=1, min_samples_split=4, n_estimators=300, subsample=0.8; total time=   0.2s\n",
      "[CV] END learning_rate=0.1, max_depth=4, min_samples_leaf=1, min_samples_split=4, n_estimators=300, subsample=0.8; total time=   0.4s\n",
      "[CV] END learning_rate=0.1, max_depth=4, min_samples_leaf=1, min_samples_split=4, n_estimators=300, subsample=1.0; total time=   0.3s\n",
      "[CV] END learning_rate=0.1, max_depth=4, min_samples_leaf=2, min_samples_split=2, n_estimators=100, subsample=0.8; total time=   0.1s\n",
      "[CV] END learning_rate=0.1, max_depth=4, min_samples_leaf=2, min_samples_split=2, n_estimators=200, subsample=0.8; total time=   0.1s\n",
      "[CV] END learning_rate=0.1, max_depth=4, min_samples_leaf=2, min_samples_split=2, n_estimators=200, subsample=0.9; total time=   0.2s\n",
      "[CV] END learning_rate=0.1, max_depth=4, min_samples_leaf=2, min_samples_split=2, n_estimators=300, subsample=0.8; total time=   0.2s\n",
      "[CV] END learning_rate=0.1, max_depth=4, min_samples_leaf=2, min_samples_split=2, n_estimators=300, subsample=0.8; total time=   0.3s\n",
      "[CV] END learning_rate=0.1, max_depth=4, min_samples_leaf=2, min_samples_split=3, n_estimators=100, subsample=0.8; total time=   0.1s\n",
      "[CV] END learning_rate=0.1, max_depth=4, min_samples_leaf=2, min_samples_split=3, n_estimators=100, subsample=0.8; total time=   0.1s\n",
      "[CV] END learning_rate=0.1, max_depth=4, min_samples_leaf=2, min_samples_split=3, n_estimators=100, subsample=1.0; total time=   0.1s\n",
      "[CV] END learning_rate=0.1, max_depth=4, min_samples_leaf=2, min_samples_split=3, n_estimators=100, subsample=1.0; total time=   0.1s\n",
      "[CV] END learning_rate=0.1, max_depth=4, min_samples_leaf=2, min_samples_split=3, n_estimators=200, subsample=0.9; total time=   0.2s\n",
      "[CV] END learning_rate=0.1, max_depth=4, min_samples_leaf=2, min_samples_split=3, n_estimators=200, subsample=0.9; total time=   0.2s\n",
      "[CV] END learning_rate=0.1, max_depth=4, min_samples_leaf=2, min_samples_split=3, n_estimators=300, subsample=0.8; total time=   0.3s\n",
      "[CV] END learning_rate=0.1, max_depth=4, min_samples_leaf=2, min_samples_split=3, n_estimators=300, subsample=0.9; total time=   0.2s\n",
      "[CV] END learning_rate=0.1, max_depth=4, min_samples_leaf=2, min_samples_split=4, n_estimators=100, subsample=0.8; total time=   0.1s\n",
      "[CV] END learning_rate=0.1, max_depth=4, min_samples_leaf=2, min_samples_split=4, n_estimators=100, subsample=0.8; total time=   0.1s\n",
      "[CV] END learning_rate=0.1, max_depth=4, min_samples_leaf=2, min_samples_split=4, n_estimators=100, subsample=0.9; total time=   0.2s\n",
      "[CV] END learning_rate=0.1, max_depth=4, min_samples_leaf=2, min_samples_split=4, n_estimators=100, subsample=1.0; total time=   0.1s\n",
      "[CV] END learning_rate=0.1, max_depth=4, min_samples_leaf=2, min_samples_split=4, n_estimators=200, subsample=1.0; total time=   0.2s\n",
      "al time=   0.2s\n",
      "[CV] END learning_rate=0.1, max_depth=4, min_samples_leaf=1, min_samples_split=2, n_estimators=200, subsample=0.9; total time=   0.2s\n",
      "[CV] END learning_rate=0.1, max_depth=4, min_samples_leaf=1, min_samples_split=2, n_estimators=200, subsample=1.0; total time=   0.1s\n",
      "[CV] END learning_rate=0.1, max_depth=4, min_samples_leaf=1, min_samples_split=2, n_estimators=300, subsample=0.9; total time=   0.2s\n",
      "[CV] END learning_rate=0.1, max_depth=4, min_samples_leaf=1, min_samples_split=2, n_estimators=300, subsample=0.9; total time=   0.2s\n",
      "[CV] END learning_rate=0.1, max_depth=4, min_samples_leaf=1, min_samples_split=3, n_estimators=100, subsample=0.9; total time=   0.1s\n",
      "[CV] END learning_rate=0.1, max_depth=4, min_samples_leaf=1, min_samples_split=3, n_estimators=100, subsample=0.9; total time=   0.1s\n",
      "[CV] END learning_rate=0.1, max_depth=4, min_samples_leaf=1, min_samples_split=3, n_estimators=100, subsample=1.0; total time=   0.1s\n",
      "[CV] END learning_rate=0.1, max_depth=4, min_samples_leaf=1, min_samples_split=3, n_estimators=100, subsample=1.0; total time=   0.1s\n",
      "[CV] END learning_rate=0.1, max_depth=4, min_samples_leaf=1, min_samples_split=3, n_estimators=200, subsample=1.0; total time=   0.2s\n",
      "[CV] END learning_rate=0.1, max_depth=4, min_samples_leaf=1, min_samples_split=3, n_estimators=200, subsample=1.0; total time=   0.1s\n",
      "[CV] END learning_rate=0.1, max_depth=4, min_samples_leaf=1, min_samples_split=3, n_estimators=300, subsample=0.9; total time=   0.3s\n",
      "[CV] END learning_rate=0.1, max_depth=4, min_samples_leaf=1, min_samples_split=3, n_estimators=300, subsample=1.0; total time=   0.2s\n",
      "[CV] END learning_rate=0.1, max_depth=4, min_samples_leaf=1, min_samples_split=4, n_estimators=100, subsample=0.8; total time=   0.1s\n",
      "[CV] END learning_rate=0.1, max_depth=4, min_samples_leaf=1, min_samples_split=4, n_estimators=100, subsample=0.9; total time=   0.1s\n",
      "[CV] END learning_rate=0.1, max_depth=4, min_samples_leaf=1, min_samples_split=4, n_estimators=100, subsample=1.0; total time=   0.1s\n",
      "[CV] END learning_rate=0.1, max_depth=4, min_samples_leaf=1, min_samples_split=4, n_estimators=200, subsample=0.8; total time=   0.1s\n",
      "[CV] END learning_rate=0.1, max_depth=4, min_samples_leaf=1, min_samples_split=4, n_estimators=200, subsample=1.0; total time=   0.2s\n",
      "[CV] END learning_rate=0.1, max_depth=4, min_samples_leaf=1, min_samples_split=4, n_estimators=200, subsample=1.0; total time=   0.2s\n",
      "[CV] END learning_rate=0.1, max_depth=4, min_samples_leaf=1, min_samples_split=4, n_estimators=300, subsample=1.0; total time=   0.3s\n",
      "[CV] END learning_rate=0.1, max_depth=4, min_samples_leaf=1, min_samples_split=4, n_estimators=300, subsample=1.0; total time=   0.3s\n",
      "[CV] END learning_rate=0.1, max_depth=4, min_samples_leaf=2, min_samples_split=2, n_estimators=100, subsample=0.9; total time=   0.1s\n",
      "[CV] END learning_rate=0.1, max_depth=4, min_samples_leaf=2, min_samples_split=2, n_estimators=100, subsample=1.0; total time=   0.1s\n",
      "[CV] END learning_rate=0.1, max_depth=4, min_samples_leaf=2, min_samples_split=2, n_estimators=200, subsample=0.9; total time=   0.2s\n",
      "[CV] END learning_rate=0.1, max_depth=4, min_samples_leaf=2, min_samples_split=2, n_estimators=200, subsample=0.9; total time=   0.2s\n",
      "[CV] END learning_rate=0.1, max_depth=4, min_samples_leaf=2, min_samples_split=2, n_estimators=300, subsample=0.9; total time=   0.3s\n",
      "[CV] END learning_rate=0.1, max_depth=4, min_samples_leaf=2, min_samples_split=2, n_estimators=300, subsample=0.9; total time=   0.3s\n",
      "[CV] END learning_rate=0.1, max_depth=4, min_samples_leaf=2, min_samples_split=3, n_estimators=100, subsample=0.8; total time=   0.1s\n",
      "[CV] END learning_rate=0.1, max_depth=4, min_samples_leaf=2, min_samples_split=3, n_estimators=100, subsample=0.9; total time=   0.1s\n",
      "[CV] END learning_rate=0.1, max_depth=4, min_samples_leaf=2, min_samples_split=3, n_estimators=100, subsample=1.0; total time=   0.1s\n",
      "[CV] END learning_rate=0.1, max_depth=4, min_samples_leaf=2, min_samples_split=3, n_estimators=200, subsample=0.8; total time=   0.1s\n",
      "[CV] END learning_rate=0.1, max_depth=4, min_samples_leaf=2, min_samples_split=3, n_estimators=200, subsample=1.0; total time=   0.2s\n",
      "[CV] END learning_rate=0.1, max_depth=4, min_samples_leaf=2, min_samples_split=3, n_estimators=200, subsample=1.0; total time=   0.2s\n",
      "[CV] END learning_rate=0.1, max_depth=4, min_samples_leaf=2, min_samples_split=3, n_estimators=300, subsample=1.0; total time=   0.3s\n",
      "[CV] END learning_rate=0.1, max_depth=4, min_samples_leaf=2, min_samples_split=3, n_estimators=300, subsample=1.0; total time=   0.3s\n",
      "[CV] END learning_rate=0.1, max_depth=4, min_samples_leaf=2, min_samples_split=4, n_estimators=200, subsample=0.8; total time=   0.2s\n",
      "[CV] END learning_rate=0.1, max_depth=4, min_samples_leaf=2, min_samples_split=4, n_estimators=200, subsample=0.9; total time=   0.2s\n",
      "[CV] END learning_rate=0.1, max_depth=4, min_samples_leaf=2, min_samples_split=4, n_estimators=300, subsample=0.8; total time=   0.3s\n",
      "[CV] END learning_rate=0.1, max_depth=4, min_samples_leaf=2, min_samples_split=4, n_estimators=300, subsample=0.8; total time=   0.2s\n",
      "[CV] END learning_rate=0.1, max_depth=4, min_samples_leaf=3, min_samples_split=2, n_estimators=100, subsample=0.8; total time=   0.1s\n",
      "[CV] END learning_rate=0.1, max_depth=4, min_samples_leaf=3, min_samples_split=2, n_estimators=100, subsample=0.8; total time=   0.1s\n",
      "[CV] END learning_rate=0.1, max_depth=4, min_samples_leaf=3, min_samples_split=2, n_estimators=100, subsample=0.8; total time=   0.1s\n",
      "[CV] END learning_rate=0.1, max_depth=4, min_samples_leaf=3, min_samples_split=2, n_estimators=100, subsample=0.9; total time=   0.1s\n",
      "[CV] END learning_rate=0.1, max_depth=4, min_samples_leaf=3, min_samples_split=2, n_estimators=100, subsample=1.0; total time=   0.1s\n",
      "[CV] END learning_rate=0.1, max_depth=4, min_samples_leaf=3, min_samples_split=2, n_estimators=200, subsample=0.8; total time=   0.2s\n",
      "[CV] END learning_rate=0.1, max_depth=4, min_samples_leaf=3, min_samples_split=2, n_estimators=200, subsample=1.0; total time=   0.2s\n",
      "[CV] END learning_rate=0.1, max_depth=4, min_samples_leaf=3, min_samples_split=2, n_estimators=200, subsample=1.0; total time=   0.2s\n",
      "[CV] END learning_rate=0.1, max_depth=4, min_samples_leaf=3, min_samples_split=2, n_estimators=300, subsample=1.0; total time=   0.2s\n",
      "[CV] END learning_rate=0.01, max_depth=4, min_samples_leaf=3, min_samples_split=2, n_estimators=300, subsample=1.0; total time=   0.4s\n",
      "[CV] END learning_rate=0.01, max_depth=4, min_samples_leaf=3, min_samples_split=3, n_estimators=300, subsample=1.0; total time=   0.3s\n",
      "[CV] END learning_rate=0.01, max_depth=4, min_samples_leaf=3, min_samples_split=3, n_estimators=300, subsample=1.0; total time=   0.4s\n",
      "[CV] END learning_rate=0.01, max_depth=4, min_samples_leaf=3, min_samples_split=4, n_estimators=300, subsample=0.9; total time=   0.3s\n",
      "[CV] END learning_rate=0.01, max_depth=4, min_samples_leaf=3, min_samples_split=4, n_estimators=300, subsample=0.9; total time=   0.4s\n",
      "[CV] END learning_rate=0.01, max_depth=5, min_samples_leaf=1, min_samples_split=2, n_estimators=200, subsample=1.0; total time=   0.3s\n",
      "[CV] END learning_rate=0.01, max_depth=5, min_samples_leaf=1, min_samples_split=2, n_estimators=200, subsample=1.0; total time=   0.3s\n",
      "[CV] END learning_rate=0.01, max_depth=5, min_samples_leaf=1, min_samples_split=3, n_estimators=100, subsample=0.9; total time=   0.1s\n",
      "[CV] END learning_rate=0.01, max_depth=5, min_samples_leaf=1, min_samples_split=3, n_estimators=100, subsample=1.0; total time=   0.1s\n",
      "[CV] END learning_rate=0.01, max_depth=5, min_samples_leaf=1, min_samples_split=3, n_estimators=200, subsample=0.8; total time=   0.3s\n",
      "[CV] END learning_rate=0.01, max_depth=5, min_samples_leaf=1, min_samples_split=3, n_estimators=200, subsample=0.9; total time=   0.3s\n",
      "[CV] END learning_rate=0.01, max_depth=5, min_samples_leaf=1, min_samples_split=3, n_estimators=300, subsample=1.0; total time=   0.4s\n",
      "[CV] END learning_rate=0.01, max_depth=5, min_samples_leaf=1, min_samples_split=3, n_estimators=300, subsample=1.0; total time=   0.4s\n",
      "[CV] END learning_rate=0.01, max_depth=5, min_samples_leaf=1, min_samples_split=4, n_estimators=300, subsample=1.0; total time=   0.4s\n",
      "[CV] END learning_rate=0.01, max_depth=5, min_samples_leaf=1, min_samples_split=4, n_estimators=300, subsample=1.0; total time=   0.5s\n",
      "[CV] END learning_rate=0.01, max_depth=5, min_samples_leaf=2, min_samples_split=2, n_estimators=300, subsample=0.9; total time=   0.3s\n",
      "[CV] END learning_rate=0.01, max_depth=5, min_samples_leaf=2, min_samples_split=2, n_estimators=300, subsample=1.0; total time=   0.3s\n",
      "[CV] END learning_rate=0.01, max_depth=5, min_samples_leaf=2, min_samples_split=3, n_estimators=300, subsample=0.8; total time=   0.4s\n",
      "[CV] END learning_rate=0.01, max_depth=5, min_samples_leaf=2, min_samples_split=3, n_estimators=300, subsample=0.9; total time=   0.4s\n",
      "[CV] END learning_rate=0.01, max_depth=5, min_samples_leaf=2, min_samples_split=4, n_estimators=200, subsample=1.0; total time=   0.3s\n",
      "[CV] END learning_rate=0.01, max_depth=5, min_samples_leaf=2, min_samples_split=4, n_estimators=200, subsample=1.0; total time=   0.5s\n",
      "[CV] END learning_rate=0.01, max_depth=5, min_samples_leaf=3, min_samples_split=2, n_estimators=100, subsample=1.0; total time=   0.1s\n",
      "[CV] END learning_rate=0.01, max_depth=5, min_samples_leaf=3, min_samples_split=2, n_estimators=100, subsample=1.0; total time=   0.2s\n",
      "[CV] END learning_rate=0.01, max_depth=5, min_samples_leaf=3, min_samples_split=2, n_estimators=200, subsample=0.9; total time=   0.3s\n",
      "[CV] END learning_rate=0.01, max_depth=5, min_samples_leaf=3, min_samples_split=2, n_estimators=200, subsample=0.9; total time=   0.4s\n",
      "[CV] END learning_rate=0.01, max_depth=5, min_samples_leaf=3, min_samples_split=3, n_estimators=100, subsample=0.8; total time=   0.1s\n",
      "[CV] END learning_rate=0.01, max_depth=5, min_samples_leaf=3, min_samples_split=3, n_estimators=100, subsample=0.8; total time=   0.1s\n",
      "[CV] END learning_rate=0.01, max_depth=5, min_samples_leaf=3, min_samples_split=3, n_estimators=100, subsample=1.0; total time=   0.2s\n",
      "[CV] END learning_rate=0.01, max_depth=5, min_samples_leaf=3, min_samples_split=3, n_estimators=100, subsample=1.0; total time=   0.2s\n",
      "[CV] END learning_rate=0.01, max_depth=5, min_samples_leaf=3, min_samples_split=3, n_estimators=300, subsample=0.9; total time=   0.6s\n",
      "[CV] END learning_rate=0.01, max_depth=5, min_samples_leaf=3, min_samples_split=3, n_estimators=300, subsample=0.9; total time=   0.4s\n",
      "[CV] END learning_rate=0.01, max_depth=5, min_samples_leaf=3, min_samples_split=4, n_estimators=200, subsample=1.0; total time=   0.2s\n",
      "[CV] END learning_rate=0.01, max_depth=5, min_samples_leaf=3, min_samples_split=4, n_estimators=200, subsample=1.0; total time=   0.2s\n",
      "[CV] END learning_rate=0.1, max_depth=3, min_samples_leaf=1, min_samples_split=2, n_estimators=100, subsample=0.8; total time=   0.1s\n",
      "[CV] END learning_rate=0.1, max_depth=3, min_samples_leaf=1, min_samples_split=2, n_estimators=100, subsample=0.8; total time=   0.1s\n",
      "[CV] END learning_rate=0.1, max_depth=3, min_samples_leaf=1, min_samples_split=2, n_estimators=100, subsample=1.0; total time=   0.1s\n",
      "[CV] END learning_rate=0.1, max_depth=3, min_samples_leaf=1, min_samples_split=2, n_estimators=100, subsample=1.0; total time=   0.1s\n",
      "[CV] END learning_rate=0.1, max_depth=3, min_samples_leaf=1, min_samples_split=2, n_estimators=200, subsample=1.0; total time=   0.2s\n",
      "[CV] END learning_rate=0.1, max_depth=3, min_samples_leaf=1, min_samples_split=2, n_estimators=300, subsample=0.8; total time=   0.3s\n",
      "[CV] END learning_rate=0.1, max_depth=3, min_samples_leaf=1, min_samples_split=3, n_estimators=200, subsample=0.9; total time=   0.2s\n",
      "[CV] END learning_rate=0.1, max_depth=3, min_samples_leaf=1, min_samples_split=3, n_estimators=200, subsample=0.9; total time=   0.2s\n",
      "[CV] END learning_rate=0.1, max_depth=3, min_samples_leaf=1, min_samples_split=4, n_estimators=100, subsample=0.8; total time=   0.1s\n",
      "[CV] END learning_rate=0.1, max_depth=3, min_samples_leaf=1, min_samples_split=4, n_estimators=100, subsample=0.8; total time=   0.2s\n",
      "[CV] END learning_rate=0.1, max_depth=3, min_samples_leaf=1, min_samples_split=4, n_estimators=100, subsample=1.0; total time=   0.1s\n",
      "[CV] END learning_rate=0.1, max_depth=3, min_samples_leaf=1, min_samples_split=4, n_estimators=100, subsample=1.0; total time=   0.1s\n",
      "[CV] END learning_rate=0.1, max_depth=3, min_samples_leaf=1, min_samples_split=4, n_estimators=300, subsample=0.9; total time=   0.3s\n",
      "[CV] END learning_rate=0.1, max_depth=3, min_samples_leaf=1, min_samples_split=4, n_estimators=300, subsample=0.9; total time=   0.2s\n",
      "[CV] END learning_rate=0.1, max_depth=3, min_samples_leaf=2, min_samples_split=2, n_estimators=300, subsample=0.8; total time=   0.2s\n",
      "[CV] END learning_rate=0.1, max_depth=3, min_samples_leaf=2, min_samples_split=2, n_estimators=300, subsample=0.9; total time=   0.2s\n",
      "[CV] END learning_rate=0.1, max_depth=3, min_samples_leaf=2, min_samples_split=3, n_estimators=200, subsample=0.8; total time=   0.2s\n",
      "[CV] END learning_rate=0.1, max_depth=3, min_samples_leaf=2, min_samples_split=3, n_estimators=200, subsample=0.9; total time=   0.1s\n",
      "[CV] END learning_rate=0.1, max_depth=3, min_samples_leaf=2, min_samples_split=4, n_estimators=100, subsample=0.8; total time=   0.1s\n",
      "[CV] END learning_rate=0.1, max_depth=3, min_samples_leaf=2, min_samples_split=4, n_estimators=100, subsample=0.8; total time=   0.1s\n",
      "[CV] END learning_rate=0.1, max_depth=3, min_samples_leaf=2, min_samples_split=4, n_estimators=100, subsample=1.0; total time=   0.1s\n",
      "[CV] END learning_rate=0.1, max_depth=3, min_samples_leaf=2, min_samples_split=4, n_estimators=200, subsample=0.8; total time=   0.1s\n",
      "[CV] END learning_rate=0.1, max_depth=3, min_samples_leaf=2, min_samples_split=4, n_estimators=300, subsample=1.0; total time=   0.4s\n",
      "[CV] END learning_rate=0.1, max_depth=3, min_samples_leaf=2, min_samples_split=4, n_estimators=300, subsample=1.0; total time=   0.4s\n",
      "[CV] END learning_rate=0.1, max_depth=3, min_samples_leaf=3, min_samples_split=2, n_estimators=300, subsample=0.9; total time=   0.3s\n",
      "[CV] END learning_rate=0.1, max_depth=3, min_samples_leaf=3, min_samples_split=2, n_estimators=300, subsample=1.0; total time=   0.3s\n",
      "[CV] END learning_rate=0.1, max_depth=3, min_samples_leaf=3, min_samples_split=3, n_estimators=300, subsample=0.8; total time=   0.2s\n",
      "[CV] END learning_rate=0.1, max_depth=3, min_samples_leaf=3, min_samples_split=3, n_estimators=300, subsample=0.8; total time=   0.2s\n",
      "[CV] END learning_rate=0.2, max_depth=4, min_samples_leaf=3, min_samples_split=2, n_estimators=100, subsample=0.8; total time=   0.1s\n",
      "[CV] END learning_rate=0.2, max_depth=4, min_samples_leaf=3, min_samples_split=2, n_estimators=100, subsample=0.9; total time=   0.1s\n",
      "[CV] END learning_rate=0.2, max_depth=4, min_samples_leaf=3, min_samples_split=2, n_estimators=100, subsample=0.9; total time=   0.1s\n",
      "[CV] END learning_rate=0.2, max_depth=4, min_samples_leaf=3, min_samples_split=2, n_estimators=100, subsample=0.9; total time=   0.1s\n",
      "[CV] END learning_rate=0.2, max_depth=4, min_samples_leaf=3, min_samples_split=2, n_estimators=100, subsample=1.0; total time=   0.1s\n",
      "[CV] END learning_rate=0.2, max_depth=4, min_samples_leaf=3, min_samples_split=2, n_estimators=100, subsample=1.0; total time=   0.1s\n",
      "[CV] END learning_rate=0.2, max_depth=4, min_samples_leaf=3, min_samples_split=2, n_estimators=100, subsample=1.0; total time=   0.1s\n",
      "[CV] END learning_rate=0.2, max_depth=4, min_samples_leaf=3, min_samples_split=2, n_estimators=200, subsample=0.8; total time=   0.1s\n",
      "[CV] END learning_rate=0.2, max_depth=4, min_samples_leaf=3, min_samples_split=2, n_estimators=200, subsample=0.8; total time=   0.1s\n",
      "[CV] END learning_rate=0.2, max_depth=4, min_samples_leaf=3, min_samples_split=2, n_estimators=200, subsample=0.8; total time=   0.1s\n",
      "[CV] END learning_rate=0.2, max_depth=4, min_samples_leaf=3, min_samples_split=2, n_estimators=200, subsample=0.9; total time=   0.1s\n",
      "[CV] END learning_rate=0.2, max_depth=4, min_samples_leaf=3, min_samples_split=2, n_estimators=200, subsample=0.9; total time=   0.1s\n",
      "[CV] END learning_rate=0.2, max_depth=4, min_samples_leaf=3, min_samples_split=2, n_estimators=200, subsample=0.9; total time=   0.2s\n",
      "[CV] END learning_rate=0.2, max_depth=4, min_samples_leaf=3, min_samples_split=2, n_estimators=200, subsample=1.0; total time=   0.1s\n",
      "[CV] END learning_rate=0.2, max_depth=4, min_samples_leaf=3, min_samples_split=2, n_estimators=200, subsample=1.0; total time=   0.2s\n",
      "[CV] END learning_rate=0.2, max_depth=4, min_samples_leaf=3, min_samples_split=2, n_estimators=200, subsample=1.0; total time=   0.2s\n",
      "[CV] END learning_rate=0.2, max_depth=4, min_samples_leaf=3, min_samples_split=2, n_estimators=300, subsample=0.8; total time=   0.2s\n",
      "[CV] END learning_rate=0.2, max_depth=4, min_samples_leaf=3, min_samples_split=2, n_estimators=300, subsample=0.9; total time=   0.2s\n",
      "[CV] END learning_rate=0.2, max_depth=4, min_samples_leaf=3, min_samples_split=2, n_estimators=300, subsample=0.9; total time=   0.2s\n",
      "[CV] END learning_rate=0.2, max_depth=4, min_samples_leaf=3, min_samples_split=2, n_estimators=300, subsample=1.0; total time=   0.3s\n",
      "[CV] END learning_rate=0.2, max_depth=4, min_samples_leaf=3, min_samples_split=3, n_estimators=100, subsample=0.8; total time=   0.1s\n",
      "[CV] END learning_rate=0.2, max_depth=4, min_samples_leaf=3, min_samples_split=3, n_estimators=100, subsample=0.8; total time=   0.1s\n",
      "[CV] END learning_rate=0.2, max_depth=4, min_samples_leaf=3, min_samples_split=3, n_estimators=100, subsample=0.9; total time=   0.1s\n",
      "[CV] END learning_rate=0.2, max_depth=4, min_samples_leaf=3, min_samples_split=3, n_estimators=100, subsample=0.9; total time=   0.1s\n",
      "[CV] END learning_rate=0.2, max_depth=4, min_samples_leaf=3, min_samples_split=3, n_estimators=100, subsample=1.0; total time=   0.1s\n",
      "[CV] END learning_rate=0.2, max_depth=4, min_samples_leaf=3, min_samples_split=3, n_estimators=200, subsample=0.8; total time=   0.1s\n",
      "[CV] END learning_rate=0.2, max_depth=4, min_samples_leaf=3, min_samples_split=3, n_estimators=200, subsample=0.8; total time=   0.1s\n",
      "[CV] END learning_rate=0.2, max_depth=4, min_samples_leaf=3, min_samples_split=3, n_estimators=200, subsample=0.9; total time=   0.1s\n",
      "[CV] END learning_rate=0.2, max_depth=4, min_samples_leaf=3, min_samples_split=3, n_estimators=200, subsample=1.0; total time=   0.2s\n",
      "[CV] END learning_rate=0.2, max_depth=4, min_samples_leaf=3, min_samples_split=3, n_estimators=200, subsample=1.0; total time=   0.2s\n",
      "[CV] END learning_rate=0.2, max_depth=4, min_samples_leaf=3, min_samples_split=3, n_estimators=300, subsample=0.8; total time=   0.2s\n",
      "[CV] END learning_rate=0.2, max_depth=4, min_samples_leaf=3, min_samples_split=3, n_estimators=300, subsample=0.9; total time=   0.2s\n",
      "[CV] END learning_rate=0.2, max_depth=4, min_samples_leaf=3, min_samples_split=3, n_estimators=300, subsample=0.9; total time=   0.2s\n",
      "[CV] END learning_rate=0.2, max_depth=4, min_samples_leaf=3, min_samples_split=3, n_estimators=300, subsample=1.0; total time=   0.2s\n",
      "[CV] END learning_rate=0.2, max_depth=4, min_samples_leaf=3, min_samples_split=4, n_estimators=100, subsample=0.8; total time=   0.1s\n",
      "[CV] END learning_rate=0.2, max_depth=4, min_samples_leaf=3, min_samples_split=4, n_estimators=100, subsample=0.8; total time=   0.1s\n",
      "[CV] END learning_rate=0.2, max_depth=4, min_samples_leaf=3, min_samples_split=4, n_estimators=100, subsample=0.9; total time=   0.1s\n",
      "[CV] END learning_rate=0.2, max_depth=4, min_samples_leaf=3, min_samples_split=4, n_estimators=100, subsample=0.9; total time=   0.1s\n",
      "[CV] END learning_rate=0.2, max_depth=4, min_samples_leaf=3, min_samples_split=4, n_estimators=100, subsample=1.0; total time=   0.1s\n",
      "[CV] END learning_rate=0.2, max_depth=4, min_samples_leaf=3, min_samples_split=4, n_estimators=200, subsample=0.8; total time=   0.1s\n",
      "[CV] END learning_rate=0.2, max_depth=4, min_samples_leaf=3, min_samples_split=4, n_estimators=200, subsample=0.8; total time=   0.1s\n",
      "[CV] END learning_rate=0.2, max_depth=4, min_samples_leaf=3, min_samples_split=4, n_estimators=200, subsample=0.9; total time=   0.2s\n",
      "[CV] END learning_rate=0.2, max_depth=4, min_samples_leaf=3, min_samples_split=4, n_estimators=200, subsample=1.0; total time=   0.1s\n",
      "[CV] END learning_rate=0.2, max_depth=4, min_samples_leaf=3, min_samples_split=4, n_estimators=200, subsample=1.0; total time=   0.2s\n",
      "[CV] END learning_rate=0.2, max_depth=4, min_samples_leaf=3, min_samples_split=4, n_estimators=300, subsample=0.8; total time=   0.2s\n",
      "[CV] END learning_rate=0.2, max_depth=4, min_samples_leaf=3, min_samples_split=4, n_estimators=300, subsample=0.9; total time=   0.2s\n",
      "[CV] END learning_rate=0.2, max_depth=4, min_samples_leaf=3, min_samples_split=4, n_estimators=300, subsample=1.0; total time=   0.3s\n",
      "[CV] END learning_rate=0.2, max_depth=5, min_samples_leaf=1, min_samples_split=2, n_estimators=100, subsample=0.8; total time=   0.1s\n",
      "[CV] END learning_rate=0.2, max_depth=5, min_samples_leaf=1, min_samples_split=2, n_estimators=100, subsample=0.9; total time=   0.1s\n",
      "[CV] END learning_rate=0.2, max_depth=5, min_samples_leaf=1, min_samples_split=2, n_estimators=100, subsample=1.0; total time=   0.1s\n",
      "[CV] END learning_rate=0.2, max_depth=5, min_samples_leaf=1, min_samples_split=2, n_estimators=200, subsample=0.8; total time=   0.2s\n",
      "[CV] END learning_rate=0.2, max_depth=5, min_samples_leaf=1, min_samples_split=2, n_estimators=200, subsample=0.9; total time=   0.2s\n",
      "[CV] END learning_rate=0.2, max_depth=5, min_samples_leaf=1, min_samples_split=2, n_estimators=200, subsample=1.0; total time=   0.2s\n",
      "[CV] END learning_rate=0.2, max_depth=5, min_samples_leaf=1, min_samples_split=2, n_estimators=300, subsample=0.8; total time=   0.3s\n",
      "[CV] END learning_rate=0.2, max_depth=5, min_samples_leaf=1, min_samples_split=2, n_estimators=300, subsample=0.9; total time=   0.3s\n",
      "[CV] END learning_rate=0.2, max_depth=5, min_samples_leaf=1, min_samples_split=2, n_estimators=300, subsample=1.0; total time=   0.3s\n",
      "[CV] END learning_rate=0.2, max_depth=5, min_samples_leaf=1, min_samples_split=3, n_estimators=100, subsample=0.8; total time=   0.1s\n",
      "[CV] END learning_rate=0.2, max_depth=5, min_samples_leaf=1, min_samples_split=3, n_estimators=100, subsample=0.9; total time=   0.1s\n",
      "[CV] END learning_rate=0.2, max_depth=5, min_samples_leaf=1, min_samples_split=3, n_estimators=100, subsample=1.0; total time=   0.1s\n",
      "[CV] END learning_rate=0.2, max_depth=5, min_samples_leaf=1, min_samples_split=3, n_estimators=200, subsample=0.8; total time=   0.2s\n",
      "[CV] END learning_rate=0.01, max_depth=4, min_samples_leaf=3, min_samples_split=4, n_estimators=100, subsample=0.9; total time=   0.1s\n",
      "[CV] END learning_rate=0.01, max_depth=4, min_samples_leaf=3, min_samples_split=4, n_estimators=100, subsample=1.0; total time=   0.1s\n",
      "[CV] END learning_rate=0.01, max_depth=4, min_samples_leaf=3, min_samples_split=4, n_estimators=200, subsample=0.8; total time=   0.2s\n",
      "[CV] END learning_rate=0.01, max_depth=4, min_samples_leaf=3, min_samples_split=4, n_estimators=200, subsample=0.8; total time=   0.2s\n",
      "[CV] END learning_rate=0.01, max_depth=4, min_samples_leaf=3, min_samples_split=4, n_estimators=300, subsample=1.0; total time=   0.4s\n",
      "[CV] END learning_rate=0.01, max_depth=4, min_samples_leaf=3, min_samples_split=4, n_estimators=300, subsample=1.0; total time=   0.3s\n",
      "[CV] END learning_rate=0.01, max_depth=5, min_samples_leaf=1, min_samples_split=2, n_estimators=300, subsample=0.9; total time=   0.5s\n",
      "[CV] END learning_rate=0.01, max_depth=5, min_samples_leaf=1, min_samples_split=2, n_estimators=300, subsample=0.9; total time=   0.6s\n",
      "[CV] END learning_rate=0.01, max_depth=5, min_samples_leaf=1, min_samples_split=3, n_estimators=300, subsample=0.9; total time=   0.3s\n",
      "[CV] END learning_rate=0.01, max_depth=5, min_samples_leaf=1, min_samples_split=3, n_estimators=300, subsample=1.0; total time=   0.4s\n",
      "[CV] END learning_rate=0.01, max_depth=5, min_samples_leaf=1, min_samples_split=4, n_estimators=300, subsample=0.8; total time=   0.3s\n",
      "[CV] END learning_rate=0.01, max_depth=5, min_samples_leaf=1, min_samples_split=4, n_estimators=300, subsample=0.8; total time=   0.3s\n",
      "[CV] END learning_rate=0.01, max_depth=5, min_samples_leaf=2, min_samples_split=2, n_estimators=200, subsample=0.8; total time=   0.3s\n",
      "[CV] END learning_rate=0.01, max_depth=5, min_samples_leaf=2, min_samples_split=2, n_estimators=200, subsample=0.9; total time=   0.2s\n",
      "[CV] END learning_rate=0.01, max_depth=5, min_samples_leaf=2, min_samples_split=3, n_estimators=100, subsample=0.8; total time=   0.1s\n",
      "[CV] END learning_rate=0.01, max_depth=5, min_samples_leaf=2, min_samples_split=3, n_estimators=100, subsample=0.8; total time=   0.1s\n",
      "[CV] END learning_rate=0.01, max_depth=5, min_samples_leaf=2, min_samples_split=3, n_estimators=100, subsample=1.0; total time=   0.1s\n",
      "[CV] END learning_rate=0.01, max_depth=5, min_samples_leaf=2, min_samples_split=3, n_estimators=200, subsample=0.8; total time=   0.2s\n",
      "[CV] END learning_rate=0.01, max_depth=5, min_samples_leaf=2, min_samples_split=3, n_estimators=300, subsample=0.9; total time=   0.4s\n",
      "[CV] END learning_rate=0.01, max_depth=5, min_samples_leaf=2, min_s[CV] END learning_rate=0.1, max_depth=4, min_samples_leaf=2, min_samples_split=4, n_estimators=200, subsample=1.0; total time=   0.2s\n",
      "[CV] END learning_rate=0.1, max_depth=4, min_samples_leaf=2, min_samples_split=4, n_estimators=300, subsample=0.9; total time=   0.3s\n",
      "[CV] END learning_rate=0.1, max_depth=4, min_samples_leaf=2, min_samples_split=4, n_estimators=300, subsample=1.0; total time=   0.3s\n",
      "[CV] END learning_rate=0.1, max_depth=4, min_samples_leaf=3, min_samples_split=2, n_estimators=100, subsample=1.0; total time=   0.1s\n",
      "[CV] END learning_rate=0.1, max_depth=4, min_samples_leaf=3, min_samples_split=2, n_estimators=100, subsample=1.0; total time=   0.1s\n",
      "[CV] END learning_rate=0.1, max_depth=4, min_samples_leaf=3, min_samples_split=2, n_estimators=200, subsample=0.9; total time=   0.2s\n",
      "[CV] END learning_rate=0.1, max_depth=4, min_samples_leaf=3, min_samples_split=2, n_estimators=200, subsample=1.0; total time=   0.2s\n",
      "[CV] END learning_rate=0.1, max_depth=4, min_samples_leaf=3, mamples_split=3, n_estimators=300, subsample=0.9; total time=   0.4s\n",
      "[CV] END learning_rate=0.01, max_depth=5, min_samples_leaf=2, min_samples_split=4, n_estimators=300, subsample=0.8; total time=   0.5s\n",
      "[CV] END learning_rate=0.01, max_depth=5, min_samples_leaf=2, min_samples_split=4, n_estimators=300, subsample=0.8; total time=   0.5s\n",
      "[CV] END learning_rate=0.01, max_depth=5, min_samples_leaf=3, min_samples_split=2, n_estimators=200, subsample=0.9; total time=   0.4s\n",
      "[CV] END learning_rate=0.01, max_depth=5, min_samples_leaf=3, min_samples_split=2, n_estimators=200, subsample=1.0; total time=   0.4s\n",
      "[CV] END learning_rate=0.01, max_depth=5, min_samples_leaf=3, min_samples_split=3, n_estimators=100, subsample=0.9; total time=   0.2s\n",
      "[CV] END learning_rate=0.01, max_depth=5, min_samples_leaf=3, min_samples_split=3, n_estimators=100, subsample=1.0; total time=   0.2s\n",
      "[CV] END learning_rate=0.01, max_depth=5, min_samples_leaf=3, min_samples_split=3, n_estimators=200, subsample=1.0; total [CV] END learning_rate=0.2, max_depth=3, min_samples_leaf=3, min_samples_split=2, n_estimators=300, subsample=0.9; total time=   0.3s\n",
      "[CV] END learning_rate=0.2, max_depth=3, min_samples_leaf=3, min_samples_split=2, n_estimators=300, subsample=1.0; total time=   0.2s\n",
      "[CV] END learning_rate=0.2, max_depth=3, min_samples_leaf=3, min_samples_split=3, n_estimators=100, subsample=0.9; total time=   0.1s\n",
      "[CV] END learning_rate=0.2, max_depth=3, min_samples_leaf=3, min_samples_split=3, n_estimators=100, subsample=1.0; total time=   0.1s\n",
      "[CV] END learning_rate=0.2, max_depth=3, min_samples_leaf=3, min_samples_split=3, n_estimators=200, subsample=0.9; total time=   0.1s\n",
      "[CV] END learning_rate=0.2, max_depth=3, min_samples_leaf=3, min_samples_split=3, n_estimators=200, subsample=1.0; total time=   0.1s\n",
      "[CV] END learning_rate=0.2, max_depth=3, min_samples_leaf=3, min_samples_split=3, n_estimators=300, subsample=0.8; total time=   0.2s\n",
      "[CV] END learning_rate=0.2, max_depth=3, min_samples_leaf=3, min_samples_split=3, n_estimators=300, subsample=1.0; total time=   0.2s\n",
      "[CV] END learning_rate=0.2, max_depth=3, min_samples_leaf=3, min_samples_split=4, n_estimators=100, subsample=0.8; total time=   0.1s\n",
      "[CV] END learning_rate=0.2, max_depth=3, min_samples_leaf=3, min_samples_split=4, n_estimators=100, subsample=0.9; total time=   0.1s\n",
      "[CV] END learning_rate=0.2, max_depth=3, min_samples_leaf=3, min_samples_split=4, n_estimators=100, subsample=1.0; total time=   0.1s\n",
      "[CV] END learning_rate=0.2, max_depth=3, min_samples_leaf=3, min_samples_split=4, n_estimators=200, subsample=0.8; total time=   0.1s\n",
      "[CV] END learning_rate=0.2, max_depth=3, min_samples_leaf=3, min_samples_split=4, n_estimators=200, subsample=1.0; total time=   0.1s\n",
      "[CV] END learning_rate=0.2, max_depth=3, min_samples_leaf=3, min_samples_split=4, n_estimators=300, subsample=0.8; total time=   0.2s\n",
      "[CV] END learning_rate=0.2, max_depth=3, min_samples_leaf=3, min_samples_split=4, n_estimators=300, subsample=0.9; total timin_samples_split=2, n_estimators=300, subsample=0.9; total time=   0.2s\n",
      "[CV] END learning_rate=0.1, max_depth=4, min_samples_leaf=3, min_samples_split=2, n_estimators=300, subsample=0.9; total time=   0.3s\n",
      "[CV] END learning_rate=0.1, max_depth=4, min_samples_leaf=3, min_samples_split=3, n_estimators=100, subsample=0.9; total time=   0.1s\n",
      "[CV] END learning_rate=0.1, max_depth=4, min_samples_leaf=3, min_samples_split=3, n_estimators=100, subsample=0.9; total time=   0.2s\n",
      "[CV] END learning_rate=0.1, max_depth=4, min_samples_leaf=3, min_samples_split=3, n_estimators=200, subsample=0.8; total time=   0.2s\n",
      "[CV] END learning_rate=0.1, max_depth=4, min_samples_leaf=3, min_samples_split=3, n_estimators=200, subsample=0.8; total time=   0.2s\n",
      "[CV] END learning_rate=0.1, max_depth=4, min_samples_leaf=3, min_samples_split=3, n_estimators=200, subsample=1.0; total time=   0.2s\n",
      "[CV] END learning_rate=0.1, max_depth=4, min_samples_leaf=3, min_samples_split=3, n_estimators=300, subsample=0.8; total time=   0.2s\n",
      "[CV] END learning_rate=0.2, max_depth=3, min_samples_leaf=3, min_samples_split=4, n_estimators=300, subsample=1.0; total time=   0.2s\n",
      "[CV] END learning_rate=0.2, max_depth=4, min_samples_leaf=1, min_samples_split=2, n_estimators=100, subsample=0.9; total time=   0.1s\n",
      "[CV] END learning_rate=0.2, max_depth=4, min_samples_leaf=1, min_samples_split=2, n_estimators=200, subsample=0.8; total time=   0.1s\n",
      "[CV] END learning_rate=0.2, max_depth=4, min_samples_leaf=1, min_samples_split=2, n_estimators=200, subsample=0.9; total time=   0.2s\n",
      "[CV] END learning_rate=0.2, max_depth=4, min_samples_leaf=1, min_samples_split=2, n_estimators=200, subsample=1.0; total time=   0.1s\n",
      "[CV] END learning_rate=0.2, max_depth=4, min_samples_leaf=1, min_samples_split=2, n_estimators=300, subsample=0.9; total time=   0.3s\n",
      "[CV] END learning_rate=0.2, max_depth=4, min_samples_leaf=1, min_samples_split=2, n_estimators=300, subsample=1.0; total time=   0.3s\n",
      "[CV] END learning_rate=0.2, max_depth=4, min_samplese=   0.3s\n",
      "[CV] END learning_rate=0.1, max_depth=4, min_samples_leaf=3, min_samples_split=3, n_estimators=300, subsample=1.0; total time=   0.3s\n",
      "[CV] END learning_rate=0.1, max_depth=4, min_samples_leaf=3, min_samples_split=3, n_estimators=300, subsample=1.0; total time=   0.3s\n",
      "[CV] END learning_rate=0.1, max_depth=4, min_samples_leaf=3, min_samples_split=4, n_estimators=200, subsample=0.9; total time=   0.2s\n",
      "[CV] END learning_rate=0.1, max_depth=4, min_samples_leaf=3, min_samples_split=4, n_estimators=200, subsample=1.0; total time=   0.2s\n",
      "[CV] END learning_rate=0.1, max_depth=4, min_samples_leaf=3, min_samples_split=4, n_estimators=300, subsample=0.9; total time=   0.3s\n",
      "[CV] END learning_rate=0.1, max_depth=4, min_samples_leaf=3, min_samples_split=4, n_estimators=300, subsample=0.9; total time=   0.3s\n",
      "[CV] END learning_rate=0.1, max_depth=5, min_samples_leaf=1, min_samples_split=2, n_estimators=100, subsample=0.9; total time=   0.1s\n",
      "[CV] END learning_rate=0.1, max_depth=5, min_samples_leaf=1, min_samples_split=2, n_estimators=100, subsample=1.0; total time=   0.1s\n",
      "[CV] END learning_rate=0.1, max_depth=5, min_samples_leaf=1, min_samples_split=2, n_estimators=200, subsample=0.9; total time=   0.2s\n",
      "[CV] END learning_rate=0.1, max_depth=5, min_samples_leaf=1, min_samples_split=2, n_estimators=200, subsample=0.9; total time=   0.2s\n",
      "[CV] END learning_rate=0.1, max_depth=5, min_samples_leaf=1, min_samples_split=2, n_estimators=300, subsample=0.9; total time=   0.3s\n",
      "[CV] END learning_rate=0.1, max_depth=5, min_samples_leaf=1, min_samples_split=2, n_estimators=300, subsample=0.9; total time=   0.3s\n",
      "[CV] END learning_rate=0.1, max_depth=5, min_samples_leaf=1, min_samples_split=3, n_estimators=100, subsample=0.9; total time=   0.1s\n",
      "[CV] END learning_rate=0.1, max_depth=5, min_samples_leaf=1, min_samples_split=3, n_estimators=100, subsample=0.9; total time=   0.1s\n",
      "[CV] END learning_rate=0.1, max_depth=5, min_samples_leaf=1, min_samples_split=3, n_estimators=200, subsample=0.8; total time=   0.2s\n",
      "[CV] END learning_rate=0.1, max_depth=5, min_samples_leaf=1, min_samples_split=3, n_estimators=200, subsample=0.8; total time=   0.2s\n",
      "[CV] END learning_rate=0.1, max_depth=5, min_samples_leaf=1, min_samples_split=3, n_estimators=300, subsample=0.8; total time=   0.3s\n",
      "[CV] END learning_rate=0.1, max_depth=5, min_samples_leaf=1, min_samples_split=3, n_estimators=300, subsample=0.8; total time=   0.3s\n",
      "[CV] END learning_rate=0.1, max_depth=5, min_samples_leaf=1, min_samples_split=3, n_estimators=300, subsample=1.0; total time=   0.3s\n",
      "[CV] END learning_rate=0.1, max_depth=5, min_samples_leaf=1, min_samples_split=4, n_estimators=100, subsample=0.8; total time=   0.1s\n",
      "[CV] END learning_rate=0.1, max_depth=5, min_samples_leaf=1, min_samples_split=4, n_estimators=200, subsample=0.8; total time=   0.2s\n",
      "[CV] END learning_rate=0.1, max_depth=5, min_samples_leaf=1, min_samples_split=4, n_estimators=200, subsample=0.8; total time=   0.2s\n",
      "[CV] END learning_rate=0.1, max_depth=5, m[CV] END learning_rate=0.1, max_depth=4, min_samples_leaf=3, min_samples_split=2, n_estimators=300, subsample=1.0; total time=   0.3s\n",
      "[CV] END learning_rate=0.1, max_depth=4, min_samples_leaf=3, min_samples_split=3, n_estimators=100, subsample=1.0; total time=   0.1s\n",
      "[CV] END learning_rate=0.1, max_depth=4, min_samples_leaf=3, min_samples_split=3, n_estimators=100, subsample=1.0; total time=   0.1s\n",
      "[CV] END learning_rate=0.1, max_depth=4, min_samples_leaf=3, min_samples_split=3, n_estimators=200, subsample=1.0; total time=   0.2s\n",
      "[CV] END learning_rate=0.1, max_depth=4, min_samples_leaf=3, min_samples_split=3, n_estimators=200, subsample=1.0; total time=   0.2s\n",
      "[CV] END learning_rate=0.1, max_depth=4, min_samples_leaf=3, min_samples_split=3, n_estimators=300, subsample=0.9; total time=   0.3s\n",
      "[CV] END learning_rate=0.1, max_depth=4, min_samples_leaf=3, min_samples_split=3, n_estimators=300, subsample=1.0; total time=   0.3s\n",
      "[CV] END learning_rate=0.1, max_depth=4, min_samples_leaf=3, min_samples_split=4, n_estimators=100, subsample=0.9; total time=   0.1s\n",
      "[CV] END learning_rate=0.1, max_depth=4, min_samples_leaf=3, min_samples_split=4, n_estimators=100, subsample=0.9; total time=   0.1s\n",
      "[CV] END learning_rate=0.1, max_depth=4, min_samples_leaf=3, min_samples_split=4, n_estimators=200, subsample=0.8; total time=   0.2s\n",
      "[CV] END learning_rate=0.1, max_depth=4, min_samples_leaf=3, min_samples_split=4, n_estimators=200, subsample=0.8; total time=   0.1s\n",
      "[CV] END learning_rate=0.1, max_depth=4, min_samples_leaf=3, min_samples_split=4, n_estimators=300, subsample=0.8; total time=   0.3s\n",
      "[CV] END learning_rate=0.1, max_depth=4, min_samples_leaf=3, min_samples_split=4, n_estimators=300, subsample=0.8; total time=   0.3s\n",
      "[CV] END learning_rate=0.1, max_depth=4, min_samples_leaf=3, min_samples_split=4, n_estimators=300, subsample=1.0; total time=   0.3s\n",
      "[CV] END learning_rate=0.1, max_depth=5, min_samples_leaf=1, min_samples_split=2, n_estimators=100, subsample=0.8; total timin_samples_leaf=1, min_samples_split=4, n_estimators=200, subsample=1.0; total time=   0.2s\n",
      "[CV] END learning_rate=0.1, max_depth=5, min_samples_leaf=1, min_samples_split=4, n_estimators=300, subsample=0.8; total time=   0.3s\n",
      "[CV] END learning_rate=0.1, max_depth=5, min_samples_leaf=1, min_samples_split=4, n_estimators=300, subsample=1.0; total time=   0.3s\n",
      "[CV] END learning_rate=0.1, max_depth=5, min_samples_leaf=1, min_samples_split=4, n_estimators=300, subsample=1.0; total time=   0.4s\n",
      "[CV] END learning_rate=0.1, max_depth=5, min_samples_leaf=2, min_samples_split=2, n_estimators=200, subsample=0.9; total time=   0.2s\n",
      "[CV] END learning_rate=0.1, max_depth=5, min_samples_leaf=2, min_samples_split=2, n_estimators=200, subsample=1.0; total time=   0.2s\n",
      "[CV] END learning_rate=0.1, max_depth=5, min_samples_leaf=2, min_samples_split=2, n_estimators=300, subsample=0.9; total time=   0.3s\n",
      "[CV] END learning_rate=0.1, max_depth=5, min_samples_leaf=2, min_samples_split=2, n_estimators=300, subsample=0.9; total time=   0.3s\n",
      "[CV] END learning_rate=0.1, max_depth=5, min_samples_leaf=2, min_samples_split=3, n_estimators=100, subsample=0.9; total time=   0.1s\n",
      "[CV] END learning_rate=0.1, max_depth=5, min_samples_leaf=2, min_samples_split=3, n_estimators=100, subsample=0.9; total time=   0.1s\n",
      "[CV] END learning_rate=0.1, max_depth=5, min_samples_leaf=2, min_samples_split=3, n_estimators=100, subsample=1.0; total time=   0.1s\n",
      "[CV] END learning_rate=0.1, max_depth=5, min_samples_leaf=2, min_samples_split=3, n_estimators=100, subsample=1.0; total time=   0.1s\n",
      "[CV] END learning_rate=0.1, max_depth=5, min_samples_leaf=2, min_samples_split=3, n_estimators=200, subsample=1.0; total time=   0.3s\n",
      "[CV] END learning_rate=0.1, max_depth=5, min_samples_leaf=2, min_samples_split=3, n_estimators=200, subsample=1.0; total time=   0.2s\n",
      "[CV] END learning_rate=0.1, max_depth=5, min_samples_leaf=2, min_samples_split=3, n_estimators=300, subsample=0.9; total time=   0.3s\n",
      "[CV] END learning_rate=0.1, max_depth=5, min_samples_leaf=2, min_samples_split=3, n_estimators=300, subsample=1.0; total time=   0.3s\n",
      "[CV] END learning_rate=0.1, max_depth=5, min_samples_leaf=2, min_samples_split=4, n_estimators=100, subsample=1.0; total time=   0.1s\n",
      "[CV] END learning_rate=0.1, max_depth=5, min_samples_leaf=2, min_samples_split=4, n_estimators=100, subsample=1.0; total time=   0.1s\n",
      "[CV] END learning_rate=0.1, max_depth=5, min_samples_leaf=2, min_samples_split=4, n_estimators=200, subsample=0.8; total time=   0.2s\n",
      "[CV] END learning_rate=0.1, max_depth=5, min_samples_leaf=2, min_samples_split=4, n_estimators=200, subsample=0.8; total time=   0.2s\n",
      "[CV] END learning_rate=0.1, max_depth=5, min_samples_leaf=2, min_samples_split=4, n_estimators=200, subsample=1.0; total time=   0.2s\n",
      "[CV] END learning_rate=0.1, max_depth=5, min_samples_leaf=2, min_samples_split=4, n_estimators=200, subsample=1.0; total time=   0.2s\n",
      "[CV] END learning_rate=0.1, max_depth=5, min_samples_leaf=2, min_samples_split=4, n_estimators=300, subsample=0.8; total time=   0.3s\n",
      "[CV] END learning_rate=0.1, max_depth=5, min_samples_leaf=2, min_samples_split=4, n_estimators=300, subsample=0.9; total time=   0.3s\n",
      "[CV] END learning_rate=0.1, max_depth=5, min_samples_leaf=2, min_samples_split=4, n_estimators=300, subsample=1.0; total time=   0.3s\n",
      "[CV] END learning_rate=0.1, max_depth=5, min_samples_leaf=2, min_samples_split=4, n_estimators=300, subsample=1.0; total time=   0.3s\n",
      "[CV] END activation=tanh, alpha=0.0001, hidden_layer_sizes=(50,), learning_rate=constant, max_iter=500, solver=sgd; total time=   0.1s\n",
      "[CV] END activation=tanh, alpha=0.0001, hidden_layer_sizes=(50,), learning_rate=adaptive, max_iter=500, solver=sgd; total time=   0.1s\n",
      "[CV] END activation=tanh, alpha=0.0001, hidden_layer_sizes=(100,), learning_rate=constant, max_iter=500, solver=sgd; total time=   0.0s\n",
      "[CV] END activation=tanh, alpha=0.0001, hidden_layer_sizes=(100,), learning_rate=constant, max_iter=500, solver=adam; total time=   0.0s\n",
      "[CV] END activa[CV] END learning_rate=0.2, max_depth=3, min_samples_leaf=2, min_samples_split=2, n_estimators=300, subsample=0.9; total time=   0.2s\n",
      "[CV] END learning_rate=0.2, max_depth=3, min_samples_leaf=2, min_samples_split=2, n_estimators=300, subsample=1.0; total time=   0.2s\n",
      "[CV] END learning_rate=0.2, max_depth=3, min_samples_leaf=2, min_samples_split=3, n_estimators=100, subsample=1.0; total time=   0.1s\n",
      "[CV] END learning_rate=0.2, max_depth=3, min_samples_leaf=2, min_samples_split=3, n_estimators=100, subsample=1.0; total time=   0.1s\n",
      "[CV] END learning_rate=0.2, max_depth=3, min_samples_leaf=2, min_samples_split=3, n_estimators=200, subsample=0.9; total time=   0.1s\n",
      "[CV] END learning_rate=0.2, max_depth=3, min_samples_leaf=2, min_samples_split=3, n_estimators=200, subsample=1.0; total time=   0.1s\n",
      "[CV] END learning_rate=0.2, max_depth=3, min_samples_leaf=2, min_samples_split=3, n_estimators=300, subsample=0.8; total time=   0.2s\n",
      "[CV] END learning_rate=0.2, max_depth=3, min_samples_leaf=2, min_samples_split=3, n_estimators=300, subsample=1.0; total time=   0.2s\n",
      "[CV] END learning_rate=0.2, max_depth=3, min_samples_leaf=2, min_samples_split=4, n_estimators=100, subsample=0.8; total time=   0.1s\n",
      "[CV] END learning_rate=0.2, max_depth=3, min_samples_leaf=2, min_samples_split=4, n_estimators=100, subsample=0.9; total time=   0.1s\n",
      "[CV] END learning_rate=0.2, max_depth=3, min_samples_leaf=2, min_samples_split=4, n_estimators=100, subsample=1.0; total time=   0.1s\n",
      "[CV] END learning_rate=0.2, max_depth=3, min_samples_leaf=2, min_samples_split=4, n_estimators=200, subsample=0.9; total time=   0.1s\n",
      "[CV] END learning_rate=0.2, max_depth=3, min_samples_leaf=2, min_samples_split=4, n_estimators=200, subsample=1.0; total time=   0.1s\n",
      "[CV] END learning_rate=0.2, max_depth=3, min_samples_leaf=2, min_samples_split=4, n_estimators=300, subsample=0.8; total time=   0.3s\n",
      "[CV] END learning_rate=0.2, max_depth=3, min_samples_leaf=2, min_samples_split=4, n_estimators=300, subsample=0.9; total time=   0.2s\n",
      "[CV] END learning_rate=0.2, max_depth=3, min_samples_leaf=3, min_samples_split=2, n_estimators=100, subsample=0.8; total time=   0.1s\n",
      "[CV] END learning_rate=0.2, max_depth=3, min_samples_leaf=3, min_samples_split=2, n_estimators=100, subsample=0.9; total time=   0.1s\n",
      "[CV] END learning_rate=0.2, max_depth=3, min_samples_leaf=3, min_samples_split=2, n_estimators=100, subsample=1.0; total time=   0.1s\n",
      "[CV] END learning_rate=0.2, max_depth=3, min_samples_leaf=3, min_samples_split=2, n_estimators=200, subsample=0.9; total time=   0.2s\n",
      "[CV] END learning_rate=0.2, max_depth=3, min_samples_leaf=3, min_samples_split=2, n_estimators=200, subsample=1.0; total time=   0.2s\n",
      "[CV] END learning_rate=0.2, max_depth=3, min_samples_leaf=3, min_samples_split=2, n_estimators=300, subsample=0.8; total time=   0.2s\n",
      "[CV] END learning_rate=0.2, max_depth=3, min_samples_leaf=3, min_samples_split=2, n_estimators=300, subsample=1.0; total time=   0.2s\n",
      "[CV] END learning_rate=0.2, max_depth=3, min_samplestion=tanh, alpha=0.0001, hidden_layer_sizes=(100,), learning_rate=constant, max_iter=1000, solver=adam; total time=   0.1s\n",
      "[CV] END activation=tanh, alpha=0.0001, hidden_layer_sizes=(100,), learning_rate=adaptive, max_iter=1000, solver=sgd; total time=   0.2s\n",
      "[CV] END activation=tanh, alpha=0.0001, hidden_layer_sizes=(50, 50), learning_rate=adaptive, max_iter=500, solver=sgd; total time=   0.2s\n",
      "[CV] END activation=tanh, alpha=0.0001, hidden_layer_sizes=(50, 50), learning_rate=adaptive, max_iter=500, solver=adam; total time=   0.0s\n",
      "[CV] END activation=tanh, alpha=0.0001, hidden_layer_sizes=(100, 100), learning_rate=constant, max_iter=500, solver=sgd; total time=   0.2s\n",
      "[CV] END activation=tanh, alpha=0.0001, hidden_layer_sizes=(100, 100), learning_rate=constant, max_iter=500, solver=adam; total time=   0.2s\n",
      "[CV] END activation=tanh, alpha=0.0001, hidden_layer_sizes=(100, 100), learning_rate=adaptive, max_iter=500, solver=sgd; total time=   0.5s\n",
      "[CV] END activation=tanh, alpha=0.0001, hidden_layer_sizes=(100, 100), learning_rate=adaptive, max_iter=500, solver=adam; total time=   0.1s\n",
      "[CV] END activation=tanh, alpha=0.0001, hidden_layer_sizes=(200, 200), learning_rate=constant, max_iter=1000, solver=sgd; total time=   0.3s\n",
      "[CV] END activation=tanh, alpha=0.0001, hidden_layer_sizes=(200, 200), learning_rate=constant, max_iter=1000, solver=sgd; total time=   0.4s\n",
      "[CV] END activation=tanh, alpha=0.0001, hidden_layer_sizes=(200, 200), learning_rate=adaptive, max_iter=1000, solver=sgd; total time=   0.7s\n",
      "[CV] END activation=tanh, alpha=0.0001, hidden_layer_sizes=(200, 200), learning_rate=adaptive, max_iter=1000, solver=sgd; total time=   0.8s\n",
      "[CV] END activation=tanh, alpha=0.001, hidden_layer_sizes=(50, 50), learning_rate=constant, max_iter=500, solver=sgd; total time=   0.1s\n",
      "[CV] END activation=tanh, alpha=0.001, hidden_layer_sizes=(50, 50), learning_rate=constant, max_iter=500, solver=sgd; total time=   0.2s\n",
      "[CV] END activation=tanh, alpha=0.001, hidden_layer_sizes=(50, [CV] END learning_rate=0.2, max_depth=3, min_samples_leaf=3, min_samples_split=3, n_estimators=100, subsample=0.8; total time=   0.1s\n",
      "[CV] END learning_rate=0.2, max_depth=3, min_samples_leaf=3, min_samples_split=3, n_estimators=100, subsample=0.8; total time=   0.1s\n",
      "[CV] END learning_rate=0.2, max_depth=3, min_samples_leaf=3, min_samples_split=3, n_estimators=100, subsample=0.9; total time=   0.1s\n",
      "[CV] END learning_rate=0.2, max_depth=3, min_samples_leaf=3, min_samples_split=3, n_estimators=200, subsample=0.8; total time=   0.1s\n",
      "[CV] END learning_rate=0.2, max_depth=3, min_samples_leaf=3, min_samples_split=3, n_estimators=200, subsample=0.9; total time=   0.1s\n",
      "[CV] END learning_rate=0.2, max_depth=3, min_samples_leaf=3, min_samples_split=3, n_estimators=200, subsample=1.0; total time=   0.1s\n",
      "[CV] END learning_rate=0.2, max_depth=3, min_samples_leaf=3, min_samples_split=3, n_estimators=300, subsample=0.9; total time=   0.2s\n",
      "[CV] END learning_rate=0.2, max_depth=3, min_samples_leaf=3, min_samples_split=3, n_estimators=300, subsample=1.0; total time=   0.2s\n",
      "[CV] END learning_rate=0.2, max_depth=3, min_samples_leaf=3, min_samples_split=4, n_estimators=100, subsample=0.9; total time=   0.1s\n",
      "[CV] END learning_rate=0.2, max_depth=3, min_samples_leaf=3, min_samples_split=4, n_estimators=100, subsample=1.0; total time=   0.1s\n",
      "[CV] END learning_rate=0.2, max_depth=3, min_samples_leaf=3, min_samples_split=4, n_estimators=200, subsample=0.9; total time=   0.1s\n",
      "[CV] END learning_rate=0.2, max_depth=3, min_samples_leaf=3, min_samples_split=4, n_estimators=200, subsample=1.0; total time=   0.2s\n",
      "[CV] END learning_rate=0.2, max_depth=3, min_samples_leaf=3, min_samples_split=4, n_estimators=300, subsample=0.8; total time=   0.2s\n",
      "[CV] END learning_rate=0.2, max_depth=3, min_samples_leaf=3, min_samples_split=4, n_estimators=300, subsample=1.0; total time=   0.2s\n",
      "[CV] END learning_rate=0.2, max_depth=4, min_samples_leaf=1, min_samples_split=2, n_estimators=100, subsample=0.8; total time=   0.1s\n",
      "[CV] END learning_rate=0.2, max_depth=4, min_samples_leaf=1, min_samples_split=2, n_estimators=100, subsample=0.9; total time=   0.1s\n",
      "[CV] END learning_rate=0.2, max_depth=4, min_samples_leaf=1, min_samples_split=2, n_estimators=100, subsample=1.0; total time=   0.1s\n",
      "[CV] END learning_rate=0.2, max_depth=4, min_samples_leaf=1, min_samples_split=2, n_estimators=200, subsample=0.9; total time=   0.1s\n",
      "[CV] END learning_rate=0.2, max_depth=4, min_samples_leaf=1, min_samples_split=2, n_estimators=200, subsample=1.0; total time=   0.2s\n",
      "[CV] END learning_rate=0.2, max_depth=4, min_samples_leaf=1, min_samples_split=2, n_estimators=300, subsample=0.8; total time=   0.2s\n",
      "[CV] END learning_rate=0.2, max_depth=4, min_samples_leaf=1, min_samples_split=2, n_estimators=300, subsample=1.0; total time=   0.3s\n",
      "[CV] END learning_rate=0.2, max_depth=4, min_samples_leaf=1, min_samples_split=3, n_estimators=100, subsample=0.8; total time=   0.1s\n",
      "[CV] END learning_rate=0.2, max_depth=4, min_samples_leaf=1, min_samples_split=3, n_estimators=100, subsample=0.9; total time=   0.1s\n",
      "[CV] END learning_rate=0.2, max_depth=4, min_samples_leaf=1, min_samples_split=3, n_estimators=100, subsample=1.0; total time=   0.1s\n",
      "[CV] END learning_rate=0.2, max_depth=4, min_samples_leaf=1, min_samples_split=3, n_estimators=200, subsample=0.8; total time=   0.2s\n",
      "[CV] END learning_rate=0.2, max_depth=4, min_samples_leaf=1, min_samples_split=3, n_estimators=200, subsample=0.9; total time=   0.2s\n",
      "[CV] END learning_rate=0.2, max_depth=4, min_samples_leaf=1, min_samples_split=3, n_estimators=300, subsample=0.8; total time=   0.2s\n",
      "[CV] END learning_rate=0.2, max_depth=4, min_samples_leaf=1, min_samples_split=3, n_estimators=300, subsample=0.9; total time=   0.3s\n",
      "[CV] END learning_rate=0.2, max_depth=4, min_samples_leaf=1, min_samples_split=3, n_estimators=300, subsample=1.0; total time=   0.3s\n",
      "[CV] END learning_rate=0.2, max_depth=4, min_samples_leaf=1, min_samples_split=4, n_estimators=100, subsample=1.0;time=   0.3s\n",
      "[CV] END learning_rate=0.01, max_depth=5, min_samples_leaf=3, min_samples_split=3, n_estimators=300, subsample=0.8; total time=   0.5s\n",
      "[CV] END learning_rate=0.01, max_depth=5, min_samples_leaf=3, min_samples_split=4, n_estimators=200, subsample=0.8; total time=   0.3s\n",
      "[CV] END learning_rate=0.01, max_depth=5, min_samples_leaf=3, min_samples_split=4, n_estimators=200, subsample=0.8; total time=   0.2s\n",
      "[CV] END learning_rate=0.01, max_depth=5, min_samples_leaf=3, min_samples_split=4, n_estimators=300, subsample=1.0; total time=   0.3s\n",
      "[CV] END learning_rate=0.1, max_depth=3, min_samples_leaf=1, min_samples_split=2, n_estimators=100, subsample=0.8; total time=   0.1s\n",
      "[CV] END learning_rate=0.1, max_depth=3, min_samples_leaf=1, min_samples_split=2, n_estimators=200, subsample=1.0; total time=   0.2s\n",
      "[CV] END learning_rate=0.1, max_depth=3, min_samples_leaf=1, min_samples_split=2, n_estimators=200, subsample=1.0; total time=   0.2s\n",
      "[CV] END learning_rate=0.1, max_depth=3, min_50), learning_rate=adaptive, max_iter=500, solver=sgd; total time=   0.3s\n",
      "[CV] END activation=tanh, alpha=0.001, hidden_layer_sizes=(50, 50), learning_rate=adaptive, max_iter=500, solver=adam; total time=   0.1s\n",
      "[CV] END activation=tanh, alpha=0.001, hidden_layer_sizes=(100, 100), learning_rate=constant, max_iter=500, solver=adam; total time=   0.1s\n",
      "[CV] END activation=tanh, alpha=0.001, hidden_layer_sizes=(100, 100), learning_rate=constant, max_iter=500, solver=adam; total time=   0.1s\n",
      "[CV] END activation=tanh, alpha=0.001, hidden_layer_sizes=(100, 100), learning_rate=adaptive, max_iter=500, solver=sgd; total time=   0.4s\n",
      "[CV] END activation=tanh, alpha=0.001, hidden_layer_sizes=(100, 100), learning_rate=adaptive, max_iter=500, solver=adam; total time=   0.1s\n",
      "[CV] END activation=tanh, alpha=0.001, hidden_layer_sizes=(200, 200), learning_rate=constant, max_iter=500, solver=adam; total time=   0.6s\n",
      "[CV] END activation=tanh, alpha=0.001, hidden_layer_sizes=(200, 200), learning_rate=const_leaf=1, min_samples_split=3, n_estimators=100, subsample=0.9; total time=   0.1s\n",
      "[CV] END learning_rate=0.2, max_depth=4, min_samples_leaf=1, min_samples_split=3, n_estimators=100, subsample=1.0; total time=   0.1s\n",
      "[CV] END learning_rate=0.2, max_depth=4, min_samples_leaf=1, min_samples_split=3, n_estimators=200, subsample=0.8; total time=   0.1s\n",
      "[CV] END learning_rate=0.2, max_depth=4, min_samples_leaf=1, min_samples_split=3, n_estimators=200, subsample=1.0; total time=   0.2s\n",
      "[CV] END learning_rate=0.2, max_depth=4, min_samples_leaf=1, min_samples_split=3, n_estimators=300, subsample=0.8; total time=   0.2s\n",
      "[CV] END learning_rate=0.2, max_depth=4, min_samples_leaf=1, min_samples_split=3, n_estimators=300, subsample=1.0; total time=   0.2s\n",
      "[CV] END learning_rate=0.2, max_depth=4, min_samples_leaf=1, min_samples_split=4, n_estimators=100, subsample=0.8; total time=   0.1s\n",
      "[CV] END learning_rate=0.2, max_depth=4, min_samples_leaf=1, min_samples_split=4, n_estimators=100, subsample=0.8;[CV] END learning_rate=0.2, max_depth=3, min_samples_leaf=3, min_samples_split=2, n_estimators=100, subsample=1.0; total time=   0.1s\n",
      "[CV] END learning_rate=0.2, max_depth=3, min_samples_leaf=3, min_samples_split=2, n_estimators=200, subsample=0.8; total time=   0.1s\n",
      "[CV] END learning_rate=0.2, max_depth=3, min_samples_leaf=3, min_samples_split=2, n_estimators=200, subsample=1.0; total time=   0.2s\n",
      "[CV] END learning_rate=0.2, max_depth=3, min_samples_leaf=3, min_samples_split=2, n_estimators=300, subsample=0.8; total time=   0.2s\n",
      "[CV] END learning_rate=0.2, max_depth=3, min_samples_leaf=3, min_samples_split=2, n_estimators=300, subsample=0.9; total time=   0.2s\n",
      "[CV] END learning_rate=0.2, max_depth=3, min_samples_leaf=3, min_samples_split=2, n_estimators=300, subsample=1.0; total time=   0.3s\n",
      "[CV] END learning_rate=0.2, max_depth=3, min_samples_leaf=3, min_samples_split=3, n_estimators=100, subsample=1.0; total time=   0.1s\n",
      "[CV] END learning_rate=0.2, max_depth=3, min_samples_leaf=3, min_samples_split=3, n_estimators=200, subsample=0.8; total time=   0.1s\n",
      "[CV] END learning_rate=0.2, max_depth=3, min_samples_leaf=3, min_samples_split=3, n_estimators=200, subsample=0.9; total time=   0.1s\n",
      "[CV] END learning_rate=0.2, max_depth=3, min_samples_leaf=3, min_samples_split=3, n_estimators=300, subsample=0.8; total time=   0.2s\n",
      "[CV] END learning_rate=0.2, max_depth=3, min_samples_leaf=3, min_samples_split=3, n_estimators=300, subsample=0.9; total time=   0.2s\n",
      "[CV] END learning_rate=0.2, max_depth=3, min_samples_leaf=3, min_samples_split=3, n_estimators=300, subsample=1.0; total time=   0.2s\n",
      "[CV] END learning_rate=0.2, max_depth=3, min_samples_leaf=3, min_samples_split=4, n_estimators=100, subsample=1.0; total time=   0.1s\n",
      "[CV] END learning_rate=0.2, max_depth=3, min_samples_leaf=3, min_samples_split=4, n_estimators=200, subsample=0.8; total time=   0.1s\n",
      "[CV] END learning_rate=0.2, max_depth=3, min_samples_leaf=3, min_samples_split=4, n_estimators=200, subsample=0.9; total time=   0.2s\n",
      "[CV] END learning_rate=0.2, max_depth=3, min_samples_leaf=3, min_samples_split=4, n_estimators=300, subsample=0.8; total time=   0.2s\n",
      "[CV] END learning_rate=0.2, max_depth=3, min_samples_leaf=3, min_samples_split=4, n_estimators=300, subsample=0.9; total time=   0.2s\n",
      "[CV] END learning_rate=0.2, max_depth=4, min_samples_leaf=1, min_samples_split=2, n_estimators=100, subsample=0.8; total time=   0.1s\n",
      "[CV] END learning_rate=0.2, max_depth=4, min_samples_leaf=1, min_samples_split=2, n_estimators=100, subsample=0.8; total time=   0.1s\n",
      "[CV] END learning_rate=0.2, max_depth=4, min_samples_leaf=1, min_samples_split=2, n_estimators=100, subsample=1.0; total time=   0.1s\n",
      "[CV] END learning_rate=0.2, max_depth=4, min_samples_leaf=1, min_samples_split=2, n_estimators=200, subsample=0.8; total time=   0.1s\n",
      "[CV] END learning_rate=0.2, max_depth=4, min_samples_leaf=1, min_samples_split=2, n_estimators=200, subsample=0.9; total time=   0.2s\n",
      "[CV] END learning_rate=0.2, max_depth=4, min_samples_leaf=1, min_samples_split=2, n_estimators=300, subsample=0.8; total time=   0.2s\n",
      "[CV] END learning_rate=0.2, max_depth=4, min_samples_leaf=1, min_samples_split=2, n_estimators=300, subsample=0.9; total time=   0.3s\n",
      "[CV] END learning_rate=0.2, max_depth=4, min_samples_leaf=1, min_samples_split=2, n_estimators=300, subsample=1.0; total time=   0.3s\n",
      "[CV] END learning_rate=0.2, max_depth=4, min_samples_leaf=1, min_samples_split=3, n_estimators=200, subsample=0.8; total time=   0.1s\n",
      "[CV] END learning_rate=0.2, max_depth=4, min_samples_leaf=1, min_samples_split=3, n_estimators=200, subsample=0.9; total time=   0.2s\n",
      "[CV] END learning_rate=0.2, max_depth=4, min_samples_leaf=1, min_samples_split=3, n_estimators=200, subsample=1.0; total time=   0.2s\n",
      "[CV] END learning_rate=0.2, max_depth=4, min_samples_leaf=1, min_samples_split=3, n_estimators=300, subsample=0.9; total time=   0.2s\n",
      "[CV] END learning_rate=0.2, max_depth=4, min_samples_leaf=1, min_samples_split=3, n_estimators=300, subsample=1.0; total time=   0.3s\n",
      "[CV] END learning_rate=0.2, max_depth=4, min_samples_leaf=1, min_samples_split=4, n_estimators=100, subsample=0.9; total time=   0.1s\n",
      "[CV] END learning_rate=0.2, max_depth=4, min_samples_leaf=1, min_samples_split=4, n_estimators=200, subsample=0.8; total time=   0.2s\n",
      "[CV] END learning_rate=0.2, max_depth=4, min_samples_leaf=1, min_samples_split=4, n_estimators=200, subsample=0.9; total time=   0.1s\n",
      "[CV] END learning_rate=0.2, max_depth=4, min_samples_leaf=1, min_samples_split=4, n_estimators=200, subsample=1.0; total time=   0.2s\n",
      "[CV] END learning_rate=0.2, max_depth=4, min_samples_leaf=1, min_samples_split=4, n_estimators=300, subsample=0.9; total time=   0.3s\n",
      "[CV] END learning_rate=0.2, max_depth=4, min_samples_leaf=1, min_samples_split=4, n_estimators=300, subsample=1.0; total time=   0.3s\n",
      "[CV] END learning_rate=0.2, max_depth=4, min_samples_leaf=2, min_samples_split=2, n_estimators=100, subsample=0.9; total time=   0.1s\n",
      "[CV] END learning_rate=0.2, max_depth=4, min_samples_leaf=2, min_samples_split=2, n_estimators=100, subsample=1.0; total time=   0.1s\n",
      "[CV] END learning_rate=0.2, max_depth=4, min_samples_leaf=2, min_samples_split=2, n_estimators=200, subsample=0.8; total time=   0.1s\n",
      "[CV] END learning_rate=0.2, max_depth=4, min_samples_leaf=2, min_samples_split=2, n_estimators=200, subsample=0.9; total time=   0.2s\n",
      "[CV] END learning_rate=0.2, max_depth=4, min_samples_leaf=2, min_samples_split=2, n_estimators=300, subsample=0.8; total time=   0.2s\n",
      "[CV] END learning_rate=0.2, max_depth=4, min_samples_leaf=2, min_samples_split=2, n_estimators=300, subsample=0.9; total time=   0.2s\n",
      "[CV] END learning_rate=0.2, max_depth=4, min_samples_leaf=2, min_samples_split=2, n_estimators=300, subsample=1.0; total time=   0.3s\n",
      "[CV] END learning_rate=0.2, max_depth=4, min_samples_leaf=2, min_samples_split=3, n_estimators=100, subsample=0.8; total time=   0.1s\n",
      "[CV] END learning_rate=0.2, max_depth=4, min_samples_leaf=2, min_samples_split=3, n_estimators=100, subsample=0.8; total time=   0.1s\n",
      "[CV] END learning_rate=0.2, max_depth=4, min_samples_leaf=2, min_samples_split=3, n_estimators=100, subsample=0.9; total time=   0.1s\n",
      "[CV] END learning_rate=0.2, max_depth=4, min_samples_leaf=2, min_samples_split=3, n_estimators=100, subsample=1.0; total time=   0.1s\n",
      "[CV] END learning_rate=0.2, max_depth=4, min_samples_leaf=2, min_samples_split=3, n_estimators=200, subsample=0.8; total time=   0.1s\n",
      "[CV] END learning_rate=0.2, max_depth=4, min_samples_leaf=2, min_samples_split=3, n_estimators=200, subsample=0.9; total time=   0.2s\n",
      "[CV] END learning_rate=0.2, max_depth=4, min_samples_leaf=2, min_samples_split=3, n_estimators=200, subsample=1.0; total time=   0.2s\n",
      "[CV] END learning_rate=0.2, max_depth=4, min_samples_leaf=2, min_samples_split=3, n_estimators=300, subsample=0.8; total time=   0.3s\n",
      "[CV] END learning_rate=0.2, max_depth=4, min_samples_leaf=2, min_samples_split=3, n_estimators=300, subsample=0.9; total time=   0.3s\n",
      "[CV] END learning_rate=0.2, max_depth=4, min_samples_leaf=2, min_samples_split=3, n_estimators=300, subsample=1.0; total time=   0.2s\n",
      "[CV] END learning_rate=0.2, max_depth=4, min_samples_leaf=2, min_samples_split=4, n_estimators=100, subsample=0.8; total time=   0.1s\n",
      "[CV] END learning_rate=0.2, max_depth=4, min_samples_leaf=2, min_samples_split=4, n_estimators=100, subsample=0.9; total time=   0.1s\n",
      "[CV] END learning_rate=0.2, max_depth=4, min_samples_leaf=2, min_samples_split=4, n_estimators=100, subsample=1.0; total time=   0.1s\n",
      "[CV] END learning_rate=0.2, max_depth=4, min_samples_leaf=2, min_samples_split=4, n_estimators=200, subsample=0.8; total time=   0.1s\n",
      "[CV] END learning_rate=0.2, max_depth=4, min_samples_leaf=2, min_samples_split=4, n_estimators=200, subsample=0.9; total time=   0.2s\n",
      "[CV] END learning_rate=0.2, max_depth=4, min_samples_leaf=2, min_samples_split=4, n_estimators=200, subsample=1.0; total time=   0.2s\n",
      "[CV] END learning_rate=0.2, max_depth=4, min_samples_leaf=2, min_samples_split=4, n_estimators=300, subsample=0.8; total time=   0.2s\n",
      "[CV] END learning_rate=0.2, max_depth=4, min_samples_leaf=2, min_samples_split=4, n_estimators=300, subsample=0.9; total time=   0.2s\n",
      "[CV] END learning_rate=0.2, max_depth=4, min_samples_leaf=2, min_samples_split=4, n_estimators=300, subsample=1.0; total time=   0.2s\n",
      "[CV] END learning_rate=0.2, max_depth=4, min_samples_leaf=3, min_samples_split=4, n_estimators=300, subsample=0.8; total time=   0.2s\n",
      "[CV] END learning_rate=0.2, max_depth=4, min_samples_leaf=3, min_samples_split=4, n_estimators=300, subsample=0.9; total time=   0.2s\n",
      "[CV] END learning_rate=0.2, max_depth=4, min_samples_leaf=3, min_samples_split=4, n_estimators=300, subsample=1.0; total time=   0.3s\n",
      "[CV] END learning_rate=0.2, max_depth=5, min_samples_leaf=1, min_samples_split=2, n_estimators=100, subsample=0.9; total time=   0.1s\n",
      "[CV] END learning_rate=0.2, max_depth=5, min_samples_leaf=1, min_samples_split=2, n_estimators=100, subsample=1.0; total time=   0.1s\n",
      "[CV] END learning_rate=0.2, max_depth=5, min_samples_leaf=1, min_samples_split=2, n_estimators=200, subsample=0.8; total time=   0.2s\n",
      "[CV] END learning_rate=0.2, max_depth=5, min_samples_leaf=1, min_samples_split=2, n_estimators=200, subsample=0.9; total time=   0.2s\n",
      "[CV] END learning_rate=0.2, max_depth=5, min_samples_leaf=1, min_samples_split=2, n_estimators=200, subsample=1.0; total time=   0.2s\n",
      "[CV] END learning_rate=0.2, max_depth=5, min_samples_leaf=1, min_samples_split=2, n_estimators=300, subsample=0.8; total time=   0.3s\n",
      "[CV] END learning_rate=0.2, max_depth=5, min_samples_leaf=1, min_samples_split=2, n_estimators=300, subsample=0.9; total time=   0.3s\n",
      "[CV] END learning_rate=0.2, max_depth=5, min_samples_leaf=1, min_samples_split=2, n_estimators=300, subsample=1.0; total time=   0.3s\n",
      "[CV] END learning_rate=0.2, max_depth=5, min_samples_leaf=1, min_samples_split=3, n_estimators=100, subsample=0.8; total time=   0.1s\n",
      "[CV] END learning_rate=0.2, max_depth=5, min_samples_leaf=1, min_samples_split=3, n_estimators=100, subsample=0.9; total time=   0.1s\n",
      "[CV] END learning_rate=0.2, max_depth=5, min_samples_leaf=1, min_samples_split=3, n_estimators=100, subsample=1.0; total time=   0.1s\n",
      "[CV] END learning_rate=0.2, max_depth=5, min_samples_leaf=1, min_samples_split=3, n_estimators=200, subsample=0.8; total time=   0.2s\n",
      "[CV] END learning_rate=0.2, max_depth=5, min_samples_leaf=1, min_samples_split=3, n_estimators=200, subsample=0.9; total time=   0.2s\n",
      "[CV] END learning_rate=0.2, max_depth=5, min_samples_leaf=1, min_samples_split=3, n_estimators=200, subsample=1.0; total time=   0.2s\n",
      "[CV] END learning_rate=0.2, max_depth=5, min_samples_leaf=1, min_samples_split=3, n_estimators=300, subsample=0.8; total time=   0.3s\n",
      "[CV] END learning_rate=0.2, max_depth=5, min_samples_leaf=1, min_samples_split=3, n_estimators=300, subsample=0.9; total time=   0.3s\n",
      "[CV] END learning_rate=0.2, max_depth=5, min_samples_leaf=1, min_samples_split=3, n_estimators=300, subsample=1.0; total time=   0.3s\n",
      "[CV] END leaant, max_iter=500, solver=adam; total time=   0.5s\n",
      "[CV] END activation=tanh, alpha=0.001, hidden_layer_sizes=(200, 200), learning_rate=adaptive, max_iter=1000, solver=sgd; total time=   0.9s\n",
      "[CV] END activation=tanh, alpha=0.001, hidden_layer_sizes=(200, 200), learning_rate=adaptive, max_iter=1000, solver=sgd; total time=   0.9s\n",
      "[CV] END activation=tanh, alpha=0.01, hidden_layer_sizes=(50, 50), learning_rate=constant, max_iter=500, solver=sgd; total time=   0.1s\n",
      "[CV] END activation=tanh, alpha=0.01, hidden_layer_sizes=(50, 50), learning_rate=constant, max_iter=500, solver=sgd; total time=   0.1s\n",
      "[CV] END activation=tanh, alpha=0.01, hidden_layer_sizes=(50, 50), learning_rate=adaptive, max_iter=500, solver=sgd; total time=   0.1s\n",
      "[CV] END activation=tanh, alpha=0.01, hidden_layer_sizes=(50, 50), learning_rate=adaptive, max_iter=500, solver=sgd; total time=   0.2s\n",
      "[CV] END activation=tanh, alpha=0.01, hidden_layer_sizes=(100, 100), learning_rate=constant, max_iter=500, solver=adam; total total time=   0.1s\n",
      "[CV] END learning_rate=0.2, max_depth=4, min_samples_leaf=1, min_samples_split=4, n_estimators=200, subsample=0.9; total time=   0.2s\n",
      "[CV] END learning_rate=0.2, max_depth=4, min_samples_leaf=1, min_samples_split=4, n_estimators=200, subsample=1.0; total time=   0.2s\n",
      "[CV] END learning_rate=0.2, max_depth=4, min_samples_leaf=1, min_samples_split=4, n_estimators=300, subsample=0.8; total time=   0.2s\n",
      "[CV] END learning_rate=0.2, max_depth=4, min_samples_leaf=1, min_samples_split=4, n_estimators=300, subsample=1.0; total time=   0.4s\n",
      "[CV] END learning_rate=0.2, max_depth=4, min_samples_leaf=2, min_samples_split=2, n_estimators=100, subsample=0.8; total time=   0.1s\n",
      "[CV] END learning_rate=0.2, max_depth=4, min_samples_leaf=2, min_samples_split=2, n_estimators=100, subsample=1.0; total time=   0.1s\n",
      "[CV] END learning_rate=0.2, max_depth=4, min_samples_leaf=2, min_samples_split=2, n_estimators=200, subsample=0.8; total time=   0.1s\n",
      "[CV] END learning_rate=0.2, max_depth=4, min_samples_leaf=2, min_samples_split=2, n_estimators=200, subsample=1.0; total time=   0.2s\n",
      "[CV] END learning_rate=0.2, max_depth=4, min_samples_leaf=2, min_samples_split=2, n_estimators=200, subsample=1.0; total time=   0.2s\n",
      "[CV] END learning_rate=0.2, max_depth=4, min_samples_leaf=2, min_samples_split=2, n_estimators=300, subsample=0.8; total time=   0.2s\n",
      "[CV] END learning_rate=0.2, max_depth=4, min_samples_leaf=2, min_samples_split=2, n_estimators=300, subsample=0.9; total time=   0.3s\n",
      "[CV] END learning_rate=0.2, max_depth=4, min_samples_leaf=2, min_samples_split=2, n_estimators=300, subsample=1.0; total time=   0.3s\n",
      "[CV] END learning_rate=0.2, max_depth=4, min_samples_leaf=2, min_samples_split=3, n_estimators=100, subsample=0.9; total time=   0.1s\n",
      "[CV] END learning_rate=0.2, max_depth=4, min_samples_leaf=2, min_samples_split=3, n_estimators=100, subsample=1.0; total time=   0.1s\n",
      "[CV] END learning_rate=0.2, max_depth=4, min_samples_leaf=2, min_samples_split=3, n_estimators=200, subsample=0.8; total time=   0.1s\n",
      "[CV] END learning_rate=0.2, max_depth=4, min_samples_leaf=2, min_samples_split=3, n_estimators=200, subsample=0.9; total time=   0.2s\n",
      "[CV] END learning_rate=0.2, max_depth=4, min_samples_leaf=2, min_samples_split=3, n_estimators=200, subsample=1.0; total time=   0.2s\n",
      "[CV] END learning_rate=0.2, max_depth=4, min_samples_leaf=2, min_samples_split=3, n_estimators=300, subsample=0.8; total time=   0.2s\n",
      "[CV] END learning_rate=0.2, max_depth=4, min_samples_leaf=2, min_samples_split=3, n_estimators=300, subsample=0.9; total time=   0.2s\n",
      "[CV] END learning_rate=0.2, max_depth=4, min_samples_leaf=2, min_samples_split=3, n_estimators=300, subsample=1.0; total time=   0.3s\n",
      "[CV] END learning_rate=0.2, max_depth=4, min_samples_leaf=2, min_samples_split=4, n_estimators=100, subsample=0.9; total time=   0.1s\n",
      "[CV] END learning_rate=0.2, max_depth=4, min_samples_leaf=2, min_samples_split=4, n_estimators=100, subsample=1.0; total time=   0.1s\n",
      "[CV] END learning_rate=0.2, max_depth=4, min_samples_leaf=2, min_samples_split=4, n_estimators=200, subsample=0.8; total time=   0.2s\n",
      "[CV] END learning_rate=0.2, max_depth=4, min_samples_leaf=2, min_samples_split=4, n_estimators=200, subsample=0.9; total time=   0.2s\n",
      "[CV] END learning_rate=0.2, max_depth=4, min_samples_leaf=2, min_samples_split=4, n_estimators=200, subsample=1.0; total time=   0.2s\n",
      "[CV] END learning_rate=0.2, max_depth=4, min_samples_leaf=2, min_samples_split=4, n_estimators=300, subsample=0.8; total time=   0.2s\n",
      "[CV] END learning_rate=0.2, max_depth=4, min_samples_leaf=2, min_samples_split=4, n_estimators=300, subsample=0.9; total time=   0.2s\n",
      "[CV] END learning_rate=0.2, max_depth=4, min_samples_leaf=2, min_samples_split=4, n_estimators=300, subsample=0.9; total time=   0.2s\n",
      "[CV] END learning_rate=0.2, max_depth=4, min_samples_leaf=2, min_samples_split=4, n_estimators=300, subsample=1.0; total time=   0.2s\n",
      "[CV] END learning_rate=0.2, max_depth=4, min_samples_leaf=2, min_samples_split=4, n_estimators=300, subsample=1.0; total time=   0.2s\n",
      "[CV] END learning_rate=0.2, max_depth=4, min_samples_leaf=3, min_samples_split=2, n_estimators=100, subsample=0.8; total time=   0.1s\n",
      "[CV] END learning_rate=0.2, max_depth=4, min_samples_leaf=3, min_samples_split=2, n_estimators=100, subsample=0.8; total time=   0.1s\n",
      "[CV] END learning_rate=0.2, max_depth=5, min_samples_leaf=3, min_samples_split=3, n_estimators=100, subsample=0.8; total time=   0.1s\n",
      "[CV] END learning_rate=0.2, max_depth=5, min_samples_leaf=3, min_samples_split=3, n_estimators=100, subsample=0.8; total time=   0.1s\n",
      "[CV] END learning_rate=0.2, max_depth=5, min_samples_leaf=3, min_samples_split=3, n_estimators=100, subsample=0.9; total time=   0.1s\n",
      "[CV] END learning_rate=0.2, max_depth=5, min_samples_leaf=3, min_samples_split=3, n_estimators=200, subsample=0.8; total time=   0.2s\n",
      "[CV] END learning_rate=0.2, max_depth=5, min_samples_leaf=3, min_samples_split=3, n_estimators=300, subsample=0.8; total time=   0.3s\n",
      "[CV] END learning_rate=0.2, max_depth=5, min_samples_leaf=3, min_samples_split=3, n_estimators=300, subsample=1.0; total time=   0.3s\n",
      "[CV] END learning_rate=0.2, max_depth=5, min_samples_leaf=3, min_samples_split=4, n_estimators=100, subsample=0.9; total time=   0.1s\n",
      "[CV] END learning_rate=0.2, max_depth=5, min_samples_leaf=3, min_samples_split=4, n_estimators=200, subsample=0.8; total time=   0.3s\n",
      "[CV] END learning_rate=0.2, max_depth=5, min_samples_leaf=3, min_samples_split=4, n_estimators=300, subsample=0.8; total time=   0.3s\n",
      "[CV] END learning_rate=0.2, max_depth=5, min_samples_leaf=3, min_samples_split=4, n_estimators=300, subsample=1.0; total time=   0.4s\n",
      "[CV] END activation=tanh, alpha=0.0001, hidden_layer_sizes=(50,), learning_rate=constant, max_iter=1000, solver=sgd; total time=   0.2s\n",
      "[CV] END activation=tanh, alpha=0.0001, hidden_layer_sizes=(50,), learning_rate=adaptive, max_iter=1000, solver=sgd; total time=   0.1s\n",
      "[CV] END activation=tanh, alpha=0.0001, hidden_layer_sizes=(100,), learning_ratesamples_leaf=1, min_samples_split=3, n_estimators=100, subsample=0.9; total time=   0.1s\n",
      "[CV] END learning_rate=0.1, max_depth=3, min_samples_leaf=1, min_samples_split=3, n_estimators=100, subsample=0.9; total time=   0.1s\n",
      "[CV] END learning_rate=0.1, max_depth=3, min_samples_leaf=1, min_samples_split=3, n_estimators=100, subsample=1.0; total time=   0.1s\n",
      "[CV] END learning_rate=0.1, max_depth=3, min_samples_leaf=1, min_samples_split=3, n_estimators=100, subsample=1.0; total time=   0.1s\n",
      "[CV] END learning_rate=0.1, max_depth=3, min_samples_leaf=1, min_samples_split=3, n_estimators=200, subsample=1.0; total time=   0.2s\n",
      "[CV] END learning_rate=0.1, max_depth=3, min_samples_leaf=1, min_samples_split=3, n_estimators=200, subsample=1.0; total time=   0.3s\n",
      "[CV] END learning_rate=0.1, max_depth=3, min_samples_leaf=1, min_samples_split=4, n_estimators=100, subsample=0.9; total time=   0.2s\n",
      "[CV] END learning_rate=0.1, max_depth=3, min_samples_leaf=1, min_samples_split=4, n_estimators=100, subsamp total time=   0.1s\n",
      "[CV] END learning_rate=0.2, max_depth=4, min_samples_leaf=1, min_samples_split=4, n_estimators=100, subsample=0.9; total time=   0.1s\n",
      "[CV] END learning_rate=0.2, max_depth=4, min_samples_leaf=1, min_samples_split=4, n_estimators=100, subsample=1.0; total time=   0.1s\n",
      "[CV] END learning_rate=0.2, max_depth=4, min_samples_leaf=1, min_samples_split=4, n_estimators=200, subsample=0.8; total time=   0.1s\n",
      "[CV] END learning_rate=0.2, max_depth=4, min_samples_leaf=1, min_samples_split=4, n_estimators=200, subsample=1.0; total time=   0.2s\n",
      "[CV] END learning_rate=0.2, max_depth=4, min_samples_leaf=1, min_samples_split=4, n_estimators=300, subsample=0.8; total time=   0.2s\n",
      "[CV] END learning_rate=0.2, max_depth=4, min_samples_leaf=1, min_samples_split=4, n_estimators=300, subsample=0.9; total time=   0.2s\n",
      "[CV] END learning_rate=0.2, max_depth=4, min_samples_leaf=2, min_samples_split=2, n_estimators=100, subsample=0.8; total time=   0.1s\n",
      "[CV] END learning_rate=0.2, max_depth=4, min_samples_leaf=2, min_samples_split=2, n_estimators=100, subsample=0.8; total time=   0.1s\n",
      "[CV] END learning_rate=0.2, max_depth=4, min_samples_leaf=2, min_samples_split=2, n_estimators=100, subsample=0.9; total time=   0.1s\n",
      "[CV] END learning_rate=0.2, max_depth=4, min_samples_leaf=2, min_samples_split=2, n_estimators=100, subsample=1.0; total time=   0.1s\n",
      "[CV] END learning_rate=0.2, max_depth=4, min_samples_leaf=2, min_samples_split=2, n_estimators=200, subsample=0.9; total time=   0.2s\n",
      "[CV] END learning_rate=0.2, max_depth=4, min_samples_leaf=2, min_samples_split=2, n_estimators=200, subsample=1.0; total time=   0.2s\n",
      "[CV] END learning_rate=0.2, max_depth=4, min_samples_leaf=2, min_samples_split=2, n_estimators=300, subsample=0.8; total time=   0.2s\n",
      "[CV] END learning_rate=0.2, max_depth=4, min_samples_leaf=2, min_samples_split=2, n_estimators=300, subsample=0.9; total time=   0.3s\n",
      "[CV] END learning_rate=0.2, max_depth=4, min_samples_leaf=2, min_samples_split=2, n_estimators=300, subsle=1.0; total time=   0.1s\n",
      "[CV] END learning_rate=0.1, max_depth=3, min_samples_leaf=1, min_samples_split=4, n_estimators=300, subsample=0.8; total time=   0.4s\n",
      "[CV] END learning_rate=0.1, max_depth=3, min_samples_leaf=1, min_samples_split=4, n_estimators=300, subsample=0.8; total time=   0.2s\n",
      "[CV] END learning_rate=0.1, max_depth=3, min_samples_leaf=2, min_samples_split=2, n_estimators=200, subsample=0.9; total time=   0.2s\n",
      "[CV] END learning_rate=0.1, max_depth=3, min_samples_leaf=2, min_samples_split=2, n_estimators=200, subsample=0.9; total time=   0.1s\n",
      "[CV] END learning_rate=0.1, max_depth=3, min_samples_leaf=2, min_samples_split=2, n_estimators=300, subsample=1.0; total time=   0.2s\n",
      "[CV] END learning_rate=0.1, max_depth=3, min_samples_leaf=2, min_samples_split=3, n_estimators=100, subsample=0.8; total time=   0.1s\n",
      "[CV] END learning_rate=0.1, max_depth=3, min_samples_leaf=2, min_samples_split=3, n_estimators=200, subsample=1.0; total time=   0.1s\n",
      "[CV] END learning_rate=0.1, max_depth=3, min_samples_leaf=2, min_samples_split=3, n_estimators=300, subsample=0.8; total time=   0.3s\n",
      "[CV] END learning_rate=0.1, max_depth=3, min_samples_leaf=2, min_samples_split=4, n_estimators=100, subsample=1.0; total time=   0.1s\n",
      "[CV] END learning_rate=0.1, max_depth=3, min_samples_leaf=2, min_samples_split=4, n_estimators=100, subsample=1.0; total time=   0.1s\n",
      "[CV] END learning_rate=0.1, max_depth=3, min_samples_leaf=2, min_samples_split=4, n_estimators=200, subsample=0.9; total time=   0.2s\n",
      "[CV] END learning_rate=0.1, max_depth=3, min_samples_leaf=2, min_samples_split=4, n_estimators=200, subsample=1.0; total time=   0.1s\n",
      "[CV] END learning_rate=0.1, max_depth=3, min_samples_leaf=3, min_samples_split=2, n_estimators=100, subsample=0.8; total time=   0.1s\n",
      "[CV] END learning_rate=0.1, max_depth=3, min_samples_leaf=3, min_samples_split=2, n_estimators=100, subsample=0.8; total time=   0.2s\n",
      "[CV] END learning_rate=0.1, max_depth=3, min_samples_leaf=3, min_samples_split=2, n_estimators=200, subsample=1.0; total time=   0.2s\n",
      "[CV] END learning_rate=0.1, max_depth=3, min_samples_leaf=3, min_samples_split=2, n_estimators=200, subsample=1.0; total time=   0.2s\n",
      "[CV] END learning_rate=0.1, max_depth=3, min_samples_leaf=3, min_samples_split=3, n_estimators=100, subsample=0.9; total time=   0.1s\n",
      "[CV] END learning_rate=0.1, max_depth=3, min_samples_leaf=3, min_samples_split=3, n_estimators=100, subsample=0.9; total time=   0.1s\n",
      "[CV] END learning_rate=0.1, max_depth=3, min_samples_leaf=3, min_samples_split=3, n_estimators=100, subsample=1.0; total time=   0.1s\n",
      "[CV] END learning_rate=0.1, max_depth=3, min_samples_leaf=3, min_samples_split=3, n_estimators=200, subsample=0.8; total time=   0.1s\n",
      "[CV] END learning_rate=0.2, max_depth=4, min_samples_leaf=3, min_samples_split=2, n_estimators=300, subsample=0.8; total time=   0.2s\n",
      "[CV] END learning_rate=0.2, max_depth=4, min_samples_leaf=3, min_samples_split=2, n_estimators=300, subsample=0.8; total time=   0.2s\n",
      "[CV] END learning_rate=0.2, max_depth=4, min_samples_leaf=3, min_samples_split=2, n_estimators=300, subsample=0.9; total time=   0.2s\n",
      "[CV] END learning_rate=0.2, max_depth=4, min_samples_leaf=3, min_samples_split=2, n_estimators=300, subsample=1.0; total time=   0.2s\n",
      "[CV] END learning_rate=0.2, max_depth=4, min_samples_leaf=3, min_samples_split=2, n_estimators=300, subsample=1.0; total time=   0.2s\n",
      "[CV] END learning_rate=0.2, max_depth=4, min_samples_leaf=3, min_samples_split=3, n_estimators=100, subsample=0.8; total time=   0.1s\n",
      "[CV] END learning_rate=0.2, max_depth=4, min_samples_leaf=3, min_samples_split=3, n_estimators=100, subsample=0.9; total time=   0.1s\n",
      "[CV] END learning_rate=0.2, max_depth=4, min_samples_leaf=3, min_samples_split=3, n_estimators=100, subsample=1.0; total time=   0.1s\n",
      "[CV] END learning_rate=0.2, max_depth=4, min_samples_leaf=3, min_samples_split=3, n_estimators=100, subsample=1.0; total time=   0.1s\n",
      "[CV] END learning_rate=0.2, max_depth=4, min_samples_leaf=3, min_samples_split=3, n_est time=   0.1s\n",
      "[CV] END activation=tanh, alpha=0.01, hidden_layer_sizes=(100, 100), learning_rate=constant, max_iter=500, solver=adam; total time=   0.1s\n",
      "[CV] END activation=tanh, alpha=0.01, hidden_layer_sizes=(100, 100), learning_rate=adaptive, max_iter=500, solver=sgd; total time=   0.3s\n",
      "[CV] END activation=tanh, alpha=0.01, hidden_layer_sizes=(100, 100), learning_rate=adaptive, max_iter=500, solver=sgd; total time=   0.4s\n",
      "[CV] END activation=tanh, alpha=0.01, hidden_layer_sizes=(200, 200), learning_rate=constant, max_iter=500, solver=adam; total time=   0.3s\n",
      "[CV] END activation=tanh, alpha=0.01, hidden_layer_sizes=(200, 200), learning_rate=constant, max_iter=500, solver=adam; total time=   0.3s\n",
      "[CV] END activation=tanh, alpha=0.01, hidden_layer_sizes=(200, 200), learning_rate=adaptive, max_iter=500, solver=adam; total time=   0.3s\n",
      "[CV] END activation=tanh, alpha=0.01, hidden_layer_sizes=(200, 200), learning_rate=adaptive, max_iter=500, solver=adam; total time=   0.3s\n",
      "[CV] END activaimators=200, subsample=0.8; total time=   0.1s\n",
      "[CV] END learning_rate=0.2, max_depth=4, min_samples_leaf=3, min_samples_split=3, n_estimators=200, subsample=0.9; total time=   0.2s\n",
      "[CV] END learning_rate=0.2, max_depth=4, min_samples_leaf=3, min_samples_split=3, n_estimators=200, subsample=0.9; total time=   0.1s\n",
      "[CV] END learning_rate=0.2, max_depth=4, min_samples_leaf=3, min_samples_split=3, n_estimators=200, subsample=1.0; total time=   0.2s\n",
      "[CV] END learning_rate=0.2, max_depth=4, min_samples_leaf=3, min_samples_split=3, n_estimators=300, subsample=0.8; total time=   0.2s\n",
      "[CV] END learning_rate=0.2, max_depth=4, min_samples_leaf=3, min_samples_split=3, n_estimators=300, subsample=0.8; total time=   0.2s\n",
      "[CV] END learning_rate=0.2, max_depth=4, min_samples_leaf=3, min_samples_split=3, n_estimators=300, subsample=0.9; total time=   0.2s\n",
      "[CV] END learning_rate=0.2, max_depth=4, min_samples_leaf=3, min_samples_split=3, n_estimators=300, subsample=1.0; total time=   0.2s\n",
      "[CV] END learning_rate=0.2, max_depth=4, min_samples_leaf=3, min_samples_split=3, n_estimators=300, subsample=1.0; total time=   0.2s\n",
      "[CV] END learning_rate=0.2, max_depth=4, min_samples_leaf=3, min_samples_split=4, n_estimators=100, subsample=0.8; total time=   0.1s\n",
      "[CV] END learning_rate=0.2, max_depth=4, min_samples_leaf=3, min_samples_split=4, n_estimators=100, subsample=0.9; total time=   0.1s\n",
      "[CV] END learning_rate=0.2, max_depth=4, min_samples_leaf=3, min_samples_split=4, n_estimators=100, subsample=1.0; total time=   0.1s\n",
      "[CV] END learning_rate=0.2, max_depth=4, min_samples_leaf=3, min_samples_split=4, n_estimators=100, subsample=1.0; total time=   0.1s\n",
      "[CV] END learning_rate=0.2, max_depth=4, min_samples_leaf=3, min_samples_split=4, n_estimators=200, subsample=0.8; total time=   0.1s\n",
      "[CV] END learning_rate=0.2, max_depth=4, min_samples_leaf=3, min_samples_split=4, n_estimators=200, subsample=0.9; total time=   0.2s\n",
      "[CV] END learning_rate=0.2, max_depth=4, min_samples_leaf=3, min_samples_split=4, n_estimators=200, subsample=0.9; total time=   0.2s\n",
      "[CV] END learning_rate=0.2, max_depth=4, min_samples_leaf=3, min_samples_split=4, n_estimators=200, subsample=1.0; total time=   0.2s\n",
      "[CV] END learning_rate=0.2, max_depth=4, min_samples_leaf=3, min_samples_split=4, n_estimators=300, subsample=0.8; total time=   0.2s\n",
      "[CV] END learning_rate=0.2, max_depth=4, min_samples_leaf=3, min_samples_split=4, n_estimators=300, subsample=0.9; total time=   0.2s\n",
      "[CV] END learning_rate=0.2, max_depth=4, min_samples_leaf=3, min_samples_split=4, n_estimators=300, subsample=1.0; total time=   0.3s\n",
      "[CV] END learning_rate=0.2, max_depth=5, min_samples_leaf=1, min_samples_split=2, n_estimators=100, subsample=0.8; total time=   0.1s\n",
      "[CV] END learning_rate=0.2, max_depth=5, min_samples_leaf=1, min_samples_split=2, n_estimators=100, subsample=0.8; total time=   0.1s\n",
      "[CV] END learning_rate=0.2, max_depth=5, min_samples_leaf=1, min_samples_split=2, n_estimators=100, subsample=0.9; total time=   0.1s\n",
      "[CV] END learning_rate=0.2, max_depth=5, min_samples_leaf=1, min_samples_split=2, n_estimators=100, subsample=1.0; total time=   0.1s\n",
      "[CV] END learning_rate=0.2, max_depth=5, min_samples_leaf=1, min_samples_split=2, n_estimators=200, subsample=0.8; total time=   0.2s\n",
      "[CV] END learning_rate=0.2, max_depth=5, min_samples_leaf=1, min_samples_split=2, n_estimators=200, subsample=0.9; total time=   0.2s\n",
      "[CV] END learning_rate=0.2, max_depth=5, min_samples_leaf=1, min_samples_split=2, n_estimators=200, subsample=1.0; total time=   0.2s\n",
      "[CV] END learning_rate=0.2, max_depth=5, min_samples_leaf=1, min_samples_split=2, n_estimators=300, subsample=0.8; total time=   0.3s\n",
      "[CV] END learning_rate=0.2, max_depth=5, min_samples_leaf=1, min_samples_split=2, n_estimators=300, subsample=0.9; total time=   0.3s\n",
      "[CV] END learning_rate=0.2, max_depth=5, min_samples_leaf=1, min_samples_split=2, n_estimators=300, subsample=1.0; total time=   0.3s\n",
      "[CV] END learning_rate=0.2, max_depth=5, min_samples_leaf=1, min_samples_split=3, n_estimators=100, subsample=0.8; total time=   0.1s\n",
      "[CV] END learning_rate=0.2, max_depth=5, min_samples_leaf=1, min_samples_split=3, n_estimators=100, subsample=0.9; total time=   0.1s\n",
      "[CV] END learning_rate=0.2, max_depth=5, min_samples_leaf=1, min_samples_split=3, n_estimators=100, subsample=1.0; total time=   0.1s\n",
      "[CV] END learning_rate=0.2, max_depth=5, min_samples_leaf=1, min_samples_split=3, n_estimators=200, subsample=0.8; total time=   0.2s\n",
      "[CV] END learning_rate=0.2, max_depth=5, min_samples_leaf=1, min_samples_split=3, n_estimators=200, subsample=0.9; total time=   0.2s\n",
      "[CV] END learning_rate=0.2, max_depth=5, min_samples_leaf=1, min_samples_split=3, n_estimators=200, subsample=1.0; total time=   0.2s\n",
      "[CV] END learning_rate=0.2, max_depth=5, min_samples_leaf=1, min_samples_split=3, n_estimators=300, subsample=0.8; total time=   0.2s\n",
      "[CV] END learning_rate=0.2, max_depth=5, min_samples_leaf=1, min_samples_split=3, n_estimators=300, subsample=0.9; total time=   0.3s\n",
      "[CV] END learning_rate=0.2, max_depth=5, min_samples_leaf=1, min_samples_split=3, n_estimators=300, subsample=1.0; total time=   0.3s\n",
      "[CV] END learning_rate=0.2, max_depth=5, min_samples_leaf=1, min_samples_split=4, n_estimators=100, subsample=0.8; total time=   0.1s\n",
      "[CV] END learning_rate=0.2, max_depth=5, min_samples_leaf=1, min_samples_split=4, n_estimators=100, subsample=0.9; total time=   0.1s\n",
      "[CV] END learning_rate=0.2, max_depth=5, min_samples_leaf=1, min_samples_split=4, n_estimators=100, subsample=1.0; total time=   0.1s\n",
      "[CV] END learning_rate=0.2, max_depth=5, min_samples_leaf=1, min_samples_split=4, n_estimators=200, subsample=0.8; total time=   0.2s\n",
      "[CV] END learning_rate=0.2, max_depth=5, min_samples_leaf=1, min_samples_split=4, n_estimators=200, subsample=0.9; total time=   0.2s\n",
      "[CV] END learning_rate=0.2, max_depth=5, min_samples_leaf=1, min_samples_split=4, n_estimators=200, subsample=1.0; total time=   0.2s\n",
      "[CV] END learning_rate=0.2, max_depth=5, min_samples_leaf=1, min_samples_split=4, n_estimators=300, subsample=0.8; total time=   0.3s\n",
      "[CV] END learning_rate=0.2, max_depth=5, min_samples_leaf=1, min_samples_split=4, n_estimators=300, subsample=0.9; total time=   0.3s\n",
      "[CV] END learning_rate=0.2, max_depth=5, min_samples_leaf=1, min_samples_split=4, n_estimators=300, subsample=1.0; total time=   0.3s\n",
      "[CV] END learning_rate=0.2, max_depth=5, min_samples_leaf=2, min_samples_split=2, n_estimators=100, subsample=0.8; total time=   0.1s\n",
      "[CV] END learning_rate=0.2, max_depth=5, min_samples_leaf=2, min_samples_split=2, n_estimators=100, subsample=0.9; total time=   0.1s\n",
      "tion=tanh, alpha=0.01, hidden_layer_sizes=(200, 200), learning_rate=adaptive, max_iter=1000, solver=adam; total time=   0.3s\n",
      "[CV] END activation=tanh, alpha=0.01, hidden_layer_sizes=(200, 200), learning_rate=adaptive, max_iter=1000, solver=adam; total time=   0.4s\n",
      "[CV] END activation=relu, alpha=0.0001, hidden_layer_sizes=(50,), learning_rate=adaptive, max_iter=500, solver=adam; total time=   0.1s\n",
      "[CV] END activation=relu, alpha=0.0001, hidden_layer_sizes=(50,), learning_rate=adaptive, max_iter=500, solver=adam; total time=   0.1s\n",
      "[CV] END activation=relu, alpha=0.0001, hidden_layer_sizes=(50,), learning_rate=adaptive, max_iter=1000, solver=adam; total time=   0.1s\n",
      "[CV] END activation=relu, alpha=0.0001, hidden_layer_sizes=(50,), learning_rate=adaptive, max_iter=1000, solver=adam; total time=   0.1s\n",
      "[CV] END activation=relu, alpha=0.0001, hidden_layer_sizes=(100,), learning_rate=constant, max_iter=1000, solver=sgd; total time=   0.1s\n",
      "[CV] END activation=relu, alpha=0.0001, hidden_layer_sizes=(100,), learning_rate=constant, max_iter=1000, solver=adam; total time=   0.1s\n",
      "[CV] END activation=relu, alpha=0.0001, hidden_layer_sizes=(100,), learning_rate=adaptive, max_iter=1000, solver=sgd; total time=   0.1s\n",
      "[CV] END activation=relu, alpha=0.0001, hidden_layer_sizes=(100,), learning_rate=adaptive, max_iter=1000, solver=sgd; total time=   0.2s\n",
      "[CV] END activation=relu, alpha=0.0001, hidden_layer_sizes=(50, 50), learning_rate=constant, max_iter=500, solver=sgd; total time=   0.2s\n",
      "[CV] END activation=relu, alpha=0.0001, hidden_layer_sizes=(50, 50), learning_rate=constant, max_iter=500, solver=adam; total time=   0.1s\n",
      "[CV] END activation=relu, alpha=0.0001, hidden_layer_sizes=(50, 50), learning_rate=adaptive, max_iter=500, solver=sgd; total time=   0.3s\n",
      "[CV] END activation=relu, alpha=0.0001, hidden_layer_sizes=(50, 50), learning_rate=adaptive, max_iter=500, solver=sgd; total time=   0.3s\n",
      "[CV] END activation=relu, alpha=0.0001, hidden_layer_sizes=(100, 100), learning_rate=constant, max_iter=500, solver=sgd; total time=   0.5s\n",
      "[CV] END activation=relu, alpha=0.0001, hidden_layer_sizes=(100, 100), learning_rate=constant, max_iter=500, solver=adam; total time=   0.1s\n",
      "[CV] END activation=relu, alpha=0.0001, hidden_layer_sizes=(100, 100), learning_rate=adaptive, max_iter=500, solver=sgd; total time=   0.5s\n",
      "e=   0.1s\n",
      "[CV] END learning_rate=0.1, max_depth=5, min_samples_leaf=1, min_samples_split=2, n_estimators=100, subsample=1.0; total time=   0.1s\n",
      "[CV] END learning_rate=0.1, max_depth=5, min_samples_leaf=1, min_samples_split=2, n_estimators=100, subsample=1.0; total time=   0.1s\n",
      "[CV] END learning_rate=0.1, max_depth=5, min_samples_leaf=1, min_samples_split=2, n_estimators=200, subsample=1.0; total time=   0.2s\n",
      "[CV] END learning_rate=0.1, max_depth=5, min_samples_leaf=1, min_samples_split=2, n_estimators=200, subsample=1.0; total time=   0.2s\n",
      "[CV] END learning_rate=0.1, max_depth=5, min_samples_leaf=1, min_samples_split=2, n_estimators=300, subsample=0.9; total time=   0.3s\n",
      "[CV] END learning_rate=0.1, max_depth=5, min_samples_leaf=1, min_samples_split=2, n_estimators=300, subsample=1.0; total time=   0.3s\n",
      "[CV] END learning_rate=0.1, max_depth=5, min_samples_leaf=1, min_samples_split=3, n_estimators=100, subsample=1.0; total time=   0.1s\n",
      "[CV] END learning_rate=0.1, max_depth=5, min_samples_leaf=1, min_samples_split=3, n_estimators=100, subsa=constant, max_iter=500, solver=sgd; total time=   0.1s\n",
      "[CV] END activation=tanh, alpha=0.0001, hidden_layer_sizes=(100,), learning_rate=adaptive, max_iter=500, solver=sgd; total time=   0.1s\n",
      "[CV] END activation=tanh, alpha=0.0001, hidden_layer_sizes=(100,), learning_rate=adaptive, max_iter=1000, solver=adam; total time=   0.1s\n",
      "[CV] END activation=tanh, alpha=0.0001, hidden_layer_sizes=(50, 50), learning_rate=constant, max_iter=1000, solver=sgd; total time=   0.1s\n",
      "[CV] END activation=tanh, alpha=0.0001, hidden_layer_sizes=(50, 50), learning_rate=constant, max_iter=1000, solver=sgd; total time=   0.1s\n",
      "[CV] END activation=tanh, alpha=0.0001, hidden_layer_sizes=(50, 50), learning_rate=adaptive, max_iter=500, solver=adam; total time=   0.1s\n",
      "[CV] END activation=tanh, alpha=0.0001, hidden_layer_sizes=(50, 50), learning_rate=adaptive, max_iter=500, solver=adam; total time=   0.2s\n",
      "[CV] END activation=tanh, alpha=0.0001, hidden_layer_sizes=(100, 100), learning_rate=constant, max_iter=1000, solver=sgd; total time=   0.1s\n",
      "[CV] END activation=tanh, alpha=0.0001, hidden_layer_sizes=(100, 100), learning_rate=constant, max_iter=1000, solver=sgd; total time=   0.3s\n",
      "[CV] END activation=tanh, alpha=0.0001, hidden_layer_sizes=(200, 200), learning_rate=constant, max_iter=500, solver=sgd; total time=   0.3s\n",
      "[CV] END activation=tanh, alpha=0.0001, hidden_layer_sizes=(200, 200), learning_rate=constant, max_iter=500, solver=sgd; total time=   0.3s\n",
      "[CV] END activation=tanh, alpha=0.0001, hidden_layer_sizes=(200, 200), learning_rate=adaptive, max_iter=500, solver=sgd; total time=   1.0s\n",
      "[CV] END activation=tanh, alpha=0.0001, hidden_layer_sizes=(200, 200), learning_rate=adaptive, max_iter=500, solver=adam; total time=   0.2s\n",
      "[CV] END activation=tanh, alpha=0.001, hidden_layer_sizes=(50,), learning_rate=constant, max_iter=1000, solver=sgd; total time=   0.1s\n",
      "[CV] END activation=tanh, alpha=0.001, hidden_layer_sizes=(50,), learning_rate=constant, max_iter=1000, solver=adam; total time=   0.1s\n",
      "[CV] END activation=tanh, alpha=0.001, hidden_layer_sizes=(50,), learning_rate=adaptive, max_iter=500, solver=sgd; total time=   0.2s\n",
      "[CV] END activation=tanh, alpha=0.001, hidden_layer_sizes=(50,), learning_rate=adaptive, max_iter=500, solver=adam; total time=   0.1s\n",
      "[CV] END activation=tanh, alpha=0.001, hidden_layer_sizes=(100,), learning_rate=constant, max_iter=500, solver=sgd; total time=   0.0s\n",
      "[CV] END activation=tanh, alpha=0.001, hidden_layer_sizes=(100,), learning_rate=constant, max_iter=500, solver=sgd; total time=   0.1s\n",
      "[CV] END activation=tanh, alpha=0.001, hidden_layer_sizes=(100,), learning_rate=adaptive, max_iter=500, solver=sgd; total time=   0.1s\n",
      "[CV] END activation=tanh, alpha=0.001, hidden_layer_sizes=(100,), learning_rate=adaptive, max_iter=500, solver=sgd; total time=   0.2s\n",
      "[CV] END activation=tanh, alpha=0.001, hidden_layer_sizes=(50, 50), learning_rate=constant, max_iter=500, solver=adam; total time=   0.1s\n",
      "[CV] END activation=tanh, alpha=0.001, hidden_layer_sizes=(50, 50), learning_rate=constant, max_iter=500, solver=adam; total time=   0.1s\n",
      "[CV] END activation=tanh, alpha=0.001, hidden_layer_sizes=(50, 50), learning_rate=adaptive, max_iter=1000, solver=sgd; total time=   0.2s\n",
      "[CV] END activation=tanh, alpha=0.001, hidden_layer_sizes=(50, 50), learning_rate=adaptive, max_iter=1000, solver=adam; total time=   0.0s\n",
      "[CV] END activation=tanh, alpha=0.001, hidden_layer_sizes=(100, 100), learning_rate=constant, max_iter=1000, solver=sgd; total time=   0.2s\n",
      "[CV] END activation=tanh, alpha=0.001, hidden_layer_sizes=(100, 100), learning_rate=constant, max_iter=1000, solver=adam; total time=   0.1s\n",
      "[CV] END activation=tanh, alpha=0.001, hidden_layer_sizes=(100, 100), learning_rate=adaptive, max_iter=1000, solver=sgd; total time=   0.4s\n",
      "[CV] END activation=tanh, alpha=0.001, hidden_layer_sizes=(100, 100), learning_rate=adaptive, max_iter=1000, solver=sgd; total time=   0.6s\n",
      "[CV] END activation=tanh, alpha=0.001, hidden_layer_sizes=(200, 200), learning_rate=adaptive, max_iter=500, solver=sgd; total time=   0.8s\n",
      "[CV] END activation=tanh, alpha=0.001, hidden_layer_sizes=(200, 200), learning_rate=adaptive, max_iter=500, solver=sgd; total time=   0.7s\n",
      "[CV] END activation=tanh, alpha=0.01, hidden_layer_sizes=(50,), learning_rate=constant, max_iter=1000, solver=adam; total time=   0.1s\n",
      "[CV] END activation=tanh, alpha=0.01, hidden_layer_sizes=(50,), learning_rate=constant, max_iter=1000, solver=adam; total time=   0.1s\n",
      "[CV] END activation=tanh, alpha=0.01, hidden_layer_sizes=(50,), learning_rate=adaptive, max_iter=500, solver=adam; total time=   0.1s\n",
      "[CV] END activation=tanh, alpha=0.01, hidden_layer_sizes=(50,), learning_rate=adaptive, max_iter=500, solver=adam; total time=   0.1s\n",
      "[CV] END activation=tanh, alpha=0.01, hidden_layer_sizes=(50,), learning_rate=adaptive, max_iter=1000, solver=adam; total time=   0.1s\n",
      "[CV] END activation=tanh, alpha=0.01, hidden_layer_sizes=(50,), learning_rate=adaptive, max_iter=1000, solver=adam; total time=   0.1s\n",
      "[CV] END activation=tanh, alpha=0.01, hidden_layer_sizes=(100,), learning_rate=constant, max_iter=1000, solver=sgd; total time=   0.1s\n",
      "[CV] END activation=tanh, alpha=0.01, hidden_layer_sizes=(100,), learning_rate=constant, max_iter=1000, solver=adam; total time=   0.0s\n",
      "[CV] END activation=tanh, alpha=0.01, hidden_layer_sizes=(100,), learning_rate=adaptive, max_iter=1000, solver=sgd; total time=   0.1s\n",
      "[CV] END activation=tanh, alpha=0.01, hidden_layer_sizes=(100,), learning_rate=adaptive, max_iter=1000, solver=sgd; total time=   0.2s\n",
      "[CV] END activation=tanh, alpha=0.01, hidden_layer_sizes=(50, 50), learning_rate=constant, max_iter=1000, solver=sgd; total time=   0.2s\n",
      "[CV] END activation=tanh, alpha=0.01, hidden_layer_sizes=(50, 50), learning_rate=constant, max_iter=1000, solver=adam; total time=   0.0s\n",
      "[CV] END activation=tanh, alpha=0.01, hidden_layer_sizes=(50, 50), learning_rate=adaptive, max_iter=1000, solver=sgd; total time=   0.2s\n",
      "[CV] END activation=tanh, alpha=0.01, hidden_layer_sizes=(50, 50), learning_rate=adaptive, max_iter=1000, solver=adam; total time=   0.1s\n",
      "[CV] END activation=tanh, alpha=0.01, hidden_layer_sizes=(100, 100), learning_rate=constant, max_iter=1000, solver=sgd; total time=   0.2s\n",
      "mple=1.0; total time=   0.1s\n",
      "[CV] END learning_rate=0.1, max_depth=5, min_samples_leaf=1, min_samples_split=3, n_estimators=200, subsample=0.9; total time=   0.2s\n",
      "[CV] END learning_rate=0.1, max_depth=5, min_samples_leaf=1, min_samples_split=3, n_estimators=200, subsample=1.0; total time=   0.2s\n",
      "[CV] END learning_rate=0.1, max_depth=5, min_samples_leaf=1, min_samples_split=3, n_estimators=300, subsample=0.9; total time=   0.3s\n",
      "[CV] END learning_rate=0.1, max_depth=5, min_samples_leaf=1, min_samples_split=3, n_estimators=300, subsample=0.9; total time=   0.4s\n",
      "[CV] END learning_rate=0.1, max_depth=5, min_samples_leaf=1, min_samples_split=4, n_estimators=100, subsample=0.9; total time=   0.1s\n",
      "[CV] END learning_rate=0.1, max_depth=5, min_samples_leaf=1, min_samples_split=4, n_estimators=100, subsample=0.9; total time=   0.1s\n",
      "[CV] END learning_rate=0.1, max_depth=5, min_samples_leaf=1, min_samples_split=4, n_estimators=200, subsample=0.8; total time=   0.2s\n",
      "[CV] END learning_rate=0.1, max_depth=5, min_samples_leaf=1, min_samples_split=4, n_estimators=200, subsample=0.9; total time=   0.2s\n",
      "[CV] END learning_rate=0.1, max_depth=5, min_samples_leaf=1, min_samples_split=4, n_estimators=300, subsample=0.8; total time=   0.3s\n",
      "[CV] END learning_rate=0.1, max_depth=5, min_samples_leaf=1, min_samples_split=4, n_estimators=300, subsample=0.8; total time=   0.2s\n",
      "[CV] END learning_rate=0.1, max_depth=5, min_samples_leaf=2, min_samples_split=2, n_estimators=100, subsample=0.8; total time=   0.1s\n",
      "[CV] END learning_rate=0.1, max_depth=5, min_samples_leaf=2, min_samples_split=2, n_estimators=100, subsample=0.8; total time=   0.1s\n",
      "[CV] END learning_rate=0.1, max_depth=5, min_samples_leaf=2, min_samples_split=2, n_estimators=100, subsample=0.8; total time=   0.1s\n",
      "[CV] END learning_rate=0.1, max_depth=5, min_samples_leaf=2, min_samples_split=2, n_estimators=100, subsample=0.9; total time=   0.2s\n",
      "[CV] END learning_rate=0.1, max_depth=5, min_samples_leaf=2, min_samples_split=2, n_estimators=100, subsample=1.0; total time=   0.1s\n",
      "[CV] END learning_rate=0.1, max_depth=5, min_samples_leaf=2, min_samples_split=2, n_estimators=200, subsample=0.8; total time=   0.2s\n",
      "[CV] END learning_rate=0.1, max_depth=5, min_samples_leaf=2, min_samples_split=2, n_estimators=200, subsample=1.0; total time=   0.2s\n",
      "[CV] END learning_rate=0.1, max_depth=5, min_samples_leaf=2, min_samples_split=2, n_estimators=200, subsample=1.0; total time=   0.2s\n",
      "[CV] END learning_rate=0.1, max_depth=5, min_samples_leaf=2, min_samples_split=2, n_estimators=300, subsample=1.0; total time=   0.4s\n",
      "[CV] END learning_rate=0.1, max_depth=5, min_samples_leaf=2, min_samples_split=2, n_estimators=300, subsample=1.0; total time=   0.3s\n",
      "[CV] END learning_rate=0.1, max_depth=5, min_samples_leaf=2, min_samples_split=3, n_estimators=200, subsample=0.8; total time=   0.2s\n",
      "[CV] END learning_rate=0.1, max_depth=5, min_samples_leaf=2, min_samples_split=3, n_estimators=200, subsample=0.9; total time=   0.2s\n",
      "[CV] END learning_rate=0.1, max_depth=5, min_samples_leaf=2, min_samples_split=3, n_estimators=300, subsample=0.8; total time=   0.3s\n",
      "[CV] END learning_rate=0.1, max_depth=5, min_samples_leaf=2, min_samples_split=3, n_estimators=300, subsample=0.8; total time=   0.3s\n",
      "[CV] END learning_rate=0.1, max_depth=5, min_samples_leaf=2, min_samples_split=4, n_estimators=100, subsample=0.8; total time=   0.1s\n",
      "[CV] END learning_rate=0.1, max_depth=5, min_samples_leaf=2, min_samples_split=4, n_estimators=100, subsample=0.8; total time=   0.1s\n",
      "[CV] END learning_rate=0.1, max_depth=5, min_samples_leaf=2, min_samples_split=4, n_estimators=100, subsample=0.9; total time=   0.1s\n",
      "[CV] END learning_rate=0.1, max_depth=5, min_samples_leaf=2, min_samples_split=4, n_estimators=100, subsample=0.9;rning_rate=0.2, max_depth=5, min_samples_leaf=1, min_samples_split=4, n_estimators=100, subsample=0.8; total time=   0.1s\n",
      "[CV] END learning_rate=0.2, max_depth=5, min_samples_leaf=1, min_samples_split=4, n_estimators=100, subsample=0.9; total time=   0.1s\n",
      "[CV] END learning_rate=0.2, max_depth=5, min_samples_leaf=1, min_samples_split=4, n_estimators=100, subsample=1.0; total time=   0.1s\n",
      "[CV] END learning_rate=0.2, max_depth=5, min_samples_leaf=1, min_samples_split=4, n_estimators=200, subsample=0.8; total time=   0.2s\n",
      "[CV] END learning_rate=0.2, max_depth=5, min_samples_leaf=1, min_samples_split=4, n_estimators=200, subsample=0.9; total time=   0.2s\n",
      "[CV] END learning_rate=0.2, max_depth=5, min_samples_leaf=1, min_samples_split=4, n_estimators=200, subsample=1.0; total time=   0.2s\n",
      "[CV] END learning_rate=0.2, max_depth=5, min_samples_leaf=1, min_samples_split=4, n_estimators=300, subsample=0.8; total time=   0.3s\n",
      "[CV] END learning_rate=0.2, max_depth=5, min_samples_leaf=1, min_samples_split=4, n_estimators=300, subsample=0.9; total time=   0.3s\n",
      "[CV] END learning_rate=0.2, max_depth=5, min_samples_leaf=1, min_samples_split=4, n_estimators=300, subsample=1.0; total time=   0.3s\n",
      "[CV] END learning_rate=0.2, max_depth=5, min_samples_leaf=2, min_samples_split=2, n_estimators=100, subsample=0.8; total time=   0.1s\n",
      "[CV] END learning_rate=0.2, max_depth=5, min_samples_leaf=2, min_samples_split=2, n_estimators=100, subsample=0.9; total time=   0.1s\n",
      "[CV] END learning_rate=0.2, max_depth=5, min_samples_leaf=2, min_samples_split=2, n_estimators=100, subsample=1.0; total time=   0.1s\n",
      "[CV] END learning_rate=0.2, max_depth=5, min_samples_leaf=2, min_samples_split=2, n_estimators=200, subsample=0.8; total time=   0.2s\n",
      "[CV] END learning_rate=0.2, max_depth=5, min_samples_leaf=2, min_samples_split=2, n_estimators=200, subsample=0.9; total time=   0.2s\n",
      "[CV] END learning_rate=0.2, max_depth=5, min_samples_leaf=2, min_samples_split=2, n_estimators=200, subsample=1.0; total time=   0.2s\n",
      "[CV] END learning_rate=0.2, max_depth=5, min_samples_leaf=2, min_samples_split=2, n_estimators=300, subsample=0.9; total time=   0.3s\n",
      "[CV] END learning_rate=0.2, max_depth=5, min_samples_leaf=2, min_samples_split=2, n_estimators=300, subsample=1.0; total time=   0.4s\n",
      "[CV] END learning_rate=0.2, max_depth=5, min_samples_leaf=2, min_samples_split=3, n_estimators=100, subsample=0.8; total time=   0.1s\n",
      "[CV] END learning_rate=0.2, max_depth=5, min_samples_leaf=2, min_samples_split=3, n_estimators=100, subsample=1.0; total time=   0.1s\n",
      "[CV] END learning_rate=0.2, max_depth=5, min_samples_leaf=2, min_samples_split=3, n_estimators=200, subsample=0.8; total time=   0.2s\n",
      "[CV] END learning_rate=0.2, max_depth=5, min_samples_leaf=2, min_samples_split=3, n_estimators=200, subsample=0.9; total time=   0.2s\n",
      "[CV] END learning_rate=0.2, max_depth=5, min_samples_leaf=2, min_samples_split=3, n_estimators=200, subsample=1.0; total time=   0.2s\n",
      "[CV] END learning_rate=0.2, max_depth=5, min_samples_leaf=2, min_samples_split=3, n_estimators=300, subsample=0.9; total time=   0.3s\n",
      "[CV] END learning_rate=0.2, max_depth=5, min_samples_leaf=2, min_samples_split=3, n_estimators=300, subsample=1.0; total time=   0.3s\n",
      "[CV] END learning_rate=0.2, max_depth=5, min_samples_leaf=2, min_samples_split=4, n_estimators=100, subsample=0.9; total time=   0.1s\n",
      "[CV] END learning_rate=0.2, max_depth=5, min_samples_leaf=2, min_samples_split=4, n_estimators=100, subsample=0.9; total time=   0.1s\n",
      "[CV] END learning_rate=0.2, max_depth=5, min_samples_leaf=2, min_samples_split=4, n_estimators=200, subsample=0.8; total time=   0.2s\n",
      "[CV] END learning_rate=0.2, max_depth=5, min_samples_leaf=2, min_samples_split=4, n_estimators=200, subsample=0.9; total time=   0.2s\n",
      "[CV] END learning_rate=0.2, max_depth=5, min_samples_leaf=2, min_samples_split=4, n_estimators=200, subsample=1.0; total time=   0.3s\n",
      "[CV] END learning_rate=0.2, max_depth=5, min_samples_leaf=2, min_samples_split=4, n_estimators=300, subsample=0.9; total time=   0.3s\n",
      "[CV] END learning_rate=0.2, max_depth=5, min_samples_leaf=2, min_samples_split=4, n_estimators=300, subsample=1.0; total time=   0.3s\n",
      "[CV] END learning_rate=0.2, max_depth=5, min_samples_leaf=3, min_samples_split=2, n_estimators=100, subsample=0.9; total time=   0.1s\n",
      "[CV] END learning_rate=0.2, max_depth=5, min_samples_leaf=3, min_samples_split=2, n_estimators=100, subsample=1.0; total time=   0.1s\n",
      "[CV] END learning_rate=0.2, max_depth=5, min_samples_leaf=3, min_samples_split=2, n_estimators=200, subsample=0.8; total time=   0.2s\n",
      "[CV] END learning_rate=0.2, max_depth=5, min_samples_leaf=3, min_samples_split=2, n_estimators=200, subsample=0.9; total time=   0.2s\n",
      "[CV] END learning_rate=0.2, max_depth=5, min_samples_leaf=3, min_samples_split=2, n_estimators=200, subsample=1.0; total time=   0.2s\n",
      "[CV] END learning_rate=0.2, max_depth=5, min_samples_leaf=3, min_samples_split=2, n_estimators=300, subsample=0.9; total time=   0.3s\n",
      "[CV] END learning_rate=0.2, max_depth=5, min_samples_leaf=3, min_samples_split=2, n_estimators=300, subsample=1.0; total time=   0.3s\n",
      "[CV] END learning_rate=0.2, max_depth=5, min_samples_leaf=3, min_samples_split=3, n_estimators=200, subsample=0.8; total time=   0.2s\n",
      "[CV] END learning_rate=0.2, max_depth=5, min_samples_leaf=3, min_samples_split=3, n_estimators=200, subsample=1.0; total time=   0.3s\n",
      "_leaf=3, min_samples_split=3, n_estimators=100, subsample=0.8; total time=   0.1s\n",
      "[CV] END learning_rate=0.2, max_depth=3, min_samples_leaf=3, min_samples_split=3, n_estimators=100, subsample=0.9; total time=   0.1s\n",
      "[CV] END learning_rate=0.2, max_depth=3, min_samples_leaf=3, min_samples_split=3, n_estimators=100, subsample=1.0; total time=   0.1s\n",
      "[CV] END learning_rate=0.2, max_depth=3, min_samples_leaf=3, min_samples_split=3, n_estimators=200, subsample=0.8; total time=   0.1s\n",
      "[CV] END learning_rate=0.2, max_depth=3, min_samples_leaf=3, min_samples_split=3, n_estimators=200, subsample=1.0; total time=   0.1s\n",
      "[CV] END learning_rate=0.2, max_depth=3, min_samples_leaf=3, min_samples_split=3, n_estimators=300, subsample=0.8; total time=   0.2s\n",
      "[CV] END learning_rate=0.2, max_depth=3, min_samples_leaf=3, min_samples_split=3, n_estimators=300, subsample=0.9; total time=   0.2s\n",
      "[CV] END learning_rate=0.2, max_depth=3, min_samples_leaf=3, min_samples_split=4, n_estimators=100, subsample=0.8; total time=   0.1s\n",
      "[CV] END learning_rate=0.2, max_depth=3, min_samples_leaf=3, min_samples_split=4, n_estimators=100, subsample=0.8; total time=   0.1s\n",
      "[CV] END learning_rate=0.2, max_depth=3, min_samples_leaf=3, min_samples_split=4, n_estimators=100, subsample=0.9; total time=   0.1s\n",
      "[CV] END learning_rate=0.2, max_depth=3, min_samples_leaf=3, min_samples_split=4, n_estimators=200, subsample=0.8; total time=   0.1s\n",
      "[CV] END learning_rate=0.2, max_depth=3, min_samples_leaf=3, min_samples_split=4, n_estimators=200, subsample=0.9; total time=   0.1s\n",
      "[CV] END learning_rate=0.2, max_depth=3, min_samples_leaf=3, min_samples_split=4, n_estimators=200, subsample=1.0; total time=   0.1s\n",
      "[CV] END learning_rate=0.2, max_depth=3, min_samples_leaf=3, min_samples_split=4, n_estimators=300, subsample=0.9; total time=   0.2s\n",
      "[CV] END learning_rate=0.2, max_depth=3, min_samples_leaf=3, min_samples_split=4, n_estimators=300, subsample=1.0; total time=   0.2s\n",
      "[CV] END learning_rate=0.2, max_depth=4, min_samples_leaf=1, min_samples_split=2, n_estimators=100, subsample=0.9; total time=   0.1s\n",
      "[CV] END learning_rate=0.2, max_depth=4, min_samples_leaf=1, min_samples_split=2, n_estimators=100, subsample=1.0; total time=   0.1s\n",
      "[CV] END learning_rate=0.2, max_depth=4, min_samples_leaf=1, min_samples_split=2, n_estimators=200, subsample=0.8; total time=   0.2s\n",
      "[CV] END learning_rate=0.2, max_depth=4, min_samples_leaf=1, min_samples_split=2, n_estimators=200, subsample=1.0; total time=   0.2s\n",
      "[CV] END learning_rate=0.2, max_depth=4, min_samples_leaf=1, min_samples_split=2, n_estimators=300, subsample=0.8; total time=   0.2s\n",
      "[CV] END learning_rate=0.2, max_depth=4, min_samples_leaf=1, min_samples_split=2, n_estimators=300, subsample=0.9; total time=   0.3s\n",
      "[CV] END learning_rate=0.2, max_depth=4, min_samples_leaf=1, min_samples_split=3, n_estimators=100, subsample=0.8; total time=   0.1s\n",
      "[CV] END learning_rate=0.2, max_depth=4, min_samples_leaf=1, min_samples_split=3, n_estimators=100, subsample=0.8; total time=   0.1s\n",
      "[CV] END learning_rate=0.2, max_depth=4, min_samples_leaf=1, min_samples_split=3, n_estimators=100, subsample=0.9; total time=   0.1s\n",
      "[CV] END learning_rate=0.2, max_depth=4, min_samples_leaf=1, min_samples_split=3, n_estimators=100, subsample=1.0; total time=   0.1s\n",
      "[CV] END learning_rate=0.2, max_depth=4, min_samples_leaf=1, min_samples_split=3, n_estimators=200, subsample=0.9; total time=   0.2s\n",
      "[CV] END learning_rate=0.2, max_depth=4, min_samples_leaf=1, min_samples_split=3, n_estimators=200, subsample=1.0; total time=   0.2s\n",
      "[CV] END learning_rate=0.2, max_depth=4, min_samples_leaf=1, min_samples_split=3, n_estimators=300, subsample=0.8; total time=   0.2s\n",
      "[CV] END learning_rate=0.2, max_depth=4, min_samples_leaf=1, min_samples_split=3, n_estimators=300, subsample=0.9; total time=   0.3s\n",
      "[CV] END learning_rate=0.2, max_depth=4, min_samples_leaf=1, min_samples_split=4, n_estimators=100, subsample=0.8; total time=   0.1s\n",
      "[CV] END learning_rate=0.2, max_depth=4, min_samples_leaf=1, min_samples_split=4, n_estimators=100, subsample=0.9; total time=   0.1s\n",
      "[CV] END learning_rate=0.2, max_depth=4, min_samples_leaf=1, min_samples_split=4, n_estimators=100, subsample=1.0; total time=   0.1s\n",
      "[CV] END learning_rate=0.2, max_depth=4, min_samples_leaf=1, min_samples_split=4, n_estimators=200, subsample=0.8; total time=   0.2s\n",
      "[CV] END learning_rate=0.2, max_depth=4, min_samples_leaf=1, min_samples_split=4, n_estimators=200, subsample=0.9; total time=   0.1s\n",
      "[CV] END learning_rate=0.2, max_depth=4, min_samples_leaf=1, min_samples_split=4, n_estimators=300, subsample=0.8; total time=   0.2s\n",
      "[CV] END learning_rate=0.2, max_depth=4, min_samples_leaf=1, min_samples_split=4, n_estimators=300, subsample=0.9; total time=   0.2s\n",
      "[CV] END learning_rate=0.2, max_depth=4, min_samples_leaf=1, min_samples_split=4, n_estimators=300, subsample=1.0; total time=   0.3s\n",
      "[CV] END learning_rate=0.2, max_depth=4, min_samples_leaf=2, min_samples_split=2, n_estimators=100, subsample=0.9; total time=   0.1s\n",
      "[CV] END learning_rate=0.2, max_depth=4, min_samples_leaf=2, min_samples_split=2, n_estimators=200, subsample=0.8; total time=   0.2s\n",
      "[CV] END learning_rate=0.2, max_depth=4, min_samples_leaf=2, min_samples_split=2, n_estimators=200, subsample=0.9; total time=   0.2s\n",
      "[CV] END learning_rate=0.2, max_depth=5, min_samples_leaf=3, min_samples_split=2, n_estimators=300, subsample=1.0; total time=   0.3s\n",
      "[CV] END learning_rate=0.2, max_depth=5, min_samples_leaf=3, min_samples_split=3, n_estimators=100, subsample=1.0; total time=   0.1s\n",
      "[CV] END learning_rate=0.2, max_depth=5, min_samples_leaf=3, min_samples_split=3, n_estimators=200, subsample=0.9; total time=   0.2s\n",
      "[CV] END learning_rate=0.2, max_depth=5, min_samples_leaf=3, min_samples_split=3, n_estimators=300, subsample=0.8; total time=   0.3s\n",
      "[CV] END learning_rate=0.2, max_depth=5, min_samples_leaf=3, min_samples_split=3, n_estimators=300, subsample=1.0; total time=   0.4s\n",
      "[CV] END learning_rate=0.2, max_depth=5, min_samples_leaf=3, min_samples_split=4, n_estimators=100, subsample=1.0; total time=   0.1s\n",
      "[CV] END learning_rate=0.2, max_depth=5, min_samples_leaf=3, min_samples_split=4, n_estimators=200, subsample=0.9; total time=   0.2s\n",
      "[CV] END learning_rate=0.2, max_depth=5, min_samples_leaf=3, min_samples_split=4, n_estimators=300, subsample=0.8; total time=   0.4s\n",
      "[CV] END learning_rate=0.2, max_depth=5, min_samples_leaf=3, min_samples_split=4, n_estimators=300, subsample=1.0; total time=   0.4s\n",
      "[CV] END activation=tanh, alpha=0.0001, hidden_layer_sizes=(50,), learning_rate=constant, max_iter=1000, solver=sgd; total time=   0.1s\n",
      "[CV] END activation=tanh, alpha=0.0001, hidden_layer_sizes=(50,), learning_rate=constant, max_iter=1000, solver=adam; total time=   0.1s\n",
      "[CV] END activation=tanh, alpha=0.0001, hidden_layer_sizes=(50,), learning_rate=adaptive, max_iter=500, solver=adam; total time=   0.0s\n",
      "[CV] END activation=tanh, alpha=0.0001, hidden_layer_sizes=(50,), learning_rate=adaptive, max_iter=1000, solver=sgd; total time=   0.1s\n",
      "[CV] END activation=tanh, alpha=0.0001, hidden_layer_sizes=(100,), learning_rate=constant, max_iter=1000, solver=sgd; total time=   0.0s\n",
      "[CV] END activation=tanh, alpha=0.0001, hidden_layer_sizes=(100,), learning_rate=adaptive, max_iter=500, solver=sgd; total time=   0.1s\n",
      "[CV] END activation=tanh, alpha=0.0001, hidden_layer_sizes=(100,), learning_rate=adaptive, max_iter=1000, solver=adam; total time=   0.1s\n",
      "[CV] END activation=tanh, alpha=0.0001, hidden_layer_sizes=(50, 50), learning_rate=constant, max_iter=1000, solver=adam; total time=   0.2s\n",
      "[CV] END activation=tanh, alpha=0.0001, hidden_layer_sizes=(50, 50), learning_rate=constant, max_iter=1000, solver=adam; total time=   0.1s\n",
      "[CV] END activation=tanh, alpha=0.0001, hidden_layer_sizes=(100, 100), learning_rate=constant, max_iter=500, solver=sgd; total time=   0.2s\n",
      "[CV] END activation=tanh, alpha=0.0001, hidden_layer_sizes=(100, 100), learning_rate=constant, max_iter=500, solver=sgd; total time=   0.3s\n",
      "[CV] END activation=tanh, alpha=0.0001, hidden_layer_sizes=(100, 100), learning_rate=adaptive, max_iter=500, solver=adam; total time=   0.2s\n",
      "[CV] END activation=tanh, alpha=0.0001, hidden_layer_sizes=(100, 100), learning_rate=adaptive, max_iter=500, solver=adam; total time=   0.1s\n",
      "[CV] END activation=tanh, alpha=0.0001, hidden_layer_sizes=(200, 200), learning_rate=constant, max_iter=500, solver=sgd; total time=   0.4s\n",
      "[CV] END activation=tanh, alpha=0.0001, hidden_layer_sizes=(200, 200), learning_rate=constant, max_iter=500, solver=adam; total time=   0.4s\n",
      "[CV] END activation=tanh, alpha=0.0001, hidden_layer_sizes=(200, 200), learning_rate=adaptive, max_iter=500, solver=adam; total time=   0.5s\n",
      "[CV] END activation=tanh, alpha=0.0001, hidden_layer_sizes=(200, 200), learning_rate=adaptive, max_iter=500, solver=adam; total time=   0.5s\n",
      "[CV] END activation=tanh, alpha=0.001, hidden_layer_sizes=(50,), learning_rate=constant, max_iter=1000, solver=adam; total time=   0.1s\n",
      "[CV] END activation=tanh, alpha=0.001, hidden_layer_sizes=(50,), learning_rate=constant, max_iter=1000, solver=adam; total time=   0.1s\n",
      "[CV] END activation=tanh, alpha=0.001, hidden_layer_sizes=(50,), learning_rate=adaptive, max_iter=1000, solver=sgd; total time=   0.2s\n",
      "[CV] END activation=tanh, alpha=0.001, hidden_layer_sizes=(50,), learning_rate=adaptive, max_iter=1000, solver=sgd; total time=   0.1s\n",
      "[CV] END activation=tanh, alpha=0.001, hidden_layer_sizes=(100,), learning_rate=constant, max_iter=500, solver=adam; total time=   0.0s\n",
      "[CV] END activation=tanh, alpha=0.001, hidden_layer_sizes=(100,), learning_rate=constant, max_iter=500, solver=adam; total time=   0.1s\n",
      "[CV] END activation=tanh, alpha=0.001, hidden_layer_sizes=(100,), learning_rate=adaptive, max_iter=500, solver=sgd; total time=   0.2s\n",
      "[CV] END activation=tanh, alpha=0.001, hidden_layer_sizes=(100,), learning_rate=adaptive, max_iter=500, solver=adam; total time=   0.1s\n",
      "[CV] END activation=tanh, alpha=0.001, hidden_layer_sizes=(50, 50), learning_rate=constant, max_iter=1000, solver=sgd; total time=   0.2s\n",
      "[CV] END activation=tanh, alpha=0.001, hidden_layer_sizes=(50, 50), learning_rate=constant, max_iter=1000, solver=adam; total time=   0.0s\n",
      "[CV] END activation=tanh, alpha=0.001, hidden_layer_sizes=(50, 50), learning_rate=adaptive, max_iter=1000, solver=adam; total time=   0.2s\n",
      "[CV] END activation=tanh, alpha=0.001, hidden_layer_sizes=(50, 50), learning_rate=adaptive, max_iter=1000, solver=adam; total time=   0.1s\n",
      "[CV] END activation=tanh, alpha=0.001, hidden_layer_sizes=(100, 100), learning_rate=constant, max_iter=1000, solver=adam; total time=   0.1s\n",
      "[CV] END activation=tanh, alpha=0.001, hidden_layer_sizes=(100, 100), learning_rate=constant, max_iter=1000, solver=adam; total time=   0.1s\n",
      "[CV] END activation=tanh, alpha=0.001, hidden_layer_sizes=(100, 100), learning_rate=adaptive, max_iter=1000, solver=sgd; total time=   0.3s\n",
      "[CV] END activation=tanh, alpha=0.001, hidden_layer_sizes=(100, 100), learning_rate=adaptive, max_iter=1000, solver=adam; total time=   0.2s\n",
      "[CV] END activation=tanh, alpha=0.001, hidden_layer_sizes=(200, 200), learning_rate=constant, max_iter=1000, solver=sgd; total time=   0.3s\n",
      "[CV] END activation=tanh, alpha=0.001, hidden_layer_sizes=(200, 200), learning_rate=constant, max_iter=1000, solver=sgd; total time=   0.3s\n",
      "[CV] END activation=tanh, alpha=0.001, hidden_layer_sizes=(200, 200), learning_rate=adaptive, max_iter=500, solver=adam; total time=   0.5s\n",
      "[CV] END activation=tanh, alpha=0.001, hidden_layer_sizes=(200, 200), learning_rate=adaptive, max_iter=500, solver=adam; total time=   0.4s\n",
      "[CV] END activation=tanh, alpha=0.01, hidden_layer_sizes=(50,), learning_rate=constant, max_iter=500, solver=sgd; total time=   0.1s\n",
      "[CV] END activation=tanh, alpha=0.01, hidden_layer_sizes=(50,), learning_rate=constant, max_iter=500, solver=sgd; total time=   0.1s\n",
      "[CV] END activation=tanh, alpha=0.01, hidden_layer_sizes=(50,), learning_rate=constant, max_iter=500, solver=sgd; total time=   0.0s\n",
      "[CV] END activation=tanh, alpha=0.01, hidden_layer_sizes=(50,), learning_rate=constant, max_iter=500, solver=adam; total time=   0.1s\n",
      "[CV] END activation=tanh, alpha=0.01, hidden_layer_sizes=(50,), learning_rate=constant, max_iter=500, solver=adam; total time=   0.1s\n",
      "[CV] END activation=tanh, alpha=0.01, hidden_layer_sizes=(50,), learning_rate=constant, max_iter=500, solver=adam; total time=   0.1s\n",
      "[CV] END activation=tanh, alpha=0.01, hidden_layer_sizes=(50,), learning_rate=adaptive, max_iter=500, solver=sgd; total time=   0.2s\n",
      "[CV] END activation=tanh, alpha=0.01, hidden_layer_sizes=(50,), learning_rate=adample=1.0; total time=   0.3s\n",
      "[CV] END learning_rate=0.2, max_depth=4, min_samples_leaf=2, min_samples_split=3, n_estimators=100, subsample=0.8; total time=   0.1s\n",
      "[CV] END learning_rate=0.2, max_depth=4, min_samples_leaf=2, min_samples_split=3, n_estimators=100, subsample=0.9; total time=   0.1s\n",
      "[CV] END learning_rate=0.2, max_depth=4, min_samples_leaf=2, min_samples_split=3, n_estimators=100, subsample=1.0; total time=   0.1s\n",
      "[CV] END learning_rate=0.2, max_depth=4, min_samples_leaf=2, min_samples_split=3, n_estimators=200, subsample=0.8; total time=   0.1s\n",
      "[CV] END learning_rate=0.2, max_depth=4, min_samples_leaf=2, min_samples_split=3, n_estimators=200, subsample=0.9; total time=   0.2s\n",
      "[CV] END learning_rate=0.2, max_depth=4, min_samples_leaf=2, min_samples_split=3, n_estimators=200, subsample=1.0; total time=   0.1s\n",
      "[CV] END learning_rate=0.2, max_depth=4, min_samples_leaf=2, min_samples_split=3, n_estimators=300, subsample=0.8; total time=   0.2s\n",
      "[CV] END learning_rate=0.2, max_depth=4, min_samples_leaf=2, min_samples_split=3, n_estimators=300, subsample=0.9; total time=   0.2s\n",
      "[CV] END learning_rate=0.2, max_depth=4, min_samples_leaf=2, min_samples_split=3, n_estimators=300, subsample=1.0; total time=   0.3s\n",
      "[CV] END learning_rate=0.2, max_depth=4, min_samples_leaf=2, min_samples_split=4, n_estimators=100, subsample=0.8; total time=   0.1s\n",
      "[CV] END learning_rate=0.2, max_depth=4, min_samples_leaf=2, min_samples_split=4, n_estimators=100, subsample=0.8; total time=   0.1s\n",
      "[CV] END learning_rate=0.2, max_depth=4, min_samples_leaf=2, min_samples_split=4, n_estimators=100, subsample=0.9; total time=   0.1s\n",
      "[CV] END learning_rate=0.2, max_depth=4, min_samples_leaf=2, min_samples_split=4, n_estimators=100, subsample=1.0; total time=   0.1s\n",
      "[CV] END learning_rate=0.2, max_depth=4, min_samples_leaf=2, min_samples_split=4, n_estimators=200, subsample=0.8; total time=   0.1s\n",
      "[CV] END learning_rate=0.2, max_depth=4, min_samples_leaf=2, min_samples_split=4, n_estimators=200, subsample=0.9; total time=   0.2s\n",
      "[CV] END learning_rate=0.2, max_depth=4, min_samples_leaf=2, min_samples_split=4, n_estimators=200, subsample=1.0; total time=   0.2s\n",
      "[CV] END learning_rate=0.2, max_depth=4, min_samples_leaf=2, min_samples_split=4, n_estimators=300, subsample=0.8; total time=   0.2s\n",
      "[CV] END learning_rate=0.2, max_depth=5, min_samples_leaf=2, min_samples_split=2, n_estimators=300, subsample=0.8; total time=   0.3s\n",
      "[CV] END learning_rate=0.2, max_depth=5, min_samples_leaf=2, min_samples_split=2, n_estimators=300, subsample=1.0; total time=   0.3s\n",
      "[CV] END learning_rate=0.2, max_depth=5, min_samples_leaf=2, min_samples_split=3, n_estimators=100, subsample=0.8; total time=   0.1s\n",
      "[CV] END learning_rate=0.2, max_depth=5, min_samples_leaf=2, min_samples_split=3, n_estimators=100, subsample=0.9; total time=   0.1s\n",
      "[CV] END learning_rate=0.2, max_depth=5, min_samples_leaf=2, min_samples_split=3, n_estimators=100, subsample=1.0; total time=   0.1s\n",
      "[CV] END learning_rate=0.2, max_depth=5, min_samples_leaf=2, min_samples_split=3, n_estimators=200, subsample=0.9; total time=   0.3s\n",
      "[CV] END learning_rate=0.2, max_depth=5, min_samples_leaf=2, min_samples_split=3, n_estimators=200, subsample=1.0; total time=   0.2s\n",
      "[CV] END learning_rate=0.2, max_depth=5, min_samples_leaf=2, min_samples_split=3, n_estimators=300, subsample=0.8; total time=   0.3s\n",
      "[CV] END learning_rate=0.2, max_depth=5, min_samples_leaf=2, min_samples_split=3, n_estimators=300, subsample=1.0; total time=   0.3s\n",
      "[CV] END learning_rate=0.2, max_depth=5, min_samples_leaf=2, min_samples_split=4, n_estimators=100, subsample=0.8; total time=   0.1s\n",
      "[CV] END learning_rate=0.2, max_depth=5, min_samples_leaf=2, min_samples_split=4, n_estimators=100, subsample=0.9; total time=   0.1s\n",
      "[CV] END learning_rate=0.2, max_depth=5, min_samples_leaf=2, min_samples_split=4, n_estimators=100, subsample=1.0; total time=   0.1s\n",
      "[CV] END learning_rate=0.2, max_depth=5, min_samples_leaf=2, min_samples_split=4, n_estimators=200, subsample=0.8; total time=   0.2s\n",
      "[CV] END learning_rate=0.2, max_depth=5, min_samples_leaf=2, min_samples_split=4, n_estimators=200, subsample=1.0; total time=   0.2s\n",
      "[CV] END learning_rate=0.2, max_depth=5, min_samples_leaf=2, min_samples_split=4, n_estimators=300, subsample=0.8; total time=   0.3s\n",
      "[CV] END learning_rate=0.2, max_depth=5, min_samples_leaf=2, min_samples_split=4, n_estimators=300, subsample=1.0; total time=   0.3s\n",
      "[CV] END learning_rate=0.2, max_depth=5, min_samples_leaf=3, min_samples_split=2, n_estimators=100, subsample=0.8; total time=   0.1s\n",
      "[CV] END learning_rate=0.2, max_depth=5, min_samples_leaf=3, min_samples_split=2, n_estimators=100, subsample=0.9; total time=   0.1s\n",
      "[CV] END learning_rate=0.2, max_depth=5, min_samples_leaf=3, min_samples_split=2, n_estimators=100, subsample=1.0; total time=   0.1s\n",
      "[CV] END learning_rate=0.2, max_depth=5, min_samples_leaf=3, min_samples_split=2, n_estimators=200, subsample=0.9; total time=   0.2s\n",
      "[CV] END learning_rate=0.2, max_depth=5, min_samples_leaf=3, min_samples_split=2, n_estimators=200, subsample=1.0; total time=   0.2s\n",
      "[CV] END learning_rate=0.2, max_depth=5, min_samples_leaf=3, min_samples_split=2, n_estimators=300, subsample=0.8; total time=   0.3s\n",
      "[CV] END learning_rate=0.2, max_depth=5, min_samples_leaf=3, min_samples_split=2, n_estimators=300, subsample=1.0; total time=   0.3s\n",
      "[CV] END learning_rate=0.2, max_depth=5, min_samples_leaf=3, min_samples_split=3, n_estimators=100, subsample=1.0; total time=   0.1s\n",
      "[CV] END learning_rate=0.2, max_depth=5, min_samples_leaf=3, min_samples_split=3, n_estimators=200, subsample=0.9; total time=   0.2s\n",
      "[CV] END learning_rate=0.2, max_depth=5, min_samples_leaf=3, min_samples_split=3, n_estimators=200, subsample=1.0; total time=   0.3s\n",
      "[CV] END learning_rate=0.2, max_depth=5, min_samples_leaf=3, min_samples_split=3, n_estimators=300, subsample=0.9; total time=   0.4s\n",
      "[CV] END learning_rate=0.2, max_depth=5, min_samples_leaf=3, min_samples_split=4, n_estimators=100, subsample=0.8; total time=   0.1s\n",
      "[CV] END learning_rate=0.2, max_depth=5, min_samples_leaf=3, min_samples_split=4, n_estimators=100, subsample=1.0; total time=   0.1s\n",
      "[CV] END learning_rate=0.2, max_depth=5, min_samples_leaf=3, min_samples_split=4, n_estimators=200, subsample=0.8; total time=   0.2s\n",
      "[CV] END learning_rate=0.2, max_depth=5, min_samples_leaf=3, min_samples_split=4, n_estimators=200, subsample=1.0; total time=   0.2s\n",
      "[CV] END learning_rate=0.2, max_depth=5, min_samples_leaf=3, min_samples_split=4, n_estimators=300, subsample=0.9; total time=   0.5s\n",
      "[CV] END activation=tanh, alpha=0.0001, hidden_layer_sizes=(50,), learning_rate=constant, max_iter=500, solver=sgd; total time=   0.1s\n",
      "[CV] END activation=tanh, alpha=0.0001, hidden_layer_sizes=(50,), learning_rate=adaptive, max_iter=500, solver=adam; total time=   0.1s\n",
      "[CV] END activation=tanh, alpha=0.0001, hidden_layer_sizes=(50,), learning_rate=adaptive, max_iter=1000, solver=adam; total time=   0.1s\n",
      "[CV] END activation=tanh, alpha=0.0001, hidden_layer_sizes=(100,), learning_rate=constant, max_iter=500, solver=adam; total time=   0.0s\n",
      "[CV] END activation=tanh, alpha=0.0001, hidden_layer_sizes=(100,), learning_rate=constant, max_iter=1000, solver=adam; total time=   0.0s\n",
      "[CV] END activation=tanh, alpha=0.0001, hidden_layer_sizes=(100,), learning_rate=adaptive, max_iter=500, solver=adam; total time=   0.0s\n",
      "[CV] END activation=tanh, alpha=0.0001, hidden_layer_sizes=(100,), learning_rate=adaptive, max_iter=1000, solver=sgd; total time=   0.2s\n",
      "[CV] END activation=tanh, alpha=0.0001, hidden_layer_sizes=(50, 50), learning_rate=adaptive, max_iter=500, solver=sgd; total time=   0.2s\n",
      "[CV] END activation=tanh, alpha=0.0001, hidden_layer_sizes=(50, 50), learning_rate=adaptive, max_iter=500, solver=sgd; total time=   0.2s\n",
      "[CV] END activation=tanh, alpha=0.0001, hidden_layer_sizes=(100, 100), learning_rate=constant, max_iter=500, solver=adam; total time=   0.3s\n",
      "[CV] END activation=tanh, alpha=0.0001, hidden_layer_sizes=(100, 100), learning_rate=constant, max_iter=500, solver=adam; total time=   0.1s\n",
      "[CV] END activation=tanh, alpha=0.0001, hidden_layer_sizes=(100, 100), learning_rate=adaptive, max_iter=1000, solver=sgd; total time=   0.4s\n",
      "[CV] END activation=tanh, alpha=0.0001, hidden_layer_sizes=(100, 100), learning_rate=adaptive, max_iter=1000, solver=adam; total time=   0.1s\n",
      "[CV] END activation=tanh, alpha=0.0001, hidden_layer_sizes=(200, 200), learning_rate=constant, max_iter=1000, solver=sgd; total time=   0.5s\n",
      "[CV] END activation=tanh, alpha=0.0001, hidden_layer_sizes=(200, 200), learning_rate=constant, max_iter=1000, solver=adam; total time=   0.2s\n",
      "[CV] END activation=tanh, alpha=0.0001, hidden_layer_sizes=(200, 200), learning_rate=adaptive, max_iter=1000, solver=sgd; total time=   1.1s\n",
      "[CV] END activation=tanh, alpha=0.0001, hidden_layer_sizes=(200, 200), learning_rate=adaptive, max_iter=1000, solver=adam; total time=   0.3s\n",
      "[CV] END activation=tanh, alpha=0.001, hidden_layer_sizes=(100,), learning_rate=constant, max_iter=1000, solver=adam; total time=   0.1s\n",
      "[CV] END activation=tanh, alpha=0.001, hidden_layer_sizes=(100,), learning_rate=constant, max_iter=1000, solver=adam; total time=   0.1s\n",
      "[CV] END activation=tanh, alpha=0.001, hidden_layer_sizes=(100,), learning_rate=adaptive, max_iter=1000, solver=sgd; total time=   0.2s\n",
      "[CV] END activation=tanh, alpha=0.001, hidden_layer_sizes=(100,), learning_rate=adaptive, max_iter=1000, solver=adam; total time=   0.1s\n",
      "[CV] END activation=tanh, alpha=0.001, hidden_layer_sizes=(50, 50), learning_rate=adaptive, max_iter=500, solver=sgd; total time=   0.2s\n",
      "[CV] END activation=tanh, alpha=0.001, hidden_layer_sizes=(50, 50), learning_rate=adaptive, max_iter=500, solver=sgd; total time=   0.2s\n",
      "[CV] END activation=tanh, alpha=0.001, hidden_layer_sizes=(100, 100), learning_rate=constant, max_iter=1000, solver=sgd; total time=   0.1s\n",
      "[CV] END activation=tanh, alpha=0.001, hidden_layer_sizes=(100, 100), learning_rate=constant, max_iter=1000, solver=sgd; total time=   0.3s\n",
      "[CV] END activation=tanh, alpha=0.001, hidden_layer_sizes=(200, 200), learning_rate=constant, max_iter=500, solver=sgd; total time=   0.2s\n",
      "[CV] END activation=tanh, alpha=0.001, hidden_layer_sizes=(200, 200), learning_rate=constant, max_iter=500, solver=sgd; total time=   0.3s\n",
      " total time=   0.1s\n",
      "[CV] END learning_rate=0.1, max_depth=5, min_samples_leaf=2, min_samples_split=4, n_estimators=100, subsample=1.0; total time=   0.1s\n",
      "[CV] END learning_rate=0.1, max_depth=5, min_samples_leaf=2, min_samples_split=4, n_estimators=200, subsample=0.8; total time=   0.2s\n",
      "[CV] END learning_rate=0.1, max_depth=5, min_samples_leaf=2, min_samples_split=4, n_estimators=200, subsample=0.9; total time=   0.2s\n",
      "[CV] END learning_rate=0.1, max_depth=5, min_samples_leaf=2, min_samples_split=4, n_estimators=200, subsample=1.0; total time=   0.2s\n",
      "[CV] END learning_rate=0.1, max_depth=5, min_samples_leaf=2, min_samples_split=4, n_estimators=300, subsample=0.8; total time=   0.3s\n",
      "[CV] END learning_rate=0.1, max_depth=5, min_samples_leaf=2, min_samples_split=4, n_estimators=300, subsample=0.8; total time=   0.2s\n",
      "[CV] END learning_rate=0.1, max_depth=5, min_samples_leaf=2, min_samples_split=4, n_estimators=300, subsample=0.9; total time=   0.3s\n",
      "[CV] END learning_rate=0.1, max_depth=5, min_samples_leaf=2, min_samples_split=4, n_estimators=300, subsample=0.9; total time=   0.3s\n",
      "[CV] END learning_rate=0.1, max_depth=5, min_samples_leaf=2, min_samples_split=4, n_estimators=300, subsample=1.0; total time=   0.3s\n",
      "[CV] END learning_rate=0.1, max_depth=5, min_samples_leaf=3, min_samples_split=2, n_estimators=100, subsample=0.8; total time=   0.1s\n",
      "[CV] END learning_rate=0.1, max_depth=5, min_samples_leaf=3, min_samples_split=2, n_estimators=100, subsample=0.8; total time=   0.1s\n",
      "[CV] END learning_rate=0.1, max_depth=5, min_samples_leaf=3, min_samples_split=2, n_estimators=100, subsample=0.8; total time=   0.1s\n",
      "[CV] END activation=tanh, alpha=0.0001, hidden_layer_sizes=(50,), learning_rate=constant, max_iter=500, solver=adam; total time=   0.1s\n",
      "[CV] END activation=tanh, alpha=0.0001, hidden_layer_sizes=(50,), learning_rate=constant, max_iter=1000, solver=adam; total time=   0.1s\n",
      "[CV] END activation=tanh, alpha=0.0001, hidden_layer_sizes=(50,), learning_rate=adaptive, max_iter=1000, solver=sgd; total time=   0.1s\n",
      "[CV] END activation=tanh, alpha=0.0001, hidden_layer_sizes=(100,), learning_rate=constant, max_iter=1000, solver=sgd; total time=   0.1s\n",
      "[CV] END activation=tanh, alpha=0.0001, hidden_layer_sizes=(100,), learning_rate=adaptive, max_iter=500, solver=adam; total time=   0.1s\n",
      "[CV] END activation=tanh, alpha=0.0001, hidden_layer_sizes=(50, 50), learning_rate=constant, max_iter=500, solver=sgd; total time=   0.1s\n",
      "[CV] END activation=tanh, alpha=0.0001, hidden_layer_sizes=(50, 50), learning_rate=constant, max_iter=500, solver=sgd; total time=   0.1s\n",
      "[CV] END activation=tanh, alpha=0.0001, hidden_layer_sizes=(50, 50), learning_rate=adaptive, max_iter=1000, solver=sgd; total time=   0.2s\n",
      "[CV] END activation=tanh, alpha=0.0001, hidden_layer_sizes=(50, 50), learning_rate=adaptive, max_iter=1000, solver=adam; total time=   0.1s\n",
      "[CV] END activation=tanh, alpha=0.0001, hidden_layer_sizes=(100, 100), learning_rate=constant, max_iter=1000, solver=sgd; total time=   0.3s\n",
      "[CV] END activation=tanh, alpha=0.0001, hidden_layer_sizes=(100, 100), learning_rate=constant, max_iter=1000, solver=adam; total time=   0.1s\n",
      "[CV] END activation=tanh, alpha=0.0001, hidden_layer_sizes=(100, 100), learning_rate=adaptive, max_iter=1000, solver=adam; total time=   0.2s\n",
      "[CV] END activation=tanh, alpha=0.0001, hidden_layer_sizes=(100, 100), learning_rate=adaptive, max_iter=1000, solver=adam; total time=   0.1s\n",
      "[CV] END activation=tanh, alpha=0.0001, hidden_layer_sizes=(200, 200), learning_rate=constant, max_iter=500, solver=adam; total time=   0.4s\n",
      "[CV] END activation=tanh, alpha=0.0001, hidden_layer_sizes=(200, 200), learning_rate=constant, max_iter=500, solver=adam; total time=   0.5s\n",
      "[CV] END activation=tanh, alpha=0.0001, hidden_layer_sizes=(200, 200), learning_rate=adaptive, max_iter=1000, solver=adam; total time=   0.4s\n",
      "[CV] END activation=tanh, alpha=0.0001, hidden_layer_sizes=(200, 200), learning_rate=adaptive, max_iter=1000, solver=adam; total time=   0.5s\n",
      "[CV] END activation=tanh, alpha=0.001, hidden_layer_sizes=(50,), learning_rate=adaptive, max_iter=500, solver=adam; total time=   0.1s\n",
      "[CV] END activation=tanh, alpha=0.001, hidden_layer_sizes=(50,), learning_rate=adaptive, max_iter=500, solver=adam; total time=   0.1s\n",
      "[CV] END activation=tanh, alpha=0.001, hidden_layer_sizes=(50,), learning_rate=adaptive, max_iter=1000, solver=sgd; total time=   0.1s\n",
      "[CV] END activation=tanh, alpha=0.001, hidden_layer_sizes=(50,), learning_rate=adaptive, max_iter=1000, solver=adam; total time=   0.1s\n",
      "[CV] END activation=tanh, alpha=0.001, hidden_layer_sizes=(100,), learning_rate=constant, max_iter=1000, solver=sgd; total time=   0.1s\n",
      "[CV] END activation=tanh, alpha=0.001, hidden_layer_sizes=(100,), learning_rate=constant, max_iter=1000, solver=adam; total time=   0.0s\n",
      "[CV] END activation=tanh, alpha=0.001, hidden_layer_sizes=(100,), learning_rate=adaptive, max_iter=1000, solver=adam; total time=   0.0s\n",
      "[CV] END activation=tanh, alpha=0.001, hidden_layer_sizes=(100,), learning_rate=adaptive, max_iter=1000, solver=adam; total time=   0.2s\n",
      "[CV] END activation=tanh, alpha=0.001, hidden_layer_sizes=(50, 50), learning_rate=constant, max_iter=1000, solver=sgd; total time=   0.1s\n",
      "[CV] END activation=tanh, alpha=0.001, hidden_layer_sizes=(50, 50), learning_rate=constant, max_iter=1000, solver=sgd; total time=   0.1s\n",
      "[CV] END activation=tanh, alpha=0.001, hidden_layer_sizes=(50, 50), learning_rate=adaptive, max_iter=1000, solver=sgd; total time=   0.2s\n",
      "[CV] END activation=tanh, alpha=0.001, hidden_layer_sizes=(50, 50), learning_rate=adaptive, max_iter=1000, solver=sgd; total time=   0.2s\n",
      "[CV] END activation=tanh, alpha=0.001, hidden_layer_sizes=(100, 100), learning_rate=adaptive, max_iter=500, solver=sgd; total time=   0.3s\n",
      "[CV] END activation=tanh, alpha=0.001, hidden_layer_sizes=(100, 100), learning_rate=adaptive, max_iter=500, solver=sgd; total time=   0.4s\n",
      "[CV] END activation=tanh, alpha=0.001, hidden_layer_sizes=(200, 200), learning_rate=constant, max_iter=1000, solver=sgd; total time=   0.6s\n",
      "[CV] END activation=tanh, alpha=0.001, hidden_layer_sizes=(200, 200), learning_rate=constant, max_iter=1000, solver=adam; total time=   0.4s\n",
      "[CV] END activation=tanh, alpha=0.001, hidden_layer_sizes=(200, 200), learning_rate=adaptive, max_iter=1000, solver=sgd; total time=   1.0s\n",
      "[CV] END activation=tanh, alpha=0.001, hidden_layer_sizes=(200, 200), learning_rate=adaptive, max_iter=1000, solver=adam; total time=   0.2s\n",
      "[CV] END activation=tanh, alpha=0.01, hidden_layer_sizes=(100,), learning_rate=constant, max_iter=500, solver=sgd; total time=   0.0s\n",
      "[CV] END activation=tanh, alpha=0.01, hidden_layer_sizes=(100,), learning_rate=constant, max_iter=500, solver=sgd; total time=   0.1s\n",
      "[CV] END activation=tanh, alpha=0.01, hidden_layer_sizes=(100,), learning_rate=constant, max_iter=1000, solver=adam; total time=   0.0s\n",
      "[CV] END activation=tanh, alpha=0.01, hidden_layer_sizes=(100,), learning_rate=constant, max_iter=1000, solver=adam; total time=   0.1s\n",
      "[CV] END activation=tanh, alpha=0.01, hidden_layer_sizes=(100,), learning_rate=adaptive, max_iter=500, solver=adam; total time=   0.1s\n",
      "[CV] END activation=tanh, alpha=0.01, hidden_layer_sizes=(100,), learning_rate=adaptive, max_iter=500, solver=adam; total time=   0.1s\n",
      "[CV] END activation=tanh, alpha=0.01, hidden_layer_sizes=(100,), learning_rate=adaptive, max_iter=1000, solver=adam; total time=   0.1s\n",
      "[CV] END activation=tanh, alpha=0.01, hidden_layer_sizes=(100,), learning_rate=adaptive, max_iter=1000, solver=adam; total time=   0.1s\n",
      "[CV] END activation=tanh, alpha=0.01, hidden_layer_sizes=(50, 50), learning_rate=constant, max_iter=1000, solver=sgd; total time=   0.1s\n",
      "[CV] END activation=tanh, alpha=0.01, hidden_layer_sizes=(50, 50), learning_rate=constant, max_iter=1000, solver=sgd; total time=   0.1s\n",
      "[CV] END activation=tanh, alpha=0.01, hidden_layer_sizes=(50, 50), learning_rate=adaptive, max_iter=1000, solver=sgd; total time=   0.1s\n",
      "[CV] END activation=tanh, alpha=0.01, hidden_layer_sizes=(50, 50), learning_rate=adaptive, max_iter=1000, solver=sgd; total time=   0.2s\n",
      "[CV] END activation=tanh, alpha=0.01, hidden_layer_sizes=(100, 100), learning_rate=constant, max_iter=1000, solver=sgd; total time=   0.2s\n",
      "[CV] END activation=tanh, alpha=0.01, hidden_layer_sizes=(100, 100), learning_rate=constant, max_iter=1000, solver=adam; total time=   0.1s\n",
      "[CV] END activation=tanh, alpha=0.01, hidden_layer_sizes=(100, 100), learning_rate=adaptive, max_iter=1000, solver=sgd; total time=   0.3s\n",
      "[CV] END activation=tanh, alpha=0.01, hidden_layer_sizes=(100, 100), learning_rate=adaptive, max_iter=1000, solver=sgd; total time=   0.4s\n",
      "[CV] END activation=tanh, alpha=0.01, hidden_layer_sizes=(200, 200), learning_rate=constant, max_iter=1000, solver=sgd; total time=   0.3s\n",
      "[CV] END activation=tanh, alpha=0.01, hidden_layer_sizes=(200, 200), learning_rate=constant, max_iter=1000, solver=adam; total time=   0.2s\n",
      "[CV] END activation=tanh, alpha=0.01, hidden_layer_sizes=(200, 200), learning_rate=adaptive, max_iter=1000, solver=sgd; total time=   0.6s\n",
      "[CV] END activation=tanh, alpha=0.01, hidden_layer_sizes=(200, 200), learning_rate=adaptive, max_iter=1000, solver=sgd; total time=   0.7s\n",
      "[CV] END activation=relu, alpha=0.0001, hidden_layer_sizes=(50,), learning_rate=constant, max_iter=1000, solver=adam; total time=   0.1s\n",
      "[CV] END activation=relu, alpha=0.0001, hidden_layer_sizes=(50,), learning_rate=constant, max_iter=1000, solver=adam; total time=   0.1s\n",
      "aptive, max_iter=500, solver=sgd; total time=   0.1s\n",
      "[CV] END activation=tanh, alpha=0.01, hidden_layer_sizes=(100,), learning_rate=constant, max_iter=500, solver=sgd; total time=   0.1s\n",
      "[CV] END activation=tanh, alpha=0.01, hidden_layer_sizes=(100,), learning_rate=constant, max_iter=500, solver=adam; total time=   0.0s\n",
      "[CV] END activation=tanh, alpha=0.01, hidden_layer_sizes=(100,), learning_rate=adaptive, max_iter=500, solver=sgd; total time=   0.1s\n",
      "[CV] END activation=tanh, alpha=0.01, hidden_layer_sizes=(100,), learning_rate=adaptive, max_iter=500, solver=sgd; total time=   0.2s\n"
     ]
    },
    {
     "data": {
      "text/plain": [
       "{'activation': 'relu',\n",
       " 'alpha': 0.01,\n",
       " 'hidden_layer_sizes': (50, 50),\n",
       " 'learning_rate': 'adaptive',\n",
       " 'max_iter': 500,\n",
       " 'solver': 'sgd'}"
      ]
     },
     "execution_count": 12,
     "metadata": {},
     "output_type": "execute_result"
    }
   ],
   "source": [
    "mlp_param_grid = {\n",
    "    'hidden_layer_sizes': [(50,), (100,), (50, 50), (100, 100),(200,200)],  # Different layer sizes and structures\n",
    "    'activation': ['tanh', 'relu'],                                # Activation functions\n",
    "    'solver': ['sgd', 'adam'],                                     # Solvers for weight optimization\n",
    "    'alpha': [0.0001, 0.001, 0.01],                                # L2 penalty (regularization term) parameter\n",
    "    'learning_rate': ['constant', 'adaptive'],                     # Learning rate schedule\n",
    "    'max_iter': [500, 1000]                                        # Maximum number of iterations\n",
    "}\n",
    "\n",
    "mlp = MLPRegressor(random_state=42)\n",
    "\n",
    "mlp_grid_search = GridSearchCV(estimator=mlp, param_grid=mlp_param_grid, \n",
    "                               cv=3, n_jobs=-1, verbose=2, scoring='neg_mean_squared_error')\n",
    "\n",
    "mlp_grid_search.fit(X_train_scaled, y_train)\n",
    "\n",
    "mlp_grid_search.best_params_"
   ]
  },
  {
   "cell_type": "code",
   "execution_count": 13,
   "id": "34674c1d",
   "metadata": {},
   "outputs": [
    {
     "data": {
      "text/plain": [
       "(0.41546328876422167, 0.1859213206900212)"
      ]
     },
     "execution_count": 13,
     "metadata": {},
     "output_type": "execute_result"
    }
   ],
   "source": [
    "mlp_best = MLPRegressor(\n",
    "    activation='relu', \n",
    "    alpha=0.01, \n",
    "    hidden_layer_sizes=(50, 50), \n",
    "    learning_rate='adaptive', \n",
    "    max_iter=500, \n",
    "    solver='sgd',\n",
    "    random_state=42\n",
    ")\n",
    "\n",
    "mlp_best.fit(X_train_scaled, y_train)\n",
    "\n",
    "y_pred_mlp_best = mlp_best.predict(X_test_scaled)\n",
    "\n",
    "mse_mlp_best = mean_squared_error(y_test, y_pred_mlp_best)\n",
    "r2_mlp_best = r2_score(y_test, y_pred_mlp_best)\n",
    "\n",
    "mse_mlp_best, r2_mlp_best"
   ]
  },
  {
   "cell_type": "code",
   "execution_count": 1,
   "id": "4778ee89",
   "metadata": {},
   "outputs": [
    {
     "ename": "NameError",
     "evalue": "name 'data' is not defined",
     "output_type": "error",
     "traceback": [
      "\u001b[1;31m---------------------------------------------------------------------------\u001b[0m",
      "\u001b[1;31mNameError\u001b[0m                                 Traceback (most recent call last)",
      "Cell \u001b[1;32mIn[1], line 13\u001b[0m\n\u001b[0;32m      3\u001b[0m \u001b[38;5;28;01mimport\u001b[39;00m \u001b[38;5;21;01mmatplotlib\u001b[39;00m\u001b[38;5;21;01m.\u001b[39;00m\u001b[38;5;21;01mpyplot\u001b[39;00m \u001b[38;5;28;01mas\u001b[39;00m \u001b[38;5;21;01mplt\u001b[39;00m\n\u001b[0;32m      5\u001b[0m \u001b[38;5;66;03m# Assuming your data is loaded into a DataFrame named 'data'\u001b[39;00m\n\u001b[0;32m      6\u001b[0m \u001b[38;5;66;03m# Ensure the 'datetime' column is set as the index and is in datetime format\u001b[39;00m\n\u001b[0;32m      7\u001b[0m \n\u001b[1;32m   (...)\u001b[0m\n\u001b[0;32m     11\u001b[0m \u001b[38;5;66;03m# Determine differencing requirements\u001b[39;00m\n\u001b[0;32m     12\u001b[0m \u001b[38;5;66;03m# Example assuming your data is daily and you need first-order differencing\u001b[39;00m\n\u001b[1;32m---> 13\u001b[0m data_diff \u001b[38;5;241m=\u001b[39m data[\u001b[38;5;124m'\u001b[39m\u001b[38;5;124mConsumption (kWh)\u001b[39m\u001b[38;5;124m'\u001b[39m]\u001b[38;5;241m.\u001b[39mdiff()\u001b[38;5;241m.\u001b[39mdropna()\n\u001b[0;32m     15\u001b[0m \u001b[38;5;66;03m# Check for stationarity after differencing\u001b[39;00m\n\u001b[0;32m     16\u001b[0m data_diff\u001b[38;5;241m.\u001b[39mplot()\n",
      "\u001b[1;31mNameError\u001b[0m: name 'data' is not defined"
     ]
    }
   ],
   "source": [
    "import pandas as pd\n",
    "from statsmodels.tsa.arima.model import ARIMA\n",
    "import matplotlib.pyplot as plt\n",
    "\n",
    "# Assuming your data is loaded into a DataFrame named 'data'\n",
    "# Ensure the 'datetime' column is set as the index and is in datetime format\n",
    "\n",
    "# Check for stationarity\n",
    "# Example assuming your column with consumption is named 'Consumption'\n",
    "\n",
    "# Determine differencing requirements\n",
    "# Example assuming your data is daily and you need first-order differencing\n",
    "data_diff = data['Consumption (kWh)'].diff().dropna()\n",
    "\n",
    "# Check for stationarity after differencing\n",
    "data_diff.plot()\n",
    "plt.show()\n",
    "\n",
    "# Determine p and q values using ACF and PACF plots\n",
    "from statsmodels.graphics.tsaplots import plot_acf, plot_pacf\n",
    "\n",
    "plot_acf(data_diff)\n",
    "plt.show()\n",
    "\n",
    "plot_pacf(data_diff)\n",
    "plt.show()\n",
    "\n",
    "# Fit ARIMA model\n",
    "model = ARIMA(data['Consumption (kWh)'], order=(p, d, q))  # Replace p, d, q with determined values\n",
    "results = model.fit()\n",
    "\n",
    "# Summary of the model\n",
    "print(results.summary())\n"
   ]
  },
  {
   "cell_type": "markdown",
   "id": "a4401a39",
   "metadata": {},
   "source": [
    "## SARIMA"
   ]
  },
  {
   "cell_type": "code",
   "execution_count": 14,
   "id": "dec1a15c",
   "metadata": {},
   "outputs": [
    {
     "name": "stdout",
     "output_type": "stream",
     "text": [
      "Augmented Dickey-Fuller Test: Consumption (kWh)\n",
      "ADF Test Statistic     -1.038633e+01\n",
      "p-value                 2.075468e-18\n",
      "# Lags Used             1.500000e+01\n",
      "# Observations Used     1.289000e+03\n",
      "Critical Value (1%)    -3.435433e+00\n",
      "Critical Value (5%)    -2.863785e+00\n",
      "Critical Value (10%)   -2.567965e+00\n",
      "Strong evidence against the null hypothesis (Ho), reject the null hypothesis. Data has no unit root and is stationary.\n"
     ]
    }
   ],
   "source": [
    "# Function to perform the Augmented Dickey-Fuller test for stationarity\n",
    "def adf_test(series, title=''):\n",
    "    print(f'Augmented Dickey-Fuller Test: {title}')\n",
    "    result = adfuller(series, autolag='AIC')\n",
    "    labels = ['ADF Test Statistic', 'p-value', '# Lags Used', '# Observations Used']\n",
    "    out = pd.Series(result[0:4], index=labels)\n",
    "\n",
    "    for key, val in result[4].items():\n",
    "        out[f'Critical Value ({key})'] = val\n",
    "\n",
    "    print(out.to_string())\n",
    "\n",
    "    if result[1] <= 0.05:\n",
    "        print(\"Strong evidence against the null hypothesis (Ho), reject the null hypothesis. Data has no unit root and is stationary.\")\n",
    "    else:\n",
    "        print(\"Weak evidence against null hypothesis, time series has a unit root, indicating it is non-stationary.\")\n",
    "\n",
    "adf_test(df['Consumption (kWh)'], 'Consumption (kWh)')\n",
    "sarima_model = pm.auto_arima(df['Consumption (kWh)'],\n",
    "                             seasonal=True, m=48,  \n",
    "                             d=0, D=1,            \n",
    "                             max_p=3, max_q=3,    \n",
    "                             trace=True,\n",
    "                             error_action='ignore',  \n",
    "                             suppress_warnings=True)\n",
    "\n",
    "sarima_model.summary()\n",
    "var_df = df[['hour', 'humidity', 'feelslike', 'Consumption (kWh)']].dropna()\n",
    "\n",
    "model = VAR(var_df)\n",
    "\n",
    "var_results = model.fit(maxlags=15, ic='aic')\n",
    "\n",
    "var_results_summary = var_results.summary()\n",
    "var_results_summary\n",
    "Correlation matrix of residuals\n",
    "                         hour  humidity  feelslike  Consumption (kWh)\n",
    "hour                 1.000000  0.000744   0.002864           0.182316\n",
    "humidity             0.000744  1.000000  -0.336647           0.005189\n",
    "feelslike            0.002864 -0.336647   1.000000          -0.048696\n",
    "Consumption (kWh)    0.182316  0.005189  -0.048696           1.000000\n"
   ]
  },
  {
   "cell_type": "code",
   "execution_count": null,
   "id": "516d5af7",
   "metadata": {},
   "outputs": [
    {
     "name": "stdout",
     "output_type": "stream",
     "text": [
      "Performing stepwise search to minimize aic\n",
      " ARIMA(2,0,2)(1,1,1)[48] intercept   : AIC=inf, Time=240.59 sec\n",
      " ARIMA(0,0,0)(0,1,0)[48] intercept   : AIC=2943.349, Time=1.79 sec\n",
      " ARIMA(1,0,0)(1,1,0)[48] intercept   : AIC=2563.326, Time=36.77 sec\n",
      "[CV] END learning_rate=0.2, max_depth=5, min_samples_leaf=3, min_samples_split=3, n_estimators=300, subsample=0.9; total time=   0.3s\n",
      "[CV] END learning_rate=0.2, max_depth=5, min_samples_leaf=3, min_samples_split=4, n_estimators=100, subsample=0.8; total time=   0.1s\n",
      "[CV] END learning_rate=0.2, max_depth=5, min_samples_leaf=3, min_samples_split=4, n_estimators=100, subsample=0.9; total time=   0.1s\n",
      "[CV] END learning_rate=0.2, max_depth=5, min_samples_leaf=3, min_samples_split=4, n_estimators=200, subsample=0.8; total time=   0.2s\n",
      "[CV] END learning_rate=0.2, max_depth=5, min_samples_leaf=3, min_samples_split=4, n_estimators=200, subsample=1.0; total time=   0.3s\n",
      "[CV] END learning_rate=0.2, max_depth=5, min_samples_leaf=3, min_samples_split=4, n_estimators=300, subsample=0.9; total time=   0.5s\n",
      "[CV] END activation=tanh, alpha=0.0001, hidden_layer_sizes=(50,), learning_rate=constant, max_iter=500, solver=adam; total time=   0.2s\n",
      "[CV] END activation=tanh, alpha=0.0001, hidden_layer_sizes=(50,), learning_rate=adaptive, max_iter=500, solver=sgd; total time=   0.1s\n",
      "[CV] END activation=tanh, alpha=0.0001, hidden_layer_sizes=(50,), learning_rate=adaptive, max_iter=1000, solver=adam; total time=   0.1s\n",
      "[CV] END activation=tanh, alpha=0.0001, hidden_layer_sizes=(100,), learning_rate=constant, max_iter=1000, solver=sgd; total time=   0.1s\n",
      "[CV] END activation=tanh, alpha=0.0001, hidden_layer_sizes=(100,), learning_rate=adaptive, max_iter=1000, solver=sgd; total time=   0.1s\n",
      "[CV] END activation=tanh, alpha=0.0001, hidden_layer_sizes=(50, 50), learning_rate=constant, max_iter=500, solver=sgd; total time=   0.2s\n",
      "[CV] END activation=tanh, alpha=0.0001, hidden_layer_sizes=(50, 50), learning_rate=constant, max_iter=500, solver=adam; total time=   0.1s\n",
      "[CV] END activation=tanh, alpha=0.0001, hidden_layer_sizes=(50, 50), learning_rate=adaptive, max_iter=1000, solver=sgd; total time=   0.2s\n",
      "[CV] END activation=tanh, alpha=0.0001, hidden_layer_sizes=(50, 50), learning_rate=adaptive, max_iter=1000, solver=sgd; total time=   0.3s\n",
      "[CV] END activation=tanh, alpha=0.0001, hidden_layer_sizes=(100, 100), learning_rate=adaptive, max_iter=500, solver=sgd; total time=   0.4s\n",
      "[CV] END activation=tanh, alpha=0.0001, hidden_layer_sizes=(100, 100), learning_rate=adaptive, max_iter=500, solver=sgd; total time=   0.4s\n",
      "[CV] END activation=tanh, alpha=0.0001, hidden_layer_sizes=(200, 200), learning_rate=constant, max_iter=1000, solver=adam; total time=   0.5s\n",
      "[CV] END activation=tanh, alpha=0.0001, hidden_layer_sizes=(200, 200), learning_rate=constant, max_iter=1000, solver=adam; total time=   0.4s\n",
      "[CV] END activation=tanh, alpha=0.001, hidden_layer_sizes=(50,), learning_rate=constant, max_iter=500, solver=sgd; total time=   0.1s\n",
      "[CV] END activation=tanh, alpha=0.001, hidden_layer_sizes=(50,), learning_rate=constant, max_iter=500, solver=sgd; total time=   0.0s\n",
      "[CV] END activation=tanh, alpha=0.001, hidden_layer_sizes=(50,), learning_rate=constant, max_iter=500, solver=sgd; total time=   0.1s\n",
      "[CV] END activation=tanh, alpha=0.001, hidden_layer_sizes=(50,), learning_rate=constant, max_iter=500, solver=adam; total time=   0.1s\n",
      "[CV] END activation=tanh, alpha=0.001, hidden_layer_sizes=(50,), learning_rate=constant, max_iter=500, solver=adam; total time=   0.0s\n",
      "[CV] END activation=tanh, alpha=0.001, hidden_layer_sizes=(50,), learning_rate=constant, max_iter=500, solver=adam; total time=   0.0s\n",
      "[CV] END activation=tanh, alpha=0.001, hidden_layer_sizes=(50,), learning_rate=constant, max_iter=1000, solver=sgd; total time=   0.1s\n",
      "[CV] END activation=tanh, alpha=0.001, hidden_layer_sizes=(50,), learning_rate=constant, max_iter=1000, solver=sgd; total time=   0.1s\n",
      "[CV] END activation=tanh, alpha=0.001, hidden_layer_sizes=(50,), learning_rate=adaptive, max_iter=500, solver=sgd; total time=   0.1s\n",
      "[CV] END activation=tanh, alpha=0.001, hidden_layer_sizes=(50,), learning_rate=adaptive, max_iter=500, solver=sgd; total time=   0.1s\n",
      "[CV] END activation=tanh, alpha=0.001, hidden_layer_sizes=(50,), learning_rate=adaptive, max_iter=1000, solver=adam; total time=   0.1s\n",
      "[CV] END activation=tanh, alpha=0.001, hidden_layer_sizes=(50,), learning_rate=adaptive, max_iter=1000, solver=adam; total time=   0.0s\n",
      "[CV] END activation=tanh, alpha=0.001, hidden_layer_sizes=(100,), learning_rate=constant, max_iter=1000, solver=sgd; total time=   0.0s\n",
      "[CV] END activation=tanh, alpha=0.001, hidden_layer_sizes=(100,), learning_rate=constant, max_iter=1000, solver=sgd; total time=   0.1s\n",
      "[CV] END activation=tanh, alpha=0.001, hidden_layer_sizes=(100,), learning_rate=adaptive, max_iter=1000, solver=sgd; total time=   0.1s\n",
      "[CV] END activation=tanh, alpha=0.001, hidden_layer_sizes=(100,), learning_rate=adaptive, max_iter=1000, solver=sgd; total time=   0.2s\n",
      "[CV] END activation=tanh, alpha=0.001, hidden_layer_sizes=(50, 50), learning_rate=constant, max_iter=1000, solver=adam; total time=   0.2s\n",
      "[CV] END activation=tanh, alpha=0.001, hidden_layer_sizes=(50, 50), learning_rate=constant, max_iter=1000, solver=adam; total time=   0.2s\n",
      "[CV] END activation=tanh, alpha=0.001, hidden_layer_sizes=(100, 100), learning_rate=constant, max_iter=500, solver=sgd; total time=   0.2s\n",
      "[CV] END activation=tanh, alpha=0.001, hidden_layer_sizes=(100, 100), learning_rate=constant, max_iter=500, solver=sgd; total time=   0.2s\n",
      "[CV] END activation=tanh, alpha=0.001, hidden_layer_sizes=(100, 100), learning_rate=adaptive, max_iter=1000, solver=adam; total time=   0.2s\n",
      "[CV] END activation=tanh, alpha=0.001, hidden_layer_sizes=(100, 100), learning_rate=adaptive, max_iter=1000, solver=adam; total time=   0.1s\n",
      "[CV] END activation=tanh, alpha=0.001, hidden_layer_sizes=(200, 200), learning_rate=constant, max_iter=500, solver=sgd; total time=   0.5s\n",
      "[CV] END activation=tanh, alpha=0.001, hidden_layer_sizes=(200, 200), learning_rate=constant, max_iter=500, solver=adam; total time=   0.3s\n",
      "[CV] END activation=tanh, alpha=0.001, hidden_layer_sizes=(200, 200), learning_rate=adaptive, max_iter=500, solver=sgd; total time=   1.0s\n",
      "[CV] END activation=tanh, alpha=0.001, hidden_layer_sizes=(200, 200), learning_rate=adaptive, max_iter=500, solver=adam; total time=   0.2s\n",
      "[CV] END activation=tanh, alpha=0.01, hidden_layer_sizes=(50,), learning_rate=constant, max_iter=1000, solver=sgd; total time=   0.1s\n",
      "[CV] END activation=tanh, alpha=0.01, hidden_layer_sizes=(50,), learning_rate=constant, max_iter=1000, solver=sgd; total time=   0.0s\n",
      "[CV] END activation=tanh, alpha=0.01, hidden_layer_sizes=(50,), learning_rate=adaptive, max_iter=500, solver=sgd; total time=   0.1s\n",
      "[CV] END activation=tanh, alpha=0.01, hidden_layer_sizes=(50,), learning_rate=adaptive, max_iter=500, solver=adam; total time=   0.1s\n",
      "[CV] END activation=tanh, alpha=0.01, hidden_layer_sizes=(50,), learning_rate=adaptive, max_iter=1000, solver=sgd; total time=   0.1s\n",
      "[CV] END activation=tanh, alpha=0.01, hidden_layer_sizes=(50,), learning_rate=adaptive, max_iter=1000, solver=adam; total time=   0.1s\n",
      "[CV] END activation=tanh, alpha=0.01, hidden_layer_sizes=(100,), learning_rate=constant, max_iter=1000, solver=sgd; total time=   0.0s\n",
      "[CV] END activation=tanh, alpha=0.01, hidden_layer_sizes=(100,), learning_rate=constant, max_iter=1000, solver=sgd; total time=   0.1s\n",
      "[CV] END activation=tanh, alpha=0.01, hidden_layer_sizes=(100,), learning_rate=adaptive, max_iter=1000, solver=sgd; total time=   0.2s\n",
      "[CV] END activation=tanh, alpha=0.01, hidden_layer_sizes=(100,), learning_rate=adaptive, max_iter=1000, solver=adam; total time=   0.1s\n",
      "[CV] END activation=tanh, alpha=0.01, hidden_layer_sizes=(50, 50), learning_rate=constant, max_iter=1000, solver=adam; total time=   0.1s\n",
      "[CV] END activation=tanh, alpha=0.01, hidden_layer_sizes=(50, 50), learning_rate=constant, max_iter=1000, solver=adam; total time=   0.1s\n",
      "[CV] END activation=tanh, alpha=0.01, hidden_layer_sizes=(50, 50), learning_rate=adaptive, max_iter=1000, solver=adam; total time=   0.1s\n",
      "[CV] END activation=tanh, alpha=0.01, hidden_layer_sizes=(50, 50), learning_rate=adaptive, max_iter=1000, solver=adam; total time=   0.1s\n",
      "[CV] END activation=tanh, alpha=0.01, hidden_layer_sizes=(100, 100), learning_rate=constant, max_iter=1000, solver=adam; total time=   0.2s\n",
      "[CV] END activation=tanh, alpha=0.01, hidden_layer_sizes=(100, 100), learning_rate=constant, max_iter=1000, solver=adam; total time=   0.1s\n",
      "[CV] END activation=relu, alpha=0.01, hidden_layer_sizes=(200, 200), learning_rate=constant, max_iter=1000, solver=adam; total time=   0.8s\n",
      "[CV] END activation=relu, alpha=0.01, hidden_layer_sizes=(200, 200), learning_rate=adaptive, max_iter=500, solver=adam; total time=   0.8s\n",
      "[CV] END activation=relu, alpha=0.01, hidden_layer_sizes=(200, 200), learning_rate=adaptive, max_iter=1000, solver=adam; total time=   0.8s\n",
      "[CV] END learning_rate=0.2, max_depth=5, min_samples_leaf=1, min_samples_split=3, n_estimators=200, subsample=0.9; total time=   0.2s\n",
      "[CV] END learning_rate=0.2, max_depth=5, min_samples_leaf=1, min_samples_split=3, n_estimators=200, subsample=1.0; total time=   0.2s\n",
      "[CV] END learning_rate=0.2, max_depth=5, min_samples_leaf=1, min_samples_split=3, n_estimators=300, subsample=0.8; total time=   0.3s\n",
      "[CV] END learning_rate=0.2, max_depth=5, min_samples_leaf=1, min_samples_split=3, n_estimators=300, subsample=0.9; total time=   0.3s\n",
      "[CV] END learning_rate=0.2, max_depth=5, min_samples_leaf=1, min_samples_split=3, n_estimators=300, subsample=1.0; total time=   0.3s\n",
      "[CV] END learning_rate=0.2, max_depth=5, min_samples_leaf=1, min_samples_split=4, n_estimators=100, subsample=0.8; total time=   0.1s\n",
      "[CV] END learning_rate=0.2, max_depth=5, min_samples_leaf=1, min_samples_split=4, n_estimators=100, subsample=0.9; total time=   0.1s\n",
      "[CV] END learning_rate=0.2, max_depth=5, min_samples_leaf=1, min_samples_split=4, n_estimators=100, subsample=1.0; total time=   0.1s\n",
      "[CV] END learning_rate=0.2, max_depth=5, min_samples_leaf=1, min_samples_split=4, n_estimators=200, subsample=0.8; total time=   0.2s\n",
      "[CV] END learning_rate=0.2, max_depth=5, min_samples_leaf=1, min_samples_split=4, n_estimators=200, subsample=0.9; total time=   0.2s\n",
      "[CV] END learning_rate=0.2, max_depth=5, min_samples_leaf=1, min_samples_split=4, n_estimators=200, subsample=1.0; total time=   0.2s\n",
      "[CV] END learning_rate=0.2, max_depth=5, min_samples_leaf=1, min_samples_split=4, n_estimators=300, subsample=0.8; total time=   0.3s\n",
      "[CV] END learning_rate=0.2, max_depth=5, min_samples_leaf=1, min_samples_split=4, n_estimators=300, subsample=0.9; total time=   0.3s\n",
      "[CV] END learning_rate=0.2, max_depth=5, min_samples_leaf=1, min_samples_split=4, n_estimators=300, subsample=1.0; total time=   0.3s\n",
      "[CV] END learning_rate=0.2, max_depth=5, min_samples_leaf=2, min_samples_split=2, n_estimators=100, subsample=0.8; total time=   0.1s\n",
      "[CV] END learning_rate=0.2, max_depth=5, min_samples_leaf=2, min_samples_split=2, n_estimators=100, subsample=0.9; total time=   0.1s\n",
      "[CV] END learning_rate=0.2, max_depth=5, min_samples_leaf=2, min_samples_split=2, n_estimators=100, subsample=1.0; total time=   0.1s\n",
      "[CV] END learning_rate=0.2, max_depth=5, min_samples_leaf=2, min_samples_split=2, n_estimators=200, subsample=0.8; total time=   0.2s\n",
      "[CV] END learning_rate=0.2, max_depth=5, min_samples_leaf=2, min_samples_split=2, n_estimators=200, subsample=0.9; total time=   0.2s\n",
      "[CV] END learning_rate=0.2, max_depth=5, min_samples_leaf=2, min_samples_split=2, n_estimators=200, subsample=1.0; total time=   0.2s\n",
      "[CV] END learning_rate=0.2, max_depth=5, min_samples_leaf=2, min_samples_split=2, n_estimators=300, subsample=0.8; total time=   0.2s\n",
      "[CV] END learning_rate=0.2, max_depth=5, min_samples_leaf=2, min_samples_split=2, n_estimators=300, subsample=0.9; total time=   0.3s\n",
      "[CV] END learning_rate=0.2, max_depth=5, min_samples_leaf=2, min_samples_split=2, n_estimators=300, subsample=1.0; total time=   0.3s\n",
      "[CV] END learning_rate=0.2, max_depth=5, min_samples_leaf=2, min_samples_split=3, n_estimators=100, subsample=1.0; total time=   0.1s\n",
      "[CV] END learning_rate=0.2, max_depth=5, min_samples_leaf=2, min_samples_split=3, n_estimators=200, subsample=0.8; total time=   0.3s\n",
      "[CV] END learning_rate=0.2, max_depth=5, min_samples_leaf=2, min_samples_split=3, n_estimators=200, subsample=1.0; total time=   0.3s\n",
      "[CV] END learning_rate=0.2, max_depth=5, min_samples_leaf=2, min_samples_split=3, n_estimators=300, subsample=0.8; total time=   0.3s\n",
      "[CV] END learning_rate=0.2, max_depth=5, min_samples_leaf=2, min_samples_split=3, n_estimators=300, subsample=0.9; total time=   0.3s\n",
      "[CV] END learning_rate=0.2, max_depth=5, min_samples_leaf=2, min_samples_split=4, n_estimators=100, subsample=0.8; total time=   0.1s\n",
      "[CV] END learning_rate=0.2, max_depth=5, min_samples_leaf=2, min_samples_split=4, n_estimators=100, subsample=0.8; total time=   0.1s\n",
      "[CV] END learning_rate=0.2, max_depth=5, min_samples_leaf=2, min_samples_split=4, n_estimators=100, subsample=1.0; total time=   0.1s\n",
      "[CV] END learning_rate=0.2, max_depth=5, min_samples_leaf=2, min_samples_split=4, n_estimators=200, subsample=0.8; total time=   0.2s\n",
      "[CV] END learning_rate=0.2, max_depth=5, min_samples_leaf=2, min_samples_split=4, n_estimators=200, subsample=0.9; total time=   0.2s\n",
      "[CV] END learning_rate=0.2, max_depth=5, min_samples_leaf=2, min_samples_split=4, n_estimators=300, subsample=0.8; total time=   0.3s\n",
      "[CV] END learning_rate=0.2, max_depth=5, min_samples_leaf=2, min_samples_split=4, n_estimators=300, subsample=0.9; total time=   0.3s\n",
      "[CV] END learning_rate=0.2, max_depth=5, min_samples_leaf=3, min_samples_split=2, n_estimators=100, subsample=0.8; total time=   0.1s\n",
      "[CV] END learning_rate=0.2, max_depth=5, min_samples_leaf=3, min_samples_split=2, n_estimators=100, subsample=0.8; total time=   0.1s\n",
      "[CV] END learning_rate=0.2, max_depth=5, min_samples_leaf=3, min_samples_split=2, n_estimators=100, subsample=0.9; total time=   0.1s\n",
      "[CV] END learning_rate=0.2, max_depth=5, min_samples_leaf=3, min_samples_split=2, n_estimators=200, subsample=0.8; total time=   0.2s\n",
      "[CV] END learning_rate=0.2, max_depth=5, min_samples_leaf=3, min_samples_split=2, n_estimators=200, subsample=0.9; total time=   0.2s\n",
      "[CV] END learning_rate=0.2, max_depth=5, min_samples_leaf=3, min_samples_split=2, n_estimators=300, subsample=0.8; total time=   0.3s\n",
      "[CV] END learning_rate=0.2, max_depth=5, min_samples_leaf=3, min_samples_split=2, n_estimators=300, subsample=0.9; total time=   0.3s\n",
      "[CV] END learning_rate=0.2, max_depth=5, min_samples_leaf=3, min_samples_split=3, n_estimators=100, subsample=0.8; total time=   0.1s\n",
      "[CV] END learning_rate=0.2, max_depth=5, min_samples_leaf=3, min_samples_split=3, n_estimators=100, subsample=0.9; total time=   0.1s\n",
      "[CV] END learning_rate=0.2, max_depth=5, min_samples_leaf=3, min_samples_split=3, n_estimators=200, subsample=0.8; total time=   0.2s\n",
      "[CV] END learning_rate=0.2, max_depth=5, min_samples_leaf=3, min_samples_split=3, n_estimators=200, subsample=1.0; total time=   0.3s\n",
      "[CV] END learning_rate=0.2, max_depth=5, min_samples_leaf=3, min_samples_split=3, n_estimators=300, subsample=0.9; total time=   0.3s\n",
      "[CV] END learning_rate=0.2, max_depth=5, min_samples_leaf=3, min_samples_split=4, n_estimators=100, subsample=0.8; total time=   0.1s\n",
      "[CV] END learning_rate=0.2, max_depth=5, min_samples_leaf=3, min_samples_split=4, n_estimators=100, subsample=0.9; total time=   0.1s\n",
      "[CV] END learning_rate=0.2, max_depth=5, min_samples_leaf=3, min_samples_split=4, n_estimators=100, subsample=1.0; total time=   0.1s\n",
      "[CV] END learning_rate=0.2, max_depth=5, min_samples_leaf=3, min_samples_split=4, n_estimators=200, subsample=0.9; total time=   0.2s\n",
      "[CV] END learning_rate=0.2, max_depth=5, min_samples_leaf=3, min_samples_split=4, n_estimators=200, subsample=1.0; total time=   0.3s\n",
      "[CV] END learning_rate=0.2, max_depth=5, min_samples_leaf=3, min_samples_split=4, n_estimators=300, subsample=0.9; total time=   0.4s\n",
      "[CV] END activation=tanh, alpha=0.0001, hidden_layer_sizes=(50,), learning_rate=constant, max_iter=500, solver=sgd; total time=   0.1s\n",
      "[CV] END activation=tanh, alpha=0.0001, hidden_layer_sizes=(50,), learning_rate=constant, max_iter=1000, solver=adam; total time=   0.1s\n",
      "[CV] END activation=tanh, alpha=0.0001, hidden_layer_sizes=(50,), learning_rate=adaptive, max_iter=500, solver=adam; total time=   0.1s\n",
      "[CV] END activation=tanh, alpha=0.0001, hidden_layer_sizes=(100,), learning_rate=constant, max_iter=500, solver=sgd; total time=   0.1s\n",
      "[CV] END activation=tanh, alpha=0.0001, hidden_layer_sizes=(100,), learning_rate=constant, max_iter=1000, solver=adam; total time=   0.1s\n",
      "[CV] END activation=tanh, alpha=0.0001, hidden_layer_sizes=(100,), learning_rate=adaptive, max_iter=500, solver=adam; total time=   0.0s\n",
      "[CV] END activation=tanh, alpha=0.0001, hidden_layer_sizes=(100,), learning_rate=adaptive, max_iter=1000, solver=adam; total time=   0.0s\n",
      "[CV] END activation=tanh, alpha=0.0001, hidden_layer_sizes=(50, 50), learning_rate=constant, max_iter=500, solver=adam; total time=   0.2s\n",
      "[CV] END activation=tanh, alpha=0.0001, hidden_layer_sizes=(50, 50), learning_rate=constant, max_iter=500, solver=adam; total time=   0.3s\n",
      "[CV] END activation=relu, alpha=0.0001, hidden_layer_sizes=(200, 200), learning_rate=adaptive, max_iter=1000, solver=adam; total time=   0.7s\n",
      "[CV] END activation=relu, alpha=0.0001, hidden_layer_sizes=(200, 200), learning_rate=adaptive, max_iter=1000, solver=adam; total time=   0.6s\n",
      "[CV] END activation=relu, alpha=0.001, hidden_layer_sizes=(50,), learning_rate=constant, max_iter=500, solver=adam; total time=   0.1s\n",
      "[CV] END activation=relu, alpha=0.001, hidden_layer_sizes=(50,), learning_rate=constant, max_iter=500, solver=adam; total time=   0.2s\n",
      "[CV] END activation=relu, alpha=0.001, hidden_layer_sizes=(50,), learning_rate=constant, max_iter=1000, solver=adam; total time=   0.1s\n",
      "[CV] END activation=relu, alpha=0.001, hidden_layer_sizes=(50,), learning_rate=constant, max_iter=1000, solver=adam; total time=   0.1s\n",
      "[CV] END activation=relu, alpha=0.001, hidden_layer_sizes=(50,), learning_rate=adaptive, max_iter=500, solver=sgd; total time=   0.1s\n",
      "[CV] END activation=relu, alpha=0.001, hidden_layer_sizes=(50,), learning_rate=adaptive, max_iter=500, solver=sgd; total time=   0.2s\n",
      "[CV] END activation=relu, alpha=0.001, hidden_layer_sizes=(50,), learning_rate=adaptive, max_iter=500, solver=adam; total time=   0.1s\n",
      "[CV] END activation=relu, alpha=0.001, hidden_layer_sizes=(50,), learning_rate=adaptive, max_iter=1000, solver=sgd; total time=   0.1s\n",
      "[CV] END activation=relu, alpha=0.001, hidden_layer_sizes=(100,), learning_rate=constant, max_iter=500, solver=sgd; total time=   0.1s\n",
      "[CV] END activation=relu, alpha=0.001, hidden_layer_sizes=(100,), learning_rate=constant, max_iter=500, solver=adam; total time=   0.2s\n",
      "[CV] END activation=relu, alpha=0.001, hidden_layer_sizes=(100,), learning_rate=constant, max_iter=1000, solver=adam; total time=   0.2s\n",
      "[CV] END activation=relu, alpha=0.001, hidden_layer_sizes=(100,), learning_rate=adaptive, max_iter=500, solver=sgd; total time=   0.2s\n",
      "[CV] END activation=relu, alpha=0.001, hidden_layer_sizes=(100,), learning_rate=adaptive, max_iter=1000, solver=adam; total time=   0.2s\n",
      "[CV] END activation=relu, alpha=0.001, hidden_layer_sizes=(50, 50), learning_rate=constant, max_iter=500, solver=sgd; total time=   0.1s\n",
      "[CV] END activation=relu, alpha=0.001, hidden_layer_sizes=(50, 50), learning_rate=constant, max_iter=1000, solver=sgd; total time=   0.2s\n",
      "[CV] END activation=relu, alpha=0.001, hidden_layer_sizes=(50, 50), learning_rate=adaptive, max_iter=500, solver=adam; total time=   0.1s\n",
      "[CV] END activation=relu, alpha=0.001, hidden_layer_sizes=(50, 50), learning_rate=adaptive, max_iter=1000, solver=sgd; total time=   0.3s\n",
      "[CV] END activation=relu, alpha=0.001, hidden_layer_sizes=(100, 100), learning_rate=constant, max_iter=500, solver=adam; total time=   0.3s\n",
      "[CV] END activation=relu, alpha=0.001, hidden_layer_sizes=(100, 100), learning_rate=constant, max_iter=1000, solver=sgd; total time=   0.6s\n",
      "[CV] END activation=relu, alpha=0.001, hidden_layer_sizes=(100, 100), learning_rate=adaptive, max_iter=500, solver=adam; total time=   0.2s\n",
      "[CV] END activation=relu, alpha=0.001, hidden_layer_sizes=(100, 100), learning_rate=adaptive, max_iter=1000, solver=sgd; total time=   0.6s\n",
      "[CV] END activation=relu, alpha=0.001, hidden_layer_sizes=(200, 200), learning_rate=constant, max_iter=500, solver=adam; total time=   0.4s\n",
      "[CV] END activation=relu, alpha=0.001, hidden_layer_sizes=(200, 200), learning_rate=constant, max_iter=1000, solver=sgd; total time=   1.1s\n",
      "[CV] END activation=relu, alpha=0.001, hidden_layer_sizes=(200, 200), learning_rate=adaptive, max_iter=500, solver=sgd; total time=   1.7s\n",
      "[CV] END activation=relu, alpha=0.001, hidden_layer_sizes=(200, 200), learning_rate=adaptive, max_iter=1000, solver=adam; total time=   0.5s\n",
      "[CV] END activation=relu, alpha=0.001, hidden_layer_sizes=(200, 200), learning_rate=adaptive, max_iter=1000, solver=adam; total time=   0.6s\n",
      "[CV] END activation=relu, alpha=0.01, hidden_layer_sizes=(50,), learning_rate=constant, max_iter=1000, solver=adam; total time=   0.1s\n",
      "[CV] END activation=relu, alpha=0.01, hidden_layer_sizes=(50,), learning_rate=adaptive, max_iter=500, solver=sgd; total time=   0.1s\n",
      "[CV] END activation=relu, alpha=0.01, hidden_layer_sizes=(50,), learning_rate=adaptive, max_iter=500, solver=adam; total time=   0.1s\n",
      "[CV] END activation=relu, alpha=0.01, hidden_layer_sizes=(50,), learning_rate=adaptive, max_iter=500, solver=adam; total time=   0.1s\n",
      "[CV] END activation=relu, alpha=0.01, hidden_layer_sizes=(50,), learning_rate=adaptive, max_iter=1000, solver=adam; total time=   0.1s\n",
      "[CV] END activation=relu, alpha=0.01, hidden_layer_sizes=(100,), learning_rate=constant, max_iter=500, solver=adam; total time=   0.1s\n",
      "[CV] END activation=relu, alpha=0.01, hidden_layer_sizes=(100,), learning_rate=constant, max_iter=1000, solver=sgd; total time=   0.1s\n",
      "[CV] END activation=relu, alpha=0.01, hidden_layer_sizes=(100,), learning_rate=constant, max_iter=1000, solver=adam; total time=   0.1s\n",
      "[CV] END activation=relu, alpha=0.01, hidden_layer_sizes=(100,), learning_rate=adaptive, max_iter=500, solver=sgd; total time=   0.1s\n",
      "[CV] END activation=relu, alpha=0.01, hidden_layer_sizes=(100,), learning_rate=adaptive, max_iter=500, solver=sgd; total time=   0.1s\n",
      "[CV] END activation=relu, alpha=0.01, hidden_layer_sizes=(100,), learning_rate=adaptive, max_iter=500, solver=adam; total time=   0.1s\n",
      "[CV] END activation=relu, alpha=0.01, hidden_layer_sizes=(100,), learning_rate=adaptive, max_iter=1000, solver=sgd; total time=   0.1s\n",
      "[CV] END activation=relu, alpha=0.01, hidden_layer_sizes=(100,), learning_rate=adaptive, max_iter=1000, solver=sgd; total time=   0.1s\n",
      "[CV] END activation=relu, alpha=0.01, hidden_layer_sizes=(100,), learning_rate=adaptive, max_iter=1000, solver=adam; total time=   0.1s\n",
      "[CV] END activation=relu, alpha=0.01, hidden_layer_sizes=(100,), learning_rate=adaptive, max_iter=1000, solver=adam; total time=   0.1s\n",
      "[CV] END activation=relu, alpha=0.01, hidden_layer_sizes=(50, 50), learning_rate=constant, max_iter=500, solver=sgd; total time=   0.1s\n",
      "[CV] END activation=relu, alpha=0.01, hidden_layer_sizes=(50, 50), learning_rate=constant, max_iter=500, solver=adam; total time=   0.1s\n",
      "[CV] END activation=relu, alpha=0.01, hidden_layer_sizes=(50, 50), learning_rate=constant, max_iter=500, solver=adam; total time=   0.1s\n",
      "[CV] END activation=relu, alpha=0.01, hidden_layer_sizes=(50, 50), learning_rate=constant, max_iter=1000, solver=sgd; total time=   0.1s\n",
      "[CV] END activation=relu, alpha=0.01, hidden_layer_sizes=(50, 50), learning_rate=constant, max_iter=1000, solver=adam; total time=   0.1s\n",
      "[CV] END activation=relu, alpha=0.01, hidden_layer_sizes=(50, 50), learning_rate=constant, max_iter=1000, solver=adam; total time=   0.1s\n",
      "[CV] END activation=relu, alpha=0.01, hidden_layer_sizes=(50, 50), learning_rate=adaptive, max_iter=500, solver=sgd; total time=   0.2s\n",
      "[CV] END activation=relu, alpha=0.01, hidden_layer_sizes=(50, 50), learning_rate=adaptive, max_iter=500, solver=adam; total time=   0.1s\n",
      "[CV] END activation=relu, alpha=0.01, hidden_layer_sizes=(50, 50), learning_rate=adaptive, max_iter=500, solver=adam; total time=   0.1s\n",
      "[CV] END activation=relu, alpha=0.01, hidden_layer_sizes=(50, 50), learning_rate=adaptive, max_iter=1000, solver=sgd; total time=   0.2s\n",
      "[CV] END activation=relu, alpha=0.01, hidden_layer_sizes=(50, 50), learning_rate=adaptive, max_iter=1000, solver=sgd; total time=   0.2s\n",
      "[CV] END activation=relu, alpha=0.01, hidden_layer_sizes=(50, 50), learning_rate=adaptive, max_iter=1000, solver=adam; total time=   0.1s\n",
      "[CV] END activation=relu, alpha=0.01, hidden_layer_sizes=(100, 100), learning_rate=constant, max_iter=500, solver=sgd; total time=   0.4s\n",
      "[CV] END activation=relu, alpha=0.01, hidden_layer_sizes=(100, 100), learning_rate=constant, max_iter=500, solver=adam; total time=   0.1s\n",
      "[CV] END activation=relu, alpha=0.01, hidden_layer_sizes=(100, 100), learning_rate=constant, max_iter=500, solver=adam; total time=   0.1s\n",
      "[CV] END activation=relu, alpha=0.01, hidden_layer_sizes=(100, 100), learning_rate=constant, max_iter=500, solver=adam; total time=   0.2s\n",
      "[CV] END activation=relu, alpha=0.01, hidden_layer_sizes=(100, 100), learning_rate=constant, max_iter=1000, solver=sgd; total time=   0.3s\n",
      "[CV] END activation=relu, alpha=0.01, hidden_layer_sizes=(100, 100), learning_rate=constant, max_iter=1000, solver=adam; total time=   0.1s\n",
      "[CV] END activation=relu, alpha=0.01, hidden_layer_sizes=(100, 100), learning_rate=constant, max_iter=1000, solver=adam; total time=   0.1s\n",
      "[CV] END activation=relu, alpha=0.01, hidden_layer_sizes=(100, 100), learning_rate=adaptive, max_iter=500, solver=sgd; total time=   0.4s\n",
      "[CV] END activation=relu, alpha=0.01, hidden_layer_sizes=(100, 100), learning_rate=adaptive, max_iter=500, solver=sgd; total time=   0.5s\n",
      "[CV] END activation=relu, alpha=0.01, hidden_layer_sizes=(100, 100), learning_rate=adaptive, max_iter=1000, solver=sgd; total time=   0.4s\n",
      "[CV] END activation=relu, alpha=0.01, hidden_layer_sizes=(100, 100), learning_rate=adaptive, max_iter=1000, solver=sgd; total time=   0.5s\n",
      "[CV] END activation=relu, alpha=0.01, hidden_layer_sizes=(200, 200), learning_rate=constant, max_iter=500, solver=sgd; total time=   0.7s\n",
      "[CV] END activation=relu, alpha=0.01, hidden_layer_sizes=(200, 200), learning_rate=constant, max_iter=500, solver=sgd; total time=   0.8s\n",
      "[CV] END activation=relu, alpha=0.01, hidden_layer_sizes=(200, 200), learning_rate=constant, max_iter=500, solver=sgd; total time=   1.0s\n",
      "[CV] END activation=relu, alpha=0.01, hidden_layer_sizes=(200, 200), learning_rate=constant, max_iter=500, solver=adam; total time=   0.5s\n",
      "[CV] END activation=relu, alpha=0.01, hidden_layer_sizes=(200, 200), learning_rate=constant, max_iter=500, solver=adam; total time=   0.4s\n",
      "[CV] END activation=relu, alpha=0.01, hidden_layer_sizes=(200, 200), learning_rate=constant, max_iter=500, solver=adam; total time=   0.5s\n",
      "[CV] END activation=relu, alpha=0.01, hidden_layer_sizes=(200, 200), learning_rate=constant, max_iter=1000, solver=adam; total time=   0.6s\n",
      "[CV] END activation=relu, alpha=0.01, hidden_layer_sizes=(200, 200), learning_rate=adaptive, max_iter=500, solver=sgd; total time=   1.3s\n",
      "[CV] END activation=relu, alpha=0.01, hidden_layer_sizes=(200, 200), learning_rate=adaptive, max_iter=1000, solver=adam; total time=   0.4s\n",
      "[CV] END learning_rate=0.2, max_depth=5, min_samples_leaf=2, min_samples_split=2, n_estimators=100, subsample=1.0; total time=   0.1s\n",
      "[CV] END learning_rate=0.2, max_depth=5, min_samples_leaf=2, min_samples_split=2, n_estimators=200, subsample=0.8; total time=   0.2s\n",
      "[CV] END learning_rate=0.2, max_depth=5, min_samples_leaf=2, min_samples_split=2, n_estimators=200, subsample=0.9; total time=   0.2s\n",
      "[CV] END learning_rate=0.2, max_depth=5, min_samples_leaf=2, min_samples_split=2, n_estimators=200, subsample=1.0; total time=   0.2s\n",
      "[CV] END learning_rate=0.2, max_depth=5, min_samples_leaf=2, min_samples_split=2, n_estimators=300, subsample=0.8; total time=   0.3s\n",
      "[CV] END learning_rate=0.2, max_depth=5, min_samples_leaf=2, min_samples_split=2, n_estimators=300, subsample=0.9; total time=   0.3s\n",
      "[CV] END learning_rate=0.2, max_depth=5, min_samples_leaf=2, min_samples_split=3, n_estimators=100, subsample=0.8; total time=   0.1s\n",
      "[CV] END learning_rate=0.2, max_depth=5, min_samples_leaf=2, min_samples_split=3, n_estimators=100, subsample=0.9; total time=   0.1s\n",
      "[CV] END learning_rate=0.2, max_depth=5, min_samples_leaf=2, min_samples_split=3, n_estimators=100, subsample=0.9; total time=   0.1s\n",
      "[CV] END learning_rate=0.2, max_depth=5, min_samples_leaf=2, min_samples_split=3, n_estimators=200, subsample=0.8; total time=   0.3s\n",
      "[CV] END learning_rate=0.2, max_depth=5, min_samples_leaf=2, min_samples_split=3, n_estimators=200, subsample=0.9; total time=   0.2s\n",
      "[CV] END learning_rate=0.2, max_depth=5, min_samples_leaf=2, min_samples_split=3, n_estimators=300, subsample=0.8; total time=   0.4s\n",
      "[CV] END learning_rate=0.2, max_depth=5, min_samples_leaf=2, min_samples_split=3, n_estimators=300, subsample=0.9; total time=   0.3s\n",
      "[CV] END learning_rate=0.2, max_depth=5, min_samples_leaf=2, min_samples_split=3, n_estimators=300, subsample=1.0; total time=   0.4s\n",
      "[CV] END learning_rate=0.2, max_depth=5, min_samples_leaf=2, min_samples_split=4, n_estimators=100, subsample=1.0; total time=   0.1s\n",
      "[CV] END learning_rate=0.2, max_depth=5, min_samples_leaf=2, min_samples_split=4, n_estimators=200, subsample=0.9; total time=   0.2s\n",
      "[CV] END learning_rate=0.2, max_depth=5, min_samples_leaf=2, min_samples_split=4, n_estimators=200, subsample=1.0; total time=   0.2s\n",
      "[CV] END learning_rate=0.2, max_depth=5, min_samples_leaf=2, min_samples_split=4, n_estimators=300, subsample=0.8; total time=   0.3s\n",
      "[CV] END learning_rate=0.2, max_depth=5, min_samples_leaf=2, min_samples_split=4, n_estimators=300, subsample=0.9; total time=   0.3s\n",
      "[CV] END learning_rate=0.2, max_depth=5, min_samples_leaf=2, min_samples_split=4, n_estimators=300, subsample=1.0; total time=   0.3s\n",
      "[CV] END learning_rate=0.2, max_depth=5, min_samples_leaf=3, min_samples_split=2, n_estimators=100, subsample=1.0; total time=   0.1s\n",
      "[CV] END learning_rate=0.2, max_depth=5, min_samples_leaf=3, min_samples_split=2, n_estimators=200, subsample=0.8; total time=   0.2s\n",
      "[CV] END learning_rate=0.2, max_depth=5, min_samples_leaf=3, min_samples_split=2, n_estimators=200, subsample=1.0; total time=   0.2s\n",
      "[CV] END learning_rate=0.2, max_depth=5, min_samples_leaf=3, min_samples_split=2, n_estimators=300, subsample=0.8; total time=   0.3s\n",
      "[CV] END learning_rate=0.2, max_depth=5, min_samples_leaf=3, min_samples_split=2, n_estimators=300, subsample=0.9; total time=   0.3s\n",
      "[CV] END learning_rate=0.2, max_depth=5, min_samples_leaf=3, min_samples_split=3, n_estimators=100, subsample=0.9; total time=   0.1s\n",
      "[CV] END learning_rate=0.2, max_depth=5, min_samples_leaf=3, min_samples_split=3, n_estimators=100, subsample=1.0; total time=   0.1s\n",
      "[CV] END learning_rate=0.2, max_depth=5, min_samples_leaf=3, min_samples_split=3, n_estimators=200, subsample=0.9; total time=   0.2s\n",
      "[CV] END learning_rate=0.2, max_depth=5, min_samples_leaf=3, min_samples_split=3, n_estimators=300, subsample=0.8; total time=   0.4s\n",
      "[CV] END learning_rate=0.2, max_depth=5, min_samples_leaf=3, min_samples_split=3, n_estimators=300, subsample=1.0; total time=   0.4s\n",
      "[CV] END learning_rate=0.2, max_depth=5, min_samples_leaf=3, min_samples_split=4, n_estimators=200, subsample=0.9; total time=   0.2s\n",
      "[CV] END learning_rate=0.2, max_depth=5, min_samples_leaf=3, min_samples_split=4, n_estimators=300, subsample=0.8; total time=   0.4s\n",
      "[CV] END learning_rate=0.2, max_depth=5, min_samples_leaf=3, min_samples_split=4, n_estimators=300, subsample=1.0; total time=   0.4s\n",
      "[CV] END activation=tanh, alpha=0.0001, hidden_layer_sizes=(50,), learning_rate=constant, max_iter=500, solver=adam; total time=   0.1s\n",
      "[CV] END activation=tanh, alpha=0.0001, hidden_layer_sizes=(50,), learning_rate=constant, max_iter=1000, solver=sgd; total time=   0.1s\n",
      "[CV] END activation=tanh, alpha=0.0001, hidden_layer_sizes=(50,), learning_rate=adaptive, max_iter=500, solver=sgd; total time=   0.1s\n",
      "[CV] END activation=tanh, alpha=0.0001, hidden_layer_sizes=(50,), learning_rate=adaptive, max_iter=1000, solver=adam; total time=   0.1s\n",
      "[CV] END activation=tanh, alpha=0.0001, hidden_layer_sizes=(100,), learning_rate=constant, max_iter=500, solver=adam; total time=   0.1s\n",
      "[CV] END activation=tanh, alpha=0.0001, hidden_layer_sizes=(100,), learning_rate=adaptive, max_iter=500, solver=sgd; total time=   0.2s\n",
      "[CV] END activation=tanh, alpha=0.0001, hidden_layer_sizes=(50, 50), learning_rate=constant, max_iter=1000, solver=sgd; total time=   0.2s\n",
      "[CV] END activation=tanh, alpha=0.0001, hidden_layer_sizes=(50, 50), learning_rate=constant, max_iter=1000, solver=adam; total time=   0.0s\n",
      "[CV] END activation=tanh, alpha=0.0001, hidden_layer_sizes=(50, 50), learning_rate=adaptive, max_iter=1000, solver=adam; total time=   0.1s\n",
      "[CV] END activation=tanh, alpha=0.0001, hidden_layer_sizes=(50, 50), learning_rate=adaptive, max_iter=1000, solver=adam; total time=   0.1s\n",
      "[CV] END activation=tanh, alpha=0.0001, hidden_layer_sizes=(100, 100), learning_rate=constant, max_iter=1000, solver=adam; total time=   0.2s\n",
      "[CV] END activation=tanh, alpha=0.0001, hidden_layer_sizes=(100, 100), learning_rate=constant, max_iter=1000, solver=adam; total time=   0.1s\n",
      "[CV] END activation=tanh, alpha=0.0001, hidden_layer_sizes=(100, 100), learning_rate=adaptive, max_iter=1000, solver=sgd; total time=   0.3s\n",
      "[CV] END activation=tanh, alpha=0.0001, hidden_layer_sizes=(100, 100), learning_rate=adaptive, max_iter=1000, solver=sgd; total time=   0.4s\n",
      "[CV] END activation=tanh, alpha=0.0001, hidden_layer_sizes=(200, 200), learning_rate=adaptive, max_iter=500, solver=sgd; total time=   0.9s\n",
      "[CV] END activation=tanh, alpha=0.0001, hidden_layer_sizes=(200, 200), learning_rate=adaptive, max_iter=500, solver=sgd; total time=   1.0s\n",
      "[CV] END activation=tanh, alpha=0.001, hidden_layer_sizes=(100,), learning_rate=constant, max_iter=500, solver=sgd; total time=   0.1s\n",
      "[CV] END activation=tanh, alpha=0.001, hidden_layer_sizes=(100,), learning_rate=constant, max_iter=500, solver=adam; total time=   0.1s\n",
      "[CV] END activation=tanh, alpha=0.001, hidden_layer_sizes=(100,), learning_rate=adaptive, max_iter=500, solver=adam; total time=   0.1s\n",
      "[CV] END activation=tanh, alpha=0.001, hidden_layer_sizes=(100,), learning_rate=adaptive, max_iter=500, solver=adam; total time=   0.1s\n",
      "[CV] END activation=tanh, alpha=0.001, hidden_layer_sizes=(50, 50), learning_rate=constant, max_iter=500, solver=sgd; total time=   0.1s\n",
      "[CV] END activation=tanh, alpha=0.001, hidden_layer_sizes=(50, 50), learning_rate=constant, max_iter=500, solver=adam; total time=   0.1s\n",
      "[CV] END activation=tanh, alpha=0.001, hidden_layer_sizes=(50, 50), learning_rate=adaptive, max_iter=500, solver=adam; total time=   0.1s\n",
      "[CV] END activation=tanh, alpha=0.001, hidden_layer_sizes=(50, 50), learning_rate=adaptive, max_iter=500, solver=adam; total time=   0.2s\n",
      "[CV] END activation=tanh, alpha=0.001, hidden_layer_sizes=(100, 100), learning_rate=constant, max_iter=500, solver=sgd; total time=   0.1s\n",
      "[CV] END activation=tanh, alpha=0.001, hidden_layer_sizes=(100, 100), learning_rate=constant, max_iter=500, solver=adam; total time=   0.2s\n",
      "[CV] END activation=tanh, alpha=0.001, hidden_layer_sizes=(100, 100), learning_rate=adaptive, max_iter=500, solver=adam; total time=   0.1s\n",
      "[CV] END activation=tanh, alpha=0.001, hidden_layer_sizes=(100, 100), learning_rate=adaptive, max_iter=500, solver=adam; total time=   0.1s\n",
      "[CV] END activation=relu, alpha=0.01, hidden_layer_sizes=(200, 200), learning_rate=constant, max_iter=1000, solver=sgd; total time=   1.5s\n",
      "[CV] END activation=relu, alpha=0.01, hidden_layer_sizes=(200, 200), learning_rate=adaptive, max_iter=500, solver=adam; total time=   0.7s\n",
      "[CV] END activation=relu, alpha=0.01, hidden_layer_sizes=(200, 200), learning_rate=adaptive, max_iter=1000, solver=adam; total time=   0.7s\n",
      "[CV] END activation=relu, alpha=0.0001, hidden_layer_sizes=(100, 100), learning_rate=adaptive, max_iter=500, solver=sgd; total time=   0.5s\n",
      "[CV] END activation=relu, alpha=0.0001, hidden_layer_sizes=(200, 200), learning_rate=constant, max_iter=1000, solver=sgd; total time=   0.9s\n",
      "[CV] END activation=relu, alpha=0.0001, hidden_layer_sizes=(200, 200), learning_rate=constant, max_iter=1000, solver=sgd; total time=   1.0s\n",
      "[CV] END activation=relu, alpha=0.0001, hidden_layer_sizes=(200, 200), learning_rate=adaptive, max_iter=1000, solver=sgd; total time=   2.1s\n",
      "[CV] END activation=relu, alpha=0.0001, hidden_layer_sizes=(200, 200), learning_rate=adaptive, max_iter=1000, solver=sgd; total time=   1.7s\n",
      "[CV] END activation=relu, alpha=0.001, hidden_layer_sizes=(100,), learning_rate=adaptive, max_iter=1000, solver=adam; total time=   0.1s\n",
      "[CV] END activation=relu, alpha=0.001, hidden_layer_sizes=(50, 50), learning_rate=constant, max_iter=500, solver=sgd; total time=   0.2s\n",
      "[CV] END activation=relu, alpha=0.001, hidden_layer_sizes=(50, 50), learning_rate=constant, max_iter=1000, solver=adam; total time=   0.2s\n",
      "[CV] END activation=relu, alpha=0.001, hidden_layer_sizes=(50, 50), learning_rate=adaptive, max_iter=500, solver=adam; total time=   0.1s\n",
      "[CV] END activation=relu, alpha=0.001, hidden_layer_sizes=(50, 50), learning_rate=adaptive, max_iter=1000, solver=sgd; total time=   0.2s\n",
      "[CV] END activation=relu, alpha=0.001, hidden_layer_sizes=(100, 100), learning_rate=constant, max_iter=500, solver=sgd; total time=   0.6s\n",
      "[CV] END activation=relu, alpha=0.001, hidden_layer_sizes=(100, 100), learning_rate=constant, max_iter=1000, solver=adam; total time=   0.3s\n",
      "[CV] END activation=relu, alpha=0.001, hidden_layer_sizes=(100, 100), learning_rate=adaptive, max_iter=500, solver=adam; total time=   0.4s\n",
      "[CV] END activation=relu, alpha=0.001, hidden_layer_sizes=(100, 100), learning_rate=adaptive, max_iter=1000, solver=sgd; total time=   0.7s\n",
      "[CV] END activation=relu, alpha=0.001, hidden_layer_sizes=(200, 200), learning_rate=constant, max_iter=500, solver=adam; total time=   0.5s\n",
      "[CV] END activation=relu, alpha=0.001, hidden_layer_sizes=(200, 200), learning_rate=constant, max_iter=1000, solver=sgd; total time=   1.3s\n",
      "[CV] END activation=relu, alpha=0.001, hidden_layer_sizes=(200, 200), learning_rate=adaptive, max_iter=500, solver=adam; total time=   0.5s\n",
      "[CV] END activation=relu, alpha=0.001, hidden_layer_sizes=(200, 200), learning_rate=adaptive, max_iter=1000, solver=sgd; total time=   1.5s\n",
      "[CV] END activation=relu, alpha=0.01, hidden_layer_sizes=(50,), learning_rate=constant, max_iter=500, solver=sgd; total time=   0.1s\n",
      "[CV] END activation=relu, alpha=0.01, hidden_layer_sizes=(50,), learning_rate=constant, max_iter=500, solver=adam; total time=   0.1s\n",
      "[CV] END activation=relu, alpha=0.01, hidden_layer_sizes=(50,), learning_rate=constant, max_iter=500, solver=adam; total time=   0.1s\n",
      "[CV] END activation=relu, alpha=0.01, hidden_layer_sizes=(50,), learning_rate=constant, max_iter=1000, solver=sgd; total time=   0.1s\n",
      "[CV] END activation=relu, alpha=0.01, hidden_layer_sizes=(50,), learning_rate=constant, max_iter=1000, solver=adam; total time=   0.1s\n",
      "[CV] END activation=relu, alpha=0.01, hidden_layer_sizes=(50,), learning_rate=adaptive, max_iter=500, solver=sgd; total time=   0.1s\n",
      "[CV] END activation=relu, alpha=0.01, hidden_layer_sizes=(50,), learning_rate=adaptive, max_iter=500, solver=adam; total time=   0.1s\n",
      "[CV] END activation=relu, alpha=0.01, hidden_layer_sizes=(50,), learning_rate=adaptive, max_iter=1000, solver=sgd; total time=   0.1s\n",
      "[CV] END activation=relu, alpha=0.01, hidden_layer_sizes=(100,), learning_rate=constant, max_iter=500, solver=sgd; total time=   0.1s\n",
      "[CV] END activation=relu, alpha=0.01, hidden_layer_sizes=(100,), learning_rate=constant, max_iter=1000, solver=sgd; total time=   0.1s\n",
      "[CV] END activation=relu, alpha=0.01, hidden_layer_sizes=(100,), learning_rate=constant, max_iter=1000, solver=adam; total time=   0.1s\n",
      "[CV] END activation=relu, alpha=0.01, hidden_layer_sizes=(100,), learning_rate=constant, max_iter=1000, solver=adam; total time=   0.1s\n",
      "[CV] END activation=relu, alpha=0.01, hidden_layer_sizes=(100,), learning_rate=adaptive, max_iter=500, solver=sgd; total time=   0.1s\n",
      "[CV] END activation=relu, alpha=0.01, hidden_layer_sizes=(100,), learning_rate=adaptive, max_iter=500, solver=adam; total time=   0.1s\n",
      "[CV] END activation=relu, alpha=0.01, hidden_layer_sizes=(100,), learning_rate=adaptive, max_iter=500, solver=adam; total time=   0.1s\n",
      "[CV] END activation=relu, alpha=0.01, hidden_layer_sizes=(100,), learning_rate=adaptive, max_iter=1000, solver=sgd; total time=   0.2s\n",
      "[CV] END activation=relu, alpha=0.01, hidden_layer_sizes=(100,), learning_rate=adaptive, max_iter=1000, solver=adam; total time=   0.1s\n",
      "[CV] END activation=relu, alpha=0.01, hidden_layer_sizes=(50, 50), learning_rate=constant, max_iter=500, solver=sgd; total time=   0.1s\n",
      "[CV] END activation=relu, alpha=0.01, hidden_layer_sizes=(50, 50), learning_rate=constant, max_iter=500, solver=sgd; total time=   0.1s\n",
      "[CV] END activation=relu, alpha=0.01, hidden_layer_sizes=(50, 50), learning_rate=constant, max_iter=500, solver=adam; total time=   0.1s\n",
      "[CV] END activation=relu, alpha=0.01, hidden_layer_sizes=(50, 50), learning_rate=constant, max_iter=1000, solver=sgd; total time=   0.1s\n",
      "[CV] END activation=relu, alpha=0.01, hidden_layer_sizes=(50, 50), learning_rate=constant, max_iter=1000, solver=sgd; total time=   0.1s\n",
      "[CV] END activation=relu, alpha=0.01, hidden_layer_sizes=(50, 50), learning_rate=constant, max_iter=1000, solver=adam; total time=   0.1s\n",
      "[CV] END activation=relu, alpha=0.01, hidden_layer_sizes=(50, 50), learning_rate=adaptive, max_iter=500, solver=sgd; total time=   0.2s\n",
      "[CV] END activation=relu, alpha=0.01, hidden_layer_sizes=(50, 50), learning_rate=adaptive, max_iter=500, solver=sgd; total time=   0.2s\n",
      "[CV] END activation=relu, alpha=0.01, hidden_layer_sizes=(50, 50), learning_rate=adaptive, max_iter=500, solver=adam; total time=   0.1s\n",
      "[CV] END activation=relu, alpha=0.01, hidden_layer_sizes=(50, 50), learning_rate=adaptive, max_iter=1000, solver=sgd; total time=   0.2s\n",
      "[CV] END activation=relu, alpha=0.01, hidden_layer_sizes=(50, 50), learning_rate=adaptive, max_iter=1000, solver=adam; total time=   0.1s\n",
      "[CV] END activation=relu, alpha=0.01, hidden_layer_sizes=(50, 50), learning_rate=adaptive, max_iter=1000, solver=adam; total time=   0.1s\n",
      "[CV] END activation=relu, alpha=0.01, hidden_layer_sizes=(100, 100), learning_rate=constant, max_iter=500, solver=sgd; total time=   0.3s\n",
      "[CV] END activation=relu, alpha=0.01, hidden_layer_sizes=(100, 100), learning_rate=constant, max_iter=500, solver=sgd; total time=   0.4s\n",
      "[CV] END activation=relu, alpha=0.01, hidden_layer_sizes=(100, 100), learning_rate=constant, max_iter=1000, solver=sgd; total time=   0.3s\n",
      "[CV] END activation=relu, alpha=0.01, hidden_layer_sizes=(100, 100), learning_rate=constant, max_iter=1000, solver=sgd; total time=   0.3s\n",
      "[CV] END activation=relu, alpha=0.01, hidden_layer_sizes=(100, 100), learning_rate=constant, max_iter=1000, solver=adam; total time=   0.2s\n",
      "[CV] END activation=relu, alpha=0.01, hidden_layer_sizes=(100, 100), learning_rate=adaptive, max_iter=500, solver=sgd; total time=   0.4s\n",
      "[CV] END activation=relu, alpha=0.01, hidden_layer_sizes=(100, 100), learning_rate=adaptive, max_iter=500, solver=adam; total time=   0.1s\n",
      "[CV] END activation=relu, alpha=0.01, hidden_layer_sizes=(100, 100), learning_rate=adaptive, max_iter=500, solver=adam; total time=   0.1s\n",
      "[CV] END activation=relu, alpha=0.01, hidden_layer_sizes=(100, 100), learning_rate=adaptive, max_iter=500, solver=adam; total time=   0.2s\n",
      "[CV] END activation=relu, alpha=0.01, hidden_layer_sizes=(100, 100), learning_rate=adaptive, max_iter=1000, solver=sgd; total time=   0.4s\n",
      "[CV] END activation=relu, alpha=0.01, hidden_layer_sizes=(100, 100), learning_rate=adaptive, max_iter=1000, solver=adam; total time=   0.1s\n",
      "[CV] END activation=relu, alpha=0.01, hidden_layer_sizes=(100, 100), learning_rate=adaptive, max_iter=1000, solver=adam; total time=   0.1s\n",
      "[CV] END activation=relu, alpha=0.01, hidden_layer_sizes=(100, 100), learning_rate=adaptive, max_iter=1000, solver=adam; total time=   0.2s\n",
      "[CV] END activation=relu, alpha=0.01, hidden_layer_sizes=(200, 200), learning_rate=constant, max_iter=1000, solver=sgd; total time=   1.1s\n",
      "[CV] END activation=relu, alpha=0.01, hidden_layer_sizes=(200, 200), learning_rate=adaptive, max_iter=500, solver=adam; total time=   0.5s\n",
      "[CV] END activation=relu, alpha=0.01, hidden_layer_sizes=(200, 200), learning_rate=adaptive, max_iter=1000, solver=sgd; total time=   1.4s\n",
      "[CV] END activation=relu, alpha=0.0001, hidden_layer_sizes=(50,), learning_rate=adaptive, max_iter=1000, solver=sgd; total time=   0.1s\n",
      "[CV] END activation=relu, alpha=0.0001, hidden_layer_sizes=(50,), learning_rate=adaptive, max_iter=1000, solver=adam; total time=   0.1s\n",
      "[CV] END activation=relu, alpha=0.0001, hidden_layer_sizes=(100,), learning_rate=constant, max_iter=1000, solver=sgd; total time=   0.1s\n",
      "[CV] END activation=relu, alpha=0.0001, hidden_layer_sizes=(100,), learning_rate=constant, max_iter=1000, solver=sgd; total time=   0.1s\n",
      "[CV] END activation=relu, alpha=0.0001, hidden_layer_sizes=(100,), learning_rate=adaptive, max_iter=500, solver=adam; total time=   0.1s\n",
      "[CV] END activation=relu, alpha=0.0001, hidden_layer_sizes=(100,), learning_rate=adaptive, max_iter=500, solver=adam; total time=   0.1s\n",
      "[CV] END activation=relu, alpha=0.0001, hidden_layer_sizes=(100,), learning_rate=adaptive, max_iter=1000, solver=adam; total time=   0.1s\n",
      "[CV] END activation=relu, alpha=0.0001, hidden_layer_sizes=(100,), learning_rate=adaptive, max_iter=1000, solver=adam; total time=   0.1s\n",
      "[CV] END activation=relu, alpha=0.0001, hidden_layer_sizes=(50, 50), learning_rate=constant, max_iter=1000, solver=sgd; total time=   0.2s\n",
      "[CV] END activation=relu, alpha=0.0001, hidden_layer_sizes=(50, 50), learning_rate=constant, max_iter=1000, solver=sgd; total time=   0.2s\n",
      "[CV] END activation=relu, alpha=0.0001, hidden_layer_sizes=(50, 50), learning_rate=adaptive, max_iter=1000, solver=sgd; total time=   0.3s\n",
      "[CV] END activation=relu, alpha=0.0001, hidden_layer_sizes=(50, 50), learning_rate=adaptive, max_iter=1000, solver=sgd; total time=   0.2s\n",
      "[CV] END activation=relu, alpha=0.0001, hidden_layer_sizes=(100, 100), learning_rate=constant, max_iter=500, solver=adam; total time=   0.2s\n",
      "[CV] END activation=relu, alpha=0.0001, hidden_layer_sizes=(100, 100), learning_rate=constant, max_iter=500, solver=adam; total time=   0.2s\n",
      "[CV] END activation=relu, alpha=0.0001, hidden_layer_sizes=(100, 100), learning_rate=constant, max_iter=1000, solver=adam; total time=   0.1s\n",
      "[CV] END activation=relu, alpha=0.0001, hidden_layer_sizes=(100, 100), learning_rate=constant, max_iter=1000, solver=adam; total time=   0.2s\n",
      "[CV] END activation=relu, alpha=0.0001, hidden_layer_sizes=(100, 100), learning_rate=adaptive, max_iter=1000, solver=sgd; total time=   0.5s\n",
      "[CV] END activation=relu, alpha=0.0001, hidden_layer_sizes=(100, 100), learning_rate=adaptive, max_iter=1000, solver=sgd; total time=   0.5s\n",
      "[CV] END activation=relu, alpha=0.0001, hidden_layer_sizes=(200, 200), learning_rate=constant, max_iter=1000, solver=sgd; total time=   1.1s\n",
      "[CV] END activation=relu, alpha=0.0001, hidden_layer_sizes=(200, 200), learning_rate=constant, max_iter=1000, solver=adam; total time=   0.5s\n",
      "[CV] END activation=relu, alpha=0.0001, hidden_layer_sizes=(200, 200), learning_rate=adaptive, max_iter=500, solver=adam; total time=   0.7s\n",
      "[CV] END activation=relu, alpha=0.0001, hidden_layer_sizes=(200, 200), learning_rate=adaptive, max_iter=500, solver=adam; total time=   0.9s\n",
      "[CV] END activation=relu, alpha=0.001, hidden_layer_sizes=(50,), learning_rate=constant, max_iter=500, solver=sgd; total time=   0.1s\n",
      "[CV] END activation=relu, alpha=0.001, hidden_layer_sizes=(50,), learning_rate=constant, max_iter=500, solver=sgd; total time=   0.1s\n",
      "[CV] END activation=relu, alpha=0.001, hidden_layer_sizes=(50,), learning_rate=constant, max_iter=500, solver=sgd; total time=   0.2s\n",
      "[CV] END activation=relu, alpha=0.001, hidden_layer_sizes=(50,), learning_rate=constant, max_iter=500, solver=adam; total time=   0.1s\n",
      "[CV] END activation=relu, alpha=0.001, hidden_layer_sizes=(50,), learning_rate=constant, max_iter=1000, solver=sgd; total time=   0.1s\n",
      "[CV] END activation=relu, alpha=0.001, hidden_layer_sizes=(50,), learning_rate=constant, max_iter=1000, solver=sgd; total time=   0.2s\n",
      "[CV] END activation=relu, alpha=0.001, hidden_layer_sizes=(50,), learning_rate=constant, max_iter=1000, solver=sgd; total time=   0.2s\n",
      "[CV] END activation=relu, alpha=0.001, hidden_layer_sizes=(50,), learning_rate=constant, max_iter=1000, solver=adam; total time=   0.1s\n",
      "[CV] END activation=relu, alpha=0.001, hidden_layer_sizes=(50,), learning_rate ARIMA(0,0,1)(0,1,1)[48] intercept   : AIC=inf, Time=82.15 sec\n",
      "=adaptive, max_iter=500, solver=sgd; total time=   0.2s\n",
      "[CV] END activation=relu, alpha=0.001, hidden_layer_sizes=(50,), learning_rate=adaptive, max_iter=500, solver=adam; total time=   0.0s\n",
      "[CV] END activation=relu, alpha=0.001, hidden_layer_sizes=(50,), learning_rate=adaptive, max_iter=500, solver=adam; total time=   0.1s\n",
      "[CV] END activation=relu, alpha=0.001, hidden_layer_sizes=(50,), learning_rate=adaptive, max_iter=1000, solver=sgd; total time=   0.1s\n",
      "[CV] END activation=relu, alpha=0.001, hidden_layer_sizes=(50,), learning_rate=adaptive, max_iter=1000, solver=adam; total time=   0.1s\n",
      "[CV] END activation=relu, alpha=0.001, hidden_layer_sizes=(50,), learning_rate=adaptive, max_iter=1000, solver=adam; total time=   0.2s\n",
      "[CV] END activation=relu, alpha=0.001, hidden_layer_sizes=(100,), learning_rate=constant, max_iter=500, solver=sgd; total time=   0.1s\n",
      "[CV] END activation=relu, alpha=0.001, hidden_layer_sizes=(100,), learning_rate=constant, max_iter=1000, solver=sgd; total time=   0.1s\n",
      "[CV] END activation=relu, alpha=0.001, hidden_layer_sizes=(100,), learning_rate=constant, max_iter=1000, solver=adam; total time=   0.2s\n",
      "[CV] END activation=relu, alpha=0.001, hidden_layer_sizes=(100,), learning_rate=adaptive, max_iter=500, solver=adam; total time=   0.1s\n",
      "[CV] END activation=relu, alpha=0.001, hidden_layer_sizes=(100,), learning_rate=adaptive, max_iter=500, solver=adam; total time=   0.1s\n",
      "[CV] END activation=relu, alpha=0.001, hidden_layer_sizes=(100,), learning_rate=adaptive, max_iter=1000, solver=adam; total time=   0.1s\n",
      "[CV] END activation=relu, alpha=0.001, hidden_layer_sizes=(50, 50), learning_rate=constant, max_iter=500, solver=adam; total time=   0.1s\n",
      "[CV] END activation=relu, alpha=0.001, hidden_layer_sizes=(50, 50), learning_rate=constant, max_iter=1000, solver=sgd; total time=   0.2s\n",
      "[CV] END activation=relu, alpha=0.001, hidden_layer_sizes=(50, 50), learning_rate=adaptive, max_iter=500, solver=sgd; total time=   0.3s\n",
      "[CV] END activation=relu, alpha=0.001, hidden_layer_sizes=(50, 50), learning_rate=adaptive, max_iter=1000, solver=adam; total time=   0.1s\n",
      "[CV] END activation=relu, alpha=0.001, hidden_layer_sizes=(100, 100), learning_rate=constant, max_iter=500, solver=sgd; total time=   0.6s\n",
      "[CV] END activation=relu, alpha=0.001, hidden_layer_sizes=(100, 100), learning_rate=constant, max_iter=1000, solver=adam; total time=   0.2s\n",
      "[CV] END activation=relu, alpha=0.001, hidden_layer_sizes=(100, 100), learning_rate=adaptive, max_iter=500, solver=sgd; total time=   0.7s\n",
      "[CV] END activation=relu, alpha=0.001, hidden_layer_sizes=(100, 100), learning_rate=adaptive, max_iter=1000, solver=adam; total time=   0.3s\n",
      "[CV] END activation=relu, alpha=0.001, hidden_layer_sizes=(200, 200), learning_rate=constant, max_iter=500, solver=adam; total time=   0.5s\n",
      "[CV] END activation=relu, alpha=0.001, hidden_layer_sizes=(200, 200), learning_rate=constant, max_iter=1000, solver=sgd; total time=   1.1s\n",
      "[CV] END activation=relu, alpha=0.001, hidden_layer_sizes=(200, 200), learning_rate=adaptive, max_iter=500, solver=sgd; total time=   1.7s\n",
      "[CV] END activation=relu, alpha=0.001, hidden_layer_sizes=(200, 200), learning_rate=adaptive, max_iter=1000, solver=adam; total time=   0.5s\n",
      "[CV] END activation=relu, alpha=0.01, hidden_layer_sizes=(50,), learning_rate=constant, max_iter=500, solver=sgd; total time=   0.1s\n",
      "[CV] END activation=relu, alpha=0.01, hidden_layer_sizes=(50,), learning_rate=constant, max_iter=500, solver=sgd; total time=   0.1s\n",
      "[CV] END activation=relu, alpha=0.01, hidden_layer_sizes=(50,), learning_rate=constant, max_iter=500, solver=adam; total time=   0.1s\n",
      "[CV] END activation=relu, alpha=0.01, hidden_layer_sizes=(50,), learning_rate=constant, max_iter=1000, solver=sgd; total time=   0.1s\n",
      "[CV] END activation=relu, alpha=0.01, hidden_layer_sizes=(50,), learning_rate=constant, max_iter=1000, solver=sgd; total time=   0.1s\n",
      "[CV] END activation=relu, alpha=0.01, hidden_layer_sizes=(50,), learning_rate=constant, max_iter=1000, solver=adam; total time=   0.1s\n",
      "[CV] END activation=relu, alpha=0.01, hidden_layer_sizes=(200, 200), learning_rate=adaptive, max_iter=500, solver=sgd; total time=   2.4s\n",
      "[CV] END activation=tanh, alpha=0.01, hidden_layer_sizes=(50, 50), learning_rate=constant, max_iter=500, solver=sgd; total time=   0.2s\n",
      "[CV] END activation=tanh, alpha=0.01, hidden_layer_sizes=(50, 50), learning_rate=constant, max_iter=500, solver=adam; total time=   0.1s\n",
      "[CV] END activation=tanh, alpha=0.01, hidden_layer_sizes=(50, 50), learning_rate=adaptive, max_iter=500, solver=sgd; total time=   0.2s\n",
      "[CV] END activation=tanh, alpha=0.01, hidden_layer_sizes=(50, 50), learning_rate=adaptive, max_iter=500, solver=adam; total time=   0.1s\n",
      "[CV] END activation=tanh, alpha=0.01, hidden_layer_sizes=(100, 100), learning_rate=constant, max_iter=500, solver=sgd; total time=   0.2s\n",
      "[CV] END activation=tanh, alpha=0.01, hidden_layer_sizes=(100, 100), learning_rate=constant, max_iter=500, solver=sgd; total time=   0.2s\n",
      "[CV] END activation=tanh, alpha=0.01, hidden_layer_sizes=(100, 100), learning_rate=adaptive, max_iter=500, solver=adam; total time=   0.1s\n",
      "[CV] END activation=tanh, alpha=0.01, hidden_layer_sizes=(100, 100), learning_rate=adaptive, max_iter=500, solver=adam; total time=   0.1s\n",
      "[CV] END activation=tanh, alpha=0.01, hidden_layer_sizes=(100, 100), learning_rate=adaptive, max_iter=1000, solver=adam; total time=   0.1s\n",
      "[CV] END activation=tanh, alpha=0.01, hidden_layer_sizes=(100, 100), learning_rate=adaptive, max_iter=1000, solver=adam; total time=   0.1s\n",
      "[CV] END activation=tanh, alpha=0.01, hidden_layer_sizes=(200, 200), learning_rate=constant, max_iter=500, solver=sgd; total time=   0.4s\n",
      "[CV] END activation=tanh, alpha=0.01, hidden_layer_sizes=(200, 200), learning_rate=constant, max_iter=500, solver=adam; total time=   0.2s\n",
      "[CV] END activation=tanh, alpha=0.01, hidden_layer_sizes=(200, 200), learning_rate=adaptive, max_iter=500, solver=sgd; total time=   0.6s\n",
      "[CV] END activation=tanh, alpha=0.01, hidden_layer_sizes=(200, 200), learning_rate=adaptive, max_iter=500, solver=sgd; total time=   0.6s\n",
      "[CV] END activation=relu, alpha=0.0001, hidden_layer_sizes=(50,), learning_rate=constant, max_iter=500, solver=sgd; total time=   0.1s\n",
      "[CV] END activation=relu, alpha=0.0001, hidden_layer_sizes=(50,), learning_rate=constant, max_iter=500, solver=adam; total time=   0.0s\n",
      "[CV] END activation=relu, alpha=0.0001, hidden_layer_sizes=(50,), learning_rate=constant, max_iter=1000, solver=sgd; total time=   0.1s\n",
      "[CV] END activation=relu, alpha=0.0001, hidden_layer_sizes=(50,), learning_rate=constant, max_iter=1000, solver=sgd; total time=   0.1s\n",
      "[CV] END activation=relu, alpha=0.0001, hidden_layer_sizes=(50,), learning_rate=adaptive, max_iter=500, solver=sgd; total time=   0.1s\n",
      "[CV] END activation=relu, alpha=0.0001, hidden_layer_sizes=(50,), learning_rate=adaptive, max_iter=500, solver=sgd; total time=   0.2s\n",
      "[CV] END activation=relu, alpha=0.0001, hidden_layer_sizes=(100,), learning_rate=constant, max_iter=500, solver=sgd; total time=   0.1s\n",
      "[CV] END activation=relu, alpha=0.0001, hidden_layer_sizes=(100,), learning_rate=constant, max_iter=500, solver=adam; total time=   0.1s\n",
      "[CV] END activation=relu, alpha=0.0001, hidden_layer_sizes=(100,), learning_rate=adaptive, max_iter=500, solver=sgd; total time=   0.2s\n",
      "[CV] END activation=relu, alpha=0.0001, hidden_layer_sizes=(100,), learning_rate=adaptive, max_iter=500, solver=adam; total time=   0.1s\n",
      "[CV] END activation=relu, alpha=0.0001, hidden_layer_sizes=(50, 50), learning_rate=constant, max_iter=500, solver=sgd; total time=   0.2s\n",
      "[CV] END activation=relu, alpha=0.0001, hidden_layer_sizes=(50, 50), learning_rate=constant, max_iter=500, solver=sgd; total time=   0.2s\n",
      "[CV] END activation=relu, alpha=0.0001, hidden_layer_sizes=(50, 50), learning_rate=constant, max_iter=1000, solver=adam; total time=   0.2s\n",
      "[CV] END activation=relu, alpha=0.0001, hidden_layer_sizes=(50, 50), learning_rate=constant, max_iter=1000, solver=adam; total time=   0.2s\n",
      "[CV] END activation=relu, alpha=0.0001, hidden_layer_sizes=(50, 50), learning_rate=adaptive, max_iter=1000, solver=sgd; total time=   0.2s\n",
      "[CV] END activation=relu, alpha=0.0001, hidden_layer_sizes=(50, 50), learning_rate=adaptive, max_iter=1000, solver=adam; total time=   0.1s\n",
      "[CV] END activation=relu, alpha=0.0001, hidden_layer_sizes=(100, 100), learning_rate=constant, max_iter=1000, solver=sgd; total time=   0.4s\n",
      "[CV] END activation=relu, alpha=0.0001, hidden_layer_sizes=(100, 100), learning_rate=constant, max_iter=1000, solver=sgd; total time=   0.4s\n",
      "[CV] END activation=relu, alpha=0.0001, hidden_layer_sizes=(100, 100), learning_rate=adaptive, max_iter=1000, solver=sgd; total time=   0.6s\n",
      "[CV] END activation=relu, alpha=0.0001, hidden_layer_sizes=(100, 100), learning_rate=adaptive, max_iter=1000, solver=adam; total time=   0.1s\n",
      "[CV] END activation=relu, alpha=0.0001, hidden_layer_sizes=(200, 200), learning_rate=constant, max_iter=500, solver=adam; total time=   0.5s\n",
      "[CV] END activation=relu, alpha=0.0001, hidden_layer_sizes=(200, 200), learning_rate=constant, max_iter=500, solver=adam; total time=   0.6s\n",
      "[CV] END activation=relu, alpha=0.0001, hidden_layer_sizes=(200, 200), learning_rate=constant, max_iter=1000, solver=adam; total time=   0.6s\n",
      "[CV] END activation=relu, alpha=0.0001, hidden_layer_sizes=(200, 200), learning_rate=constant, max_iter=1000, solver=adam; total time=   0.6s\n",
      "[CV] END activation=relu, alpha=0.0001, hidden_layer_sizes=(200, 200), learning_rate=adaptive, max_iter=1000, solver=sgd; total time=   2.3s\n",
      "[CV] END activation=relu, alpha=0.0001, hidden_layer_sizes=(200, 200), learning_rate=adaptive, max_iter=1000, solver=adam; total time=   0.6s\n",
      "[CV] END activation=relu, alpha=0.001, hidden_layer_sizes=(100,), learning_rate=constant, max_iter=500, solver=adam; total time=   0.1s\n",
      "[CV] END activation=relu, alpha=0.001, hidden_layer_sizes=(100,), learning_rate=constant, max_iter=1000, solver=sgd; total time=   0.2s\n",
      "[CV] END activation=relu, alpha=0.001, hidden_layer_sizes=(100,), learning_rate=adaptive, max_iter=500, solver=sgd; total time=   0.2s\n",
      "[CV] END activation=relu, alpha=0.001, hidden_layer_sizes=(100,), learning_rate=adaptive, max_iter=1000, solver=sgd; total time=   0.2s\n",
      "[CV] END activation=relu, alpha=0.001, hidden_layer_sizes=(50, 50), learning_rate=constant, max_iter=500, solver=adam; total time=   0.2s\n",
      "[CV] END activation=relu, alpha=0.001, hidden_layer_sizes=(50, 50), learning_rate=constant, max_iter=1000, solver=adam; total time=   0.1s\n",
      "[CV] END activation=relu, alpha=0.001, hidden_layer_sizes=(50, 50), learning_rate=adaptive, max_iter=500, solver=sgd; total time=   0.3s\n",
      "[CV] END activation=relu, alpha=0.001, hidden_layer_sizes=(50, 50), learning_rate=adaptive, max_iter=1000, solver=adam; total time=   0.1s\n",
      "[CV] END activation=relu, alpha=0.001, hidden_layer_sizes=(100, 100), learning_rate=constant, max_iter=500, solver=adam; total time=   0.2s\n",
      "[CV] END activation=relu, alpha=0.001, hidden_layer_sizes=(1 ARIMA(0,0,0)(0,1,0)[48]             : AIC=2941.361, Time=0.39 sec\n",
      "00, 100), learning_rate=constant, max_iter=1000, solver=sgd; total time=   0.6s\n",
      "[CV] END activation=relu, alpha=0.001, hidden_layer_sizes=(100, 100), learning_rate=adaptive, max_iter=500, solver=adam; total time=   0.1s\n",
      "[CV] END activation=relu, alpha=0.001, hidden_layer_sizes=(100, 100), learning_rate=adaptive, max_iter=1000, solver=sgd; total time=   0.8s\n",
      "[CV] END activation=relu, alpha=0.001, hidden_layer_sizes=(200, 200), learning_rate=constant, max_iter=500, solver=sgd; total time=   1.0s\n",
      "[CV] END activation=relu, alpha=0.001, hidden_layer_sizes=(200, 200), learning_rate=constant, max_iter=1000, solver=adam; total time=   0.5s\n",
      "[CV] END activation=relu, alpha=0.001, hidden_layer_sizes=(200, 200), learning_rate=adaptive, max_iter=500, solver=sgd; total time=   1.6s\n",
      "[CV] END activation=relu, alpha=0.001, hidden_layer_sizes=(200, 200), learning_rate=adaptive, max_iter=1000, solver=sgd; total time=   1.5s\n",
      "[CV] END activation=relu, alpha=0.01, hidden_layer_sizes=(50,), learning_rate=adaptive, max_iter=1000, solver=sgd; total time=   0.1s\n",
      "[CV] END activation=relu, alpha=0.01, hidden_layer_sizes=(50,), learning_rate=adaptive, max_iter=1000, solver=adam; total time=   0.1s\n",
      "[CV] END activation=relu, alpha=0.01, hidden_layer_sizes=(100,), learning_rate=constant, max_iter=500, solver=sgd; total time=   0.1s\n",
      "[CV] END activation=relu, alpha=0.01, hidden_layer_sizes=(100,), learning_rate=constant, max_iter=500, solver=adam; total time=   0.1s\n",
      "[CV] END activation=relu, alpha=0.01, hidden_layer_sizes=(200, 200), learning_rate=adaptive, max_iter=500, solver=sgd; total time=   2.4s\n",
      "[CV] END activation=tanh, alpha=0.001, hidden_layer_sizes=(200, 200), learning_rate=constant, max_iter=1000, solver=adam; total time=   0.3s\n",
      "[CV] END activation=tanh, alpha=0.001, hidden_layer_sizes=(200, 200), learning_rate=constant, max_iter=1000, solver=adam; total time=   0.6s\n",
      "[CV] END activation=tanh, alpha=0.001, hidden_layer_sizes=(200, 200), learning_rate=adaptive, max_iter=1000, solver=adam; total time=   0.5s\n",
      "[CV] END activation=tanh, alpha=0.001, hidden_layer_sizes=(200, 200), learning_rate=adaptive, max_iter=1000, solver=adam; total time=   0.3s\n",
      "[CV] END activation=tanh, alpha=0.01, hidden_layer_sizes=(50,), learning_rate=constant, max_iter=1000, solver=sgd; total time=   0.1s\n",
      "[CV] END activation=tanh, alpha=0.01, hidden_layer_sizes=(50,), learning_rate=constant, max_iter=1000, solver=adam; total time=   0.1s\n",
      "[CV] END activation=tanh, alpha=0.01, hidden_layer_sizes=(50,), learning_rate=adaptive, max_iter=1000, solver=sgd; total time=   0.1s\n",
      "[CV] END activation=tanh, alpha=0.01, hidden_layer_sizes=(50,), learning_rate=adaptive, max_iter=1000, solver=sgd; total time=   0.1s\n",
      "[CV] END activation=tanh, alpha=0.01, hidden_layer_sizes=(100,), learning_rate=constant, max_iter=500, solver=adam; total time=   0.0s\n",
      "[CV] END activation=tanh, alpha=0.01, hidden_layer_sizes=(100,), learning_rate=constant, max_iter=500, solver=adam; total time=   0.1s\n",
      "[CV] END activation=tanh, alpha=0.01, hidden_layer_sizes=(100,), learning_rate=adaptive, max_iter=500, solver=sgd; total time=   0.2s\n",
      "[CV] END activation=tanh, alpha=0.01, hidden_layer_sizes=(100,), learning_rate=adaptive, max_iter=500, solver=adam; total time=   0.0s\n",
      "[CV] END activation=tanh, alpha=0.01, hidden_layer_sizes=(50, 50), learning_rate=constant, max_iter=500, solver=adam; total time=   0.1s\n",
      "[CV] END activation=tanh, alpha=0.01, hidden_layer_sizes=(50, 50), learning_rate=constant, max_iter=500, solver=adam; total time=   0.2s\n",
      "[CV] END activation=tanh, alpha=0.01, hidden_layer_sizes=(50, 50), learning_rate=adaptive, max_iter=500, solver=adam; total time=   0.1s\n",
      "[CV] END activation=tanh, alpha=0.01, hidden_layer_sizes=(50, 50), learning_rate=adaptive, max_iter=500, solver=adam; total time=   0.1s\n",
      "[CV] END activation=tanh, alpha=0.01, hidden_layer_sizes=(100, 100), learning_rate=constant, max_iter=500, solver=sgd; total time=   0.2s\n",
      "[CV] END activation=tanh, alpha=0.01, hidden_layer_sizes=(100, 100), learning_rate=constant, max_iter=500, solver=adam; total time=   0.1s\n",
      "[CV] END activation=tanh, alpha=0.01, hidden_layer_sizes=(100, 100), learning_rate=adaptive, max_iter=500, solver=sgd; total time=   0.3s\n",
      "[CV] END activation=tanh, alpha=0.01, hidden_layer_sizes=(100, 100), learning_rate=adaptive, max_iter=500, solver=adam; total time=   0.1s\n",
      "[CV] END activation=tanh, alpha=0.01, hidden_layer_sizes=(200, 200), learning_rate=constant, max_iter=500, solver=sgd; total time=   0.2s\n",
      "[CV] END activation=tanh, alpha=0.01, hidden_layer_sizes=(200, 200), learning_rate=constant, max_iter=500, solver=sgd; total time=   0.3s\n",
      "[CV] END activation=tanh, alpha=0.01, hidden_layer_sizes=(200, 200), learning_rate=constant, max_iter=1000, solver=adam; total time=   0.3s\n",
      "[CV] END activation=tanh, alpha=0.01, hidden_layer_sizes=(200, 200), learning_rate=constant, max_iter=1000, solver=adam; total time=   0.4s\n",
      "[CV] END activation=tanh, alpha=0.01, hidden_layer_sizes=(200, 200), learning_rate=adaptive, max_iter=1000, solver=sgd; total time=   0.8s\n",
      "[CV] END activation=tanh, alpha=0.01, hidden_layer_sizes=(200, 200), learning_rate=adaptive, max_iter=1000, solver=adam; total time=   0.2s\n",
      "[CV] END activation=relu, alpha=0.0001, hidden_layer_sizes=(50,), learning_rate=adaptive, max_iter=500, solver=sgd; total time=   0.1s\n",
      "[CV] END activation=relu, alpha=0.0001, hidden_layer_sizes=(50,), learning_rate=adaptive, max_iter=500, solver=adam; total time=   0.1s\n",
      "[CV] END activation=relu, alpha=0.0001, hidden_layer_sizes=(100,), learning_rate=constant, max_iter=500, solver=sgd; total time=   0.1s\n",
      "[CV] END activation=relu, alpha=0.0001, hidden_layer_sizes=(100,), learning_rate=constant, max_iter=500, solver=sgd; total time=   0.1s\n",
      "[CV] END activation=relu, alpha=0.0001, hidden_layer_sizes=(100,), learning_rate=adaptive, max_iter=500, solver=sgd; total time=   0.2s\n",
      "[CV] END activation=relu, alpha=0.0001, hidden_layer_sizes=(100,), learning_rate=adaptive, max_iter=500, solver=sgd; total time=   0.3s\n",
      "[CV] END activation=relu, alpha=0.0001, hidden_layer_sizes=(50, 50), learning_rate=constant, max_iter=500, solver=adam; total time=   0.1s\n",
      "[CV] END activation=relu, alpha=0.0001, hidden_layer_sizes=(50, 50), learning_rate=constant, max_iter=500, solver=adam; total time=   0.2s\n",
      "[CV] END activation=relu, alpha=0.0001, hidden_layer_sizes=(50, 50), learning_rate=adaptive, max_iter=500, solver=sgd; total time=   0.3s\n",
      "[CV] END activation=relu, alpha=0.0001, hidden_layer_sizes=(50, 50), learning_rate=adaptive, max_iter=500, solver=adam; total time=   0.1s\n",
      "[CV] END activation=relu, alpha=0.0001, hidden_layer_sizes=(50, 50), learning_rate=adaptive, max_iter=1000, solver=adam; total time=   0.1s\n",
      "[CV] END activation=relu, alpha=0.0001, hidden_layer_sizes=(50, 50), learning_rate=adaptive, max_iter=1000, solver=adam; total time=   0.2s\n",
      "[CV] END activation=relu, alpha=0.0001, hidden_layer_sizes=(100, 100), learning_rate=constant, max_iter=1000, solver=sgd; total time=   0.5s\n",
      "[CV] END activation=relu, alpha=0.0001, hidden_layer_sizes=(100, 100), learning_rate=constant, max_iter=1000, solver=adam; total time=   0.1s\n",
      "[CV] END activation=relu, alpha=0.0001, hidden_layer_sizes=(100, 100), learning_rate=adaptive, max_iter=500, solver=adam; total time=   0.1s\n",
      "[CV] END activation=relu, alpha=0.0001, hidden_layer_sizes=(100, 100), learning_rate=adaptive, max_iter=500, solver=adam; total time=   0.2s\n",
      "[CV] END activation=relu, alpha=0.0001, hidden_layer_sizes=(100, 100), learning_rate=adaptive, max_iter=1000, solver=adam; total time=   0.1s\n",
      "[CV] END activation=relu, alpha=0.0001, hidden_layer_sizes=(100, 100), learning_rate=adaptive, max_iter=1000, solver=adam; total time=   0.2s\n",
      "[CV] END activation=relu, alpha=0.0001, hidden_layer_sizes=(200, 200), learning_rate=constant, max_iter=500, solver=sgd; total time=   1.1s\n",
      "[CV] END activation=relu, alpha=0.0001, hidden_layer_sizes=(200, 200), learning_rate=constant, max_iter=500, solver=adam; total time=   0.5s\n",
      "[CV] END activation=relu, alpha=0.0001, hidden_layer_sizes=(200, 200), learning_rate=adaptive, max_iter=500, solver=sgd; total time=   2.2s\n",
      "[CV] END activation=relu, alpha=0.0001, hidden_layer_sizes=(200, 200), learning_rate=adaptive, max_iter=500, solver=sgd; total time=   1.7s\n",
      "[CV] END activation=relu, alpha=0.001, hidden_layer_sizes=(100,), learning_rate=constant, max_iter=1000, solver=adam; total time=   0.2s\n",
      "[CV] END activation=relu, alpha=0.001, hidden_layer_sizes=(100,), learning_rate=adaptive, max_iter=500, solver=adam; total time=   0.1s\n",
      "[CV] END activation=relu, alpha=0.001, hidden_layer_sizes=(100,), learning_rate=adaptive, max_iter=1000, solver=sgd; total time=   0.2s\n",
      "[CV] END activation=relu, alpha=0.001, hidden_layer_sizes=(50, 50), learning_rate=constant, max_iter=500, solver=adam; total time=   0.1s\n",
      "[CV] END activation=relu, alpha=0.001, hidden_layer_sizes=(50, 50), learning_rate=constant, max_iter=1000, solver=sgd; total time=   0.2s\n",
      "[CV] END activation=relu, alpha=0.001, hidden_layer_sizes=(50, 50), learning_rate=adaptive, max_iter=500, solver=sgd; total time=   0.2s\n",
      "[CV] END activation=relu, alpha=0.001, hidden_layer_sizes=(50, 50), learning_rate=adaptive, max_iter=1000, solver=adam; total time=   0.1s\n",
      "[CV] END activation=relu, alpha=0.001, hidden_layer_sizes=(100, 100), learning_rate=constant, max_iter=500, solver=sgd; total time=   0.5s\n",
      "[CV] END activation=relu, alpha=0.001, hidden_layer_sizes=(100, 100), learning_rate=constant, max_iter=1000, solver=adam; total time=   0.2s\n",
      "[CV] END activation=relu, alpha=0.001, hidden_layer_sizes=(100, 100), learning_rate=adaptive, max_iter=500, solver=sgd; total time=   0.7s\n",
      "[CV] END activation=relu, alpha=0.001, hidden_layer_sizes=(100, 100), learning_rate=adaptive, max_iter=1000, solver=adam; total time=   0.2s\n",
      "[CV] END activation=relu, alpha=0.001, hidden_layer_sizes=(200, 200), learning_rate=constant, max_iter=500, solver=sgd; total time=   0.9s\n",
      "[CV] END activation=relu, alpha=0.01, hidden_layer_sizes=(200, 200), learning_rate=constant, max_iter=1000, solver=adam; total time=   1.0s\n",
      "[CV] END activation=relu, alpha=0.01, hidden_layer_sizes=(200, 200), learning_rate=adaptive, max_iter=1000, solver=sgd; total time=   1.9s\n",
      "[CV] END activation=tanh, alpha=0.01, hidden_layer_sizes=(100, 100), learning_rate=constant, max_iter=1000, solver=sgd; total time=   0.2s\n",
      "[CV] END activation=tanh, alpha=0.01, hidden_layer_sizes=(100, 100), learning_rate=adaptive, max_iter=1000, solver=sgd; total time=   0.3s\n",
      "[CV] END activation=tanh, alpha=0.01, hidden_layer_sizes=(100, 100), learning_rate=adaptive, max_iter=1000, solver=adam; total time=   0.1s\n",
      "[CV] END activation=tanh, alpha=0.01, hidden_layer_sizes=(200, 200), learning_rate=constant, max_iter=1000, solver=sgd; total time=   0.2s\n",
      "[CV] END activation=tanh, alpha=0.01, hidden_layer_sizes=(200, 200), learning_rate=constant, max_iter=1000, solver=sgd; total time=   0.3s\n",
      "[CV] END activation=tanh, alpha=0.01, hidden_layer_sizes=(200, 200), learning_rate=adaptive, max_iter=500, solver=sgd; total time=   0.8s\n",
      "[CV] END activation=tanh, alpha=0.01, hidden_layer_sizes=(200, 200), learning_rate=adaptive, max_iter=500, solver=adam; total time=   0.2s\n",
      "[CV] END activation=relu, alpha=0.0001, hidden_layer_sizes=(50,), learning_rate=constant, max_iter=500, solver=sgd; total time=   0.1s\n",
      "[CV] END activation=relu, alpha=0.0001, hidden_layer_sizes=(50,), learning_rate=constant, max_iter=500, solver=sgd; total time=   0.1s\n",
      "[CV] END activation=relu, alpha=0.0001, hidden_layer_sizes=(50,), learning_rate=constant, max_iter=500, solver=adam; total time=   0.1s\n",
      "[CV] END activation=relu, alpha=0.0001, hidden_layer_sizes=(50,), learning_rate=constant, max_iter=500, solver=adam; total time=   0.1s\n",
      "[CV] END activation=relu, alpha=0.0001, hidden_layer_sizes=(50,), learning_rate=constant, max_iter=1000, solver=sgd; total time=   0.1s\n",
      "[CV] END activation=relu, alpha=0.0001, hidden_layer_sizes=(50,), learning_rate=constant, max_iter=1000, solver=adam; total time=   0.1s\n",
      "[CV] END activation=relu, alpha=0.0001, hidden_layer_sizes=(50,), learning_rate=adaptive, max_iter=1000, solver=sgd; total time=   0.1s\n",
      "[CV] END activation=relu, alpha=0.0001, hidden_layer_sizes=(50,), learning_rate=adaptive, max_iter=1000, solver=sgd; total time=   0.1s\n",
      "[CV] END activation=relu, alpha=0.0001, hidden_layer_sizes=(100,), learning_rate=constant, max_iter=500, solver=adam; total time=   0.1s\n",
      "[CV] END activation=relu, alpha=0.0001, hidden_layer_sizes=(100,), learning_rate=constant, max_iter=500, solver=adam; total time=   0.1s\n",
      "[CV] END activation=relu, alpha=0.0001, hidden_layer_sizes=(100,), learning_rate=constant, max_iter=1000, solver=adam; total time=   0.1s\n",
      "[CV] END activation=relu, alpha=0.0001, hidden_layer_sizes=(100,), learning_rate=constant, max_iter=1000, solver=adam; total time=   0.1s\n",
      "[CV] END activation=relu, alpha=0.0001, hidden_layer_sizes=(100,), learning_rate=adaptive, max_iter=1000, solver=sgd; total time=   0.2s\n",
      "[CV] END activation=relu, alpha=0.0001, hidden_layer_sizes=(100,), learning_rate=adaptive, max_iter=1000, solver=adam; total time=   0.2s\n",
      "[CV] END activation=relu, alpha=0.0001, hidden_layer_sizes=(50, 50), learning_rate=constant, max_iter=1000, solver=sgd; total time=   0.2s\n",
      "[CV] END activation=relu, alpha=0.0001, hidden_layer_sizes=(50, 50), learning_rate=constant, max_iter=1000, solver=adam; total time=   0.1s\n",
      "[CV] END activation=relu, alpha=0.0001, hidden_layer_sizes=(50, 50), learning_rate=adaptive, max_iter=500, solver=adam; total time=   0.1s\n",
      "[CV] END activation=relu, alpha=0.0001, hidden_layer_sizes=(50, 50), learning_rate=adaptive, max_iter=500, solver=adam; total time=   0.2s\n",
      "[CV] END activation=relu, alpha=0.0001, hidden_layer_sizes=(100, 100), learning_rate=constant, max_iter=500, solver=sgd; total time=   0.4s\n",
      "[CV] END activation=relu, alpha=0.0001, hidden_layer_sizes=(100, 100), learning_rate=constant, max_iter=500, solver=sgd; total time=   0.4s\n",
      "[CV] END activation=relu, alpha=0.0001, hidden_layer_sizes=(100, 100), learning_rate=adaptive, max_iter=500, solver=sgd; total time=   0.6s\n",
      "[CV] END activation=relu, alpha=0.0001, hidden_layer_sizes=(100, 100), learning_rate=adaptive, max_iter=500, solver=adam; total time=   0.1s\n",
      "[CV] END activation=relu, alpha=0.0001, hidden_layer_sizes=(200, 200), learning_rate=constant, max_iter=500, solver=sgd; total time=   0.8s\n",
      "[CV] END activation=relu, alpha=0.0001, hidden_layer_sizes=(200, 200), learning_rate=constant, max_iter=500, solver=sgd; total time=   1.2s\n",
      "[CV] END activation=relu, alpha=0.0001, hidden_layer_sizes=(200, 200), learning_rate=adaptive, max_iter=500, solver=sgd; total time=   2.2s\n",
      "[CV] END activation=relu, alpha=0.0001, hidden_layer_sizes=(200, 200), learning_rate=adaptive, max_iter=500, solver=adam; total time=   0.7s\n",
      "[CV] END activation=relu, alpha=0.001, hidden_layer_sizes=(50,), learning_rate=adaptive, max_iter=1000, solver=sgd; total time=   0.2s\n",
      "[CV] END activation=relu, alpha=0.001, hidden_layer_sizes=(50,), learning_rate=adaptive, max_iter=1000, solver=adam; total time=   0.1s\n",
      "[CV] END activation=relu, alpha=0.001, hidden_layer_sizes=(100,), learning_rate=constant, max_iter=500, solver=sgd; total time=   0.1s\n",
      "[CV] END activation=relu, alpha=0.001, hidden_layer_sizes=(100,), learning_rate=constant, max_iter=500, solver=adam; total time=   0.1s\n",
      "[CV] END activation=relu, alpha=0.001, hidden_layer_sizes=(100,), learning_rate=constant, max_iter=1000, solver=sgd; total time=   0.2s\n",
      "[CV] END activation=relu, alpha=0.001, hidden_layer_sizes=(100,), learning_rate=adaptive, max_iter=500, solver=sgd; total time=   0.2s\n",
      "[CV] END activation=relu, alpha=0.001, hidden_layer_sizes=(100,), learning_rate=adaptive, max_iter=1000, solver=sgd; total time=   0.2s\n",
      "[CV] END activation=relu, alpha=0.001, hidden_layer_sizes=(50, 50), learning_rate=constant, max_iter=500, solver=sgd; total time=   0.2s\n",
      "[CV] END activation=relu, alpha=0.001, hidden_layer_sizes=(50, 50), learning_rate=constant, max_iter=1000, solver=adam; total time=   0.1s\n",
      "[CV] END activation=relu, alpha=0.001, hidden_layer_sizes=(50, 50), learning_rate=adaptive, max_iter=500, solver=adam; total time=   0.2s\n",
      "[CV] END activation=relu, alpha=0.001, hidden_layer_sizes=(50, 50), learning_rate=adaptive, max_iter=1000, solver=sgd; total time=   0.2s\n",
      "[CV] END activation=relu, alpha=0.001, hidden_layer_sizes=(100, 100), learning_rate=constant, max_iter=500, solver=adam; total time=   0.2s\n",
      "[CV] END activation=relu, alpha=0.001, hidden_layer_sizes=(100, 100), learning_rate=constant, max_iter=1000, solver=sgd; total time=   0.5s\n",
      "[CV] END activation=relu, alpha=0.001, hidden_layer_sizes=(100, 100), learning_rate=adaptive, max_iter=500, solver=sgd; total time=   0.7s\n",
      "[CV] END activation=relu, alpha=0.001, hidden_layer_sizes=(100, 100), learning_rate=adaptive, max_iter=1000, solver=adam; total time=   0.1s\n",
      "[CV] END activation=relu, alpha=0.001, hidden_layer_sizes=(200, 200), learning_rate=constant, max_iter=500, solver=sgd; total time=   1.0s\n",
      "[CV] END activation=relu, alpha=0.001, hidden_layer_sizes=(200, 200), learning_rate=constant, max_iter=1000, solver=adam; total time=   0.6s\n",
      "[CV] END activation=relu, alpha=0.001, hidden_layer_sizes=(200, 200), learning_rate=constant, max_iter=1000, solver=adam; total time=   0.5s\n",
      "[CV] END activation=relu, alpha=0.001, hidden_layer_sizes=(200, 200), learning_rate=adaptive, max_iter=500, solver=adam; total time=   0.5s\n",
      "[CV] END activation=relu, alpha=0.001, hidden_layer_sizes=(200, 200), learning_rate=adaptive, max_iter=500, solver=adam; total time=   0.5s\n",
      "[CV] END activation=relu, alpha=0.001, hidden_layer_sizes=(200, 200), learning_rate=adaptive, max_iter=1000, solver=sgd; total time=   1.5s\n",
      "[CV] END activation=relu, alpha=0.01, hidden_layer_sizes=(50,), learning_rate=adaptive, max_iter=500, solver=sgd; total time=   0.1s\n",
      "[CV] END activation=relu, alpha=0.01, hidden_layer_sizes=(50,), learning_rate=adaptive, max_iter=1000, solver=sgd; total time=   0.1s\n",
      "[CV] END activation=relu, alpha=0.01, hidden_layer_sizes=(50,), learning_rate=adaptive, max_iter=1000, solver=adam; total time=   0.1s\n",
      "[CV] END activation=relu, alpha=0.01, hidden_layer_sizes=(100,), learning_rate=constant, max_iter=500, solver=sgd; total time=   0.1s\n",
      "[CV] END activation=relu, alpha=0.01, hidden_layer_sizes=(100,), learning_rate=constant, max_iter=500, solver=adam; total time=   0.1s\n",
      "[CV] END activation=relu, alpha=0.01, hidden_layer_sizes=(100,), learning_rate=constant, max_iter=1000, solver=sgd; total time=   0.1s\n",
      "[CV] END activation=relu, alpha=0.01, hidden_layer_sizes=(200, 200), learning_rate=constant, max_iter=1000, solver=sgd; total time=   1.6s\n",
      "[CV] END activation=relu, alpha=0.01, hidden_layer_sizes=(200, 200), learning_rate=adaptive, max_iter=1000, solver=sgd; total time=   1.9s\n",
      " ARIMA(1,0,0)(0,1,0)[48] intercept   : AIC=2945.197, Time=1.37 sec\n",
      " ARIMA(1,0,0)(2,1,0)[48] intercept   : AIC=2442.268, Time=95.60 sec\n",
      " ARIMA(1,0,0)(2,1,1)[48] intercept   : AIC=inf, Time=379.57 sec\n",
      " ARIMA(1,0,0)(1,1,1)[48] intercept   : AIC=inf, Time=120.03 sec\n",
      " ARIMA(0,0,0)(2,1,0)[48] intercept   : AIC=2440.904, Time=78.31 sec\n",
      " ARIMA(0,0,0)(1,1,0)[48] intercept   : AIC=2561.498, Time=25.41 sec\n",
      " ARIMA(0,0,0)(2,1,1)[48] intercept   : AIC=inf, Time=257.91 sec\n",
      " ARIMA(0,0,0)(1,1,1)[48] intercept   : AIC=inf, Time=107.90 sec\n",
      " ARIMA(0,0,1)(2,1,0)[48] intercept   : AIC=2442.170, Time=99.85 sec\n",
      " ARIMA(1,0,1)(2,1,0)[48] intercept   : AIC=2444.737, Time=217.39 sec\n",
      " ARIMA(0,0,0)(2,1,0)[48]             : AIC=2438.911, Time=28.89 sec\n",
      " ARIMA(0,0,0)(1,1,0)[48]             : AIC=2559.503, Time=14.26 sec\n",
      " ARIMA(0,0,0)(2,1,1)[48]             : AIC=inf, Time=212.74 sec\n"
     ]
    }
   ],
   "source": [
    "sarima_model = pm.auto_arima(df['Consumption (kWh)'],\n",
    "                             seasonal=True, m=48,  \n",
    "                             d=0, D=1,            \n",
    "                             max_p=3, max_q=3,    \n",
    "                             trace=True,\n",
    "                             error_action='ignore',  \n",
    "                             suppress_warnings=True)\n",
    "\n",
    "sarima_model.summary()\n"
   ]
  },
  {
   "cell_type": "markdown",
   "id": "86cb5fd8",
   "metadata": {},
   "source": [
    "## VAR"
   ]
  },
  {
   "cell_type": "code",
   "execution_count": 4,
   "id": "572de5bf",
   "metadata": {
    "scrolled": true
   },
   "outputs": [
    {
     "data": {
      "text/plain": [
       "  Summary of Regression Results   \n",
       "==================================\n",
       "Model:                         VAR\n",
       "Method:                        OLS\n",
       "Date:           Thu, 21, Dec, 2023\n",
       "Time:                     11:02:50\n",
       "--------------------------------------------------------------------\n",
       "No. of Equations:         4.00000    BIC:                  -0.817069\n",
       "Nobs:                     1290.00    HQIC:                  -1.42701\n",
       "Log likelihood:          -5920.90    FPE:                   0.166420\n",
       "AIC:                     -1.79352    Det(Omega_mle):        0.138338\n",
       "--------------------------------------------------------------------\n",
       "Results for equation hour\n",
       "========================================================================================\n",
       "                           coefficient       std. error           t-stat            prob\n",
       "----------------------------------------------------------------------------------------\n",
       "const                         6.154764         1.481338            4.155           0.000\n",
       "L1.hour                       0.854341         0.028621           29.850           0.000\n",
       "L1.humidity                   0.035910         0.118264            0.304           0.761\n",
       "L1.feelslike                 -0.126787         0.312618           -0.406           0.685\n",
       "L1.Consumption (kWh)          0.533641         0.153620            3.474           0.001\n",
       "L2.hour                      -0.061433         0.037221           -1.650           0.099\n",
       "L2.humidity                  -0.100144         0.252870           -0.396           0.692\n",
       "L2.feelslike                  0.443743         0.665827            0.666           0.505\n",
       "L2.Consumption (kWh)         -0.064621         0.154447           -0.418           0.676\n",
       "L3.hour                       0.027845         0.037188            0.749           0.454\n",
       "L3.humidity                   0.188565         0.312527            0.603           0.546\n",
       "L3.feelslike                 -0.579420         0.838553           -0.691           0.490\n",
       "L3.Consumption (kWh)          0.475871         0.154325            3.084           0.002\n",
       "L4.hour                      -0.070766         0.037065           -1.909           0.056\n",
       "L4.humidity                  -0.289011         0.345425           -0.837           0.403\n",
       "L4.feelslike                  0.854228         0.951403            0.898           0.369\n",
       "L4.Consumption (kWh)          0.848095         0.154712            5.482           0.000\n",
       "L5.hour                       0.045654         0.036754            1.242           0.214\n",
       "L5.humidity                   0.208003         0.363319            0.573           0.567\n",
       "L5.feelslike                 -0.724225         1.034210           -0.700           0.484\n",
       "L5.Consumption (kWh)          0.010396         0.156443            0.066           0.947\n",
       "L6.hour                      -0.053901         0.036382           -1.482           0.138\n",
       "L6.humidity                  -0.174017         0.371924           -0.468           0.640\n",
       "L6.feelslike                  0.469772         1.093640            0.430           0.668\n",
       "L6.Consumption (kWh)          0.114291         0.156259            0.731           0.465\n",
       "L7.hour                       0.064818         0.036354            1.783           0.075\n",
       "L7.humidity                   0.247845         0.376084            0.659           0.510\n",
       "L7.feelslike                 -0.946808         1.123752           -0.843           0.399\n",
       "L7.Consumption (kWh)         -0.191851         0.155927           -1.230           0.219\n",
       "L8.hour                      -0.053033         0.036339           -1.459           0.144\n",
       "L8.humidity                  -0.296938         0.376255           -0.789           0.430\n",
       "L8.feelslike                  1.297532         1.131407            1.147           0.251\n",
       "L8.Consumption (kWh)         -0.199596         0.156188           -1.278           0.201\n",
       "L9.hour                       0.042113         0.036351            1.159           0.247\n",
       "L9.humidity                   0.378589         0.373834            1.013           0.311\n",
       "L9.feelslike                 -0.623458         1.126179           -0.554           0.580\n",
       "L9.Consumption (kWh)          0.020458         0.156328            0.131           0.896\n",
       "L10.hour                     -0.040146         0.036328           -1.105           0.269\n",
       "L10.humidity                 -0.423262         0.367545           -1.152           0.249\n",
       "L10.feelslike                 0.168416         1.099638            0.153           0.878\n",
       "L10.Consumption (kWh)        -0.201746         0.156134           -1.292           0.196\n",
       "L11.hour                      0.061082         0.036396            1.678           0.093\n",
       "L11.humidity                  0.511365         0.356682            1.434           0.152\n",
       "L11.feelslike                -1.091123         1.045243           -1.044           0.297\n",
       "L11.Consumption (kWh)        -0.334330         0.157437           -2.124           0.034\n",
       "L12.hour                     -0.058587         0.036232           -1.617           0.106\n",
       "L12.humidity                 -0.580643         0.337025           -1.723           0.085\n",
       "L12.feelslike                 2.030814         0.968421            2.097           0.036\n",
       "L12.Consumption (kWh)        -0.230349         0.157617           -1.461           0.144\n",
       "L13.hour                      0.056210         0.036277            1.549           0.121\n",
       "L13.humidity                  0.680143         0.304288            2.235           0.025\n",
       "L13.feelslike                -2.078488         0.860312           -2.416           0.016\n",
       "L13.Consumption (kWh)         0.058198         0.159072            0.366           0.714\n",
       "L14.hour                     -0.031698         0.036262           -0.874           0.382\n",
       "L14.humidity                 -0.859660         0.247583           -3.472           0.001\n",
       "L14.feelslike                 2.003529         0.682475            2.936           0.003\n",
       "L14.Consumption (kWh)        -0.377254         0.158329           -2.383           0.017\n",
       "L15.hour                     -0.035656         0.027452           -1.299           0.194\n",
       "L15.humidity                  0.432999         0.117089            3.698           0.000\n",
       "L15.feelslike                -1.071632         0.316851           -3.382           0.001\n",
       "L15.Consumption (kWh)         0.112847         0.158742            0.711           0.477\n",
       "========================================================================================\n",
       "\n",
       "Results for equation humidity\n",
       "========================================================================================\n",
       "                           coefficient       std. error           t-stat            prob\n",
       "----------------------------------------------------------------------------------------\n",
       "const                         1.187598         0.378017            3.142           0.002\n",
       "L1.hour                       0.019760         0.007304            2.705           0.007\n",
       "L1.humidity                   1.876506         0.030179           62.178           0.000\n",
       "L1.feelslike                  0.122465         0.079776            1.535           0.125\n",
       "L1.Consumption (kWh)          0.051913         0.039202            1.324           0.185\n",
       "L2.hour                      -0.012588         0.009498           -1.325           0.185\n",
       "L2.humidity                  -1.533731         0.064529          -23.768           0.000\n",
       "L2.feelslike                 -0.637798         0.169910           -3.754           0.000\n",
       "L2.Consumption (kWh)         -0.012583         0.039413           -0.319           0.750\n",
       "L3.hour                      -0.002124         0.009490           -0.224           0.823\n",
       "L3.humidity                   1.219125         0.079753           15.286           0.000\n",
       "L3.feelslike                  1.052775         0.213987            4.920           0.000\n",
       "L3.Consumption (kWh)         -0.016529         0.039382           -0.420           0.675\n",
       "L4.hour                       0.005790         0.009458            0.612           0.540\n",
       "L4.humidity                  -0.941675         0.088148          -10.683           0.000\n",
       "L4.feelslike                 -0.994054         0.242785           -4.094           0.000\n",
       "L4.Consumption (kWh)         -0.012268         0.039481           -0.311           0.756\n",
       "L5.hour                       0.007035         0.009379            0.750           0.453\n",
       "L5.humidity                   0.696118         0.092714            7.508           0.000\n",
       "L5.feelslike                  0.946161         0.263916            3.585           0.000\n",
       "L5.Consumption (kWh)         -0.052341         0.039922           -1.311           0.190\n",
       "L6.hour                      -0.003078         0.009284           -0.332           0.740\n",
       "L6.humidity                  -0.602802         0.094910           -6.351           0.000\n",
       "L6.feelslike                 -0.809840         0.279082           -2.902           0.004\n",
       "L6.Consumption (kWh)         -0.028560         0.039875           -0.716           0.474\n",
       "L7.hour                      -0.006306         0.009277           -0.680           0.497\n",
       "L7.humidity                   0.513649         0.095972            5.352           0.000\n",
       "L7.feelslike                  0.624185         0.286766            2.177           0.030\n",
       "L7.Consumption (kWh)          0.009136         0.039791            0.230           0.818\n",
       "L8.hour                       0.005692         0.009273            0.614           0.539\n",
       "L8.humidity                  -0.435201         0.096015           -4.533           0.000\n",
       "L8.feelslike                 -0.520322         0.288720           -1.802           0.072\n",
       "L8.Consumption (kWh)         -0.040464         0.039857           -1.015           0.310\n",
       "L9.hour                       0.005998         0.009276            0.647           0.518\n",
       "L9.humidity                   0.359689         0.095397            3.770           0.000\n",
       "L9.feelslike                  0.411667         0.287386            1.432           0.152\n",
       "L9.Consumption (kWh)         -0.058399         0.039893           -1.464           0.143\n",
       "L10.hour                     -0.000185         0.009270           -0.020           0.984\n",
       "L10.humidity                 -0.375212         0.093793           -4.000           0.000\n",
       "L10.feelslike                -0.128108         0.280613           -0.457           0.648\n",
       "L10.Consumption (kWh)        -0.007371         0.039843           -0.185           0.853\n",
       "L11.hour                     -0.007576         0.009288           -0.816           0.415\n",
       "L11.humidity                  0.373443         0.091020            4.103           0.000\n",
       "L11.feelslike                -0.126533         0.266732           -0.474           0.635\n",
       "L11.Consumption (kWh)        -0.001579         0.040176           -0.039           0.969\n",
       "L12.hour                      0.005945         0.009246            0.643           0.520\n",
       "L12.humidity                 -0.368811         0.086004           -4.288           0.000\n",
       "L12.feelslike                 0.075064         0.247128            0.304           0.761\n",
       "L12.Consumption (kWh)         0.105920         0.040222            2.633           0.008\n",
       "L13.hour                      0.007447         0.009257            0.804           0.421\n",
       "L13.humidity                  0.335730         0.077650            4.324           0.000\n",
       "L13.feelslike                -0.041171         0.219540           -0.188           0.851\n",
       "L13.Consumption (kWh)        -0.021149         0.040593           -0.521           0.602\n",
       "L14.hour                     -0.004931         0.009254           -0.533           0.594\n",
       "L14.humidity                 -0.217981         0.063180           -3.450           0.001\n",
       "L14.feelslike                 0.017751         0.174158            0.102           0.919\n",
       "L14.Consumption (kWh)        -0.007956         0.040404           -0.197           0.844\n",
       "L15.hour                      0.018766         0.007005            2.679           0.007\n",
       "L15.humidity                  0.083693         0.029879            2.801           0.005\n",
       "L15.feelslike                 0.006934         0.080856            0.086           0.932\n",
       "L15.Consumption (kWh)        -0.030430         0.040509           -0.751           0.453\n",
       "========================================================================================\n",
       "\n",
       "Results for equation feelslike\n",
       "========================================================================================\n",
       "                           coefficient       std. error           t-stat            prob\n",
       "----------------------------------------------------------------------------------------\n",
       "const                        -0.271911         0.142974           -1.902           0.057\n",
       "L1.hour                      -0.004466         0.002762           -1.617           0.106\n",
       "L1.humidity                   0.018074         0.011414            1.583           0.113\n",
       "L1.feelslike                  1.864270         0.030173           61.786           0.000\n",
       "L1.Consumption (kWh)         -0.033416         0.014827           -2.254           0.024\n",
       "L2.hour                       0.003103         0.003592            0.864           0.388\n",
       "L2.humidity                  -0.043495         0.024406           -1.782           0.075\n",
       "L2.feelslike                 -1.543572         0.064263          -24.019           0.000\n",
       "L2.Consumption (kWh)         -0.002782         0.014907           -0.187           0.852\n",
       "L3.hour                       0.000183         0.003589            0.051           0.959\n",
       "L3.humidity                   0.066754         0.030164            2.213           0.027\n",
       "L3.feelslike                  1.278491         0.080934           15.797           0.000\n",
       "L3.Consumption (kWh)          0.010234         0.014895            0.687           0.492\n",
       "L4.hour                      -0.002675         0.003577           -0.748           0.455\n",
       "L4.humidity                  -0.076271         0.033339           -2.288           0.022\n",
       "L4.feelslike                 -1.155074         0.091826          -12.579           0.000\n",
       "L4.Consumption (kWh)          0.010158         0.014932            0.680           0.496\n",
       "L5.hour                      -0.001179         0.003547           -0.332           0.740\n",
       "L5.humidity                   0.077086         0.035066            2.198           0.028\n",
       "L5.feelslike                  1.028632         0.099818           10.305           0.000\n",
       "L5.Consumption (kWh)          0.005338         0.015099            0.354           0.724\n",
       "L6.hour                       0.000714         0.003511            0.203           0.839\n",
       "L6.humidity                  -0.055197         0.035897           -1.538           0.124\n",
       "L6.feelslike                 -0.803650         0.105554           -7.614           0.000\n",
       "L6.Consumption (kWh)         -0.011448         0.015082           -0.759           0.448\n",
       "L7.hour                      -0.000945         0.003509           -0.269           0.788\n",
       "L7.humidity                   0.033572         0.036298            0.925           0.355\n",
       "L7.feelslike                  0.606892         0.108461            5.596           0.000\n",
       "L7.Consumption (kWh)         -0.024607         0.015050           -1.635           0.102\n",
       "L8.hour                       0.000472         0.003507            0.134           0.893\n",
       "L8.humidity                  -0.039865         0.036315           -1.098           0.272\n",
       "L8.feelslike                 -0.520831         0.109200           -4.770           0.000\n",
       "L8.Consumption (kWh)          0.029503         0.015075            1.957           0.050\n",
       "L9.hour                       0.001361         0.003508            0.388           0.698\n",
       "L9.humidity                   0.041405         0.036081            1.148           0.251\n",
       "L9.feelslike                  0.438430         0.108695            4.034           0.000\n",
       "L9.Consumption (kWh)          0.019386         0.015088            1.285           0.199\n",
       "L10.hour                     -0.002828         0.003506           -0.807           0.420\n",
       "L10.humidity                 -0.000965         0.035474           -0.027           0.978\n",
       "L10.feelslike                -0.402009         0.106133           -3.788           0.000\n",
       "L10.Consumption (kWh)         0.030161         0.015069            2.001           0.045\n",
       "L11.hour                     -0.002909         0.003513           -0.828           0.408\n",
       "L11.humidity                 -0.031509         0.034426           -0.915           0.360\n",
       "L11.feelslike                 0.359987         0.100883            3.568           0.000\n",
       "L11.Consumption (kWh)         0.020358         0.015195            1.340           0.180\n",
       "L12.hour                      0.001578         0.003497            0.451           0.652\n",
       "L12.humidity                  0.039123         0.032529            1.203           0.229\n",
       "L12.feelslike                -0.294946         0.093469           -3.156           0.002\n",
       "L12.Consumption (kWh)        -0.022351         0.015213           -1.469           0.142\n",
       "L13.hour                     -0.001776         0.003501           -0.507           0.612\n",
       "L13.humidity                 -0.039780         0.029369           -1.355           0.176\n",
       "L13.feelslike                 0.220743         0.083034            2.658           0.008\n",
       "L13.Consumption (kWh)        -0.011323         0.015353           -0.738           0.461\n",
       "L14.hour                      0.002355         0.003500            0.673           0.501\n",
       "L14.humidity                  0.027320         0.023896            1.143           0.253\n",
       "L14.feelslike                -0.153348         0.065870           -2.328           0.020\n",
       "L14.Consumption (kWh)        -0.016854         0.015281           -1.103           0.270\n",
       "L15.hour                     -0.009358         0.002650           -3.532           0.000\n",
       "L15.humidity                 -0.010908         0.011301           -0.965           0.334\n",
       "L15.feelslike                 0.069614         0.030581            2.276           0.023\n",
       "L15.Consumption (kWh)        -0.006592         0.015321           -0.430           0.667\n",
       "========================================================================================\n",
       "\n",
       "Results for equation Consumption (kWh)\n",
       "========================================================================================\n",
       "                           coefficient       std. error           t-stat            prob\n",
       "----------------------------------------------------------------------------------------\n",
       "const                         0.650837         0.279069            2.332           0.020\n",
       "L1.hour                       0.031856         0.005392            5.908           0.000\n",
       "L1.humidity                  -0.005774         0.022280           -0.259           0.796\n",
       "L1.feelslike                 -0.056169         0.058894           -0.954           0.340\n",
       "L1.Consumption (kWh)          0.057282         0.028940            1.979           0.048\n",
       "L2.hour                      -0.001246         0.007012           -0.178           0.859\n",
       "L2.humidity                   0.031176         0.047638            0.654           0.513\n",
       "L2.feelslike                  0.135389         0.125435            1.079           0.280\n",
       "L2.Consumption (kWh)          0.010088         0.029096            0.347           0.729\n",
       "L3.hour                       0.000720         0.007006            0.103           0.918\n",
       "L3.humidity                  -0.071258         0.058877           -1.210           0.226\n",
       "L3.feelslike                 -0.351715         0.157975           -2.226           0.026\n",
       "L3.Consumption (kWh)          0.061197         0.029073            2.105           0.035\n",
       "L4.hour                      -0.002651         0.006983           -0.380           0.704\n",
       "L4.humidity                   0.055760         0.065075            0.857           0.392\n",
       "L4.feelslike                  0.511929         0.179235            2.856           0.004\n",
       "L4.Consumption (kWh)          0.069585         0.029146            2.387           0.017\n",
       "L5.hour                       0.003305         0.006924            0.477           0.633\n",
       "L5.humidity                   0.006395         0.068446            0.093           0.926\n",
       "L5.feelslike                 -0.369171         0.194835           -1.895           0.058\n",
       "L5.Consumption (kWh)         -0.035270         0.029472           -1.197           0.231\n",
       "L6.hour                       0.001502         0.006854            0.219           0.827\n",
       "L6.humidity                  -0.012241         0.070067           -0.175           0.861\n",
       "L6.feelslike                  0.164799         0.206031            0.800           0.424\n",
       "L6.Consumption (kWh)         -0.020118         0.029438           -0.683           0.494\n",
       "L7.hour                       0.003739         0.006849            0.546           0.585\n",
       "L7.humidity                   0.012817         0.070850            0.181           0.856\n",
       "L7.feelslike                 -0.068687         0.211704           -0.324           0.746\n",
       "L7.Consumption (kWh)         -0.060036         0.029375           -2.044           0.041\n",
       "L8.hour                      -0.000265         0.006846           -0.039           0.969\n",
       "L8.humidity                  -0.058579         0.070883           -0.826           0.409\n",
       "L8.feelslike                 -0.025469         0.213146           -0.119           0.905\n",
       "L8.Consumption (kWh)         -0.000314         0.029424           -0.011           0.991\n",
       "L9.hour                       0.001143         0.006848            0.167           0.867\n",
       "L9.humidity                   0.047310         0.070427            0.672           0.502\n",
       "L9.feelslike                  0.079057         0.212161            0.373           0.709\n",
       "L9.Consumption (kWh)         -0.021126         0.029451           -0.717           0.473\n",
       "L10.hour                     -0.017811         0.006844           -2.602           0.009\n",
       "L10.humidity                 -0.005866         0.069242           -0.085           0.932\n",
       "L10.feelslike                 0.022796         0.207161            0.110           0.912\n",
       "L10.Consumption (kWh)        -0.037782         0.029414           -1.284           0.199\n",
       "L11.hour                      0.002164         0.006857            0.316           0.752\n",
       "L11.humidity                  0.025198         0.067195            0.375           0.708\n",
       "L11.feelslike                 0.003258         0.196913            0.017           0.987\n",
       "L11.Consumption (kWh)        -0.037682         0.029660           -1.270           0.204\n",
       "L12.hour                      0.007589         0.006826            1.112           0.266\n",
       "L12.humidity                 -0.017803         0.063492           -0.280           0.779\n",
       "L12.feelslike                 0.012021         0.182441            0.066           0.947\n",
       "L12.Consumption (kWh)        -0.027043         0.029693           -0.911           0.362\n",
       "L13.hour                     -0.005298         0.006834           -0.775           0.438\n",
       "L13.humidity                 -0.022461         0.057325           -0.392           0.695\n",
       "L13.feelslike                -0.038922         0.162074           -0.240           0.810\n",
       "L13.Consumption (kWh)         0.057829         0.029967            1.930           0.054\n",
       "L14.hour                     -0.007141         0.006831           -1.045           0.296\n",
       "L14.humidity                 -0.018302         0.046642           -0.392           0.695\n",
       "L14.feelslike                 0.109912         0.128571            0.855           0.393\n",
       "L14.Consumption (kWh)        -0.039632         0.029828           -1.329           0.184\n",
       "L15.hour                      0.010842         0.005172            2.096           0.036\n",
       "L15.humidity                  0.028473         0.022058            1.291           0.197\n",
       "L15.feelslike                -0.124746         0.059691           -2.090           0.037\n",
       "L15.Consumption (kWh)         0.041198         0.029905            1.378           0.168\n",
       "========================================================================================\n",
       "\n",
       "Correlation matrix of residuals\n",
       "                         hour  humidity  feelslike  Consumption (kWh)\n",
       "hour                 1.000000  0.000744   0.002864           0.182316\n",
       "humidity             0.000744  1.000000  -0.336647           0.005189\n",
       "feelslike            0.002864 -0.336647   1.000000          -0.048696\n",
       "Consumption (kWh)    0.182316  0.005189  -0.048696           1.000000\n",
       "\n"
      ]
     },
     "execution_count": 4,
     "metadata": {},
     "output_type": "execute_result"
    }
   ],
   "source": [
    "var_df = df[['hour', 'humidity', 'feelslike', 'Consumption (kWh)']].dropna()\n",
    "\n",
    "model = VAR(var_df)\n",
    "\n",
    "var_results = model.fit(maxlags=15, ic='aic')\n",
    "\n",
    "var_results_summary = var_results.summary()\n",
    "var_results_summary"
   ]
  },
  {
   "cell_type": "code",
   "execution_count": null,
   "id": "1fc98aa5",
   "metadata": {},
   "outputs": [],
   "source": []
  },
  {
   "cell_type": "code",
   "execution_count": null,
   "id": "69464e90",
   "metadata": {
    "scrolled": false
   },
   "outputs": [],
   "source": []
  },
  {
   "cell_type": "code",
   "execution_count": 1,
   "id": "fcd7818c",
   "metadata": {
    "scrolled": false
   },
   "outputs": [
    {
     "ename": "FileNotFoundError",
     "evalue": "[Errno 2] No such file or directory: 'energy/energy/bestFeatures.csv'",
     "output_type": "error",
     "traceback": [
      "\u001b[1;31m---------------------------------------------------------------------------\u001b[0m",
      "\u001b[1;31mFileNotFoundError\u001b[0m                         Traceback (most recent call last)",
      "Cell \u001b[1;32mIn[1], line 4\u001b[0m\n\u001b[0;32m      2\u001b[0m \u001b[38;5;28;01mfrom\u001b[39;00m \u001b[38;5;21;01mstatsmodels\u001b[39;00m\u001b[38;5;21;01m.\u001b[39;00m\u001b[38;5;21;01mtsa\u001b[39;00m\u001b[38;5;21;01m.\u001b[39;00m\u001b[38;5;21;01marima\u001b[39;00m\u001b[38;5;21;01m.\u001b[39;00m\u001b[38;5;21;01mmodel\u001b[39;00m \u001b[38;5;28;01mimport\u001b[39;00m ARIMA\n\u001b[0;32m      3\u001b[0m \u001b[38;5;28;01mimport\u001b[39;00m \u001b[38;5;21;01mmatplotlib\u001b[39;00m\u001b[38;5;21;01m.\u001b[39;00m\u001b[38;5;21;01mpyplot\u001b[39;00m \u001b[38;5;28;01mas\u001b[39;00m \u001b[38;5;21;01mplt\u001b[39;00m\n\u001b[1;32m----> 4\u001b[0m df\u001b[38;5;241m=\u001b[39m pd\u001b[38;5;241m.\u001b[39mread_csv(\u001b[38;5;124m'\u001b[39m\u001b[38;5;124menergy/energy/bestFeatures.csv\u001b[39m\u001b[38;5;124m'\u001b[39m)\n\u001b[0;32m      5\u001b[0m \u001b[38;5;66;03m# Assuming your dataset is loaded into a DataFrame called 'df'\u001b[39;00m\n\u001b[0;32m      6\u001b[0m \u001b[38;5;66;03m# Convert 'datetime' column to datetime format\u001b[39;00m\n\u001b[0;32m      7\u001b[0m df[\u001b[38;5;124m'\u001b[39m\u001b[38;5;124mdatetime\u001b[39m\u001b[38;5;124m'\u001b[39m] \u001b[38;5;241m=\u001b[39m pd\u001b[38;5;241m.\u001b[39mto_datetime(df[\u001b[38;5;124m'\u001b[39m\u001b[38;5;124mdatetime\u001b[39m\u001b[38;5;124m'\u001b[39m])\n",
      "File \u001b[1;32m~\\anaconda3\\Lib\\site-packages\\pandas\\io\\parsers\\readers.py:912\u001b[0m, in \u001b[0;36mread_csv\u001b[1;34m(filepath_or_buffer, sep, delimiter, header, names, index_col, usecols, dtype, engine, converters, true_values, false_values, skipinitialspace, skiprows, skipfooter, nrows, na_values, keep_default_na, na_filter, verbose, skip_blank_lines, parse_dates, infer_datetime_format, keep_date_col, date_parser, date_format, dayfirst, cache_dates, iterator, chunksize, compression, thousands, decimal, lineterminator, quotechar, quoting, doublequote, escapechar, comment, encoding, encoding_errors, dialect, on_bad_lines, delim_whitespace, low_memory, memory_map, float_precision, storage_options, dtype_backend)\u001b[0m\n\u001b[0;32m    899\u001b[0m kwds_defaults \u001b[38;5;241m=\u001b[39m _refine_defaults_read(\n\u001b[0;32m    900\u001b[0m     dialect,\n\u001b[0;32m    901\u001b[0m     delimiter,\n\u001b[1;32m   (...)\u001b[0m\n\u001b[0;32m    908\u001b[0m     dtype_backend\u001b[38;5;241m=\u001b[39mdtype_backend,\n\u001b[0;32m    909\u001b[0m )\n\u001b[0;32m    910\u001b[0m kwds\u001b[38;5;241m.\u001b[39mupdate(kwds_defaults)\n\u001b[1;32m--> 912\u001b[0m \u001b[38;5;28;01mreturn\u001b[39;00m _read(filepath_or_buffer, kwds)\n",
      "File \u001b[1;32m~\\anaconda3\\Lib\\site-packages\\pandas\\io\\parsers\\readers.py:577\u001b[0m, in \u001b[0;36m_read\u001b[1;34m(filepath_or_buffer, kwds)\u001b[0m\n\u001b[0;32m    574\u001b[0m _validate_names(kwds\u001b[38;5;241m.\u001b[39mget(\u001b[38;5;124m\"\u001b[39m\u001b[38;5;124mnames\u001b[39m\u001b[38;5;124m\"\u001b[39m, \u001b[38;5;28;01mNone\u001b[39;00m))\n\u001b[0;32m    576\u001b[0m \u001b[38;5;66;03m# Create the parser.\u001b[39;00m\n\u001b[1;32m--> 577\u001b[0m parser \u001b[38;5;241m=\u001b[39m TextFileReader(filepath_or_buffer, \u001b[38;5;241m*\u001b[39m\u001b[38;5;241m*\u001b[39mkwds)\n\u001b[0;32m    579\u001b[0m \u001b[38;5;28;01mif\u001b[39;00m chunksize \u001b[38;5;129;01mor\u001b[39;00m iterator:\n\u001b[0;32m    580\u001b[0m     \u001b[38;5;28;01mreturn\u001b[39;00m parser\n",
      "File \u001b[1;32m~\\anaconda3\\Lib\\site-packages\\pandas\\io\\parsers\\readers.py:1407\u001b[0m, in \u001b[0;36mTextFileReader.__init__\u001b[1;34m(self, f, engine, **kwds)\u001b[0m\n\u001b[0;32m   1404\u001b[0m     \u001b[38;5;28mself\u001b[39m\u001b[38;5;241m.\u001b[39moptions[\u001b[38;5;124m\"\u001b[39m\u001b[38;5;124mhas_index_names\u001b[39m\u001b[38;5;124m\"\u001b[39m] \u001b[38;5;241m=\u001b[39m kwds[\u001b[38;5;124m\"\u001b[39m\u001b[38;5;124mhas_index_names\u001b[39m\u001b[38;5;124m\"\u001b[39m]\n\u001b[0;32m   1406\u001b[0m \u001b[38;5;28mself\u001b[39m\u001b[38;5;241m.\u001b[39mhandles: IOHandles \u001b[38;5;241m|\u001b[39m \u001b[38;5;28;01mNone\u001b[39;00m \u001b[38;5;241m=\u001b[39m \u001b[38;5;28;01mNone\u001b[39;00m\n\u001b[1;32m-> 1407\u001b[0m \u001b[38;5;28mself\u001b[39m\u001b[38;5;241m.\u001b[39m_engine \u001b[38;5;241m=\u001b[39m \u001b[38;5;28mself\u001b[39m\u001b[38;5;241m.\u001b[39m_make_engine(f, \u001b[38;5;28mself\u001b[39m\u001b[38;5;241m.\u001b[39mengine)\n",
      "File \u001b[1;32m~\\anaconda3\\Lib\\site-packages\\pandas\\io\\parsers\\readers.py:1661\u001b[0m, in \u001b[0;36mTextFileReader._make_engine\u001b[1;34m(self, f, engine)\u001b[0m\n\u001b[0;32m   1659\u001b[0m     \u001b[38;5;28;01mif\u001b[39;00m \u001b[38;5;124m\"\u001b[39m\u001b[38;5;124mb\u001b[39m\u001b[38;5;124m\"\u001b[39m \u001b[38;5;129;01mnot\u001b[39;00m \u001b[38;5;129;01min\u001b[39;00m mode:\n\u001b[0;32m   1660\u001b[0m         mode \u001b[38;5;241m+\u001b[39m\u001b[38;5;241m=\u001b[39m \u001b[38;5;124m\"\u001b[39m\u001b[38;5;124mb\u001b[39m\u001b[38;5;124m\"\u001b[39m\n\u001b[1;32m-> 1661\u001b[0m \u001b[38;5;28mself\u001b[39m\u001b[38;5;241m.\u001b[39mhandles \u001b[38;5;241m=\u001b[39m get_handle(\n\u001b[0;32m   1662\u001b[0m     f,\n\u001b[0;32m   1663\u001b[0m     mode,\n\u001b[0;32m   1664\u001b[0m     encoding\u001b[38;5;241m=\u001b[39m\u001b[38;5;28mself\u001b[39m\u001b[38;5;241m.\u001b[39moptions\u001b[38;5;241m.\u001b[39mget(\u001b[38;5;124m\"\u001b[39m\u001b[38;5;124mencoding\u001b[39m\u001b[38;5;124m\"\u001b[39m, \u001b[38;5;28;01mNone\u001b[39;00m),\n\u001b[0;32m   1665\u001b[0m     compression\u001b[38;5;241m=\u001b[39m\u001b[38;5;28mself\u001b[39m\u001b[38;5;241m.\u001b[39moptions\u001b[38;5;241m.\u001b[39mget(\u001b[38;5;124m\"\u001b[39m\u001b[38;5;124mcompression\u001b[39m\u001b[38;5;124m\"\u001b[39m, \u001b[38;5;28;01mNone\u001b[39;00m),\n\u001b[0;32m   1666\u001b[0m     memory_map\u001b[38;5;241m=\u001b[39m\u001b[38;5;28mself\u001b[39m\u001b[38;5;241m.\u001b[39moptions\u001b[38;5;241m.\u001b[39mget(\u001b[38;5;124m\"\u001b[39m\u001b[38;5;124mmemory_map\u001b[39m\u001b[38;5;124m\"\u001b[39m, \u001b[38;5;28;01mFalse\u001b[39;00m),\n\u001b[0;32m   1667\u001b[0m     is_text\u001b[38;5;241m=\u001b[39mis_text,\n\u001b[0;32m   1668\u001b[0m     errors\u001b[38;5;241m=\u001b[39m\u001b[38;5;28mself\u001b[39m\u001b[38;5;241m.\u001b[39moptions\u001b[38;5;241m.\u001b[39mget(\u001b[38;5;124m\"\u001b[39m\u001b[38;5;124mencoding_errors\u001b[39m\u001b[38;5;124m\"\u001b[39m, \u001b[38;5;124m\"\u001b[39m\u001b[38;5;124mstrict\u001b[39m\u001b[38;5;124m\"\u001b[39m),\n\u001b[0;32m   1669\u001b[0m     storage_options\u001b[38;5;241m=\u001b[39m\u001b[38;5;28mself\u001b[39m\u001b[38;5;241m.\u001b[39moptions\u001b[38;5;241m.\u001b[39mget(\u001b[38;5;124m\"\u001b[39m\u001b[38;5;124mstorage_options\u001b[39m\u001b[38;5;124m\"\u001b[39m, \u001b[38;5;28;01mNone\u001b[39;00m),\n\u001b[0;32m   1670\u001b[0m )\n\u001b[0;32m   1671\u001b[0m \u001b[38;5;28;01massert\u001b[39;00m \u001b[38;5;28mself\u001b[39m\u001b[38;5;241m.\u001b[39mhandles \u001b[38;5;129;01mis\u001b[39;00m \u001b[38;5;129;01mnot\u001b[39;00m \u001b[38;5;28;01mNone\u001b[39;00m\n\u001b[0;32m   1672\u001b[0m f \u001b[38;5;241m=\u001b[39m \u001b[38;5;28mself\u001b[39m\u001b[38;5;241m.\u001b[39mhandles\u001b[38;5;241m.\u001b[39mhandle\n",
      "File \u001b[1;32m~\\anaconda3\\Lib\\site-packages\\pandas\\io\\common.py:859\u001b[0m, in \u001b[0;36mget_handle\u001b[1;34m(path_or_buf, mode, encoding, compression, memory_map, is_text, errors, storage_options)\u001b[0m\n\u001b[0;32m    854\u001b[0m \u001b[38;5;28;01melif\u001b[39;00m \u001b[38;5;28misinstance\u001b[39m(handle, \u001b[38;5;28mstr\u001b[39m):\n\u001b[0;32m    855\u001b[0m     \u001b[38;5;66;03m# Check whether the filename is to be opened in binary mode.\u001b[39;00m\n\u001b[0;32m    856\u001b[0m     \u001b[38;5;66;03m# Binary mode does not support 'encoding' and 'newline'.\u001b[39;00m\n\u001b[0;32m    857\u001b[0m     \u001b[38;5;28;01mif\u001b[39;00m ioargs\u001b[38;5;241m.\u001b[39mencoding \u001b[38;5;129;01mand\u001b[39;00m \u001b[38;5;124m\"\u001b[39m\u001b[38;5;124mb\u001b[39m\u001b[38;5;124m\"\u001b[39m \u001b[38;5;129;01mnot\u001b[39;00m \u001b[38;5;129;01min\u001b[39;00m ioargs\u001b[38;5;241m.\u001b[39mmode:\n\u001b[0;32m    858\u001b[0m         \u001b[38;5;66;03m# Encoding\u001b[39;00m\n\u001b[1;32m--> 859\u001b[0m         handle \u001b[38;5;241m=\u001b[39m \u001b[38;5;28mopen\u001b[39m(\n\u001b[0;32m    860\u001b[0m             handle,\n\u001b[0;32m    861\u001b[0m             ioargs\u001b[38;5;241m.\u001b[39mmode,\n\u001b[0;32m    862\u001b[0m             encoding\u001b[38;5;241m=\u001b[39mioargs\u001b[38;5;241m.\u001b[39mencoding,\n\u001b[0;32m    863\u001b[0m             errors\u001b[38;5;241m=\u001b[39merrors,\n\u001b[0;32m    864\u001b[0m             newline\u001b[38;5;241m=\u001b[39m\u001b[38;5;124m\"\u001b[39m\u001b[38;5;124m\"\u001b[39m,\n\u001b[0;32m    865\u001b[0m         )\n\u001b[0;32m    866\u001b[0m     \u001b[38;5;28;01melse\u001b[39;00m:\n\u001b[0;32m    867\u001b[0m         \u001b[38;5;66;03m# Binary mode\u001b[39;00m\n\u001b[0;32m    868\u001b[0m         handle \u001b[38;5;241m=\u001b[39m \u001b[38;5;28mopen\u001b[39m(handle, ioargs\u001b[38;5;241m.\u001b[39mmode)\n",
      "\u001b[1;31mFileNotFoundError\u001b[0m: [Errno 2] No such file or directory: 'energy/energy/bestFeatures.csv'"
     ]
    }
   ],
   "source": [
    "import pandas as pd\n",
    "from statsmodels.tsa.arima.model import ARIMA\n",
    "import matplotlib.pyplot as plt\n",
    "df= pd.read_csv('energy/energy/bestFeatures.csv')\n",
    "# Assuming your dataset is loaded into a DataFrame called 'df'\n",
    "# Convert 'datetime' column to datetime format\n",
    "df['datetime'] = pd.to_datetime(df['datetime'])\n",
    "\n",
    "# Set 'datetime' column as the index\n",
    "df.set_index('datetime', inplace=True)\n",
    "\n",
    "# Assuming 'Consumption (kWh)' is the target column for forecasting\n",
    "data = df['Consumption (kWh)']\n",
    "\n",
    "# Fit ARIMA model\n",
    "model = ARIMA(data, order=(2, 1, 1))  # Example order - (p, d, q)\n",
    "model_fit = model.fit()\n",
    "\n",
    "# Forecast future values\n",
    "forecast_steps = 5  # Number of future steps to predict\n",
    "forecast = model_fit.forecast(steps=forecast_steps)\n",
    "\n",
    "\n",
    "\n",
    "print(\"Forecasted values:\", forecast)\n"
   ]
  },
  {
   "cell_type": "code",
   "execution_count": 23,
   "id": "30da5f87",
   "metadata": {},
   "outputs": [
    {
     "data": {
      "text/plain": [
       "2023-11-29 23:30:00    0.502461\n",
       "2023-11-30 00:00:00    0.485844\n",
       "2023-11-30 00:30:00    0.473954\n",
       "2023-11-30 01:00:00    0.475527\n",
       "2023-11-30 01:30:00    0.476199\n",
       "                         ...   \n",
       "2023-12-01 23:00:00    0.476045\n",
       "2023-12-01 23:30:00    0.476045\n",
       "2023-12-02 00:00:00    0.476045\n",
       "2023-12-02 00:30:00    0.476045\n",
       "2023-12-02 01:00:00    0.476045\n",
       "Freq: 30T, Name: predicted_mean, Length: 100, dtype: float64"
      ]
     },
     "execution_count": 23,
     "metadata": {},
     "output_type": "execute_result"
    }
   ],
   "source": [
    "forecast"
   ]
  },
  {
   "cell_type": "code",
   "execution_count": null,
   "id": "758d3818",
   "metadata": {},
   "outputs": [],
   "source": []
  }
 ],
 "metadata": {
  "kernelspec": {
   "display_name": "Python 3 (ipykernel)",
   "language": "python",
   "name": "python3"
  },
  "language_info": {
   "codemirror_mode": {
    "name": "ipython",
    "version": 3
   },
   "file_extension": ".py",
   "mimetype": "text/x-python",
   "name": "python",
   "nbconvert_exporter": "python",
   "pygments_lexer": "ipython3",
   "version": "3.11.5"
  }
 },
 "nbformat": 4,
 "nbformat_minor": 5
}
